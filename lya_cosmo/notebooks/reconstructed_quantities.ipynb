{
 "cells": [
  {
   "cell_type": "markdown",
   "metadata": {},
   "source": [
    "# Reconstructed quantities\n",
    "\n",
    "This notebook looks at how accurately we can reconstruct various quantities. To avoid having to run `CAMB` each time we perform a likelihood evaluation, we generate a fiducial cosmology and use this in the reconstruction. Previously we have kept fixed the growth rate and $h$ in our simulations, and in these cases the reconstruction of $H(z)$ and the comoving linear power spectrum is extremely accurate. However now we are considering varying $h$ and the growth, and we need to examine how well this reconstruction works in these cases.\n",
    "\n",
    "In this notebook we look at how accurately $H(z)$ is reconstructed. For the comoving linear power spectrum, we focus on $\\Delta^2_p$, $n_p$ and $\\alpha_p$ rather than looking at the full power spectrum, as the full power spectrum is never actually used in the code.\n",
    "\n",
    "We start off by looking at reconstructions of $H(z)$."
   ]
  },
  {
   "cell_type": "code",
   "execution_count": 1,
   "metadata": {
    "collapsed": true
   },
   "outputs": [],
   "source": [
    "import camb_cosmo\n",
    "import camb\n",
    "import recons_cosmo\n",
    "import fit_linP\n",
    "import numpy as np\n",
    "import matplotlib.pyplot as plt"
   ]
  },
  {
   "cell_type": "code",
   "execution_count": 2,
   "metadata": {
    "collapsed": true
   },
   "outputs": [],
   "source": [
    "cosmo_fid = camb_cosmo.get_cosmology() ## Fiducial cosmology\n",
    "cosmo_as=camb_cosmo.get_cosmology(As=2.05e-09) ## Cosmology where we change A_s\n",
    "cosmo_ns=camb_cosmo.get_cosmology(ns=0.92) ## Cosmology where we change n_s\n",
    "cosmo_h=camb_cosmo.get_cosmology(H0=74.) ## Cosmology where we change H0\n",
    "\n",
    "## Fit a LinearPowerModel to each cosmology\n",
    "linP_fid=fit_linP.LinearPowerModel(cosmo=cosmo_fid,k_units=\"kms\")\n",
    "linP_h=fit_linP.LinearPowerModel(cosmo=cosmo_h,k_units=\"kms\")\n",
    "linP_as=fit_linP.LinearPowerModel(cosmo=cosmo_as,k_units=\"kms\")\n",
    "linP_ns=fit_linP.LinearPowerModel(cosmo=cosmo_ns,k_units=\"kms\")\n",
    "\n",
    "zs=[2.0,3.0,5.0] ## zs we're going to test for the power spectrum reconstructions"
   ]
  },
  {
   "cell_type": "code",
   "execution_count": 3,
   "metadata": {
    "collapsed": false
   },
   "outputs": [],
   "source": [
    "## Create a recons_cosmo object\n",
    "recons=recons_cosmo.ReconstructedCosmology(cosmo_fid=cosmo_fid,zs=zs)"
   ]
  },
  {
   "cell_type": "markdown",
   "metadata": {},
   "source": [
    "### Reconstructing $H(z)$\n",
    "Here we test how accurate $H(z)$ reconstructions are. All I'm doing here is comparing the true $H(z)$ as output by `CAMB` with the reconstructed one, although I'm not sure if degeneracies will play a role here.\n"
   ]
  },
  {
   "cell_type": "code",
   "execution_count": 4,
   "metadata": {
    "collapsed": false
   },
   "outputs": [
    {
     "name": "stdout",
     "output_type": "stream",
     "text": [
      "Fiducial parameters: {'f_star': 0.981369557840318, 'g_star': 0.9677508579459803, 'Delta2_star': 0.36017590528641974, 'n_star': -2.299335667257498, 'alpha_star': -0.2165270371206895}\n",
      "Test cosmology parameters: {'f_star': 0.9757862929001873, 'g_star': 0.9577005905767146, 'Delta2_star': 0.36010576390340354, 'n_star': -2.3004640097099234, 'alpha_star': -0.2159969715649751}\n"
     ]
    }
   ],
   "source": [
    "print(\"Fiducial parameters:\", linP_fid.get_params())\n",
    "print(\"Test cosmology parameters:\", linP_h.get_params())"
   ]
  },
  {
   "cell_type": "code",
   "execution_count": 5,
   "metadata": {
    "collapsed": false
   },
   "outputs": [
    {
     "name": "stdout",
     "output_type": "stream",
     "text": [
      "Note: redshifts have been re-sorted (earliest first)\n"
     ]
    }
   ],
   "source": [
    "## Test how well H(z) is reconstructed\n",
    "zs_h=np.linspace(2,5,100).tolist()\n",
    "results_h = camb.get_results(cosmo_h.set_matter_power(redshifts=zs_h, kmax=2.0)) ## Run CAMB on cosmology with h=0.74\n",
    "\n",
    "true_h=np.empty(len(zs_h))\n",
    "recons_h=np.empty(len(zs_h))\n",
    "for aa in range(len(zs_h)):\n",
    "    true_h[aa]=results_h.hubble_parameter(zs_h[aa])\n",
    "    recons_h[aa]=recons.reconstruct_Hubble(zs_h[aa],linP_h) ## Different h to fiducial cosmology"
   ]
  },
  {
   "cell_type": "code",
   "execution_count": 6,
   "metadata": {
    "collapsed": false
   },
   "outputs": [
    {
     "data": {
      "text/plain": [
       "<matplotlib.legend.Legend at 0x11b918ba8>"
      ]
     },
     "execution_count": 6,
     "metadata": {},
     "output_type": "execute_result"
    }
   ],
   "source": [
    "plt.figure(figsize=(10,8))\n",
    "plt.plot(zs_h,recons_h/true_h,label=\"Recons/True, different h\")\n",
    "plt.xlabel(\"z\")\n",
    "plt.ylabel(\"Reconstructed H(z)/True H(z)\")\n",
    "plt.legend()"
   ]
  },
  {
   "cell_type": "markdown",
   "metadata": {},
   "source": [
    "Honestly not sure how much we can read into this plot, I don't think I'm thinking about this in the correct way still. For one thing, there are degeneracies in the way the $\\Lambda$CDM parameters map into our likelihood parameters so I don't know to what extent this is actually a measure of the accuracy of the reconstruction. Secondly, the two places that $H(z)$ is used is in the converstion of the linear power from velocity units to comoving, and the conversion of the $P_{1D}$ from comoving to velocity units, and its hard to say what the required accuracy there is."
   ]
  },
  {
   "cell_type": "markdown",
   "metadata": {},
   "source": [
    "## Comoving linear power\n",
    "\n",
    "The way the code is set up right now, we would not expect it to work in reconstructing the comoving linear power when varying $h$. We label fiducial quantities with the subscript $0$, and the conversion factor from velocity to comoving units is $a_\\nu=(1+z)/H(z)$. The power spectrum in velocity units is $P^\\prime$. The comoving power spectrum is reconstructed using:\n",
    "\n",
    "$$ P(q/a_{\\nu 0})=\\frac{P^\\prime(q)}{P^\\prime_0(q)}P_0(q/a_{\\nu 0}) $$\n",
    "\n",
    "which assumes the same $h$ in each cosmology. This needs to be extended to:\n",
    "\n",
    "$$ P(q/a_{\\nu})=\\bigg(\\frac{H_0(z)}{H(z)}\\bigg)^3\\frac{P^\\prime(q,z)}{P^\\prime_0(q,z)}{P_0(q/a_{\\nu 0})} $$\n",
    "\n",
    "\n",
    "In the plots below I compare these two approaches, labelled 'old' and 'new'."
   ]
  },
  {
   "cell_type": "code",
   "execution_count": 7,
   "metadata": {
    "collapsed": true
   },
   "outputs": [],
   "source": [
    "def print_params(k,pk):\n",
    "    \"\"\" Perform fit on the comoving linear power and print\n",
    "    the emulator parameters \"\"\"\n",
    "    \n",
    "    linP_fit=fit_linP.fit_polynomial(xmin,xmax,k/kp_Mpc,pk)\n",
    "    \n",
    "    # compute parameters used in emulator\n",
    "    lnA_p=linP_fit[0]\n",
    "    Delta2_p=np.exp(lnA_p)*kp_Mpc**3/(2*np.pi**2)\n",
    "    n_p=linP_fit[1]\n",
    "    \n",
    "    # note that the curvature is alpha/2\n",
    "    alpha_p=2.0*linP_fit[2]\n",
    "    params={'Delta2_p':Delta2_p,'n_p':n_p,'alpha_p':alpha_p}\n",
    "    print(params)"
   ]
  },
  {
   "cell_type": "code",
   "execution_count": 8,
   "metadata": {
    "collapsed": true
   },
   "outputs": [],
   "source": [
    "## Set up limits for fit (same as used in the likelihood evaluations)\n",
    "kp_Mpc=recons.kp_Mpc\n",
    "kmin_Mpc=0.5*kp_Mpc\n",
    "kmax_Mpc=2.0*kp_Mpc\n",
    "xmin=kmin_Mpc/kp_Mpc\n",
    "xmax=kmax_Mpc/kp_Mpc"
   ]
  },
  {
   "cell_type": "markdown",
   "metadata": {},
   "source": [
    "#### Simple test case, only $\\Delta^2_\\star$ changed\n",
    "\n",
    "Just to demonstrate that things are working ok, we compare the reconstructed $\\Delta^2_p$, $n_p$ and $\\alpha_p$ when we have changed only $A_s$ in the test cosmology, and show that the comoving values are accurate."
   ]
  },
  {
   "cell_type": "code",
   "execution_count": 9,
   "metadata": {
    "collapsed": false
   },
   "outputs": [
    {
     "name": "stdout",
     "output_type": "stream",
     "text": [
      "\n",
      " z= 2.0\n"
     ]
    },
    {
     "ename": "ValueError",
     "evalue": "too many values to unpack (expected 2)",
     "output_type": "error",
     "traceback": [
      "\u001b[0;31m---------------------------------------------------------------------------\u001b[0m",
      "\u001b[0;31mValueError\u001b[0m                                Traceback (most recent call last)",
      "\u001b[0;32m<ipython-input-9-49392382e54e>\u001b[0m in \u001b[0;36m<module>\u001b[0;34m()\u001b[0m\n\u001b[1;32m      3\u001b[0m \u001b[0;32mfor\u001b[0m \u001b[0maa\u001b[0m \u001b[0;32min\u001b[0m \u001b[0mrange\u001b[0m\u001b[0;34m(\u001b[0m\u001b[0mlen\u001b[0m\u001b[0;34m(\u001b[0m\u001b[0mzs\u001b[0m\u001b[0;34m)\u001b[0m\u001b[0;34m)\u001b[0m\u001b[0;34m:\u001b[0m\u001b[0;34m\u001b[0m\u001b[0;34m\u001b[0m\u001b[0m\n\u001b[1;32m      4\u001b[0m     \u001b[0mprint\u001b[0m\u001b[0;34m(\u001b[0m\u001b[0;34m\"\\n z=\"\u001b[0m\u001b[0;34m,\u001b[0m\u001b[0mzs\u001b[0m\u001b[0;34m[\u001b[0m\u001b[0maa\u001b[0m\u001b[0;34m]\u001b[0m\u001b[0;34m)\u001b[0m\u001b[0;34m\u001b[0m\u001b[0;34m\u001b[0m\u001b[0m\n\u001b[0;32m----> 5\u001b[0;31m     \u001b[0mk_old\u001b[0m\u001b[0;34m,\u001b[0m\u001b[0mpk_old\u001b[0m\u001b[0;34m=\u001b[0m\u001b[0mrecons\u001b[0m\u001b[0;34m.\u001b[0m\u001b[0mreconstruct_linP_Mpc_old\u001b[0m\u001b[0;34m(\u001b[0m\u001b[0mzs\u001b[0m\u001b[0;34m[\u001b[0m\u001b[0maa\u001b[0m\u001b[0;34m]\u001b[0m\u001b[0;34m,\u001b[0m\u001b[0mlinP_as\u001b[0m\u001b[0;34m,\u001b[0m\u001b[0mrecons\u001b[0m\u001b[0;34m.\u001b[0m\u001b[0mlinP_Mpc_fid\u001b[0m\u001b[0;34m[\u001b[0m\u001b[0maa\u001b[0m\u001b[0;34m]\u001b[0m\u001b[0;34m)\u001b[0m\u001b[0;34m\u001b[0m\u001b[0;34m\u001b[0m\u001b[0m\n\u001b[0m\u001b[1;32m      6\u001b[0m     \u001b[0mk_new\u001b[0m\u001b[0;34m,\u001b[0m\u001b[0mpk_new\u001b[0m\u001b[0;34m=\u001b[0m\u001b[0mrecons\u001b[0m\u001b[0;34m.\u001b[0m\u001b[0mreconstruct_linP_Mpc_new\u001b[0m\u001b[0;34m(\u001b[0m\u001b[0mzs\u001b[0m\u001b[0;34m[\u001b[0m\u001b[0maa\u001b[0m\u001b[0;34m]\u001b[0m\u001b[0;34m,\u001b[0m\u001b[0mlinP_as\u001b[0m\u001b[0;34m,\u001b[0m\u001b[0mrecons\u001b[0m\u001b[0;34m.\u001b[0m\u001b[0mlinP_Mpc_fid\u001b[0m\u001b[0;34m[\u001b[0m\u001b[0maa\u001b[0m\u001b[0;34m]\u001b[0m\u001b[0;34m)\u001b[0m\u001b[0;34m\u001b[0m\u001b[0;34m\u001b[0m\u001b[0m\n\u001b[1;32m      7\u001b[0m     \u001b[0mprint\u001b[0m\u001b[0;34m(\u001b[0m\u001b[0;34m\"Old:\"\u001b[0m\u001b[0;34m)\u001b[0m\u001b[0;34m\u001b[0m\u001b[0;34m\u001b[0m\u001b[0m\n",
      "\u001b[0;31mValueError\u001b[0m: too many values to unpack (expected 2)"
     ]
    }
   ],
   "source": [
    "## Compare fit with truth for old and new approaches when changing $Delta2_star$\n",
    "k_true,z_true,pk_true=camb_cosmo.get_linP_Mpc(cosmo_as,zs)\n",
    "for aa in range(len(zs)):\n",
    "    print(\"\\n z=\",zs[aa])\n",
    "    k_old,pk_old=recons.reconstruct_linP_Mpc_old(zs[aa],linP_as,recons.linP_Mpc_fid[aa])\n",
    "    k_new,pk_new=recons.reconstruct_linP_Mpc_new(zs[aa],linP_as,recons.linP_Mpc_fid[aa])\n",
    "    print(\"Old:\")\n",
    "    print_params(k_old,pk_old)\n",
    "    print(\"New:\")\n",
    "    print_params(k_new,pk_new)\n",
    "    print(\"True:\")\n",
    "    print_params(k_true,pk_true[aa])"
   ]
  },
  {
   "cell_type": "markdown",
   "metadata": {},
   "source": [
    "#### Changing $h$\n",
    "\n",
    "Here we do the same with a test cosmology with $h=0.74$. This results in all likelihood parameters changing:"
   ]
  },
  {
   "cell_type": "code",
   "execution_count": null,
   "metadata": {
    "collapsed": false
   },
   "outputs": [],
   "source": [
    "print(\"Fiducial parameters:\", linP_fid.get_params())\n",
    "print(\"Test cosmology parameters:\", linP_h.get_params())"
   ]
  },
  {
   "cell_type": "code",
   "execution_count": null,
   "metadata": {
    "collapsed": false
   },
   "outputs": [],
   "source": [
    "## Now compare with the different h cosmology\n",
    "results_h = camb.get_results(cosmo_h.set_matter_power(redshifts=zs_h, kmax=2.0))\n",
    "k_true,z_true,pk_true=camb_cosmo.get_linP_Mpc(cosmo_h,zs)\n",
    "for aa in range(len(zs)):\n",
    "    print(\"\\n z=\",zs[aa])\n",
    "    k_old,pk_old=recons.reconstruct_linP_Mpc_old(zs[aa],linP_h,recons.linP_Mpc_fid[aa])\n",
    "    k_new,pk_new=recons.reconstruct_linP_Mpc_new(zs[aa],linP_h,recons.linP_Mpc_fid[aa])\n",
    "    print(\"Old:\")\n",
    "    print_params(k_old,pk_old)\n",
    "    print(\"New:\")\n",
    "    print_params(k_new,pk_new)\n",
    "    print(\"True:\")\n",
    "    print_params(k_true,pk_true[aa])"
   ]
  },
  {
   "cell_type": "markdown",
   "metadata": {},
   "source": [
    "We know that there is some inaccuracy in the $H(z)$ reconstruction that is used in `recons.reconstruct_linP_Mpc_new`, so to temporarily eliminiate this, you can pass `true_H` as an argument to use the $H(z)$ from `CAMB` instead of the reconstructed value."
   ]
  },
  {
   "cell_type": "code",
   "execution_count": null,
   "metadata": {
    "collapsed": false
   },
   "outputs": [],
   "source": [
    "results_h = camb.get_results(cosmo_h.set_matter_power(redshifts=zs_h, kmax=2.0))\n",
    "k_true,z_true,pk_true=camb_cosmo.get_linP_Mpc(cosmo_h,zs)\n",
    "for aa in range(len(zs)):\n",
    "    print(\"\\n z=\",zs[aa])\n",
    "    k_old,pk_old=recons.reconstruct_linP_Mpc_old(zs[aa],linP_h,recons.linP_Mpc_fid[aa])\n",
    "    k_new,pk_new=recons.reconstruct_linP_Mpc_new(zs[aa],linP_h,recons.linP_Mpc_fid[aa],true_H=results_h.hubble_parameter(zs[aa]))\n",
    "    print(\"Old:\")\n",
    "    print_params(k_old,pk_old)\n",
    "    print(\"New:\")\n",
    "    print_params(k_new,pk_new)\n",
    "    print(\"True:\")\n",
    "    print_params(k_true,pk_true[aa])"
   ]
  },
  {
   "cell_type": "markdown",
   "metadata": {},
   "source": [
    "So we see some minor improvement, but still off by $\\approx0.5\\%$ on $\\Delta^2_p$."
   ]
  }
 ],
 "metadata": {
  "kernelspec": {
   "display_name": "Python 3",
   "language": "python",
   "name": "python3"
  },
  "language_info": {
   "codemirror_mode": {
    "name": "ipython",
    "version": 3
   },
   "file_extension": ".py",
   "mimetype": "text/x-python",
   "name": "python",
   "nbconvert_exporter": "python",
   "pygments_lexer": "ipython3",
   "version": "3.6.7"
  }
 },
 "nbformat": 4,
 "nbformat_minor": 4
}
