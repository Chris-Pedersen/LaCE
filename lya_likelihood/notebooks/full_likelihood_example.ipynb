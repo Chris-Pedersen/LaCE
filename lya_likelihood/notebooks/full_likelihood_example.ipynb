{
 "cells": [
  {
   "cell_type": "markdown",
   "metadata": {},
   "source": [
    "## Full likelihood\n",
    "\n",
    "In this notebook we show some example syntax for the new 'full likelihood'. The `likelihood` object remains pretty much the same, but here we use a new `FullTheory` object that replaces `LyaTheory` which deals with the mapping from a set of likelihood parameters (`like_params=[..]`) to a set of emulator calls and a $P_{1\\rm{D}}$ in velocity units. The `FullTheory` object works in Planck units, i.e. $\\omega_b^2$, $\\omega_c^2$, $A_s$, $n_s$ so far, we can add more later on. It uses `CAMB` to map these parameters directly into a set of emulator calls $\\Delta^2_p$, $n_p$, etc at each $z$ where we have data.\n",
    "\n",
    "NB that there is a bit of duplicate code in this iteration which can be tidied up eventually, in that the syntax I use to fit the emulator calls is also found in `fit_linP`, however there the comoving linear power is calculated at each $z$ independently, and I thought it might be faster to give all $z$s to `CAMB` to calculate at once. If it is faster this way, this will matter when it comes to sampling. The other point to note is that I do not currently calculate $f_p$, which is done in the `fit_linP` fits, and I do that as we have not yet trained the emulator on it so I do not yet want to slow down likelihood evaluations calculating an expensive quantitity that is not used.\n",
    "\n",
    "Also to avoid calling `CAMB` twice in different parts of the code, `get_emulator_calls()` now also has an option `return_M_of_z` which will give $M(z)$ for each emulator call, which is then used to convert the comoving $P_{1\\rm{D}}$ into velocity units.\n",
    "\n",
    "First we set up a `data` object and an emulator as normal."
   ]
  },
  {
   "cell_type": "code",
   "execution_count": 1,
   "metadata": {
    "collapsed": true
   },
   "outputs": [],
   "source": [
    "%matplotlib inline\n",
    "import matplotlib.pyplot as plt\n",
    "import matplotlib as mpl\n",
    "mpl.rcParams['savefig.dpi'] = 140\n",
    "mpl.rcParams['figure.dpi'] = 140\n",
    "# our modules\n",
    "import data_MPGADGET\n",
    "import p1d_arxiv\n",
    "import gp_emulator\n",
    "import likelihood\n",
    "import likelihood_parameter\n",
    "import lya_theory\n",
    "import full_theory\n",
    "import camb_cosmo\n",
    "import CAMB_model\n",
    "import fit_linP"
   ]
  },
  {
   "cell_type": "markdown",
   "metadata": {},
   "source": [
    "### Setup mock data, from one of simulations in the suite"
   ]
  },
  {
   "cell_type": "code",
   "execution_count": 2,
   "metadata": {
    "collapsed": false
   },
   "outputs": [
    {
     "name": "stdout",
     "output_type": "stream",
     "text": [
      "Note: redshifts have been re-sorted (earliest first)\n",
      "Note: redshifts have been re-sorted (earliest first)\n"
     ]
    }
   ],
   "source": [
    "# specify simulation suite and P1D mesurements\n",
    "basedir=\"/p1d_emulator/sim_suites/Australia20/\"\n",
    "skewers_label='Ns500_wM0.05'\n",
    "p1d_label=None\n",
    "# specify simulation to use to generate synthetic data\n",
    "test_sim_num=15\n",
    "data=data_MPGADGET.P1D_MPGADGET(sim_number=test_sim_num,\n",
    "                                basedir=basedir,\n",
    "                                skewers_label=skewers_label,\n",
    "                                data_cov_factor=1)"
   ]
  },
  {
   "cell_type": "markdown",
   "metadata": {},
   "source": [
    "### Setup archive of P1D measurements from simulations and train the emulator"
   ]
  },
  {
   "cell_type": "code",
   "execution_count": 3,
   "metadata": {
    "collapsed": true
   },
   "outputs": [],
   "source": [
    "# specify redshift range\n",
    "z_max=4\n",
    "# do not use test_sim_num that was used in generating mock data\n",
    "arxiv=p1d_arxiv.ArxivP1D(basedir=basedir,drop_sim_number=test_sim_num,\n",
    "                            drop_tau_rescalings=True,z_max=z_max,\n",
    "                            drop_temp_rescalings=True,skewers_label=skewers_label)"
   ]
  },
  {
   "cell_type": "code",
   "execution_count": 4,
   "metadata": {
    "collapsed": false
   },
   "outputs": [
    {
     "name": "stderr",
     "output_type": "stream",
     "text": [
      " /Users/font/Programs/Others/anaconda3/lib/python3.6/site-packages/paramz/parameterized.py:61: RuntimeWarning:Don't forget to initialize by self.initialize_parameter()!\n"
     ]
    },
    {
     "name": "stdout",
     "output_type": "stream",
     "text": [
      "Training GP on 270 points\n",
      "Optimised\n"
     ]
    }
   ],
   "source": [
    "# specify parameters to be used in emulator\n",
    "paramList=['mF', 'sigT_Mpc', 'gamma', 'kF_Mpc', 'Delta2_p', 'n_p']\n",
    "# specify k range\n",
    "kmax_Mpc=8\n",
    "# setup GP emulator\n",
    "emu=gp_emulator.GPEmulator(basedir,p1d_label,skewers_label,z_max=z_max,\n",
    "                                verbose=False,paramList=paramList,train=True,\n",
    "                                emu_type=\"k_bin\",passArxiv=arxiv,kmax_Mpc=kmax_Mpc,\n",
    "                                drop_tau_rescalings=True,\n",
    "                                drop_temp_rescalings=True)"
   ]
  },
  {
   "cell_type": "markdown",
   "metadata": {},
   "source": [
    "### Setup and compare theory objects"
   ]
  },
  {
   "cell_type": "markdown",
   "metadata": {},
   "source": [
    "Start by setting up an old theory object, that uses only compressed linP parameters"
   ]
  },
  {
   "cell_type": "code",
   "execution_count": 5,
   "metadata": {
    "collapsed": false
   },
   "outputs": [
    {
     "name": "stdout",
     "output_type": "stream",
     "text": [
      "Note: redshifts have been re-sorted (earliest first)\n",
      "Note: redshifts have been re-sorted (earliest first)\n"
     ]
    }
   ],
   "source": [
    "old_theory=lya_theory.LyaTheory(zs=data.z,emulator=emu)"
   ]
  },
  {
   "cell_type": "markdown",
   "metadata": {},
   "source": [
    "Setup now a new theory object, that holds a CAMB object"
   ]
  },
  {
   "cell_type": "code",
   "execution_count": 6,
   "metadata": {
    "collapsed": false
   },
   "outputs": [],
   "source": [
    "new_theory=full_theory.FullTheory(zs=data.z,emulator=emu)"
   ]
  },
  {
   "cell_type": "code",
   "execution_count": 7,
   "metadata": {
    "collapsed": false
   },
   "outputs": [
    {
     "name": "stdout",
     "output_type": "stream",
     "text": [
      "Note: redshifts have been re-sorted (earliest first)\n",
      "z=2 emulator calls for old theory =  {'Delta2_p': 0.6300728196477859, 'n_p': -2.2994793242105556, 'alpha_p': -0.2163759500235969, 'f_p': 0.9583569136684355, 'mF': 0.8507256483811173, 'gamma': 1.5534927645653829, 'sigT_Mpc': 0.13078611068417573, 'kF_Mpc': 9.234642271117814}\n",
      "z=2 emulator calls for new theory =  {'Delta2_p': 0.6300510342450939, 'n_p': -2.299445461757138, 'alpha_p': -0.2165269830826664, 'mF': 0.8507256483811173, 'gamma': 1.5534927645653829, 'sigT_Mpc': 0.13078611068417573, 'kF_Mpc': 9.234642271117814}\n"
     ]
    }
   ],
   "source": [
    "# compare emulator calls at one of the redshifts\n",
    "old_emu_calls=old_theory.get_emulator_calls()\n",
    "new_emu_calls=new_theory.get_emulator_calls(return_M_of_z=False)\n",
    "print(\"z=2 emulator calls for old theory = \", old_emu_calls[0])\n",
    "print(\"z=2 emulator calls for new theory = \", new_emu_calls[0])"
   ]
  },
  {
   "cell_type": "markdown",
   "metadata": {},
   "source": [
    "Note that the numbers above are not supposed to exactly match, since kp_Mpc is different in both theories"
   ]
  },
  {
   "cell_type": "markdown",
   "metadata": {},
   "source": [
    "### Compare now emulator calls for a different test cosmology (1st, failed attempt)"
   ]
  },
  {
   "cell_type": "code",
   "execution_count": 8,
   "metadata": {
    "collapsed": false
   },
   "outputs": [],
   "source": [
    "As=1.9e-9\n",
    "ns=0.92\n",
    "test_cosmo=camb_cosmo.get_cosmology(As=As,ns=ns)\n",
    "test_camb_model=CAMB_model.CAMBModel(zs=data.z,cosmo=test_cosmo,verbose=False)"
   ]
  },
  {
   "cell_type": "code",
   "execution_count": 9,
   "metadata": {
    "collapsed": false
   },
   "outputs": [
    {
     "name": "stdout",
     "output_type": "stream",
     "text": [
      "Note: redshifts have been re-sorted (earliest first)\n",
      "Note: redshifts have been re-sorted (earliest first)\n"
     ]
    }
   ],
   "source": [
    "old_test_theory=lya_theory.LyaTheory(zs=data.z,emulator=emu,cosmo_fid=test_cosmo,verbose=False)"
   ]
  },
  {
   "cell_type": "code",
   "execution_count": 10,
   "metadata": {
    "collapsed": true
   },
   "outputs": [],
   "source": [
    "new_test_theory=full_theory.FullTheory(zs=data.z,emulator=emu,camb_model_fid=test_camb_model,verbose=False)"
   ]
  },
  {
   "cell_type": "code",
   "execution_count": 11,
   "metadata": {
    "collapsed": false
   },
   "outputs": [
    {
     "name": "stdout",
     "output_type": "stream",
     "text": [
      "Note: redshifts have been re-sorted (earliest first)\n",
      "z=2 emulator calls for old test theory =  {'Delta2_p': 0.5065581715009833, 'n_p': -2.344479324210556, 'alpha_p': -0.2163759500235972, 'f_p': 0.9583569136684355, 'mF': 0.8507256483811173, 'gamma': 1.5534927645653829, 'sigT_Mpc': 0.13078611068417573, 'kF_Mpc': 9.234642271117814}\n",
      "z=2 emulator calls for new test theory =  {'Delta2_p': 0.6300510342450939, 'n_p': -2.299445461757138, 'alpha_p': -0.2165269830826664, 'mF': 0.8507256483811173, 'gamma': 1.5534927645653829, 'sigT_Mpc': 0.13078611068417573, 'kF_Mpc': 9.234642271117814}\n"
     ]
    }
   ],
   "source": [
    "# compare emulator calls at one of the redshifts\n",
    "old_test_emu_calls=old_test_theory.get_emulator_calls()\n",
    "new_test_emu_calls=new_test_theory.get_emulator_calls(return_M_of_z=False)\n",
    "print(\"z=2 emulator calls for old test theory = \", old_test_emu_calls[0])\n",
    "print(\"z=2 emulator calls for new test theory = \", new_test_emu_calls[0])"
   ]
  },
  {
   "cell_type": "markdown",
   "metadata": {},
   "source": [
    "The test did not work because the new theory (full_theory) does not use the input cosmology in get_emulator_calls. We probably want to change this behavior."
   ]
  },
  {
   "cell_type": "markdown",
   "metadata": {},
   "source": [
    "### Compare now emulator calls for a different test cosmology (2nd, successful attempt)"
   ]
  },
  {
   "cell_type": "markdown",
   "metadata": {},
   "source": [
    "Now we will redo the test, but instead of using the test cosmology to define the fiducial cosmologies, we will treat it as a point in the sampling"
   ]
  },
  {
   "cell_type": "code",
   "execution_count": 12,
   "metadata": {
    "collapsed": false
   },
   "outputs": [
    {
     "name": "stdout",
     "output_type": "stream",
     "text": [
      "g_star = 0.9677508579459803\n",
      "f_star = 0.981369557840318\n",
      "Delta2_star = 0.36017590528641974\n",
      "n_star = -2.299335667257498\n",
      "alpha_star = -0.2165270371206895\n"
     ]
    }
   ],
   "source": [
    "# print compressed linP parameters from the fiducial cosmology in the old theory\n",
    "old_linP=fit_linP.LinearPowerModel(cosmo=old_theory.cosmo.cosmo_fid)\n",
    "old_like_params=old_linP.get_likelihood_parameters()\n",
    "for par in old_like_params:\n",
    "    print(par.info_str())"
   ]
  },
  {
   "cell_type": "code",
   "execution_count": 13,
   "metadata": {
    "collapsed": false
   },
   "outputs": [
    {
     "name": "stdout",
     "output_type": "stream",
     "text": [
      "g_star = 0.9677508579459803\n",
      "f_star = 0.9813695578403181\n",
      "Delta2_star = 0.28957717426109336\n",
      "n_star = -2.344335667257508\n",
      "alpha_star = -0.21652703712062632\n"
     ]
    }
   ],
   "source": [
    "# print compressed linP parameters from the test cosmology\n",
    "test_linP=fit_linP.LinearPowerModel(cosmo=test_cosmo)\n",
    "old_test_like_params=test_linP.get_likelihood_parameters()\n",
    "for par in old_test_like_params:\n",
    "    print(par.info_str())"
   ]
  },
  {
   "cell_type": "code",
   "execution_count": 14,
   "metadata": {
    "collapsed": true
   },
   "outputs": [],
   "source": [
    "# call the old theory, but using the freshly computed likelihood parameters from the test cosmology\n",
    "old_test_emu_calls=old_theory.get_emulator_calls(like_params=old_test_like_params)"
   ]
  },
  {
   "cell_type": "code",
   "execution_count": 15,
   "metadata": {
    "collapsed": false
   },
   "outputs": [
    {
     "name": "stdout",
     "output_type": "stream",
     "text": [
      "ombh2 = 0.022\n",
      "omch2 = 0.12\n",
      "As = 2.1e-09\n",
      "ns = 0.965\n"
     ]
    }
   ],
   "source": [
    "# print cosmology parameters from the new theory for the test cosmology\n",
    "new_like_params=new_theory.camb_model_fid.get_likelihood_parameters()\n",
    "for par in new_like_params:\n",
    "    print(par.info_str())"
   ]
  },
  {
   "cell_type": "code",
   "execution_count": 16,
   "metadata": {
    "collapsed": false
   },
   "outputs": [
    {
     "name": "stdout",
     "output_type": "stream",
     "text": [
      "ombh2 = 0.022\n",
      "omch2 = 0.12\n",
      "As = 1.9e-09\n",
      "ns = 0.92\n"
     ]
    }
   ],
   "source": [
    "# print cosmology parameters from new test camb model\n",
    "new_test_like_params=test_camb_model.get_likelihood_parameters()\n",
    "for par in new_test_like_params:\n",
    "    print(par.info_str())"
   ]
  },
  {
   "cell_type": "code",
   "execution_count": 17,
   "metadata": {
    "collapsed": false
   },
   "outputs": [
    {
     "name": "stdout",
     "output_type": "stream",
     "text": [
      "Note: redshifts have been re-sorted (earliest first)\n"
     ]
    }
   ],
   "source": [
    "# call the new theory, but using the freshly computed likelihood parameters for the test cosmology\n",
    "new_test_emu_calls=new_theory.get_emulator_calls(like_params=new_test_like_params,return_M_of_z=False)"
   ]
  },
  {
   "cell_type": "code",
   "execution_count": 18,
   "metadata": {
    "collapsed": false
   },
   "outputs": [
    {
     "name": "stdout",
     "output_type": "stream",
     "text": [
      "z=2 emulator calls for old test theory =  {'Delta2_p': 0.5065711059912054, 'n_p': -2.3444793242105644, 'alpha_p': -0.21637595002353538, 'f_p': 0.9583569136684356, 'mF': 0.8507256483811173, 'gamma': 1.5534927645653829, 'sigT_Mpc': 0.13078611068417573, 'kF_Mpc': 9.234642271117814}\n",
      "z=2 emulator calls for new test theory =  {'Delta2_p': 0.5065420179183718, 'n_p': -2.3444454617571386, 'alpha_p': -0.21652698308265753, 'mF': 0.8507256483811173, 'gamma': 1.5534927645653829, 'sigT_Mpc': 0.13078611068417573, 'kF_Mpc': 9.234642271117814}\n"
     ]
    }
   ],
   "source": [
    "print(\"z=2 emulator calls for old test theory = \", old_test_emu_calls[0])\n",
    "print(\"z=2 emulator calls for new test theory = \", new_test_emu_calls[0])"
   ]
  },
  {
   "cell_type": "markdown",
   "metadata": {},
   "source": [
    "Both new and old theories make the same emulator call for a theory that is not the fiducial!"
   ]
  },
  {
   "cell_type": "markdown",
   "metadata": {},
   "source": [
    "### Test the likelihood objects with old and new theories"
   ]
  },
  {
   "cell_type": "code",
   "execution_count": 19,
   "metadata": {
    "collapsed": false
   },
   "outputs": [
    {
     "name": "stdout",
     "output_type": "stream",
     "text": [
      "likelihood setup with 2 free parameters\n",
      "2 free parameters\n"
     ]
    }
   ],
   "source": [
    "## Set up a likelihood object with the old theory object\n",
    "old_free_params=['Delta2_star','n_star']\n",
    "old_like=likelihood.Likelihood(data=data,theory=old_theory,\n",
    "                            free_parameters=old_free_params,\n",
    "                            free_param_limits=None,\n",
    "                            verbose=True,\n",
    "                            prior_Gauss_rms=0.15,\n",
    "                            emu_cov_factor=1)"
   ]
  },
  {
   "cell_type": "code",
   "execution_count": 20,
   "metadata": {
    "collapsed": false
   },
   "outputs": [
    {
     "name": "stdout",
     "output_type": "stream",
     "text": [
      "likelihood setup with 2 free parameters\n",
      "2 free parameters\n"
     ]
    }
   ],
   "source": [
    "## Set up a likelihood object with the new theory object\n",
    "new_free_params=[\"As\",\"ns\"]\n",
    "new_like=likelihood.Likelihood(data=data,theory=new_theory,\n",
    "                            free_parameters=new_free_params,\n",
    "                            free_param_limits=None,\n",
    "                            verbose=True,\n",
    "                            prior_Gauss_rms=0.15,\n",
    "                            emu_cov_factor=1)"
   ]
  },
  {
   "cell_type": "code",
   "execution_count": 21,
   "metadata": {
    "collapsed": false
   },
   "outputs": [
    {
     "name": "stdout",
     "output_type": "stream",
     "text": [
      "[0.7345060352427981, 0.5066433274250222]\n"
     ]
    }
   ],
   "source": [
    "# figure out values of parameters in unit cube of old theory\n",
    "old_values=[]\n",
    "for parname in old_free_params:\n",
    "    for p in old_like_params:\n",
    "        if p.name==parname:\n",
    "            old_values.append(p.value_in_cube())\n",
    "print(old_values)"
   ]
  },
  {
   "cell_type": "code",
   "execution_count": 22,
   "metadata": {
    "collapsed": false
   },
   "outputs": [
    {
     "name": "stdout",
     "output_type": "stream",
     "text": [
      "got P1D from emulator\n",
      "compute chi2 for z=2.0\n",
      "added 0.20673629807690475 to log_like\n",
      "compute chi2 for z=2.25\n",
      "added -4.839080429252032 to log_like\n",
      "compute chi2 for z=2.5\n",
      "added -5.156546576796529 to log_like\n",
      "compute chi2 for z=2.75\n",
      "added 6.545672499953245 to log_like\n",
      "compute chi2 for z=3.0\n",
      "added 14.737390215043101 to log_like\n",
      "compute chi2 for z=3.25\n",
      "added 12.469957201833417 to log_like\n",
      "compute chi2 for z=3.5\n",
      "added 4.4878427972300585 to log_like\n",
      "compute chi2 for z=3.75\n",
      "added -13.852877393288573 to log_like\n",
      "compute chi2 for z=4.0\n",
      "added -51.00686181445442 to log_like\n"
     ]
    },
    {
     "data": {
      "text/plain": [
       "-36.40776720165483"
      ]
     },
     "execution_count": 22,
     "metadata": {},
     "output_type": "execute_result"
    }
   ],
   "source": [
    "old_like.get_log_like(values=old_values,ignore_log_det_cov=False)"
   ]
  },
  {
   "cell_type": "code",
   "execution_count": 23,
   "metadata": {
    "collapsed": false
   },
   "outputs": [
    {
     "name": "stdout",
     "output_type": "stream",
     "text": [
      "[0.500000000000001, 0.5]\n"
     ]
    }
   ],
   "source": [
    "# figure out values of parameters in unit cube of new theory\n",
    "new_values=[]\n",
    "for parname in new_free_params:\n",
    "    for p in new_like_params:\n",
    "        if p.name==parname:\n",
    "            new_values.append(p.value_in_cube())\n",
    "print(new_values)"
   ]
  },
  {
   "cell_type": "code",
   "execution_count": 24,
   "metadata": {
    "collapsed": false
   },
   "outputs": [
    {
     "name": "stdout",
     "output_type": "stream",
     "text": [
      "Note: redshifts have been re-sorted (earliest first)\n",
      "got P1D from emulator\n",
      "compute chi2 for z=2.0\n",
      "added 0.1976187610996618 to log_like\n",
      "compute chi2 for z=2.25\n",
      "added -4.855247715855395 to log_like\n",
      "compute chi2 for z=2.5\n",
      "added -5.18119514049863 to log_like\n",
      "compute chi2 for z=2.75\n",
      "added 6.5045018796464795 to log_like\n",
      "compute chi2 for z=3.0\n",
      "added 14.710400086327803 to log_like\n",
      "compute chi2 for z=3.25\n",
      "added 12.430543275279808 to log_like\n",
      "compute chi2 for z=3.5\n",
      "added 4.453444056455618 to log_like\n",
      "compute chi2 for z=3.75\n",
      "added -13.863758256651284 to log_like\n",
      "compute chi2 for z=4.0\n",
      "added -51.03583139179855 to log_like\n"
     ]
    },
    {
     "data": {
      "text/plain": [
       "-36.639524445994496"
      ]
     },
     "execution_count": 24,
     "metadata": {},
     "output_type": "execute_result"
    }
   ],
   "source": [
    "new_like.get_log_like(values=new_values,ignore_log_det_cov=False)"
   ]
  },
  {
   "cell_type": "code",
   "execution_count": null,
   "metadata": {
    "collapsed": false
   },
   "outputs": [],
   "source": []
  }
 ],
 "metadata": {
  "kernelspec": {
   "display_name": "Python 3",
   "language": "python",
   "name": "python3"
  },
  "language_info": {
   "codemirror_mode": {
    "name": "ipython",
    "version": 3
   },
   "file_extension": ".py",
   "mimetype": "text/x-python",
   "name": "python",
   "nbconvert_exporter": "python",
   "pygments_lexer": "ipython3",
   "version": "3.6.7"
  }
 },
 "nbformat": 4,
 "nbformat_minor": 4
}
