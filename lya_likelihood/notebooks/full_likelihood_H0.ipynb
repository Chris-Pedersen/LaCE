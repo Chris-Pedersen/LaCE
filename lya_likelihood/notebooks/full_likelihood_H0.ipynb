{
 "cells": [
  {
   "cell_type": "markdown",
   "metadata": {},
   "source": [
    "## Compare likelihoods for theories with different values of H_0\n",
    "\n",
    "We redo the notebook full_likelihood_example, but now varying also H_0"
   ]
  },
  {
   "cell_type": "code",
   "execution_count": 1,
   "metadata": {
    "collapsed": true
   },
   "outputs": [],
   "source": [
    "%matplotlib inline\n",
    "import matplotlib.pyplot as plt\n",
    "import matplotlib as mpl\n",
    "mpl.rcParams['savefig.dpi'] = 140\n",
    "mpl.rcParams['figure.dpi'] = 140\n",
    "# our modules\n",
    "import data_MPGADGET\n",
    "import p1d_arxiv\n",
    "import gp_emulator\n",
    "import likelihood\n",
    "import likelihood_parameter\n",
    "import lya_theory\n",
    "import full_theory\n",
    "import camb_cosmo\n",
    "import CAMB_model\n",
    "import fit_linP"
   ]
  },
  {
   "cell_type": "markdown",
   "metadata": {},
   "source": [
    "### Setup mock data, from one of simulations in the suite"
   ]
  },
  {
   "cell_type": "code",
   "execution_count": 2,
   "metadata": {
    "collapsed": false
   },
   "outputs": [
    {
     "name": "stdout",
     "output_type": "stream",
     "text": [
      "Note: redshifts have been re-sorted (earliest first)\n",
      "Note: redshifts have been re-sorted (earliest first)\n"
     ]
    }
   ],
   "source": [
    "# specify simulation suite and P1D mesurements\n",
    "basedir=\"/p1d_emulator/sim_suites/Australia20/\"\n",
    "skewers_label='Ns500_wM0.05'\n",
    "p1d_label=None\n",
    "# specify simulation to use to generate synthetic data\n",
    "test_sim_num=15\n",
    "data=data_MPGADGET.P1D_MPGADGET(sim_number=test_sim_num,\n",
    "                                basedir=basedir,\n",
    "                                skewers_label=skewers_label,\n",
    "                                data_cov_factor=1)"
   ]
  },
  {
   "cell_type": "markdown",
   "metadata": {},
   "source": [
    "### Setup archive of P1D measurements from simulations and train the emulator"
   ]
  },
  {
   "cell_type": "code",
   "execution_count": 3,
   "metadata": {
    "collapsed": true
   },
   "outputs": [],
   "source": [
    "# specify redshift range\n",
    "z_max=4\n",
    "# do not use test_sim_num that was used in generating mock data\n",
    "arxiv=p1d_arxiv.ArxivP1D(basedir=basedir,drop_sim_number=test_sim_num,\n",
    "                            drop_tau_rescalings=True,z_max=z_max,\n",
    "                            drop_temp_rescalings=True,skewers_label=skewers_label)"
   ]
  },
  {
   "cell_type": "code",
   "execution_count": 4,
   "metadata": {
    "collapsed": false
   },
   "outputs": [
    {
     "name": "stderr",
     "output_type": "stream",
     "text": [
      " /Users/font/Programs/Others/anaconda3/lib/python3.6/site-packages/paramz/parameterized.py:61: RuntimeWarning:Don't forget to initialize by self.initialize_parameter()!\n"
     ]
    },
    {
     "name": "stdout",
     "output_type": "stream",
     "text": [
      "Training GP on 270 points\n",
      "Optimised\n"
     ]
    }
   ],
   "source": [
    "# specify parameters to be used in emulator\n",
    "paramList=['mF', 'sigT_Mpc', 'gamma', 'kF_Mpc', 'Delta2_p', 'n_p']\n",
    "# specify k range\n",
    "kmax_Mpc=8\n",
    "# setup GP emulator\n",
    "emu=gp_emulator.GPEmulator(basedir,p1d_label,skewers_label,z_max=z_max,\n",
    "                                verbose=False,paramList=paramList,train=True,\n",
    "                                emu_type=\"k_bin\",passArxiv=arxiv,kmax_Mpc=kmax_Mpc,\n",
    "                                drop_tau_rescalings=True,\n",
    "                                drop_temp_rescalings=True)"
   ]
  },
  {
   "cell_type": "markdown",
   "metadata": {},
   "source": [
    "### Setup and compare theory objects"
   ]
  },
  {
   "cell_type": "markdown",
   "metadata": {},
   "source": [
    "Start by setting up an old theory object, that uses only compressed linP parameters"
   ]
  },
  {
   "cell_type": "code",
   "execution_count": 5,
   "metadata": {
    "collapsed": false
   },
   "outputs": [
    {
     "name": "stdout",
     "output_type": "stream",
     "text": [
      "Note: redshifts have been re-sorted (earliest first)\n",
      "Note: redshifts have been re-sorted (earliest first)\n"
     ]
    }
   ],
   "source": [
    "old_theory=lya_theory.LyaTheory(zs=data.z,emulator=emu)"
   ]
  },
  {
   "cell_type": "markdown",
   "metadata": {},
   "source": [
    "Setup now a new theory object, that holds a CAMB object"
   ]
  },
  {
   "cell_type": "code",
   "execution_count": 6,
   "metadata": {
    "collapsed": false
   },
   "outputs": [],
   "source": [
    "new_theory=full_theory.FullTheory(zs=data.z,emulator=emu)"
   ]
  },
  {
   "cell_type": "code",
   "execution_count": 7,
   "metadata": {
    "collapsed": false
   },
   "outputs": [
    {
     "name": "stdout",
     "output_type": "stream",
     "text": [
      "Note: redshifts have been re-sorted (earliest first)\n",
      "z=2 emulator calls for old theory =  {'Delta2_p': 0.6300728196477859, 'n_p': -2.2994793242105556, 'alpha_p': -0.2163759500235969, 'f_p': 0.9583569136684355, 'mF': 0.8507256483811173, 'gamma': 1.5534927645653829, 'sigT_Mpc': 0.13078611068417573, 'kF_Mpc': 9.234642271117814}\n",
      "z=2 emulator calls for new theory =  {'Delta2_p': 0.6301020569149606, 'n_p': -2.2994471404944634, 'alpha_p': -0.21652936468729186, 'mF': 0.8507256483811173, 'gamma': 1.5534927645653829, 'sigT_Mpc': 0.13078611068417573, 'kF_Mpc': 9.234642271117814}\n"
     ]
    }
   ],
   "source": [
    "# compare emulator calls at one of the redshifts\n",
    "old_emu_calls=old_theory.get_emulator_calls()\n",
    "new_emu_calls=new_theory.get_emulator_calls(return_M_of_z=False)\n",
    "print(\"z=2 emulator calls for old theory = \", old_emu_calls[0])\n",
    "print(\"z=2 emulator calls for new theory = \", new_emu_calls[0])"
   ]
  },
  {
   "cell_type": "markdown",
   "metadata": {},
   "source": [
    "Note that the numbers above are not supposed to exactly match, since kp_Mpc is different in both theories"
   ]
  },
  {
   "cell_type": "markdown",
   "metadata": {},
   "source": [
    "### Compare now emulator calls for a different test cosmology"
   ]
  },
  {
   "cell_type": "code",
   "execution_count": 8,
   "metadata": {
    "collapsed": false
   },
   "outputs": [],
   "source": [
    "As=1.9e-9\n",
    "ns=0.92\n",
    "H0=74.0\n",
    "test_cosmo=camb_cosmo.get_cosmology(H0=H0,As=As,ns=ns)\n",
    "test_camb_model=CAMB_model.CAMBModel(zs=data.z,cosmo=test_cosmo)"
   ]
  },
  {
   "cell_type": "code",
   "execution_count": 9,
   "metadata": {
    "collapsed": false
   },
   "outputs": [
    {
     "name": "stdout",
     "output_type": "stream",
     "text": [
      "g_star = 0.9677508579459803\n",
      "f_star = 0.981369557840318\n",
      "Delta2_star = 0.36017590528641974\n",
      "n_star = -2.299335667257498\n",
      "alpha_star = -0.2165270371206895\n"
     ]
    }
   ],
   "source": [
    "# print compressed linP parameters from the fiducial cosmology in the old theory\n",
    "old_linP=fit_linP.LinearPowerModel(cosmo=old_theory.cosmo.cosmo_fid)\n",
    "old_like_params=old_linP.get_likelihood_parameters()\n",
    "for par in old_like_params:\n",
    "    print(par.info_str())"
   ]
  },
  {
   "cell_type": "code",
   "execution_count": 10,
   "metadata": {
    "collapsed": false
   },
   "outputs": [
    {
     "name": "stdout",
     "output_type": "stream",
     "text": [
      "g_star = 0.9577005905767146\n",
      "f_star = 0.975786292900187\n",
      "Delta2_star = 0.2894527099942636\n",
      "n_star = -2.3454640097099224\n",
      "alpha_star = -0.21599697156493478\n"
     ]
    }
   ],
   "source": [
    "# print compressed linP parameters from the test cosmology\n",
    "test_linP=fit_linP.LinearPowerModel(cosmo=test_cosmo)\n",
    "old_test_like_params=test_linP.get_likelihood_parameters()\n",
    "for par in old_test_like_params:\n",
    "    print(par.info_str())"
   ]
  },
  {
   "cell_type": "code",
   "execution_count": 11,
   "metadata": {
    "collapsed": false
   },
   "outputs": [
    {
     "name": "stdout",
     "output_type": "stream",
     "text": [
      "Delta2_star = 0.2894527099942636\n",
      "n_star = -2.3454640097099224\n"
     ]
    }
   ],
   "source": [
    "# we want to study also cases where we ignore some of the parameters\n",
    "#cull_params=[]\n",
    "cull_params=['f_star','g_star','alpha_star']\n",
    "culled_like_params = [par for par in old_test_like_params if par.name not in cull_params]\n",
    "for par in culled_like_params:\n",
    "    print(par.info_str())"
   ]
  },
  {
   "cell_type": "code",
   "execution_count": 12,
   "metadata": {
    "collapsed": true
   },
   "outputs": [],
   "source": [
    "# call the old theory, but using the freshly computed likelihood parameters from the test cosmology\n",
    "old_test_emu_calls=old_theory.get_emulator_calls(like_params=culled_like_params)"
   ]
  },
  {
   "cell_type": "code",
   "execution_count": 13,
   "metadata": {
    "collapsed": false
   },
   "outputs": [
    {
     "name": "stdout",
     "output_type": "stream",
     "text": [
      "ombh2 = 0.022\n",
      "omch2 = 0.12\n",
      "As = 2.1e-09\n",
      "ns = 0.965\n",
      "H0 = 67.0\n"
     ]
    }
   ],
   "source": [
    "# print cosmology parameters from the new theory for the test cosmology\n",
    "new_like_params=new_theory.camb_model_fid.get_likelihood_parameters()\n",
    "for par in new_like_params:\n",
    "    print(par.info_str())"
   ]
  },
  {
   "cell_type": "code",
   "execution_count": 14,
   "metadata": {
    "collapsed": false
   },
   "outputs": [
    {
     "name": "stdout",
     "output_type": "stream",
     "text": [
      "ombh2 = 0.022\n",
      "omch2 = 0.12\n",
      "As = 1.9e-09\n",
      "ns = 0.92\n",
      "H0 = 74.0\n"
     ]
    }
   ],
   "source": [
    "# print cosmology parameters from new test camb model\n",
    "new_test_like_params=test_camb_model.get_likelihood_parameters()\n",
    "for par in new_test_like_params:\n",
    "    print(par.info_str())"
   ]
  },
  {
   "cell_type": "code",
   "execution_count": 15,
   "metadata": {
    "collapsed": false
   },
   "outputs": [
    {
     "name": "stdout",
     "output_type": "stream",
     "text": [
      "Note: redshifts have been re-sorted (earliest first)\n"
     ]
    }
   ],
   "source": [
    "# call the new theory, but using the freshly computed likelihood parameters for the test cosmology\n",
    "new_test_emu_calls=new_theory.get_emulator_calls(like_params=new_test_like_params,return_M_of_z=False)"
   ]
  },
  {
   "cell_type": "code",
   "execution_count": 16,
   "metadata": {
    "collapsed": false
   },
   "outputs": [
    {
     "name": "stdout",
     "output_type": "stream",
     "text": [
      "z=2 emulator calls for old test theory =  {'Delta2_p': 0.506353374737127, 'n_p': -2.3456076666629793, 'alpha_p': -0.21637595002359608, 'f_p': 0.9583569136684355, 'mF': 0.8507256483811173, 'gamma': 1.5534927645653829, 'sigT_Mpc': 0.13078611068417573, 'kF_Mpc': 9.234642271117814}\n",
      "z=2 emulator calls for new test theory =  {'Delta2_p': 0.5021783618635486, 'n_p': -2.3444376892101615, 'alpha_p': -0.21653624850999953, 'mF': 0.8507256483811173, 'gamma': 1.5534927645653829, 'sigT_Mpc': 0.12925597769550834, 'kF_Mpc': 9.34396201809978}\n"
     ]
    }
   ],
   "source": [
    "print(\"z=2 emulator calls for old test theory = \", old_test_emu_calls[0])\n",
    "print(\"z=2 emulator calls for new test theory = \", new_test_emu_calls[0])"
   ]
  },
  {
   "cell_type": "code",
   "execution_count": 17,
   "metadata": {
    "collapsed": false
   },
   "outputs": [
    {
     "name": "stdout",
     "output_type": "stream",
     "text": [
      "z = 4.0 emulator calls for old test theory = {'Delta2_p': 0.18648788535182184, 'n_p': -2.3456082035193075, 'alpha_p': -0.21637634322605842, 'f_p': 0.9898232760729386, 'mF': 0.3667549106286143, 'gamma': 1.4366944565860078, 'sigT_Mpc': 0.1124868806234996, 'kF_Mpc': 12.841201989686333}\n",
      "z = 4.0 emulator calls for new test theory = {'Delta2_p': 0.18619752156110378, 'n_p': -2.3444374213597414, 'alpha_p': -0.21653545860707465, 'mF': 0.3667549106286143, 'gamma': 1.4366944565860078, 'sigT_Mpc': 0.1121811457105948, 'kF_Mpc': 12.876198991607117}\n"
     ]
    }
   ],
   "source": [
    "print(\"z = {} emulator calls for old test theory = {}\".format(data.z[-1],old_test_emu_calls[-1]))\n",
    "print(\"z = {} emulator calls for new test theory = {}\".format(data.z[-1],new_test_emu_calls[-1]))"
   ]
  },
  {
   "cell_type": "markdown",
   "metadata": {},
   "source": [
    "Both new and old theories make the same emulator call for a theory that is not the fiducial!"
   ]
  },
  {
   "cell_type": "markdown",
   "metadata": {},
   "source": [
    "### Test the likelihood objects with old and new theories"
   ]
  },
  {
   "cell_type": "code",
   "execution_count": 18,
   "metadata": {
    "collapsed": false
   },
   "outputs": [
    {
     "name": "stdout",
     "output_type": "stream",
     "text": [
      "likelihood setup with 5 free parameters\n",
      "5 free parameters\n"
     ]
    }
   ],
   "source": [
    "## Set up a likelihood object with the old theory object\n",
    "#old_free_params=['Delta2_star','n_star']\n",
    "old_free_params=['Delta2_star','n_star','alpha_star','f_star','g_star']\n",
    "old_like=likelihood.Likelihood(data=data,theory=old_theory,\n",
    "                            free_parameters=old_free_params,\n",
    "                            free_param_limits=None,\n",
    "                            verbose=True,\n",
    "                            prior_Gauss_rms=0.15,\n",
    "                            emu_cov_factor=1)"
   ]
  },
  {
   "cell_type": "code",
   "execution_count": 19,
   "metadata": {
    "collapsed": false
   },
   "outputs": [
    {
     "name": "stdout",
     "output_type": "stream",
     "text": [
      "likelihood setup with 3 free parameters\n",
      "3 free parameters\n"
     ]
    }
   ],
   "source": [
    "## Set up a likelihood object with the new theory object\n",
    "new_free_params=[\"As\",\"ns\",\"H0\"]\n",
    "new_like=likelihood.Likelihood(data=data,theory=new_theory,\n",
    "                            free_parameters=new_free_params,\n",
    "                            free_param_limits=None,\n",
    "                            verbose=True,\n",
    "                            prior_Gauss_rms=0.15,\n",
    "                            emu_cov_factor=1)"
   ]
  },
  {
   "cell_type": "code",
   "execution_count": 20,
   "metadata": {
    "collapsed": false
   },
   "outputs": [
    {
     "name": "stdout",
     "output_type": "stream",
     "text": [
      "Delta2_star = 0.2894527099942636 0.2630180666284239\n",
      "n_star = -2.3454640097099224 0.0453599029007767\n",
      "alpha_star = -0.21599697156493478 0.49093662213695666\n",
      "f_star = 0.975786292900187 0.6446573225046764\n",
      "g_star = 0.9577005905767146 0.1925147644178669\n"
     ]
    }
   ],
   "source": [
    "# figure out values of parameters in unit cube of old theory\n",
    "old_values=[]\n",
    "for parname in old_free_params:\n",
    "    for p in old_test_like_params:\n",
    "        if p.name==parname:\n",
    "            old_values.append(p.value_in_cube())\n",
    "            print(p.info_str(),p.value_in_cube())"
   ]
  },
  {
   "cell_type": "code",
   "execution_count": 21,
   "metadata": {
    "collapsed": false
   },
   "outputs": [
    {
     "name": "stdout",
     "output_type": "stream",
     "text": [
      "got P1D from emulator\n",
      "compute chi2 for z=2.0\n",
      "added 8.184625602503239 to log_like\n",
      "compute chi2 for z=2.25\n",
      "added 4.813169958628212 to log_like\n",
      "compute chi2 for z=2.5\n",
      "added 4.626964125584976 to log_like\n",
      "compute chi2 for z=2.75\n",
      "added 3.4852915251582104 to log_like\n",
      "compute chi2 for z=3.0\n",
      "added -2.1899100227492525 to log_like\n",
      "compute chi2 for z=3.25\n",
      "added -19.278870237904197 to log_like\n",
      "compute chi2 for z=3.5\n",
      "added -27.40465442500836 to log_like\n",
      "compute chi2 for z=3.75\n",
      "added -28.855445305273857 to log_like\n",
      "compute chi2 for z=4.0\n",
      "added -77.57135722276624 to log_like\n"
     ]
    },
    {
     "data": {
      "text/plain": [
       "-134.19018600182727"
      ]
     },
     "execution_count": 21,
     "metadata": {},
     "output_type": "execute_result"
    }
   ],
   "source": [
    "old_like.get_log_like(values=old_values,ignore_log_det_cov=False)"
   ]
  },
  {
   "cell_type": "code",
   "execution_count": 22,
   "metadata": {
    "collapsed": false
   },
   "outputs": [
    {
     "name": "stdout",
     "output_type": "stream",
     "text": [
      "As = 1.9e-09 -0.500000000000001\n",
      "ns = 0.92 -0.9999999999999963\n",
      "H0 = 74.0 0.7857142857142857\n"
     ]
    }
   ],
   "source": [
    "# figure out values of parameters in unit cube of new theory\n",
    "new_values=[]\n",
    "for parname in new_free_params:\n",
    "    for p in new_test_like_params:\n",
    "        if p.name==parname:\n",
    "            new_values.append(p.value_in_cube())\n",
    "            print(p.info_str(),p.value_in_cube())"
   ]
  },
  {
   "cell_type": "code",
   "execution_count": 23,
   "metadata": {
    "collapsed": false
   },
   "outputs": [
    {
     "name": "stdout",
     "output_type": "stream",
     "text": [
      "Note: redshifts have been re-sorted (earliest first)\n",
      "got P1D from emulator\n",
      "compute chi2 for z=2.0\n",
      "added 15.879095336961376 to log_like\n",
      "compute chi2 for z=2.25\n",
      "added 15.229304550980343 to log_like\n",
      "compute chi2 for z=2.5\n",
      "added 18.01540725878957 to log_like\n",
      "compute chi2 for z=2.75\n",
      "added 19.96494853901998 to log_like\n",
      "compute chi2 for z=3.0\n",
      "added 13.544235386182136 to log_like\n",
      "compute chi2 for z=3.25\n",
      "added 3.3186223483627657 to log_like\n",
      "compute chi2 for z=3.5\n",
      "added 5.9746629761540255 to log_like\n",
      "compute chi2 for z=3.75\n",
      "added -14.636483421323852 to log_like\n",
      "compute chi2 for z=4.0\n",
      "added -29.776221794743762 to log_like\n"
     ]
    },
    {
     "data": {
      "text/plain": [
       "47.513571180382584"
      ]
     },
     "execution_count": 23,
     "metadata": {},
     "output_type": "execute_result"
    }
   ],
   "source": [
    "new_like.get_log_like(values=new_values,ignore_log_det_cov=False)"
   ]
  },
  {
   "cell_type": "code",
   "execution_count": null,
   "metadata": {
    "collapsed": false
   },
   "outputs": [],
   "source": []
  },
  {
   "cell_type": "code",
   "execution_count": null,
   "metadata": {
    "collapsed": true
   },
   "outputs": [],
   "source": []
  }
 ],
 "metadata": {
  "kernelspec": {
   "display_name": "Python 3",
   "language": "python",
   "name": "python3"
  },
  "language_info": {
   "codemirror_mode": {
    "name": "ipython",
    "version": 3
   },
   "file_extension": ".py",
   "mimetype": "text/x-python",
   "name": "python",
   "nbconvert_exporter": "python",
   "pygments_lexer": "ipython3",
   "version": "3.6.7"
  }
 },
 "nbformat": 4,
 "nbformat_minor": 4
}
