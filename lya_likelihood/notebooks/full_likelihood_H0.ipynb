{
 "cells": [
  {
   "cell_type": "markdown",
   "metadata": {},
   "source": [
    "## Compare likelihoods for theories with different values of H_0\n",
    "\n",
    "We redo the notebook full_likelihood_example, but now varying also H_0"
   ]
  },
  {
   "cell_type": "code",
   "execution_count": 1,
   "metadata": {
    "collapsed": true
   },
   "outputs": [],
   "source": [
    "%matplotlib inline\n",
    "import matplotlib.pyplot as plt\n",
    "import matplotlib as mpl\n",
    "mpl.rcParams['savefig.dpi'] = 140\n",
    "mpl.rcParams['figure.dpi'] = 140\n",
    "# our modules\n",
    "import data_MPGADGET\n",
    "import p1d_arxiv\n",
    "import gp_emulator\n",
    "import likelihood\n",
    "import likelihood_parameter\n",
    "import lya_theory\n",
    "import full_theory\n",
    "import camb_cosmo\n",
    "import CAMB_model\n",
    "import fit_linP"
   ]
  },
  {
   "cell_type": "markdown",
   "metadata": {},
   "source": [
    "### Setup mock data, from one of simulations in the suite"
   ]
  },
  {
   "cell_type": "code",
   "execution_count": 2,
   "metadata": {
    "collapsed": false
   },
   "outputs": [
    {
     "name": "stdout",
     "output_type": "stream",
     "text": [
      "Note: redshifts have been re-sorted (earliest first)\n",
      "Note: redshifts have been re-sorted (earliest first)\n"
     ]
    }
   ],
   "source": [
    "# specify simulation suite and P1D mesurements\n",
    "basedir=\"/p1d_emulator/sim_suites/Australia20/\"\n",
    "skewers_label='Ns500_wM0.05'\n",
    "p1d_label=None\n",
    "# specify simulation to use to generate synthetic data\n",
    "test_sim_num=15\n",
    "data=data_MPGADGET.P1D_MPGADGET(sim_number=test_sim_num,\n",
    "                                basedir=basedir,\n",
    "                                skewers_label=skewers_label,\n",
    "                                data_cov_factor=1)"
   ]
  },
  {
   "cell_type": "markdown",
   "metadata": {},
   "source": [
    "### Setup archive of P1D measurements from simulations and train the emulator"
   ]
  },
  {
   "cell_type": "code",
   "execution_count": 3,
   "metadata": {
    "collapsed": true
   },
   "outputs": [],
   "source": [
    "# specify redshift range\n",
    "z_max=4\n",
    "# do not use test_sim_num that was used in generating mock data\n",
    "arxiv=p1d_arxiv.ArxivP1D(basedir=basedir,drop_sim_number=test_sim_num,\n",
    "                            drop_tau_rescalings=True,z_max=z_max,\n",
    "                            drop_temp_rescalings=True,skewers_label=skewers_label)"
   ]
  },
  {
   "cell_type": "code",
   "execution_count": 4,
   "metadata": {
    "collapsed": false
   },
   "outputs": [
    {
     "name": "stderr",
     "output_type": "stream",
     "text": [
      " /Users/font/Programs/Others/anaconda3/lib/python3.6/site-packages/paramz/parameterized.py:61: RuntimeWarning:Don't forget to initialize by self.initialize_parameter()!\n"
     ]
    },
    {
     "name": "stdout",
     "output_type": "stream",
     "text": [
      "Training GP on 270 points\n",
      "Optimised\n"
     ]
    }
   ],
   "source": [
    "# specify parameters to be used in emulator\n",
    "paramList=['mF', 'sigT_Mpc', 'gamma', 'kF_Mpc', 'Delta2_p', 'n_p']\n",
    "# specify k range\n",
    "kmax_Mpc=8\n",
    "# setup GP emulator\n",
    "emu=gp_emulator.GPEmulator(basedir,p1d_label,skewers_label,z_max=z_max,\n",
    "                                verbose=False,paramList=paramList,train=True,\n",
    "                                emu_type=\"k_bin\",passArxiv=arxiv,kmax_Mpc=kmax_Mpc,\n",
    "                                drop_tau_rescalings=True,\n",
    "                                drop_temp_rescalings=True)"
   ]
  },
  {
   "cell_type": "markdown",
   "metadata": {},
   "source": [
    "### Setup and compare theory objects"
   ]
  },
  {
   "cell_type": "markdown",
   "metadata": {},
   "source": [
    "Start by setting up an old theory object, that uses only compressed linP parameters"
   ]
  },
  {
   "cell_type": "code",
   "execution_count": 5,
   "metadata": {
    "collapsed": false
   },
   "outputs": [
    {
     "name": "stdout",
     "output_type": "stream",
     "text": [
      "Note: redshifts have been re-sorted (earliest first)\n",
      "Note: redshifts have been re-sorted (earliest first)\n"
     ]
    }
   ],
   "source": [
    "old_theory=lya_theory.LyaTheory(zs=data.z,emulator=emu,verbose=True)"
   ]
  },
  {
   "cell_type": "markdown",
   "metadata": {},
   "source": [
    "Setup now a new theory object, that holds a CAMB object"
   ]
  },
  {
   "cell_type": "code",
   "execution_count": 6,
   "metadata": {
    "collapsed": false
   },
   "outputs": [],
   "source": [
    "new_theory=full_theory.FullTheory(zs=data.z,emulator=emu,verbose=True)"
   ]
  },
  {
   "cell_type": "code",
   "execution_count": 7,
   "metadata": {
    "collapsed": false
   },
   "outputs": [
    {
     "name": "stdout",
     "output_type": "stream",
     "text": [
      "0 2.0 model {'Delta2_p': 0.6300728196477859, 'n_p': -2.2994793242105556, 'alpha_p': -0.2163759500235969, 'f_p': 0.9583569136684355, 'mF': 0.8507256483811173, 'gamma': 1.5534927645653829, 'sigT_Mpc': 0.13078611068417573, 'kF_Mpc': 9.234642271117814}\n",
      "1 2.25 model {'Delta2_p': 0.5400906361802847, 'n_p': -2.2994795007686575, 'alpha_p': -0.21637592419496002, 'f_p': 0.9666989020097663, 'mF': 0.8145423945568311, 'gamma': 1.5449855838581277, 'sigT_Mpc': 0.13051263566195997, 'kF_Mpc': 9.574544756852742}\n",
      "2 2.5 model {'Delta2_p': 0.46777658657004356, 'n_p': -2.299479573535976, 'alpha_p': -0.21637620821376063, 'f_p': 0.9729433890617769, 'mF': 0.7709160253724354, 'gamma': 1.535466821877, 'sigT_Mpc': 0.12986720978610813, 'kF_Mpc': 9.91377946463774}\n",
      "3 2.75 model {'Delta2_p': 0.40887628967130535, 'n_p': -2.299479391313876, 'alpha_p': -0.21637623273087048, 'f_p': 0.9776963475296402, 'mF': 0.7191184346490203, 'gamma': 1.5246254858011445, 'sigT_Mpc': 0.1290634736772292, 'kF_Mpc': 10.258134266642541}\n",
      "4 3.0 model {'Delta2_p': 0.36031650137680626, 'n_p': -2.2994794594828254, 'alpha_p': -0.21637600594737977, 'f_p': 0.9813695511850136, 'mF': 0.660167067771907, 'gamma': 1.5121709239991827, 'sigT_Mpc': 0.12810207002816792, 'kF_Mpc': 10.6348381789184}\n",
      "5 3.25 model {'Delta2_p': 0.31984164919098185, 'n_p': -2.299479627842781, 'alpha_p': -0.21637676450266438, 'f_p': 0.9842428923336671, 'mF': 0.594053238064041, 'gamma': 1.4976862040208383, 'sigT_Mpc': 0.12676966439967063, 'kF_Mpc': 11.064299239950307}\n",
      "6 3.5 model {'Delta2_p': 0.285770526142124, 'n_p': -2.299479463902073, 'alpha_p': -0.21637659309364368, 'f_p': 0.9865195811690295, 'mF': 0.5234547710339326, 'gamma': 1.4804211385932953, 'sigT_Mpc': 0.1250095291325381, 'kF_Mpc': 11.557444925607046}\n",
      "7 3.75 model {'Delta2_p': 0.2568323071831281, 'n_p': -2.299479752216643, 'alpha_p': -0.21637650092951052, 'f_p': 0.9883434136490421, 'mF': 0.4470762255155257, 'gamma': 1.4561190023186836, 'sigT_Mpc': 0.11952938764038437, 'kF_Mpc': 12.137943241597341}\n",
      "8 4.0 model {'Delta2_p': 0.23205325295753354, 'n_p': -2.299479861066885, 'alpha_p': -0.216376343226051, 'f_p': 0.9898232760729386, 'mF': 0.3667549106286143, 'gamma': 1.4366944565860078, 'sigT_Mpc': 0.1124868806234996, 'kF_Mpc': 12.841201989686333}\n",
      "Note: redshifts have been re-sorted (earliest first)\n",
      "0 2.0 model {'Delta2_p': 0.6301020569149606, 'n_p': -2.2994471404944634, 'alpha_p': -0.21652936468729186, 'mF': 0.8507256483811173, 'gamma': 1.5534927645653829, 'sigT_Mpc': 0.13078611068417573, 'kF_Mpc': 9.234642271117814}\n",
      "1 2.25 model {'Delta2_p': 0.5401143170832934, 'n_p': -2.29944710294489, 'alpha_p': -0.21653015107522613, 'mF': 0.8145423945568311, 'gamma': 1.5449855838581277, 'sigT_Mpc': 0.13051263566195997, 'kF_Mpc': 9.574544756852742}\n",
      "2 2.5 model {'Delta2_p': 0.4677957245536806, 'n_p': -2.299447107345491, 'alpha_p': -0.2165292635641581, 'mF': 0.7709160253724354, 'gamma': 1.535466821877, 'sigT_Mpc': 0.12986720978610813, 'kF_Mpc': 9.91377946463774}\n",
      "3 2.75 model {'Delta2_p': 0.4088918956242491, 'n_p': -2.299447113528968, 'alpha_p': -0.2165300105642425, 'mF': 0.7191184346490203, 'gamma': 1.5246254858011445, 'sigT_Mpc': 0.1290634736772292, 'kF_Mpc': 10.258134266642541}\n",
      "4 3.0 model {'Delta2_p': 0.36032917754805077, 'n_p': -2.29944714097795, 'alpha_p': -0.21652967998711867, 'mF': 0.660167067771907, 'gamma': 1.5121709239991827, 'sigT_Mpc': 0.12810207002816792, 'kF_Mpc': 10.6348381789184}\n",
      "5 3.25 model {'Delta2_p': 0.3198518743235602, 'n_p': -2.29944702377217, 'alpha_p': -0.21652955737716217, 'mF': 0.594053238064041, 'gamma': 1.4976862040208383, 'sigT_Mpc': 0.12676966439967063, 'kF_Mpc': 11.064299239950307}\n",
      "6 3.5 model {'Delta2_p': 0.2857787861210292, 'n_p': -2.299447125347, 'alpha_p': -0.2165296565319498, 'mF': 0.5234547710339326, 'gamma': 1.4804211385932953, 'sigT_Mpc': 0.1250095291325381, 'kF_Mpc': 11.557444925607046}\n",
      "7 3.75 model {'Delta2_p': 0.256838892798742, 'n_p': -2.299447029827455, 'alpha_p': -0.2165300326355633, 'mF': 0.4470762255155257, 'gamma': 1.4561190023186836, 'sigT_Mpc': 0.11952938764038437, 'kF_Mpc': 12.137943241597341}\n",
      "8 4.0 model {'Delta2_p': 0.23205846703383806, 'n_p': -2.2994470585921643, 'alpha_p': -0.2165299303656223, 'mF': 0.3667549106286143, 'gamma': 1.4366944565860078, 'sigT_Mpc': 0.1124868806234996, 'kF_Mpc': 12.841201989686333}\n",
      "z=2 emulator calls for old theory =  {'Delta2_p': 0.6300728196477859, 'n_p': -2.2994793242105556, 'alpha_p': -0.2163759500235969, 'f_p': 0.9583569136684355, 'mF': 0.8507256483811173, 'gamma': 1.5534927645653829, 'sigT_Mpc': 0.13078611068417573, 'kF_Mpc': 9.234642271117814}\n",
      "z=2 emulator calls for new theory =  {'Delta2_p': 0.6301020569149606, 'n_p': -2.2994471404944634, 'alpha_p': -0.21652936468729186, 'mF': 0.8507256483811173, 'gamma': 1.5534927645653829, 'sigT_Mpc': 0.13078611068417573, 'kF_Mpc': 9.234642271117814}\n"
     ]
    }
   ],
   "source": [
    "# compare emulator calls at one of the redshifts\n",
    "old_emu_calls=old_theory.get_emulator_calls()\n",
    "new_emu_calls=new_theory.get_emulator_calls(return_M_of_z=False)\n",
    "print(\"z=2 emulator calls for old theory = \", old_emu_calls[0])\n",
    "print(\"z=2 emulator calls for new theory = \", new_emu_calls[0])"
   ]
  },
  {
   "cell_type": "markdown",
   "metadata": {},
   "source": [
    "Note that the numbers above are not supposed to exactly match, since kp_Mpc is different in both theories"
   ]
  },
  {
   "cell_type": "markdown",
   "metadata": {},
   "source": [
    "### Compare now emulator calls for a different test cosmology"
   ]
  },
  {
   "cell_type": "code",
   "execution_count": 8,
   "metadata": {
    "collapsed": false
   },
   "outputs": [],
   "source": [
    "As=1.9e-9\n",
    "ns=0.92\n",
    "H0=74.0\n",
    "test_cosmo=camb_cosmo.get_cosmology(H0=H0,As=As,ns=ns)\n",
    "test_camb_model=CAMB_model.CAMBModel(zs=data.z,cosmo=test_cosmo)"
   ]
  },
  {
   "cell_type": "code",
   "execution_count": 9,
   "metadata": {
    "collapsed": false
   },
   "outputs": [
    {
     "name": "stdout",
     "output_type": "stream",
     "text": [
      "g_star = 0.9677508579459803\n",
      "f_star = 0.981369557840318\n",
      "Delta2_star = 0.36017590528641974\n",
      "n_star = -2.299335667257498\n",
      "alpha_star = -0.2165270371206895\n"
     ]
    }
   ],
   "source": [
    "# print compressed linP parameters from the fiducial cosmology in the old theory\n",
    "old_linP=fit_linP.LinearPowerModel(cosmo=old_theory.cosmo.cosmo_fid)\n",
    "old_like_params=old_linP.get_likelihood_parameters()\n",
    "for par in old_like_params:\n",
    "    print(par.info_str())"
   ]
  },
  {
   "cell_type": "code",
   "execution_count": 10,
   "metadata": {
    "collapsed": false
   },
   "outputs": [
    {
     "name": "stdout",
     "output_type": "stream",
     "text": [
      "g_star = 0.9577005905767146\n",
      "f_star = 0.975786292900187\n",
      "Delta2_star = 0.2894527099942636\n",
      "n_star = -2.3454640097099224\n",
      "alpha_star = -0.21599697156493478\n"
     ]
    }
   ],
   "source": [
    "# print compressed linP parameters from the test cosmology\n",
    "test_linP=fit_linP.LinearPowerModel(cosmo=test_cosmo)\n",
    "old_test_like_params=test_linP.get_likelihood_parameters()\n",
    "for par in old_test_like_params:\n",
    "    print(par.info_str())"
   ]
  },
  {
   "cell_type": "code",
   "execution_count": 11,
   "metadata": {
    "collapsed": false
   },
   "outputs": [
    {
     "name": "stdout",
     "output_type": "stream",
     "text": [
      "Delta2_star = 0.2894527099942636\n",
      "n_star = -2.3454640097099224\n"
     ]
    }
   ],
   "source": [
    "# we want to study also cases where we ignore some of the parameters\n",
    "#cull_params=[]\n",
    "cull_params=['f_star','g_star','alpha_star']\n",
    "culled_like_params = [par for par in old_test_like_params if par.name not in cull_params]\n",
    "for par in culled_like_params:\n",
    "    print(par.info_str())"
   ]
  },
  {
   "cell_type": "code",
   "execution_count": 12,
   "metadata": {
    "collapsed": false
   },
   "outputs": [
    {
     "name": "stdout",
     "output_type": "stream",
     "text": [
      "0 2.0 model {'Delta2_p': 0.5049408087446632, 'n_p': -2.3456076666629793, 'alpha_p': -0.2158458844678208, 'f_p': 0.9527736487283045, 'mF': 0.8507256483811173, 'gamma': 1.5534927645653829, 'sigT_Mpc': 0.13029504815759754, 'kF_Mpc': 9.269446255074408}\n",
      "1 2.25 model {'Delta2_p': 0.4331315724654191, 'n_p': -2.345607843221081, 'alpha_p': -0.21584585863920439, 'f_p': 0.9611156370696353, 'mF': 0.8145423945568311, 'gamma': 1.5449855838581277, 'sigT_Mpc': 0.13014476356711513, 'kF_Mpc': 9.60160852599988}\n",
      "2 2.5 model {'Delta2_p': 0.3754006645564618, 'n_p': -2.3456079159884005, 'alpha_p': -0.21584614265799765, 'f_p': 0.967360124121646, 'mF': 0.7709160253724354, 'gamma': 1.535466821877, 'sigT_Mpc': 0.12962294505080457, 'kF_Mpc': 9.932461239811404}\n",
      "3 2.75 model {'Delta2_p': 0.3283611288352607, 'n_p': -2.3456077337663004, 'alpha_p': -0.21584616717510094, 'f_p': 0.9721130825895092, 'mF': 0.7191184346490203, 'gamma': 1.5246254858011445, 'sigT_Mpc': 0.12894198292065334, 'kF_Mpc': 10.267799609650938}\n",
      "4 3.0 model {'Delta2_p': 0.28956569900541, 'n_p': -2.3456078019352486, 'alpha_p': -0.21584594039162242, 'f_p': 0.9757862862448826, 'mF': 0.660167067771907, 'gamma': 1.5121709239991827, 'sigT_Mpc': 0.12810207002816792, 'kF_Mpc': 10.6348381789184}\n",
      "5 3.25 model {'Delta2_p': 0.25721780302037617, 'n_p': -2.3456079702952066, 'alpha_p': -0.2158466989469305, 'f_p': 0.9786596273935362, 'mF': 0.594053238064041, 'gamma': 1.4976862040208383, 'sigT_Mpc': 0.12688922101818728, 'kF_Mpc': 11.053874318173893}\n",
      "6 3.5 model {'Delta2_p': 0.22997804713709036, 'n_p': -2.3456078063544994, 'alpha_p': -0.21584652753789543, 'f_p': 0.9809363162288985, 'mF': 0.5234547710339326, 'gamma': 1.4804211385932953, 'sigT_Mpc': 0.12524554498514623, 'kF_Mpc': 11.535665785930563}\n",
      "7 3.75 model {'Delta2_p': 0.2068337633504217, 'n_p': -2.3456080946690676, 'alpha_p': -0.21584643537375234, 'f_p': 0.9827601487089112, 'mF': 0.4470762255155257, 'gamma': 1.4561190023186836, 'sigT_Mpc': 0.11986821164616804, 'kF_Mpc': 12.103633673659242}\n",
      "8 4.0 model {'Delta2_p': 0.18700885432274336, 'n_p': -2.3456082035193075, 'alpha_p': -0.2158462776702964, 'f_p': 0.9842400111328077, 'mF': 0.3667549106286143, 'gamma': 1.4366944565860078, 'sigT_Mpc': 0.11291243066757063, 'kF_Mpc': 12.79280542218417}\n"
     ]
    }
   ],
   "source": [
    "# call the old theory, but using the freshly computed likelihood parameters from the test cosmology\n",
    "old_test_emu_calls=old_theory.get_emulator_calls(like_params=old_test_like_params)"
   ]
  },
  {
   "cell_type": "code",
   "execution_count": 13,
   "metadata": {
    "collapsed": false
   },
   "outputs": [
    {
     "name": "stdout",
     "output_type": "stream",
     "text": [
      "0 2.0 model {'Delta2_p': 0.506353374737127, 'n_p': -2.3456076666629793, 'alpha_p': -0.21637595002359608, 'f_p': 0.9583569136684355, 'mF': 0.8507256483811173, 'gamma': 1.5534927645653829, 'sigT_Mpc': 0.13078611068417573, 'kF_Mpc': 9.234642271117814}\n",
      "1 2.25 model {'Delta2_p': 0.4340398566100403, 'n_p': -2.345607843221083, 'alpha_p': -0.21637592419496718, 'f_p': 0.9666989020097663, 'mF': 0.8145423945568311, 'gamma': 1.5449855838581277, 'sigT_Mpc': 0.13051263566195997, 'kF_Mpc': 9.574544756852742}\n",
      "2 2.5 model {'Delta2_p': 0.3759252039552537, 'n_p': -2.3456079159884013, 'alpha_p': -0.216376208213755, 'f_p': 0.9729433890617769, 'mF': 0.7709160253724354, 'gamma': 1.535466821877, 'sigT_Mpc': 0.12986720978610813, 'kF_Mpc': 9.91377946463774}\n",
      "3 2.75 model {'Delta2_p': 0.32859041474094175, 'n_p': -2.3456077337662995, 'alpha_p': -0.21637623273085152, 'f_p': 0.9776963475296402, 'mF': 0.7191184346490203, 'gamma': 1.5246254858011445, 'sigT_Mpc': 0.1290634736772292, 'kF_Mpc': 10.258134266642541}\n",
      "4 3.0 model {'Delta2_p': 0.2895656990054096, 'n_p': -2.3456078019352486, 'alpha_p': -0.2163760059473761, 'f_p': 0.9813695511850136, 'mF': 0.660167067771907, 'gamma': 1.5121709239991827, 'sigT_Mpc': 0.12810207002816792, 'kF_Mpc': 10.6348381789184}\n",
      "5 3.25 model {'Delta2_p': 0.25703838254739275, 'n_p': -2.3456079702952053, 'alpha_p': -0.21637676450266757, 'f_p': 0.9842428923336671, 'mF': 0.594053238064041, 'gamma': 1.4976862040208383, 'sigT_Mpc': 0.12676966439967063, 'kF_Mpc': 11.064299239950307}\n",
      "6 3.5 model {'Delta2_p': 0.22965737578294126, 'n_p': -2.3456078063544985, 'alpha_p': -0.21637659309364884, 'f_p': 0.9865195811690295, 'mF': 0.5234547710339326, 'gamma': 1.4804211385932953, 'sigT_Mpc': 0.1250095291325381, 'kF_Mpc': 11.557444925607046}\n",
      "7 3.75 model {'Delta2_p': 0.2064013895352553, 'n_p': -2.3456080946690676, 'alpha_p': -0.216376500929508, 'f_p': 0.9883434136490421, 'mF': 0.4470762255155257, 'gamma': 1.4561190023186836, 'sigT_Mpc': 0.11952938764038437, 'kF_Mpc': 12.137943241597341}\n",
      "8 4.0 model {'Delta2_p': 0.18648788535182184, 'n_p': -2.3456082035193075, 'alpha_p': -0.21637634322605842, 'f_p': 0.9898232760729386, 'mF': 0.3667549106286143, 'gamma': 1.4366944565860078, 'sigT_Mpc': 0.1124868806234996, 'kF_Mpc': 12.841201989686333}\n"
     ]
    }
   ],
   "source": [
    "# same, but using only the culled parameters\n",
    "old_test_emu_calls=old_theory.get_emulator_calls(like_params=culled_like_params)"
   ]
  },
  {
   "cell_type": "code",
   "execution_count": 14,
   "metadata": {
    "collapsed": false
   },
   "outputs": [
    {
     "name": "stdout",
     "output_type": "stream",
     "text": [
      "ombh2 = 0.022\n",
      "omch2 = 0.12\n",
      "As = 2.1e-09\n",
      "ns = 0.965\n",
      "H0 = 67.0\n"
     ]
    }
   ],
   "source": [
    "# print cosmology parameters from the new theory for the fiducial cosmology\n",
    "new_like_params=new_theory.camb_model_fid.get_likelihood_parameters()\n",
    "for par in new_like_params:\n",
    "    print(par.info_str())"
   ]
  },
  {
   "cell_type": "code",
   "execution_count": 15,
   "metadata": {
    "collapsed": false
   },
   "outputs": [
    {
     "name": "stdout",
     "output_type": "stream",
     "text": [
      "ombh2 = 0.022\n",
      "omch2 = 0.12\n",
      "As = 1.9e-09\n",
      "ns = 0.92\n",
      "H0 = 74.0\n"
     ]
    }
   ],
   "source": [
    "# print cosmology parameters from new test camb model\n",
    "new_test_like_params=test_camb_model.get_likelihood_parameters()\n",
    "for par in new_test_like_params:\n",
    "    print(par.info_str())"
   ]
  },
  {
   "cell_type": "code",
   "execution_count": 16,
   "metadata": {
    "collapsed": false
   },
   "outputs": [
    {
     "name": "stdout",
     "output_type": "stream",
     "text": [
      "Note: redshifts have been re-sorted (earliest first)\n",
      "0 2.0 model {'Delta2_p': 0.5021783618635486, 'n_p': -2.3444376892101615, 'alpha_p': -0.21653624850999953, 'mF': 0.8507256483811173, 'gamma': 1.5534927645653829, 'sigT_Mpc': 0.12925597769550834, 'kF_Mpc': 9.34396201809978}\n",
      "1 2.25 model {'Delta2_p': 0.4312217302557556, 'n_p': -2.344437429549661, 'alpha_p': -0.2165363865906534, 'mF': 0.8145423945568311, 'gamma': 1.5449855838581277, 'sigT_Mpc': 0.12928815573631092, 'kF_Mpc': 9.665224663184658}\n",
      "2 2.5 model {'Delta2_p': 0.3739805313296343, 'n_p': -2.3444376202100665, 'alpha_p': -0.21653553050168303, 'mF': 0.7709160253724354, 'gamma': 1.535466821877, 'sigT_Mpc': 0.12887745943253898, 'kF_Mpc': 9.989915095907442}\n",
      "3 2.75 model {'Delta2_p': 0.32722238678901944, 'n_p': -2.3444375145668244, 'alpha_p': -0.2165355951371306, 'mF': 0.7191184346490203, 'gamma': 1.5246254858011445, 'sigT_Mpc': 0.12825491819176194, 'kF_Mpc': 10.322804462911757}\n",
      "4 3.0 model {'Delta2_p': 0.2885870803396723, 'n_p': -2.3444375759863805, 'alpha_p': -0.21653577779603445, 'mF': 0.660167067771907, 'gamma': 1.5121709239991827, 'sigT_Mpc': 0.12743517638563798, 'kF_Mpc': 10.690492403850714}\n",
      "5 3.25 model {'Delta2_p': 0.2563280862922168, 'n_p': -2.3444375716061376, 'alpha_p': -0.2165358179014219, 'mF': 0.594053238064041, 'gamma': 1.4976862040208383, 'sigT_Mpc': 0.12621579329377575, 'kF_Mpc': 11.112852558802565}\n",
      "6 3.5 model {'Delta2_p': 0.22913544129085212, 'n_p': -2.3444376569013117, 'alpha_p': -0.21653693968366983, 'mF': 0.5234547710339326, 'gamma': 1.4804211385932953, 'sigT_Mpc': 0.12454699055208658, 'kF_Mpc': 11.600366590320423}\n",
      "7 3.75 model {'Delta2_p': 0.2060137756767896, 'n_p': -2.3444374467847777, 'alpha_p': -0.21653585927787838, 'mF': 0.4470762255155257, 'gamma': 1.4561190023186836, 'sigT_Mpc': 0.11915175839408541, 'kF_Mpc': 12.176412185906026}\n",
      "8 4.0 model {'Delta2_p': 0.18619752156110378, 'n_p': -2.3444374213597414, 'alpha_p': -0.21653545860707465, 'mF': 0.3667549106286143, 'gamma': 1.4366944565860078, 'sigT_Mpc': 0.1121811457105948, 'kF_Mpc': 12.876198991607117}\n"
     ]
    }
   ],
   "source": [
    "# call the new theory, but using the freshly computed likelihood parameters for the test cosmology\n",
    "new_test_emu_calls=new_theory.get_emulator_calls(like_params=new_test_like_params,return_M_of_z=False)"
   ]
  },
  {
   "cell_type": "code",
   "execution_count": 17,
   "metadata": {
    "collapsed": false
   },
   "outputs": [
    {
     "name": "stdout",
     "output_type": "stream",
     "text": [
      "z=2 emulator calls for old test theory =  {'Delta2_p': 0.506353374737127, 'n_p': -2.3456076666629793, 'alpha_p': -0.21637595002359608, 'f_p': 0.9583569136684355, 'mF': 0.8507256483811173, 'gamma': 1.5534927645653829, 'sigT_Mpc': 0.13078611068417573, 'kF_Mpc': 9.234642271117814}\n",
      "z=2 emulator calls for new test theory =  {'Delta2_p': 0.5021783618635486, 'n_p': -2.3444376892101615, 'alpha_p': -0.21653624850999953, 'mF': 0.8507256483811173, 'gamma': 1.5534927645653829, 'sigT_Mpc': 0.12925597769550834, 'kF_Mpc': 9.34396201809978}\n"
     ]
    }
   ],
   "source": [
    "print(\"z=2 emulator calls for old test theory = \", old_test_emu_calls[0])\n",
    "print(\"z=2 emulator calls for new test theory = \", new_test_emu_calls[0])"
   ]
  },
  {
   "cell_type": "code",
   "execution_count": 18,
   "metadata": {
    "collapsed": false
   },
   "outputs": [
    {
     "name": "stdout",
     "output_type": "stream",
     "text": [
      "z = 4.0 emulator calls for old test theory = {'Delta2_p': 0.18648788535182184, 'n_p': -2.3456082035193075, 'alpha_p': -0.21637634322605842, 'f_p': 0.9898232760729386, 'mF': 0.3667549106286143, 'gamma': 1.4366944565860078, 'sigT_Mpc': 0.1124868806234996, 'kF_Mpc': 12.841201989686333}\n",
      "z = 4.0 emulator calls for new test theory = {'Delta2_p': 0.18619752156110378, 'n_p': -2.3444374213597414, 'alpha_p': -0.21653545860707465, 'mF': 0.3667549106286143, 'gamma': 1.4366944565860078, 'sigT_Mpc': 0.1121811457105948, 'kF_Mpc': 12.876198991607117}\n"
     ]
    }
   ],
   "source": [
    "print(\"z = {} emulator calls for old test theory = {}\".format(data.z[-1],old_test_emu_calls[-1]))\n",
    "print(\"z = {} emulator calls for new test theory = {}\".format(data.z[-1],new_test_emu_calls[-1]))"
   ]
  },
  {
   "cell_type": "markdown",
   "metadata": {},
   "source": [
    "Both new and old theories make the same emulator call for a theory that is not the fiducial!"
   ]
  },
  {
   "cell_type": "markdown",
   "metadata": {},
   "source": [
    "### Test the likelihood objects with old and new theories"
   ]
  },
  {
   "cell_type": "code",
   "execution_count": 19,
   "metadata": {
    "collapsed": false
   },
   "outputs": [
    {
     "name": "stdout",
     "output_type": "stream",
     "text": [
      "got parameters\n",
      "g_star = 0.9677508579459803\n",
      "f_star = 0.981369557840318\n",
      "Delta2_star = 0.36017590528641974\n",
      "n_star = -2.299335667257498\n",
      "alpha_star = -0.2165270371206895\n",
      "ln_tau_0 = 0.0\n",
      "ln_tau_1 = 0.0\n",
      "ln_sigT_kms_0 = 0.0\n",
      "ln_sigT_kms_1 = 0.0\n",
      "ln_gamma_0 = 0.0\n",
      "ln_gamma_1 = 0.0\n",
      "ln_kF_0 = 0.0\n",
      "ln_kF_1 = 0.0\n",
      "likelihood setup with 5 free parameters\n",
      "5 free parameters\n"
     ]
    }
   ],
   "source": [
    "## Set up a likelihood object with the old theory object\n",
    "#old_free_params=['Delta2_star','n_star']\n",
    "old_free_params=['Delta2_star','n_star','alpha_star','f_star','g_star']\n",
    "old_like=likelihood.Likelihood(data=data,theory=old_theory,\n",
    "                            free_parameters=old_free_params,\n",
    "                            free_param_limits=None,\n",
    "                            verbose=True,\n",
    "                            prior_Gauss_rms=0.15,\n",
    "                            emu_cov_factor=1)"
   ]
  },
  {
   "cell_type": "code",
   "execution_count": 20,
   "metadata": {
    "collapsed": false
   },
   "outputs": [
    {
     "name": "stdout",
     "output_type": "stream",
     "text": [
      "g_star = 0.9577005905767146 , 0.1925147644178669\n",
      "f_star = 0.975786292900187 , 0.6446573225046764\n",
      "Delta2_star = 0.2894527099942636 , 0.2630180666284239\n",
      "n_star = -2.3454640097099224 , 0.0453599029007767\n",
      "alpha_star = -0.21599697156493478 , 0.49093662213695666\n"
     ]
    }
   ],
   "source": [
    "# get parameter values in cube for test cosmology\n",
    "old_test_values=old_like.sampling_point_from_parameters(old_test_like_params)\n",
    "# check that parameters inferred from these are same than computed before\n",
    "for par in old_like.parameters_from_sampling_point(values=old_test_values):\n",
    "    print(par.info_str(),',',par.value_in_cube())"
   ]
  },
  {
   "cell_type": "code",
   "execution_count": 21,
   "metadata": {
    "collapsed": false
   },
   "outputs": [
    {
     "name": "stdout",
     "output_type": "stream",
     "text": [
      "0 2.0 model {'Delta2_p': 0.5049408087446632, 'n_p': -2.3456076666629793, 'alpha_p': -0.2158458844678208, 'f_p': 0.9527736487283045, 'mF': 0.8507256483811173, 'gamma': 1.5534927645653829, 'sigT_Mpc': 0.13029504815759754, 'kF_Mpc': 9.269446255074408}\n",
      "1 2.25 model {'Delta2_p': 0.4331315724654191, 'n_p': -2.345607843221081, 'alpha_p': -0.21584585863920439, 'f_p': 0.9611156370696353, 'mF': 0.8145423945568311, 'gamma': 1.5449855838581277, 'sigT_Mpc': 0.13014476356711513, 'kF_Mpc': 9.60160852599988}\n",
      "2 2.5 model {'Delta2_p': 0.3754006645564618, 'n_p': -2.3456079159884005, 'alpha_p': -0.21584614265799765, 'f_p': 0.967360124121646, 'mF': 0.7709160253724354, 'gamma': 1.535466821877, 'sigT_Mpc': 0.12962294505080457, 'kF_Mpc': 9.932461239811404}\n",
      "3 2.75 model {'Delta2_p': 0.3283611288352607, 'n_p': -2.3456077337663004, 'alpha_p': -0.21584616717510094, 'f_p': 0.9721130825895092, 'mF': 0.7191184346490203, 'gamma': 1.5246254858011445, 'sigT_Mpc': 0.12894198292065334, 'kF_Mpc': 10.267799609650938}\n",
      "4 3.0 model {'Delta2_p': 0.28956569900541, 'n_p': -2.3456078019352486, 'alpha_p': -0.21584594039162242, 'f_p': 0.9757862862448826, 'mF': 0.660167067771907, 'gamma': 1.5121709239991827, 'sigT_Mpc': 0.12810207002816792, 'kF_Mpc': 10.6348381789184}\n",
      "5 3.25 model {'Delta2_p': 0.25721780302037617, 'n_p': -2.3456079702952066, 'alpha_p': -0.2158466989469305, 'f_p': 0.9786596273935362, 'mF': 0.594053238064041, 'gamma': 1.4976862040208383, 'sigT_Mpc': 0.12688922101818728, 'kF_Mpc': 11.053874318173893}\n",
      "6 3.5 model {'Delta2_p': 0.22997804713709036, 'n_p': -2.3456078063544994, 'alpha_p': -0.21584652753789543, 'f_p': 0.9809363162288985, 'mF': 0.5234547710339326, 'gamma': 1.4804211385932953, 'sigT_Mpc': 0.12524554498514623, 'kF_Mpc': 11.535665785930563}\n",
      "7 3.75 model {'Delta2_p': 0.2068337633504217, 'n_p': -2.3456080946690676, 'alpha_p': -0.21584643537375234, 'f_p': 0.9827601487089112, 'mF': 0.4470762255155257, 'gamma': 1.4561190023186836, 'sigT_Mpc': 0.11986821164616804, 'kF_Mpc': 12.103633673659242}\n",
      "8 4.0 model {'Delta2_p': 0.18700885432274336, 'n_p': -2.3456082035193075, 'alpha_p': -0.2158462776702964, 'f_p': 0.9842400111328077, 'mF': 0.3667549106286143, 'gamma': 1.4366944565860078, 'sigT_Mpc': 0.11291243066757063, 'kF_Mpc': 12.79280542218417}\n",
      "got P1D from emulator\n",
      "compute chi2 for z=2.0\n",
      "added 15.759908083382332 to log_like\n",
      "compute chi2 for z=2.25\n",
      "added 15.124204342039999 to log_like\n",
      "compute chi2 for z=2.5\n",
      "added 17.908486705754164 to log_like\n",
      "compute chi2 for z=2.75\n",
      "added 20.13130690552306 to log_like\n",
      "compute chi2 for z=3.0\n",
      "added 13.646692057012602 to log_like\n",
      "compute chi2 for z=3.25\n",
      "added 3.599835593718435 to log_like\n",
      "compute chi2 for z=3.5\n",
      "added 5.807838490863347 to log_like\n",
      "compute chi2 for z=3.75\n",
      "added -14.606698750205645 to log_like\n",
      "compute chi2 for z=4.0\n",
      "added -28.797024396425154 to log_like\n"
     ]
    },
    {
     "data": {
      "text/plain": [
       "48.574549031663125"
      ]
     },
     "execution_count": 21,
     "metadata": {},
     "output_type": "execute_result"
    }
   ],
   "source": [
    "old_like.get_log_like(values=old_test_values,ignore_log_det_cov=False)"
   ]
  },
  {
   "cell_type": "code",
   "execution_count": 22,
   "metadata": {
    "collapsed": false
   },
   "outputs": [
    {
     "name": "stdout",
     "output_type": "stream",
     "text": [
      "got parameters\n",
      "g_star = 0.9677508579459803\n",
      "f_star = 0.981369557840318\n",
      "Delta2_star = 0.36017590528641974\n",
      "n_star = -2.299335667257498\n",
      "alpha_star = -0.2165270371206895\n",
      "ln_tau_0 = 0.0\n",
      "ln_tau_1 = 0.0\n",
      "ln_sigT_kms_0 = 0.0\n",
      "ln_sigT_kms_1 = 0.0\n",
      "ln_gamma_0 = 0.0\n",
      "ln_gamma_1 = 0.0\n",
      "ln_kF_0 = 0.0\n",
      "ln_kF_1 = 0.0\n",
      "likelihood setup with 2 free parameters\n",
      "2 free parameters\n"
     ]
    }
   ],
   "source": [
    "## Set up a likelihood object with the old theory object, but now with only 2 key parameters\n",
    "old_free_params=['Delta2_star','n_star']\n",
    "old_like=likelihood.Likelihood(data=data,theory=old_theory,\n",
    "                            free_parameters=old_free_params,\n",
    "                            free_param_limits=None,\n",
    "                            verbose=True,\n",
    "                            prior_Gauss_rms=0.15,\n",
    "                            emu_cov_factor=1)"
   ]
  },
  {
   "cell_type": "code",
   "execution_count": 23,
   "metadata": {
    "collapsed": false
   },
   "outputs": [
    {
     "name": "stdout",
     "output_type": "stream",
     "text": [
      "Delta2_star = 0.2894527099942636 , 0.2630180666284239\n",
      "n_star = -2.3454640097099224 , 0.0453599029007767\n"
     ]
    }
   ],
   "source": [
    "# get parameter values in cube for test cosmology\n",
    "old_test_values=old_like.sampling_point_from_parameters(old_test_like_params)\n",
    "# check that parameters inferred from these are same than computed before\n",
    "for par in old_like.parameters_from_sampling_point(values=old_test_values):\n",
    "    print(par.info_str(),',',par.value_in_cube())"
   ]
  },
  {
   "cell_type": "code",
   "execution_count": 24,
   "metadata": {
    "collapsed": false
   },
   "outputs": [
    {
     "name": "stdout",
     "output_type": "stream",
     "text": [
      "0 2.0 model {'Delta2_p': 0.506353374737127, 'n_p': -2.3456076666629793, 'alpha_p': -0.21637595002359608, 'f_p': 0.9583569136684355, 'mF': 0.8507256483811173, 'gamma': 1.5534927645653829, 'sigT_Mpc': 0.13078611068417573, 'kF_Mpc': 9.234642271117814}\n",
      "1 2.25 model {'Delta2_p': 0.4340398566100403, 'n_p': -2.345607843221083, 'alpha_p': -0.21637592419496718, 'f_p': 0.9666989020097663, 'mF': 0.8145423945568311, 'gamma': 1.5449855838581277, 'sigT_Mpc': 0.13051263566195997, 'kF_Mpc': 9.574544756852742}\n",
      "2 2.5 model {'Delta2_p': 0.3759252039552537, 'n_p': -2.3456079159884013, 'alpha_p': -0.216376208213755, 'f_p': 0.9729433890617769, 'mF': 0.7709160253724354, 'gamma': 1.535466821877, 'sigT_Mpc': 0.12986720978610813, 'kF_Mpc': 9.91377946463774}\n",
      "3 2.75 model {'Delta2_p': 0.32859041474094175, 'n_p': -2.3456077337662995, 'alpha_p': -0.21637623273085152, 'f_p': 0.9776963475296402, 'mF': 0.7191184346490203, 'gamma': 1.5246254858011445, 'sigT_Mpc': 0.1290634736772292, 'kF_Mpc': 10.258134266642541}\n",
      "4 3.0 model {'Delta2_p': 0.2895656990054096, 'n_p': -2.3456078019352486, 'alpha_p': -0.2163760059473761, 'f_p': 0.9813695511850136, 'mF': 0.660167067771907, 'gamma': 1.5121709239991827, 'sigT_Mpc': 0.12810207002816792, 'kF_Mpc': 10.6348381789184}\n",
      "5 3.25 model {'Delta2_p': 0.25703838254739275, 'n_p': -2.3456079702952053, 'alpha_p': -0.21637676450266757, 'f_p': 0.9842428923336671, 'mF': 0.594053238064041, 'gamma': 1.4976862040208383, 'sigT_Mpc': 0.12676966439967063, 'kF_Mpc': 11.064299239950307}\n",
      "6 3.5 model {'Delta2_p': 0.22965737578294126, 'n_p': -2.3456078063544985, 'alpha_p': -0.21637659309364884, 'f_p': 0.9865195811690295, 'mF': 0.5234547710339326, 'gamma': 1.4804211385932953, 'sigT_Mpc': 0.1250095291325381, 'kF_Mpc': 11.557444925607046}\n",
      "7 3.75 model {'Delta2_p': 0.2064013895352553, 'n_p': -2.3456080946690676, 'alpha_p': -0.216376500929508, 'f_p': 0.9883434136490421, 'mF': 0.4470762255155257, 'gamma': 1.4561190023186836, 'sigT_Mpc': 0.11952938764038437, 'kF_Mpc': 12.137943241597341}\n",
      "8 4.0 model {'Delta2_p': 0.18648788535182184, 'n_p': -2.3456082035193075, 'alpha_p': -0.21637634322605842, 'f_p': 0.9898232760729386, 'mF': 0.3667549106286143, 'gamma': 1.4366944565860078, 'sigT_Mpc': 0.1124868806234996, 'kF_Mpc': 12.841201989686333}\n",
      "got P1D from emulator\n",
      "compute chi2 for z=2.0\n",
      "added 15.67169902895063 to log_like\n",
      "compute chi2 for z=2.25\n",
      "added 15.006208476274175 to log_like\n",
      "compute chi2 for z=2.5\n",
      "added 17.780176776461 to log_like\n",
      "compute chi2 for z=2.75\n",
      "added 20.10129642030292 to log_like\n",
      "compute chi2 for z=3.0\n",
      "added 13.646692068420702 to log_like\n",
      "compute chi2 for z=3.25\n",
      "added 3.50113411368865 to log_like\n",
      "compute chi2 for z=3.5\n",
      "added 6.09801092352361 to log_like\n",
      "compute chi2 for z=3.75\n",
      "added -14.326091701973912 to log_like\n",
      "compute chi2 for z=4.0\n",
      "added -28.533318991412564 to log_like\n"
     ]
    },
    {
     "data": {
      "text/plain": [
       "48.945807114235215"
      ]
     },
     "execution_count": 24,
     "metadata": {},
     "output_type": "execute_result"
    }
   ],
   "source": [
    "old_like.get_log_like(values=old_test_values,ignore_log_det_cov=False)"
   ]
  },
  {
   "cell_type": "code",
   "execution_count": 25,
   "metadata": {
    "collapsed": false
   },
   "outputs": [
    {
     "name": "stdout",
     "output_type": "stream",
     "text": [
      "got parameters\n",
      "ombh2 = 0.022\n",
      "omch2 = 0.12\n",
      "As = 2.1e-09\n",
      "ns = 0.965\n",
      "H0 = 67.0\n",
      "ln_tau_0 = 0.0\n",
      "ln_tau_1 = 0.0\n",
      "ln_sigT_kms_0 = 0.0\n",
      "ln_sigT_kms_1 = 0.0\n",
      "ln_gamma_0 = 0.0\n",
      "ln_gamma_1 = 0.0\n",
      "ln_kF_0 = 0.0\n",
      "ln_kF_1 = 0.0\n",
      "likelihood setup with 3 free parameters\n",
      "3 free parameters\n"
     ]
    }
   ],
   "source": [
    "## Set up a likelihood object with the new theory object\n",
    "new_free_params=[\"As\",\"ns\",\"H0\"]\n",
    "new_like=likelihood.Likelihood(data=data,theory=new_theory,\n",
    "                            free_parameters=new_free_params,\n",
    "                            free_param_limits=None,\n",
    "                            verbose=True,\n",
    "                            prior_Gauss_rms=0.15,\n",
    "                            emu_cov_factor=1)"
   ]
  },
  {
   "cell_type": "code",
   "execution_count": 26,
   "metadata": {
    "collapsed": false
   },
   "outputs": [
    {
     "name": "stdout",
     "output_type": "stream",
     "text": [
      "As = 1.9e-09 , -0.500000000000001\n",
      "ns = 0.92 , -0.9999999999999963\n",
      "H0 = 74.0 , 0.7857142857142857\n"
     ]
    }
   ],
   "source": [
    "# get parameter values in cube for test cosmology in new theory\n",
    "new_test_values=new_like.sampling_point_from_parameters(new_test_like_params)\n",
    "# check that parameters inferred from these are same than computed before\n",
    "for par in new_like.parameters_from_sampling_point(values=new_test_values):\n",
    "    print(par.info_str(),',',par.value_in_cube())"
   ]
  },
  {
   "cell_type": "code",
   "execution_count": 27,
   "metadata": {
    "collapsed": false
   },
   "outputs": [
    {
     "name": "stdout",
     "output_type": "stream",
     "text": [
      "Note: redshifts have been re-sorted (earliest first)\n",
      "0 2.0 model {'Delta2_p': 0.5021783618635486, 'n_p': -2.3444376892101615, 'alpha_p': -0.21653624850999953, 'mF': 0.8507256483811173, 'gamma': 1.5534927645653829, 'sigT_Mpc': 0.12925597769550834, 'kF_Mpc': 9.34396201809978}\n",
      "1 2.25 model {'Delta2_p': 0.4312217302557556, 'n_p': -2.344437429549661, 'alpha_p': -0.2165363865906534, 'mF': 0.8145423945568311, 'gamma': 1.5449855838581277, 'sigT_Mpc': 0.12928815573631092, 'kF_Mpc': 9.665224663184658}\n",
      "2 2.5 model {'Delta2_p': 0.3739805313296343, 'n_p': -2.3444376202100665, 'alpha_p': -0.21653553050168303, 'mF': 0.7709160253724354, 'gamma': 1.535466821877, 'sigT_Mpc': 0.12887745943253898, 'kF_Mpc': 9.989915095907442}\n",
      "3 2.75 model {'Delta2_p': 0.32722238678901944, 'n_p': -2.3444375145668244, 'alpha_p': -0.2165355951371306, 'mF': 0.7191184346490203, 'gamma': 1.5246254858011445, 'sigT_Mpc': 0.12825491819176194, 'kF_Mpc': 10.322804462911757}\n",
      "4 3.0 model {'Delta2_p': 0.2885870803396723, 'n_p': -2.3444375759863805, 'alpha_p': -0.21653577779603445, 'mF': 0.660167067771907, 'gamma': 1.5121709239991827, 'sigT_Mpc': 0.12743517638563798, 'kF_Mpc': 10.690492403850714}\n",
      "5 3.25 model {'Delta2_p': 0.2563280862922168, 'n_p': -2.3444375716061376, 'alpha_p': -0.2165358179014219, 'mF': 0.594053238064041, 'gamma': 1.4976862040208383, 'sigT_Mpc': 0.12621579329377575, 'kF_Mpc': 11.112852558802565}\n",
      "6 3.5 model {'Delta2_p': 0.22913544129085212, 'n_p': -2.3444376569013117, 'alpha_p': -0.21653693968366983, 'mF': 0.5234547710339326, 'gamma': 1.4804211385932953, 'sigT_Mpc': 0.12454699055208658, 'kF_Mpc': 11.600366590320423}\n",
      "7 3.75 model {'Delta2_p': 0.2060137756767896, 'n_p': -2.3444374467847777, 'alpha_p': -0.21653585927787838, 'mF': 0.4470762255155257, 'gamma': 1.4561190023186836, 'sigT_Mpc': 0.11915175839408541, 'kF_Mpc': 12.176412185906026}\n",
      "8 4.0 model {'Delta2_p': 0.18619752156110378, 'n_p': -2.3444374213597414, 'alpha_p': -0.21653545860707465, 'mF': 0.3667549106286143, 'gamma': 1.4366944565860078, 'sigT_Mpc': 0.1121811457105948, 'kF_Mpc': 12.876198991607117}\n",
      "got P1D from emulator\n",
      "compute chi2 for z=2.0\n",
      "added 15.879095336961376 to log_like\n",
      "compute chi2 for z=2.25\n",
      "added 15.229304550980343 to log_like\n",
      "compute chi2 for z=2.5\n",
      "added 18.01540725878957 to log_like\n",
      "compute chi2 for z=2.75\n",
      "added 19.96494853901998 to log_like\n",
      "compute chi2 for z=3.0\n",
      "added 13.544235386182136 to log_like\n",
      "compute chi2 for z=3.25\n",
      "added 3.3186223483627657 to log_like\n",
      "compute chi2 for z=3.5\n",
      "added 5.9746629761540255 to log_like\n",
      "compute chi2 for z=3.75\n",
      "added -14.636483421323852 to log_like\n",
      "compute chi2 for z=4.0\n",
      "added -29.776221794743762 to log_like\n"
     ]
    },
    {
     "data": {
      "text/plain": [
       "47.513571180382584"
      ]
     },
     "execution_count": 27,
     "metadata": {},
     "output_type": "execute_result"
    }
   ],
   "source": [
    "new_like.get_log_like(values=new_test_values,ignore_log_det_cov=False)"
   ]
  },
  {
   "cell_type": "code",
   "execution_count": null,
   "metadata": {
    "collapsed": false
   },
   "outputs": [],
   "source": []
  }
 ],
 "metadata": {
  "kernelspec": {
   "display_name": "Python 3",
   "language": "python",
   "name": "python3"
  },
  "language_info": {
   "codemirror_mode": {
    "name": "ipython",
    "version": 3
   },
   "file_extension": ".py",
   "mimetype": "text/x-python",
   "name": "python",
   "nbconvert_exporter": "python",
   "pygments_lexer": "ipython3",
   "version": "3.6.7"
  }
 },
 "nbformat": 4,
 "nbformat_minor": 4
}
