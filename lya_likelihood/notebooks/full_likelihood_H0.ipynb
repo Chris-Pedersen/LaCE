{
 "cells": [
  {
   "cell_type": "markdown",
   "metadata": {},
   "source": [
    "## Compare likelihoods for theories with different values of H_0\n",
    "\n",
    "We redo the notebook full_likelihood_example, but now varying also H_0"
   ]
  },
  {
   "cell_type": "code",
   "execution_count": 1,
   "metadata": {
    "collapsed": true
   },
   "outputs": [],
   "source": [
    "%matplotlib inline\n",
    "import matplotlib.pyplot as plt\n",
    "import matplotlib as mpl\n",
    "mpl.rcParams['savefig.dpi'] = 140\n",
    "mpl.rcParams['figure.dpi'] = 140\n",
    "# our modules\n",
    "import data_MPGADGET\n",
    "import p1d_arxiv\n",
    "import gp_emulator\n",
    "import likelihood\n",
    "import likelihood_parameter\n",
    "import lya_theory\n",
    "import full_theory\n",
    "import camb_cosmo\n",
    "import CAMB_model\n",
    "import fit_linP"
   ]
  },
  {
   "cell_type": "markdown",
   "metadata": {},
   "source": [
    "### Setup mock data, from one of simulations in the suite"
   ]
  },
  {
   "cell_type": "code",
   "execution_count": 2,
   "metadata": {
    "collapsed": false
   },
   "outputs": [],
   "source": [
    "# specify simulation suite and P1D mesurements\n",
    "basedir=\"/p1d_emulator/sim_suites/Australia20/\"\n",
    "skewers_label='Ns500_wM0.05'\n",
    "p1d_label=None\n",
    "# specify simulation to use to generate synthetic data\n",
    "test_sim_num=15\n",
    "data=data_MPGADGET.P1D_MPGADGET(sim_number=test_sim_num,basedir=basedir,skewers_label=skewers_label,data_cov_factor=1)"
   ]
  },
  {
   "cell_type": "markdown",
   "metadata": {},
   "source": [
    "### Setup archive of P1D measurements from simulations and train the emulator"
   ]
  },
  {
   "cell_type": "code",
   "execution_count": 3,
   "metadata": {
    "collapsed": true
   },
   "outputs": [],
   "source": [
    "# specify redshift range\n",
    "z_max=4\n",
    "# do not use test_sim_num that was used in generating mock data\n",
    "arxiv=p1d_arxiv.ArxivP1D(basedir=basedir,drop_sim_number=test_sim_num,\n",
    "                            drop_tau_rescalings=True,z_max=z_max,\n",
    "                            drop_temp_rescalings=True,skewers_label=skewers_label)"
   ]
  },
  {
   "cell_type": "code",
   "execution_count": 4,
   "metadata": {
    "collapsed": false
   },
   "outputs": [
    {
     "name": "stderr",
     "output_type": "stream",
     "text": [
      " /Users/font/Programs/Others/anaconda3/lib/python3.6/site-packages/paramz/parameterized.py:61: RuntimeWarning:Don't forget to initialize by self.initialize_parameter()!\n"
     ]
    },
    {
     "name": "stdout",
     "output_type": "stream",
     "text": [
      "Training GP on 270 points\n",
      "Optimised\n"
     ]
    }
   ],
   "source": [
    "# specify parameters to be used in emulator\n",
    "paramList=['mF', 'sigT_Mpc', 'gamma', 'kF_Mpc', 'Delta2_p', 'n_p']\n",
    "# specify k range\n",
    "kmax_Mpc=8\n",
    "# setup GP emulator\n",
    "emu=gp_emulator.GPEmulator(basedir,p1d_label,skewers_label,z_max=z_max,\n",
    "                                verbose=False,paramList=paramList,train=True,\n",
    "                                emu_type=\"k_bin\",passArxiv=arxiv,kmax_Mpc=kmax_Mpc,\n",
    "                                drop_tau_rescalings=True,\n",
    "                                drop_temp_rescalings=True)"
   ]
  },
  {
   "cell_type": "markdown",
   "metadata": {},
   "source": [
    "### Setup and compare theory objects"
   ]
  },
  {
   "cell_type": "markdown",
   "metadata": {},
   "source": [
    "Start by setting up an old theory object, that uses only compressed linP parameters"
   ]
  },
  {
   "cell_type": "code",
   "execution_count": 5,
   "metadata": {
    "collapsed": false
   },
   "outputs": [
    {
     "name": "stdout",
     "output_type": "stream",
     "text": [
      "0 2.0 model {'Delta2_p': 0.6298978537031776, 'n_p': -2.2993906458284794, 'alpha_p': -0.21641970780014216, 'f_p': 0.9583569136684355, 'mF': 0.8507256483811173, 'gamma': 1.5534927645653829, 'sigT_Mpc': 0.13078611068417573, 'kF_Mpc': 9.234642271117814}\n",
      "1 2.25 model {'Delta2_p': 0.5399249525510917, 'n_p': -2.2993815689130663, 'alpha_p': -0.21642424974102223, 'f_p': 0.9666989020097663, 'mF': 0.8145423945568311, 'gamma': 1.5449855838581277, 'sigT_Mpc': 0.13051263566195997, 'kF_Mpc': 9.574544756852742}\n",
      "2 2.5 model {'Delta2_p': 0.4676198117634747, 'n_p': -2.2993726176961222, 'alpha_p': -0.21642898800315924, 'f_p': 0.9729433890617769, 'mF': 0.7709160253724354, 'gamma': 1.535466821877, 'sigT_Mpc': 0.12986720978610813, 'kF_Mpc': 9.91377946463774}\n",
      "3 2.75 model {'Delta2_p': 0.4087278727714764, 'n_p': -2.2993635887568735, 'alpha_p': -0.2164333773453141, 'f_p': 0.9776963475296402, 'mF': 0.7191184346490203, 'gamma': 1.5246254858011445, 'sigT_Mpc': 0.1290634736772292, 'kF_Mpc': 10.258134266642541}\n",
      "4 3.0 model {'Delta2_p': 0.36017583211215254, 'n_p': -2.299354949820381, 'alpha_p': -0.21643744737001538, 'f_p': 0.9813695511850136, 'mF': 0.660167067771907, 'gamma': 1.5121709239991827, 'sigT_Mpc': 0.12810207002816792, 'kF_Mpc': 10.6348381789184}\n",
      "5 3.25 model {'Delta2_p': 0.3197081179725559, 'n_p': -2.2993465208563664, 'alpha_p': -0.21644245190982447, 'f_p': 0.9842428923336671, 'mF': 0.594053238064041, 'gamma': 1.4976862040208383, 'sigT_Mpc': 0.12676966439967063, 'kF_Mpc': 11.064299239950307}\n",
      "6 3.5 model {'Delta2_p': 0.28564355324832663, 'n_p': -2.2993378485286513, 'alpha_p': -0.2164464764572117, 'f_p': 0.9865195811690295, 'mF': 0.5234547710339326, 'gamma': 1.4804211385932953, 'sigT_Mpc': 0.1250095291325381, 'kF_Mpc': 11.557444925607046}\n",
      "7 3.75 model {'Delta2_p': 0.2567113560326605, 'n_p': -2.2993296993386205, 'alpha_p': -0.21645055324325213, 'f_p': 0.9883434136490421, 'mF': 0.4470762255155257, 'gamma': 1.4561190023186836, 'sigT_Mpc': 0.11952938764038437, 'kF_Mpc': 12.137943241597341}\n",
      "8 4.0 model {'Delta2_p': 0.23193783355059497, 'n_p': -2.2993214291766413, 'alpha_p': -0.21645453488671948, 'f_p': 0.9898232760729386, 'mF': 0.3667549106286143, 'gamma': 1.4366944565860078, 'sigT_Mpc': 0.1124868806234996, 'kF_Mpc': 12.841201989686333}\n"
     ]
    }
   ],
   "source": [
    "old_theory=lya_theory.LyaTheory(zs=data.z,emulator=emu,verbose=True)\n",
    "old_emu_calls=old_theory.get_emulator_calls()"
   ]
  },
  {
   "cell_type": "markdown",
   "metadata": {},
   "source": [
    "Setup now a new theory object, that holds a CAMB object"
   ]
  },
  {
   "cell_type": "code",
   "execution_count": 6,
   "metadata": {
    "collapsed": false
   },
   "outputs": [],
   "source": [
    "new_theory=full_theory.FullTheory(zs=data.z,emulator=emu,verbose=True)"
   ]
  },
  {
   "cell_type": "code",
   "execution_count": 7,
   "metadata": {
    "collapsed": false
   },
   "outputs": [
    {
     "name": "stdout",
     "output_type": "stream",
     "text": [
      "0 2.0 model {'Delta2_p': 0.6298978537031776, 'n_p': -2.2993906458284794, 'alpha_p': -0.21641970780014216, 'f_p': 0.9583569136684355, 'mF': 0.8507256483811173, 'gamma': 1.5534927645653829, 'sigT_Mpc': 0.13078611068417573, 'kF_Mpc': 9.234642271117814}\n",
      "1 2.25 model {'Delta2_p': 0.5399249525510917, 'n_p': -2.2993815689130663, 'alpha_p': -0.21642424974102223, 'f_p': 0.9666989020097663, 'mF': 0.8145423945568311, 'gamma': 1.5449855838581277, 'sigT_Mpc': 0.13051263566195997, 'kF_Mpc': 9.574544756852742}\n",
      "2 2.5 model {'Delta2_p': 0.4676198117634747, 'n_p': -2.2993726176961222, 'alpha_p': -0.21642898800315924, 'f_p': 0.9729433890617769, 'mF': 0.7709160253724354, 'gamma': 1.535466821877, 'sigT_Mpc': 0.12986720978610813, 'kF_Mpc': 9.91377946463774}\n",
      "3 2.75 model {'Delta2_p': 0.4087278727714764, 'n_p': -2.2993635887568735, 'alpha_p': -0.2164333773453141, 'f_p': 0.9776963475296402, 'mF': 0.7191184346490203, 'gamma': 1.5246254858011445, 'sigT_Mpc': 0.1290634736772292, 'kF_Mpc': 10.258134266642541}\n",
      "4 3.0 model {'Delta2_p': 0.36017583211215254, 'n_p': -2.299354949820381, 'alpha_p': -0.21643744737001538, 'f_p': 0.9813695511850136, 'mF': 0.660167067771907, 'gamma': 1.5121709239991827, 'sigT_Mpc': 0.12810207002816792, 'kF_Mpc': 10.6348381789184}\n",
      "5 3.25 model {'Delta2_p': 0.3197081179725559, 'n_p': -2.2993465208563664, 'alpha_p': -0.21644245190982447, 'f_p': 0.9842428923336671, 'mF': 0.594053238064041, 'gamma': 1.4976862040208383, 'sigT_Mpc': 0.12676966439967063, 'kF_Mpc': 11.064299239950307}\n",
      "6 3.5 model {'Delta2_p': 0.28564355324832663, 'n_p': -2.2993378485286513, 'alpha_p': -0.2164464764572117, 'f_p': 0.9865195811690295, 'mF': 0.5234547710339326, 'gamma': 1.4804211385932953, 'sigT_Mpc': 0.1250095291325381, 'kF_Mpc': 11.557444925607046}\n",
      "7 3.75 model {'Delta2_p': 0.2567113560326605, 'n_p': -2.2993296993386205, 'alpha_p': -0.21645055324325213, 'f_p': 0.9883434136490421, 'mF': 0.4470762255155257, 'gamma': 1.4561190023186836, 'sigT_Mpc': 0.11952938764038437, 'kF_Mpc': 12.137943241597341}\n",
      "8 4.0 model {'Delta2_p': 0.23193783355059497, 'n_p': -2.2993214291766413, 'alpha_p': -0.21645453488671948, 'f_p': 0.9898232760729386, 'mF': 0.3667549106286143, 'gamma': 1.4366944565860078, 'sigT_Mpc': 0.1124868806234996, 'kF_Mpc': 12.841201989686333}\n",
      "0 2.0 model {'Delta2_p': 0.6301020569149606, 'n_p': -2.2994471404944634, 'alpha_p': -0.21652936468729186, 'mF': 0.8507256483811173, 'gamma': 1.5534927645653829, 'sigT_Mpc': 0.13078611068417573, 'kF_Mpc': 9.234642271117814}\n",
      "1 2.25 model {'Delta2_p': 0.5401143170832934, 'n_p': -2.29944710294489, 'alpha_p': -0.21653015107522613, 'mF': 0.8145423945568311, 'gamma': 1.5449855838581277, 'sigT_Mpc': 0.13051263566195997, 'kF_Mpc': 9.574544756852742}\n",
      "2 2.5 model {'Delta2_p': 0.4677957245536806, 'n_p': -2.299447107345491, 'alpha_p': -0.2165292635641581, 'mF': 0.7709160253724354, 'gamma': 1.535466821877, 'sigT_Mpc': 0.12986720978610813, 'kF_Mpc': 9.91377946463774}\n",
      "3 2.75 model {'Delta2_p': 0.4088918956242491, 'n_p': -2.299447113528968, 'alpha_p': -0.2165300105642425, 'mF': 0.7191184346490203, 'gamma': 1.5246254858011445, 'sigT_Mpc': 0.1290634736772292, 'kF_Mpc': 10.258134266642541}\n",
      "4 3.0 model {'Delta2_p': 0.36032917754805077, 'n_p': -2.29944714097795, 'alpha_p': -0.21652967998711867, 'mF': 0.660167067771907, 'gamma': 1.5121709239991827, 'sigT_Mpc': 0.12810207002816792, 'kF_Mpc': 10.6348381789184}\n",
      "5 3.25 model {'Delta2_p': 0.3198518743235602, 'n_p': -2.29944702377217, 'alpha_p': -0.21652955737716217, 'mF': 0.594053238064041, 'gamma': 1.4976862040208383, 'sigT_Mpc': 0.12676966439967063, 'kF_Mpc': 11.064299239950307}\n",
      "6 3.5 model {'Delta2_p': 0.2857787861210292, 'n_p': -2.299447125347, 'alpha_p': -0.2165296565319498, 'mF': 0.5234547710339326, 'gamma': 1.4804211385932953, 'sigT_Mpc': 0.1250095291325381, 'kF_Mpc': 11.557444925607046}\n",
      "7 3.75 model {'Delta2_p': 0.256838892798742, 'n_p': -2.299447029827455, 'alpha_p': -0.2165300326355633, 'mF': 0.4470762255155257, 'gamma': 1.4561190023186836, 'sigT_Mpc': 0.11952938764038437, 'kF_Mpc': 12.137943241597341}\n",
      "8 4.0 model {'Delta2_p': 0.23205846703383806, 'n_p': -2.2994470585921643, 'alpha_p': -0.2165299303656223, 'mF': 0.3667549106286143, 'gamma': 1.4366944565860078, 'sigT_Mpc': 0.1124868806234996, 'kF_Mpc': 12.841201989686333}\n"
     ]
    }
   ],
   "source": [
    "# compare emulator calls at one of the redshifts\n",
    "old_emu_calls=old_theory.get_emulator_calls()\n",
    "new_emu_calls=new_theory.get_emulator_calls(return_M_of_z=False)"
   ]
  },
  {
   "cell_type": "code",
   "execution_count": 8,
   "metadata": {
    "collapsed": false
   },
   "outputs": [
    {
     "name": "stdout",
     "output_type": "stream",
     "text": [
      "z=2 emulator calls for old theory =  {'Delta2_p': 0.6298978537031776, 'n_p': -2.2993906458284794, 'alpha_p': -0.21641970780014216, 'f_p': 0.9583569136684355, 'mF': 0.8507256483811173, 'gamma': 1.5534927645653829, 'sigT_Mpc': 0.13078611068417573, 'kF_Mpc': 9.234642271117814}\n",
      "z=2 emulator calls for new theory =  {'Delta2_p': 0.6301020569149606, 'n_p': -2.2994471404944634, 'alpha_p': -0.21652936468729186, 'mF': 0.8507256483811173, 'gamma': 1.5534927645653829, 'sigT_Mpc': 0.13078611068417573, 'kF_Mpc': 9.234642271117814}\n"
     ]
    }
   ],
   "source": [
    "print(\"z=2 emulator calls for old theory = \", old_emu_calls[0])\n",
    "print(\"z=2 emulator calls for new theory = \", new_emu_calls[0])"
   ]
  },
  {
   "cell_type": "markdown",
   "metadata": {},
   "source": [
    "Note that the numbers above are not supposed to exactly match, since kp_Mpc is different in both theories"
   ]
  },
  {
   "cell_type": "markdown",
   "metadata": {},
   "source": [
    "### Compare now emulator calls for a different test cosmology"
   ]
  },
  {
   "cell_type": "code",
   "execution_count": 9,
   "metadata": {
    "collapsed": false
   },
   "outputs": [],
   "source": [
    "As=1.9e-9\n",
    "ns=0.92\n",
    "H0=50.0\n",
    "test_cosmo=camb_cosmo.get_cosmology(H0=H0,As=As,ns=ns)\n",
    "test_camb_model=CAMB_model.CAMBModel(zs=data.z,cosmo=test_cosmo)"
   ]
  },
  {
   "cell_type": "code",
   "execution_count": 10,
   "metadata": {
    "collapsed": false
   },
   "outputs": [
    {
     "name": "stdout",
     "output_type": "stream",
     "text": [
      "g_star = 0.9677508579459803\n",
      "f_star = 0.981369557840318\n",
      "Delta2_star = 0.36017590528641974\n",
      "n_star = -2.299335667257498\n",
      "alpha_star = -0.2165270371206895\n"
     ]
    }
   ],
   "source": [
    "# print compressed linP parameters from the fiducial cosmology in the old theory\n",
    "old_linP=fit_linP.LinearPowerModel(cosmo=old_theory.cosmo.cosmo_fid)\n",
    "old_like_params=old_linP.get_likelihood_parameters()\n",
    "for par in old_like_params:\n",
    "    print(par.info_str())"
   ]
  },
  {
   "cell_type": "code",
   "execution_count": 11,
   "metadata": {
    "collapsed": false
   },
   "outputs": [
    {
     "name": "stdout",
     "output_type": "stream",
     "text": [
      "g_star = 0.9886588719453293\n",
      "f_star = 0.9928886747421347\n",
      "Delta2_star = 0.2898177280857949\n",
      "n_star = -2.3419938318462292\n",
      "alpha_star = -0.217671224372772\n"
     ]
    }
   ],
   "source": [
    "# print compressed linP parameters from the test cosmology\n",
    "test_linP=fit_linP.LinearPowerModel(cosmo=test_cosmo)\n",
    "old_test_like_params=test_linP.get_likelihood_parameters()\n",
    "for par in old_test_like_params:\n",
    "    print(par.info_str())"
   ]
  },
  {
   "cell_type": "code",
   "execution_count": 12,
   "metadata": {
    "collapsed": false
   },
   "outputs": [
    {
     "name": "stdout",
     "output_type": "stream",
     "text": [
      "Delta2_star = 0.2898177280857949\n",
      "n_star = -2.3419938318462292\n"
     ]
    }
   ],
   "source": [
    "# we want to study also cases where we ignore some of the parameters\n",
    "#cull_params=[]\n",
    "cull_params=['f_star','g_star','alpha_star']\n",
    "culled_like_params = [par for par in old_test_like_params if par.name not in cull_params]\n",
    "for par in culled_like_params:\n",
    "    print(par.info_str())"
   ]
  },
  {
   "cell_type": "code",
   "execution_count": 13,
   "metadata": {
    "collapsed": false
   },
   "outputs": [
    {
     "name": "stdout",
     "output_type": "stream",
     "text": [
      "0 2.0 model {'Delta2_p': 0.5102215380511176, 'n_p': -2.3420488104172104, 'alpha_p': -0.21756389505221058, 'f_p': 0.9698760305702522, 'mF': 0.8507256483811173, 'gamma': 1.5534927645653829, 'sigT_Mpc': 0.1319714402127672, 'kF_Mpc': 9.151699369590883}\n",
      "1 2.25 model {'Delta2_p': 0.4365371414983146, 'n_p': -2.342039733501799, 'alpha_p': -0.21756843699310158, 'f_p': 0.978218018911583, 'mF': 0.8145423945568311, 'gamma': 1.5449855838581277, 'sigT_Mpc': 0.131365305932712, 'kF_Mpc': 9.512397985205633}\n",
      "2 2.5 model {'Delta2_p': 0.3774324411424346, 'n_p': -2.3420307822848527, 'alpha_p': -0.21757317525525846, 'f_p': 0.9844625059635936, 'mF': 0.7709160253724354, 'gamma': 1.535466821877, 'sigT_Mpc': 0.1304122099326903, 'kF_Mpc': 9.87234920849685}\n",
      "3 2.75 model {'Delta2_p': 0.32937473146887536, 'n_p': -2.3420217533456054, 'alpha_p': -0.21757756459740804, 'f_p': 0.9892154644314569, 'mF': 0.7191184346490203, 'gamma': 1.5246254858011445, 'sigT_Mpc': 0.1293249702452728, 'kF_Mpc': 10.23739220190307}\n",
      "4 3.0 model {'Delta2_p': 0.2898176692056769, 'n_p': -2.342013114409114, 'alpha_p': -0.21758163462211413, 'f_p': 0.9928886680868303, 'mF': 0.660167067771907, 'gamma': 1.5121709239991827, 'sigT_Mpc': 0.12810207002816792, 'kF_Mpc': 10.6348381789184}\n",
      "5 3.25 model {'Delta2_p': 0.25689602412126933, 'n_p': -2.3420046854450978, 'alpha_p': -0.21758663916189852, 'f_p': 0.9957620092354839, 'mF': 0.594053238064041, 'gamma': 1.4976862040208383, 'sigT_Mpc': 0.12652886487496287, 'kF_Mpc': 11.085355921371084}\n",
      "6 3.5 model {'Delta2_p': 0.22922197718055548, 'n_p': -2.3419960131173836, 'alpha_p': -0.21759066370930974, 'f_p': 0.9980386980708462, 'mF': 0.5234547710339326, 'gamma': 1.4804211385932953, 'sigT_Mpc': 0.12454860650643038, 'kF_Mpc': 11.600216081508586}\n",
      "7 3.75 model {'Delta2_p': 0.20574815301284807, 'n_p': -2.341987863927354, 'alpha_p': -0.2175947404953252, 'f_p': 0.9998625305508588, 'mF': 0.4470762255155257, 'gamma': 1.4561190023186836, 'sigT_Mpc': 0.11888690837443903, 'kF_Mpc': 12.203538158401692}\n",
      "8 4.0 model {'Delta2_p': 0.1856732126435752, 'n_p': -2.341979593765372, 'alpha_p': -0.21759872213880344, 'f_p': 1.0013423929747554, 'mF': 0.3667549106286143, 'gamma': 1.4366944565860078, 'sigT_Mpc': 0.11170241937525521, 'kF_Mpc': 12.931382895329447}\n"
     ]
    }
   ],
   "source": [
    "# call the old theory, but using the freshly computed likelihood parameters from the test cosmology\n",
    "old_test_emu_calls=old_theory.get_emulator_calls(like_params=old_test_like_params)"
   ]
  },
  {
   "cell_type": "code",
   "execution_count": 14,
   "metadata": {
    "collapsed": false
   },
   "outputs": [
    {
     "name": "stdout",
     "output_type": "stream",
     "text": [
      "0 2.0 model {'Delta2_p': 0.5068511308139868, 'n_p': -2.342048810417209, 'alpha_p': -0.21641970780014766, 'f_p': 0.9583569136684355, 'mF': 0.8507256483811173, 'gamma': 1.5534927645653829, 'sigT_Mpc': 0.13078611068417573, 'kF_Mpc': 9.234642271117814}\n",
      "1 2.25 model {'Delta2_p': 0.43445388985904443, 'n_p': -2.342039733501798, 'alpha_p': -0.21642424974102525, 'f_p': 0.9666989020097663, 'mF': 0.8145423945568311, 'gamma': 1.5449855838581277, 'sigT_Mpc': 0.13051263566195997, 'kF_Mpc': 9.574544756852742}\n",
      "2 2.5 model {'Delta2_p': 0.37627311950649595, 'n_p': -2.3420307822848527, 'alpha_p': -0.21642898800316954, 'f_p': 0.9729433890617769, 'mF': 0.7709160253724354, 'gamma': 1.535466821877, 'sigT_Mpc': 0.12986720978610813, 'kF_Mpc': 9.91377946463774}\n",
      "3 2.75 model {'Delta2_p': 0.3288853633831223, 'n_p': -2.342021753345605, 'alpha_p': -0.21643337734533125, 'f_p': 0.9776963475296402, 'mF': 0.7191184346490203, 'gamma': 1.5246254858011445, 'sigT_Mpc': 0.1290634736772292, 'kF_Mpc': 10.258134266642541}\n",
      "4 3.0 model {'Delta2_p': 0.2898176692056767, 'n_p': -2.342013114409114, 'alpha_p': -0.2164374473700277, 'f_p': 0.9813695511850136, 'mF': 0.660167067771907, 'gamma': 1.5121709239991827, 'sigT_Mpc': 0.12810207002816792, 'kF_Mpc': 10.6348381789184}\n",
      "5 3.25 model {'Delta2_p': 0.2572550774258718, 'n_p': -2.3420046854450978, 'alpha_p': -0.216442451909809, 'f_p': 0.9842428923336671, 'mF': 0.594053238064041, 'gamma': 1.4976862040208383, 'sigT_Mpc': 0.12676966439967063, 'kF_Mpc': 11.064299239950307}\n",
      "6 3.5 model {'Delta2_p': 0.22984481868366954, 'n_p': -2.3419960131173836, 'alpha_p': -0.21644647645721188, 'f_p': 0.9865195811690295, 'mF': 0.5234547710339326, 'gamma': 1.4804211385932953, 'sigT_Mpc': 0.1250095291325381, 'kF_Mpc': 11.557444925607046}\n",
      "7 3.75 model {'Delta2_p': 0.20656435060542197, 'n_p': -2.3419878639273533, 'alpha_p': -0.21645055324325344, 'f_p': 0.9883434136490421, 'mF': 0.4470762255155257, 'gamma': 1.4561190023186836, 'sigT_Mpc': 0.11952938764038437, 'kF_Mpc': 12.137943241597341}\n",
      "8 4.0 model {'Delta2_p': 0.18663018539044188, 'n_p': -2.3419795937653722, 'alpha_p': -0.21645453488671731, 'f_p': 0.9898232760729386, 'mF': 0.3667549106286143, 'gamma': 1.4366944565860078, 'sigT_Mpc': 0.1124868806234996, 'kF_Mpc': 12.841201989686333}\n"
     ]
    }
   ],
   "source": [
    "# same, but using only the culled parameters\n",
    "old_test_emu_calls=old_theory.get_emulator_calls(like_params=culled_like_params)"
   ]
  },
  {
   "cell_type": "code",
   "execution_count": 15,
   "metadata": {
    "collapsed": false
   },
   "outputs": [
    {
     "name": "stdout",
     "output_type": "stream",
     "text": [
      "ombh2 = 0.022\n",
      "omch2 = 0.12\n",
      "As = 2.1e-09\n",
      "ns = 0.965\n",
      "H0 = 67.0\n"
     ]
    }
   ],
   "source": [
    "# print cosmology parameters from the new theory for the fiducial cosmology\n",
    "new_like_params=new_theory.camb_model_fid.get_likelihood_parameters()\n",
    "for par in new_like_params:\n",
    "    print(par.info_str())"
   ]
  },
  {
   "cell_type": "code",
   "execution_count": 16,
   "metadata": {
    "collapsed": false
   },
   "outputs": [
    {
     "name": "stdout",
     "output_type": "stream",
     "text": [
      "ombh2 = 0.022\n",
      "omch2 = 0.12\n",
      "As = 1.9e-09\n",
      "ns = 0.92\n",
      "H0 = 50.0\n"
     ]
    }
   ],
   "source": [
    "# print cosmology parameters from new test camb model\n",
    "new_test_like_params=test_camb_model.get_likelihood_parameters()\n",
    "for par in new_test_like_params:\n",
    "    print(par.info_str())"
   ]
  },
  {
   "cell_type": "code",
   "execution_count": 17,
   "metadata": {
    "collapsed": false
   },
   "outputs": [
    {
     "name": "stdout",
     "output_type": "stream",
     "text": [
      "0 2.0 model {'Delta2_p': 0.5158301022028047, 'n_p': -2.3444512944977385, 'alpha_p': -0.21653333140739928, 'mF': 0.8507256483811173, 'gamma': 1.5534927645653829, 'sigT_Mpc': 0.134042289894799, 'kF_Mpc': 9.010312694203272}\n",
      "1 2.25 model {'Delta2_p': 0.4405094871015889, 'n_p': -2.3444513840392465, 'alpha_p': -0.21653343114322543, 'mF': 0.8145423945568311, 'gamma': 1.5449855838581277, 'sigT_Mpc': 0.13308974073523247, 'kF_Mpc': 9.389146485499525}\n",
      "2 2.5 model {'Delta2_p': 0.3804645956308694, 'n_p': -2.3444513656889594, 'alpha_p': -0.21653329025556498, 'mF': 0.7709160253724354, 'gamma': 1.535466821877, 'sigT_Mpc': 0.1319330557436291, 'kF_Mpc': 9.758546637539629}\n",
      "3 2.75 model {'Delta2_p': 0.3318537959707248, 'n_p': -2.3444514195666235, 'alpha_p': -0.21653305386771934, 'mF': 0.7191184346490203, 'gamma': 1.5246254858011445, 'sigT_Mpc': 0.13074044033566992, 'kF_Mpc': 10.126556392965496}\n",
      "4 3.0 model {'Delta2_p': 0.2919631977506819, 'n_p': -2.344451310866517, 'alpha_p': -0.21653370642470238, 'mF': 0.660167067771907, 'gamma': 1.5121709239991827, 'sigT_Mpc': 0.1294784287227376, 'kF_Mpc': 10.521789602894668}\n",
      "5 3.25 model {'Delta2_p': 0.25883419329589774, 'n_p': -2.3444512045908628, 'alpha_p': -0.21653358167027068, 'mF': 0.594053238064041, 'gamma': 1.4976862040208383, 'sigT_Mpc': 0.12790834203964777, 'kF_Mpc': 10.96580159745376}\n",
      "6 3.5 model {'Delta2_p': 0.2310262620732817, 'n_p': -2.3444514086213517, 'alpha_p': -0.2165335236458884, 'mF': 0.5234547710339326, 'gamma': 1.4804211385932953, 'sigT_Mpc': 0.12595750980544534, 'kF_Mpc': 11.470461351268458}\n",
      "7 3.75 model {'Delta2_p': 0.20746148570805847, 'n_p': -2.3444513016656283, 'alpha_p': -0.2165334217618217, 'mF': 0.4470762255155257, 'gamma': 1.4561190023186836, 'sigT_Mpc': 0.1203014226711773, 'kF_Mpc': 12.06004792518115}\n",
      "8 4.0 model {'Delta2_p': 0.18732075320994157, 'n_p': -2.344451269344503, 'alpha_p': -0.21653362510852903, 'mF': 0.3667549106286143, 'gamma': 1.4366944565860078, 'sigT_Mpc': 0.11311066853561205, 'kF_Mpc': 12.770384738918878}\n"
     ]
    }
   ],
   "source": [
    "# call the new theory, but using the freshly computed likelihood parameters for the test cosmology\n",
    "new_test_emu_calls=new_theory.get_emulator_calls(like_params=new_test_like_params,return_M_of_z=False)"
   ]
  },
  {
   "cell_type": "code",
   "execution_count": 18,
   "metadata": {
    "collapsed": false
   },
   "outputs": [
    {
     "name": "stdout",
     "output_type": "stream",
     "text": [
      "z=2 emulator calls for old test theory =  {'Delta2_p': 0.5068511308139868, 'n_p': -2.342048810417209, 'alpha_p': -0.21641970780014766, 'f_p': 0.9583569136684355, 'mF': 0.8507256483811173, 'gamma': 1.5534927645653829, 'sigT_Mpc': 0.13078611068417573, 'kF_Mpc': 9.234642271117814}\n",
      "z=2 emulator calls for new test theory =  {'Delta2_p': 0.5158301022028047, 'n_p': -2.3444512944977385, 'alpha_p': -0.21653333140739928, 'mF': 0.8507256483811173, 'gamma': 1.5534927645653829, 'sigT_Mpc': 0.134042289894799, 'kF_Mpc': 9.010312694203272}\n"
     ]
    }
   ],
   "source": [
    "print(\"z=2 emulator calls for old test theory = \", old_test_emu_calls[0])\n",
    "print(\"z=2 emulator calls for new test theory = \", new_test_emu_calls[0])"
   ]
  },
  {
   "cell_type": "code",
   "execution_count": 19,
   "metadata": {
    "collapsed": false
   },
   "outputs": [
    {
     "name": "stdout",
     "output_type": "stream",
     "text": [
      "z = 4.0 emulator calls for old test theory = {'Delta2_p': 0.18663018539044188, 'n_p': -2.3419795937653722, 'alpha_p': -0.21645453488671731, 'f_p': 0.9898232760729386, 'mF': 0.3667549106286143, 'gamma': 1.4366944565860078, 'sigT_Mpc': 0.1124868806234996, 'kF_Mpc': 12.841201989686333}\n",
      "z = 4.0 emulator calls for new test theory = {'Delta2_p': 0.18732075320994157, 'n_p': -2.344451269344503, 'alpha_p': -0.21653362510852903, 'mF': 0.3667549106286143, 'gamma': 1.4366944565860078, 'sigT_Mpc': 0.11311066853561205, 'kF_Mpc': 12.770384738918878}\n"
     ]
    }
   ],
   "source": [
    "print(\"z = {} emulator calls for old test theory = {}\".format(data.z[-1],old_test_emu_calls[-1]))\n",
    "print(\"z = {} emulator calls for new test theory = {}\".format(data.z[-1],new_test_emu_calls[-1]))"
   ]
  },
  {
   "cell_type": "markdown",
   "metadata": {},
   "source": [
    "Both new and old theories make the same emulator call for a theory that is not the fiducial!"
   ]
  },
  {
   "cell_type": "markdown",
   "metadata": {},
   "source": [
    "### Test the likelihood objects with old and new theories"
   ]
  },
  {
   "cell_type": "code",
   "execution_count": 20,
   "metadata": {
    "collapsed": false
   },
   "outputs": [
    {
     "name": "stdout",
     "output_type": "stream",
     "text": [
      "got parameters\n",
      "g_star = 0.9677508579459803\n",
      "f_star = 0.981369557840318\n",
      "Delta2_star = 0.36017590528641974\n",
      "n_star = -2.299335667257498\n",
      "alpha_star = -0.2165270371206895\n",
      "ln_tau_0 = 0.0\n",
      "ln_tau_1 = 0.0\n",
      "ln_sigT_kms_0 = 0.0\n",
      "ln_sigT_kms_1 = 0.0\n",
      "ln_gamma_0 = 0.0\n",
      "ln_gamma_1 = 0.0\n",
      "ln_kF_0 = 0.0\n",
      "ln_kF_1 = 0.0\n",
      "likelihood setup with 5 free parameters\n",
      "5 free parameters\n"
     ]
    }
   ],
   "source": [
    "## Set up a likelihood object with the old theory object\n",
    "#old_free_params=['Delta2_star','n_star']\n",
    "old_free_params=['Delta2_star','n_star','alpha_star','f_star','g_star']\n",
    "old_like=likelihood.Likelihood(data=data,theory=old_theory,\n",
    "                            free_parameters=old_free_params,\n",
    "                            free_param_limits=None,\n",
    "                            verbose=True,\n",
    "                            prior_Gauss_rms=0.15,\n",
    "                            emu_cov_factor=1)"
   ]
  },
  {
   "cell_type": "code",
   "execution_count": 21,
   "metadata": {
    "collapsed": false
   },
   "outputs": [
    {
     "name": "stdout",
     "output_type": "stream",
     "text": [
      "g_star = 0.9886588719453293 , 0.966471798633233\n",
      "f_star = 0.9928886747421347 , 1.072216868553368\n",
      "Delta2_star = 0.2898177280857949 , 0.26545152057196614\n",
      "n_star = -2.3419938318462292 , 0.08006168153770858\n",
      "alpha_star = -0.217671224372772 , 0.47571614206570917\n"
     ]
    }
   ],
   "source": [
    "# get parameter values in cube for test cosmology\n",
    "old_test_values=old_like.sampling_point_from_parameters(old_test_like_params)\n",
    "# check that parameters inferred from these are same than computed before\n",
    "for par in old_like.parameters_from_sampling_point(values=old_test_values):\n",
    "    print(par.info_str(),',',par.value_in_cube())"
   ]
  },
  {
   "cell_type": "code",
   "execution_count": 22,
   "metadata": {
    "collapsed": false
   },
   "outputs": [
    {
     "name": "stdout",
     "output_type": "stream",
     "text": [
      "0 2.0 model {'Delta2_p': 0.5102215380511176, 'n_p': -2.3420488104172104, 'alpha_p': -0.21756389505221058, 'f_p': 0.9698760305702522, 'mF': 0.8507256483811173, 'gamma': 1.5534927645653829, 'sigT_Mpc': 0.1319714402127672, 'kF_Mpc': 9.151699369590883}\n",
      "1 2.25 model {'Delta2_p': 0.4365371414983146, 'n_p': -2.342039733501799, 'alpha_p': -0.21756843699310158, 'f_p': 0.978218018911583, 'mF': 0.8145423945568311, 'gamma': 1.5449855838581277, 'sigT_Mpc': 0.131365305932712, 'kF_Mpc': 9.512397985205633}\n",
      "2 2.5 model {'Delta2_p': 0.3774324411424346, 'n_p': -2.3420307822848527, 'alpha_p': -0.21757317525525846, 'f_p': 0.9844625059635936, 'mF': 0.7709160253724354, 'gamma': 1.535466821877, 'sigT_Mpc': 0.1304122099326903, 'kF_Mpc': 9.87234920849685}\n",
      "3 2.75 model {'Delta2_p': 0.32937473146887536, 'n_p': -2.3420217533456054, 'alpha_p': -0.21757756459740804, 'f_p': 0.9892154644314569, 'mF': 0.7191184346490203, 'gamma': 1.5246254858011445, 'sigT_Mpc': 0.1293249702452728, 'kF_Mpc': 10.23739220190307}\n",
      "4 3.0 model {'Delta2_p': 0.2898176692056769, 'n_p': -2.342013114409114, 'alpha_p': -0.21758163462211413, 'f_p': 0.9928886680868303, 'mF': 0.660167067771907, 'gamma': 1.5121709239991827, 'sigT_Mpc': 0.12810207002816792, 'kF_Mpc': 10.6348381789184}\n",
      "5 3.25 model {'Delta2_p': 0.25689602412126933, 'n_p': -2.3420046854450978, 'alpha_p': -0.21758663916189852, 'f_p': 0.9957620092354839, 'mF': 0.594053238064041, 'gamma': 1.4976862040208383, 'sigT_Mpc': 0.12652886487496287, 'kF_Mpc': 11.085355921371084}\n",
      "6 3.5 model {'Delta2_p': 0.22922197718055548, 'n_p': -2.3419960131173836, 'alpha_p': -0.21759066370930974, 'f_p': 0.9980386980708462, 'mF': 0.5234547710339326, 'gamma': 1.4804211385932953, 'sigT_Mpc': 0.12454860650643038, 'kF_Mpc': 11.600216081508586}\n",
      "7 3.75 model {'Delta2_p': 0.20574815301284807, 'n_p': -2.341987863927354, 'alpha_p': -0.2175947404953252, 'f_p': 0.9998625305508588, 'mF': 0.4470762255155257, 'gamma': 1.4561190023186836, 'sigT_Mpc': 0.11888690837443903, 'kF_Mpc': 12.203538158401692}\n",
      "8 4.0 model {'Delta2_p': 0.1856732126435752, 'n_p': -2.341979593765372, 'alpha_p': -0.21759872213880344, 'f_p': 1.0013423929747554, 'mF': 0.3667549106286143, 'gamma': 1.4366944565860078, 'sigT_Mpc': 0.11170241937525521, 'kF_Mpc': 12.931382895329447}\n",
      "got P1D from emulator\n",
      "compute chi2 for z=2.0\n",
      "added 14.675908805396354 to log_like\n",
      "compute chi2 for z=2.25\n",
      "added 13.504992811836669 to log_like\n",
      "compute chi2 for z=2.5\n",
      "added 15.899414769257884 to log_like\n",
      "compute chi2 for z=2.75\n",
      "added 18.717472308866924 to log_like\n",
      "compute chi2 for z=3.0\n",
      "added 13.183531926602424 to log_like\n",
      "compute chi2 for z=3.25\n",
      "added 4.074071135023331 to log_like\n",
      "compute chi2 for z=3.5\n",
      "added 3.9656272017889904 to log_like\n",
      "compute chi2 for z=3.75\n",
      "added -15.981951955726888 to log_like\n",
      "compute chi2 for z=4.0\n",
      "added -33.157229672536005 to log_like\n"
     ]
    },
    {
     "data": {
      "text/plain": [
       "34.88183733050968"
      ]
     },
     "execution_count": 22,
     "metadata": {},
     "output_type": "execute_result"
    }
   ],
   "source": [
    "old_like.get_log_like(values=old_test_values,ignore_log_det_cov=False)"
   ]
  },
  {
   "cell_type": "code",
   "execution_count": 23,
   "metadata": {
    "collapsed": false
   },
   "outputs": [
    {
     "name": "stdout",
     "output_type": "stream",
     "text": [
      "got parameters\n",
      "g_star = 0.9677508579459803\n",
      "f_star = 0.981369557840318\n",
      "Delta2_star = 0.36017590528641974\n",
      "n_star = -2.299335667257498\n",
      "alpha_star = -0.2165270371206895\n",
      "ln_tau_0 = 0.0\n",
      "ln_tau_1 = 0.0\n",
      "ln_sigT_kms_0 = 0.0\n",
      "ln_sigT_kms_1 = 0.0\n",
      "ln_gamma_0 = 0.0\n",
      "ln_gamma_1 = 0.0\n",
      "ln_kF_0 = 0.0\n",
      "ln_kF_1 = 0.0\n",
      "likelihood setup with 2 free parameters\n",
      "2 free parameters\n"
     ]
    }
   ],
   "source": [
    "## Set up a likelihood object with the old theory object, but now with only 2 key parameters\n",
    "old_free_params=['Delta2_star','n_star']\n",
    "old_like=likelihood.Likelihood(data=data,theory=old_theory,\n",
    "                            free_parameters=old_free_params,\n",
    "                            free_param_limits=None,\n",
    "                            verbose=True,\n",
    "                            prior_Gauss_rms=0.15,\n",
    "                            emu_cov_factor=1)"
   ]
  },
  {
   "cell_type": "code",
   "execution_count": 24,
   "metadata": {
    "collapsed": false
   },
   "outputs": [
    {
     "name": "stdout",
     "output_type": "stream",
     "text": [
      "Delta2_star = 0.2898177280857949 , 0.26545152057196614\n",
      "n_star = -2.3419938318462292 , 0.08006168153770858\n"
     ]
    }
   ],
   "source": [
    "# get parameter values in cube for test cosmology\n",
    "old_test_values=old_like.sampling_point_from_parameters(old_test_like_params)\n",
    "# check that parameters inferred from these are same than computed before\n",
    "for par in old_like.parameters_from_sampling_point(values=old_test_values):\n",
    "    print(par.info_str(),',',par.value_in_cube())"
   ]
  },
  {
   "cell_type": "code",
   "execution_count": 25,
   "metadata": {
    "collapsed": false
   },
   "outputs": [
    {
     "name": "stdout",
     "output_type": "stream",
     "text": [
      "0 2.0 model {'Delta2_p': 0.5068511308139868, 'n_p': -2.342048810417209, 'alpha_p': -0.21641970780014766, 'f_p': 0.9583569136684355, 'mF': 0.8507256483811173, 'gamma': 1.5534927645653829, 'sigT_Mpc': 0.13078611068417573, 'kF_Mpc': 9.234642271117814}\n",
      "1 2.25 model {'Delta2_p': 0.43445388985904443, 'n_p': -2.342039733501798, 'alpha_p': -0.21642424974102525, 'f_p': 0.9666989020097663, 'mF': 0.8145423945568311, 'gamma': 1.5449855838581277, 'sigT_Mpc': 0.13051263566195997, 'kF_Mpc': 9.574544756852742}\n",
      "2 2.5 model {'Delta2_p': 0.37627311950649595, 'n_p': -2.3420307822848527, 'alpha_p': -0.21642898800316954, 'f_p': 0.9729433890617769, 'mF': 0.7709160253724354, 'gamma': 1.535466821877, 'sigT_Mpc': 0.12986720978610813, 'kF_Mpc': 9.91377946463774}\n",
      "3 2.75 model {'Delta2_p': 0.3288853633831223, 'n_p': -2.342021753345605, 'alpha_p': -0.21643337734533125, 'f_p': 0.9776963475296402, 'mF': 0.7191184346490203, 'gamma': 1.5246254858011445, 'sigT_Mpc': 0.1290634736772292, 'kF_Mpc': 10.258134266642541}\n",
      "4 3.0 model {'Delta2_p': 0.2898176692056767, 'n_p': -2.342013114409114, 'alpha_p': -0.2164374473700277, 'f_p': 0.9813695511850136, 'mF': 0.660167067771907, 'gamma': 1.5121709239991827, 'sigT_Mpc': 0.12810207002816792, 'kF_Mpc': 10.6348381789184}\n",
      "5 3.25 model {'Delta2_p': 0.2572550774258718, 'n_p': -2.3420046854450978, 'alpha_p': -0.216442451909809, 'f_p': 0.9842428923336671, 'mF': 0.594053238064041, 'gamma': 1.4976862040208383, 'sigT_Mpc': 0.12676966439967063, 'kF_Mpc': 11.064299239950307}\n",
      "6 3.5 model {'Delta2_p': 0.22984481868366954, 'n_p': -2.3419960131173836, 'alpha_p': -0.21644647645721188, 'f_p': 0.9865195811690295, 'mF': 0.5234547710339326, 'gamma': 1.4804211385932953, 'sigT_Mpc': 0.1250095291325381, 'kF_Mpc': 11.557444925607046}\n",
      "7 3.75 model {'Delta2_p': 0.20656435060542197, 'n_p': -2.3419878639273533, 'alpha_p': -0.21645055324325344, 'f_p': 0.9883434136490421, 'mF': 0.4470762255155257, 'gamma': 1.4561190023186836, 'sigT_Mpc': 0.11952938764038437, 'kF_Mpc': 12.137943241597341}\n",
      "8 4.0 model {'Delta2_p': 0.18663018539044188, 'n_p': -2.3419795937653722, 'alpha_p': -0.21645453488671731, 'f_p': 0.9898232760729386, 'mF': 0.3667549106286143, 'gamma': 1.4366944565860078, 'sigT_Mpc': 0.1124868806234996, 'kF_Mpc': 12.841201989686333}\n",
      "got P1D from emulator\n",
      "compute chi2 for z=2.0\n",
      "added 15.213428963015824 to log_like\n",
      "compute chi2 for z=2.25\n",
      "added 14.128912489568453 to log_like\n",
      "compute chi2 for z=2.5\n",
      "added 16.48471980280439 to log_like\n",
      "compute chi2 for z=2.75\n",
      "added 18.92306102638821 to log_like\n",
      "compute chi2 for z=3.0\n",
      "added 13.18353193833493 to log_like\n",
      "compute chi2 for z=3.25\n",
      "added 4.171050648345904 to log_like\n",
      "compute chi2 for z=3.5\n",
      "added 3.172738585215434 to log_like\n",
      "compute chi2 for z=3.75\n",
      "added -16.649832301110322 to log_like\n",
      "compute chi2 for z=4.0\n",
      "added -34.07277981046632 to log_like\n"
     ]
    },
    {
     "data": {
      "text/plain": [
       "34.554831342096485"
      ]
     },
     "execution_count": 25,
     "metadata": {},
     "output_type": "execute_result"
    }
   ],
   "source": [
    "old_like.get_log_like(values=old_test_values,ignore_log_det_cov=False)"
   ]
  },
  {
   "cell_type": "code",
   "execution_count": 26,
   "metadata": {
    "collapsed": false
   },
   "outputs": [
    {
     "name": "stdout",
     "output_type": "stream",
     "text": [
      "got parameters\n",
      "ombh2 = 0.022\n",
      "omch2 = 0.12\n",
      "As = 2.1e-09\n",
      "ns = 0.965\n",
      "H0 = 67.0\n",
      "ln_tau_0 = 0.0\n",
      "ln_tau_1 = 0.0\n",
      "ln_sigT_kms_0 = 0.0\n",
      "ln_sigT_kms_1 = 0.0\n",
      "ln_gamma_0 = 0.0\n",
      "ln_gamma_1 = 0.0\n",
      "ln_kF_0 = 0.0\n",
      "ln_kF_1 = 0.0\n",
      "likelihood setup with 3 free parameters\n",
      "3 free parameters\n"
     ]
    }
   ],
   "source": [
    "## Set up a likelihood object with the new theory object\n",
    "new_free_params=[\"As\",\"ns\",\"H0\"]\n",
    "new_like=likelihood.Likelihood(data=data,theory=new_theory,\n",
    "                            free_parameters=new_free_params,\n",
    "                            free_param_limits=None,\n",
    "                            verbose=True,\n",
    "                            prior_Gauss_rms=0.15,\n",
    "                            emu_cov_factor=1)"
   ]
  },
  {
   "cell_type": "code",
   "execution_count": 27,
   "metadata": {
    "collapsed": false
   },
   "outputs": [
    {
     "name": "stdout",
     "output_type": "stream",
     "text": [
      "As = 1.9e-09 , -0.500000000000001\n",
      "ns = 0.92 , -0.9999999999999963\n",
      "H0 = 50.0 , -0.9285714285714286\n"
     ]
    }
   ],
   "source": [
    "# get parameter values in cube for test cosmology in new theory\n",
    "new_test_values=new_like.sampling_point_from_parameters(new_test_like_params)\n",
    "# check that parameters inferred from these are same than computed before\n",
    "for par in new_like.parameters_from_sampling_point(values=new_test_values):\n",
    "    print(par.info_str(),',',par.value_in_cube())"
   ]
  },
  {
   "cell_type": "code",
   "execution_count": 28,
   "metadata": {
    "collapsed": false
   },
   "outputs": [
    {
     "name": "stdout",
     "output_type": "stream",
     "text": [
      "0 2.0 model {'Delta2_p': 0.5158301022028047, 'n_p': -2.3444512944977385, 'alpha_p': -0.21653333140739928, 'mF': 0.8507256483811173, 'gamma': 1.5534927645653829, 'sigT_Mpc': 0.134042289894799, 'kF_Mpc': 9.010312694203272}\n",
      "1 2.25 model {'Delta2_p': 0.4405094871015889, 'n_p': -2.3444513840392465, 'alpha_p': -0.21653343114322543, 'mF': 0.8145423945568311, 'gamma': 1.5449855838581277, 'sigT_Mpc': 0.13308974073523247, 'kF_Mpc': 9.389146485499525}\n",
      "2 2.5 model {'Delta2_p': 0.3804645956308694, 'n_p': -2.3444513656889594, 'alpha_p': -0.21653329025556498, 'mF': 0.7709160253724354, 'gamma': 1.535466821877, 'sigT_Mpc': 0.1319330557436291, 'kF_Mpc': 9.758546637539629}\n",
      "3 2.75 model {'Delta2_p': 0.3318537959707248, 'n_p': -2.3444514195666235, 'alpha_p': -0.21653305386771934, 'mF': 0.7191184346490203, 'gamma': 1.5246254858011445, 'sigT_Mpc': 0.13074044033566992, 'kF_Mpc': 10.126556392965496}\n",
      "4 3.0 model {'Delta2_p': 0.2919631977506819, 'n_p': -2.344451310866517, 'alpha_p': -0.21653370642470238, 'mF': 0.660167067771907, 'gamma': 1.5121709239991827, 'sigT_Mpc': 0.1294784287227376, 'kF_Mpc': 10.521789602894668}\n",
      "5 3.25 model {'Delta2_p': 0.25883419329589774, 'n_p': -2.3444512045908628, 'alpha_p': -0.21653358167027068, 'mF': 0.594053238064041, 'gamma': 1.4976862040208383, 'sigT_Mpc': 0.12790834203964777, 'kF_Mpc': 10.96580159745376}\n",
      "6 3.5 model {'Delta2_p': 0.2310262620732817, 'n_p': -2.3444514086213517, 'alpha_p': -0.2165335236458884, 'mF': 0.5234547710339326, 'gamma': 1.4804211385932953, 'sigT_Mpc': 0.12595750980544534, 'kF_Mpc': 11.470461351268458}\n",
      "7 3.75 model {'Delta2_p': 0.20746148570805847, 'n_p': -2.3444513016656283, 'alpha_p': -0.2165334217618217, 'mF': 0.4470762255155257, 'gamma': 1.4561190023186836, 'sigT_Mpc': 0.1203014226711773, 'kF_Mpc': 12.06004792518115}\n",
      "8 4.0 model {'Delta2_p': 0.18732075320994157, 'n_p': -2.344451269344503, 'alpha_p': -0.21653362510852903, 'mF': 0.3667549106286143, 'gamma': 1.4366944565860078, 'sigT_Mpc': 0.11311066853561205, 'kF_Mpc': 12.770384738918878}\n",
      "got P1D from emulator\n",
      "compute chi2 for z=2.0\n",
      "added 14.629476161965082 to log_like\n",
      "compute chi2 for z=2.25\n",
      "added 13.50367952755823 to log_like\n",
      "compute chi2 for z=2.5\n",
      "added 15.795484799259068 to log_like\n",
      "compute chi2 for z=2.75\n",
      "added 18.592933770721928 to log_like\n",
      "compute chi2 for z=3.0\n",
      "added 12.803745389992518 to log_like\n",
      "compute chi2 for z=3.25\n",
      "added 4.055950928615456 to log_like\n",
      "compute chi2 for z=3.5\n",
      "added 3.8287404150351154 to log_like\n",
      "compute chi2 for z=3.75\n",
      "added -15.738543521341008 to log_like\n",
      "compute chi2 for z=4.0\n",
      "added -30.536425316168483 to log_like\n"
     ]
    },
    {
     "data": {
      "text/plain": [
       "36.93504215563791"
      ]
     },
     "execution_count": 28,
     "metadata": {},
     "output_type": "execute_result"
    }
   ],
   "source": [
    "new_like.get_log_like(values=new_test_values,ignore_log_det_cov=False)"
   ]
  },
  {
   "cell_type": "code",
   "execution_count": null,
   "metadata": {
    "collapsed": true
   },
   "outputs": [],
   "source": []
  }
 ],
 "metadata": {
  "kernelspec": {
   "display_name": "Python 3",
   "language": "python",
   "name": "python3"
  },
  "language_info": {
   "codemirror_mode": {
    "name": "ipython",
    "version": 3
   },
   "file_extension": ".py",
   "mimetype": "text/x-python",
   "name": "python",
   "nbconvert_exporter": "python",
   "pygments_lexer": "ipython3",
   "version": "3.6.7"
  }
 },
 "nbformat": 4,
 "nbformat_minor": 4
}
