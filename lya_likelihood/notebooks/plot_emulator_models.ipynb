{
 "cells": [
  {
   "cell_type": "markdown",
   "metadata": {},
   "source": [
    "# Plot emulator calls for a given model"
   ]
  },
  {
   "cell_type": "code",
   "execution_count": 1,
   "metadata": {
    "collapsed": false
   },
   "outputs": [],
   "source": [
    "%matplotlib inline\n",
    "%load_ext autoreload\n",
    "%autoreload 2\n",
    "import numpy as np\n",
    "import sys\n",
    "import os\n",
    "import json\n",
    "import matplotlib.pyplot as plt\n",
    "import matplotlib as mpl\n",
    "mpl.rcParams['savefig.dpi'] = 120\n",
    "mpl.rcParams['figure.dpi'] = 120\n",
    "# our own modules\n",
    "import simplest_emulator\n",
    "import data_PD2013\n",
    "import mean_flux_model\n",
    "import thermal_model\n",
    "import camb_cosmo\n",
    "import fit_linP\n",
    "import recons_cosmo\n",
    "import compute_likelihood"
   ]
  },
  {
   "cell_type": "markdown",
   "metadata": {},
   "source": [
    "### Specify suite of simulations to use, read P1D arxiv and setup simplest emulator"
   ]
  },
  {
   "cell_type": "code",
   "execution_count": 2,
   "metadata": {
    "collapsed": false
   },
   "outputs": [
    {
     "name": "stdout",
     "output_type": "stream",
     "text": [
      "latin hyper-cube data {'param_space': {'Om_star': {'ip': 0, 'min_val': 0.955, 'max_val': 0.975, 'z_star': 3.0, 'latex': '$\\\\Omega_\\\\star$'}, 'Delta2_star': {'ip': 1, 'min_val': 0.25, 'max_val': 0.45, 'z_star': 3.0, 'kp_Mpc': 0.7, 'latex': '$\\\\Delta^2_\\\\star$'}, 'mu_He': {'ip': 2, 'min_val': 0.5, 'max_val': 2.0, 'latex': '$\\\\mu_{\\\\rm He}$'}}, 'nsamples': 5, 'samples': {'0': [0.961, 0.39, 1.25], '1': [0.965, 0.31, 0.9500000000000001], '2': [0.969, 0.35, 1.55], '3': [0.973, 0.27, 0.65], '4': [0.957, 0.43000000000000005, 1.85]}}\n",
      "simulation suite has 5 samples\n",
      "0 sample has sim params = [0.961, 0.39, 1.25]\n",
      "simulation has 7 redshifts\n",
      "/Users/font/CosmoData/test_sim_emulator/test_medium//sim_pair_0 does not have this snapshot 0\n",
      "1 sample has sim params = [0.965, 0.31, 0.9500000000000001]\n",
      "simulation has 7 redshifts\n",
      "/Users/font/CosmoData/test_sim_emulator/test_medium//sim_pair_1 does not have this snapshot 0\n",
      "2 sample has sim params = [0.969, 0.35, 1.55]\n",
      "simulation has 7 redshifts\n",
      "/Users/font/CosmoData/test_sim_emulator/test_medium//sim_pair_2 does not have this snapshot 0\n",
      "3 sample has sim params = [0.973, 0.27, 0.65]\n",
      "simulation has 7 redshifts\n",
      "/Users/font/CosmoData/test_sim_emulator/test_medium//sim_pair_3 does not have this snapshot 0\n",
      "4 sample has sim params = [0.957, 0.43000000000000005, 1.85]\n",
      "simulation has 7 redshifts\n",
      "/Users/font/CosmoData/test_sim_emulator/test_medium//sim_pair_4 does not have this snapshot 0\n",
      "Arxiv setup, containing 8250 entries\n",
      "will use metric {'mF': 0.02, 'kF_Mpc': 0.1, 'sigT_Mpc': 0.002, 'gamma': 0.02, 'Delta2_p': 0.01, 'n_p': 0.001, 'alpha_p': 0.001, 'f_p': 0.002}\n"
     ]
    }
   ],
   "source": [
    "basedir='/Users/font/CosmoData/test_sim_emulator/test_medium/'\n",
    "#basedir='../mini_sim_suite/'\n",
    "skewers_label='Ns100_wM0.1'\n",
    "emu=simplest_emulator.SimplestEmulator(basedir,skewers_label,verbose=True)"
   ]
  },
  {
   "cell_type": "markdown",
   "metadata": {},
   "source": [
    "### Read P1D data from Palanque-Delabrouille et al. (2013), to get redshift bins"
   ]
  },
  {
   "cell_type": "code",
   "execution_count": 3,
   "metadata": {
    "collapsed": false
   },
   "outputs": [],
   "source": [
    "basedir='../../p1d_data/data_files/PD2013/'\n",
    "data=data_PD2013.P1D_PD2013(basedir=basedir)\n",
    "zs=data.z\n",
    "# while testing, use only a handful of bins\n",
    "zs=data.z[::4]\n",
    "Nz=len(zs)"
   ]
  },
  {
   "cell_type": "markdown",
   "metadata": {},
   "source": [
    "### Setup nuisance models"
   ]
  },
  {
   "cell_type": "code",
   "execution_count": 4,
   "metadata": {
    "collapsed": false
   },
   "outputs": [],
   "source": [
    "mf_model=mean_flux_model.MeanFluxModel(z_tau=4.5)\n",
    "#mf_model=mean_flux_model.MeanFluxModel()\n",
    "T_model=thermal_model.ThermalModel()"
   ]
  },
  {
   "cell_type": "code",
   "execution_count": 5,
   "metadata": {
    "collapsed": false
   },
   "outputs": [
    {
     "name": "stdout",
     "output_type": "stream",
     "text": [
      "<F>(z=3.40) = 0.800759\n",
      "T_0(z=3.40) = 10000.000000\n",
      "gamma(z=3.40) = 1.456532\n"
     ]
    }
   ],
   "source": [
    "z=3.4\n",
    "print('<F>(z=%.2f) = %f'%(z,mf_model.get_mean_flux(z)))\n",
    "print('T_0(z=%.2f) = %f'%(z,T_model.get_T0(z)))\n",
    "print('gamma(z=%.2f) = %f'%(z,T_model.get_gamma(z)))"
   ]
  },
  {
   "cell_type": "markdown",
   "metadata": {},
   "source": [
    "### Setup cosmological model"
   ]
  },
  {
   "cell_type": "code",
   "execution_count": 6,
   "metadata": {
    "collapsed": false
   },
   "outputs": [
    {
     "name": "stdout",
     "output_type": "stream",
     "text": [
      "H0 = 6.7000E+01, Omega_b h^2 = 2.2000E-02, Omega_c h^2 = 1.2000E-01, Omega_k = 0.0000E+00, Omega_nu h^2 = 1.6128E-03, T_CMB = 2.7255E+00, A_s = 2.1000E-09, n_s = 9.6500E-01, alpha_s = 0.0000E+00\n"
     ]
    }
   ],
   "source": [
    "# specify cosmology\n",
    "cosmo = camb_cosmo.get_cosmology(mnu=0.15, ns=0.965, omch2=0.12)\n",
    "# print relevant information about the cosmology object\n",
    "camb_cosmo.print_info(cosmo)"
   ]
  },
  {
   "cell_type": "code",
   "execution_count": 7,
   "metadata": {
    "collapsed": false
   },
   "outputs": [
    {
     "data": {
      "text/plain": [
       "{'Delta2_star': 0.34359089153174016,\n",
       " 'alpha_star': -0.21586983258446132,\n",
       " 'f_star': 0.97514327990258953,\n",
       " 'g_star': 0.968209492732573,\n",
       " 'n_star': -2.300572652881717}"
      ]
     },
     "execution_count": 7,
     "metadata": {},
     "output_type": "execute_result"
    }
   ],
   "source": [
    "# compute linear power parameters, around z_star and kp_kms\n",
    "z_star=3.0\n",
    "kp_kms=0.009\n",
    "linP_model=fit_linP.LinearPowerModel(cosmo,z_star=z_star,k_units='kms',kp=kp_kms)\n",
    "linP_model.get_params()"
   ]
  },
  {
   "cell_type": "markdown",
   "metadata": {},
   "source": [
    "### Use fiducial cosmology to reconstruct input cosmology"
   ]
  },
  {
   "cell_type": "code",
   "execution_count": 8,
   "metadata": {
    "collapsed": false
   },
   "outputs": [
    {
     "name": "stdout",
     "output_type": "stream",
     "text": [
      "Note: redshifts have been re-sorted (earliest first)\n"
     ]
    }
   ],
   "source": [
    "# setup fiducial cosmology\n",
    "cosmo_fid = camb_cosmo.get_cosmology()\n",
    "# reconstruct cosmology using linear parameter model (at z_star, kp_kms)\n",
    "rec_cosmo=recons_cosmo.ReconstructedCosmology(linP_model,cosmo_fid)\n",
    "# compute linear power parameters at each redshift (in Mpc)\n",
    "linP_Mpc_params=rec_cosmo.get_linP_Mpc_params(zs)"
   ]
  },
  {
   "cell_type": "markdown",
   "metadata": {},
   "source": [
    "### For a given pair of parameters, plot arxiv and emulator calls"
   ]
  },
  {
   "cell_type": "code",
   "execution_count": 9,
   "metadata": {
    "collapsed": false
   },
   "outputs": [],
   "source": [
    "emu_calls=[]\n",
    "for iz in range(Nz):\n",
    "    # acess data for this redshift\n",
    "    z=zs[iz]\n",
    "    # get emulator parameters for linear power, at this redshift (in Mpc)\n",
    "    call=linP_Mpc_params[iz]\n",
    "    # get emulator parameters for nuisance models, at this redshift\n",
    "    call['mF']=mf_model.get_mean_flux(z)\n",
    "    call['gamma']=T_model.get_gamma(z)\n",
    "    T0=T_model.get_T0(z)\n",
    "    sigT_kms=thermal_model.thermal_broadening_kms(T0)\n",
    "    dkms_dMpc=rec_cosmo.reconstruct_Hubble(z)/(1+z)\n",
    "    call['sigT_Mpc']=sigT_kms/dkms_dMpc\n",
    "    emu_calls.append(call)"
   ]
  },
  {
   "cell_type": "code",
   "execution_count": 10,
   "metadata": {
    "collapsed": false
   },
   "outputs": [],
   "source": [
    "def overplot_parameter_pair(emu,emu_calls,param_1,param_2,zs=None):\n",
    "    # figure out values of param_1,param_2 called\n",
    "    call_1=[emu_call[param_1] for emu_call in emu_calls]\n",
    "    print(param_1,'was called at',call_1)\n",
    "    call_2=[emu_call[param_2] for emu_call in emu_calls]\n",
    "    print(param_2,'was called at',call_2)\n",
    "    # figure out values of param_1,param_2 in arxiv\n",
    "    emu_1=np.array([emu.arxiv.data[i][param_1] for i in range(len(emu.arxiv.data))])\n",
    "    print(param_1,'first values in arxiv',emu_1[:5])\n",
    "    emu_2=np.array([emu.arxiv.data[i][param_2] for i in range(len(emu.arxiv.data))])\n",
    "    print(param_2,'first values in arxiv',emu_2[:5])\n",
    "    # overplot\n",
    "    if zs is not None:\n",
    "        emu_z=np.array([emu.arxiv.data[i]['z'] for i in range(len(emu.arxiv.data))])\n",
    "        zmin=min(emu_z)\n",
    "        zmax=max(emu_z)\n",
    "        plt.scatter(emu_1,emu_2,c=emu_z,s=1,vmin=zmin, vmax=zmax)\n",
    "        plt.scatter(call_1,call_2,c=zs,s=50,vmin=zmin, vmax=zmax)\n",
    "        cbar=plt.colorbar()\n",
    "        cbar.set_label(\"Redshift\", labelpad=+1)\n",
    "    else:\n",
    "        plt.scatter(emu_1,emu_2,s=5)\n",
    "        plt.scatter(call_1,call_2,s=25)        \n",
    "    plt.xlabel(param_1)\n",
    "    plt.ylabel(param_2)"
   ]
  },
  {
   "cell_type": "code",
   "execution_count": 11,
   "metadata": {
    "collapsed": false
   },
   "outputs": [
    {
     "name": "stdout",
     "output_type": "stream",
     "text": [
      "mF was called at [0.92246016594360691, 0.84865765105517121, 0.74600413851372327]\n",
      "Delta2_p was called at [0.52940508668690001, 0.3963222761532938, 0.30758350505290799]\n",
      "mF first values in arxiv [ 0.68991821  0.65999682  0.63335376  0.60933539  0.58747571]\n",
      "Delta2_p first values in arxiv [ 0.17524516  0.17524516  0.17524516  0.17524516  0.17524516]\n"
     ]
    },
    {
     "data": {
      "image/png": "[encoded data removed]",
      "text/plain": [
       "<matplotlib.figure.Figure at 0x11a320860>"
      ]
     },
     "metadata": {},
     "output_type": "display_data"
    }
   ],
   "source": [
    "overplot_parameter_pair(emu,emu_calls,'mF','Delta2_p',zs)"
   ]
  },
  {
   "cell_type": "code",
   "execution_count": 12,
   "metadata": {
    "collapsed": false
   },
   "outputs": [
    {
     "data": {
      "text/plain": [
       "{'nsamples': 5,\n",
       " 'param_space': {'Delta2_star': {'ip': 1,\n",
       "   'kp_Mpc': 0.7,\n",
       "   'latex': '$\\\\Delta^2_\\\\star$',\n",
       "   'max_val': 0.45,\n",
       "   'min_val': 0.25,\n",
       "   'z_star': 3.0},\n",
       "  'Om_star': {'ip': 0,\n",
       "   'latex': '$\\\\Omega_\\\\star$',\n",
       "   'max_val': 0.975,\n",
       "   'min_val': 0.955,\n",
       "   'z_star': 3.0},\n",
       "  'mu_He': {'ip': 2,\n",
       "   'latex': '$\\\\mu_{\\\\rm He}$',\n",
       "   'max_val': 2.0,\n",
       "   'min_val': 0.5}},\n",
       " 'samples': {'0': [0.961, 0.39, 1.25],\n",
       "  '1': [0.965, 0.31, 0.9500000000000001],\n",
       "  '2': [0.969, 0.35, 1.55],\n",
       "  '3': [0.973, 0.27, 0.65],\n",
       "  '4': [0.957, 0.43000000000000005, 1.85]}}"
      ]
     },
     "execution_count": 12,
     "metadata": {},
     "output_type": "execute_result"
    }
   ],
   "source": [
    "emu.arxiv.cube_data"
   ]
  },
  {
   "cell_type": "code",
   "execution_count": null,
   "metadata": {
    "collapsed": true
   },
   "outputs": [],
   "source": []
  }
 ],
 "metadata": {
  "kernelspec": {
   "display_name": "Python 3",
   "language": "python",
   "name": "python3"
  },
  "language_info": {
   "codemirror_mode": {
    "name": "ipython",
    "version": 3
   },
   "file_extension": ".py",
   "mimetype": "text/x-python",
   "name": "python",
   "nbconvert_exporter": "python",
   "pygments_lexer": "ipython3",
   "version": "3.6.7"
  }
 },
 "nbformat": 4,
 "nbformat_minor": 2
}
