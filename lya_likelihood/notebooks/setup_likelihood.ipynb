{
 "cells": [
  {
   "cell_type": "markdown",
   "metadata": {},
   "source": [
    "## Set up likelihood\n",
    "\n",
    "Basic syntax to set up a default likelihood object for the Australia20 suite"
   ]
  },
  {
   "cell_type": "code",
   "execution_count": 1,
   "metadata": {},
   "outputs": [],
   "source": [
    "import likelihood\n",
    "import data_MPGADGET\n",
    "import gp_emulator\n",
    "import json\n",
    "import p1d_arxiv\n",
    "import numpy as np"
   ]
  },
  {
   "cell_type": "code",
   "execution_count": 2,
   "metadata": {},
   "outputs": [],
   "source": [
    "## Training data configuration\n",
    "test_sim_num=15\n",
    "skewers_label='Ns500_wM0.05' ## For Aus20 suite\n",
    "basedir=\"/p1d_emulator/sim_suites/Australia20/\"\n",
    "p1d_label=None\n",
    "paramList=['mF', 'sigT_Mpc', 'gamma', 'kF_Mpc', 'Delta2_p', 'n_p'] ## Emulator parameters\n",
    "kmax_Mpc=8\n",
    "\n",
    "## Likelihood parameters\n",
    "like_params=[\"Delta2_star\",\"n_star\",\"ln_tau_0\",\"ln_tau_1\",\"ln_sigT_kms_0\",\"ln_sigT_kms_1\",\"ln_gamma_0\",\"ln_gamma_1\",\"ln_kF_0\",\"ln_kF_1\"]\n",
    "like_param_limits=[[0.24, 0.47], [-2.352, -2.25], [-0.2, 0.2], [-0.2, 0.2], [-0.2, 0.2], [-0.2, 0.2], [-0.2, 0.2], [-0.2, 0.2], [-0.2, 0.2], [-0.2, 0.2]]"
   ]
  },
  {
   "cell_type": "code",
   "execution_count": 3,
   "metadata": {},
   "outputs": [
    {
     "name": "stdout",
     "output_type": "stream",
     "text": [
      "Note: redshifts have been re-sorted (earliest first)\n"
     ]
    }
   ],
   "source": [
    "data=data_MPGADGET.P1D_MPGADGET(sim_number=test_sim_num,\n",
    "                                basedir=basedir,\n",
    "                                skewers_label=skewers_label,\n",
    "                                data_cov_factor=1)"
   ]
  },
  {
   "cell_type": "code",
   "execution_count": 4,
   "metadata": {},
   "outputs": [],
   "source": [
    "arxiv=p1d_arxiv.ArxivP1D(basedir=basedir,drop_sim_number=test_sim_num,\n",
    "                            drop_tau_rescalings=True,z_max=4,\n",
    "                            drop_temp_rescalings=True,skewers_label=skewers_label)"
   ]
  },
  {
   "cell_type": "code",
   "execution_count": 5,
   "metadata": {},
   "outputs": [
    {
     "name": "stderr",
     "output_type": "stream",
     "text": [
      " /home/chris/.local/lib/python3.5/site-packages/paramz/parameterized.py:61: RuntimeWarning:Don't forget to initialize by self.initialize_parameter()!\n"
     ]
    }
   ],
   "source": [
    "emu=gp_emulator.GPEmulator(basedir,p1d_label,skewers_label,z_max=4,\n",
    "                                verbose=False,paramList=paramList,train=False,\n",
    "                                emu_type=\"k_bin\",passArxiv=arxiv,kmax_Mpc=8)\n",
    "emu.load_default()"
   ]
  },
  {
   "cell_type": "code",
   "execution_count": 6,
   "metadata": {},
   "outputs": [
    {
     "name": "stdout",
     "output_type": "stream",
     "text": [
      "use default theory\n",
      "Note: redshifts have been re-sorted (earliest first)\n",
      "likelihood setup with 10 free parameters\n",
      "10 free parameters\n"
     ]
    }
   ],
   "source": [
    "like=likelihood.Likelihood(data=data,emulator=emu,\n",
    "                            free_parameters=like_params,\n",
    "                            free_param_limits=like_param_limits,\n",
    "                            verbose=True,\n",
    "                            prior_Gauss_rms=-1,\n",
    "                            emu_cov_factor=1)"
   ]
  },
  {
   "cell_type": "code",
   "execution_count": 7,
   "metadata": {},
   "outputs": [
    {
     "name": "stdout",
     "output_type": "stream",
     "text": [
      "got P1D from emulator\n",
      "compute chi2 for z=2.0\n",
      "added 7.341765579021255 to log_like\n",
      "compute chi2 for z=2.25\n",
      "added -3.727971085881201 to log_like\n",
      "compute chi2 for z=2.5\n",
      "added -8.934703378104992 to log_like\n",
      "compute chi2 for z=2.75\n",
      "added -11.059842881541567 to log_like\n",
      "compute chi2 for z=3.0\n",
      "added -17.47211230389319 to log_like\n",
      "compute chi2 for z=3.25\n",
      "added -31.845305918767234 to log_like\n",
      "compute chi2 for z=3.5\n",
      "added -52.2116519980725 to log_like\n",
      "compute chi2 for z=3.75\n",
      "added -69.54410181569149 to log_like\n",
      "compute chi2 for z=4.0\n",
      "added -157.11372487866575 to log_like\n"
     ]
    },
    {
     "data": {
      "text/plain": [
       "-344.99892668514036"
      ]
     },
     "execution_count": 7,
     "metadata": {},
     "output_type": "execute_result"
    }
   ],
   "source": [
    "## Evaluate log_prob at random point in parameter space\n",
    "theta=np.random.uniform(0,1,len(like.free_params))\n",
    "like.log_prob(theta)"
   ]
  }
 ],
 "metadata": {
  "kernelspec": {
   "display_name": "Python 3",
   "language": "python",
   "name": "python3"
  },
  "language_info": {
   "codemirror_mode": {
    "name": "ipython",
    "version": 3
   },
   "file_extension": ".py",
   "mimetype": "text/x-python",
   "name": "python",
   "nbconvert_exporter": "python",
   "pygments_lexer": "ipython3",
   "version": "3.5.2"
  }
 },
 "nbformat": 4,
 "nbformat_minor": 4
}
