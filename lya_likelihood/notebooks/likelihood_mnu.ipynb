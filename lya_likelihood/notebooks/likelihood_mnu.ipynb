{
 "cells": [
  {
   "cell_type": "markdown",
   "metadata": {},
   "source": [
    "## Compare likelihoods for theories with massive neutrinos\n",
    "\n",
    "We redo the notebook likelihood_test, but now varying also mnu. We will play with the different models in the paper on neutrinos: https://arxiv.org/abs/1911.09596"
   ]
  },
  {
   "cell_type": "code",
   "execution_count": 1,
   "metadata": {
    "collapsed": true
   },
   "outputs": [],
   "source": [
    "%matplotlib inline\n",
    "import numpy as np\n",
    "import matplotlib.pyplot as plt\n",
    "import matplotlib as mpl\n",
    "mpl.rcParams['savefig.dpi'] = 140\n",
    "mpl.rcParams['figure.dpi'] = 140\n",
    "# our modules\n",
    "import data_MPGADGET\n",
    "import p1d_arxiv\n",
    "import gp_emulator\n",
    "import likelihood\n",
    "import likelihood_parameter\n",
    "import lya_theory\n",
    "import full_theory\n",
    "import camb_cosmo\n",
    "import CAMB_model\n",
    "import fit_linP"
   ]
  },
  {
   "cell_type": "code",
   "execution_count": 2,
   "metadata": {
    "collapsed": true
   },
   "outputs": [],
   "source": [
    "# specify verbosity for all objects (except emulator)\n",
    "verbose=False"
   ]
  },
  {
   "cell_type": "markdown",
   "metadata": {},
   "source": [
    "### Setup mock data, from one of simulations in the suite"
   ]
  },
  {
   "cell_type": "code",
   "execution_count": 3,
   "metadata": {
    "collapsed": false
   },
   "outputs": [],
   "source": [
    "# specify simulation suite and P1D mesurements\n",
    "basedir=\"/p1d_emulator/sim_suites/Australia20/\"\n",
    "skewers_label='Ns500_wM0.05'\n",
    "p1d_label=None\n",
    "# specify simulation to use to generate synthetic data\n",
    "test_sim_num=15\n",
    "data=data_MPGADGET.P1D_MPGADGET(sim_number=test_sim_num,basedir=basedir,skewers_label=skewers_label,data_cov_factor=1)"
   ]
  },
  {
   "cell_type": "markdown",
   "metadata": {},
   "source": [
    "### Setup archive of P1D measurements from simulations and train the emulator"
   ]
  },
  {
   "cell_type": "code",
   "execution_count": 4,
   "metadata": {
    "collapsed": true
   },
   "outputs": [],
   "source": [
    "# specify redshift range\n",
    "z_max=4\n",
    "# do not use test_sim_num that was used in generating mock data\n",
    "arxiv=p1d_arxiv.ArxivP1D(basedir=basedir,drop_sim_number=test_sim_num,\n",
    "                            drop_tau_rescalings=True,z_max=z_max,\n",
    "                            drop_temp_rescalings=True,skewers_label=skewers_label)"
   ]
  },
  {
   "cell_type": "code",
   "execution_count": 5,
   "metadata": {
    "collapsed": false
   },
   "outputs": [
    {
     "name": "stderr",
     "output_type": "stream",
     "text": [
      " /Users/font/Programs/Others/anaconda3/lib/python3.6/site-packages/paramz/parameterized.py:61: RuntimeWarning:Don't forget to initialize by self.initialize_parameter()!\n"
     ]
    },
    {
     "name": "stdout",
     "output_type": "stream",
     "text": [
      "Training GP on 270 points\n",
      "Optimised\n"
     ]
    }
   ],
   "source": [
    "# specify parameters to be used in emulator\n",
    "paramList=['mF', 'sigT_Mpc', 'gamma', 'kF_Mpc', 'Delta2_p', 'n_p']\n",
    "# specify k range\n",
    "kmax_Mpc=8\n",
    "# setup GP emulator\n",
    "emu=gp_emulator.GPEmulator(basedir,p1d_label,skewers_label,z_max=z_max,\n",
    "                                verbose=False,paramList=paramList,train=True,\n",
    "                                emu_type=\"k_bin\",passArxiv=arxiv,kmax_Mpc=kmax_Mpc,\n",
    "                                drop_tau_rescalings=True,\n",
    "                                drop_temp_rescalings=True)"
   ]
  },
  {
   "cell_type": "markdown",
   "metadata": {},
   "source": [
    "### Setup relevant cosmology objects"
   ]
  },
  {
   "cell_type": "code",
   "execution_count": null,
   "metadata": {
    "collapsed": false
   },
   "outputs": [
    {
     "name": "stdout",
     "output_type": "stream",
     "text": [
      "H0 = 6.7000E+01, Omega_b h^2 = 2.2000E-02, Omega_c h^2 = 1.2000E-01, Omega_k = 0.0000E+00, Omega_nu h^2 = 0.0000E+00, A_s = 1.9520E-09, n_s = 9.6500E-01, alpha_s = 0.0000E+00\n",
      "old likelihood parameters\n",
      "g_star = 0.9677508579459803\n",
      "f_star = 0.981369557840318\n",
      "Delta2_star = 0.3347920795805195\n",
      "n_star = -2.29933566725751\n",
      "alpha_star = -0.21652703712064045\n",
      "new likelihood parameters\n",
      "ombh2 = 0.022\n",
      "omch2 = 0.12\n",
      "As = 1.952e-09\n",
      "ns = 0.965\n",
      "H0 = 67.0\n",
      "mnu = 0.0\n"
     ]
    }
   ],
   "source": [
    "# massless cosmology (to be used as fiducial)\n",
    "cosmo_mnu0=camb_cosmo.get_cosmology(As=1.952e-9,mnu=0.0)\n",
    "camb_cosmo.print_info(cosmo_mnu0)\n",
    "# compute linP parameters\n",
    "linP_mnu0=fit_linP.LinearPowerModel(cosmo=cosmo_mnu0)\n",
    "old_like_params_mnu0=linP_mnu0.get_likelihood_parameters()\n",
    "print('old likelihood parameters')\n",
    "for par in old_like_params_mnu0:\n",
    "    print(par.info_str())\n",
    "# setup camb model (needed in full_theory)\n",
    "camb_model_mnu0=CAMB_model.CAMBModel(zs=data.z,cosmo=cosmo_mnu0)\n",
    "new_like_params_mnu0=camb_model_mnu0.get_likelihood_parameters()\n",
    "print('new likelihood parameters')\n",
    "for par in new_like_params_mnu0:\n",
    "    print(par.info_str())"
   ]
  },
  {
   "cell_type": "code",
   "execution_count": null,
   "metadata": {
    "collapsed": false
   },
   "outputs": [
    {
     "name": "stdout",
     "output_type": "stream",
     "text": [
      "H0 = 6.7000E+01, Omega_b h^2 = 2.2000E-02, Omega_c h^2 = 1.2000E-01, Omega_k = 0.0000E+00, Omega_nu h^2 = 3.2257E-03, A_s = 2.1420E-09, n_s = 9.6500E-01, alpha_s = 0.0000E+00\n"
     ]
    }
   ],
   "source": [
    "# massive cosmology (to be used as test)\n",
    "cosmo_mnu03=camb_cosmo.get_cosmology(As=2.142e-9,mnu=0.3)\n",
    "camb_cosmo.print_info(cosmo_mnu03)\n",
    "# compute linP parameters\n",
    "linP_mnu03=fit_linP.LinearPowerModel(cosmo=cosmo_mnu03)\n",
    "old_like_params_mnu03=linP_mnu03.get_likelihood_parameters()\n",
    "print('old likelihood parameters')\n",
    "for par in old_like_params_mnu03:\n",
    "    print(par.info_str())\n",
    "# setup camb model (needed in full_theory)\n",
    "camb_model_mnu03=CAMB_model.CAMBModel(zs=data.z,cosmo=cosmo_mnu03)\n",
    "new_like_params_mnu03=camb_model_mnu03.get_likelihood_parameters()\n",
    "print('new likelihood parameters')\n",
    "for par in new_like_params_mnu03:\n",
    "    print(par.info_str())"
   ]
  },
  {
   "cell_type": "markdown",
   "metadata": {},
   "source": [
    "### Setup and compare theory objects for massless cosmology"
   ]
  },
  {
   "cell_type": "markdown",
   "metadata": {},
   "source": [
    "Start by setting up an old theory object, that uses only compressed linP parameters"
   ]
  },
  {
   "cell_type": "code",
   "execution_count": null,
   "metadata": {
    "collapsed": false
   },
   "outputs": [],
   "source": [
    "old_theory=lya_theory.LyaTheory(zs=data.z,emulator=emu,cosmo_fid=cosmo_mnu0,verbose=verbose)\n",
    "old_emu_calls_mnu0=old_theory.get_emulator_calls()"
   ]
  },
  {
   "cell_type": "markdown",
   "metadata": {},
   "source": [
    "Setup now a new theory object, that holds a CAMB object"
   ]
  },
  {
   "cell_type": "code",
   "execution_count": null,
   "metadata": {
    "collapsed": false
   },
   "outputs": [],
   "source": [
    "new_theory=full_theory.FullTheory(zs=data.z,emulator=emu,camb_model_fid=camb_model_mnu0,verbose=verbose)\n",
    "new_emu_calls_mnu0=new_theory.get_emulator_calls(return_M_of_z=False)"
   ]
  },
  {
   "cell_type": "code",
   "execution_count": null,
   "metadata": {
    "collapsed": false
   },
   "outputs": [],
   "source": [
    "print(\"z=2 emulator calls for old theory = \", old_emu_calls_mnu0[0])\n",
    "print(\"z=2 emulator calls for new theory = \", new_emu_calls_mnu0[0])"
   ]
  },
  {
   "cell_type": "markdown",
   "metadata": {},
   "source": [
    "Note that the numbers above are not supposed to exactly match, since kp_Mpc is slightly different in both theories"
   ]
  },
  {
   "cell_type": "markdown",
   "metadata": {},
   "source": [
    "### Compare now emulator calls for the massive neutrino cosmology"
   ]
  },
  {
   "cell_type": "code",
   "execution_count": null,
   "metadata": {
    "collapsed": false
   },
   "outputs": [],
   "source": [
    "# call the old theory, but using the freshly computed likelihood parameters from the test cosmology\n",
    "old_emu_calls_mnu03=old_theory.get_emulator_calls(like_params=old_like_params_mnu03)"
   ]
  },
  {
   "cell_type": "code",
   "execution_count": null,
   "metadata": {
    "collapsed": false
   },
   "outputs": [],
   "source": [
    "# we want to study also cases where we ignore some of the parameters\n",
    "cull_params=['f_star','g_star','alpha_star']\n",
    "culled_like_params_mnu03 = [par for par in old_like_params_mnu03 if par.name not in cull_params]\n",
    "for par in culled_like_params_mnu03:\n",
    "    print(par.info_str())\n",
    "# same, but using only the culled parameters\n",
    "culled_emu_calls_mnu03=old_theory.get_emulator_calls(like_params=culled_like_params_mnu03)"
   ]
  },
  {
   "cell_type": "code",
   "execution_count": null,
   "metadata": {
    "collapsed": false
   },
   "outputs": [],
   "source": [
    "# call the new theory, but using the freshly computed likelihood parameters for the test cosmology\n",
    "new_emu_calls_mnu03=new_theory.get_emulator_calls(like_params=new_like_params_mnu03,return_M_of_z=False)"
   ]
  },
  {
   "cell_type": "code",
   "execution_count": null,
   "metadata": {
    "collapsed": false
   },
   "outputs": [],
   "source": [
    "print(\"z = {} emulator calls from old theory = {}\".format(data.z[0],old_emu_calls_mnu03[0]))\n",
    "print(\"z = {} emulator calls from culled theory = {}\".format(data.z[0],culled_emu_calls_mnu03[0]))\n",
    "print(\"z = {} emulator calls from new theory = {}\".format(data.z[0],new_emu_calls_mnu03[0]))"
   ]
  },
  {
   "cell_type": "code",
   "execution_count": null,
   "metadata": {
    "collapsed": false
   },
   "outputs": [],
   "source": [
    "print(\"z = {} emulator calls from old theory = {}\".format(data.z[-1],old_emu_calls_mnu03[-1]))\n",
    "print(\"z = {} emulator calls from culled theory = {}\".format(data.z[-1],culled_emu_calls_mnu03[-1]))\n",
    "print(\"z = {} emulator calls from new theory = {}\".format(data.z[-1],new_emu_calls_mnu03[-1]))"
   ]
  },
  {
   "cell_type": "markdown",
   "metadata": {},
   "source": [
    "Both new and old theories make the same emulator call for a theory that is not the fiducial!"
   ]
  },
  {
   "cell_type": "markdown",
   "metadata": {},
   "source": [
    "## Test now the likelihood objects"
   ]
  },
  {
   "cell_type": "markdown",
   "metadata": {
    "collapsed": false
   },
   "source": [
    "### Old likelihood using all five parameters"
   ]
  },
  {
   "cell_type": "code",
   "execution_count": null,
   "metadata": {
    "collapsed": false
   },
   "outputs": [],
   "source": [
    "## Set up a likelihood object with the old theory object\n",
    "#old_free_params=['Delta2_star','n_star']\n",
    "old_free_params=['Delta2_star','n_star','alpha_star','f_star','g_star']\n",
    "old_like=likelihood.Likelihood(data=data,theory=old_theory,\n",
    "                            free_parameters=old_free_params,\n",
    "                            free_param_limits=None,\n",
    "                            verbose=verbose,\n",
    "                            prior_Gauss_rms=0.15,\n",
    "                            emu_cov_factor=1)"
   ]
  },
  {
   "cell_type": "code",
   "execution_count": null,
   "metadata": {
    "collapsed": false
   },
   "outputs": [],
   "source": [
    "# get parameter values in cube for test cosmology\n",
    "old_values_mnu03=old_like.sampling_point_from_parameters(old_like_params_mnu03)\n",
    "# check that parameters inferred from these are same than computed before\n",
    "for par in old_like.parameters_from_sampling_point(values=old_values_mnu03):\n",
    "    print(par.info_str(),',',par.value_in_cube())\n",
    "old_like.get_log_like(values=old_values_mnu03,ignore_log_det_cov=False)"
   ]
  },
  {
   "cell_type": "markdown",
   "metadata": {
    "collapsed": false
   },
   "source": [
    "### Old likelihood using only two parameters"
   ]
  },
  {
   "cell_type": "code",
   "execution_count": null,
   "metadata": {
    "collapsed": false
   },
   "outputs": [],
   "source": [
    "## Set up a likelihood object with the old theory object, but now with only 2 key parameters\n",
    "culled_free_params=['Delta2_star','n_star']\n",
    "culled_like=likelihood.Likelihood(data=data,theory=old_theory,\n",
    "                            free_parameters=culled_free_params,\n",
    "                            free_param_limits=None,\n",
    "                            verbose=verbose,\n",
    "                            prior_Gauss_rms=0.15,\n",
    "                            emu_cov_factor=1)"
   ]
  },
  {
   "cell_type": "code",
   "execution_count": null,
   "metadata": {
    "collapsed": false
   },
   "outputs": [],
   "source": [
    "# get parameter values in cube for test cosmology\n",
    "culled_values_mnu03=culled_like.sampling_point_from_parameters(culled_like_params_mnu03)\n",
    "# check that parameters inferred from these are same than computed before\n",
    "for par in culled_like.parameters_from_sampling_point(values=culled_values_mnu03):\n",
    "    print(par.info_str(),',',par.value_in_cube())\n",
    "culled_like.get_log_like(values=culled_values_mnu03,ignore_log_det_cov=False)"
   ]
  },
  {
   "cell_type": "markdown",
   "metadata": {
    "collapsed": false
   },
   "source": [
    "### New likelihood"
   ]
  },
  {
   "cell_type": "code",
   "execution_count": null,
   "metadata": {
    "collapsed": false
   },
   "outputs": [],
   "source": [
    "## Set up a likelihood object with the new theory object\n",
    "new_free_params=[\"As\",\"ns\",\"mnu\"]\n",
    "new_like=likelihood.Likelihood(data=data,theory=new_theory,\n",
    "                            free_parameters=new_free_params,\n",
    "                            free_param_limits=None,\n",
    "                            verbose=verbose,\n",
    "                            prior_Gauss_rms=0.15,\n",
    "                            emu_cov_factor=1)"
   ]
  },
  {
   "cell_type": "code",
   "execution_count": null,
   "metadata": {
    "collapsed": false
   },
   "outputs": [],
   "source": [
    "# get parameter values in cube for test cosmology in new theory\n",
    "new_values_mnu03=new_like.sampling_point_from_parameters(new_like_params_mnu03)\n",
    "# check that parameters inferred from these are same than computed before\n",
    "for par in new_like.parameters_from_sampling_point(values=new_values_mnu03):\n",
    "    print(par.info_str(),',',par.value_in_cube())"
   ]
  },
  {
   "cell_type": "code",
   "execution_count": null,
   "metadata": {
    "collapsed": false
   },
   "outputs": [],
   "source": [
    "new_like.get_log_like(values=new_values_mnu03,ignore_log_det_cov=False)"
   ]
  },
  {
   "cell_type": "markdown",
   "metadata": {
    "collapsed": true
   },
   "source": [
    "These results are not great... The chi2 are quite different, but the emulator calls seemed fine... Let me inspect."
   ]
  },
  {
   "cell_type": "markdown",
   "metadata": {},
   "source": [
    "### P1D predictions from the different theories"
   ]
  },
  {
   "cell_type": "code",
   "execution_count": null,
   "metadata": {
    "collapsed": false
   },
   "outputs": [],
   "source": [
    "zs=data.z\n",
    "k_kms=np.logspace(np.log10(min(data.k)),np.log10(max(data.k)),500)\n",
    "old_p1d=old_like.get_p1d_kms(k_kms=k_kms,values=old_values_mnu03,return_covar=False)"
   ]
  },
  {
   "cell_type": "code",
   "execution_count": null,
   "metadata": {
    "collapsed": false
   },
   "outputs": [],
   "source": [
    "culled_p1d=culled_like.get_p1d_kms(k_kms=k_kms,values=culled_values_mnu03,return_covar=False)"
   ]
  },
  {
   "cell_type": "code",
   "execution_count": null,
   "metadata": {
    "collapsed": false
   },
   "outputs": [],
   "source": [
    "new_p1d=new_like.get_p1d_kms(k_kms=k_kms,values=new_values_mnu03,return_covar=False)"
   ]
  },
  {
   "cell_type": "code",
   "execution_count": null,
   "metadata": {
    "collapsed": false
   },
   "outputs": [],
   "source": [
    "for iz in range(0,len(zs),4):\n",
    "    z=zs[iz]\n",
    "    plt.figure()\n",
    "    plt.plot(k_kms,old_p1d[iz]/new_p1d[iz],label='5 param / full')\n",
    "    plt.plot(k_kms,culled_p1d[iz]/new_p1d[iz],label='2 param / full')\n",
    "    plt.legend()\n",
    "    plt.xlabel('k [s/km]')\n",
    "    plt.ylabel(r'$P^{\\rm 1D} / P^{\\rm 1D}_{\\rm full} (z,k_\\parallel)$')\n",
    "    plt.xlim(min(k_kms)-0.001,max(k_kms)+0.001)\n",
    "    plt.axhline(y=1,ls=':',color='gray')\n",
    "    #plt.tight_layout()\n",
    "    plt.title('Comparison of P1D at z=%f'%z)"
   ]
  },
  {
   "cell_type": "markdown",
   "metadata": {},
   "source": [
    "I think these plots look pretty good!"
   ]
  },
  {
   "cell_type": "code",
   "execution_count": null,
   "metadata": {
    "collapsed": true
   },
   "outputs": [],
   "source": []
  }
 ],
 "metadata": {
  "kernelspec": {
   "display_name": "Python 3",
   "language": "python",
   "name": "python3"
  },
  "language_info": {
   "codemirror_mode": {
    "name": "ipython",
    "version": 3
   },
   "file_extension": ".py",
   "mimetype": "text/x-python",
   "name": "python",
   "nbconvert_exporter": "python",
   "pygments_lexer": "ipython3",
   "version": "3.6.7"
  }
 },
 "nbformat": 4,
 "nbformat_minor": 4
}
