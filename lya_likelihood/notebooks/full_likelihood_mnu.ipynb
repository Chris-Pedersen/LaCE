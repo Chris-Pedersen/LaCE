{
 "cells": [
  {
   "cell_type": "markdown",
   "metadata": {},
   "source": [
    "## Compare likelihoods for theories with massive neutrinos\n",
    "\n",
    "We redo the notebook full_likelihood_example, but now varying also mnu. We will play with the different models in the paper on neutrinos: https://arxiv.org/abs/1911.09596"
   ]
  },
  {
   "cell_type": "code",
   "execution_count": null,
   "metadata": {
    "collapsed": true
   },
   "outputs": [],
   "source": [
    "%matplotlib inline\n",
    "import matplotlib.pyplot as plt\n",
    "import matplotlib as mpl\n",
    "mpl.rcParams['savefig.dpi'] = 140\n",
    "mpl.rcParams['figure.dpi'] = 140\n",
    "# our modules\n",
    "import data_MPGADGET\n",
    "import p1d_arxiv\n",
    "import gp_emulator\n",
    "import likelihood\n",
    "import likelihood_parameter\n",
    "import lya_theory\n",
    "import full_theory\n",
    "import camb_cosmo\n",
    "import CAMB_model\n",
    "import fit_linP"
   ]
  },
  {
   "cell_type": "markdown",
   "metadata": {},
   "source": [
    "### Setup mock data, from one of simulations in the suite"
   ]
  },
  {
   "cell_type": "code",
   "execution_count": null,
   "metadata": {
    "collapsed": false
   },
   "outputs": [],
   "source": [
    "# specify simulation suite and P1D mesurements\n",
    "basedir=\"/p1d_emulator/sim_suites/Australia20/\"\n",
    "skewers_label='Ns500_wM0.05'\n",
    "p1d_label=None\n",
    "# specify simulation to use to generate synthetic data\n",
    "test_sim_num=15\n",
    "data=data_MPGADGET.P1D_MPGADGET(sim_number=test_sim_num,basedir=basedir,skewers_label=skewers_label,data_cov_factor=1)"
   ]
  },
  {
   "cell_type": "markdown",
   "metadata": {},
   "source": [
    "### Setup archive of P1D measurements from simulations and train the emulator"
   ]
  },
  {
   "cell_type": "code",
   "execution_count": null,
   "metadata": {
    "collapsed": true
   },
   "outputs": [],
   "source": [
    "# specify redshift range\n",
    "z_max=4\n",
    "# do not use test_sim_num that was used in generating mock data\n",
    "arxiv=p1d_arxiv.ArxivP1D(basedir=basedir,drop_sim_number=test_sim_num,\n",
    "                            drop_tau_rescalings=True,z_max=z_max,\n",
    "                            drop_temp_rescalings=True,skewers_label=skewers_label)"
   ]
  },
  {
   "cell_type": "code",
   "execution_count": null,
   "metadata": {
    "collapsed": false
   },
   "outputs": [],
   "source": [
    "# specify parameters to be used in emulator\n",
    "paramList=['mF', 'sigT_Mpc', 'gamma', 'kF_Mpc', 'Delta2_p', 'n_p']\n",
    "# specify k range\n",
    "kmax_Mpc=8\n",
    "# setup GP emulator\n",
    "emu=gp_emulator.GPEmulator(basedir,p1d_label,skewers_label,z_max=z_max,\n",
    "                                verbose=False,paramList=paramList,train=True,\n",
    "                                emu_type=\"k_bin\",passArxiv=arxiv,kmax_Mpc=kmax_Mpc,\n",
    "                                drop_tau_rescalings=True,\n",
    "                                drop_temp_rescalings=True)"
   ]
  },
  {
   "cell_type": "markdown",
   "metadata": {},
   "source": [
    "### Setup relevant cosmology objects"
   ]
  },
  {
   "cell_type": "code",
   "execution_count": 5,
   "metadata": {
    "collapsed": false
   },
   "outputs": [
    {
     "name": "stdout",
     "output_type": "stream",
     "text": [
      "H0 = 6.7000E+01, Omega_b h^2 = 2.2000E-02, Omega_c h^2 = 1.2000E-01, Omega_k = 0.0000E+00, Omega_nu h^2 = 0.0000E+00, A_s = 1.9520E-09, n_s = 9.6500E-01, alpha_s = 0.0000E+00\n",
      "old likelihood parameters\n",
      "g_star = 0.9677508579459803\n",
      "f_star = 0.981369557840318\n",
      "Delta2_star = 0.3347920795805195\n",
      "n_star = -2.29933566725751\n",
      "alpha_star = -0.21652703712064045\n",
      "new likelihood parameters\n",
      "ombh2 = 0.022\n",
      "omch2 = 0.12\n",
      "As = 1.952e-09\n",
      "ns = 0.965\n",
      "H0 = 67.0\n",
      "mnu = 0.0\n"
     ]
    }
   ],
   "source": [
    "# massless cosmology (to be used as fiducial)\n",
    "cosmo_mnu0=camb_cosmo.get_cosmology(As=1.952e-9,mnu=0.0)\n",
    "camb_cosmo.print_info(cosmo_mnu0)\n",
    "# compute linP parameters\n",
    "linP_mnu0=fit_linP.LinearPowerModel(cosmo=cosmo_mnu0)\n",
    "old_like_params_mnu0=linP_mnu0.get_likelihood_parameters()\n",
    "print('old likelihood parameters')\n",
    "for par in old_like_params_mnu0:\n",
    "    print(par.info_str())\n",
    "# setup camb model (needed in full_theory)\n",
    "camb_model_mnu0=CAMB_model.CAMBModel(zs=data.z,cosmo=cosmo_mnu0)\n",
    "new_like_params_mnu0=camb_model_mnu0.get_likelihood_parameters()\n",
    "print('new likelihood parameters')\n",
    "for par in new_like_params_mnu0:\n",
    "    print(par.info_str())"
   ]
  },
  {
   "cell_type": "code",
   "execution_count": 6,
   "metadata": {
    "collapsed": false
   },
   "outputs": [
    {
     "name": "stdout",
     "output_type": "stream",
     "text": [
      "H0 = 6.7000E+01, Omega_b h^2 = 2.2000E-02, Omega_c h^2 = 1.2000E-01, Omega_k = 0.0000E+00, Omega_nu h^2 = 3.2257E-03, A_s = 2.1420E-09, n_s = 9.6500E-01, alpha_s = 0.0000E+00\n",
      "old likelihood parameters\n",
      "g_star = 0.9687130850033866\n",
      "f_star = 0.9690024397615453\n",
      "Delta2_star = 0.3299425914299472\n",
      "n_star = -2.30212409098578\n",
      "alpha_star = -0.21455144240679364\n",
      "new likelihood parameters\n",
      "ombh2 = 0.022\n",
      "omch2 = 0.12\n",
      "As = 2.142e-09\n",
      "ns = 0.965\n",
      "H0 = 67.0\n",
      "mnu = 0.3004409523855098\n"
     ]
    }
   ],
   "source": [
    "# massive cosmology (to be used as test)\n",
    "cosmo_mnu03=camb_cosmo.get_cosmology(As=2.142e-9,mnu=0.3)\n",
    "camb_cosmo.print_info(cosmo_mnu03)\n",
    "# compute linP parameters\n",
    "linP_mnu03=fit_linP.LinearPowerModel(cosmo=cosmo_mnu03)\n",
    "old_like_params_mnu03=linP_mnu03.get_likelihood_parameters()\n",
    "print('old likelihood parameters')\n",
    "for par in old_like_params_mnu03:\n",
    "    print(par.info_str())\n",
    "# setup camb model (needed in full_theory)\n",
    "camb_model_mnu03=CAMB_model.CAMBModel(zs=data.z,cosmo=cosmo_mnu03)\n",
    "new_like_params_mnu03=camb_model_mnu03.get_likelihood_parameters()\n",
    "print('new likelihood parameters')\n",
    "for par in new_like_params_mnu03:\n",
    "    print(par.info_str())"
   ]
  },
  {
   "cell_type": "markdown",
   "metadata": {},
   "source": [
    "### Setup and compare theory objects for massless cosmology"
   ]
  },
  {
   "cell_type": "markdown",
   "metadata": {},
   "source": [
    "Start by setting up an old theory object, that uses only compressed linP parameters"
   ]
  },
  {
   "cell_type": "code",
   "execution_count": 10,
   "metadata": {
    "collapsed": false
   },
   "outputs": [
    {
     "name": "stdout",
     "output_type": "stream",
     "text": [
      "0 2.0 model {'Delta2_p': 0.5855050525850493, 'n_p': -2.2993906458284763, 'alpha_p': -0.2164197078001484, 'f_p': 0.9583569136684355, 'mF': 0.8507256483811173, 'gamma': 1.5534927645653829, 'sigT_Mpc': 0.13078611068417573, 'kF_Mpc': 9.234642271117814}\n",
      "1 2.25 model {'Delta2_p': 0.5018730987522522, 'n_p': -2.2993815689130654, 'alpha_p': -0.21642424974102917, 'f_p': 0.9666989020097663, 'mF': 0.8145423945568311, 'gamma': 1.5449855838581277, 'sigT_Mpc': 0.13051263566195997, 'kF_Mpc': 9.574544756852742}\n",
      "2 2.5 model {'Delta2_p': 0.4346637488391917, 'n_p': -2.2993726176961213, 'alpha_p': -0.21642898800316582, 'f_p': 0.9729433890617771, 'mF': 0.7709160253724354, 'gamma': 1.535466821877, 'sigT_Mpc': 0.12986720978610813, 'kF_Mpc': 9.91377946463774}\n",
      "3 2.75 model {'Delta2_p': 0.3799222893571058, 'n_p': -2.2993635887568744, 'alpha_p': -0.21643337734531473, 'f_p': 0.9776963475296397, 'mF': 0.7191184346490203, 'gamma': 1.5246254858011445, 'sigT_Mpc': 0.1290634736772292, 'kF_Mpc': 10.258134266642541}\n",
      "4 3.0 model {'Delta2_p': 0.3347920115632959, 'n_p': -2.299354949820381, 'alpha_p': -0.21643744737001552, 'f_p': 0.9813695511850136, 'mF': 0.660167067771907, 'gamma': 1.5121709239991827, 'sigT_Mpc': 0.12810207002816792, 'kF_Mpc': 10.6348381789184}\n",
      "5 3.25 model {'Delta2_p': 0.29717630775353704, 'n_p': -2.2993465208563673, 'alpha_p': -0.21644245190981493, 'f_p': 0.9842428923336674, 'mF': 0.594053238064041, 'gamma': 1.4976862040208383, 'sigT_Mpc': 0.12676966439967063, 'kF_Mpc': 11.064299239950307}\n",
      "6 3.5 model {'Delta2_p': 0.26551248378130127, 'n_p': -2.299337848528652, 'alpha_p': -0.21644647645721382, 'f_p': 0.9865195811690295, 'mF': 0.5234547710339326, 'gamma': 1.4804211385932953, 'sigT_Mpc': 0.1250095291325381, 'kF_Mpc': 11.557444925607046}\n",
      "7 3.75 model {'Delta2_p': 0.23861931760750146, 'n_p': -2.2993296993386205, 'alpha_p': -0.21645055324326076, 'f_p': 0.9883434136490424, 'mF': 0.4470762255155257, 'gamma': 1.4561190023186836, 'sigT_Mpc': 0.11952938764038437, 'kF_Mpc': 12.137943241597341}\n",
      "8 4.0 model {'Delta2_p': 0.21559173861464823, 'n_p': -2.2993214291766404, 'alpha_p': -0.21645453488672098, 'f_p': 0.9898232760729383, 'mF': 0.3667549106286143, 'gamma': 1.4366944565860078, 'sigT_Mpc': 0.1124868806234996, 'kF_Mpc': 12.841201989686333}\n"
     ]
    }
   ],
   "source": [
    "old_theory=lya_theory.LyaTheory(zs=data.z,emulator=emu,cosmo_fid=cosmo_mnu0,verbose=True)\n",
    "old_emu_calls_mnu0=old_theory.get_emulator_calls()"
   ]
  },
  {
   "cell_type": "markdown",
   "metadata": {},
   "source": [
    "Setup now a new theory object, that holds a CAMB object"
   ]
  },
  {
   "cell_type": "code",
   "execution_count": 11,
   "metadata": {
    "collapsed": false
   },
   "outputs": [
    {
     "name": "stdout",
     "output_type": "stream",
     "text": [
      "0 2.0 model {'Delta2_p': 0.5856948643323825, 'n_p': -2.2994471404944616, 'alpha_p': -0.2165293646872732, 'mF': 0.8507256483811173, 'gamma': 1.5534927645653829, 'sigT_Mpc': 0.13078611068417573, 'kF_Mpc': 9.234642271117814}\n",
      "1 2.25 model {'Delta2_p': 0.5020491175936141, 'n_p': -2.299447102944892, 'alpha_p': -0.2165301510752391, 'mF': 0.8145423945568311, 'gamma': 1.5449855838581277, 'sigT_Mpc': 0.13051263566195997, 'kF_Mpc': 9.574544756852742}\n",
      "2 2.5 model {'Delta2_p': 0.4348272639660884, 'n_p': -2.299447107345488, 'alpha_p': -0.21652926356416427, 'mF': 0.7709160253724354, 'gamma': 1.535466821877, 'sigT_Mpc': 0.12986720978610813, 'kF_Mpc': 9.91377946463774}\n",
      "3 2.75 model {'Delta2_p': 0.3800747525040643, 'n_p': -2.299447113528971, 'alpha_p': -0.21653001056427074, 'mF': 0.7191184346490203, 'gamma': 1.5246254858011445, 'sigT_Mpc': 0.1290634736772292, 'kF_Mpc': 10.258134266642541}\n",
      "4 3.0 model {'Delta2_p': 0.3349345497970454, 'n_p': -2.29944714097795, 'alpha_p': -0.21652967998711606, 'mF': 0.660167067771907, 'gamma': 1.5121709239991827, 'sigT_Mpc': 0.12810207002816792, 'kF_Mpc': 10.6348381789184}\n",
      "5 3.25 model {'Delta2_p': 0.2973099327045666, 'n_p': -2.299447023772173, 'alpha_p': -0.2165295573771519, 'mF': 0.594053238064041, 'gamma': 1.4976862040208383, 'sigT_Mpc': 0.12676966439967063, 'kF_Mpc': 11.064299239950307}\n",
      "6 3.5 model {'Delta2_p': 0.2656381859563089, 'n_p': -2.299447125346997, 'alpha_p': -0.216529656531954, 'mF': 0.5234547710339326, 'gamma': 1.4804211385932953, 'sigT_Mpc': 0.1250095291325381, 'kF_Mpc': 11.557444925607046}\n",
      "7 3.75 model {'Delta2_p': 0.23873786606816397, 'n_p': -2.299447029827456, 'alpha_p': -0.21653003263557544, 'mF': 0.4470762255155257, 'gamma': 1.4561190023186836, 'sigT_Mpc': 0.11952938764038437, 'kF_Mpc': 12.137943241597341}\n",
      "8 4.0 model {'Delta2_p': 0.21570387030954846, 'n_p': -2.2994470585921665, 'alpha_p': -0.21652993036562682, 'mF': 0.3667549106286143, 'gamma': 1.4366944565860078, 'sigT_Mpc': 0.1124868806234996, 'kF_Mpc': 12.841201989686333}\n"
     ]
    }
   ],
   "source": [
    "new_theory=full_theory.FullTheory(zs=data.z,emulator=emu,camb_model_fid=camb_model_mnu0,verbose=True)\n",
    "new_emu_calls_mnu0=new_theory.get_emulator_calls(return_M_of_z=False)"
   ]
  },
  {
   "cell_type": "code",
   "execution_count": 12,
   "metadata": {
    "collapsed": false
   },
   "outputs": [
    {
     "name": "stdout",
     "output_type": "stream",
     "text": [
      "z=2 emulator calls for old theory =  {'Delta2_p': 0.5855050525850493, 'n_p': -2.2993906458284763, 'alpha_p': -0.2164197078001484, 'f_p': 0.9583569136684355, 'mF': 0.8507256483811173, 'gamma': 1.5534927645653829, 'sigT_Mpc': 0.13078611068417573, 'kF_Mpc': 9.234642271117814}\n",
      "z=2 emulator calls for new theory =  {'Delta2_p': 0.5856948643323825, 'n_p': -2.2994471404944616, 'alpha_p': -0.2165293646872732, 'mF': 0.8507256483811173, 'gamma': 1.5534927645653829, 'sigT_Mpc': 0.13078611068417573, 'kF_Mpc': 9.234642271117814}\n"
     ]
    }
   ],
   "source": [
    "print(\"z=2 emulator calls for old theory = \", old_emu_calls_mnu0[0])\n",
    "print(\"z=2 emulator calls for new theory = \", new_emu_calls_mnu0[0])"
   ]
  },
  {
   "cell_type": "markdown",
   "metadata": {},
   "source": [
    "Note that the numbers above are not supposed to exactly match, since kp_Mpc is slightly different in both theories"
   ]
  },
  {
   "cell_type": "markdown",
   "metadata": {},
   "source": [
    "### Compare now emulator calls for the massive neutrino cosmology"
   ]
  },
  {
   "cell_type": "code",
   "execution_count": 14,
   "metadata": {
    "collapsed": false
   },
   "outputs": [
    {
     "name": "stdout",
     "output_type": "stream",
     "text": [
      "0 2.0 model {'Delta2_p': 0.5729326720344529, 'n_p': -2.302179069556749, 'alpha_p': -0.21444411308629752, 'f_p': 0.9459897955896628, 'mF': 0.8507256483811173, 'gamma': 1.5534927645653829, 'sigT_Mpc': 0.13084042738901472, 'kF_Mpc': 9.230808629264576}\n",
      "1 2.25 model {'Delta2_p': 0.49206975658291824, 'n_p': -2.302169992641338, 'alpha_p': -0.21444865502718433, 'f_p': 0.9543317839309936, 'mF': 0.8145423945568311, 'gamma': 1.5449855838581277, 'sigT_Mpc': 0.13055175541956876, 'kF_Mpc': 9.571675750082983}\n",
      "2 2.5 model {'Delta2_p': 0.42695513472108815, 'n_p': -2.302161041424392, 'alpha_p': -0.214453393289324, 'f_p': 0.9605762709830045, 'mF': 0.7709160253724354, 'gamma': 1.535466821877, 'sigT_Mpc': 0.12989224167162092, 'kF_Mpc': 9.91186895336036}\n",
      "3 2.75 model {'Delta2_p': 0.3738218742441991, 'n_p': -2.302152012485143, 'alpha_p': -0.21445778263147938, 'f_p': 0.9653292294508671, 'mF': 0.7191184346490203, 'gamma': 1.5246254858011445, 'sigT_Mpc': 0.12907549663747042, 'kF_Mpc': 10.257178754995095}\n",
      "4 3.0 model {'Delta2_p': 0.3299425243979581, 'n_p': -2.302143373548651, 'alpha_p': -0.2144618526561777, 'f_p': 0.9690024331062409, 'mF': 0.660167067771907, 'gamma': 1.5121709239991827, 'sigT_Mpc': 0.12810207002816792, 'kF_Mpc': 10.6348381789184}\n",
      "5 3.25 model {'Delta2_p': 0.2933111784622045, 'n_p': -2.302134944584637, 'alpha_p': -0.21446685719597208, 'f_p': 0.9718757742548947, 'mF': 0.594053238064041, 'gamma': 1.4976862040208383, 'sigT_Mpc': 0.12675857228868648, 'kF_Mpc': 11.06526743036864}\n",
      "6 3.5 model {'Delta2_p': 0.2624299333110519, 'n_p': -2.3021262722569196, 'alpha_p': -0.21447088174337206, 'f_p': 0.9741524630902568, 'mF': 0.5234547710339326, 'gamma': 1.4804211385932953, 'sigT_Mpc': 0.12498827918941828, 'kF_Mpc': 11.559409870231232}\n",
      "7 3.75 model {'Delta2_p': 0.23616460632655256, 'n_p': -2.302118123066892, 'alpha_p': -0.2144749585293969, 'f_p': 0.9759762955702698, 'mF': 0.4470762255155257, 'gamma': 1.4561190023186836, 'sigT_Mpc': 0.1194997434328818, 'kF_Mpc': 12.140954291644578}\n",
      "8 4.0 model {'Delta2_p': 0.21364479473464218, 'n_p': -2.302109852904911, 'alpha_p': -0.21447894017286903, 'f_p': 0.9774561579941656, 'mF': 0.3667549106286143, 'gamma': 1.4366944565860078, 'sigT_Mpc': 0.1124506575662015, 'kF_Mpc': 12.845338449227931}\n"
     ]
    }
   ],
   "source": [
    "# call the old theory, but using the freshly computed likelihood parameters from the test cosmology\n",
    "old_emu_calls_mnu03=old_theory.get_emulator_calls(like_params=old_like_params_mnu03)"
   ]
  },
  {
   "cell_type": "code",
   "execution_count": 16,
   "metadata": {
    "collapsed": false
   },
   "outputs": [
    {
     "name": "stdout",
     "output_type": "stream",
     "text": [
      "Delta2_star = 0.3299425914299472\n",
      "n_star = -2.30212409098578\n"
     ]
    }
   ],
   "source": [
    "# we want to study also cases where we ignore some of the parameters\n",
    "cull_params=['f_star','g_star','alpha_star']\n",
    "culled_like_params_mnu03 = [par for par in old_like_params_mnu03 if par.name not in cull_params]\n",
    "for par in culled_like_params_mnu03:\n",
    "    print(par.info_str())\n",
    "# same, but using only the culled parameters\n",
    "culled_emu_calls_mnu03=old_theory.get_emulator_calls(like_params=culled_like_params_mnu03)"
   ]
  },
  {
   "cell_type": "code",
   "execution_count": 21,
   "metadata": {
    "collapsed": false
   },
   "outputs": [
    {
     "name": "stdout",
     "output_type": "stream",
     "text": [
      "0 2.0 model {'Delta2_p': 0.5688959105648443, 'n_p': -2.300028997230093, 'alpha_p': -0.2155325928984313, 'mF': 0.8507256483811173, 'gamma': 1.5534927645653829, 'sigT_Mpc': 0.12948756671119963, 'kF_Mpc': 9.327250305760211}\n",
      "1 2.25 model {'Delta2_p': 0.48855637474755614, 'n_p': -2.2999913375238594, 'alpha_p': -0.21559281101966773, 'mF': 0.8145423945568311, 'gamma': 1.5449855838581277, 'sigT_Mpc': 0.1291863101929846, 'kF_Mpc': 9.67284435644567}\n",
      "2 2.5 model {'Delta2_p': 0.4238891540519851, 'n_p': -2.299957980048286, 'alpha_p': -0.2156459638190625, 'mF': 0.7709160253724354, 'gamma': 1.535466821877, 'sigT_Mpc': 0.12852472662513884, 'kF_Mpc': 10.017332161012323}\n",
      "3 2.75 model {'Delta2_p': 0.3711355095664784, 'n_p': -2.2999286719560357, 'alpha_p': -0.2156930097415507, 'mF': 0.7191184346490203, 'gamma': 1.5246254858011445, 'sigT_Mpc': 0.1277121705984294, 'kF_Mpc': 10.366674027201793}\n",
      "4 3.0 model {'Delta2_p': 0.327577898880286, 'n_p': -2.299902502815766, 'alpha_p': -0.2157349776779857, 'mF': 0.660167067771907, 'gamma': 1.5121709239991827, 'sigT_Mpc': 0.12674777825359507, 'kF_Mpc': 10.748470733808679}\n",
      "5 3.25 model {'Delta2_p': 0.2912196564941291, 'n_p': -2.2998790747858875, 'alpha_p': -0.2157723926391392, 'mF': 0.594053238064041, 'gamma': 1.4976862040208383, 'sigT_Mpc': 0.12541943342544637, 'kF_Mpc': 11.183414429150611}\n",
      "6 3.5 model {'Delta2_p': 0.26057116204534064, 'n_p': -2.299857966840217, 'alpha_p': -0.21580758515950893, 'mF': 0.5234547710339326, 'gamma': 1.4804211385932953, 'sigT_Mpc': 0.12367030417288034, 'kF_Mpc': 11.682600425286305}\n",
      "7 3.75 model {'Delta2_p': 0.2345049836320563, 'n_p': -2.2998389497638723, 'alpha_p': -0.21583867339999346, 'mF': 0.4470762255155257, 'gamma': 1.4561190023186836, 'sigT_Mpc': 0.11824303202665118, 'kF_Mpc': 12.269990865549378}\n",
      "8 4.0 model {'Delta2_p': 0.21215645427288457, 'n_p': -2.29982179430806, 'alpha_p': -0.2158673732213262, 'mF': 0.3667549106286143, 'gamma': 1.4366944565860078, 'sigT_Mpc': 0.11127195468557453, 'kF_Mpc': 12.981409011442079}\n"
     ]
    }
   ],
   "source": [
    "# call the new theory, but using the freshly computed likelihood parameters for the test cosmology\n",
    "new_emu_calls_mnu03=new_theory.get_emulator_calls(like_params=new_like_params_mnu03,return_M_of_z=False)"
   ]
  },
  {
   "cell_type": "code",
   "execution_count": 23,
   "metadata": {
    "collapsed": false
   },
   "outputs": [
    {
     "name": "stdout",
     "output_type": "stream",
     "text": [
      "z = 2.0 emulator calls from old theory = {'Delta2_p': 0.5729326720344529, 'n_p': -2.302179069556749, 'alpha_p': -0.21444411308629752, 'f_p': 0.9459897955896628, 'mF': 0.8507256483811173, 'gamma': 1.5534927645653829, 'sigT_Mpc': 0.13084042738901472, 'kF_Mpc': 9.230808629264576}\n",
      "z = 2.0 emulator calls from culled theory = {'Delta2_p': 0.5770239683904371, 'n_p': -2.302179069556748, 'alpha_p': -0.21641970780014372, 'f_p': 0.9583569136684355, 'mF': 0.8507256483811173, 'gamma': 1.5534927645653829, 'sigT_Mpc': 0.13078611068417573, 'kF_Mpc': 9.234642271117814}\n",
      "z = 2.0 emulator calls from new theory = {'Delta2_p': 0.5688959105648443, 'n_p': -2.300028997230093, 'alpha_p': -0.2155325928984313, 'mF': 0.8507256483811173, 'gamma': 1.5534927645653829, 'sigT_Mpc': 0.12948756671119963, 'kF_Mpc': 9.327250305760211}\n"
     ]
    }
   ],
   "source": [
    "print(\"z = {} emulator calls from old theory = {}\".format(data.z[0],old_emu_calls_mnu03[0]))\n",
    "print(\"z = {} emulator calls from culled theory = {}\".format(data.z[0],culled_emu_calls_mnu03[0]))\n",
    "print(\"z = {} emulator calls from new theory = {}\".format(data.z[0],new_emu_calls_mnu03[0]))"
   ]
  },
  {
   "cell_type": "code",
   "execution_count": 22,
   "metadata": {
    "collapsed": false
   },
   "outputs": [
    {
     "name": "stdout",
     "output_type": "stream",
     "text": [
      "z = 4.0 emulator calls from old theory = {'Delta2_p': 0.21364479473464218, 'n_p': -2.302109852904911, 'alpha_p': -0.21447894017286903, 'f_p': 0.9774561579941656, 'mF': 0.3667549106286143, 'gamma': 1.4366944565860078, 'sigT_Mpc': 0.1124506575662015, 'kF_Mpc': 12.845338449227931}\n",
      "z = 4.0 emulator calls from culled theory = {'Delta2_p': 0.21246887626054778, 'n_p': -2.302109852904912, 'alpha_p': -0.2164545348867202, 'f_p': 0.9898232760729383, 'mF': 0.3667549106286143, 'gamma': 1.4366944565860078, 'sigT_Mpc': 0.1124868806234996, 'kF_Mpc': 12.841201989686333}\n",
      "z = 4.0 emulator calls from new theory = {'Delta2_p': 0.21215645427288457, 'n_p': -2.29982179430806, 'alpha_p': -0.2158673732213262, 'mF': 0.3667549106286143, 'gamma': 1.4366944565860078, 'sigT_Mpc': 0.11127195468557453, 'kF_Mpc': 12.981409011442079}\n"
     ]
    }
   ],
   "source": [
    "print(\"z = {} emulator calls from old theory = {}\".format(data.z[-1],old_emu_calls_mnu03[-1]))\n",
    "print(\"z = {} emulator calls from culled theory = {}\".format(data.z[-1],culled_emu_calls_mnu03[-1]))\n",
    "print(\"z = {} emulator calls from new theory = {}\".format(data.z[-1],new_emu_calls_mnu03[-1]))"
   ]
  },
  {
   "cell_type": "markdown",
   "metadata": {},
   "source": [
    "Both new and old theories make the same emulator call for a theory that is not the fiducial!"
   ]
  },
  {
   "cell_type": "markdown",
   "metadata": {},
   "source": [
    "## Test now the likelihood objects"
   ]
  },
  {
   "cell_type": "markdown",
   "metadata": {
    "collapsed": false
   },
   "source": [
    "### Old likelihood using all five parameters"
   ]
  },
  {
   "cell_type": "code",
   "execution_count": 30,
   "metadata": {
    "collapsed": false
   },
   "outputs": [
    {
     "name": "stdout",
     "output_type": "stream",
     "text": [
      "got parameters\n",
      "g_star = 0.9677508579459803\n",
      "f_star = 0.981369557840318\n",
      "Delta2_star = 0.3347920795805195\n",
      "n_star = -2.29933566725751\n",
      "alpha_star = -0.21652703712064045\n",
      "ln_tau_0 = 0.0\n",
      "ln_tau_1 = 0.0\n",
      "ln_sigT_kms_0 = 0.0\n",
      "ln_sigT_kms_1 = 0.0\n",
      "ln_gamma_0 = 0.0\n",
      "ln_gamma_1 = 0.0\n",
      "ln_kF_0 = 0.0\n",
      "ln_kF_1 = 0.0\n",
      "likelihood setup with 5 free parameters\n",
      "5 free parameters\n"
     ]
    }
   ],
   "source": [
    "## Set up a likelihood object with the old theory object\n",
    "#old_free_params=['Delta2_star','n_star']\n",
    "old_free_params=['Delta2_star','n_star','alpha_star','f_star','g_star']\n",
    "old_like=likelihood.Likelihood(data=data,theory=old_theory,\n",
    "                            free_parameters=old_free_params,\n",
    "                            free_param_limits=None,\n",
    "                            verbose=True,\n",
    "                            prior_Gauss_rms=0.15,\n",
    "                            emu_cov_factor=1)"
   ]
  },
  {
   "cell_type": "code",
   "execution_count": 33,
   "metadata": {
    "collapsed": false
   },
   "outputs": [
    {
     "name": "stdout",
     "output_type": "stream",
     "text": [
      "g_star = 0.9687130850033866 , 0.4678271250846657\n",
      "f_star = 0.9690024397615453 , 0.47506099403863367\n",
      "Delta2_star = 0.3299425914299472 , 0.5329506095329812\n",
      "n_star = -2.30212409098578 , 0.47875909014220186\n",
      "alpha_star = -0.21455144240679364 , 0.5040777963018761\n",
      "0 2.0 model {'Delta2_p': 0.5729326720344529, 'n_p': -2.302179069556749, 'alpha_p': -0.21444411308629752, 'f_p': 0.9459897955896628, 'mF': 0.8507256483811173, 'gamma': 1.5534927645653829, 'sigT_Mpc': 0.13084042738901472, 'kF_Mpc': 9.230808629264576}\n",
      "1 2.25 model {'Delta2_p': 0.49206975658291824, 'n_p': -2.302169992641338, 'alpha_p': -0.21444865502718433, 'f_p': 0.9543317839309936, 'mF': 0.8145423945568311, 'gamma': 1.5449855838581277, 'sigT_Mpc': 0.13055175541956876, 'kF_Mpc': 9.571675750082983}\n",
      "2 2.5 model {'Delta2_p': 0.42695513472108815, 'n_p': -2.302161041424392, 'alpha_p': -0.214453393289324, 'f_p': 0.9605762709830045, 'mF': 0.7709160253724354, 'gamma': 1.535466821877, 'sigT_Mpc': 0.12989224167162092, 'kF_Mpc': 9.91186895336036}\n",
      "3 2.75 model {'Delta2_p': 0.3738218742441991, 'n_p': -2.302152012485143, 'alpha_p': -0.21445778263147938, 'f_p': 0.9653292294508671, 'mF': 0.7191184346490203, 'gamma': 1.5246254858011445, 'sigT_Mpc': 0.12907549663747042, 'kF_Mpc': 10.257178754995095}\n",
      "4 3.0 model {'Delta2_p': 0.3299425243979581, 'n_p': -2.302143373548651, 'alpha_p': -0.2144618526561777, 'f_p': 0.9690024331062409, 'mF': 0.660167067771907, 'gamma': 1.5121709239991827, 'sigT_Mpc': 0.12810207002816792, 'kF_Mpc': 10.6348381789184}\n",
      "5 3.25 model {'Delta2_p': 0.2933111784622045, 'n_p': -2.302134944584637, 'alpha_p': -0.21446685719597208, 'f_p': 0.9718757742548947, 'mF': 0.594053238064041, 'gamma': 1.4976862040208383, 'sigT_Mpc': 0.12675857228868648, 'kF_Mpc': 11.06526743036864}\n",
      "6 3.5 model {'Delta2_p': 0.2624299333110519, 'n_p': -2.3021262722569196, 'alpha_p': -0.21447088174337206, 'f_p': 0.9741524630902568, 'mF': 0.5234547710339326, 'gamma': 1.4804211385932953, 'sigT_Mpc': 0.12498827918941828, 'kF_Mpc': 11.559409870231232}\n",
      "7 3.75 model {'Delta2_p': 0.23616460632655256, 'n_p': -2.302118123066892, 'alpha_p': -0.2144749585293969, 'f_p': 0.9759762955702698, 'mF': 0.4470762255155257, 'gamma': 1.4561190023186836, 'sigT_Mpc': 0.1194997434328818, 'kF_Mpc': 12.140954291644578}\n",
      "8 4.0 model {'Delta2_p': 0.21364479473464218, 'n_p': -2.302109852904911, 'alpha_p': -0.21447894017286903, 'f_p': 0.9774561579941656, 'mF': 0.3667549106286143, 'gamma': 1.4366944565860078, 'sigT_Mpc': 0.1124506575662015, 'kF_Mpc': 12.845338449227931}\n",
      "got P1D from emulator\n",
      "compute chi2 for z=2.0\n",
      "added 0.40313236931288543 to log_like\n",
      "compute chi2 for z=2.25\n",
      "added -6.508156976846813 to log_like\n",
      "compute chi2 for z=2.5\n",
      "added -10.767284939083584 to log_like\n",
      "compute chi2 for z=2.75\n",
      "added -9.198384859648293 to log_like\n",
      "compute chi2 for z=3.0\n",
      "added -3.3212014017211473 to log_like\n",
      "compute chi2 for z=3.25\n",
      "added -12.920253462244855 to log_like\n",
      "compute chi2 for z=3.5\n",
      "added -17.890267897675955 to log_like\n",
      "compute chi2 for z=3.75\n",
      "added -22.814927697339872 to log_like\n",
      "compute chi2 for z=4.0\n",
      "added -73.52606969945371 to log_like\n"
     ]
    },
    {
     "data": {
      "text/plain": [
       "-156.54341456470135"
      ]
     },
     "execution_count": 33,
     "metadata": {},
     "output_type": "execute_result"
    }
   ],
   "source": [
    "# get parameter values in cube for test cosmology\n",
    "old_values_mnu03=old_like.sampling_point_from_parameters(old_like_params_mnu03)\n",
    "# check that parameters inferred from these are same than computed before\n",
    "for par in old_like.parameters_from_sampling_point(values=old_values_mnu03):\n",
    "    print(par.info_str(),',',par.value_in_cube())\n",
    "old_like.get_log_like(values=old_values_mnu03,ignore_log_det_cov=False)"
   ]
  },
  {
   "cell_type": "markdown",
   "metadata": {
    "collapsed": false
   },
   "source": [
    "### Old likelihood using only two parameters"
   ]
  },
  {
   "cell_type": "code",
   "execution_count": 34,
   "metadata": {
    "collapsed": false
   },
   "outputs": [
    {
     "name": "stdout",
     "output_type": "stream",
     "text": [
      "got parameters\n",
      "g_star = 0.9677508579459803\n",
      "f_star = 0.981369557840318\n",
      "Delta2_star = 0.3347920795805195\n",
      "n_star = -2.29933566725751\n",
      "alpha_star = -0.21652703712064045\n",
      "ln_tau_0 = 0.0\n",
      "ln_tau_1 = 0.0\n",
      "ln_sigT_kms_0 = 0.0\n",
      "ln_sigT_kms_1 = 0.0\n",
      "ln_gamma_0 = 0.0\n",
      "ln_gamma_1 = 0.0\n",
      "ln_kF_0 = 0.0\n",
      "ln_kF_1 = 0.0\n",
      "likelihood setup with 2 free parameters\n",
      "2 free parameters\n"
     ]
    }
   ],
   "source": [
    "## Set up a likelihood object with the old theory object, but now with only 2 key parameters\n",
    "culled_free_params=['Delta2_star','n_star']\n",
    "culled_like=likelihood.Likelihood(data=data,theory=old_theory,\n",
    "                            free_parameters=culled_free_params,\n",
    "                            free_param_limits=None,\n",
    "                            verbose=True,\n",
    "                            prior_Gauss_rms=0.15,\n",
    "                            emu_cov_factor=1)"
   ]
  },
  {
   "cell_type": "code",
   "execution_count": 38,
   "metadata": {
    "collapsed": false
   },
   "outputs": [
    {
     "name": "stdout",
     "output_type": "stream",
     "text": [
      "Delta2_star = 0.3299425914299472 , 0.5329506095329812\n",
      "n_star = -2.30212409098578 , 0.47875909014220186\n",
      "0 2.0 model {'Delta2_p': 0.5770239683904371, 'n_p': -2.302179069556748, 'alpha_p': -0.21641970780014372, 'f_p': 0.9583569136684355, 'mF': 0.8507256483811173, 'gamma': 1.5534927645653829, 'sigT_Mpc': 0.13078611068417573, 'kF_Mpc': 9.234642271117814}\n",
      "1 2.25 model {'Delta2_p': 0.4946034296234621, 'n_p': -2.302169992641336, 'alpha_p': -0.2164242497410278, 'f_p': 0.9666989020097663, 'mF': 0.8145423945568311, 'gamma': 1.5449855838581277, 'sigT_Mpc': 0.13051263566195997, 'kF_Mpc': 9.574544756852742}\n",
      "2 2.5 model {'Delta2_p': 0.4283676121381084, 'n_p': -2.302161041424391, 'alpha_p': -0.21642898800316643, 'f_p': 0.9729433890617771, 'mF': 0.7709160253724354, 'gamma': 1.535466821877, 'sigT_Mpc': 0.12986720978610813, 'kF_Mpc': 9.91377946463774}\n",
      "3 2.75 model {'Delta2_p': 0.3744190867643675, 'n_p': -2.302152012485144, 'alpha_p': -0.21643337734531684, 'f_p': 0.9776963475296397, 'mF': 0.7191184346490203, 'gamma': 1.5246254858011445, 'sigT_Mpc': 0.1290634736772292, 'kF_Mpc': 10.258134266642541}\n",
      "4 3.0 model {'Delta2_p': 0.3299425243979581, 'n_p': -2.30214337354865, 'alpha_p': -0.21643744737002577, 'f_p': 0.9813695511850136, 'mF': 0.660167067771907, 'gamma': 1.5121709239991827, 'sigT_Mpc': 0.12810207002816792, 'kF_Mpc': 10.6348381789184}\n",
      "5 3.25 model {'Delta2_p': 0.292871686853045, 'n_p': -2.3021349445846377, 'alpha_p': -0.2164424519098099, 'f_p': 0.9842428923336674, 'mF': 0.594053238064041, 'gamma': 1.4976862040208383, 'sigT_Mpc': 0.12676966439967063, 'kF_Mpc': 11.064299239950307}\n",
      "6 3.5 model {'Delta2_p': 0.26166651572393346, 'n_p': -2.3021262722569205, 'alpha_p': -0.21644647645722412, 'f_p': 0.9865195811690295, 'mF': 0.5234547710339326, 'gamma': 1.4804211385932953, 'sigT_Mpc': 0.1250095291325381, 'kF_Mpc': 11.557444925607046}\n",
      "7 3.75 model {'Delta2_p': 0.23516289906054796, 'n_p': -2.302118123066891, 'alpha_p': -0.21645055324325913, 'f_p': 0.9883434136490424, 'mF': 0.4470762255155257, 'gamma': 1.4561190023186836, 'sigT_Mpc': 0.11952938764038437, 'kF_Mpc': 12.137943241597341}\n",
      "8 4.0 model {'Delta2_p': 0.21246887626054778, 'n_p': -2.302109852904912, 'alpha_p': -0.2164545348867202, 'f_p': 0.9898232760729383, 'mF': 0.3667549106286143, 'gamma': 1.4366944565860078, 'sigT_Mpc': 0.1124868806234996, 'kF_Mpc': 12.841201989686333}\n",
      "got P1D from emulator\n",
      "compute chi2 for z=2.0\n",
      "added -0.12475749956520588 to log_like\n",
      "compute chi2 for z=2.25\n",
      "added -6.960421699658848 to log_like\n",
      "compute chi2 for z=2.5\n",
      "added -11.06942819703664 to log_like\n",
      "compute chi2 for z=2.75\n",
      "added -9.187127013303929 to log_like\n",
      "compute chi2 for z=3.0\n",
      "added -3.32120141710773 to log_like\n",
      "compute chi2 for z=3.25\n",
      "added -13.348498265231417 to log_like\n",
      "compute chi2 for z=3.5\n",
      "added -18.7686507291272 to log_like\n",
      "compute chi2 for z=3.75\n",
      "added -23.392398414671984 to log_like\n",
      "compute chi2 for z=4.0\n",
      "added -74.91723477147453 to log_like\n"
     ]
    },
    {
     "data": {
      "text/plain": [
       "-161.08971800717748"
      ]
     },
     "execution_count": 38,
     "metadata": {},
     "output_type": "execute_result"
    }
   ],
   "source": [
    "# get parameter values in cube for test cosmology\n",
    "culled_values_mnu03=culled_like.sampling_point_from_parameters(culled_like_params_mnu03)\n",
    "# check that parameters inferred from these are same than computed before\n",
    "for par in culled_like.parameters_from_sampling_point(values=culled_values_mnu03):\n",
    "    print(par.info_str(),',',par.value_in_cube())\n",
    "culled_like.get_log_like(values=culled_values_mnu03,ignore_log_det_cov=False)"
   ]
  },
  {
   "cell_type": "markdown",
   "metadata": {
    "collapsed": false
   },
   "source": [
    "### New likelihood"
   ]
  },
  {
   "cell_type": "code",
   "execution_count": 39,
   "metadata": {
    "collapsed": false
   },
   "outputs": [
    {
     "name": "stdout",
     "output_type": "stream",
     "text": [
      "got parameters\n",
      "ombh2 = 0.022\n",
      "omch2 = 0.12\n",
      "As = 1.952e-09\n",
      "ns = 0.965\n",
      "H0 = 67.0\n",
      "mnu = 0.0\n",
      "ln_tau_0 = 0.0\n",
      "ln_tau_1 = 0.0\n",
      "ln_sigT_kms_0 = 0.0\n",
      "ln_sigT_kms_1 = 0.0\n",
      "ln_gamma_0 = 0.0\n",
      "ln_gamma_1 = 0.0\n",
      "ln_kF_0 = 0.0\n",
      "ln_kF_1 = 0.0\n",
      "likelihood setup with 3 free parameters\n",
      "3 free parameters\n"
     ]
    }
   ],
   "source": [
    "## Set up a likelihood object with the new theory object\n",
    "new_free_params=[\"As\",\"ns\",\"mnu\"]\n",
    "new_like=likelihood.Likelihood(data=data,theory=new_theory,\n",
    "                            free_parameters=new_free_params,\n",
    "                            free_param_limits=None,\n",
    "                            verbose=True,\n",
    "                            prior_Gauss_rms=0.15,\n",
    "                            emu_cov_factor=1)"
   ]
  },
  {
   "cell_type": "code",
   "execution_count": 40,
   "metadata": {
    "collapsed": false
   },
   "outputs": [
    {
     "name": "stdout",
     "output_type": "stream",
     "text": [
      "As = 2.142e-09 , 0.7099999999999995\n",
      "ns = 0.965 , 0.5\n",
      "mnu = 0.3004409523855098 , 0.3004409523855098\n"
     ]
    }
   ],
   "source": [
    "# get parameter values in cube for test cosmology in new theory\n",
    "new_values_mnu03=new_like.sampling_point_from_parameters(new_like_params_mnu03)\n",
    "# check that parameters inferred from these are same than computed before\n",
    "for par in new_like.parameters_from_sampling_point(values=new_values_mnu03):\n",
    "    print(par.info_str(),',',par.value_in_cube())"
   ]
  },
  {
   "cell_type": "code",
   "execution_count": 41,
   "metadata": {
    "collapsed": false
   },
   "outputs": [
    {
     "name": "stdout",
     "output_type": "stream",
     "text": [
      "0 2.0 model {'Delta2_p': 0.5688959105648443, 'n_p': -2.300028997230093, 'alpha_p': -0.2155325928984313, 'mF': 0.8507256483811173, 'gamma': 1.5534927645653829, 'sigT_Mpc': 0.12948756671119963, 'kF_Mpc': 9.327250305760211}\n",
      "1 2.25 model {'Delta2_p': 0.48855637474755614, 'n_p': -2.2999913375238594, 'alpha_p': -0.21559281101966773, 'mF': 0.8145423945568311, 'gamma': 1.5449855838581277, 'sigT_Mpc': 0.1291863101929846, 'kF_Mpc': 9.67284435644567}\n",
      "2 2.5 model {'Delta2_p': 0.4238891540519851, 'n_p': -2.299957980048286, 'alpha_p': -0.2156459638190625, 'mF': 0.7709160253724354, 'gamma': 1.535466821877, 'sigT_Mpc': 0.12852472662513884, 'kF_Mpc': 10.017332161012323}\n",
      "3 2.75 model {'Delta2_p': 0.3711355095664784, 'n_p': -2.2999286719560357, 'alpha_p': -0.2156930097415507, 'mF': 0.7191184346490203, 'gamma': 1.5246254858011445, 'sigT_Mpc': 0.1277121705984294, 'kF_Mpc': 10.366674027201793}\n",
      "4 3.0 model {'Delta2_p': 0.327577898880286, 'n_p': -2.299902502815766, 'alpha_p': -0.2157349776779857, 'mF': 0.660167067771907, 'gamma': 1.5121709239991827, 'sigT_Mpc': 0.12674777825359507, 'kF_Mpc': 10.748470733808679}\n",
      "5 3.25 model {'Delta2_p': 0.2912196564941291, 'n_p': -2.2998790747858875, 'alpha_p': -0.2157723926391392, 'mF': 0.594053238064041, 'gamma': 1.4976862040208383, 'sigT_Mpc': 0.12541943342544637, 'kF_Mpc': 11.183414429150611}\n",
      "6 3.5 model {'Delta2_p': 0.26057116204534064, 'n_p': -2.299857966840217, 'alpha_p': -0.21580758515950893, 'mF': 0.5234547710339326, 'gamma': 1.4804211385932953, 'sigT_Mpc': 0.12367030417288034, 'kF_Mpc': 11.682600425286305}\n",
      "7 3.75 model {'Delta2_p': 0.2345049836320563, 'n_p': -2.2998389497638723, 'alpha_p': -0.21583867339999346, 'mF': 0.4470762255155257, 'gamma': 1.4561190023186836, 'sigT_Mpc': 0.11824303202665118, 'kF_Mpc': 12.269990865549378}\n",
      "8 4.0 model {'Delta2_p': 0.21215645427288457, 'n_p': -2.29982179430806, 'alpha_p': -0.2158673732213262, 'mF': 0.3667549106286143, 'gamma': 1.4366944565860078, 'sigT_Mpc': 0.11127195468557453, 'kF_Mpc': 12.981409011442079}\n",
      "got P1D from emulator\n",
      "compute chi2 for z=2.0\n",
      "added 5.332456121540687 to log_like\n",
      "compute chi2 for z=2.25\n",
      "added 0.808080407587326 to log_like\n",
      "compute chi2 for z=2.5\n",
      "added 0.09533647062118433 to log_like\n",
      "compute chi2 for z=2.75\n",
      "added 4.051232351185597 to log_like\n",
      "compute chi2 for z=3.0\n",
      "added 5.960099790222085 to log_like\n",
      "compute chi2 for z=3.25\n",
      "added -3.162946125739314 to log_like\n",
      "compute chi2 for z=3.5\n",
      "added -12.689161773457897 to log_like\n",
      "compute chi2 for z=3.75\n",
      "added -21.41509278548938 to log_like\n",
      "compute chi2 for z=4.0\n",
      "added -68.83214981642298 to log_like\n"
     ]
    },
    {
     "data": {
      "text/plain": [
       "-89.8521453599527"
      ]
     },
     "execution_count": 41,
     "metadata": {},
     "output_type": "execute_result"
    }
   ],
   "source": [
    "new_like.get_log_like(values=new_values_mnu03,ignore_log_det_cov=False)"
   ]
  },
  {
   "cell_type": "code",
   "execution_count": null,
   "metadata": {
    "collapsed": true
   },
   "outputs": [],
   "source": []
  }
 ],
 "metadata": {
  "kernelspec": {
   "display_name": "Python 3",
   "language": "python",
   "name": "python3"
  },
  "language_info": {
   "codemirror_mode": {
    "name": "ipython",
    "version": 3
   },
   "file_extension": ".py",
   "mimetype": "text/x-python",
   "name": "python",
   "nbconvert_exporter": "python",
   "pygments_lexer": "ipython3",
   "version": "3.6.7"
  }
 },
 "nbformat": 4,
 "nbformat_minor": 4
}
