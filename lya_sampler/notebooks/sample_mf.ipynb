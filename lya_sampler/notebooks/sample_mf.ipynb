{
 "cells": [
  {
   "cell_type": "markdown",
   "metadata": {},
   "source": [
    "# Use emcee to sample Lya posterior as a function of mean flux"
   ]
  },
  {
   "cell_type": "code",
   "execution_count": 1,
   "metadata": {
    "collapsed": false
   },
   "outputs": [],
   "source": [
    "%matplotlib inline\n",
    "%load_ext autoreload\n",
    "%autoreload 2\n",
    "import numpy as np\n",
    "import sys\n",
    "import os\n",
    "import json\n",
    "import matplotlib.pyplot as plt\n",
    "import matplotlib as mpl\n",
    "mpl.rcParams['savefig.dpi'] = 120\n",
    "mpl.rcParams['figure.dpi'] = 120\n",
    "import cProfile\n",
    "import emcee\n",
    "# our own modules\n",
    "import simplest_emulator\n",
    "import linear_emulator\n",
    "import gp_emulator\n",
    "import data_PD2013\n",
    "import lya_theory\n",
    "import likelihood"
   ]
  },
  {
   "cell_type": "markdown",
   "metadata": {},
   "source": [
    "## Setup Lya likelihood function"
   ]
  },
  {
   "cell_type": "code",
   "execution_count": 2,
   "metadata": {
    "collapsed": false
   },
   "outputs": [],
   "source": [
    "# read P1D measurement\n",
    "data=data_PD2013.P1D_PD2013(blind_data=True)\n",
    "zs=data.z\n",
    "Nz=len(zs)"
   ]
  },
  {
   "cell_type": "code",
   "execution_count": 3,
   "metadata": {
    "collapsed": false
   },
   "outputs": [
    {
     "name": "stdout",
     "output_type": "stream",
     "text": [
      "latin hyper-cube data {'param_space': {'Om_star': {'ip': 0, 'min_val': 0.955, 'max_val': 0.975, 'z_star': 3.0, 'latex': '$\\\\Omega_\\\\star$'}, 'Delta2_star': {'ip': 1, 'min_val': 0.25, 'max_val': 0.45, 'z_star': 3.0, 'kp_Mpc': 0.7, 'latex': '$\\\\Delta^2_\\\\star$'}, 'n_star': {'ip': 2, 'min_val': -2.35, 'max_val': -2.25, 'z_star': 3.0, 'kp_Mpc': 0.7, 'latex': '$n_\\\\star$'}, 'alpha_star': {'ip': 3, 'min_val': -0.265, 'max_val': -0.165, 'z_star': 3.0, 'kp_Mpc': 0.7, 'latex': '$\\\\alpha_\\\\star$'}, 'mu_He': {'ip': 4, 'min_val': 0.5, 'max_val': 2.0, 'latex': '$\\\\mu_{\\\\rm He}$'}, 'mu_H': {'ip': 5, 'min_val': 0.5, 'max_val': 2.0, '   latex': '$\\\\mu_{\\\\rm H}$'}}, 'nsamples': 10, 'samples': {'0': [0.972, 0.42000000000000004, -2.315, -0.19, 0.7250000000000001, 1.3250000000000002], '1': [0.96, 0.28, -2.295, -0.2, 1.3250000000000002, 1.475], '2': [0.966, 0.3, -2.305, -0.26, 1.025, 0.875], '3': [0.956, 0.4, -2.275, -0.25, 0.575, 1.175], '4': [0.968, 0.44, -2.325, -0.22, 1.475, 0.7250000000000001], '5': [0.962, 0.36, -2.335, -0.18, 1.9249999999999998, 1.025], '6': [0.964, 0.32, -2.285, -0.24000000000000002, 1.625, 1.7750000000000001], '7': [0.97, 0.34, -2.265, -0.17, 1.175, 1.9249999999999998], '8': [0.958, 0.26, -2.345, -0.21000000000000002, 0.875, 1.625], '9': [0.974, 0.38, -2.255, -0.23, 1.7750000000000001, 0.575]}}\n",
      "simulation suite has 10 samples\n",
      "0 sample has sim params = [0.972, 0.42000000000000004, -2.315, -0.19, 0.7250000000000001, 1.3250000000000002]\n",
      "simulation has 20 redshifts\n",
      "undersample_z = 3\n",
      "../../p1d_emulator/sim_suites/emulator_512_17052019//sim_pair_0/sim_plus/p1d_0_Ns100_wM0.05.json snapshot does not have p1d\n",
      "../../p1d_emulator/sim_suites/emulator_512_17052019//sim_pair_0/sim_plus/p1d_3_Ns100_wM0.05.json snapshot does not have p1d\n",
      "../../p1d_emulator/sim_suites/emulator_512_17052019//sim_pair_0/sim_plus/p1d_6_Ns100_wM0.05.json snapshot does not have p1d\n",
      "1 sample has sim params = [0.96, 0.28, -2.295, -0.2, 1.3250000000000002, 1.475]\n",
      "simulation has 20 redshifts\n",
      "undersample_z = 3\n",
      "../../p1d_emulator/sim_suites/emulator_512_17052019//sim_pair_1/sim_plus/p1d_0_Ns100_wM0.05.json snapshot does not have p1d\n",
      "../../p1d_emulator/sim_suites/emulator_512_17052019//sim_pair_1/sim_plus/p1d_3_Ns100_wM0.05.json snapshot does not have p1d\n",
      "../../p1d_emulator/sim_suites/emulator_512_17052019//sim_pair_1/sim_plus/p1d_6_Ns100_wM0.05.json snapshot does not have p1d\n",
      "2 sample has sim params = [0.966, 0.3, -2.305, -0.26, 1.025, 0.875]\n",
      "simulation has 20 redshifts\n",
      "undersample_z = 3\n",
      "../../p1d_emulator/sim_suites/emulator_512_17052019//sim_pair_2/sim_plus/p1d_0_Ns100_wM0.05.json snapshot does not have p1d\n",
      "../../p1d_emulator/sim_suites/emulator_512_17052019//sim_pair_2/sim_plus/p1d_3_Ns100_wM0.05.json snapshot does not have p1d\n",
      "../../p1d_emulator/sim_suites/emulator_512_17052019//sim_pair_2/sim_plus/p1d_6_Ns100_wM0.05.json snapshot does not have p1d\n",
      "3 sample has sim params = [0.956, 0.4, -2.275, -0.25, 0.575, 1.175]\n",
      "simulation has 20 redshifts\n",
      "undersample_z = 3\n",
      "../../p1d_emulator/sim_suites/emulator_512_17052019//sim_pair_3/sim_plus/p1d_0_Ns100_wM0.05.json snapshot does not have p1d\n",
      "../../p1d_emulator/sim_suites/emulator_512_17052019//sim_pair_3/sim_plus/p1d_3_Ns100_wM0.05.json snapshot does not have p1d\n",
      "../../p1d_emulator/sim_suites/emulator_512_17052019//sim_pair_3/sim_plus/p1d_6_Ns100_wM0.05.json snapshot does not have p1d\n",
      "4 sample has sim params = [0.968, 0.44, -2.325, -0.22, 1.475, 0.7250000000000001]\n",
      "simulation has 20 redshifts\n",
      "undersample_z = 3\n",
      "../../p1d_emulator/sim_suites/emulator_512_17052019//sim_pair_4/sim_plus/p1d_0_Ns100_wM0.05.json snapshot does not have p1d\n",
      "../../p1d_emulator/sim_suites/emulator_512_17052019//sim_pair_4/sim_plus/p1d_3_Ns100_wM0.05.json snapshot does not have p1d\n",
      "../../p1d_emulator/sim_suites/emulator_512_17052019//sim_pair_4/sim_plus/p1d_6_Ns100_wM0.05.json snapshot does not have p1d\n",
      "5 sample has sim params = [0.962, 0.36, -2.335, -0.18, 1.9249999999999998, 1.025]\n",
      "simulation has 20 redshifts\n",
      "undersample_z = 3\n",
      "../../p1d_emulator/sim_suites/emulator_512_17052019//sim_pair_5/sim_plus/p1d_0_Ns100_wM0.05.json snapshot does not have p1d\n",
      "../../p1d_emulator/sim_suites/emulator_512_17052019//sim_pair_5/sim_plus/p1d_3_Ns100_wM0.05.json snapshot does not have p1d\n",
      "../../p1d_emulator/sim_suites/emulator_512_17052019//sim_pair_5/sim_plus/p1d_6_Ns100_wM0.05.json snapshot does not have p1d\n",
      "6 sample has sim params = [0.964, 0.32, -2.285, -0.24000000000000002, 1.625, 1.7750000000000001]\n",
      "simulation has 20 redshifts\n",
      "undersample_z = 3\n",
      "../../p1d_emulator/sim_suites/emulator_512_17052019//sim_pair_6/sim_plus/p1d_0_Ns100_wM0.05.json snapshot does not have p1d\n",
      "../../p1d_emulator/sim_suites/emulator_512_17052019//sim_pair_6/sim_plus/p1d_3_Ns100_wM0.05.json snapshot does not have p1d\n",
      "../../p1d_emulator/sim_suites/emulator_512_17052019//sim_pair_6/sim_plus/p1d_6_Ns100_wM0.05.json snapshot does not have p1d\n",
      "7 sample has sim params = [0.97, 0.34, -2.265, -0.17, 1.175, 1.9249999999999998]\n",
      "simulation has 20 redshifts\n",
      "undersample_z = 3\n",
      "../../p1d_emulator/sim_suites/emulator_512_17052019//sim_pair_7/sim_plus/p1d_0_Ns100_wM0.05.json snapshot does not have p1d\n",
      "../../p1d_emulator/sim_suites/emulator_512_17052019//sim_pair_7/sim_plus/p1d_3_Ns100_wM0.05.json snapshot does not have p1d\n",
      "../../p1d_emulator/sim_suites/emulator_512_17052019//sim_pair_7/sim_plus/p1d_6_Ns100_wM0.05.json snapshot does not have p1d\n",
      "8 sample has sim params = [0.958, 0.26, -2.345, -0.21000000000000002, 0.875, 1.625]\n",
      "simulation has 20 redshifts\n",
      "undersample_z = 3\n",
      "../../p1d_emulator/sim_suites/emulator_512_17052019//sim_pair_8/sim_plus/p1d_0_Ns100_wM0.05.json snapshot does not have p1d\n",
      "../../p1d_emulator/sim_suites/emulator_512_17052019//sim_pair_8/sim_plus/p1d_3_Ns100_wM0.05.json snapshot does not have p1d\n",
      "../../p1d_emulator/sim_suites/emulator_512_17052019//sim_pair_8/sim_plus/p1d_6_Ns100_wM0.05.json snapshot does not have p1d\n",
      "9 sample has sim params = [0.974, 0.38, -2.255, -0.23, 1.7750000000000001, 0.575]\n",
      "simulation has 20 redshifts\n",
      "undersample_z = 3\n",
      "../../p1d_emulator/sim_suites/emulator_512_17052019//sim_pair_9/sim_plus/p1d_0_Ns100_wM0.05.json snapshot does not have p1d\n",
      "../../p1d_emulator/sim_suites/emulator_512_17052019//sim_pair_9/sim_plus/p1d_3_Ns100_wM0.05.json snapshot does not have p1d\n",
      "../../p1d_emulator/sim_suites/emulator_512_17052019//sim_pair_9/sim_plus/p1d_6_Ns100_wM0.05.json snapshot does not have p1d\n",
      "Arxiv setup, containing 1800 entries\n",
      "will train GP emulator\n",
      "Rescaled params to unity volume\n",
      "Training GP\n",
      "Optimised\n"
     ]
    }
   ],
   "source": [
    "basedir='../../p1d_emulator/sim_suites/emulator_512_17052019/'\n",
    "p1d_label='p1d'\n",
    "skewers_label='Ns100_wM0.05'\n",
    "undersample_z=3\n",
    "use_gp=True\n",
    "if use_gp:\n",
    "    emu=gp_emulator.GPEmulator(basedir,p1d_label,skewers_label,undersample_z=undersample_z,verbose=True,paramList=None,kmax_Mpc=5,train=True)\n",
    "else:\n",
    "    emu=linear_emulator.LinearEmulator(basedir,p1d_label,skewers_label,undersample_z=undersample_z,verbose=True)"
   ]
  },
  {
   "cell_type": "code",
   "execution_count": 4,
   "metadata": {
    "collapsed": false
   },
   "outputs": [
    {
     "name": "stdout",
     "output_type": "stream",
     "text": [
      "Note: redshifts have been re-sorted (earliest first)\n",
      "use default mean flux model\n",
      "use default thermal model\n",
      "use default pressure model\n"
     ]
    }
   ],
   "source": [
    "# setup theory to predict Lya 1D power\n",
    "theory = lya_theory.LyaTheory(zs,emulator=emu,verbose=True)"
   ]
  },
  {
   "cell_type": "code",
   "execution_count": 5,
   "metadata": {
    "collapsed": false
   },
   "outputs": [
    {
     "name": "stdout",
     "output_type": "stream",
     "text": [
      "got parameters\n",
      "g_star = 0.9677508579459803\n",
      "f_star = 0.98136955784\n",
      "Delta2_star = 0.360175905286\n",
      "n_star = -2.29933566726\n",
      "alpha_star = -0.216527037121\n",
      "ln_tau_0 = -0.794580172414\n",
      "ln_tau_1 = 3.18\n",
      "ln_T0_0 = 9.21034037198\n",
      "ln_T0_1 = 0.0\n",
      "ln_gamma_0 = 0.336472236621\n",
      "ln_gamma_1 = 0.0\n",
      "ln_kF_0 = -1.70374859191\n",
      "ln_kF_1 = 0\n",
      "likelihood setup with 1 free parameters\n",
      "1 free parameters\n"
     ]
    }
   ],
   "source": [
    "like=likelihood.Likelihood(data=data,theory=theory,verbose=True)"
   ]
  },
  {
   "cell_type": "code",
   "execution_count": 6,
   "metadata": {
    "collapsed": false
   },
   "outputs": [
    {
     "name": "stdout",
     "output_type": "stream",
     "text": [
      "ln_tau_0 -0.794580172414\n"
     ]
    }
   ],
   "source": [
    "for p in like.free_params:\n",
    "    print(p.name,p.value)"
   ]
  },
  {
   "cell_type": "code",
   "execution_count": 7,
   "metadata": {
    "collapsed": false
   },
   "outputs": [
    {
     "name": "stdout",
     "output_type": "stream",
     "text": [
      "updated parameters, update theories\n",
      "updated 0 linP parameters\n",
      "updated 1 after mean flux parameters\n",
      "updated 1 after thermal parameters\n",
      "updated 1 after pressure parameters\n",
      "0 2.2 model {'Delta2_p': 0.55651130145771688, 'n_p': -2.2994794185069685, 'alpha_p': -0.21637589659957746, 'f_p': 0.96522452450210083, 'mF': 0.82678076324723049, 'gamma': 1.3999999999999999, 'sigT_Mpc': 0.13069600926052841, 'kF_Mpc': 12.672154332566837}\n",
      "1 2.4 model {'Delta2_p': 0.49488568402750766, 'n_p': -2.2994795015019927, 'alpha_p': -0.21637671767578953, 'f_p': 0.97065366319224333, 'mF': 0.79400932502668009, 'gamma': 1.3999999999999999, 'sigT_Mpc': 0.12744692725288601, 'kF_Mpc': 12.995213267980114}\n",
      "2 2.6 model {'Delta2_p': 0.44280074273630693, 'n_p': -2.2994793009304835, 'alpha_p': -0.21637578130992885, 'f_p': 0.97499691285123324, 'mF': 0.75832916245871795, 'gamma': 1.3999999999999999, 'sigT_Mpc': 0.12436389094838281, 'kF_Mpc': 13.317370398835509}\n",
      "3 2.8 model {'Delta2_p': 0.39841920050635804, 'n_p': -2.2994793725990892, 'alpha_p': -0.21637637290771081, 'f_p': 0.97850450521187982, 'mF': 0.71997791172041337, 'gamma': 1.3999999999999999, 'sigT_Mpc': 0.12144623367196278, 'kF_Mpc': 13.637310519431555}\n",
      "4 3.0 model {'Delta2_p': 0.36031650137680626, 'n_p': -2.2994794594828254, 'alpha_p': -0.21637600594737977, 'f_p': 0.98136955118501357, 'mF': 0.6792669863673757, 'gamma': 1.3999999999999999, 'sigT_Mpc': 0.1186885644151414, 'kF_Mpc': 13.954166588510146}\n",
      "5 3.2 model {'Delta2_p': 0.32737728593655518, 'n_p': -2.2994796905461898, 'alpha_p': -0.21637680270648968, 'f_p': 0.98372383225332338, 'mF': 0.63657680114569337, 'gamma': 1.3999999999999999, 'sigT_Mpc': 0.11608299285352074, 'kF_Mpc': 14.267378530547328}\n",
      "6 3.4 model {'Delta2_p': 0.29871954453855937, 'n_p': -2.2994795000217736, 'alpha_p': -0.21637623791383734, 'f_p': 0.98567148012944139, 'mF': 0.59234888015447751, 'gamma': 1.3999999999999999, 'sigT_Mpc': 0.1136204737084692, 'kF_Mpc': 14.576598265639412}\n",
      "7 3.6 model {'Delta2_p': 0.27363948987419645, 'n_p': -2.2994796464262692, 'alpha_p': -0.21637567195994106, 'f_p': 0.98729946760978093, 'mF': 0.54707492999680352, 'gamma': 1.3999999999999999, 'sigT_Mpc': 0.11129160972572964, 'kF_Mpc': 14.881624985761183}\n",
      "8 3.8 model {'Delta2_p': 0.25157064580159277, 'n_p': -2.2994796831223212, 'alpha_p': -0.21637623173894571, 'f_p': 0.98866784750139824, 'mF': 0.50128316036687648, 'gamma': 1.3999999999999999, 'sigT_Mpc': 0.10908712104062165, 'kF_Mpc': 15.182360522497133}\n",
      "9 4.0 model {'Delta2_p': 0.23205325295753354, 'n_p': -2.2994798610668852, 'alpha_p': -0.21637634322605101, 'f_p': 0.98982327607293863, 'mF': 0.45552234140767905, 'gamma': 1.3999999999999999, 'sigT_Mpc': 0.10699810885344364, 'kF_Mpc': 15.478778248954978}\n",
      "10 4.2 model {'Delta2_p': 0.2147112859742899, 'n_p': -2.299479620314405, 'alpha_p': -0.21637699024296425, 'f_p': 0.99080279000903559, 'mF': 0.41034428135678153, 'gamma': 1.3999999999999999, 'sigT_Mpc': 0.10501619262106125, 'kF_Mpc': 15.770901216883821}\n",
      "11 4.4 model {'Delta2_p': 0.19923499758542598, 'n_p': -2.2994797463452099, 'alpha_p': -0.21637671711329315, 'f_p': 0.99164206819310086, 'mF': 0.36628557022797459, 'gamma': 1.3999999999999999, 'sigT_Mpc': 0.10313357005157239, 'kF_Mpc': 16.058786670254996}\n",
      "got P1D from emulator\n",
      "compute chi2 for z=2.2\n",
      "added 81.73815709306825 to chi2\n",
      "compute chi2 for z=2.4\n",
      "added 96.71847984760079 to chi2\n",
      "compute chi2 for z=2.6\n",
      "added 99.11901652008113 to chi2\n",
      "compute chi2 for z=2.8\n",
      "added 1161.176745739516 to chi2\n",
      "compute chi2 for z=3.0\n",
      "added 1969.2038869486214 to chi2\n",
      "compute chi2 for z=3.2\n",
      "added 3222.137280021823 to chi2\n",
      "compute chi2 for z=3.4\n",
      "added 1103.8202837777374 to chi2\n",
      "compute chi2 for z=3.6\n",
      "added 353.37729838330773 to chi2\n",
      "compute chi2 for z=3.8\n",
      "added 702.6097423422633 to chi2\n",
      "compute chi2 for z=4.0\n",
      "added 1471.6311242971171 to chi2\n",
      "compute chi2 for z=4.2\n",
      "added 846.9127995101536 to chi2\n",
      "compute chi2 for z=4.4\n",
      "added 2968.714076391882 to chi2\n"
     ]
    },
    {
     "data": {
      "text/plain": [
       "-7038.579445436585"
      ]
     },
     "execution_count": 7,
     "metadata": {},
     "output_type": "execute_result"
    }
   ],
   "source": [
    "# test likelihood function\n",
    "values=[0.5]\n",
    "like.log_prob(values=values)"
   ]
  },
  {
   "cell_type": "code",
   "execution_count": 8,
   "metadata": {
    "collapsed": false
   },
   "outputs": [],
   "source": [
    "#cProfile.run(\"like.log_prob(values=values,linP_Mpc_params=linP_Mpc_params)\",sort='cumtime')"
   ]
  },
  {
   "cell_type": "markdown",
   "metadata": {
    "collapsed": false
   },
   "source": [
    "### Setup function to be called in MCMC"
   ]
  },
  {
   "cell_type": "code",
   "execution_count": 9,
   "metadata": {
    "collapsed": true
   },
   "outputs": [],
   "source": [
    "def log_prob(values,like,verbose=False):\n",
    "    test_log_prob=like.log_prob(values=values)\n",
    "    if np.isnan(test_log_prob):\n",
    "        if verbose:\n",
    "            print('parameter values outside hull',values)\n",
    "        return -np.inf\n",
    "    return test_log_prob"
   ]
  },
  {
   "cell_type": "code",
   "execution_count": 10,
   "metadata": {
    "collapsed": true
   },
   "outputs": [],
   "source": [
    "like.go_silent()"
   ]
  },
  {
   "cell_type": "code",
   "execution_count": 11,
   "metadata": {
    "collapsed": false
   },
   "outputs": [
    {
     "name": "stdout",
     "output_type": "stream",
     "text": [
      "-1.2 < ln_tau_0 < -0.7\n",
      "0.301194211912 < tau_0 < 0.496585303791\n",
      "0.608605317804 < <F> < 0.739934054784\n"
     ]
    }
   ],
   "source": [
    "xs=np.linspace(0.0,1.0,100)\n",
    "xmin=like.free_params[0].min_value\n",
    "xmax=like.free_params[0].max_value\n",
    "print(xmin,'< ln_tau_0 <',xmax)\n",
    "print(np.exp(xmin),'< tau_0 <',np.exp(xmax))\n",
    "print(np.exp(-np.exp(xmax)),'< <F> <',np.exp(-np.exp(xmin)))\n",
    "mf=np.exp(-np.exp(xmin+xs*(xmax-xmin)))\n",
    "lnps=[log_prob([x],like) for x in xs]"
   ]
  },
  {
   "cell_type": "code",
   "execution_count": 12,
   "metadata": {
    "collapsed": false
   },
   "outputs": [
    {
     "data": {
      "text/plain": [
       "Text(0, 0.5, '$\\\\chi^2$')"
      ]
     },
     "execution_count": 12,
     "metadata": {},
     "output_type": "execute_result"
    },
    {
     "data": {
      "image/png": "[encoded data removed]",
      "text/plain": [
       "<Figure size 720x480 with 1 Axes>"
      ]
     },
     "metadata": {},
     "output_type": "display_data"
    }
   ],
   "source": [
    "plt.plot(mf,-2.0*np.array(lnps))\n",
    "plt.xlabel(r'$\\bar F(z=3)$')\n",
    "plt.ylabel(r'$\\chi^2$')"
   ]
  },
  {
   "cell_type": "markdown",
   "metadata": {},
   "source": [
    "### Setup MCMC"
   ]
  },
  {
   "cell_type": "code",
   "execution_count": 13,
   "metadata": {
    "collapsed": false
   },
   "outputs": [],
   "source": [
    "# for now we'll have only one dimension (mean flux)\n",
    "ndim=1\n",
    "# setup initial walkers\n",
    "nwalkers = 10\n",
    "p0 = np.random.rand(ndim * nwalkers).reshape((nwalkers, ndim))"
   ]
  },
  {
   "cell_type": "code",
   "execution_count": 14,
   "metadata": {
    "collapsed": false
   },
   "outputs": [
    {
     "data": {
      "text/plain": [
       "array([ 0.66129162,  0.49358839,  0.34946358,  0.04626508,  0.77751445,\n",
       "        0.06897015,  0.31568879,  0.08329548,  0.12309273,  0.81069864])"
      ]
     },
     "execution_count": 14,
     "metadata": {},
     "output_type": "execute_result"
    }
   ],
   "source": [
    "p0.flatten()"
   ]
  },
  {
   "cell_type": "code",
   "execution_count": 15,
   "metadata": {
    "collapsed": false
   },
   "outputs": [
    {
     "data": {
      "text/plain": [
       "-5865.4982427012874"
      ]
     },
     "execution_count": 15,
     "metadata": {},
     "output_type": "execute_result"
    }
   ],
   "source": [
    "# test function\n",
    "log_prob(p0[0],like)"
   ]
  },
  {
   "cell_type": "code",
   "execution_count": 16,
   "metadata": {
    "collapsed": false
   },
   "outputs": [],
   "source": [
    "# setup sampler\n",
    "sampler = emcee.EnsembleSampler(nwalkers, ndim, log_prob, args=[like])"
   ]
  },
  {
   "cell_type": "code",
   "execution_count": 17,
   "metadata": {
    "collapsed": false
   },
   "outputs": [
    {
     "name": "stdout",
     "output_type": "stream",
     "text": [
      "finished burn-in at [ 0.88842301  0.87821915  0.90347313  0.8767042   0.89983914  0.89452569\n",
      "  0.90460392  0.90436402  0.90273065  0.89262984] [-5180.77087479 -5184.48416163 -5180.23195259 -5185.26463244 -5179.82032581\n",
      " -5179.84019669 -5180.43066663 -5180.38569176 -5180.11971891 -5180.02557071]\n"
     ]
    }
   ],
   "source": [
    "# burn-in phase\n",
    "pos, prob, state = sampler.run_mcmc(p0, 50)\n",
    "print('finished burn-in at',pos.flatten(),prob)"
   ]
  },
  {
   "cell_type": "code",
   "execution_count": 18,
   "metadata": {
    "collapsed": false
   },
   "outputs": [
    {
     "name": "stdout",
     "output_type": "stream",
     "text": [
      "0 [ 0.88842301  0.87821915  0.9030455   0.8767042   0.89804908  0.89452569\n",
      "  0.90521364  0.90436402  0.89955732  0.89262984]\n",
      "20 [ 0.89061949  0.88868547  0.88946801  0.89403121  0.89818491  0.90305809\n",
      "  0.89287978  0.89231875  0.90028651  0.89660614]\n",
      "40 [ 0.8990951   0.89760804  0.89371695  0.89727259  0.89841656  0.9009889\n",
      "  0.88688606  0.89916375  0.89211821  0.88933677]\n",
      "60 [ 0.89743415  0.89734359  0.89349197  0.90550299  0.89495079  0.88408237\n",
      "  0.89947694  0.88638113  0.89201668  0.88634092]\n",
      "80 [ 0.88985163  0.88977595  0.89726255  0.89605182  0.88608761  0.89502093\n",
      "  0.9049622   0.90294648  0.89756927  0.88912505]\n",
      "100 [ 0.89234445  0.89544042  0.90352236  0.8965096   0.89871046  0.9062185\n",
      "  0.8954734   0.90536732  0.89625549  0.90569057]\n",
      "120 [ 0.88949633  0.90144284  0.905181    0.89620681  0.89304443  0.89868547\n",
      "  0.90566966  0.90280365  0.89305996  0.90339991]\n",
      "140 [ 0.88984607  0.89290849  0.90512119  0.88758314  0.89735302  0.8962682\n",
      "  0.89673499  0.90145988  0.90426599  0.90110568]\n",
      "160 [ 0.89351105  0.89886263  0.90439161  0.89583871  0.91426118  0.90384333\n",
      "  0.90645066  0.8900076   0.88943669  0.90604279]\n",
      "180 [ 0.89183725  0.90185576  0.89933391  0.88703918  0.89697109  0.90052894\n",
      "  0.89944762  0.89280273  0.89064964  0.89913461]\n"
     ]
    }
   ],
   "source": [
    "# reset and run actual chains\n",
    "sampler.reset()\n",
    "nsteps=200\n",
    "for i, result in enumerate(sampler.sample(pos, iterations=nsteps)):\n",
    "    if i % 20 == 0:\n",
    "        print(i,result[0].flatten())"
   ]
  },
  {
   "cell_type": "code",
   "execution_count": 19,
   "metadata": {
    "collapsed": false
   },
   "outputs": [
    {
     "data": {
      "image/png": "[encoded data removed]",
      "text/plain": [
       "<Figure size 720x480 with 1 Axes>"
      ]
     },
     "metadata": {},
     "output_type": "display_data"
    }
   ],
   "source": [
    "for i in range(ndim):\n",
    "    plt.figure()\n",
    "    mf=np.exp(-np.exp(xmin+sampler.flatchain[:,i]*(xmax-xmin)))\n",
    "    plt.hist(mf, 100, color=\"k\", histtype=\"step\")\n",
    "    plt.xlabel('<F>(z=3)')\n",
    "    plt.title(\"Dimension {0:d}\".format(i))"
   ]
  },
  {
   "cell_type": "code",
   "execution_count": 20,
   "metadata": {
    "collapsed": false
   },
   "outputs": [
    {
     "name": "stdout",
     "output_type": "stream",
     "text": [
      "Mean acceptance fraction: 0.802\n"
     ]
    }
   ],
   "source": [
    "print(\"Mean acceptance fraction: {0:.3f}\".format(np.mean(sampler.acceptance_fraction)))"
   ]
  },
  {
   "cell_type": "code",
   "execution_count": 21,
   "metadata": {
    "collapsed": false
   },
   "outputs": [
    {
     "data": {
      "image/png": "[encoded data removed]",
      "text/plain": [
       "<Figure size 720x480 with 1 Axes>"
      ]
     },
     "metadata": {},
     "output_type": "display_data"
    }
   ],
   "source": [
    "for i in range(ndim):\n",
    "    plt.figure()\n",
    "    plt.hist(sampler.flatchain[:,i], 100, color=\"k\", histtype=\"step\")\n",
    "    plt.xlabel('param 0')\n",
    "    plt.title(\"Dimension {0:d}\".format(i))"
   ]
  },
  {
   "cell_type": "code",
   "execution_count": null,
   "metadata": {
    "collapsed": true
   },
   "outputs": [],
   "source": []
  }
 ],
 "metadata": {
  "kernelspec": {
   "display_name": "Python 3",
   "language": "python",
   "name": "python3"
  },
  "language_info": {
   "codemirror_mode": {
    "name": "ipython",
    "version": 3
   },
   "file_extension": ".py",
   "mimetype": "text/x-python",
   "name": "python",
   "nbconvert_exporter": "python",
   "pygments_lexer": "ipython3",
   "version": "3.6.7"
  }
 },
 "nbformat": 4,
 "nbformat_minor": 2
}
