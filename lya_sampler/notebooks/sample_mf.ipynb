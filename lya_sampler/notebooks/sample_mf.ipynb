{
 "cells": [
  {
   "cell_type": "markdown",
   "metadata": {},
   "source": [
    "# Use emcee to sample Lya posterior as a function of mean flux"
   ]
  },
  {
   "cell_type": "code",
   "execution_count": 1,
   "metadata": {
    "collapsed": false
   },
   "outputs": [],
   "source": [
    "%matplotlib inline\n",
    "%load_ext autoreload\n",
    "%autoreload 2\n",
    "import numpy as np\n",
    "import sys\n",
    "import os\n",
    "import json\n",
    "import matplotlib.pyplot as plt\n",
    "import matplotlib as mpl\n",
    "mpl.rcParams['savefig.dpi'] = 120\n",
    "mpl.rcParams['figure.dpi'] = 120\n",
    "import cProfile\n",
    "import emcee\n",
    "# our own modules\n",
    "import simplest_emulator\n",
    "import linear_emulator\n",
    "import gp_emulator\n",
    "import data_PD2013\n",
    "import lya_theory\n",
    "import likelihood"
   ]
  },
  {
   "cell_type": "markdown",
   "metadata": {},
   "source": [
    "## Setup Lya likelihood function"
   ]
  },
  {
   "cell_type": "code",
   "execution_count": 2,
   "metadata": {
    "collapsed": false
   },
   "outputs": [],
   "source": [
    "# read P1D measurement\n",
    "data=data_PD2013.P1D_PD2013(blind_data=True)\n",
    "zs=data.z\n",
    "Nz=len(zs)"
   ]
  },
  {
   "cell_type": "code",
   "execution_count": 3,
   "metadata": {
    "collapsed": false
   },
   "outputs": [
    {
     "name": "stdout",
     "output_type": "stream",
     "text": [
      "latin hyper-cube data {'param_space': {'Om_star': {'ip': 0, 'min_val': 0.955, 'max_val': 0.975, 'z_star': 3.0, 'latex': '$\\\\Omega_\\\\star$'}, 'Delta2_star': {'ip': 1, 'min_val': 0.25, 'max_val': 0.45, 'z_star': 3.0, 'kp_Mpc': 0.7, 'latex': '$\\\\Delta^2_\\\\star$'}, 'n_star': {'ip': 2, 'min_val': -2.35, 'max_val': -2.25, 'z_star': 3.0, 'kp_Mpc': 0.7, 'latex': '$n_\\\\star$'}, 'alpha_star': {'ip': 3, 'min_val': -0.265, 'max_val': -0.165, 'z_star': 3.0, 'kp_Mpc': 0.7, 'latex': '$\\\\alpha_\\\\star$'}, 'mu_He': {'ip': 4, 'min_val': 0.5, 'max_val': 2.0, 'latex': '$\\\\mu_{\\\\rm He}$'}, 'mu_H': {'ip': 5, 'min_val': 0.5, 'max_val': 2.0, '   latex': '$\\\\mu_{\\\\rm H}$'}}, 'nsamples': 10, 'samples': {'0': [0.972, 0.42000000000000004, -2.315, -0.19, 0.7250000000000001, 1.3250000000000002], '1': [0.96, 0.28, -2.295, -0.2, 1.3250000000000002, 1.475], '2': [0.966, 0.3, -2.305, -0.26, 1.025, 0.875], '3': [0.956, 0.4, -2.275, -0.25, 0.575, 1.175], '4': [0.968, 0.44, -2.325, -0.22, 1.475, 0.7250000000000001], '5': [0.962, 0.36, -2.335, -0.18, 1.9249999999999998, 1.025], '6': [0.964, 0.32, -2.285, -0.24000000000000002, 1.625, 1.7750000000000001], '7': [0.97, 0.34, -2.265, -0.17, 1.175, 1.9249999999999998], '8': [0.958, 0.26, -2.345, -0.21000000000000002, 0.875, 1.625], '9': [0.974, 0.38, -2.255, -0.23, 1.7750000000000001, 0.575]}}\n",
      "simulation suite has 10 samples\n",
      "0 sample has sim params = [0.972, 0.42000000000000004, -2.315, -0.19, 0.7250000000000001, 1.3250000000000002]\n",
      "simulation has 20 redshifts\n",
      "undersample_z = 3\n",
      "../../p1d_emulator/sim_suites/emulator_512_17052019//sim_pair_0/sim_plus/p1d_0_Ns100_wM0.05.json snapshot does not have p1d\n",
      "../../p1d_emulator/sim_suites/emulator_512_17052019//sim_pair_0/sim_plus/p1d_3_Ns100_wM0.05.json snapshot does not have p1d\n",
      "../../p1d_emulator/sim_suites/emulator_512_17052019//sim_pair_0/sim_plus/p1d_6_Ns100_wM0.05.json snapshot does not have p1d\n",
      "1 sample has sim params = [0.96, 0.28, -2.295, -0.2, 1.3250000000000002, 1.475]\n",
      "simulation has 20 redshifts\n",
      "undersample_z = 3\n",
      "../../p1d_emulator/sim_suites/emulator_512_17052019//sim_pair_1/sim_plus/p1d_0_Ns100_wM0.05.json snapshot does not have p1d\n",
      "../../p1d_emulator/sim_suites/emulator_512_17052019//sim_pair_1/sim_plus/p1d_3_Ns100_wM0.05.json snapshot does not have p1d\n",
      "../../p1d_emulator/sim_suites/emulator_512_17052019//sim_pair_1/sim_plus/p1d_6_Ns100_wM0.05.json snapshot does not have p1d\n",
      "2 sample has sim params = [0.966, 0.3, -2.305, -0.26, 1.025, 0.875]\n",
      "simulation has 20 redshifts\n",
      "undersample_z = 3\n",
      "../../p1d_emulator/sim_suites/emulator_512_17052019//sim_pair_2/sim_plus/p1d_0_Ns100_wM0.05.json snapshot does not have p1d\n",
      "../../p1d_emulator/sim_suites/emulator_512_17052019//sim_pair_2/sim_plus/p1d_3_Ns100_wM0.05.json snapshot does not have p1d\n",
      "../../p1d_emulator/sim_suites/emulator_512_17052019//sim_pair_2/sim_plus/p1d_6_Ns100_wM0.05.json snapshot does not have p1d\n",
      "3 sample has sim params = [0.956, 0.4, -2.275, -0.25, 0.575, 1.175]\n",
      "simulation has 20 redshifts\n",
      "undersample_z = 3\n",
      "../../p1d_emulator/sim_suites/emulator_512_17052019//sim_pair_3/sim_plus/p1d_0_Ns100_wM0.05.json snapshot does not have p1d\n",
      "../../p1d_emulator/sim_suites/emulator_512_17052019//sim_pair_3/sim_plus/p1d_3_Ns100_wM0.05.json snapshot does not have p1d\n",
      "../../p1d_emulator/sim_suites/emulator_512_17052019//sim_pair_3/sim_plus/p1d_6_Ns100_wM0.05.json snapshot does not have p1d\n",
      "4 sample has sim params = [0.968, 0.44, -2.325, -0.22, 1.475, 0.7250000000000001]\n",
      "simulation has 20 redshifts\n",
      "undersample_z = 3\n",
      "../../p1d_emulator/sim_suites/emulator_512_17052019//sim_pair_4/sim_plus/p1d_0_Ns100_wM0.05.json snapshot does not have p1d\n",
      "../../p1d_emulator/sim_suites/emulator_512_17052019//sim_pair_4/sim_plus/p1d_3_Ns100_wM0.05.json snapshot does not have p1d\n",
      "../../p1d_emulator/sim_suites/emulator_512_17052019//sim_pair_4/sim_plus/p1d_6_Ns100_wM0.05.json snapshot does not have p1d\n",
      "5 sample has sim params = [0.962, 0.36, -2.335, -0.18, 1.9249999999999998, 1.025]\n",
      "simulation has 20 redshifts\n",
      "undersample_z = 3\n",
      "../../p1d_emulator/sim_suites/emulator_512_17052019//sim_pair_5/sim_plus/p1d_0_Ns100_wM0.05.json snapshot does not have p1d\n",
      "../../p1d_emulator/sim_suites/emulator_512_17052019//sim_pair_5/sim_plus/p1d_3_Ns100_wM0.05.json snapshot does not have p1d\n",
      "../../p1d_emulator/sim_suites/emulator_512_17052019//sim_pair_5/sim_plus/p1d_6_Ns100_wM0.05.json snapshot does not have p1d\n",
      "6 sample has sim params = [0.964, 0.32, -2.285, -0.24000000000000002, 1.625, 1.7750000000000001]\n",
      "simulation has 20 redshifts\n",
      "undersample_z = 3\n",
      "../../p1d_emulator/sim_suites/emulator_512_17052019//sim_pair_6/sim_plus/p1d_0_Ns100_wM0.05.json snapshot does not have p1d\n",
      "../../p1d_emulator/sim_suites/emulator_512_17052019//sim_pair_6/sim_plus/p1d_3_Ns100_wM0.05.json snapshot does not have p1d\n",
      "../../p1d_emulator/sim_suites/emulator_512_17052019//sim_pair_6/sim_plus/p1d_6_Ns100_wM0.05.json snapshot does not have p1d\n",
      "7 sample has sim params = [0.97, 0.34, -2.265, -0.17, 1.175, 1.9249999999999998]\n",
      "simulation has 20 redshifts\n",
      "undersample_z = 3\n",
      "../../p1d_emulator/sim_suites/emulator_512_17052019//sim_pair_7/sim_plus/p1d_0_Ns100_wM0.05.json snapshot does not have p1d\n",
      "../../p1d_emulator/sim_suites/emulator_512_17052019//sim_pair_7/sim_plus/p1d_3_Ns100_wM0.05.json snapshot does not have p1d\n",
      "../../p1d_emulator/sim_suites/emulator_512_17052019//sim_pair_7/sim_plus/p1d_6_Ns100_wM0.05.json snapshot does not have p1d\n",
      "8 sample has sim params = [0.958, 0.26, -2.345, -0.21000000000000002, 0.875, 1.625]\n",
      "simulation has 20 redshifts\n",
      "undersample_z = 3\n",
      "../../p1d_emulator/sim_suites/emulator_512_17052019//sim_pair_8/sim_plus/p1d_0_Ns100_wM0.05.json snapshot does not have p1d\n",
      "../../p1d_emulator/sim_suites/emulator_512_17052019//sim_pair_8/sim_plus/p1d_3_Ns100_wM0.05.json snapshot does not have p1d\n",
      "../../p1d_emulator/sim_suites/emulator_512_17052019//sim_pair_8/sim_plus/p1d_6_Ns100_wM0.05.json snapshot does not have p1d\n",
      "9 sample has sim params = [0.974, 0.38, -2.255, -0.23, 1.7750000000000001, 0.575]\n",
      "simulation has 20 redshifts\n",
      "undersample_z = 3\n",
      "../../p1d_emulator/sim_suites/emulator_512_17052019//sim_pair_9/sim_plus/p1d_0_Ns100_wM0.05.json snapshot does not have p1d\n",
      "../../p1d_emulator/sim_suites/emulator_512_17052019//sim_pair_9/sim_plus/p1d_3_Ns100_wM0.05.json snapshot does not have p1d\n",
      "../../p1d_emulator/sim_suites/emulator_512_17052019//sim_pair_9/sim_plus/p1d_6_Ns100_wM0.05.json snapshot does not have p1d\n",
      "Arxiv setup, containing 1800 entries\n",
      "will train GP emulator\n",
      "Rescaled params to unity volume\n",
      "Training GP\n",
      "Optimised\n"
     ]
    }
   ],
   "source": [
    "basedir='../../p1d_emulator/sim_suites/emulator_512_17052019/'\n",
    "p1d_label='p1d'\n",
    "skewers_label='Ns100_wM0.05'\n",
    "undersample_z=3\n",
    "use_gp=True\n",
    "if use_gp:\n",
    "    emu=gp_emulator.GPEmulator(basedir,p1d_label,skewers_label,undersample_z=undersample_z,verbose=True,paramList=None,kmax_Mpc=5,train=True)\n",
    "else:\n",
    "    emu=linear_emulator.LinearEmulator(basedir,p1d_label,skewers_label,undersample_z=undersample_z,verbose=True)"
   ]
  },
  {
   "cell_type": "code",
   "execution_count": 4,
   "metadata": {
    "collapsed": false
   },
   "outputs": [
    {
     "name": "stdout",
     "output_type": "stream",
     "text": [
      "Note: redshifts have been re-sorted (earliest first)\n"
     ]
    }
   ],
   "source": [
    "# setup theory to predict Lya 1D power\n",
    "theory = lya_theory.LyaTheory(zs,emulator=emu,verbose=True)"
   ]
  },
  {
   "cell_type": "code",
   "execution_count": 5,
   "metadata": {
    "collapsed": false
   },
   "outputs": [
    {
     "name": "stdout",
     "output_type": "stream",
     "text": [
      "got parameters\n",
      "g_star = 0.9677508579459803\n",
      "f_star = 0.98136955784\n",
      "Delta2_star = 0.360175905286\n",
      "n_star = -2.29933566726\n",
      "alpha_star = -0.216527037121\n",
      "ln_tau_0 = -0.794580172414\n",
      "ln_tau_1 = 3.18\n",
      "ln_T0_0 = 9.21034037198\n",
      "ln_T0_1 = 0.0\n",
      "ln_gamma_0 = 0.336472236621\n",
      "ln_gamma_1 = 0.0\n",
      "ln_kF_0 = -1.70374859191\n",
      "ln_kF_1 = 0\n",
      "likelihood setup with 1 free parameters\n",
      "1 free parameters\n"
     ]
    }
   ],
   "source": [
    "like=likelihood.Likelihood(data=data,theory=theory,verbose=True)"
   ]
  },
  {
   "cell_type": "code",
   "execution_count": 6,
   "metadata": {
    "collapsed": false
   },
   "outputs": [
    {
     "name": "stdout",
     "output_type": "stream",
     "text": [
      "ln_tau_0 -0.794580172414\n"
     ]
    }
   ],
   "source": [
    "for p in like.free_params:\n",
    "    print(p.name,p.value)"
   ]
  },
  {
   "cell_type": "code",
   "execution_count": 7,
   "metadata": {
    "collapsed": false
   },
   "outputs": [
    {
     "name": "stdout",
     "output_type": "stream",
     "text": [
      "0 2.2 model {'Delta2_p': 0.55651130145771688, 'n_p': -2.2994794185069685, 'alpha_p': -0.21637589659957746, 'f_p': 0.96522452450210083, 'mF': 0.82678076324723049, 'gamma': 1.3999999999999999, 'sigT_Mpc': 0.13069600926052841, 'kF_Mpc': 12.672154332566837}\n",
      "1 2.4 model {'Delta2_p': 0.49488568402750766, 'n_p': -2.2994795015019927, 'alpha_p': -0.21637671767578953, 'f_p': 0.97065366319224333, 'mF': 0.79400932502668009, 'gamma': 1.3999999999999999, 'sigT_Mpc': 0.12744692725288601, 'kF_Mpc': 12.995213267980114}\n",
      "2 2.6 model {'Delta2_p': 0.44280074273630693, 'n_p': -2.2994793009304835, 'alpha_p': -0.21637578130992885, 'f_p': 0.97499691285123324, 'mF': 0.75832916245871795, 'gamma': 1.3999999999999999, 'sigT_Mpc': 0.12436389094838281, 'kF_Mpc': 13.317370398835509}\n",
      "3 2.8 model {'Delta2_p': 0.39841920050635804, 'n_p': -2.2994793725990892, 'alpha_p': -0.21637637290771081, 'f_p': 0.97850450521187982, 'mF': 0.71997791172041337, 'gamma': 1.3999999999999999, 'sigT_Mpc': 0.12144623367196278, 'kF_Mpc': 13.637310519431555}\n",
      "4 3.0 model {'Delta2_p': 0.36031650137680626, 'n_p': -2.2994794594828254, 'alpha_p': -0.21637600594737977, 'f_p': 0.98136955118501357, 'mF': 0.6792669863673757, 'gamma': 1.3999999999999999, 'sigT_Mpc': 0.1186885644151414, 'kF_Mpc': 13.954166588510146}\n",
      "5 3.2 model {'Delta2_p': 0.32737728593655518, 'n_p': -2.2994796905461898, 'alpha_p': -0.21637680270648968, 'f_p': 0.98372383225332338, 'mF': 0.63657680114569337, 'gamma': 1.3999999999999999, 'sigT_Mpc': 0.11608299285352074, 'kF_Mpc': 14.267378530547328}\n",
      "6 3.4 model {'Delta2_p': 0.29871954453855937, 'n_p': -2.2994795000217736, 'alpha_p': -0.21637623791383734, 'f_p': 0.98567148012944139, 'mF': 0.59234888015447751, 'gamma': 1.3999999999999999, 'sigT_Mpc': 0.1136204737084692, 'kF_Mpc': 14.576598265639412}\n",
      "7 3.6 model {'Delta2_p': 0.27363948987419645, 'n_p': -2.2994796464262692, 'alpha_p': -0.21637567195994106, 'f_p': 0.98729946760978093, 'mF': 0.54707492999680352, 'gamma': 1.3999999999999999, 'sigT_Mpc': 0.11129160972572964, 'kF_Mpc': 14.881624985761183}\n",
      "8 3.8 model {'Delta2_p': 0.25157064580159277, 'n_p': -2.2994796831223212, 'alpha_p': -0.21637623173894571, 'f_p': 0.98866784750139824, 'mF': 0.50128316036687648, 'gamma': 1.3999999999999999, 'sigT_Mpc': 0.10908712104062165, 'kF_Mpc': 15.182360522497133}\n",
      "9 4.0 model {'Delta2_p': 0.23205325295753354, 'n_p': -2.2994798610668852, 'alpha_p': -0.21637634322605101, 'f_p': 0.98982327607293863, 'mF': 0.45552234140767905, 'gamma': 1.3999999999999999, 'sigT_Mpc': 0.10699810885344364, 'kF_Mpc': 15.478778248954978}\n",
      "10 4.2 model {'Delta2_p': 0.2147112859742899, 'n_p': -2.299479620314405, 'alpha_p': -0.21637699024296425, 'f_p': 0.99080279000903559, 'mF': 0.41034428135678153, 'gamma': 1.3999999999999999, 'sigT_Mpc': 0.10501619262106125, 'kF_Mpc': 15.770901216883821}\n",
      "11 4.4 model {'Delta2_p': 0.19923499758542598, 'n_p': -2.2994797463452099, 'alpha_p': -0.21637671711329315, 'f_p': 0.99164206819310086, 'mF': 0.36628557022797459, 'gamma': 1.3999999999999999, 'sigT_Mpc': 0.10313357005157239, 'kF_Mpc': 16.058786670254996}\n",
      "got P1D from emulator\n",
      "compute chi2 for z=2.2\n",
      "added 81.73815709306825 to chi2\n",
      "compute chi2 for z=2.4\n",
      "added 96.71847984760079 to chi2\n",
      "compute chi2 for z=2.6\n",
      "added 99.11901652008113 to chi2\n",
      "compute chi2 for z=2.8\n",
      "added 1161.176745739516 to chi2\n",
      "compute chi2 for z=3.0\n",
      "added 1969.2038869486214 to chi2\n",
      "compute chi2 for z=3.2\n",
      "added 3222.137280021823 to chi2\n",
      "compute chi2 for z=3.4\n",
      "added 1103.8202837777374 to chi2\n",
      "compute chi2 for z=3.6\n",
      "added 353.37729838330773 to chi2\n",
      "compute chi2 for z=3.8\n",
      "added 702.6097423422633 to chi2\n",
      "compute chi2 for z=4.0\n",
      "added 1471.6311242971171 to chi2\n",
      "compute chi2 for z=4.2\n",
      "added 846.9127995101536 to chi2\n",
      "compute chi2 for z=4.4\n",
      "added 2968.714076391882 to chi2\n"
     ]
    },
    {
     "data": {
      "text/plain": [
       "-7038.579445436585"
      ]
     },
     "execution_count": 7,
     "metadata": {},
     "output_type": "execute_result"
    }
   ],
   "source": [
    "# test likelihood function\n",
    "values=[0.5]\n",
    "like.log_prob(values=values)"
   ]
  },
  {
   "cell_type": "code",
   "execution_count": 8,
   "metadata": {
    "collapsed": false
   },
   "outputs": [],
   "source": [
    "#cProfile.run(\"like.log_prob(values=values,linP_Mpc_params=linP_Mpc_params)\",sort='cumtime')"
   ]
  },
  {
   "cell_type": "markdown",
   "metadata": {
    "collapsed": false
   },
   "source": [
    "### Setup function to be called in MCMC"
   ]
  },
  {
   "cell_type": "code",
   "execution_count": 9,
   "metadata": {
    "collapsed": true
   },
   "outputs": [],
   "source": [
    "def log_prob(values,like,verbose=False):\n",
    "    test_log_prob=like.log_prob(values=values)\n",
    "    if np.isnan(test_log_prob):\n",
    "        if verbose:\n",
    "            print('parameter values outside hull',values)\n",
    "        return -np.inf\n",
    "    return test_log_prob"
   ]
  },
  {
   "cell_type": "code",
   "execution_count": 10,
   "metadata": {
    "collapsed": true
   },
   "outputs": [],
   "source": [
    "like.go_silent()"
   ]
  },
  {
   "cell_type": "code",
   "execution_count": 11,
   "metadata": {
    "collapsed": false
   },
   "outputs": [
    {
     "name": "stdout",
     "output_type": "stream",
     "text": [
      "-1.5 < ln_tau_0 < -0.4\n",
      "0.223130160148 < tau_0 < 0.670320046036\n",
      "0.511544833689 < <F> < 0.800010713004\n"
     ]
    }
   ],
   "source": [
    "xs=np.linspace(0.0,1.0,100)\n",
    "xmin=like.free_params[0].min_value\n",
    "xmax=like.free_params[0].max_value\n",
    "print(xmin,'< ln_tau_0 <',xmax)\n",
    "print(np.exp(xmin),'< tau_0 <',np.exp(xmax))\n",
    "print(np.exp(-np.exp(xmax)),'< <F> <',np.exp(-np.exp(xmin)))\n",
    "mf=np.exp(-np.exp(xmin+xs*(xmax-xmin)))\n",
    "lnps=[log_prob([x],like) for x in xs]"
   ]
  },
  {
   "cell_type": "code",
   "execution_count": 12,
   "metadata": {
    "collapsed": false
   },
   "outputs": [
    {
     "data": {
      "text/plain": [
       "Text(0, 0.5, '$\\\\chi^2$')"
      ]
     },
     "execution_count": 12,
     "metadata": {},
     "output_type": "execute_result"
    },
    {
     "data": {
      "image/png": "[encoded data removed]",
      "text/plain": [
       "<Figure size 720x480 with 1 Axes>"
      ]
     },
     "metadata": {},
     "output_type": "display_data"
    }
   ],
   "source": [
    "plt.plot(mf,-2.0*np.array(lnps))\n",
    "plt.xlabel(r'$\\bar F(z=3)$')\n",
    "plt.ylabel(r'$\\chi^2$')"
   ]
  },
  {
   "cell_type": "markdown",
   "metadata": {},
   "source": [
    "### Setup MCMC"
   ]
  },
  {
   "cell_type": "code",
   "execution_count": 13,
   "metadata": {
    "collapsed": false
   },
   "outputs": [],
   "source": [
    "# for now we'll have only one dimension (mean flux)\n",
    "ndim=1\n",
    "# setup initial walkers\n",
    "nwalkers = 10\n",
    "p0 = np.random.rand(ndim * nwalkers).reshape((nwalkers, ndim))"
   ]
  },
  {
   "cell_type": "code",
   "execution_count": 14,
   "metadata": {
    "collapsed": false
   },
   "outputs": [
    {
     "data": {
      "text/plain": [
       "array([ 0.96670316,  0.60828966,  0.24497332,  0.10601368,  0.54603927,\n",
       "        0.47336582,  0.47502699,  0.62493856,  0.94808639,  0.6351166 ])"
      ]
     },
     "execution_count": 14,
     "metadata": {},
     "output_type": "execute_result"
    }
   ],
   "source": [
    "p0.flatten()"
   ]
  },
  {
   "cell_type": "code",
   "execution_count": 15,
   "metadata": {
    "collapsed": false
   },
   "outputs": [
    {
     "data": {
      "text/plain": [
       "-10992.508230662084"
      ]
     },
     "execution_count": 15,
     "metadata": {},
     "output_type": "execute_result"
    }
   ],
   "source": [
    "# test function\n",
    "log_prob(p0[0],like)"
   ]
  },
  {
   "cell_type": "code",
   "execution_count": 16,
   "metadata": {
    "collapsed": false
   },
   "outputs": [],
   "source": [
    "# setup sampler\n",
    "sampler = emcee.EnsembleSampler(nwalkers, ndim, log_prob, args=[like])"
   ]
  },
  {
   "cell_type": "code",
   "execution_count": 17,
   "metadata": {
    "collapsed": false
   },
   "outputs": [
    {
     "name": "stdout",
     "output_type": "stream",
     "text": [
      "finished burn-in at [ 0.68003695  0.67911928  0.67797272  0.67817955  0.6822836   0.67882305\n",
      "  0.67943529  0.68213654  0.68600473  0.67840753] [-5179.75806551 -5179.87684874 -5180.17449361 -5180.10854896 -5179.91652264\n",
      " -5179.93788208 -5179.82393797 -5179.88660109 -5181.5873314  -5180.04211786]\n"
     ]
    }
   ],
   "source": [
    "# burn-in phase\n",
    "pos, prob, state = sampler.run_mcmc(p0, 50)\n",
    "print('finished burn-in at',pos.flatten(),prob)"
   ]
  },
  {
   "cell_type": "code",
   "execution_count": 18,
   "metadata": {
    "collapsed": false
   },
   "outputs": [
    {
     "name": "stdout",
     "output_type": "stream",
     "text": [
      "0 [ 0.67982945  0.67883209  0.67797272  0.67829163  0.68237124  0.67882543\n",
      "  0.67884103  0.68127518  0.6872518   0.67800248]\n",
      "20 [ 0.68178715  0.67820443  0.68026039  0.67827885  0.6828829   0.68076713\n",
      "  0.67878632  0.68177744  0.68078298  0.67880014]\n",
      "40 [ 0.68247751  0.68067602  0.68338592  0.67982183  0.68214399  0.68233593\n",
      "  0.67983564  0.68115239  0.68100869  0.67495863]\n",
      "60 [ 0.67314057  0.68062909  0.67998305  0.67318015  0.68293127  0.67977252\n",
      "  0.67996661  0.67906354  0.68498097  0.68317304]\n",
      "80 [ 0.67460164  0.68393125  0.6788215   0.68651614  0.67769522  0.68422138\n",
      "  0.67846078  0.68130533  0.68032553  0.68857068]\n",
      "100 [ 0.68376565  0.67955223  0.68196794  0.68112025  0.6755774   0.67943791\n",
      "  0.68120468  0.68140021  0.68376256  0.68102894]\n",
      "120 [ 0.68400117  0.67726914  0.67841105  0.67996065  0.68409409  0.67232615\n",
      "  0.67790696  0.67995489  0.68616139  0.67740731]\n",
      "140 [ 0.67862681  0.68669917  0.68120331  0.68138838  0.68471722  0.68470738\n",
      "  0.6826198   0.68052801  0.68135101  0.68007565]\n",
      "160 [ 0.6793766   0.68357154  0.68054206  0.68309014  0.68712065  0.67888347\n",
      "  0.6802637   0.67907025  0.68001241  0.67722406]\n",
      "180 [ 0.67738618  0.68287682  0.68076368  0.67929958  0.68156099  0.67864261\n",
      "  0.67550647  0.67992844  0.68168745  0.67781649]\n"
     ]
    }
   ],
   "source": [
    "# reset and run actual chains\n",
    "sampler.reset()\n",
    "nsteps=200\n",
    "for i, result in enumerate(sampler.sample(pos, iterations=nsteps)):\n",
    "    if i % 20 == 0:\n",
    "        print(i,result[0].flatten())"
   ]
  },
  {
   "cell_type": "code",
   "execution_count": 19,
   "metadata": {
    "collapsed": false
   },
   "outputs": [
    {
     "data": {
      "image/png": "[encoded data removed]",
      "text/plain": [
       "<Figure size 720x480 with 1 Axes>"
      ]
     },
     "metadata": {},
     "output_type": "display_data"
    }
   ],
   "source": [
    "for i in range(ndim):\n",
    "    plt.figure()\n",
    "    mf=np.exp(-np.exp(xmin+sampler.flatchain[:,i]*(xmax-xmin)))\n",
    "    plt.hist(mf, 100, color=\"k\", histtype=\"step\")\n",
    "    plt.xlabel('<F>(z=3)')\n",
    "    plt.title(\"Dimension {0:d}\".format(i))"
   ]
  },
  {
   "cell_type": "code",
   "execution_count": 20,
   "metadata": {
    "collapsed": false
   },
   "outputs": [
    {
     "name": "stdout",
     "output_type": "stream",
     "text": [
      "Mean acceptance fraction: 0.806\n"
     ]
    }
   ],
   "source": [
    "print(\"Mean acceptance fraction: {0:.3f}\".format(np.mean(sampler.acceptance_fraction)))"
   ]
  },
  {
   "cell_type": "code",
   "execution_count": 21,
   "metadata": {
    "collapsed": false
   },
   "outputs": [
    {
     "data": {
      "image/png": "[encoded data removed]",
      "text/plain": [
       "<Figure size 720x480 with 1 Axes>"
      ]
     },
     "metadata": {},
     "output_type": "display_data"
    }
   ],
   "source": [
    "for i in range(ndim):\n",
    "    plt.figure()\n",
    "    plt.hist(sampler.flatchain[:,i], 100, color=\"k\", histtype=\"step\")\n",
    "    plt.xlabel('param 0')\n",
    "    plt.title(\"Dimension {0:d}\".format(i))"
   ]
  },
  {
   "cell_type": "code",
   "execution_count": null,
   "metadata": {
    "collapsed": true
   },
   "outputs": [],
   "source": []
  }
 ],
 "metadata": {
  "kernelspec": {
   "display_name": "Python 3",
   "language": "python",
   "name": "python3"
  },
  "language_info": {
   "codemirror_mode": {
    "name": "ipython",
    "version": 3
   },
   "file_extension": ".py",
   "mimetype": "text/x-python",
   "name": "python",
   "nbconvert_exporter": "python",
   "pygments_lexer": "ipython3",
   "version": "3.6.7"
  }
 },
 "nbformat": 4,
 "nbformat_minor": 2
}
