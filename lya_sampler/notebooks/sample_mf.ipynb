{
 "cells": [
  {
   "cell_type": "markdown",
   "metadata": {},
   "source": [
    "# Use emcee to sample Lya posterior as a function of mean flux"
   ]
  },
  {
   "cell_type": "code",
   "execution_count": 1,
   "metadata": {
    "collapsed": false
   },
   "outputs": [],
   "source": [
    "%matplotlib inline\n",
    "%load_ext autoreload\n",
    "%autoreload 2\n",
    "import numpy as np\n",
    "import sys\n",
    "import os\n",
    "import json\n",
    "import matplotlib.pyplot as plt\n",
    "import matplotlib as mpl\n",
    "mpl.rcParams['savefig.dpi'] = 120\n",
    "mpl.rcParams['figure.dpi'] = 120\n",
    "import cProfile\n",
    "import emcee\n",
    "# our own modules\n",
    "import simplest_emulator\n",
    "import linear_emulator\n",
    "import data_PD2013\n",
    "import lya_theory\n",
    "import likelihood"
   ]
  },
  {
   "cell_type": "markdown",
   "metadata": {},
   "source": [
    "## Setup Lya likelihood function"
   ]
  },
  {
   "cell_type": "code",
   "execution_count": 2,
   "metadata": {
    "collapsed": false
   },
   "outputs": [],
   "source": [
    "# read P1D measurement\n",
    "data=data_PD2013.P1D_PD2013(blind_data=True)\n",
    "zs=data.z\n",
    "Nz=len(zs)"
   ]
  },
  {
   "cell_type": "code",
   "execution_count": 3,
   "metadata": {
    "collapsed": false
   },
   "outputs": [
    {
     "name": "stdout",
     "output_type": "stream",
     "text": [
      "setup interpolator for coefficient 0\n",
      "[ 0.34215808 -2.30000012  0.64144805  0.14339793  1.47513694] test [-1.18323575]\n",
      "setup interpolator for coefficient 1\n",
      "[ 0.34215808 -2.30000012  0.64144805  0.14339793  1.47513694] test [-0.6323589]\n",
      "setup interpolator for coefficient 2\n",
      "[ 0.34215808 -2.30000012  0.64144805  0.14339793  1.47513694] test [-0.29370814]\n",
      "setup interpolator for coefficient 3\n",
      "[ 0.34215808 -2.30000012  0.64144805  0.14339793  1.47513694] test [-0.1279153]\n",
      "setup interpolator for coefficient 4\n",
      "[ 0.34215808 -2.30000012  0.64144805  0.14339793  1.47513694] test [-0.01945575]\n"
     ]
    }
   ],
   "source": [
    "# load P1D emulator\n",
    "emu=linear_emulator.LinearEmulator(verbose=False)"
   ]
  },
  {
   "cell_type": "code",
   "execution_count": 4,
   "metadata": {
    "collapsed": false
   },
   "outputs": [
    {
     "name": "stdout",
     "output_type": "stream",
     "text": [
      "Note: redshifts have been re-sorted (earliest first)\n",
      "use default mean flux model\n",
      "use default thermal model\n"
     ]
    }
   ],
   "source": [
    "# setup theory to predict Lya 1D power\n",
    "theory = lya_theory.LyaTheory(zs,emulator=emu,verbose=True)\n",
    "# for this simple test, just use fiducial cosmology\n",
    "theory.set_cosmo_model(linP_model=theory.cosmo.linP_model_fid)\n",
    "linP_Mpc_params=theory.cosmo.get_linP_Mpc_params()"
   ]
  },
  {
   "cell_type": "code",
   "execution_count": 5,
   "metadata": {
    "collapsed": false
   },
   "outputs": [
    {
     "name": "stdout",
     "output_type": "stream",
     "text": [
      "got parameters\n",
      "ln_tau_0 = -0.794580172414\n",
      "ln_tau_1 = 3.18\n",
      "ln_T0_0 = 9.21034037198\n",
      "ln_T0_1 = 0.0\n",
      "ln_gamma_0 = 0.336472236621\n",
      "ln_gamma_1 = 0.0\n",
      "likelihood setup with 1 free parameters\n",
      "1 free parameters\n"
     ]
    }
   ],
   "source": [
    "like=likelihood.Likelihood(data=data,theory=theory,verbose=True)"
   ]
  },
  {
   "cell_type": "code",
   "execution_count": 6,
   "metadata": {
    "collapsed": false
   },
   "outputs": [
    {
     "name": "stdout",
     "output_type": "stream",
     "text": [
      "ln_tau_0 -0.794580172414\n"
     ]
    }
   ],
   "source": [
    "for p in like.free_params:\n",
    "    print(p.name,p.value)"
   ]
  },
  {
   "cell_type": "code",
   "execution_count": 7,
   "metadata": {
    "collapsed": false
   },
   "outputs": [
    {
     "name": "stdout",
     "output_type": "stream",
     "text": [
      "updated parameters, update theories\n",
      "updated 1 mean flux parameters\n",
      "updated 1 IGM parameters\n",
      "0 2.2 model {'Delta2_p': 0.55651130145771688, 'n_p': -2.2994794185069685, 'alpha_p': -0.21637589659957746, 'f_p': 0.96522452450210083, 'mF': 0.82678076324723049, 'gamma': 1.3999999999999999, 'sigT_Mpc': 0.13069600926052841}\n",
      "1 2.4 model {'Delta2_p': 0.49488568402750766, 'n_p': -2.2994795015019927, 'alpha_p': -0.21637671767578953, 'f_p': 0.97065366319224333, 'mF': 0.79400932502668009, 'gamma': 1.3999999999999999, 'sigT_Mpc': 0.12744692725288601}\n",
      "2 2.6 model {'Delta2_p': 0.44280074273630693, 'n_p': -2.2994793009304835, 'alpha_p': -0.21637578130992885, 'f_p': 0.97499691285123324, 'mF': 0.75832916245871795, 'gamma': 1.3999999999999999, 'sigT_Mpc': 0.12436389094838281}\n",
      "3 2.8 model {'Delta2_p': 0.39841920050635804, 'n_p': -2.2994793725990892, 'alpha_p': -0.21637637290771081, 'f_p': 0.97850450521187982, 'mF': 0.71997791172041337, 'gamma': 1.3999999999999999, 'sigT_Mpc': 0.12144623367196278}\n",
      "4 3.0 model {'Delta2_p': 0.36031650137680626, 'n_p': -2.2994794594828254, 'alpha_p': -0.21637600594737977, 'f_p': 0.98136955118501357, 'mF': 0.6792669863673757, 'gamma': 1.3999999999999999, 'sigT_Mpc': 0.1186885644151414}\n",
      "5 3.2 model {'Delta2_p': 0.32737728593655518, 'n_p': -2.2994796905461898, 'alpha_p': -0.21637680270648968, 'f_p': 0.98372383225332338, 'mF': 0.63657680114569337, 'gamma': 1.3999999999999999, 'sigT_Mpc': 0.11608299285352074}\n",
      "6 3.4 model {'Delta2_p': 0.29871954453855937, 'n_p': -2.2994795000217736, 'alpha_p': -0.21637623791383734, 'f_p': 0.98567148012944139, 'mF': 0.59234888015447751, 'gamma': 1.3999999999999999, 'sigT_Mpc': 0.1136204737084692}\n",
      "7 3.6 model {'Delta2_p': 0.27363948987419645, 'n_p': -2.2994796464262692, 'alpha_p': -0.21637567195994106, 'f_p': 0.98729946760978093, 'mF': 0.54707492999680352, 'gamma': 1.3999999999999999, 'sigT_Mpc': 0.11129160972572964}\n",
      "8 3.8 model {'Delta2_p': 0.25157064580159277, 'n_p': -2.2994796831223212, 'alpha_p': -0.21637623173894571, 'f_p': 0.98866784750139824, 'mF': 0.50128316036687648, 'gamma': 1.3999999999999999, 'sigT_Mpc': 0.10908712104062165}\n",
      "9 4.0 model {'Delta2_p': 0.23205325295753354, 'n_p': -2.2994798610668852, 'alpha_p': -0.21637634322605101, 'f_p': 0.98982327607293863, 'mF': 0.45552234140767905, 'gamma': 1.3999999999999999, 'sigT_Mpc': 0.10699810885344364}\n",
      "10 4.2 model {'Delta2_p': 0.2147112859742899, 'n_p': -2.299479620314405, 'alpha_p': -0.21637699024296425, 'f_p': 0.99080279000903559, 'mF': 0.41034428135678153, 'gamma': 1.3999999999999999, 'sigT_Mpc': 0.10501619262106125}\n",
      "11 4.4 model {'Delta2_p': 0.19923499758542598, 'n_p': -2.2994797463452099, 'alpha_p': -0.21637671711329315, 'f_p': 0.99164206819310086, 'mF': 0.36628557022797459, 'gamma': 1.3999999999999999, 'sigT_Mpc': 0.10313357005157239}\n",
      "got P1D from emulator\n",
      "compute chi2 for z=2.2\n",
      "added 247.49345226613346 to chi2\n",
      "compute chi2 for z=2.4\n",
      "added 231.2729129178708 to chi2\n",
      "compute chi2 for z=2.6\n",
      "added 56.70070198810697 to chi2\n",
      "compute chi2 for z=2.8\n",
      "added 208.39278015916113 to chi2\n",
      "compute chi2 for z=3.0\n",
      "added 481.45752326481977 to chi2\n",
      "compute chi2 for z=3.2\n",
      "added 833.4183521060303 to chi2\n",
      "compute chi2 for z=3.4\n",
      "added 479.4778586309551 to chi2\n",
      "compute chi2 for z=3.6\n",
      "added 165.89920312067247 to chi2\n",
      "compute chi2 for z=3.8\n",
      "added 390.56612824814056 to chi2\n",
      "compute chi2 for z=4.0\n",
      "added 943.9525726229842 to chi2\n",
      "compute chi2 for z=4.2\n",
      "added 629.7008063035593 to chi2\n",
      "compute chi2 for z=4.4\n",
      "added 2268.5411979130704 to chi2\n"
     ]
    },
    {
     "data": {
      "text/plain": [
       "-3468.4367447707523"
      ]
     },
     "execution_count": 7,
     "metadata": {},
     "output_type": "execute_result"
    }
   ],
   "source": [
    "# test likelihood function\n",
    "values=[0.5]\n",
    "like.log_prob(values=values,linP_Mpc_params=linP_Mpc_params)"
   ]
  },
  {
   "cell_type": "code",
   "execution_count": 8,
   "metadata": {
    "collapsed": false
   },
   "outputs": [],
   "source": [
    "#cProfile.run(\"like.get_chi2(linP_Mpc_params=linP_Mpc_params)\",sort='cumtime')"
   ]
  },
  {
   "cell_type": "markdown",
   "metadata": {
    "collapsed": false
   },
   "source": [
    "### Setup function to be called in MCMC"
   ]
  },
  {
   "cell_type": "code",
   "execution_count": 9,
   "metadata": {
    "collapsed": true
   },
   "outputs": [],
   "source": [
    "def log_prob(x,like,linP_Mpc_params):\n",
    "    return like.log_prob(values=x,linP_Mpc_params=linP_Mpc_params)"
   ]
  },
  {
   "cell_type": "code",
   "execution_count": 10,
   "metadata": {
    "collapsed": true
   },
   "outputs": [],
   "source": [
    "like.go_silent()"
   ]
  },
  {
   "cell_type": "code",
   "execution_count": 11,
   "metadata": {
    "collapsed": false
   },
   "outputs": [
    {
     "name": "stdout",
     "output_type": "stream",
     "text": [
      "-1.2 < ln_tau_0 < -0.7\n",
      "0.301194211912 < tau_0 < 0.496585303791\n",
      "0.608605317804 < <F> < 0.739934054784\n"
     ]
    }
   ],
   "source": [
    "xs=np.linspace(0.0,1.0,100)\n",
    "xmin=like.free_params[0].min_value\n",
    "xmax=like.free_params[0].max_value\n",
    "print(xmin,'< ln_tau_0 <',xmax)\n",
    "print(np.exp(xmin),'< tau_0 <',np.exp(xmax))\n",
    "print(np.exp(-np.exp(xmax)),'< <F> <',np.exp(-np.exp(xmin)))\n",
    "mf=np.exp(-np.exp(xmin+xs*(xmax-xmin)))\n",
    "lnps=[log_prob([x],like,linP_Mpc_params) for x in xs]"
   ]
  },
  {
   "cell_type": "code",
   "execution_count": 12,
   "metadata": {
    "collapsed": false
   },
   "outputs": [
    {
     "data": {
      "text/plain": [
       "<matplotlib.text.Text at 0x10cb03390>"
      ]
     },
     "execution_count": 12,
     "metadata": {},
     "output_type": "execute_result"
    },
    {
     "data": {
      "image/png": "[encoded data removed]",
      "text/plain": [
       "<matplotlib.figure.Figure at 0x10cacb3c8>"
      ]
     },
     "metadata": {},
     "output_type": "display_data"
    }
   ],
   "source": [
    "plt.plot(mf,-2.0*np.array(lnps))\n",
    "plt.xlabel(r'$\\bar F(z=3)$')\n",
    "plt.ylabel(r'$\\chi^2$')"
   ]
  },
  {
   "cell_type": "markdown",
   "metadata": {},
   "source": [
    "### Setup MCMC"
   ]
  },
  {
   "cell_type": "code",
   "execution_count": 13,
   "metadata": {
    "collapsed": false
   },
   "outputs": [],
   "source": [
    "# for now we'll have only three dimensions (mean flux, temperature, gamma)\n",
    "ndim=1\n",
    "# setup initial walkers\n",
    "nwalkers = 10\n",
    "p0 = np.random.rand(ndim * nwalkers).reshape((nwalkers, ndim))"
   ]
  },
  {
   "cell_type": "code",
   "execution_count": 14,
   "metadata": {
    "collapsed": false
   },
   "outputs": [
    {
     "data": {
      "text/plain": [
       "array([ 0.8715381 ,  0.12357713,  0.53152281,  0.27913192,  0.52079707,\n",
       "        0.29279367,  0.5677928 ,  0.6706715 ,  0.69543177,  0.71809103])"
      ]
     },
     "execution_count": 14,
     "metadata": {},
     "output_type": "execute_result"
    }
   ],
   "source": [
    "p0.flatten()"
   ]
  },
  {
   "cell_type": "code",
   "execution_count": 15,
   "metadata": {
    "collapsed": false
   },
   "outputs": [
    {
     "data": {
      "text/plain": [
       "-4082.6707502749541"
      ]
     },
     "execution_count": 15,
     "metadata": {},
     "output_type": "execute_result"
    }
   ],
   "source": [
    "# test function\n",
    "log_prob(p0[0],like,linP_Mpc_params)"
   ]
  },
  {
   "cell_type": "code",
   "execution_count": 16,
   "metadata": {
    "collapsed": false
   },
   "outputs": [],
   "source": [
    "# setup sampler\n",
    "emu.arxiv.verbose=False\n",
    "emu.verbose=False\n",
    "sampler = emcee.EnsembleSampler(nwalkers, ndim, log_prob, args=[like,linP_Mpc_params])"
   ]
  },
  {
   "cell_type": "code",
   "execution_count": 17,
   "metadata": {
    "collapsed": false
   },
   "outputs": [
    {
     "name": "stdout",
     "output_type": "stream",
     "text": [
      "finished burn-in at [ 0.63288315  0.62673405  0.62363605  0.62411535  0.6299269   0.62691017\n",
      "  0.61685387  0.63247616  0.62984922  0.62450294] [-3275.58814689 -3274.32052543 -3274.81269061 -3274.51545189 -3274.86222266\n",
      " -3274.33785541 -3279.24222852 -3275.47599746 -3274.84591516 -3274.27900948]\n"
     ]
    }
   ],
   "source": [
    "# burn-in phase\n",
    "pos, prob, state = sampler.run_mcmc(p0, 50)\n",
    "print('finished burn-in at',pos.flatten(),prob)"
   ]
  },
  {
   "cell_type": "code",
   "execution_count": 18,
   "metadata": {
    "collapsed": false
   },
   "outputs": [
    {
     "name": "stdout",
     "output_type": "stream",
     "text": [
      "0 [ 0.6314039   0.62405371  0.62348037  0.62482578  0.62989155  0.62514843\n",
      "  0.61685387  0.63243657  0.63211839  0.6244264 ]\n",
      "100 [ 0.62590604  0.62393948  0.62153703  0.6253955   0.62414818  0.62591908\n",
      "  0.62963638  0.62535467  0.62887464  0.62946292]\n",
      "200 [ 0.62393606  0.62528271  0.6249516   0.63346601  0.62694664  0.62583238\n",
      "  0.63025429  0.63688643  0.62982094  0.62608769]\n",
      "300 [ 0.62429835  0.62947473  0.63351704  0.62697082  0.62505256  0.63658369\n",
      "  0.62850126  0.62192383  0.6305813   0.62296314]\n",
      "400 [ 0.63857031  0.62099682  0.62805121  0.6309948   0.62525816  0.61888053\n",
      "  0.6313991   0.62786127  0.62772251  0.6296634 ]\n"
     ]
    }
   ],
   "source": [
    "# reset and run actual chains\n",
    "sampler.reset()\n",
    "nsteps=500\n",
    "for i, result in enumerate(sampler.sample(pos, iterations=nsteps)):\n",
    "    if i % 100 == 0:\n",
    "        print(i,result[0].flatten())"
   ]
  },
  {
   "cell_type": "code",
   "execution_count": 19,
   "metadata": {
    "collapsed": false
   },
   "outputs": [
    {
     "data": {
      "image/png": "[encoded data removed]",
      "text/plain": [
       "<matplotlib.figure.Figure at 0x13edcacc0>"
      ]
     },
     "metadata": {},
     "output_type": "display_data"
    }
   ],
   "source": [
    "for i in range(ndim):\n",
    "    plt.figure()\n",
    "    mf=np.exp(-np.exp(xmin+sampler.flatchain[:,i]*(xmax-xmin)))\n",
    "    plt.hist(mf, 100, color=\"k\", histtype=\"step\")\n",
    "    plt.xlabel('<F>(z=3)')\n",
    "    plt.title(\"Dimension {0:d}\".format(i))"
   ]
  },
  {
   "cell_type": "code",
   "execution_count": 20,
   "metadata": {
    "collapsed": false
   },
   "outputs": [
    {
     "name": "stdout",
     "output_type": "stream",
     "text": [
      "Mean acceptance fraction: 0.798\n"
     ]
    }
   ],
   "source": [
    "print(\"Mean acceptance fraction: {0:.3f}\".format(np.mean(sampler.acceptance_fraction)))"
   ]
  },
  {
   "cell_type": "code",
   "execution_count": 21,
   "metadata": {
    "collapsed": false
   },
   "outputs": [
    {
     "data": {
      "image/png": "[encoded data removed]",
      "text/plain": [
       "<matplotlib.figure.Figure at 0x10de1b198>"
      ]
     },
     "metadata": {},
     "output_type": "display_data"
    }
   ],
   "source": [
    "for i in range(ndim):\n",
    "    plt.figure()\n",
    "    plt.hist(sampler.flatchain[:,i], 100, color=\"k\", histtype=\"step\")\n",
    "    plt.xlabel('param 0')\n",
    "    plt.title(\"Dimension {0:d}\".format(i))"
   ]
  },
  {
   "cell_type": "code",
   "execution_count": null,
   "metadata": {
    "collapsed": true
   },
   "outputs": [],
   "source": []
  }
 ],
 "metadata": {
  "kernelspec": {
   "display_name": "Python 3",
   "language": "python",
   "name": "python3"
  },
  "language_info": {
   "codemirror_mode": {
    "name": "ipython",
    "version": 3
   },
   "file_extension": ".py",
   "mimetype": "text/x-python",
   "name": "python",
   "nbconvert_exporter": "python",
   "pygments_lexer": "ipython3",
   "version": "3.6.7"
  }
 },
 "nbformat": 4,
 "nbformat_minor": 2
}
