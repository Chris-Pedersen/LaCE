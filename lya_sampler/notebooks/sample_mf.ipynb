{
 "cells": [
  {
   "cell_type": "markdown",
   "metadata": {},
   "source": [
    "# Use emcee to sample Lya posterior as a function of mean flux"
   ]
  },
  {
   "cell_type": "code",
   "execution_count": 1,
   "metadata": {
    "collapsed": false
   },
   "outputs": [],
   "source": [
    "%matplotlib inline\n",
    "%load_ext autoreload\n",
    "%autoreload 2\n",
    "import numpy as np\n",
    "import sys\n",
    "import os\n",
    "import json\n",
    "import matplotlib.pyplot as plt\n",
    "import matplotlib as mpl\n",
    "mpl.rcParams['savefig.dpi'] = 120\n",
    "mpl.rcParams['figure.dpi'] = 120\n",
    "import cProfile\n",
    "import emcee\n",
    "# our own modules\n",
    "import simplest_emulator\n",
    "import linear_emulator\n",
    "import gp_emulator\n",
    "import data_PD2013\n",
    "import lya_theory\n",
    "import likelihood"
   ]
  },
  {
   "cell_type": "markdown",
   "metadata": {},
   "source": [
    "## Setup Lya likelihood function"
   ]
  },
  {
   "cell_type": "code",
   "execution_count": 2,
   "metadata": {
    "collapsed": false
   },
   "outputs": [],
   "source": [
    "# read P1D measurement\n",
    "data=data_PD2013.P1D_PD2013(blind_data=True)\n",
    "zs=data.z\n",
    "Nz=len(zs)"
   ]
  },
  {
   "cell_type": "code",
   "execution_count": 3,
   "metadata": {
    "collapsed": false
   },
   "outputs": [
    {
     "name": "stdout",
     "output_type": "stream",
     "text": [
      "latin hyper-cube data {'param_space': {'Om_star': {'ip': 0, 'min_val': 0.955, 'max_val': 0.975, 'z_star': 3.0, 'latex': '$\\\\Omega_\\\\star$'}, 'Delta2_star': {'ip': 1, 'min_val': 0.25, 'max_val': 0.45, 'z_star': 3.0, 'kp_Mpc': 0.7, 'latex': '$\\\\Delta^2_\\\\star$'}, 'n_star': {'ip': 2, 'min_val': -2.35, 'max_val': -2.25, 'z_star': 3.0, 'kp_Mpc': 0.7, 'latex': '$n_\\\\star$'}, 'alpha_star': {'ip': 3, 'min_val': -0.265, 'max_val': -0.165, 'z_star': 3.0, 'kp_Mpc': 0.7, 'latex': '$\\\\alpha_\\\\star$'}, 'mu_He': {'ip': 4, 'min_val': 0.5, 'max_val': 2.0, 'latex': '$\\\\mu_{\\\\rm He}$'}, 'mu_H': {'ip': 5, 'min_val': 0.5, 'max_val': 2.0, '   latex': '$\\\\mu_{\\\\rm H}$'}}, 'nsamples': 10, 'samples': {'0': [0.96, 0.32, -2.325, -0.22, 0.875, 1.7750000000000001], '1': [0.966, 0.4, -2.295, -0.23, 1.175, 0.575], '2': [0.968, 0.36, -2.285, -0.26, 1.7750000000000001, 1.625], '3': [0.97, 0.3, -2.315, -0.18, 1.3250000000000002, 1.3250000000000002], '4': [0.974, 0.34, -2.305, -0.21000000000000002, 1.475, 1.175], '5': [0.956, 0.42000000000000004, -2.275, -0.24000000000000002, 0.7250000000000001, 1.475], '6': [0.958, 0.26, -2.265, -0.19, 1.025, 1.025], '7': [0.964, 0.44, -2.335, -0.17, 1.625, 1.9249999999999998], '8': [0.962, 0.38, -2.255, -0.25, 1.9249999999999998, 0.875], '9': [0.972, 0.28, -2.345, -0.2, 0.575, 0.7250000000000001]}}\n",
      "simulation suite has 10 samples\n",
      "0 sample has sim params = [0.96, 0.32, -2.325, -0.22, 0.875, 1.7750000000000001]\n",
      "simulation has 10 redshifts\n",
      "../../p1d_emulator/sim_suites/emulator_15052019//sim_pair_0/sim_plus/p1d_0_Ns110_wM0.1.json snapshot does not have p1d\n",
      "../../p1d_emulator/sim_suites/emulator_15052019//sim_pair_0/sim_plus/p1d_1_Ns110_wM0.1.json snapshot does not have p1d\n",
      "../../p1d_emulator/sim_suites/emulator_15052019//sim_pair_0/sim_plus/p1d_2_Ns110_wM0.1.json snapshot does not have p1d\n",
      "1 sample has sim params = [0.966, 0.4, -2.295, -0.23, 1.175, 0.575]\n",
      "simulation has 10 redshifts\n",
      "../../p1d_emulator/sim_suites/emulator_15052019//sim_pair_1/sim_plus/p1d_0_Ns110_wM0.1.json snapshot does not have p1d\n",
      "../../p1d_emulator/sim_suites/emulator_15052019//sim_pair_1/sim_plus/p1d_1_Ns110_wM0.1.json snapshot does not have p1d\n",
      "../../p1d_emulator/sim_suites/emulator_15052019//sim_pair_1/sim_plus/p1d_2_Ns110_wM0.1.json snapshot does not have p1d\n",
      "2 sample has sim params = [0.968, 0.36, -2.285, -0.26, 1.7750000000000001, 1.625]\n",
      "simulation has 10 redshifts\n",
      "../../p1d_emulator/sim_suites/emulator_15052019//sim_pair_2/sim_plus/p1d_0_Ns110_wM0.1.json snapshot does not have p1d\n",
      "../../p1d_emulator/sim_suites/emulator_15052019//sim_pair_2/sim_plus/p1d_1_Ns110_wM0.1.json snapshot does not have p1d\n",
      "../../p1d_emulator/sim_suites/emulator_15052019//sim_pair_2/sim_plus/p1d_2_Ns110_wM0.1.json snapshot does not have p1d\n",
      "3 sample has sim params = [0.97, 0.3, -2.315, -0.18, 1.3250000000000002, 1.3250000000000002]\n",
      "simulation has 10 redshifts\n",
      "../../p1d_emulator/sim_suites/emulator_15052019//sim_pair_3/sim_plus/p1d_0_Ns110_wM0.1.json snapshot does not have p1d\n",
      "../../p1d_emulator/sim_suites/emulator_15052019//sim_pair_3/sim_plus/p1d_1_Ns110_wM0.1.json snapshot does not have p1d\n",
      "../../p1d_emulator/sim_suites/emulator_15052019//sim_pair_3/sim_plus/p1d_2_Ns110_wM0.1.json snapshot does not have p1d\n",
      "4 sample has sim params = [0.974, 0.34, -2.305, -0.21000000000000002, 1.475, 1.175]\n",
      "simulation has 10 redshifts\n",
      "../../p1d_emulator/sim_suites/emulator_15052019//sim_pair_4/sim_plus/p1d_0_Ns110_wM0.1.json snapshot does not have p1d\n",
      "../../p1d_emulator/sim_suites/emulator_15052019//sim_pair_4/sim_plus/p1d_1_Ns110_wM0.1.json snapshot does not have p1d\n",
      "../../p1d_emulator/sim_suites/emulator_15052019//sim_pair_4/sim_plus/p1d_2_Ns110_wM0.1.json snapshot does not have p1d\n",
      "5 sample has sim params = [0.956, 0.42000000000000004, -2.275, -0.24000000000000002, 0.7250000000000001, 1.475]\n",
      "simulation has 10 redshifts\n",
      "../../p1d_emulator/sim_suites/emulator_15052019//sim_pair_5/sim_plus/p1d_0_Ns110_wM0.1.json snapshot does not have p1d\n",
      "../../p1d_emulator/sim_suites/emulator_15052019//sim_pair_5/sim_plus/p1d_1_Ns110_wM0.1.json snapshot does not have p1d\n",
      "../../p1d_emulator/sim_suites/emulator_15052019//sim_pair_5/sim_plus/p1d_2_Ns110_wM0.1.json snapshot does not have p1d\n",
      "6 sample has sim params = [0.958, 0.26, -2.265, -0.19, 1.025, 1.025]\n",
      "simulation has 10 redshifts\n",
      "../../p1d_emulator/sim_suites/emulator_15052019//sim_pair_6/sim_plus/p1d_0_Ns110_wM0.1.json snapshot does not have p1d\n",
      "../../p1d_emulator/sim_suites/emulator_15052019//sim_pair_6/sim_plus/p1d_1_Ns110_wM0.1.json snapshot does not have p1d\n",
      "../../p1d_emulator/sim_suites/emulator_15052019//sim_pair_6/sim_plus/p1d_2_Ns110_wM0.1.json snapshot does not have p1d\n",
      "7 sample has sim params = [0.964, 0.44, -2.335, -0.17, 1.625, 1.9249999999999998]\n",
      "simulation has 10 redshifts\n",
      "../../p1d_emulator/sim_suites/emulator_15052019//sim_pair_7/sim_plus/p1d_0_Ns110_wM0.1.json snapshot does not have p1d\n",
      "../../p1d_emulator/sim_suites/emulator_15052019//sim_pair_7/sim_plus/p1d_1_Ns110_wM0.1.json snapshot does not have p1d\n",
      "../../p1d_emulator/sim_suites/emulator_15052019//sim_pair_7/sim_plus/p1d_2_Ns110_wM0.1.json snapshot does not have p1d\n",
      "8 sample has sim params = [0.962, 0.38, -2.255, -0.25, 1.9249999999999998, 0.875]\n",
      "simulation has 10 redshifts\n",
      "../../p1d_emulator/sim_suites/emulator_15052019//sim_pair_8/sim_plus/p1d_0_Ns110_wM0.1.json snapshot does not have p1d\n",
      "../../p1d_emulator/sim_suites/emulator_15052019//sim_pair_8/sim_plus/p1d_1_Ns110_wM0.1.json snapshot does not have p1d\n",
      "../../p1d_emulator/sim_suites/emulator_15052019//sim_pair_8/sim_plus/p1d_2_Ns110_wM0.1.json snapshot does not have p1d\n",
      "9 sample has sim params = [0.972, 0.28, -2.345, -0.2, 0.575, 0.7250000000000001]\n",
      "simulation has 10 redshifts\n",
      "../../p1d_emulator/sim_suites/emulator_15052019//sim_pair_9/sim_plus/p1d_0_Ns110_wM0.1.json snapshot does not have p1d\n",
      "../../p1d_emulator/sim_suites/emulator_15052019//sim_pair_9/sim_plus/p1d_1_Ns110_wM0.1.json snapshot does not have p1d\n",
      "../../p1d_emulator/sim_suites/emulator_15052019//sim_pair_9/sim_plus/p1d_2_Ns110_wM0.1.json snapshot does not have p1d\n",
      "will keep only 1000 entries\n",
      "Arxiv setup, containing 1000 entries\n",
      "will train GP emulator\n",
      "Rescaled params to unity volume\n",
      "Training GP\n",
      "Optimised\n"
     ]
    }
   ],
   "source": [
    "basedir='../../p1d_emulator/sim_suites/emulator_15052019/'\n",
    "p1d_label='p1d'\n",
    "skewers_label='Ns110_wM0.1'\n",
    "use_gp=True\n",
    "if use_gp:\n",
    "    emu=gp_emulator.GPEmulator(basedir,p1d_label,skewers_label,max_arxiv_size=1000,verbose=True,paramList=None,kmax_Mpc=5,train=True)\n",
    "else:\n",
    "    emu=linear_emulator.LinearEmulator(basedir,p1d_label,skewers_label,drop_tau_rescalings=False,drop_temp_rescalings=False,verbose=True)"
   ]
  },
  {
   "cell_type": "code",
   "execution_count": 4,
   "metadata": {
    "collapsed": false
   },
   "outputs": [
    {
     "name": "stdout",
     "output_type": "stream",
     "text": [
      "Note: redshifts have been re-sorted (earliest first)\n",
      "use default mean flux model\n",
      "use default thermal model\n"
     ]
    }
   ],
   "source": [
    "# setup theory to predict Lya 1D power\n",
    "theory = lya_theory.LyaTheory(zs,emulator=emu,verbose=True)\n",
    "# for this simple test, just use fiducial cosmology\n",
    "theory.set_cosmo_model(linP_model=theory.cosmo.linP_model_fid)\n",
    "linP_Mpc_params=theory.cosmo.get_linP_Mpc_params()"
   ]
  },
  {
   "cell_type": "code",
   "execution_count": 5,
   "metadata": {
    "collapsed": false
   },
   "outputs": [
    {
     "name": "stdout",
     "output_type": "stream",
     "text": [
      "got parameters\n",
      "g_star = 0.9677508579459803\n",
      "f_star = 0.98136955784\n",
      "Delta2_star = 0.360175905286\n",
      "n_star = -2.29933566726\n",
      "alpha_star = -0.216527037121\n",
      "ln_tau_0 = -0.794580172414\n",
      "ln_tau_1 = 3.18\n",
      "ln_T0_0 = 9.21034037198\n",
      "ln_T0_1 = 0.0\n",
      "ln_gamma_0 = 0.336472236621\n",
      "ln_gamma_1 = 0.0\n",
      "likelihood setup with 1 free parameters\n",
      "1 free parameters\n"
     ]
    }
   ],
   "source": [
    "like=likelihood.Likelihood(data=data,theory=theory,verbose=True)"
   ]
  },
  {
   "cell_type": "code",
   "execution_count": 6,
   "metadata": {
    "collapsed": false
   },
   "outputs": [
    {
     "name": "stdout",
     "output_type": "stream",
     "text": [
      "ln_tau_0 -0.794580172414\n"
     ]
    }
   ],
   "source": [
    "for p in like.free_params:\n",
    "    print(p.name,p.value)"
   ]
  },
  {
   "cell_type": "code",
   "execution_count": 7,
   "metadata": {
    "collapsed": false
   },
   "outputs": [
    {
     "name": "stdout",
     "output_type": "stream",
     "text": [
      "updated parameters, update theories\n",
      "updated 0 linP parameters\n",
      "updated 1 after mean flux parameters\n",
      "updated 1 after thermal parameters\n",
      "0 2.2 model {'Delta2_p': 0.55651130145771688, 'n_p': -2.2994794185069685, 'alpha_p': -0.21637589659957746, 'f_p': 0.96522452450210083, 'mF': 0.82678076324723049, 'gamma': 1.3999999999999999, 'sigT_Mpc': 0.13069600926052841}\n",
      "1 2.4 model {'Delta2_p': 0.49488568402750766, 'n_p': -2.2994795015019927, 'alpha_p': -0.21637671767578953, 'f_p': 0.97065366319224333, 'mF': 0.79400932502668009, 'gamma': 1.3999999999999999, 'sigT_Mpc': 0.12744692725288601}\n",
      "2 2.6 model {'Delta2_p': 0.44280074273630693, 'n_p': -2.2994793009304835, 'alpha_p': -0.21637578130992885, 'f_p': 0.97499691285123324, 'mF': 0.75832916245871795, 'gamma': 1.3999999999999999, 'sigT_Mpc': 0.12436389094838281}\n",
      "3 2.8 model {'Delta2_p': 0.39841920050635804, 'n_p': -2.2994793725990892, 'alpha_p': -0.21637637290771081, 'f_p': 0.97850450521187982, 'mF': 0.71997791172041337, 'gamma': 1.3999999999999999, 'sigT_Mpc': 0.12144623367196278}\n",
      "4 3.0 model {'Delta2_p': 0.36031650137680626, 'n_p': -2.2994794594828254, 'alpha_p': -0.21637600594737977, 'f_p': 0.98136955118501357, 'mF': 0.6792669863673757, 'gamma': 1.3999999999999999, 'sigT_Mpc': 0.1186885644151414}\n",
      "5 3.2 model {'Delta2_p': 0.32737728593655518, 'n_p': -2.2994796905461898, 'alpha_p': -0.21637680270648968, 'f_p': 0.98372383225332338, 'mF': 0.63657680114569337, 'gamma': 1.3999999999999999, 'sigT_Mpc': 0.11608299285352074}\n",
      "6 3.4 model {'Delta2_p': 0.29871954453855937, 'n_p': -2.2994795000217736, 'alpha_p': -0.21637623791383734, 'f_p': 0.98567148012944139, 'mF': 0.59234888015447751, 'gamma': 1.3999999999999999, 'sigT_Mpc': 0.1136204737084692}\n",
      "7 3.6 model {'Delta2_p': 0.27363948987419645, 'n_p': -2.2994796464262692, 'alpha_p': -0.21637567195994106, 'f_p': 0.98729946760978093, 'mF': 0.54707492999680352, 'gamma': 1.3999999999999999, 'sigT_Mpc': 0.11129160972572964}\n",
      "8 3.8 model {'Delta2_p': 0.25157064580159277, 'n_p': -2.2994796831223212, 'alpha_p': -0.21637623173894571, 'f_p': 0.98866784750139824, 'mF': 0.50128316036687648, 'gamma': 1.3999999999999999, 'sigT_Mpc': 0.10908712104062165}\n",
      "9 4.0 model {'Delta2_p': 0.23205325295753354, 'n_p': -2.2994798610668852, 'alpha_p': -0.21637634322605101, 'f_p': 0.98982327607293863, 'mF': 0.45552234140767905, 'gamma': 1.3999999999999999, 'sigT_Mpc': 0.10699810885344364}\n",
      "10 4.2 model {'Delta2_p': 0.2147112859742899, 'n_p': -2.299479620314405, 'alpha_p': -0.21637699024296425, 'f_p': 0.99080279000903559, 'mF': 0.41034428135678153, 'gamma': 1.3999999999999999, 'sigT_Mpc': 0.10501619262106125}\n",
      "11 4.4 model {'Delta2_p': 0.19923499758542598, 'n_p': -2.2994797463452099, 'alpha_p': -0.21637671711329315, 'f_p': 0.99164206819310086, 'mF': 0.36628557022797459, 'gamma': 1.3999999999999999, 'sigT_Mpc': 0.10313357005157239}\n",
      "got P1D from emulator\n",
      "compute chi2 for z=2.2\n",
      "added 380.1397715982618 to chi2\n",
      "compute chi2 for z=2.4\n",
      "added 336.0316644917149 to chi2\n",
      "compute chi2 for z=2.6\n",
      "added 89.93281479587769 to chi2\n",
      "compute chi2 for z=2.8\n",
      "added 129.987539680919 to chi2\n",
      "compute chi2 for z=3.0\n",
      "added 238.79786710966758 to chi2\n",
      "compute chi2 for z=3.2\n",
      "added 543.7714939965583 to chi2\n",
      "compute chi2 for z=3.4\n",
      "added 319.09419940851336 to chi2\n",
      "compute chi2 for z=3.6\n",
      "added 120.98688583707678 to chi2\n",
      "compute chi2 for z=3.8\n",
      "added 315.62835952384114 to chi2\n",
      "compute chi2 for z=4.0\n",
      "added 812.4948869736621 to chi2\n",
      "compute chi2 for z=4.2\n",
      "added 544.2422160143586 to chi2\n",
      "compute chi2 for z=4.4\n",
      "added 2121.1959831021077 to chi2\n"
     ]
    },
    {
     "data": {
      "text/plain": [
       "-2976.1518412662795"
      ]
     },
     "execution_count": 7,
     "metadata": {},
     "output_type": "execute_result"
    }
   ],
   "source": [
    "# test likelihood function\n",
    "values=[0.5]\n",
    "like.log_prob(values=values,linP_Mpc_params=linP_Mpc_params)"
   ]
  },
  {
   "cell_type": "code",
   "execution_count": 8,
   "metadata": {
    "collapsed": false
   },
   "outputs": [],
   "source": [
    "#cProfile.run(\"like.get_chi2(linP_Mpc_params=linP_Mpc_params)\",sort='cumtime')"
   ]
  },
  {
   "cell_type": "markdown",
   "metadata": {
    "collapsed": false
   },
   "source": [
    "### Setup function to be called in MCMC"
   ]
  },
  {
   "cell_type": "code",
   "execution_count": 9,
   "metadata": {
    "collapsed": true
   },
   "outputs": [],
   "source": [
    "def log_prob(x,like,linP_Mpc_params):\n",
    "    return like.log_prob(values=x,linP_Mpc_params=linP_Mpc_params)"
   ]
  },
  {
   "cell_type": "code",
   "execution_count": 10,
   "metadata": {
    "collapsed": true
   },
   "outputs": [],
   "source": [
    "like.go_silent()"
   ]
  },
  {
   "cell_type": "code",
   "execution_count": 11,
   "metadata": {
    "collapsed": false
   },
   "outputs": [
    {
     "name": "stdout",
     "output_type": "stream",
     "text": [
      "-1.2 < ln_tau_0 < -0.7\n",
      "0.301194211912 < tau_0 < 0.496585303791\n",
      "0.608605317804 < <F> < 0.739934054784\n"
     ]
    }
   ],
   "source": [
    "xs=np.linspace(0.0,1.0,100)\n",
    "xmin=like.free_params[0].min_value\n",
    "xmax=like.free_params[0].max_value\n",
    "print(xmin,'< ln_tau_0 <',xmax)\n",
    "print(np.exp(xmin),'< tau_0 <',np.exp(xmax))\n",
    "print(np.exp(-np.exp(xmax)),'< <F> <',np.exp(-np.exp(xmin)))\n",
    "mf=np.exp(-np.exp(xmin+xs*(xmax-xmin)))\n",
    "lnps=[log_prob([x],like,linP_Mpc_params) for x in xs]"
   ]
  },
  {
   "cell_type": "code",
   "execution_count": 12,
   "metadata": {
    "collapsed": false
   },
   "outputs": [
    {
     "data": {
      "text/plain": [
       "Text(0, 0.5, '$\\\\chi^2$')"
      ]
     },
     "execution_count": 12,
     "metadata": {},
     "output_type": "execute_result"
    },
    {
     "data": {
      "image/png": "[encoded data removed]",
      "text/plain": [
       "<Figure size 720x480 with 1 Axes>"
      ]
     },
     "metadata": {},
     "output_type": "display_data"
    }
   ],
   "source": [
    "plt.plot(mf,-2.0*np.array(lnps))\n",
    "plt.xlabel(r'$\\bar F(z=3)$')\n",
    "plt.ylabel(r'$\\chi^2$')"
   ]
  },
  {
   "cell_type": "markdown",
   "metadata": {},
   "source": [
    "### Setup MCMC"
   ]
  },
  {
   "cell_type": "code",
   "execution_count": 13,
   "metadata": {
    "collapsed": false
   },
   "outputs": [],
   "source": [
    "# for now we'll have only three dimensions (mean flux, temperature, gamma)\n",
    "ndim=1\n",
    "# setup initial walkers\n",
    "nwalkers = 10\n",
    "p0 = np.random.rand(ndim * nwalkers).reshape((nwalkers, ndim))"
   ]
  },
  {
   "cell_type": "code",
   "execution_count": 14,
   "metadata": {
    "collapsed": false
   },
   "outputs": [
    {
     "data": {
      "text/plain": [
       "array([ 0.48589907,  0.7319621 ,  0.41257746,  0.87116564,  0.11344114,\n",
       "        0.70979098,  0.85534595,  0.43048159,  0.88582473,  0.89859234])"
      ]
     },
     "execution_count": 14,
     "metadata": {},
     "output_type": "execute_result"
    }
   ],
   "source": [
    "p0.flatten()"
   ]
  },
  {
   "cell_type": "code",
   "execution_count": 15,
   "metadata": {
    "collapsed": false
   },
   "outputs": [
    {
     "data": {
      "text/plain": [
       "-2997.4669595096261"
      ]
     },
     "execution_count": 15,
     "metadata": {},
     "output_type": "execute_result"
    }
   ],
   "source": [
    "# test function\n",
    "log_prob(p0[0],like,linP_Mpc_params)"
   ]
  },
  {
   "cell_type": "code",
   "execution_count": 16,
   "metadata": {
    "collapsed": false
   },
   "outputs": [],
   "source": [
    "# setup sampler\n",
    "emu.arxiv.verbose=False\n",
    "emu.verbose=False\n",
    "sampler = emcee.EnsembleSampler(nwalkers, ndim, log_prob, args=[like,linP_Mpc_params])"
   ]
  },
  {
   "cell_type": "code",
   "execution_count": 17,
   "metadata": {
    "collapsed": false
   },
   "outputs": [
    {
     "name": "stdout",
     "output_type": "stream",
     "text": [
      "finished burn-in at [ 0.55105284  0.55764141  0.55822628  0.54981627  0.57000111  0.56158982\n",
      "  0.561106    0.54972569  0.5661661   0.55561867] [-2938.6317606  -2938.42197617 -2938.45546842 -2938.79101821 -2940.94808237\n",
      " -2938.81358518 -2938.74469043 -2938.80416954 -2939.75481504 -2938.37175477]\n"
     ]
    }
   ],
   "source": [
    "# burn-in phase\n",
    "pos, prob, state = sampler.run_mcmc(p0, 50)\n",
    "print('finished burn-in at',pos.flatten(),prob)"
   ]
  },
  {
   "cell_type": "code",
   "execution_count": 18,
   "metadata": {
    "collapsed": false
   },
   "outputs": [
    {
     "name": "stdout",
     "output_type": "stream",
     "text": [
      "0 [ 0.55834654  0.56080945  0.55779401  0.5482634   0.56429358  0.56158982\n",
      "  0.56031664  0.54770142  0.56769071  0.55561867]\n",
      "100 [ 0.55526471  0.55244619  0.55819994  0.56551683  0.54990413  0.54613089\n",
      "  0.55957374  0.55341096  0.56174329  0.55823781]\n",
      "200 [ 0.55943234  0.55028787  0.55055029  0.55488778  0.56872026  0.54921519\n",
      "  0.55657499  0.55453938  0.55466716  0.55310149]\n",
      "300 [ 0.56151623  0.54935641  0.55146764  0.54910349  0.55322021  0.55293415\n",
      "  0.5615805   0.55842626  0.55323915  0.56140775]\n",
      "400 [ 0.55513907  0.54602714  0.55953811  0.55755137  0.55571137  0.54607035\n",
      "  0.5553253   0.56159797  0.55076754  0.55813102]\n"
     ]
    }
   ],
   "source": [
    "# reset and run actual chains\n",
    "sampler.reset()\n",
    "nsteps=500\n",
    "for i, result in enumerate(sampler.sample(pos, iterations=nsteps)):\n",
    "    if i % 100 == 0:\n",
    "        print(i,result[0].flatten())"
   ]
  },
  {
   "cell_type": "code",
   "execution_count": 19,
   "metadata": {
    "collapsed": false
   },
   "outputs": [
    {
     "data": {
      "image/png": "[encoded data removed]",
      "text/plain": [
       "<Figure size 720x480 with 1 Axes>"
      ]
     },
     "metadata": {},
     "output_type": "display_data"
    }
   ],
   "source": [
    "for i in range(ndim):\n",
    "    plt.figure()\n",
    "    mf=np.exp(-np.exp(xmin+sampler.flatchain[:,i]*(xmax-xmin)))\n",
    "    plt.hist(mf, 100, color=\"k\", histtype=\"step\")\n",
    "    plt.xlabel('<F>(z=3)')\n",
    "    plt.title(\"Dimension {0:d}\".format(i))"
   ]
  },
  {
   "cell_type": "code",
   "execution_count": 20,
   "metadata": {
    "collapsed": false
   },
   "outputs": [
    {
     "name": "stdout",
     "output_type": "stream",
     "text": [
      "Mean acceptance fraction: 0.801\n"
     ]
    }
   ],
   "source": [
    "print(\"Mean acceptance fraction: {0:.3f}\".format(np.mean(sampler.acceptance_fraction)))"
   ]
  },
  {
   "cell_type": "code",
   "execution_count": 21,
   "metadata": {
    "collapsed": false
   },
   "outputs": [
    {
     "data": {
      "image/png": "[encoded data removed]",
      "text/plain": [
       "<Figure size 720x480 with 1 Axes>"
      ]
     },
     "metadata": {},
     "output_type": "display_data"
    }
   ],
   "source": [
    "for i in range(ndim):\n",
    "    plt.figure()\n",
    "    plt.hist(sampler.flatchain[:,i], 100, color=\"k\", histtype=\"step\")\n",
    "    plt.xlabel('param 0')\n",
    "    plt.title(\"Dimension {0:d}\".format(i))"
   ]
  },
  {
   "cell_type": "code",
   "execution_count": null,
   "metadata": {
    "collapsed": true
   },
   "outputs": [],
   "source": []
  }
 ],
 "metadata": {
  "kernelspec": {
   "display_name": "Python 3",
   "language": "python",
   "name": "python3"
  },
  "language_info": {
   "codemirror_mode": {
    "name": "ipython",
    "version": 3
   },
   "file_extension": ".py",
   "mimetype": "text/x-python",
   "name": "python",
   "nbconvert_exporter": "python",
   "pygments_lexer": "ipython3",
   "version": "3.6.7"
  }
 },
 "nbformat": 4,
 "nbformat_minor": 2
}
