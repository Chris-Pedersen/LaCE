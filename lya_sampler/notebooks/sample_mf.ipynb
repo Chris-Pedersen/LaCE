{
 "cells": [
  {
   "cell_type": "markdown",
   "metadata": {},
   "source": [
    "# Use emcee to sample Lya posterior as a function of mean flux"
   ]
  },
  {
   "cell_type": "code",
   "execution_count": 1,
   "metadata": {},
   "outputs": [],
   "source": [
    "%matplotlib inline\n",
    "%load_ext autoreload\n",
    "%autoreload 2\n",
    "import numpy as np\n",
    "import sys\n",
    "import os\n",
    "import json\n",
    "import matplotlib.pyplot as plt\n",
    "import matplotlib as mpl\n",
    "mpl.rcParams['savefig.dpi'] = 120\n",
    "mpl.rcParams['figure.dpi'] = 120\n",
    "import cProfile\n",
    "import emcee\n",
    "# our own modules\n",
    "import simplest_emulator\n",
    "import linear_emulator\n",
    "import gp_emulator\n",
    "import data_PD2013\n",
    "import lya_theory\n",
    "import likelihood"
   ]
  },
  {
   "cell_type": "markdown",
   "metadata": {},
   "source": [
    "## Setup Lya likelihood function"
   ]
  },
  {
   "cell_type": "code",
   "execution_count": 2,
   "metadata": {},
   "outputs": [],
   "source": [
    "# read P1D measurement\n",
    "data=data_PD2013.P1D_PD2013(blind_data=True)\n",
    "zs=data.z\n",
    "Nz=len(zs)"
   ]
  },
  {
   "cell_type": "code",
   "execution_count": 3,
   "metadata": {},
   "outputs": [
    {
     "name": "stdout",
     "output_type": "stream",
     "text": [
      "latin hyper-cube data {'param_space': {'Om_star': {'ip': 0, 'min_val': 0.955, 'max_val': 0.975, 'z_star': 3.0, 'latex': '$\\\\Omega_\\\\star$'}, 'Delta2_star': {'ip': 1, 'min_val': 0.25, 'max_val': 0.45, 'z_star': 3.0, 'kp_Mpc': 0.7, 'latex': '$\\\\Delta^2_\\\\star$'}, 'n_star': {'ip': 2, 'min_val': -2.35, 'max_val': -2.25, 'z_star': 3.0, 'kp_Mpc': 0.7, 'latex': '$n_\\\\star$'}, 'alpha_star': {'ip': 3, 'min_val': -0.265, 'max_val': -0.165, 'z_star': 3.0, 'kp_Mpc': 0.7, 'latex': '$\\\\alpha_\\\\star$'}, 'mu_He': {'ip': 4, 'min_val': 0.5, 'max_val': 2.0, 'latex': '$\\\\mu_{\\\\rm He}$'}, 'mu_H': {'ip': 5, 'min_val': 0.5, 'max_val': 2.0, '   latex': '$\\\\mu_{\\\\rm H}$'}}, 'nsamples': 10, 'samples': {'0': [0.972, 0.42000000000000004, -2.315, -0.19, 0.7250000000000001, 1.3250000000000002], '1': [0.96, 0.28, -2.295, -0.2, 1.3250000000000002, 1.475], '2': [0.966, 0.3, -2.305, -0.26, 1.025, 0.875], '3': [0.956, 0.4, -2.275, -0.25, 0.575, 1.175], '4': [0.968, 0.44, -2.325, -0.22, 1.475, 0.7250000000000001], '5': [0.962, 0.36, -2.335, -0.18, 1.9249999999999998, 1.025], '6': [0.964, 0.32, -2.285, -0.24000000000000002, 1.625, 1.7750000000000001], '7': [0.97, 0.34, -2.265, -0.17, 1.175, 1.9249999999999998], '8': [0.958, 0.26, -2.345, -0.21000000000000002, 0.875, 1.625], '9': [0.974, 0.38, -2.255, -0.23, 1.7750000000000001, 0.575]}}\n",
      "simulation suite has 10 samples\n",
      "0 sample has sim params = [0.972, 0.42000000000000004, -2.315, -0.19, 0.7250000000000001, 1.3250000000000002]\n",
      "simulation has 20 redshifts\n",
      "undersample_z = 2\n",
      "/home/font/Projects/LyaCosmoParams//p1d_emulator/sim_suites/emulator_512_17052019//sim_pair_0/sim_plus/p1d_0_Ns100_wM0.07.json snapshot does not have p1d\n",
      "/home/font/Projects/LyaCosmoParams//p1d_emulator/sim_suites/emulator_512_17052019//sim_pair_0/sim_plus/p1d_2_Ns100_wM0.07.json snapshot does not have p1d\n",
      "/home/font/Projects/LyaCosmoParams//p1d_emulator/sim_suites/emulator_512_17052019//sim_pair_0/sim_plus/p1d_4_Ns100_wM0.07.json snapshot does not have p1d\n",
      "/home/font/Projects/LyaCosmoParams//p1d_emulator/sim_suites/emulator_512_17052019//sim_pair_0/sim_plus/p1d_6_Ns100_wM0.07.json snapshot does not have p1d\n",
      "1 sample has sim params = [0.96, 0.28, -2.295, -0.2, 1.3250000000000002, 1.475]\n",
      "simulation has 20 redshifts\n",
      "undersample_z = 2\n",
      "/home/font/Projects/LyaCosmoParams//p1d_emulator/sim_suites/emulator_512_17052019//sim_pair_1/sim_plus/p1d_0_Ns100_wM0.07.json snapshot does not have p1d\n",
      "/home/font/Projects/LyaCosmoParams//p1d_emulator/sim_suites/emulator_512_17052019//sim_pair_1/sim_plus/p1d_2_Ns100_wM0.07.json snapshot does not have p1d\n",
      "/home/font/Projects/LyaCosmoParams//p1d_emulator/sim_suites/emulator_512_17052019//sim_pair_1/sim_plus/p1d_4_Ns100_wM0.07.json snapshot does not have p1d\n",
      "/home/font/Projects/LyaCosmoParams//p1d_emulator/sim_suites/emulator_512_17052019//sim_pair_1/sim_plus/p1d_6_Ns100_wM0.07.json snapshot does not have p1d\n",
      "2 sample has sim params = [0.966, 0.3, -2.305, -0.26, 1.025, 0.875]\n",
      "simulation has 20 redshifts\n",
      "undersample_z = 2\n",
      "/home/font/Projects/LyaCosmoParams//p1d_emulator/sim_suites/emulator_512_17052019//sim_pair_2/sim_plus/p1d_0_Ns100_wM0.07.json snapshot does not have p1d\n",
      "/home/font/Projects/LyaCosmoParams//p1d_emulator/sim_suites/emulator_512_17052019//sim_pair_2/sim_plus/p1d_2_Ns100_wM0.07.json snapshot does not have p1d\n",
      "/home/font/Projects/LyaCosmoParams//p1d_emulator/sim_suites/emulator_512_17052019//sim_pair_2/sim_plus/p1d_4_Ns100_wM0.07.json snapshot does not have p1d\n",
      "/home/font/Projects/LyaCosmoParams//p1d_emulator/sim_suites/emulator_512_17052019//sim_pair_2/sim_plus/p1d_6_Ns100_wM0.07.json snapshot does not have p1d\n",
      "3 sample has sim params = [0.956, 0.4, -2.275, -0.25, 0.575, 1.175]\n",
      "simulation has 20 redshifts\n",
      "undersample_z = 2\n",
      "/home/font/Projects/LyaCosmoParams//p1d_emulator/sim_suites/emulator_512_17052019//sim_pair_3/sim_plus/p1d_0_Ns100_wM0.07.json snapshot does not have p1d\n",
      "/home/font/Projects/LyaCosmoParams//p1d_emulator/sim_suites/emulator_512_17052019//sim_pair_3/sim_plus/p1d_2_Ns100_wM0.07.json snapshot does not have p1d\n",
      "/home/font/Projects/LyaCosmoParams//p1d_emulator/sim_suites/emulator_512_17052019//sim_pair_3/sim_plus/p1d_4_Ns100_wM0.07.json snapshot does not have p1d\n",
      "/home/font/Projects/LyaCosmoParams//p1d_emulator/sim_suites/emulator_512_17052019//sim_pair_3/sim_plus/p1d_6_Ns100_wM0.07.json snapshot does not have p1d\n",
      "4 sample has sim params = [0.968, 0.44, -2.325, -0.22, 1.475, 0.7250000000000001]\n",
      "simulation has 20 redshifts\n",
      "undersample_z = 2\n",
      "/home/font/Projects/LyaCosmoParams//p1d_emulator/sim_suites/emulator_512_17052019//sim_pair_4/sim_plus/p1d_0_Ns100_wM0.07.json snapshot does not have p1d\n",
      "/home/font/Projects/LyaCosmoParams//p1d_emulator/sim_suites/emulator_512_17052019//sim_pair_4/sim_plus/p1d_2_Ns100_wM0.07.json snapshot does not have p1d\n",
      "/home/font/Projects/LyaCosmoParams//p1d_emulator/sim_suites/emulator_512_17052019//sim_pair_4/sim_plus/p1d_4_Ns100_wM0.07.json snapshot does not have p1d\n",
      "/home/font/Projects/LyaCosmoParams//p1d_emulator/sim_suites/emulator_512_17052019//sim_pair_4/sim_plus/p1d_6_Ns100_wM0.07.json snapshot does not have p1d\n",
      "5 sample has sim params = [0.962, 0.36, -2.335, -0.18, 1.9249999999999998, 1.025]\n",
      "simulation has 20 redshifts\n",
      "undersample_z = 2\n",
      "/home/font/Projects/LyaCosmoParams//p1d_emulator/sim_suites/emulator_512_17052019//sim_pair_5/sim_plus/p1d_0_Ns100_wM0.07.json snapshot does not have p1d\n",
      "/home/font/Projects/LyaCosmoParams//p1d_emulator/sim_suites/emulator_512_17052019//sim_pair_5/sim_plus/p1d_2_Ns100_wM0.07.json snapshot does not have p1d\n",
      "/home/font/Projects/LyaCosmoParams//p1d_emulator/sim_suites/emulator_512_17052019//sim_pair_5/sim_plus/p1d_4_Ns100_wM0.07.json snapshot does not have p1d\n",
      "/home/font/Projects/LyaCosmoParams//p1d_emulator/sim_suites/emulator_512_17052019//sim_pair_5/sim_plus/p1d_6_Ns100_wM0.07.json snapshot does not have p1d\n",
      "6 sample has sim params = [0.964, 0.32, -2.285, -0.24000000000000002, 1.625, 1.7750000000000001]\n",
      "simulation has 20 redshifts\n",
      "undersample_z = 2\n",
      "/home/font/Projects/LyaCosmoParams//p1d_emulator/sim_suites/emulator_512_17052019//sim_pair_6/sim_plus/p1d_0_Ns100_wM0.07.json snapshot does not have p1d\n",
      "/home/font/Projects/LyaCosmoParams//p1d_emulator/sim_suites/emulator_512_17052019//sim_pair_6/sim_plus/p1d_2_Ns100_wM0.07.json snapshot does not have p1d\n",
      "/home/font/Projects/LyaCosmoParams//p1d_emulator/sim_suites/emulator_512_17052019//sim_pair_6/sim_plus/p1d_4_Ns100_wM0.07.json snapshot does not have p1d\n",
      "/home/font/Projects/LyaCosmoParams//p1d_emulator/sim_suites/emulator_512_17052019//sim_pair_6/sim_plus/p1d_6_Ns100_wM0.07.json snapshot does not have p1d\n",
      "7 sample has sim params = [0.97, 0.34, -2.265, -0.17, 1.175, 1.9249999999999998]\n",
      "simulation has 20 redshifts\n",
      "undersample_z = 2\n",
      "/home/font/Projects/LyaCosmoParams//p1d_emulator/sim_suites/emulator_512_17052019//sim_pair_7/sim_plus/p1d_0_Ns100_wM0.07.json snapshot does not have p1d\n",
      "/home/font/Projects/LyaCosmoParams//p1d_emulator/sim_suites/emulator_512_17052019//sim_pair_7/sim_plus/p1d_2_Ns100_wM0.07.json snapshot does not have p1d\n",
      "/home/font/Projects/LyaCosmoParams//p1d_emulator/sim_suites/emulator_512_17052019//sim_pair_7/sim_plus/p1d_4_Ns100_wM0.07.json snapshot does not have p1d\n",
      "/home/font/Projects/LyaCosmoParams//p1d_emulator/sim_suites/emulator_512_17052019//sim_pair_7/sim_plus/p1d_6_Ns100_wM0.07.json snapshot does not have p1d\n",
      "8 sample has sim params = [0.958, 0.26, -2.345, -0.21000000000000002, 0.875, 1.625]\n",
      "simulation has 20 redshifts\n",
      "undersample_z = 2\n",
      "/home/font/Projects/LyaCosmoParams//p1d_emulator/sim_suites/emulator_512_17052019//sim_pair_8/sim_plus/p1d_0_Ns100_wM0.07.json snapshot does not have p1d\n",
      "/home/font/Projects/LyaCosmoParams//p1d_emulator/sim_suites/emulator_512_17052019//sim_pair_8/sim_plus/p1d_2_Ns100_wM0.07.json snapshot does not have p1d\n",
      "/home/font/Projects/LyaCosmoParams//p1d_emulator/sim_suites/emulator_512_17052019//sim_pair_8/sim_plus/p1d_4_Ns100_wM0.07.json snapshot does not have p1d\n",
      "/home/font/Projects/LyaCosmoParams//p1d_emulator/sim_suites/emulator_512_17052019//sim_pair_8/sim_plus/p1d_6_Ns100_wM0.07.json snapshot does not have p1d\n",
      "9 sample has sim params = [0.974, 0.38, -2.255, -0.23, 1.7750000000000001, 0.575]\n",
      "simulation has 20 redshifts\n",
      "undersample_z = 2\n",
      "/home/font/Projects/LyaCosmoParams//p1d_emulator/sim_suites/emulator_512_17052019//sim_pair_9/sim_plus/p1d_0_Ns100_wM0.07.json snapshot does not have p1d\n",
      "/home/font/Projects/LyaCosmoParams//p1d_emulator/sim_suites/emulator_512_17052019//sim_pair_9/sim_plus/p1d_2_Ns100_wM0.07.json snapshot does not have p1d\n",
      "/home/font/Projects/LyaCosmoParams//p1d_emulator/sim_suites/emulator_512_17052019//sim_pair_9/sim_plus/p1d_4_Ns100_wM0.07.json snapshot does not have p1d\n",
      "/home/font/Projects/LyaCosmoParams//p1d_emulator/sim_suites/emulator_512_17052019//sim_pair_9/sim_plus/p1d_6_Ns100_wM0.07.json snapshot does not have p1d\n"
     ]
    },
    {
     "name": "stdout",
     "output_type": "stream",
     "text": [
      "Arxiv setup, containing 2700 entries\n",
      "will train GP emulator\n",
      "Rescaled params to unity volume\n",
      "Training GP\n",
      "Optimised\n"
     ]
    }
   ],
   "source": [
    "undersample_z=2\n",
    "use_gp=True\n",
    "if use_gp:\n",
    "    emu=gp_emulator.GPEmulator(undersample_z=undersample_z,verbose=True,paramList=None,kmax_Mpc=5,train=True)\n",
    "else:\n",
    "    emu=linear_emulator.LinearEmulator(undersample_z=undersample_z,verbose=True)"
   ]
  },
  {
   "cell_type": "code",
   "execution_count": 4,
   "metadata": {},
   "outputs": [
    {
     "name": "stdout",
     "output_type": "stream",
     "text": [
      "Note: redshifts have been re-sorted (earliest first)\n"
     ]
    }
   ],
   "source": [
    "# setup theory to predict Lya 1D power\n",
    "theory = lya_theory.LyaTheory(zs,emulator=emu,verbose=True)"
   ]
  },
  {
   "cell_type": "code",
   "execution_count": 5,
   "metadata": {},
   "outputs": [
    {
     "name": "stdout",
     "output_type": "stream",
     "text": [
      "got parameters\n",
      "g_star = 0.9677508579459803\n",
      "f_star = 0.9813695578403229\n",
      "Delta2_star = 0.3601759052864235\n",
      "n_star = -2.299335667257512\n",
      "alpha_star = -0.2165270371206627\n",
      "ln_tau_0 = -0.7945801724139945\n",
      "ln_tau_1 = 3.18\n",
      "ln_T0_0 = 9.210340371976184\n",
      "ln_T0_1 = 0.0\n",
      "ln_gamma_0 = 0.3364722366212129\n",
      "ln_gamma_1 = 0.0\n",
      "ln_kF_0 = -1.7037485919053417\n",
      "ln_kF_1 = 0\n",
      "likelihood setup with 1 free parameters\n",
      "1 free parameters\n"
     ]
    }
   ],
   "source": [
    "like=likelihood.Likelihood(data=data,theory=theory,verbose=True)"
   ]
  },
  {
   "cell_type": "code",
   "execution_count": 6,
   "metadata": {},
   "outputs": [
    {
     "name": "stdout",
     "output_type": "stream",
     "text": [
      "ln_tau_0 -0.7945801724139945\n"
     ]
    }
   ],
   "source": [
    "for p in like.free_params:\n",
    "    print(p.name,p.value)"
   ]
  },
  {
   "cell_type": "code",
   "execution_count": 7,
   "metadata": {},
   "outputs": [
    {
     "name": "stdout",
     "output_type": "stream",
     "text": [
      "0 2.2 model {'Delta2_p': 0.5565113014577152, 'n_p': -2.2994794185069685, 'alpha_p': -0.21637589659959175, 'f_p': 0.9652245245021047, 'mF': 0.868562902154964, 'gamma': 1.4, 'sigT_Mpc': 0.1306960092605284, 'kF_Mpc': 12.672154332566837}\n",
      "1 2.4 model {'Delta2_p': 0.49488568402750766, 'n_p': -2.299479501501992, 'alpha_p': -0.216376717675827, 'f_p': 0.970653664795261, 'mF': 0.8429250908025321, 'gamma': 1.4, 'sigT_Mpc': 0.127446927252886, 'kF_Mpc': 12.995213267980114}\n",
      "2 2.6 model {'Delta2_p': 0.44280074273630654, 'n_p': -2.2994793009304813, 'alpha_p': -0.2163757813099382, 'f_p': 0.9749969128512308, 'mF': 0.8146976015761065, 'gamma': 1.4, 'sigT_Mpc': 0.12436389094838281, 'kF_Mpc': 13.317370398835509}\n",
      "3 2.8 model {'Delta2_p': 0.3984192005063586, 'n_p': -2.299479372599087, 'alpha_p': -0.21637637290776252, 'f_p': 0.9785045052118703, 'mF': 0.7839699992129093, 'gamma': 1.4, 'sigT_Mpc': 0.12144623367196278, 'kF_Mpc': 13.637310519431555}\n",
      "4 3.0 model {'Delta2_p': 0.3603165013768066, 'n_p': -2.299479459482822, 'alpha_p': -0.21637600594740586, 'f_p': 0.9813695511850181, 'mF': 0.7508834766393948, 'gamma': 1.4, 'sigT_Mpc': 0.1186885644151414, 'kF_Mpc': 13.954166588510146}\n",
      "5 3.2 model {'Delta2_p': 0.3273772859365547, 'n_p': -2.2994796905461894, 'alpha_p': -0.2163768027065209, 'f_p': 0.9837238322533222, 'mF': 0.7156309324211584, 'gamma': 1.4, 'sigT_Mpc': 0.11608299285352074, 'kF_Mpc': 14.267378530547328}\n",
      "6 3.4 model {'Delta2_p': 0.29871954453855915, 'n_p': -2.29947950002177, 'alpha_p': -0.2163762379138528, 'f_p': 0.9856714801294414, 'mF': 0.678455427941539, 'gamma': 1.4, 'sigT_Mpc': 0.1136204737084692, 'kF_Mpc': 14.576598265639412}\n",
      "7 3.6 model {'Delta2_p': 0.2736394898741967, 'n_p': -2.299479646426268, 'alpha_p': -0.21637567195997773, 'f_p': 0.9872994676097766, 'mF': 0.6396469102939634, 'gamma': 1.4, 'sigT_Mpc': 0.11129160972572964, 'kF_Mpc': 14.881624985761183}\n",
      "8 3.8 model {'Delta2_p': 0.2515706458015927, 'n_p': -2.2994796831223194, 'alpha_p': -0.21637623173898382, 'f_p': 0.9886678475013938, 'mF': 0.5995371613701213, 'gamma': 1.4, 'sigT_Mpc': 0.10908712104062165, 'kF_Mpc': 15.182360522497133}\n",
      "9 4.0 model {'Delta2_p': 0.23205325295753354, 'n_p': -2.299479861066881, 'alpha_p': -0.21637634322608215, 'f_p': 0.9898232760729431, 'mF': 0.5584930207813322, 'gamma': 1.4, 'sigT_Mpc': 0.10699810885344364, 'kF_Mpc': 15.478778248954978}\n",
      "10 4.2 model {'Delta2_p': 0.2147112859742898, 'n_p': -2.2994796203144023, 'alpha_p': -0.21637699024300125, 'f_p': 0.9908027623054465, 'mF': 0.5169080256515993, 'gamma': 1.4, 'sigT_Mpc': 0.10501619262106125, 'kF_Mpc': 15.770901216883821}\n",
      "11 4.4 model {'Delta2_p': 0.19923499758542562, 'n_p': -2.2994797463452072, 'alpha_p': -0.2163767171133108, 'f_p': 0.9916426552819547, 'mF': 0.47519270815958475, 'gamma': 1.4, 'sigT_Mpc': 0.10313357005157239, 'kF_Mpc': 16.058786670254996}\n",
      "got P1D from emulator\n",
      "compute chi2 for z=2.2\n",
      "added 6214.80874813886 to chi2\n",
      "compute chi2 for z=2.4\n",
      "added 164.1480670040001 to chi2\n",
      "compute chi2 for z=2.6\n",
      "added 196.50949796328598 to chi2\n",
      "compute chi2 for z=2.8\n",
      "added 2334.473490243661 to chi2\n",
      "compute chi2 for z=3.0\n",
      "added 3581.7963749199535 to chi2\n",
      "compute chi2 for z=3.2\n",
      "added 5929.785229692835 to chi2\n",
      "compute chi2 for z=3.4\n",
      "added 795.948162842236 to chi2\n",
      "compute chi2 for z=3.6\n",
      "added 162.52406320743648 to chi2\n",
      "compute chi2 for z=3.8\n",
      "added 251.48393461144647 to chi2\n",
      "compute chi2 for z=4.0\n",
      "added 511.27942050802045 to chi2\n",
      "compute chi2 for z=4.2\n",
      "added 193.61890840907472 to chi2\n",
      "compute chi2 for z=4.4\n",
      "added 716.2396124787647 to chi2\n"
     ]
    },
    {
     "data": {
      "text/plain": [
       "-10526.307755009784"
      ]
     },
     "execution_count": 7,
     "metadata": {},
     "output_type": "execute_result"
    }
   ],
   "source": [
    "# test likelihood function\n",
    "values=[0.5]\n",
    "like.log_prob(values=values)"
   ]
  },
  {
   "cell_type": "code",
   "execution_count": 8,
   "metadata": {},
   "outputs": [],
   "source": [
    "#cProfile.run(\"like.log_prob(values=values,linP_Mpc_params=linP_Mpc_params)\",sort='cumtime')"
   ]
  },
  {
   "cell_type": "markdown",
   "metadata": {},
   "source": [
    "### Setup function to be called in MCMC"
   ]
  },
  {
   "cell_type": "code",
   "execution_count": 9,
   "metadata": {},
   "outputs": [],
   "source": [
    "def log_prob(values,like,verbose=False):\n",
    "    test_log_prob=like.log_prob(values=values)\n",
    "    if np.isnan(test_log_prob):\n",
    "        if verbose:\n",
    "            print('parameter values outside hull',values)\n",
    "        return -np.inf\n",
    "    return test_log_prob"
   ]
  },
  {
   "cell_type": "code",
   "execution_count": 10,
   "metadata": {},
   "outputs": [],
   "source": [
    "like.go_silent()"
   ]
  },
  {
   "cell_type": "code",
   "execution_count": 11,
   "metadata": {},
   "outputs": [
    {
     "data": {
      "text/plain": [
       "0.8734230184931167"
      ]
     },
     "execution_count": 11,
     "metadata": {},
     "output_type": "execute_result"
    }
   ],
   "source": [
    "np.exp(-np.exp(-2.0))"
   ]
  },
  {
   "cell_type": "code",
   "execution_count": 12,
   "metadata": {},
   "outputs": [
    {
     "name": "stdout",
     "output_type": "stream",
     "text": [
      "-2.0 < ln_tau_0 < -0.5\n",
      "0.1353352832366127 < tau_0 < 0.6065306597126334\n",
      "0.545239211892605 < <F> < 0.8734230184931167\n"
     ]
    }
   ],
   "source": [
    "xs=np.linspace(0.0,1.0,100)\n",
    "xmin=like.free_params[0].min_value\n",
    "xmax=like.free_params[0].max_value\n",
    "print(xmin,'< ln_tau_0 <',xmax)\n",
    "print(np.exp(xmin),'< tau_0 <',np.exp(xmax))\n",
    "print(np.exp(-np.exp(xmax)),'< <F> <',np.exp(-np.exp(xmin)))\n",
    "mf=np.exp(-np.exp(xmin+xs*(xmax-xmin)))\n",
    "lnps=[log_prob([x],like) for x in xs]"
   ]
  },
  {
   "cell_type": "code",
   "execution_count": 13,
   "metadata": {},
   "outputs": [
    {
     "data": {
      "text/plain": [
       "Text(0, 0.5, '$\\\\chi^2$')"
      ]
     },
     "execution_count": 13,
     "metadata": {},
     "output_type": "execute_result"
    },
    {
     "data": {
      "image/png": "[encoded data removed]",
      "text/plain": [
       "<Figure size 432x288 with 1 Axes>"
      ]
     },
     "metadata": {},
     "output_type": "display_data"
    }
   ],
   "source": [
    "plt.plot(mf,-2.0*np.array(lnps))\n",
    "plt.xlabel(r'$\\bar F(z=3)$')\n",
    "plt.ylabel(r'$\\chi^2$')"
   ]
  },
  {
   "cell_type": "markdown",
   "metadata": {},
   "source": [
    "### Setup MCMC"
   ]
  },
  {
   "cell_type": "code",
   "execution_count": 14,
   "metadata": {},
   "outputs": [],
   "source": [
    "# for now we'll have only one dimension (mean flux)\n",
    "ndim=1\n",
    "# setup initial walkers\n",
    "nwalkers = 10\n",
    "p0 = np.random.rand(ndim * nwalkers).reshape((nwalkers, ndim))"
   ]
  },
  {
   "cell_type": "code",
   "execution_count": 15,
   "metadata": {},
   "outputs": [
    {
     "data": {
      "text/plain": [
       "array([0.73214041, 0.68254957, 0.54973855, 0.09911585, 0.57698111,\n",
       "       0.73573835, 0.56844149, 0.31076509, 0.89199675, 0.40741594])"
      ]
     },
     "execution_count": 15,
     "metadata": {},
     "output_type": "execute_result"
    }
   ],
   "source": [
    "p0.flatten()"
   ]
  },
  {
   "cell_type": "code",
   "execution_count": 16,
   "metadata": {},
   "outputs": [
    {
     "data": {
      "text/plain": [
       "-25540.484291371482"
      ]
     },
     "execution_count": 16,
     "metadata": {},
     "output_type": "execute_result"
    }
   ],
   "source": [
    "# test function\n",
    "log_prob(p0[0],like)"
   ]
  },
  {
   "cell_type": "code",
   "execution_count": 17,
   "metadata": {},
   "outputs": [],
   "source": [
    "# setup sampler\n",
    "sampler = emcee.EnsembleSampler(nwalkers, ndim, log_prob, args=[like])"
   ]
  },
  {
   "cell_type": "code",
   "execution_count": 18,
   "metadata": {},
   "outputs": [
    {
     "name": "stdout",
     "output_type": "stream",
     "text": [
      "finished burn-in at [0.48132328 0.48304965 0.4841928  0.48421378 0.48470597 0.48469542\n",
      " 0.48658526 0.48551111 0.48715319 0.48650704] [-10495.96996759 -10494.50863768 -10494.00489445 -10494.00120748\n",
      " -10493.90343388 -10493.90478687 -10494.1575941  -10493.88804397\n",
      " -10494.43771448 -10494.12768415]\n"
     ]
    }
   ],
   "source": [
    "# burn-in phase\n",
    "pos, prob, state = sampler.run_mcmc(p0, 50)\n",
    "print('finished burn-in at',pos.flatten(),prob)"
   ]
  },
  {
   "cell_type": "code",
   "execution_count": 19,
   "metadata": {},
   "outputs": [
    {
     "name": "stdout",
     "output_type": "stream",
     "text": [
      "0 [0.48132328 0.48304965 0.4841928  0.48395347 0.48332787 0.48468052\n",
      " 0.48547291 0.48513793 0.48648699 0.48734707]\n",
      "20 [0.48219504 0.48332124 0.48589518 0.48358653 0.48305895 0.48460424\n",
      " 0.4838663  0.48443274 0.48492316 0.4830521 ]\n",
      "40 [0.48612081 0.48621909 0.48476522 0.48523219 0.48735694 0.48504702\n",
      " 0.48273755 0.48421412 0.48750953 0.48222447]\n",
      "60 [0.48705184 0.48565643 0.48508514 0.48917921 0.48119104 0.48092606\n",
      " 0.48198492 0.48722501 0.48365087 0.48364999]\n",
      "80 [0.4860817  0.48635868 0.48476353 0.48718548 0.48636267 0.48416125\n",
      " 0.48539967 0.48814395 0.48255531 0.48857893]\n",
      "100 [0.48561118 0.48673878 0.48721284 0.48523426 0.48730863 0.48417977\n",
      " 0.48432707 0.48791434 0.48562027 0.48949379]\n",
      "120 [0.4814087  0.48524186 0.48518266 0.48251303 0.49125196 0.48651865\n",
      " 0.48604906 0.48773063 0.48215459 0.48431736]\n",
      "140 [0.48764422 0.48432127 0.48429777 0.48301968 0.48821029 0.48943254\n",
      " 0.48376084 0.484836   0.48699647 0.48268704]\n",
      "160 [0.48879227 0.48587566 0.48471776 0.48458526 0.48782678 0.4845754\n",
      " 0.48196599 0.48520584 0.48757794 0.48538553]\n",
      "180 [0.48629738 0.48637211 0.48536722 0.48518373 0.48574555 0.48571113\n",
      " 0.48553099 0.48445387 0.48671809 0.48702551]\n"
     ]
    }
   ],
   "source": [
    "# reset and run actual chains\n",
    "sampler.reset()\n",
    "nsteps=200\n",
    "for i, result in enumerate(sampler.sample(pos, iterations=nsteps)):\n",
    "    if i % 20 == 0:\n",
    "        print(i,result[0].flatten())"
   ]
  },
  {
   "cell_type": "code",
   "execution_count": 20,
   "metadata": {},
   "outputs": [
    {
     "data": {
      "image/png": "[encoded data removed]",
      "text/plain": [
       "<Figure size 432x288 with 1 Axes>"
      ]
     },
     "metadata": {},
     "output_type": "display_data"
    }
   ],
   "source": [
    "for i in range(ndim):\n",
    "    plt.figure()\n",
    "    mf=np.exp(-np.exp(xmin+sampler.flatchain[:,i]*(xmax-xmin)))\n",
    "    plt.hist(mf, 100, color=\"k\", histtype=\"step\")\n",
    "    plt.xlabel('<F>(z=3)')\n",
    "    plt.title(\"Dimension {0:d}\".format(i))"
   ]
  },
  {
   "cell_type": "code",
   "execution_count": 21,
   "metadata": {},
   "outputs": [
    {
     "name": "stdout",
     "output_type": "stream",
     "text": [
      "Mean acceptance fraction: 0.814\n"
     ]
    }
   ],
   "source": [
    "print(\"Mean acceptance fraction: {0:.3f}\".format(np.mean(sampler.acceptance_fraction)))"
   ]
  },
  {
   "cell_type": "code",
   "execution_count": 22,
   "metadata": {},
   "outputs": [
    {
     "data": {
      "image/png": "[encoded data removed]",
      "text/plain": [
       "<Figure size 432x288 with 1 Axes>"
      ]
     },
     "metadata": {},
     "output_type": "display_data"
    }
   ],
   "source": [
    "for i in range(ndim):\n",
    "    plt.figure()\n",
    "    plt.hist(sampler.flatchain[:,i], 100, color=\"k\", histtype=\"step\")\n",
    "    plt.xlabel('param 0')\n",
    "    plt.title(\"Dimension {0:d}\".format(i))"
   ]
  },
  {
   "cell_type": "code",
   "execution_count": null,
   "metadata": {},
   "outputs": [],
   "source": []
  }
 ],
 "metadata": {
  "kernelspec": {
   "display_name": "Python 3",
   "language": "python",
   "name": "python3"
  },
  "language_info": {
   "codemirror_mode": {
    "name": "ipython",
    "version": 3
   },
   "file_extension": ".py",
   "mimetype": "text/x-python",
   "name": "python",
   "nbconvert_exporter": "python",
   "pygments_lexer": "ipython3",
   "version": "3.6.5"
  }
 },
 "nbformat": 4,
 "nbformat_minor": 2
}
