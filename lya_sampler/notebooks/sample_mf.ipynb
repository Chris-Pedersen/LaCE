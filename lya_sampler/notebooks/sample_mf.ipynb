{
 "cells": [
  {
   "cell_type": "markdown",
   "metadata": {},
   "source": [
    "# Use emcee to sample Lya posterior as a function of mean flux"
   ]
  },
  {
   "cell_type": "code",
   "execution_count": 1,
   "metadata": {
    "collapsed": false
   },
   "outputs": [],
   "source": [
    "%matplotlib inline\n",
    "%load_ext autoreload\n",
    "%autoreload 2\n",
    "import numpy as np\n",
    "import sys\n",
    "import os\n",
    "import json\n",
    "import matplotlib.pyplot as plt\n",
    "import matplotlib as mpl\n",
    "mpl.rcParams['savefig.dpi'] = 120\n",
    "mpl.rcParams['figure.dpi'] = 120\n",
    "import cProfile\n",
    "import emcee\n",
    "# our own modules\n",
    "import simplest_emulator\n",
    "import linear_emulator\n",
    "import gp_emulator\n",
    "import data_PD2013\n",
    "import lya_theory\n",
    "import likelihood"
   ]
  },
  {
   "cell_type": "markdown",
   "metadata": {},
   "source": [
    "## Setup Lya likelihood function"
   ]
  },
  {
   "cell_type": "code",
   "execution_count": 2,
   "metadata": {
    "collapsed": false
   },
   "outputs": [],
   "source": [
    "# read P1D measurement\n",
    "data=data_PD2013.P1D_PD2013(blind_data=True)\n",
    "zs=data.z\n",
    "Nz=len(zs)"
   ]
  },
  {
   "cell_type": "code",
   "execution_count": 3,
   "metadata": {
    "collapsed": false
   },
   "outputs": [
    {
     "name": "stdout",
     "output_type": "stream",
     "text": [
      "latin hyper-cube data {'param_space': {'Om_star': {'ip': 0, 'min_val': 0.955, 'max_val': 0.975, 'z_star': 3.0, 'latex': '$\\\\Omega_\\\\star$'}, 'Delta2_star': {'ip': 1, 'min_val': 0.25, 'max_val': 0.45, 'z_star': 3.0, 'kp_Mpc': 0.7, 'latex': '$\\\\Delta^2_\\\\star$'}, 'n_star': {'ip': 2, 'min_val': -2.35, 'max_val': -2.25, 'z_star': 3.0, 'kp_Mpc': 0.7, 'latex': '$n_\\\\star$'}, 'alpha_star': {'ip': 3, 'min_val': -0.265, 'max_val': -0.165, 'z_star': 3.0, 'kp_Mpc': 0.7, 'latex': '$\\\\alpha_\\\\star$'}, 'mu_He': {'ip': 4, 'min_val': 0.5, 'max_val': 2.0, 'latex': '$\\\\mu_{\\\\rm He}$'}, 'mu_H': {'ip': 5, 'min_val': 0.5, 'max_val': 2.0, '   latex': '$\\\\mu_{\\\\rm H}$'}}, 'nsamples': 10, 'samples': {'0': [0.96, 0.32, -2.325, -0.22, 0.875, 1.7750000000000001], '1': [0.966, 0.4, -2.295, -0.23, 1.175, 0.575], '2': [0.968, 0.36, -2.285, -0.26, 1.7750000000000001, 1.625], '3': [0.97, 0.3, -2.315, -0.18, 1.3250000000000002, 1.3250000000000002], '4': [0.974, 0.34, -2.305, -0.21000000000000002, 1.475, 1.175], '5': [0.956, 0.42000000000000004, -2.275, -0.24000000000000002, 0.7250000000000001, 1.475], '6': [0.958, 0.26, -2.265, -0.19, 1.025, 1.025], '7': [0.964, 0.44, -2.335, -0.17, 1.625, 1.9249999999999998], '8': [0.962, 0.38, -2.255, -0.25, 1.9249999999999998, 0.875], '9': [0.972, 0.28, -2.345, -0.2, 0.575, 0.7250000000000001]}}\n",
      "simulation suite has 10 samples\n",
      "0 sample has sim params = [0.96, 0.32, -2.325, -0.22, 0.875, 1.7750000000000001]\n",
      "simulation has 10 redshifts\n",
      "../../p1d_emulator/sim_suites/emulator_15052019//sim_pair_0/sim_plus/p1d_0_Ns110_wM0.1.json snapshot does not have p1d\n",
      "../../p1d_emulator/sim_suites/emulator_15052019//sim_pair_0/sim_plus/p1d_1_Ns110_wM0.1.json snapshot does not have p1d\n",
      "../../p1d_emulator/sim_suites/emulator_15052019//sim_pair_0/sim_plus/p1d_2_Ns110_wM0.1.json snapshot does not have p1d\n",
      "1 sample has sim params = [0.966, 0.4, -2.295, -0.23, 1.175, 0.575]\n",
      "simulation has 10 redshifts\n",
      "../../p1d_emulator/sim_suites/emulator_15052019//sim_pair_1/sim_plus/p1d_0_Ns110_wM0.1.json snapshot does not have p1d\n",
      "../../p1d_emulator/sim_suites/emulator_15052019//sim_pair_1/sim_plus/p1d_1_Ns110_wM0.1.json snapshot does not have p1d\n",
      "../../p1d_emulator/sim_suites/emulator_15052019//sim_pair_1/sim_plus/p1d_2_Ns110_wM0.1.json snapshot does not have p1d\n",
      "2 sample has sim params = [0.968, 0.36, -2.285, -0.26, 1.7750000000000001, 1.625]\n",
      "simulation has 10 redshifts\n",
      "../../p1d_emulator/sim_suites/emulator_15052019//sim_pair_2/sim_plus/p1d_0_Ns110_wM0.1.json snapshot does not have p1d\n",
      "../../p1d_emulator/sim_suites/emulator_15052019//sim_pair_2/sim_plus/p1d_1_Ns110_wM0.1.json snapshot does not have p1d\n",
      "../../p1d_emulator/sim_suites/emulator_15052019//sim_pair_2/sim_plus/p1d_2_Ns110_wM0.1.json snapshot does not have p1d\n",
      "3 sample has sim params = [0.97, 0.3, -2.315, -0.18, 1.3250000000000002, 1.3250000000000002]\n",
      "simulation has 10 redshifts\n",
      "../../p1d_emulator/sim_suites/emulator_15052019//sim_pair_3/sim_plus/p1d_0_Ns110_wM0.1.json snapshot does not have p1d\n",
      "../../p1d_emulator/sim_suites/emulator_15052019//sim_pair_3/sim_plus/p1d_1_Ns110_wM0.1.json snapshot does not have p1d\n",
      "../../p1d_emulator/sim_suites/emulator_15052019//sim_pair_3/sim_plus/p1d_2_Ns110_wM0.1.json snapshot does not have p1d\n",
      "4 sample has sim params = [0.974, 0.34, -2.305, -0.21000000000000002, 1.475, 1.175]\n",
      "simulation has 10 redshifts\n",
      "../../p1d_emulator/sim_suites/emulator_15052019//sim_pair_4/sim_plus/p1d_0_Ns110_wM0.1.json snapshot does not have p1d\n",
      "../../p1d_emulator/sim_suites/emulator_15052019//sim_pair_4/sim_plus/p1d_1_Ns110_wM0.1.json snapshot does not have p1d\n",
      "../../p1d_emulator/sim_suites/emulator_15052019//sim_pair_4/sim_plus/p1d_2_Ns110_wM0.1.json snapshot does not have p1d\n",
      "5 sample has sim params = [0.956, 0.42000000000000004, -2.275, -0.24000000000000002, 0.7250000000000001, 1.475]\n",
      "simulation has 10 redshifts\n",
      "../../p1d_emulator/sim_suites/emulator_15052019//sim_pair_5/sim_plus/p1d_0_Ns110_wM0.1.json snapshot does not have p1d\n",
      "../../p1d_emulator/sim_suites/emulator_15052019//sim_pair_5/sim_plus/p1d_1_Ns110_wM0.1.json snapshot does not have p1d\n",
      "../../p1d_emulator/sim_suites/emulator_15052019//sim_pair_5/sim_plus/p1d_2_Ns110_wM0.1.json snapshot does not have p1d\n",
      "6 sample has sim params = [0.958, 0.26, -2.265, -0.19, 1.025, 1.025]\n",
      "simulation has 10 redshifts\n",
      "../../p1d_emulator/sim_suites/emulator_15052019//sim_pair_6/sim_plus/p1d_0_Ns110_wM0.1.json snapshot does not have p1d\n",
      "../../p1d_emulator/sim_suites/emulator_15052019//sim_pair_6/sim_plus/p1d_1_Ns110_wM0.1.json snapshot does not have p1d\n",
      "../../p1d_emulator/sim_suites/emulator_15052019//sim_pair_6/sim_plus/p1d_2_Ns110_wM0.1.json snapshot does not have p1d\n",
      "7 sample has sim params = [0.964, 0.44, -2.335, -0.17, 1.625, 1.9249999999999998]\n",
      "simulation has 10 redshifts\n",
      "../../p1d_emulator/sim_suites/emulator_15052019//sim_pair_7/sim_plus/p1d_0_Ns110_wM0.1.json snapshot does not have p1d\n",
      "../../p1d_emulator/sim_suites/emulator_15052019//sim_pair_7/sim_plus/p1d_1_Ns110_wM0.1.json snapshot does not have p1d\n",
      "../../p1d_emulator/sim_suites/emulator_15052019//sim_pair_7/sim_plus/p1d_2_Ns110_wM0.1.json snapshot does not have p1d\n",
      "8 sample has sim params = [0.962, 0.38, -2.255, -0.25, 1.9249999999999998, 0.875]\n",
      "simulation has 10 redshifts\n",
      "../../p1d_emulator/sim_suites/emulator_15052019//sim_pair_8/sim_plus/p1d_0_Ns110_wM0.1.json snapshot does not have p1d\n",
      "../../p1d_emulator/sim_suites/emulator_15052019//sim_pair_8/sim_plus/p1d_1_Ns110_wM0.1.json snapshot does not have p1d\n",
      "../../p1d_emulator/sim_suites/emulator_15052019//sim_pair_8/sim_plus/p1d_2_Ns110_wM0.1.json snapshot does not have p1d\n",
      "9 sample has sim params = [0.972, 0.28, -2.345, -0.2, 0.575, 0.7250000000000001]\n",
      "simulation has 10 redshifts\n",
      "../../p1d_emulator/sim_suites/emulator_15052019//sim_pair_9/sim_plus/p1d_0_Ns110_wM0.1.json snapshot does not have p1d\n",
      "../../p1d_emulator/sim_suites/emulator_15052019//sim_pair_9/sim_plus/p1d_1_Ns110_wM0.1.json snapshot does not have p1d\n",
      "../../p1d_emulator/sim_suites/emulator_15052019//sim_pair_9/sim_plus/p1d_2_Ns110_wM0.1.json snapshot does not have p1d\n",
      "will keep only 1000 entries\n",
      "Arxiv setup, containing 1000 entries\n",
      "will train GP emulator\n",
      "Rescaled params to unity volume\n",
      "Training GP\n",
      "Optimised\n"
     ]
    }
   ],
   "source": [
    "basedir='../../p1d_emulator/sim_suites/emulator_15052019/'\n",
    "p1d_label='p1d'\n",
    "skewers_label='Ns110_wM0.1'\n",
    "use_gp=True\n",
    "if use_gp:\n",
    "    emu=gp_emulator.GPEmulator(basedir,p1d_label,skewers_label,max_arxiv_size=1000,verbose=True,paramList=None,kmax_Mpc=5,train=True)\n",
    "else:\n",
    "    emu=linear_emulator.LinearEmulator(basedir,p1d_label,skewers_label,drop_tau_rescalings=False,drop_temp_rescalings=False,verbose=True)"
   ]
  },
  {
   "cell_type": "code",
   "execution_count": 4,
   "metadata": {
    "collapsed": false
   },
   "outputs": [
    {
     "name": "stdout",
     "output_type": "stream",
     "text": [
      "Note: redshifts have been re-sorted (earliest first)\n",
      "use default mean flux model\n",
      "use default thermal model\n"
     ]
    }
   ],
   "source": [
    "# setup theory to predict Lya 1D power\n",
    "theory = lya_theory.LyaTheory(zs,emulator=emu,verbose=True)\n",
    "# for this simple test, just use fiducial cosmology\n",
    "theory.set_cosmo_model(linP_model=theory.cosmo.linP_model_fid)\n",
    "linP_Mpc_params=theory.cosmo.get_linP_Mpc_params()"
   ]
  },
  {
   "cell_type": "code",
   "execution_count": 5,
   "metadata": {
    "collapsed": false
   },
   "outputs": [
    {
     "name": "stdout",
     "output_type": "stream",
     "text": [
      "got parameters\n",
      "g_star = 0.9677508579459803\n",
      "f_star = 0.98136955784\n",
      "Delta2_star = 0.360175905286\n",
      "n_star = -2.29933566726\n",
      "alpha_star = -0.216527037121\n",
      "ln_tau_0 = -0.794580172414\n",
      "ln_tau_1 = 3.18\n",
      "ln_T0_0 = 9.21034037198\n",
      "ln_T0_1 = 0.0\n",
      "ln_gamma_0 = 0.336472236621\n",
      "ln_gamma_1 = 0.0\n",
      "likelihood setup with 1 free parameters\n",
      "1 free parameters\n"
     ]
    }
   ],
   "source": [
    "like=likelihood.Likelihood(data=data,theory=theory,verbose=True)"
   ]
  },
  {
   "cell_type": "code",
   "execution_count": 6,
   "metadata": {
    "collapsed": false
   },
   "outputs": [
    {
     "name": "stdout",
     "output_type": "stream",
     "text": [
      "ln_tau_0 -0.794580172414\n"
     ]
    }
   ],
   "source": [
    "for p in like.free_params:\n",
    "    print(p.name,p.value)"
   ]
  },
  {
   "cell_type": "code",
   "execution_count": 7,
   "metadata": {
    "collapsed": false
   },
   "outputs": [
    {
     "name": "stdout",
     "output_type": "stream",
     "text": [
      "updated parameters, update theories\n",
      "updated 0 linP parameters\n",
      "updated 1 after mean flux parameters\n",
      "updated 1 after thermal parameters\n",
      "0 2.2 model {'Delta2_p': 0.55651130145771688, 'n_p': -2.2994794185069685, 'alpha_p': -0.21637589659957746, 'f_p': 0.96522452450210083, 'mF': 0.82678076324723049, 'gamma': 1.3999999999999999, 'sigT_Mpc': 0.13069600926052841}\n",
      "1 2.4 model {'Delta2_p': 0.49488568402750766, 'n_p': -2.2994795015019927, 'alpha_p': -0.21637671767578953, 'f_p': 0.97065366319224333, 'mF': 0.79400932502668009, 'gamma': 1.3999999999999999, 'sigT_Mpc': 0.12744692725288601}\n",
      "2 2.6 model {'Delta2_p': 0.44280074273630693, 'n_p': -2.2994793009304835, 'alpha_p': -0.21637578130992885, 'f_p': 0.97499691285123324, 'mF': 0.75832916245871795, 'gamma': 1.3999999999999999, 'sigT_Mpc': 0.12436389094838281}\n",
      "3 2.8 model {'Delta2_p': 0.39841920050635804, 'n_p': -2.2994793725990892, 'alpha_p': -0.21637637290771081, 'f_p': 0.97850450521187982, 'mF': 0.71997791172041337, 'gamma': 1.3999999999999999, 'sigT_Mpc': 0.12144623367196278}\n",
      "4 3.0 model {'Delta2_p': 0.36031650137680626, 'n_p': -2.2994794594828254, 'alpha_p': -0.21637600594737977, 'f_p': 0.98136955118501357, 'mF': 0.6792669863673757, 'gamma': 1.3999999999999999, 'sigT_Mpc': 0.1186885644151414}\n",
      "5 3.2 model {'Delta2_p': 0.32737728593655518, 'n_p': -2.2994796905461898, 'alpha_p': -0.21637680270648968, 'f_p': 0.98372383225332338, 'mF': 0.63657680114569337, 'gamma': 1.3999999999999999, 'sigT_Mpc': 0.11608299285352074}\n",
      "6 3.4 model {'Delta2_p': 0.29871954453855937, 'n_p': -2.2994795000217736, 'alpha_p': -0.21637623791383734, 'f_p': 0.98567148012944139, 'mF': 0.59234888015447751, 'gamma': 1.3999999999999999, 'sigT_Mpc': 0.1136204737084692}\n",
      "7 3.6 model {'Delta2_p': 0.27363948987419645, 'n_p': -2.2994796464262692, 'alpha_p': -0.21637567195994106, 'f_p': 0.98729946760978093, 'mF': 0.54707492999680352, 'gamma': 1.3999999999999999, 'sigT_Mpc': 0.11129160972572964}\n",
      "8 3.8 model {'Delta2_p': 0.25157064580159277, 'n_p': -2.2994796831223212, 'alpha_p': -0.21637623173894571, 'f_p': 0.98866784750139824, 'mF': 0.50128316036687648, 'gamma': 1.3999999999999999, 'sigT_Mpc': 0.10908712104062165}\n",
      "9 4.0 model {'Delta2_p': 0.23205325295753354, 'n_p': -2.2994798610668852, 'alpha_p': -0.21637634322605101, 'f_p': 0.98982327607293863, 'mF': 0.45552234140767905, 'gamma': 1.3999999999999999, 'sigT_Mpc': 0.10699810885344364}\n",
      "10 4.2 model {'Delta2_p': 0.2147112859742899, 'n_p': -2.299479620314405, 'alpha_p': -0.21637699024296425, 'f_p': 0.99080279000903559, 'mF': 0.41034428135678153, 'gamma': 1.3999999999999999, 'sigT_Mpc': 0.10501619262106125}\n",
      "11 4.4 model {'Delta2_p': 0.19923499758542598, 'n_p': -2.2994797463452099, 'alpha_p': -0.21637671711329315, 'f_p': 0.99164206819310086, 'mF': 0.36628557022797459, 'gamma': 1.3999999999999999, 'sigT_Mpc': 0.10313357005157239}\n",
      "got P1D from emulator\n",
      "compute chi2 for z=2.2\n",
      "added 329.8466704606049 to chi2\n",
      "compute chi2 for z=2.4\n",
      "added 291.62264270146466 to chi2\n",
      "compute chi2 for z=2.6\n",
      "added 79.74158200908204 to chi2\n",
      "compute chi2 for z=2.8\n",
      "added 172.99837648937014 to chi2\n",
      "compute chi2 for z=3.0\n",
      "added 291.2491953616759 to chi2\n",
      "compute chi2 for z=3.2\n",
      "added 563.8670441728376 to chi2\n",
      "compute chi2 for z=3.4\n",
      "added 311.18694507716947 to chi2\n",
      "compute chi2 for z=3.6\n",
      "added 115.6607121145095 to chi2\n",
      "compute chi2 for z=3.8\n",
      "added 305.9141054273867 to chi2\n",
      "compute chi2 for z=4.0\n",
      "added 799.8526252337396 to chi2\n",
      "compute chi2 for z=4.2\n",
      "added 540.7246679665167 to chi2\n",
      "compute chi2 for z=4.4\n",
      "added 2125.747254300647 to chi2\n"
     ]
    },
    {
     "data": {
      "text/plain": [
       "-2964.2059106575025"
      ]
     },
     "execution_count": 7,
     "metadata": {},
     "output_type": "execute_result"
    }
   ],
   "source": [
    "# test likelihood function\n",
    "values=[0.5]\n",
    "like.log_prob(values=values,linP_Mpc_params=linP_Mpc_params)"
   ]
  },
  {
   "cell_type": "code",
   "execution_count": 8,
   "metadata": {
    "collapsed": false
   },
   "outputs": [
    {
     "name": "stdout",
     "output_type": "stream",
     "text": [
      "updated parameters, update theories\n",
      "updated 0 linP parameters\n",
      "updated 1 after mean flux parameters\n",
      "updated 1 after thermal parameters\n",
      "0 2.2 model {'Delta2_p': 0.55651130145771688, 'n_p': -2.2994794185069685, 'alpha_p': -0.21637589659957746, 'f_p': 0.96522452450210083, 'mF': 0.82678076324723049, 'gamma': 1.3999999999999999, 'sigT_Mpc': 0.13069600926052841}\n",
      "1 2.4 model {'Delta2_p': 0.49488568402750766, 'n_p': -2.2994795015019927, 'alpha_p': -0.21637671767578953, 'f_p': 0.97065366319224333, 'mF': 0.79400932502668009, 'gamma': 1.3999999999999999, 'sigT_Mpc': 0.12744692725288601}\n",
      "2 2.6 model {'Delta2_p': 0.44280074273630693, 'n_p': -2.2994793009304835, 'alpha_p': -0.21637578130992885, 'f_p': 0.97499691285123324, 'mF': 0.75832916245871795, 'gamma': 1.3999999999999999, 'sigT_Mpc': 0.12436389094838281}\n",
      "3 2.8 model {'Delta2_p': 0.39841920050635804, 'n_p': -2.2994793725990892, 'alpha_p': -0.21637637290771081, 'f_p': 0.97850450521187982, 'mF': 0.71997791172041337, 'gamma': 1.3999999999999999, 'sigT_Mpc': 0.12144623367196278}\n",
      "4 3.0 model {'Delta2_p': 0.36031650137680626, 'n_p': -2.2994794594828254, 'alpha_p': -0.21637600594737977, 'f_p': 0.98136955118501357, 'mF': 0.6792669863673757, 'gamma': 1.3999999999999999, 'sigT_Mpc': 0.1186885644151414}\n",
      "5 3.2 model {'Delta2_p': 0.32737728593655518, 'n_p': -2.2994796905461898, 'alpha_p': -0.21637680270648968, 'f_p': 0.98372383225332338, 'mF': 0.63657680114569337, 'gamma': 1.3999999999999999, 'sigT_Mpc': 0.11608299285352074}\n",
      "6 3.4 model {'Delta2_p': 0.29871954453855937, 'n_p': -2.2994795000217736, 'alpha_p': -0.21637623791383734, 'f_p': 0.98567148012944139, 'mF': 0.59234888015447751, 'gamma': 1.3999999999999999, 'sigT_Mpc': 0.1136204737084692}\n",
      "7 3.6 model {'Delta2_p': 0.27363948987419645, 'n_p': -2.2994796464262692, 'alpha_p': -0.21637567195994106, 'f_p': 0.98729946760978093, 'mF': 0.54707492999680352, 'gamma': 1.3999999999999999, 'sigT_Mpc': 0.11129160972572964}\n",
      "8 3.8 model {'Delta2_p': 0.25157064580159277, 'n_p': -2.2994796831223212, 'alpha_p': -0.21637623173894571, 'f_p': 0.98866784750139824, 'mF': 0.50128316036687648, 'gamma': 1.3999999999999999, 'sigT_Mpc': 0.10908712104062165}\n",
      "9 4.0 model {'Delta2_p': 0.23205325295753354, 'n_p': -2.2994798610668852, 'alpha_p': -0.21637634322605101, 'f_p': 0.98982327607293863, 'mF': 0.45552234140767905, 'gamma': 1.3999999999999999, 'sigT_Mpc': 0.10699810885344364}\n",
      "10 4.2 model {'Delta2_p': 0.2147112859742899, 'n_p': -2.299479620314405, 'alpha_p': -0.21637699024296425, 'f_p': 0.99080279000903559, 'mF': 0.41034428135678153, 'gamma': 1.3999999999999999, 'sigT_Mpc': 0.10501619262106125}\n",
      "11 4.4 model {'Delta2_p': 0.19923499758542598, 'n_p': -2.2994797463452099, 'alpha_p': -0.21637671711329315, 'f_p': 0.99164206819310086, 'mF': 0.36628557022797459, 'gamma': 1.3999999999999999, 'sigT_Mpc': 0.10313357005157239}\n",
      "got P1D from emulator\n",
      "compute chi2 for z=2.2\n",
      "added 329.8466704606049 to chi2\n",
      "compute chi2 for z=2.4\n",
      "added 291.62264270146466 to chi2\n",
      "compute chi2 for z=2.6\n",
      "added 79.74158200908204 to chi2\n",
      "compute chi2 for z=2.8\n",
      "added 172.99837648937014 to chi2\n",
      "compute chi2 for z=3.0\n",
      "added 291.2491953616759 to chi2\n",
      "compute chi2 for z=3.2\n",
      "added 563.8670441728376 to chi2\n",
      "compute chi2 for z=3.4\n",
      "added 311.18694507716947 to chi2\n",
      "compute chi2 for z=3.6\n",
      "added 115.6607121145095 to chi2\n",
      "compute chi2 for z=3.8\n",
      "added 305.9141054273867 to chi2\n",
      "compute chi2 for z=4.0\n",
      "added 799.8526252337396 to chi2\n",
      "compute chi2 for z=4.2\n",
      "added 540.7246679665167 to chi2\n",
      "compute chi2 for z=4.4\n",
      "added 2125.747254300647 to chi2\n",
      "         19064 function calls (18656 primitive calls) in 0.118 seconds\n",
      "\n",
      "   Ordered by: cumulative time\n",
      "\n",
      "   ncalls  tottime  percall  cumtime  percall filename:lineno(function)\n",
      "        1    0.000    0.000    0.118    0.118 {built-in method builtins.exec}\n",
      "        1    0.000    0.000    0.118    0.118 <string>:1(<module>)\n",
      "        1    0.000    0.000    0.118    0.118 likelihood.py:113(log_prob)\n",
      "        1    0.001    0.001    0.114    0.114 likelihood.py:81(get_chi2)\n",
      "        1    0.001    0.001    0.096    0.096 lya_theory.py:84(get_p1d_kms)\n",
      "       12    0.000    0.000    0.077    0.006 gp_emulator.py:196(emulate_p1d_Mpc)\n",
      "       12    0.001    0.000    0.060    0.005 gp_emulator.py:184(predict)\n",
      "       12    0.000    0.000    0.059    0.005 gp.py:297(predict)\n",
      "       12    0.000    0.000    0.059    0.005 gp.py:279(_raw_predict)\n",
      "       12    0.002    0.000    0.058    0.005 posterior.py:274(_raw_predict)\n",
      "   180/60    0.001    0.000    0.029    0.000 caching.py:274(g)\n",
      "   180/60    0.002    0.000    0.029    0.000 caching.py:149(__call__)\n",
      "    36/12    0.001    0.000    0.026    0.002 kernel_slice_operations.py:83(wrap)\n",
      "  228/108    0.001    0.000    0.025    0.000 {built-in method _functools.reduce}\n",
      "       41    0.002    0.000    0.025    0.001 {built-in method builtins.print}\n",
      "      166    0.001    0.000    0.023    0.000 iostream.py:361(write)\n",
      "      168    0.006    0.000    0.021    0.000 iostream.py:180(schedule)\n",
      "       12    0.020    0.002    0.020    0.002 linalg.py:95(dtrtrs)\n",
      "       12    0.000    0.000    0.020    0.002 <decorator-gen-136>:1(K)\n",
      "       12    0.000    0.000    0.019    0.002 add.py:59(K)\n",
      "       36    0.000    0.000    0.019    0.001 add.py:71(<genexpr>)\n",
      "        1    0.000    0.000    0.017    0.017 lya_theory.py:58(get_emulator_calls)\n",
      "      168    0.013    0.000    0.013    0.000 {built-in method posix.urandom}\n",
      "       12    0.001    0.000    0.013    0.001 interpolate.py:429(__init__)\n",
      "       72    0.001    0.000    0.010    0.000 kernel_slice_operations.py:42(__init__)\n",
      "       12    0.003    0.000    0.010    0.001 _bsplines.py:620(make_interp_spline)\n",
      "    36/12    0.000    0.000    0.009    0.001 kernel_slice_operations.py:91(wrap)\n",
      "      108    0.000    0.000    0.009    0.000 <decorator-gen-135>:1(_slice_X)\n",
      "      144    0.001    0.000    0.008    0.000 parameterized.py:332(__setattr__)\n",
      "       12    0.000    0.000    0.008    0.001 <decorator-gen-146>:1(K)\n",
      "      144    0.001    0.000    0.007    0.000 parameter_core.py:174(parameter_names)\n",
      "       12    0.000    0.000    0.007    0.001 stationary.py:105(K)\n",
      "       12    0.006    0.001    0.007    0.001 linalg.py:458(inv)\n",
      "      144    0.001    0.000    0.007    0.000 parameter_core.py:191(<listcomp>)\n",
      "       12    0.000    0.000    0.006    0.001 <decorator-gen-137>:1(Kdiag)\n",
      "       12    0.000    0.000    0.006    0.000 <decorator-gen-149>:1(_scaled_dist)\n",
      "      240    0.001    0.000    0.006    0.000 nameable.py:33(adjust_name_for_printing)\n",
      "       12    0.000    0.000    0.006    0.000 add.py:73(Kdiag)\n",
      "       36    0.000    0.000    0.005    0.000 add.py:80(<genexpr>)\n",
      "       72    0.000    0.000    0.005    0.000 kernel_slice_operations.py:62(__enter__)\n",
      "       12    0.001    0.000    0.005    0.000 stationary.py:150(_scaled_dist)\n",
      "       12    0.002    0.000    0.004    0.000 stationary.py:130(_unscaled_dist)\n",
      "       60    0.004    0.000    0.004    0.000 {built-in method numpy.core.multiarray.dot}\n",
      "       72    0.000    0.000    0.004    0.000 kernel_slice_operations.py:65(__exit__)\n",
      "       12    0.000    0.000    0.004    0.000 polyint.py:62(__call__)\n",
      "        1    0.000    0.000    0.004    0.004 likelihood.py:64(update_parameters)\n",
      "      240    0.001    0.000    0.003    0.000 re.py:169(match)\n",
      "        1    0.000    0.000    0.003    0.003 lya_theory.py:124(update_parameters)\n",
      "       12    0.000    0.000    0.003    0.000 <decorator-gen-152>:1(K)\n",
      "       12    0.000    0.000    0.003    0.000 interpolate.py:657(_evaluate)\n",
      "      180    0.000    0.000    0.003    0.000 caching.py:96(prepare_cache_id)\n",
      "       12    0.000    0.000    0.003    0.000 mean_flux_model.py:40(get_mean_flux)\n",
      "      180    0.001    0.000    0.002    0.000 caching.py:90(combine_inputs)\n",
      "      180    0.001    0.000    0.002    0.000 {method 'join' of 'str' objects}\n",
      "       12    0.001    0.000    0.002    0.000 mean_flux_model.py:32(get_tau_eff)\n",
      "      120    0.002    0.000    0.002    0.000 {method 'reduce' of 'numpy.ufunc' objects}\n",
      "      432    0.001    0.000    0.002    0.000 caching.py:169(<lambda>)\n",
      "       12    0.000    0.000    0.002    0.000 linear.py:66(K)\n",
      "       72    0.001    0.000    0.002    0.000 kern.py:112(_slice_X)\n",
      "     1187    0.001    0.000    0.002    0.000 {built-in method builtins.isinstance}\n",
      "      397    0.002    0.000    0.002    0.000 {built-in method numpy.core.multiarray.array}\n",
      "       12    0.000    0.000    0.002    0.000 lapack.py:603(get_lapack_funcs)\n",
      "      240    0.002    0.000    0.002    0.000 re.py:286(_compile)\n",
      "       12    0.001    0.000    0.002    0.000 blas.py:297(_get_funcs)\n",
      "       36    0.000    0.000    0.002    0.000 polynomial.py:1137(__call__)\n",
      "       36    0.001    0.000    0.002    0.000 polynomial.py:615(polyval)\n",
      "       36    0.000    0.000    0.002    0.000 fromnumeric.py:1743(sum)\n",
      "       48    0.000    0.000    0.002    0.000 _methods.py:31(_sum)\n",
      "       12    0.000    0.000    0.002    0.000 interpolate.py:649(_call_spline)\n",
      "       12    0.000    0.000    0.001    0.000 _bsplines.py:310(__call__)\n",
      "       48    0.001    0.000    0.001    0.000 param.py:101(__array_finalize__)\n",
      "       12    0.000    0.000    0.001    0.000 thermal_model.py:21(get_T0)\n",
      "       12    0.000    0.000    0.001    0.000 _bsplines.py:578(_not_a_knot)\n",
      "       72    0.000    0.000    0.001    0.000 {method 'any' of 'numpy.ndarray' objects}\n",
      "      612    0.000    0.000    0.001    0.000 caching.py:98(<genexpr>)\n",
      "       37    0.000    0.000    0.001    0.000 polynomial.py:1045(__init__)\n",
      "       12    0.000    0.000    0.001    0.000 <decorator-gen-153>:1(_dot_product)\n",
      "      168    0.001    0.000    0.001    0.000 threading.py:1104(is_alive)\n",
      "       12    0.000    0.000    0.001    0.000 blas.py:236(find_best_blas_type)\n",
      "       12    0.001    0.000    0.001    0.000 rbf.py:50(K_of_r)\n",
      "       12    0.000    0.000    0.001    0.000 linear.py:84(Kdiag)\n",
      "     2640    0.001    0.000    0.001    0.000 {method 'replace' of 'str' objects}\n",
      "       12    0.000    0.000    0.001    0.000 interpolate.py:672(_check_bounds)\n",
      "       24    0.000    0.000    0.001    0.000 numerictypes.py:964(find_common_type)\n",
      "      144    0.001    0.000    0.001    0.000 abc.py:180(__instancecheck__)\n",
      "       61    0.000    0.000    0.001    0.000 shape_base.py:9(atleast_1d)\n",
      "       12    0.000    0.000    0.001    0.000 index_tricks.py:251(__getitem__)\n",
      "       12    0.001    0.000    0.001    0.000 _bsplines.py:357(_evaluate)\n",
      "       72    0.000    0.000    0.001    0.000 _methods.py:37(_any)\n",
      "       12    0.000    0.000    0.001    0.000 polyint.py:55(__init__)\n",
      "      120    0.001    0.000    0.001    0.000 {method 'astype' of 'numpy.ndarray' objects}\n",
      "       36    0.000    0.000    0.001    0.000 numeric.py:86(zeros_like)\n",
      "       12    0.000    0.000    0.001    0.000 thermal_model.py:33(get_gamma)\n",
      "       48    0.001    0.000    0.001    0.000 numerictypes.py:942(_can_coerce_all)\n",
      "       12    0.000    0.000    0.001    0.000 polyint.py:113(_set_yi)\n",
      "      432    0.000    0.000    0.001    0.000 caching.py:86(id)\n",
      "      240    0.001    0.000    0.001    0.000 {method 'match' of '_sre.SRE_Pattern' objects}\n",
      "      166    0.000    0.000    0.001    0.000 iostream.py:298(_schedule_flush)\n",
      "      180    0.001    0.000    0.001    0.000 {built-in method builtins.sorted}\n",
      "       12    0.001    0.000    0.001    0.000 {scipy.interpolate._bspl._colloc}\n",
      "      109    0.000    0.000    0.001    0.000 numeric.py:484(asanyarray)\n",
      "       12    0.000    0.000    0.001    0.000 polyint.py:88(_prepare_x)\n",
      "       12    0.000    0.000    0.001    0.000 linear.py:77(_dot_product)\n",
      "       36    0.000    0.000    0.001    0.000 _bsplines.py:33(_as_float_array)\n",
      "      180    0.000    0.000    0.001    0.000 numeric.py:414(asarray)\n",
      "       12    0.000    0.000    0.001    0.000 _util.py:193(_asarray_validated)\n",
      "      168    0.000    0.000    0.001    0.000 threading.py:1062(_wait_for_tstate_lock)\n",
      "       24    0.000    0.000    0.001    0.000 _bsplines.py:607(_process_deriv_spec)\n",
      "       12    0.000    0.000    0.001    0.000 polyint.py:133(_set_dtype)\n",
      "       12    0.000    0.000    0.000    0.000 numeric.py:571(asfortranarray)\n",
      "       72    0.000    0.000    0.000    0.000 numerictypes.py:728(issubdtype)\n",
      "      288    0.000    0.000    0.000    0.000 _weakrefset.py:70(__contains__)\n",
      "       36    0.000    0.000    0.000    0.000 {built-in method numpy.core.multiarray.copyto}\n",
      "       24    0.000    0.000    0.000    0.000 fromnumeric.py:1900(any)\n",
      "       24    0.000    0.000    0.000    0.000 recons_cosmo.py:175(reconstruct_Hubble_iz)\n",
      "       60    0.000    0.000    0.000    0.000 numeric.py:535(ascontiguousarray)\n",
      "      166    0.000    0.000    0.000    0.000 iostream.py:285(_is_master_process)\n",
      "      672    0.000    0.000    0.000    0.000 {built-in method builtins.getattr}\n",
      "       12    0.000    0.000    0.000    0.000 {method 'sum' of 'numpy.ndarray' objects}\n",
      "       37    0.000    0.000    0.000    0.000 {built-in method builtins.max}\n",
      "       48    0.000    0.000    0.000    0.000 {built-in method numpy.core.multiarray.zeros}\n",
      "       12    0.000    0.000    0.000    0.000 interpolate.py:550(fill_value)\n",
      "       60    0.000    0.000    0.000    0.000 observable_array.py:69(__array_finalize__)\n",
      "       12    0.000    0.000    0.000    0.000 {built-in method numpy.core.multiarray.concatenate}\n",
      "       24    0.000    0.000    0.000    0.000 {method 'format' of 'str' objects}\n",
      "      168    0.000    0.000    0.000    0.000 iostream.py:89(_event_pipe)\n",
      "       12    0.000    0.000    0.000    0.000 gaussian.py:102(predictive_values)\n",
      "      963    0.000    0.000    0.000    0.000 {built-in method builtins.len}\n",
      "       60    0.000    0.000    0.000    0.000 observable_array.py:75(__array_wrap__)\n",
      "       24    0.000    0.000    0.000    0.000 recons_cosmo.py:183(reconstruct_Hubble)\n",
      "      168    0.000    0.000    0.000    0.000 {method 'acquire' of '_thread.lock' objects}\n",
      "      180    0.000    0.000    0.000    0.000 caching.py:94(<listcomp>)\n",
      "       37    0.000    0.000    0.000    0.000 function_base.py:1843(trim_zeros)\n",
      "       36    0.000    0.000    0.000    0.000 _bsplines.py:25(_get_dtype)\n",
      "       84    0.000    0.000    0.000    0.000 {method 'reshape' of 'numpy.ndarray' objects}\n",
      "      324    0.000    0.000    0.000    0.000 {built-in method builtins.hasattr}\n",
      "       12    0.000    0.000    0.000    0.000 linalg.py:139(_commonType)\n",
      "      432    0.000    0.000    0.000    0.000 {built-in method builtins.hex}\n",
      "      240    0.000    0.000    0.000    0.000 nameable.py:58(name)\n",
      "       12    0.000    0.000    0.000    0.000 polyint.py:105(_reshape_yi)\n",
      "       12    0.000    0.000    0.000    0.000 stationary.py:170(Kdiag)\n",
      "       12    0.000    0.000    0.000    0.000 fromnumeric.py:828(argsort)\n",
      "       36    0.000    0.000    0.000    0.000 {built-in method numpy.core.multiarray.empty}\n",
      "       24    0.000    0.000    0.000    0.000 _bsplines.py:18(prod)\n",
      "       72    0.000    0.000    0.000    0.000 numerictypes.py:660(issubclass_)\n",
      "       12    0.000    0.000    0.000    0.000 {method 'argsort' of 'numpy.ndarray' objects}\n",
      "       12    0.000    0.000    0.000    0.000 fromnumeric.py:1686(clip)\n",
      "       36    0.000    0.000    0.000    0.000 {built-in method numpy.core.multiarray.empty_like}\n",
      "      432    0.000    0.000    0.000    0.000 {built-in method builtins.id}\n",
      "       12    0.000    0.000    0.000    0.000 linalg.py:106(_makearray)\n",
      "       48    0.000    0.000    0.000    0.000 kern.py:354(_check_active_dims)\n",
      "       12    0.000    0.000    0.000    0.000 interpolate.py:322(_check_broadcast_up_to)\n",
      "       12    0.000    0.000    0.000    0.000 _bsplines.py:228(construct_fast)\n",
      "      166    0.000    0.000    0.000    0.000 {built-in method posix.getpid}\n",
      "      192    0.000    0.000    0.000    0.000 {built-in method builtins.issubclass}\n",
      "      168    0.000    0.000    0.000    0.000 numerictypes.py:951(<listcomp>)\n",
      "       60    0.000    0.000    0.000    0.000 {method 'view' of 'numpy.ndarray' objects}\n",
      "       12    0.000    0.000    0.000    0.000 {method 'clip' of 'numpy.ndarray' objects}\n",
      "       12    0.000    0.000    0.000    0.000 fromnumeric.py:55(take)\n",
      "        1    0.000    0.000    0.000    0.000 fit_linP.py:116(update_parameters)\n",
      "      180    0.000    0.000    0.000    0.000 caching.py:92(<genexpr>)\n",
      "      144    0.000    0.000    0.000    0.000 {method 'extend' of 'list' objects}\n",
      "       12    0.000    0.000    0.000    0.000 polyint.py:94(_finish_y)\n",
      "        1    0.000    0.000    0.000    0.000 fit_linP.py:42(_setup_from_parameters)\n",
      "       24    0.000    0.000    0.000    0.000 numeric.py:1404(rollaxis)\n",
      "      253    0.000    0.000    0.000    0.000 {method 'append' of 'list' objects}\n",
      "       12    0.000    0.000    0.000    0.000 {method 'take' of 'numpy.ndarray' objects}\n",
      "      180    0.000    0.000    0.000    0.000 {method 'items' of 'dict' objects}\n",
      "      168    0.000    0.000    0.000    0.000 threading.py:506(is_set)\n",
      "       12    0.000    0.000    0.000    0.000 linalg.py:209(_assertNdSquareness)\n",
      "       36    0.000    0.000    0.000    0.000 {method 'ravel' of 'numpy.ndarray' objects}\n",
      "       12    0.000    0.000    0.000    0.000 linalg.py:124(_realType)\n",
      "       12    0.000    0.000    0.000    0.000 thermal_model.py:133(thermal_broadening_kms)\n",
      "       12    0.000    0.000    0.000    0.000 base_p1d_data.py:12(get_Pk_iz)\n",
      "       49    0.000    0.000    0.000    0.000 fit_linP.py:138(get_g_star)\n",
      "       12    0.000    0.000    0.000    0.000 linalg.py:198(_assertRankAtLeast2)\n",
      "       24    0.000    0.000    0.000    0.000 _bsplines.py:596(_convert_string_aliases)\n",
      "       12    0.000    0.000    0.000    0.000 base.py:1190(isspmatrix)\n",
      "       12    0.000    0.000    0.000    0.000 index_tricks.py:231(_retval)\n",
      "       24    0.000    0.000    0.000    0.000 numerictypes.py:1015(<listcomp>)\n",
      "       12    0.000    0.000    0.000    0.000 linalg.py:101(get_linalg_error_extobj)\n",
      "       12    0.000    0.000    0.000    0.000 interpolate.py:339(_do_extrapolate)\n",
      "       36    0.000    0.000    0.000    0.000 {method 'get' of 'dict' objects}\n",
      "       12    0.000    0.000    0.000    0.000 _bsplines.py:361(_ensure_c_contiguous)\n",
      "       12    0.000    0.000    0.000    0.000 core.py:6048(isMaskedArray)\n",
      "       24    0.000    0.000    0.000    0.000 linalg.py:111(isComplexType)\n",
      "       37    0.000    0.000    0.000    0.000 {method 'upper' of 'str' objects}\n",
      "       12    0.000    0.000    0.000    0.000 {built-in method __new__ of type object at 0x10e557dd8}\n",
      "       12    0.000    0.000    0.000    0.000 posterior.py:198(woodbury_vector)\n",
      "       12    0.000    0.000    0.000    0.000 base_p1d_data.py:18(get_cov_iz)\n",
      "       12    0.000    0.000    0.000    0.000 gp.py:198(_predictive_variable)\n",
      "       12    0.000    0.000    0.000    0.000 {method 'index' of 'list' objects}\n",
      "       12    0.000    0.000    0.000    0.000 blas.py:277(<listcomp>)\n",
      "       24    0.000    0.000    0.000    0.000 kern.py:405(parts)\n",
      "       24    0.000    0.000    0.000    0.000 kern.py:433(_check_active_dims)\n",
      "       12    0.000    0.000    0.000    0.000 {built-in method _operator.index}\n",
      "        1    0.000    0.000    0.000    0.000 fit_linP.py:74(get_params)\n",
      "       13    0.000    0.000    0.000    0.000 {built-in method builtins.min}\n",
      "       12    0.000    0.000    0.000    0.000 {method '__array_prepare__' of 'numpy.ndarray' objects}\n",
      "       24    0.000    0.000    0.000    0.000 numerictypes.py:1016(<listcomp>)\n",
      "        1    0.000    0.000    0.000    0.000 mean_flux_model.py:73(update_parameters)\n",
      "        1    0.000    0.000    0.000    0.000 thermal_model.py:103(update_parameters)\n",
      "        1    0.000    0.000    0.000    0.000 likelihood_parameter.py:27(set_from_cube)\n",
      "        1    0.000    0.000    0.000    0.000 mean_flux_model.py:27(get_Nparam)\n",
      "        1    0.000    0.000    0.000    0.000 thermal_model.py:41(get_T0_Nparam)\n",
      "        1    0.000    0.000    0.000    0.000 {method 'copy' of 'dict' objects}\n",
      "        1    0.000    0.000    0.000    0.000 {method 'disable' of '_lsprof.Profiler' objects}\n",
      "        1    0.000    0.000    0.000    0.000 fit_linP.py:135(get_f_star)\n",
      "        1    0.000    0.000    0.000    0.000 fit_linP.py:141(get_Delta2_star)\n",
      "        1    0.000    0.000    0.000    0.000 fit_linP.py:147(get_alpha_star)\n",
      "        1    0.000    0.000    0.000    0.000 fit_linP.py:144(get_n_star)\n",
      "        1    0.000    0.000    0.000    0.000 thermal_model.py:46(get_gamma_Nparam)\n",
      "\n",
      "\n"
     ]
    }
   ],
   "source": [
    "cProfile.run(\"like.log_prob(values=values,linP_Mpc_params=linP_Mpc_params)\",sort='cumtime')"
   ]
  },
  {
   "cell_type": "markdown",
   "metadata": {
    "collapsed": false
   },
   "source": [
    "### Setup function to be called in MCMC"
   ]
  },
  {
   "cell_type": "code",
   "execution_count": 9,
   "metadata": {
    "collapsed": true
   },
   "outputs": [],
   "source": [
    "def log_prob(values,like,linP_Mpc_params,verbose=False):\n",
    "    test_log_prob=like.log_prob(values=values,linP_Mpc_params=linP_Mpc_params)\n",
    "    if np.isnan(test_log_prob):\n",
    "        if verbose:\n",
    "            print('parameter values outside hull',values)\n",
    "        return -np.inf\n",
    "    return test_log_prob"
   ]
  },
  {
   "cell_type": "code",
   "execution_count": 10,
   "metadata": {
    "collapsed": true
   },
   "outputs": [],
   "source": [
    "like.go_silent()"
   ]
  },
  {
   "cell_type": "code",
   "execution_count": 11,
   "metadata": {
    "collapsed": false
   },
   "outputs": [
    {
     "name": "stdout",
     "output_type": "stream",
     "text": [
      "-1.2 < ln_tau_0 < -0.7\n",
      "0.301194211912 < tau_0 < 0.496585303791\n",
      "0.608605317804 < <F> < 0.739934054784\n"
     ]
    }
   ],
   "source": [
    "xs=np.linspace(0.0,1.0,100)\n",
    "xmin=like.free_params[0].min_value\n",
    "xmax=like.free_params[0].max_value\n",
    "print(xmin,'< ln_tau_0 <',xmax)\n",
    "print(np.exp(xmin),'< tau_0 <',np.exp(xmax))\n",
    "print(np.exp(-np.exp(xmax)),'< <F> <',np.exp(-np.exp(xmin)))\n",
    "mf=np.exp(-np.exp(xmin+xs*(xmax-xmin)))\n",
    "lnps=[log_prob([x],like,linP_Mpc_params) for x in xs]"
   ]
  },
  {
   "cell_type": "code",
   "execution_count": 12,
   "metadata": {
    "collapsed": false
   },
   "outputs": [
    {
     "data": {
      "text/plain": [
       "Text(0, 0.5, '$\\\\chi^2$')"
      ]
     },
     "execution_count": 12,
     "metadata": {},
     "output_type": "execute_result"
    },
    {
     "data": {
      "image/png": "[encoded data removed]",
      "text/plain": [
       "<Figure size 720x480 with 1 Axes>"
      ]
     },
     "metadata": {},
     "output_type": "display_data"
    }
   ],
   "source": [
    "plt.plot(mf,-2.0*np.array(lnps))\n",
    "plt.xlabel(r'$\\bar F(z=3)$')\n",
    "plt.ylabel(r'$\\chi^2$')"
   ]
  },
  {
   "cell_type": "markdown",
   "metadata": {},
   "source": [
    "### Setup MCMC"
   ]
  },
  {
   "cell_type": "code",
   "execution_count": 13,
   "metadata": {
    "collapsed": false
   },
   "outputs": [],
   "source": [
    "# for now we'll have only three dimensions (mean flux, temperature, gamma)\n",
    "ndim=1\n",
    "# setup initial walkers\n",
    "nwalkers = 10\n",
    "p0 = np.random.rand(ndim * nwalkers).reshape((nwalkers, ndim))"
   ]
  },
  {
   "cell_type": "code",
   "execution_count": 14,
   "metadata": {
    "collapsed": false
   },
   "outputs": [
    {
     "data": {
      "text/plain": [
       "array([ 0.48589907,  0.7319621 ,  0.41257746,  0.87116564,  0.11344114,\n",
       "        0.70979098,  0.85534595,  0.43048159,  0.88582473,  0.89859234])"
      ]
     },
     "execution_count": 14,
     "metadata": {},
     "output_type": "execute_result"
    }
   ],
   "source": [
    "p0.flatten()"
   ]
  },
  {
   "cell_type": "code",
   "execution_count": 15,
   "metadata": {
    "collapsed": false
   },
   "outputs": [
    {
     "data": {
      "text/plain": [
       "-2997.4669595096261"
      ]
     },
     "execution_count": 15,
     "metadata": {},
     "output_type": "execute_result"
    }
   ],
   "source": [
    "# test function\n",
    "log_prob(p0[0],like,linP_Mpc_params)"
   ]
  },
  {
   "cell_type": "code",
   "execution_count": 16,
   "metadata": {
    "collapsed": false
   },
   "outputs": [],
   "source": [
    "# setup sampler\n",
    "emu.arxiv.verbose=False\n",
    "emu.verbose=False\n",
    "sampler = emcee.EnsembleSampler(nwalkers, ndim, log_prob, args=[like,linP_Mpc_params])"
   ]
  },
  {
   "cell_type": "code",
   "execution_count": 17,
   "metadata": {
    "collapsed": false
   },
   "outputs": [
    {
     "name": "stdout",
     "output_type": "stream",
     "text": [
      "finished burn-in at [ 0.55105284  0.55764141  0.55822628  0.54981627  0.57000111  0.56158982\n",
      "  0.561106    0.54972569  0.5661661   0.55561867] [-2938.6317606  -2938.42197617 -2938.45546842 -2938.79101821 -2940.94808237\n",
      " -2938.81358518 -2938.74469043 -2938.80416954 -2939.75481504 -2938.37175477]\n"
     ]
    }
   ],
   "source": [
    "# burn-in phase\n",
    "pos, prob, state = sampler.run_mcmc(p0, 50)\n",
    "print('finished burn-in at',pos.flatten(),prob)"
   ]
  },
  {
   "cell_type": "code",
   "execution_count": 18,
   "metadata": {
    "collapsed": false
   },
   "outputs": [
    {
     "name": "stdout",
     "output_type": "stream",
     "text": [
      "0 [ 0.55834654  0.56080945  0.55779401  0.5482634   0.56429358  0.56158982\n",
      "  0.56031664  0.54770142  0.56769071  0.55561867]\n",
      "100 [ 0.55526471  0.55244619  0.55819994  0.56551683  0.54990413  0.54613089\n",
      "  0.55957374  0.55341096  0.56174329  0.55823781]\n",
      "200 [ 0.55943234  0.55028787  0.55055029  0.55488778  0.56872026  0.54921519\n",
      "  0.55657499  0.55453938  0.55466716  0.55310149]\n",
      "300 [ 0.56151623  0.54935641  0.55146764  0.54910349  0.55322021  0.55293415\n",
      "  0.5615805   0.55842626  0.55323915  0.56140775]\n",
      "400 [ 0.55513907  0.54602714  0.55953811  0.55755137  0.55571137  0.54607035\n",
      "  0.5553253   0.56159797  0.55076754  0.55813102]\n"
     ]
    }
   ],
   "source": [
    "# reset and run actual chains\n",
    "sampler.reset()\n",
    "nsteps=500\n",
    "for i, result in enumerate(sampler.sample(pos, iterations=nsteps)):\n",
    "    if i % 100 == 0:\n",
    "        print(i,result[0].flatten())"
   ]
  },
  {
   "cell_type": "code",
   "execution_count": 19,
   "metadata": {
    "collapsed": false
   },
   "outputs": [
    {
     "data": {
      "image/png": "[encoded data removed]",
      "text/plain": [
       "<Figure size 720x480 with 1 Axes>"
      ]
     },
     "metadata": {},
     "output_type": "display_data"
    }
   ],
   "source": [
    "for i in range(ndim):\n",
    "    plt.figure()\n",
    "    mf=np.exp(-np.exp(xmin+sampler.flatchain[:,i]*(xmax-xmin)))\n",
    "    plt.hist(mf, 100, color=\"k\", histtype=\"step\")\n",
    "    plt.xlabel('<F>(z=3)')\n",
    "    plt.title(\"Dimension {0:d}\".format(i))"
   ]
  },
  {
   "cell_type": "code",
   "execution_count": 20,
   "metadata": {
    "collapsed": false
   },
   "outputs": [
    {
     "name": "stdout",
     "output_type": "stream",
     "text": [
      "Mean acceptance fraction: 0.801\n"
     ]
    }
   ],
   "source": [
    "print(\"Mean acceptance fraction: {0:.3f}\".format(np.mean(sampler.acceptance_fraction)))"
   ]
  },
  {
   "cell_type": "code",
   "execution_count": 21,
   "metadata": {
    "collapsed": false
   },
   "outputs": [
    {
     "data": {
      "image/png": "[encoded data removed]",
      "text/plain": [
       "<Figure size 720x480 with 1 Axes>"
      ]
     },
     "metadata": {},
     "output_type": "display_data"
    }
   ],
   "source": [
    "for i in range(ndim):\n",
    "    plt.figure()\n",
    "    plt.hist(sampler.flatchain[:,i], 100, color=\"k\", histtype=\"step\")\n",
    "    plt.xlabel('param 0')\n",
    "    plt.title(\"Dimension {0:d}\".format(i))"
   ]
  },
  {
   "cell_type": "code",
   "execution_count": null,
   "metadata": {
    "collapsed": true
   },
   "outputs": [],
   "source": []
  }
 ],
 "metadata": {
  "kernelspec": {
   "display_name": "Python 3",
   "language": "python",
   "name": "python3"
  },
  "language_info": {
   "codemirror_mode": {
    "name": "ipython",
    "version": 3
   },
   "file_extension": ".py",
   "mimetype": "text/x-python",
   "name": "python",
   "nbconvert_exporter": "python",
   "pygments_lexer": "ipython3",
   "version": "3.6.7"
  }
 },
 "nbformat": 4,
 "nbformat_minor": 2
}
