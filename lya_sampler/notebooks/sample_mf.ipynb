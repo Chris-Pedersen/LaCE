{
 "cells": [
  {
   "cell_type": "markdown",
   "metadata": {},
   "source": [
    "# Use emcee to sample Lya posterior as a function of mean flux"
   ]
  },
  {
   "cell_type": "code",
   "execution_count": 1,
   "metadata": {
    "collapsed": false
   },
   "outputs": [],
   "source": [
    "%matplotlib inline\n",
    "%load_ext autoreload\n",
    "%autoreload 2\n",
    "import numpy as np\n",
    "import sys\n",
    "import os\n",
    "import json\n",
    "import matplotlib.pyplot as plt\n",
    "import matplotlib as mpl\n",
    "mpl.rcParams['savefig.dpi'] = 120\n",
    "mpl.rcParams['figure.dpi'] = 120\n",
    "import cProfile\n",
    "import emcee\n",
    "# our own modules\n",
    "import simplest_emulator\n",
    "import linear_emulator\n",
    "import data_PD2013\n",
    "import mean_flux_model\n",
    "import thermal_model\n",
    "import camb_cosmo\n",
    "import fit_linP\n",
    "import recons_cosmo\n",
    "import compute_likelihood\n",
    "import lya_theory"
   ]
  },
  {
   "cell_type": "markdown",
   "metadata": {},
   "source": [
    "## Setup Lya likelihood function"
   ]
  },
  {
   "cell_type": "code",
   "execution_count": 2,
   "metadata": {
    "collapsed": false
   },
   "outputs": [],
   "source": [
    "# read P1D measurement\n",
    "basedir='../../p1d_data/data_files/PD2013/'\n",
    "data=data_PD2013.P1D_PD2013(basedir=basedir,blind_data=True)\n",
    "zs=data.z\n",
    "Nz=len(zs)"
   ]
  },
  {
   "cell_type": "code",
   "execution_count": 3,
   "metadata": {
    "collapsed": false
   },
   "outputs": [
    {
     "name": "stdout",
     "output_type": "stream",
     "text": [
      "setup interpolator for coefficient 0\n",
      "[ 0.34215808 -2.30000012  0.64144805  0.14339793  1.47513694] test [-1.18323575]\n",
      "setup interpolator for coefficient 1\n",
      "[ 0.34215808 -2.30000012  0.64144805  0.14339793  1.47513694] test [-0.6323589]\n",
      "setup interpolator for coefficient 2\n",
      "[ 0.34215808 -2.30000012  0.64144805  0.14339793  1.47513694] test [-0.29370814]\n",
      "setup interpolator for coefficient 3\n",
      "[ 0.34215808 -2.30000012  0.64144805  0.14339793  1.47513694] test [-0.1279153]\n",
      "setup interpolator for coefficient 4\n",
      "[ 0.34215808 -2.30000012  0.64144805  0.14339793  1.47513694] test [-0.01945575]\n"
     ]
    }
   ],
   "source": [
    "# load P1D emulator\n",
    "basedir='../../p1d_emulator/sim_suites/emulator_04052019/'\n",
    "p1d_label='mf_p1d'\n",
    "skewers_label='Ns100_wM0.1'\n",
    "emu=linear_emulator.LinearEmulator(basedir,p1d_label,skewers_label,max_arxiv_size=5000,verbose=False)"
   ]
  },
  {
   "cell_type": "code",
   "execution_count": 4,
   "metadata": {
    "collapsed": false
   },
   "outputs": [
    {
     "name": "stdout",
     "output_type": "stream",
     "text": [
      "Note: redshifts have been re-sorted (earliest first)\n"
     ]
    }
   ],
   "source": [
    "# setup theory to predict Lya 1D power\n",
    "theory = lya_theory.LyaTheory(zs,emulator=emu,verbose=False)\n",
    "# for this simple test, just use fiducial cosmology\n",
    "theory.set_cosmo_model(linP_model=theory.cosmo.linP_model_fid)\n",
    "linP_Mpc_params=theory.cosmo.get_linP_Mpc_params()"
   ]
  },
  {
   "cell_type": "code",
   "execution_count": 5,
   "metadata": {
    "collapsed": true
   },
   "outputs": [],
   "source": [
    "# setup nuisance models\n",
    "mf_model=mean_flux_model.MeanFluxModel()\n",
    "T_model=thermal_model.ThermalModel(ln_gamma_coeff=[np.log(1.4)])\n",
    "theory.set_mf_model(mf_model)\n",
    "theory.set_T_model(T_model)"
   ]
  },
  {
   "cell_type": "code",
   "execution_count": 6,
   "metadata": {
    "collapsed": false
   },
   "outputs": [
    {
     "data": {
      "text/plain": [
       "7452.4575247758785"
      ]
     },
     "execution_count": 6,
     "metadata": {},
     "output_type": "execute_result"
    }
   ],
   "source": [
    "# test chi2 function\n",
    "compute_likelihood.get_chi2(data,theory,linP_Mpc_params=linP_Mpc_params,verbose=False)"
   ]
  },
  {
   "cell_type": "code",
   "execution_count": 7,
   "metadata": {
    "collapsed": false
   },
   "outputs": [],
   "source": [
    "#cProfile.run(\"compute_likelihood.get_chi2(data,theory,linP_Mpc_params=linP_Mpc_params,verbose=False)\",sort='cumtime')"
   ]
  },
  {
   "cell_type": "markdown",
   "metadata": {
    "collapsed": false
   },
   "source": [
    "### Setup function to be called in MCMC"
   ]
  },
  {
   "cell_type": "code",
   "execution_count": 8,
   "metadata": {
    "collapsed": true
   },
   "outputs": [],
   "source": [
    "def get_ln_tau_0(x):\n",
    "    ln_tau_min=-1.0\n",
    "    ln_tau_max=-0.8\n",
    "    return ln_tau_min+x*(ln_tau_max-ln_tau_min)"
   ]
  },
  {
   "cell_type": "code",
   "execution_count": 9,
   "metadata": {
    "collapsed": true
   },
   "outputs": [],
   "source": [
    "def lnprob(x,data,theory,linP_Mpc_params):\n",
    "    # for now priors are top hats in 0 < x < 1\n",
    "    if max(x) > 1.0: \n",
    "        return -np.inf\n",
    "    if min(x) < 0.0:\n",
    "        return -np.inf\n",
    "    ln_tau_0 = get_ln_tau_0(x[0])\n",
    "    mf_model=mean_flux_model.MeanFluxModel(z_tau=3.0,ln_tau_coeff=[3.18,ln_tau_0])\n",
    "    theory.set_mf_model(mf_model)\n",
    "    # compute chi2        \n",
    "    chi2=compute_likelihood.get_chi2(data,theory,linP_Mpc_params=linP_Mpc_params,verbose=False)\n",
    "    loglike=-0.5*chi2\n",
    "    # add smooth, weak prior to alleviate NGP in likelihood\n",
    "    loglike -= (x[0]-0.55)**2/0.01\n",
    "    #print(x,'log like =',loglike)\n",
    "    return -0.5*chi2"
   ]
  },
  {
   "cell_type": "code",
   "execution_count": 10,
   "metadata": {
    "collapsed": false
   },
   "outputs": [],
   "source": [
    "xs=np.linspace(0.0,1.0,100)\n",
    "lnps=[lnprob([x],data,theory,linP_Mpc_params) for x in xs]"
   ]
  },
  {
   "cell_type": "code",
   "execution_count": 11,
   "metadata": {
    "collapsed": false
   },
   "outputs": [
    {
     "data": {
      "text/plain": [
       "<matplotlib.text.Text at 0x1164009b0>"
      ]
     },
     "execution_count": 11,
     "metadata": {},
     "output_type": "execute_result"
    },
    {
     "data": {
      "image/png": "[encoded data removed]",
      "text/plain": [
       "<matplotlib.figure.Figure at 0x1163dcf98>"
      ]
     },
     "metadata": {},
     "output_type": "display_data"
    }
   ],
   "source": [
    "plt.plot(np.exp(-np.exp(get_ln_tau_0(xs))),-2.0*np.array(lnps))\n",
    "plt.xlabel(r'$\\bar F(z=3)$')\n",
    "plt.ylabel(r'$\\chi^2$')"
   ]
  },
  {
   "cell_type": "markdown",
   "metadata": {},
   "source": [
    "### Setup MCMC"
   ]
  },
  {
   "cell_type": "code",
   "execution_count": 12,
   "metadata": {
    "collapsed": false
   },
   "outputs": [],
   "source": [
    "# for now we'll have only three dimensions (mean flux, temperature, gamma)\n",
    "ndim=1\n",
    "# setup initial walkers\n",
    "nwalkers = 20\n",
    "p0 = np.random.rand(ndim * nwalkers).reshape((nwalkers, ndim))"
   ]
  },
  {
   "cell_type": "code",
   "execution_count": 13,
   "metadata": {
    "collapsed": false
   },
   "outputs": [
    {
     "data": {
      "text/plain": [
       "array([ 0.1860087 ,  0.80829699,  0.26126449,  0.07542495,  0.45730902,\n",
       "        0.0518103 ,  0.31056594,  0.03568915,  0.04558064,  0.03229025,\n",
       "        0.56824234,  0.99349733,  0.43482616,  0.66312071,  0.49953352,\n",
       "        0.44359176,  0.73635219,  0.7674961 ,  0.47513415,  0.67279157])"
      ]
     },
     "execution_count": 13,
     "metadata": {},
     "output_type": "execute_result"
    }
   ],
   "source": [
    "p0.flatten()"
   ]
  },
  {
   "cell_type": "code",
   "execution_count": 14,
   "metadata": {
    "collapsed": false
   },
   "outputs": [
    {
     "data": {
      "text/plain": [
       "-3554.2584938251011"
      ]
     },
     "execution_count": 14,
     "metadata": {},
     "output_type": "execute_result"
    }
   ],
   "source": [
    "# test function\n",
    "lnprob(p0[0],data,theory,linP_Mpc_params)"
   ]
  },
  {
   "cell_type": "code",
   "execution_count": 15,
   "metadata": {
    "collapsed": false
   },
   "outputs": [],
   "source": [
    "# setup sampler\n",
    "emu.arxiv.verbose=False\n",
    "emu.verbose=False\n",
    "sampler = emcee.EnsembleSampler(nwalkers, ndim, lnprob, args=[data,theory,linP_Mpc_params])"
   ]
  },
  {
   "cell_type": "code",
   "execution_count": 16,
   "metadata": {
    "collapsed": false
   },
   "outputs": [
    {
     "name": "stdout",
     "output_type": "stream",
     "text": [
      "0 finished at [ 0.28498862  0.70524201  0.26193184  0.31979145  0.51977539  0.0518103\n",
      "  0.41764119  0.19848798  0.04558064  0.35629923  0.56824234  0.73024244\n",
      "  0.49155936  0.62280717  0.63299103  0.46204339  0.65602498  0.60387665\n",
      "  0.56586716  0.66096159] [-3430.90080234 -3318.57637977 -3454.99186726 -3398.95764086 -3285.83755204\n",
      " -3804.39770424 -3338.20383235 -3534.30116104 -3818.08472163 -3374.53434735\n",
      " -3274.38860711 -3335.23344729 -3297.09257179 -3283.92802405 -3285.80386015\n",
      " -3314.60396578 -3292.1079809  -3279.45411569 -3274.28498258 -3295.40769419]\n"
     ]
    }
   ],
   "source": [
    "# burn-in phase\n",
    "for i in range(1):\n",
    "    pos, prob, state = sampler.run_mcmc(p0, 5)\n",
    "    print(i,'finished at',pos.flatten(),prob)\n",
    "    p0=pos"
   ]
  },
  {
   "cell_type": "code",
   "execution_count": 17,
   "metadata": {
    "collapsed": false
   },
   "outputs": [
    {
     "name": "stdout",
     "output_type": "stream",
     "text": [
      "0 [ 0.28498862  0.65666735  0.26193184  0.31979145  0.51977539  0.0518103\n",
      "  0.4595981   0.19848798  0.04558064  0.35629923  0.56824234  0.73024244\n",
      "  0.62118337  0.5562151   0.63299103  0.46204339  0.65602498  0.60387665\n",
      "  0.56586716  0.57804409]\n"
     ]
    }
   ],
   "source": [
    "# reset and run actual chains\n",
    "sampler.reset()\n",
    "nsteps=100\n",
    "for i, result in enumerate(sampler.sample(pos, iterations=nsteps)):\n",
    "    if i % 100 == 0:\n",
    "        print(i,result[0].flatten())"
   ]
  },
  {
   "cell_type": "code",
   "execution_count": 18,
   "metadata": {
    "collapsed": false
   },
   "outputs": [
    {
     "data": {
      "image/png": "[encoded data removed]",
      "text/plain": [
       "<matplotlib.figure.Figure at 0x1486c8b70>"
      ]
     },
     "metadata": {},
     "output_type": "display_data"
    }
   ],
   "source": [
    "for i in range(ndim):\n",
    "    plt.figure()\n",
    "    plt.hist(np.exp(-np.exp(get_ln_tau_0(sampler.flatchain[:,i]))), 100, color=\"k\", histtype=\"step\")\n",
    "    plt.xlabel('<F>(z=3)')\n",
    "    plt.title(\"Dimension {0:d}\".format(i))"
   ]
  },
  {
   "cell_type": "code",
   "execution_count": 19,
   "metadata": {
    "collapsed": false
   },
   "outputs": [
    {
     "name": "stdout",
     "output_type": "stream",
     "text": [
      "Mean acceptance fraction: 0.711\n"
     ]
    }
   ],
   "source": [
    "print(\"Mean acceptance fraction: {0:.3f}\".format(np.mean(sampler.acceptance_fraction)))"
   ]
  },
  {
   "cell_type": "code",
   "execution_count": 20,
   "metadata": {
    "collapsed": false
   },
   "outputs": [
    {
     "data": {
      "image/png": "[encoded data removed]",
      "text/plain": [
       "<matplotlib.figure.Figure at 0x1486e3a58>"
      ]
     },
     "metadata": {},
     "output_type": "display_data"
    }
   ],
   "source": [
    "for i in range(ndim):\n",
    "    plt.figure()\n",
    "    plt.hist(sampler.flatchain[:,i], 100, color=\"k\", histtype=\"step\")\n",
    "    plt.xlabel('param 0')\n",
    "    plt.title(\"Dimension {0:d}\".format(i))"
   ]
  },
  {
   "cell_type": "code",
   "execution_count": null,
   "metadata": {
    "collapsed": true
   },
   "outputs": [],
   "source": []
  }
 ],
 "metadata": {
  "kernelspec": {
   "display_name": "Python 3",
   "language": "python",
   "name": "python3"
  },
  "language_info": {
   "codemirror_mode": {
    "name": "ipython",
    "version": 3
   },
   "file_extension": ".py",
   "mimetype": "text/x-python",
   "name": "python",
   "nbconvert_exporter": "python",
   "pygments_lexer": "ipython3",
   "version": "3.6.7"
  }
 },
 "nbformat": 4,
 "nbformat_minor": 2
}
