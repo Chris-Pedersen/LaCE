{
 "cells": [
  {
   "cell_type": "markdown",
   "metadata": {},
   "source": [
    "# Use emcee to sample Lya posterior as a function of mean flux"
   ]
  },
  {
   "cell_type": "code",
   "execution_count": 1,
   "metadata": {
    "collapsed": false
   },
   "outputs": [],
   "source": [
    "%matplotlib inline\n",
    "%load_ext autoreload\n",
    "%autoreload 2\n",
    "import numpy as np\n",
    "import sys\n",
    "import os\n",
    "import json\n",
    "import matplotlib.pyplot as plt\n",
    "import matplotlib as mpl\n",
    "mpl.rcParams['savefig.dpi'] = 120\n",
    "mpl.rcParams['figure.dpi'] = 120\n",
    "import cProfile\n",
    "import emcee\n",
    "# temporal\n",
    "import camb\n",
    "# our own modules\n",
    "import simplest_emulator\n",
    "import linear_emulator\n",
    "import data_PD2013\n",
    "import mean_flux_model\n",
    "import thermal_model\n",
    "import camb_cosmo\n",
    "import fit_linP\n",
    "import recons_cosmo\n",
    "import compute_likelihood"
   ]
  },
  {
   "cell_type": "markdown",
   "metadata": {},
   "source": [
    "## Setup Lya likelihood function"
   ]
  },
  {
   "cell_type": "code",
   "execution_count": 2,
   "metadata": {
    "collapsed": false
   },
   "outputs": [],
   "source": [
    "# read P1D measurement\n",
    "basedir='../../p1d_data/data_files/PD2013/'\n",
    "data=data_PD2013.P1D_PD2013(basedir=basedir,blind_data=True)\n",
    "zs=data.z\n",
    "Nz=len(zs)"
   ]
  },
  {
   "cell_type": "code",
   "execution_count": 3,
   "metadata": {
    "collapsed": false
   },
   "outputs": [
    {
     "name": "stdout",
     "output_type": "stream",
     "text": [
      "setup interpolator for coefficient 0\n",
      "[ 0.3        -2.29500051 -0.21000061  0.98394565  0.50560665  0.13055504\n",
      "  1.42675044] test [-0.9793026]\n",
      "setup interpolator for coefficient 1\n",
      "[ 0.3        -2.29500051 -0.21000061  0.98394565  0.50560665  0.13055504\n",
      "  1.42675044] test [-0.63083161]\n",
      "setup interpolator for coefficient 2\n",
      "[ 0.3        -2.29500051 -0.21000061  0.98394565  0.50560665  0.13055504\n",
      "  1.42675044] test [-0.25119308]\n",
      "setup interpolator for coefficient 3\n",
      "[ 0.3        -2.29500051 -0.21000061  0.98394565  0.50560665  0.13055504\n",
      "  1.42675044] test [-0.10792213]\n",
      "setup interpolator for coefficient 4\n",
      "[ 0.3        -2.29500051 -0.21000061  0.98394565  0.50560665  0.13055504\n",
      "  1.42675044] test [-0.01876241]\n"
     ]
    }
   ],
   "source": [
    "# load P1D emulator\n",
    "basedir='/Users/font/CosmoData/test_sim_emulator/test_medium/'\n",
    "#basedir='../mini_sim_suite/'\n",
    "p1d_label='mf_p1d'\n",
    "skewers_label='Ns100_wM0.05'\n",
    "#emu=simplest_emulator.SimplestEmulator(basedir,p1d_label,skewers_label,max_arxiv_size=10000,verbose=False)\n",
    "emu=linear_emulator.LinearEmulator(basedir,p1d_label,skewers_label,max_arxiv_size=300,verbose=False)"
   ]
  },
  {
   "cell_type": "code",
   "execution_count": 4,
   "metadata": {
    "collapsed": true
   },
   "outputs": [],
   "source": [
    "# setup nuisance models\n",
    "mf_model=mean_flux_model.MeanFluxModel()\n",
    "T_model=thermal_model.ThermalModel()"
   ]
  },
  {
   "cell_type": "code",
   "execution_count": 5,
   "metadata": {
    "collapsed": false
   },
   "outputs": [
    {
     "name": "stdout",
     "output_type": "stream",
     "text": [
      "H0 = 6.7000E+01, Omega_b h^2 = 2.2000E-02, Omega_c h^2 = 1.2000E-01, Omega_k = 0.0000E+00, Omega_nu h^2 = 1.6128E-03, T_CMB = 2.7255E+00, A_s = 2.1000E-09, n_s = 9.6500E-01, alpha_s = 0.0000E+00\n"
     ]
    },
    {
     "data": {
      "text/plain": [
       "{'Delta2_star': 0.34359089153174016,\n",
       " 'alpha_star': -0.21586983258446132,\n",
       " 'f_star': 0.97514327990258953,\n",
       " 'g_star': 0.968209492732573,\n",
       " 'n_star': -2.300572652881717}"
      ]
     },
     "execution_count": 5,
     "metadata": {},
     "output_type": "execute_result"
    }
   ],
   "source": [
    "# specify cosmology\n",
    "cosmo = camb_cosmo.get_cosmology(mnu=0.15, ns=0.965, omch2=0.12)\n",
    "# print relevant information about the cosmology object\n",
    "camb_cosmo.print_info(cosmo)\n",
    "# compute linear power parameters, around z_star and kp_kms\n",
    "z_star=3.0\n",
    "kp_kms=0.009\n",
    "linP_model=fit_linP.LinearPowerModel(cosmo,z_star=z_star,k_units='kms',kp=kp_kms)\n",
    "linP_model.get_params()"
   ]
  },
  {
   "cell_type": "code",
   "execution_count": 6,
   "metadata": {
    "collapsed": false
   },
   "outputs": [
    {
     "name": "stdout",
     "output_type": "stream",
     "text": [
      "Note: redshifts have been re-sorted (earliest first)\n"
     ]
    }
   ],
   "source": [
    "# setup fiducial cosmology\n",
    "cosmo_fid = camb_cosmo.get_cosmology()\n",
    "# reconstruct cosmology using linear parameter model (at z_star, kp_kms)\n",
    "rec_cosmo=recons_cosmo.ReconstructedCosmology(linP_model,cosmo_fid)\n",
    "# compute linear power parameters at each redshift (in Mpc)\n",
    "linP_Mpc_params=rec_cosmo.get_linP_Mpc_params(zs)"
   ]
  },
  {
   "cell_type": "code",
   "execution_count": 7,
   "metadata": {
    "collapsed": false
   },
   "outputs": [],
   "source": [
    "chi2=compute_likelihood.get_chi2(data,cosmo_fid,emu,rec_cosmo,mf_model,T_model,linP_Mpc_params)"
   ]
  },
  {
   "cell_type": "code",
   "execution_count": 8,
   "metadata": {
    "collapsed": false
   },
   "outputs": [
    {
     "data": {
      "text/plain": [
       "7495.6653252878496"
      ]
     },
     "execution_count": 8,
     "metadata": {},
     "output_type": "execute_result"
    }
   ],
   "source": [
    "chi2"
   ]
  },
  {
   "cell_type": "code",
   "execution_count": 9,
   "metadata": {
    "collapsed": false
   },
   "outputs": [],
   "source": [
    "#cProfile.run(\"compute_likelihood.get_chi2(data,cosmo_fid,emu,rec_cosmo,mf_model,T_model,linP_Mpc_params)\",sort='cumtime')"
   ]
  },
  {
   "cell_type": "markdown",
   "metadata": {
    "collapsed": false
   },
   "source": [
    "### Setup MCMC to call this function"
   ]
  },
  {
   "cell_type": "code",
   "execution_count": 10,
   "metadata": {
    "collapsed": true
   },
   "outputs": [],
   "source": [
    "def get_ln_tau_0(x):\n",
    "    ln_tau_min=-1.05\n",
    "    ln_tau_max=-0.75\n",
    "    return ln_tau_min+x*(ln_tau_max-ln_tau_min)"
   ]
  },
  {
   "cell_type": "code",
   "execution_count": 11,
   "metadata": {
    "collapsed": true
   },
   "outputs": [],
   "source": [
    "def lnprob(x,data,cosmo_fid,emu,rec_cosmo,linP_Mpc_params):\n",
    "    # for now priors are top hats in 0 < x < 1\n",
    "    if max(x) > 1.0: \n",
    "        return -np.inf\n",
    "    if min(x) < 0.0:\n",
    "        return -np.inf\n",
    "    ln_tau_0 = get_ln_tau_0(x[0])\n",
    "    mf_model=mean_flux_model.MeanFluxModel(z_tau=3.0,ln_tau_coeff=[3.18,ln_tau_0])\n",
    "    T_model=thermal_model.ThermalModel()\n",
    "    # compute chi2        \n",
    "    chi2=compute_likelihood.get_chi2(data,cosmo_fid,emu,rec_cosmo,mf_model,T_model,linP_Mpc_params)\n",
    "    loglike=-0.5*chi2\n",
    "    # add smooth, weak prior to alleviate NGP in likelihood\n",
    "    loglike -= (x[0]-0.55)**2/0.01\n",
    "    #print(x,'log like =',loglike)\n",
    "    return -0.5*chi2"
   ]
  },
  {
   "cell_type": "code",
   "execution_count": 12,
   "metadata": {
    "collapsed": false
   },
   "outputs": [],
   "source": [
    "# for now we'll have only three dimensions (mean flux, temperature, gamma)\n",
    "ndim=1\n",
    "# setup initial walkers\n",
    "nwalkers = 20\n",
    "p0 = np.random.rand(ndim * nwalkers).reshape((nwalkers, ndim))"
   ]
  },
  {
   "cell_type": "code",
   "execution_count": 13,
   "metadata": {
    "collapsed": false
   },
   "outputs": [
    {
     "data": {
      "text/plain": [
       "array([ 0.72070896,  0.1082309 ,  0.57754768,  0.06825566,  0.40596513,\n",
       "        0.22812856,  0.193923  ,  0.03046219,  0.15919478,  0.7397228 ,\n",
       "        0.84086161,  0.88826766,  0.0190968 ,  0.22981545,  0.96692033,\n",
       "        0.7831957 ,  0.24758963,  0.72997009,  0.99559125,  0.84126732])"
      ]
     },
     "execution_count": 13,
     "metadata": {},
     "output_type": "execute_result"
    }
   ],
   "source": [
    "p0.flatten()"
   ]
  },
  {
   "cell_type": "code",
   "execution_count": 14,
   "metadata": {
    "collapsed": false
   },
   "outputs": [
    {
     "data": {
      "text/plain": [
       "-3445.9902659996451"
      ]
     },
     "execution_count": 14,
     "metadata": {},
     "output_type": "execute_result"
    }
   ],
   "source": [
    "# test function\n",
    "lnprob(p0[0],data,cosmo_fid,emu,rec_cosmo,linP_Mpc_params)"
   ]
  },
  {
   "cell_type": "code",
   "execution_count": 15,
   "metadata": {
    "collapsed": false
   },
   "outputs": [],
   "source": [
    "# setup sampler\n",
    "emu.arxiv.verbose=False\n",
    "emu.verbose=False\n",
    "sampler = emcee.EnsembleSampler(nwalkers, ndim, lnprob, args=[data,cosmo_fid,emu,rec_cosmo,linP_Mpc_params])"
   ]
  },
  {
   "cell_type": "code",
   "execution_count": 16,
   "metadata": {
    "collapsed": false
   },
   "outputs": [
    {
     "name": "stdout",
     "output_type": "stream",
     "text": [
      "0 finished at [ 0.81519118  0.27853646  0.79645431  0.46110471  0.83319445  0.57612709\n",
      "  0.37457783  0.15168477  0.28058867  0.81972802  0.82387433  0.8139599\n",
      "  0.09406736  0.74798311  0.86656509  0.79962231  0.47312928  0.78937427\n",
      "  0.86148208  0.84126732] [-3429.1480122  -4112.86824393 -3428.98711181 -3646.32141349 -3432.46892224\n",
      " -3525.96066841 -3813.4327492  -4617.57811598 -4105.63220829 -3429.65042306\n",
      " -3430.17432091 -3428.99495123 -4874.94770605 -3440.209687   -3446.86582277\n",
      " -3428.50449386 -3630.3964354  -3431.36628158 -3443.16585041 -3434.90313986]\n"
     ]
    }
   ],
   "source": [
    "# burn-in phase\n",
    "for i in range(1):\n",
    "    pos, prob, state = sampler.run_mcmc(p0, 5)\n",
    "    print(i,'finished at',pos.flatten(),prob)\n",
    "    p0=pos"
   ]
  },
  {
   "cell_type": "code",
   "execution_count": 17,
   "metadata": {
    "collapsed": false
   },
   "outputs": [
    {
     "name": "stdout",
     "output_type": "stream",
     "text": [
      "0 [ 0.80638095  0.27853646  0.79645431  0.46110471  0.83107219  0.58015031\n",
      "  0.59395094  0.44098001  0.28058867  0.83241098  0.81146832  0.8139599\n",
      "  0.45999617  0.74798311  0.85387522  0.79962231  0.48132826  0.78937427\n",
      "  0.85110756  0.81752897]\n"
     ]
    }
   ],
   "source": [
    "# reset and run actual chains\n",
    "sampler.reset()\n",
    "nsteps=100\n",
    "for i, result in enumerate(sampler.sample(pos, iterations=nsteps)):\n",
    "    if i % 100 == 0:\n",
    "        print(i,result[0].flatten())"
   ]
  },
  {
   "cell_type": "code",
   "execution_count": 18,
   "metadata": {
    "collapsed": false
   },
   "outputs": [
    {
     "data": {
      "image/png": "[encoded data removed]",
      "text/plain": [
       "<matplotlib.figure.Figure at 0x11144f588>"
      ]
     },
     "metadata": {},
     "output_type": "display_data"
    }
   ],
   "source": [
    "for i in range(ndim):\n",
    "    plt.figure()\n",
    "    plt.hist(np.exp(-np.exp(get_ln_tau_0(sampler.flatchain[:,i]))), 100, color=\"k\", histtype=\"step\")\n",
    "    plt.xlabel('<F>(z=3)')\n",
    "    plt.title(\"Dimension {0:d}\".format(i))"
   ]
  },
  {
   "cell_type": "code",
   "execution_count": 19,
   "metadata": {
    "collapsed": false
   },
   "outputs": [
    {
     "name": "stdout",
     "output_type": "stream",
     "text": [
      "Mean acceptance fraction: 0.738\n"
     ]
    }
   ],
   "source": [
    "print(\"Mean acceptance fraction: {0:.3f}\".format(np.mean(sampler.acceptance_fraction)))"
   ]
  },
  {
   "cell_type": "code",
   "execution_count": 26,
   "metadata": {
    "collapsed": false
   },
   "outputs": [
    {
     "data": {
      "image/png": "[encoded data removed]",
      "text/plain": [
       "<matplotlib.figure.Figure at 0x110127668>"
      ]
     },
     "metadata": {},
     "output_type": "display_data"
    }
   ],
   "source": [
    "for i in range(ndim):\n",
    "    plt.figure()\n",
    "    plt.hist(sampler.flatchain[:,i], 100, color=\"k\", histtype=\"step\")\n",
    "    plt.xlabel('param 0')\n",
    "    plt.title(\"Dimension {0:d}\".format(i))"
   ]
  },
  {
   "cell_type": "code",
   "execution_count": 21,
   "metadata": {
    "collapsed": false
   },
   "outputs": [],
   "source": [
    "xs=np.linspace(0.0,1.0,100)"
   ]
  },
  {
   "cell_type": "code",
   "execution_count": 22,
   "metadata": {
    "collapsed": false
   },
   "outputs": [],
   "source": [
    "lnps=[lnprob([x],data,cosmo_fid,emu,rec_cosmo,linP_Mpc_params) for x in xs]"
   ]
  },
  {
   "cell_type": "code",
   "execution_count": 23,
   "metadata": {
    "collapsed": false
   },
   "outputs": [
    {
     "data": {
      "text/plain": [
       "<matplotlib.text.Text at 0x1100b3e48>"
      ]
     },
     "execution_count": 23,
     "metadata": {},
     "output_type": "execute_result"
    },
    {
     "data": {
      "image/png": "[encoded data removed]",
      "text/plain": [
       "<matplotlib.figure.Figure at 0x11048e828>"
      ]
     },
     "metadata": {},
     "output_type": "display_data"
    }
   ],
   "source": [
    "plt.plot(np.exp(-np.exp(get_ln_tau_0(xs))),-2.0*np.array(lnps))\n",
    "plt.xlabel(r'$\\bar F(z=3)$')\n",
    "plt.ylabel(r'$\\chi^2$')"
   ]
  },
  {
   "cell_type": "code",
   "execution_count": 25,
   "metadata": {
    "collapsed": false
   },
   "outputs": [
    {
     "data": {
      "text/plain": [
       "[-5343.5749058478104,\n",
       " -5287.68064209968,\n",
       " -5236.7760508727606,\n",
       " -5186.0811434157777,\n",
       " -5134.9357948543511,\n",
       " -5084.4745310363423,\n",
       " -5034.403068473528,\n",
       " -4985.5495770936068,\n",
       " -4937.4561534139475,\n",
       " -4889.7717400003621,\n",
       " -4842.5369598261723,\n",
       " -4795.1813462075952,\n",
       " -4747.8974345189799,\n",
       " -4703.7459770118294,\n",
       " -4660.7875120273939,\n",
       " -4618.2878125761372,\n",
       " -4575.1813113327607,\n",
       " -4531.6856657213284,\n",
       " -4488.8658230271485,\n",
       " -4446.7362700188987,\n",
       " -4404.4974931292372,\n",
       " -4362.4829119243686,\n",
       " -4321.2070754214328,\n",
       " -4281.588097935437,\n",
       " -4243.5603025410564,\n",
       " -4206.3133467723801,\n",
       " -4169.863425911275,\n",
       " -4133.5388869623548,\n",
       " -4097.7751218168232,\n",
       " -4062.8589299791938,\n",
       " -4028.8076154775977,\n",
       " -3995.6387640504236,\n",
       " -3963.4135821422565,\n",
       " -3932.1645987643569,\n",
       " -3901.8515557447863,\n",
       " -3872.0712298495491,\n",
       " -3843.0924441402581,\n",
       " -3815.6592194751011,\n",
       " -3789.3522001935444,\n",
       " -3764.2444015148467,\n",
       " -3743.4933327843382,\n",
       " -3723.9129982022264,\n",
       " -3705.221423258517,\n",
       " -3687.6068210677799,\n",
       " -3671.0924654259643,\n",
       " -3655.7020803405362,\n",
       " -3641.4598491622219,\n",
       " -3628.3792109360911,\n",
       " -3617.4221834007558,\n",
       " -3607.6870452148519,\n",
       " -3595.5843211216893,\n",
       " -3583.0466114100354,\n",
       " -3571.4009255958799,\n",
       " -3560.7575961868624,\n",
       " -3550.9045592976354,\n",
       " -3541.8545730904148,\n",
       " -3533.6205708332586,\n",
       " -3526.2156633098307,\n",
       " -3517.7121214219637,\n",
       " -3508.6692726118217,\n",
       " -3500.3446339344828,\n",
       " -3491.7458347985021,\n",
       " -3484.7939683444602,\n",
       " -3479.5510236628338,\n",
       " -3475.4056212968135,\n",
       " -3470.4142231092537,\n",
       " -3464.1244212173783,\n",
       " -3458.3349546016652,\n",
       " -3453.0522690367052,\n",
       " -3449.1060177101617,\n",
       " -3447.42036584262,\n",
       " -3446.4053403694597,\n",
       " -3445.1083901479851,\n",
       " -3442.5500299671844,\n",
       " -3440.3086555450363,\n",
       " -3438.7088582490478,\n",
       " -3437.1853727000112,\n",
       " -3435.1924024591331,\n",
       " -3431.8966916646677,\n",
       " -3428.4992279316261,\n",
       " -3428.7246388158205,\n",
       " -3429.5188526336315,\n",
       " -3431.1912316309486,\n",
       " -3433.9857484457389,\n",
       " -3437.4346819099355,\n",
       " -3441.5475718101025,\n",
       " -3448.4041698532938,\n",
       " -3453.8712493405083,\n",
       " -3463.8343444661368,\n",
       " -3476.3248953709699,\n",
       " -3489.1417133973905,\n",
       " -3502.5463596721756,\n",
       " -3515.3473649469388,\n",
       " -3529.3886223818163,\n",
       " -3551.7928700886264,\n",
       " -3575.3795734049781,\n",
       " -3599.4559307168438,\n",
       " -3625.1071316291618,\n",
       " -3652.9378283313172,\n",
       " -3682.2447546887356]"
      ]
     },
     "execution_count": 25,
     "metadata": {},
     "output_type": "execute_result"
    }
   ],
   "source": [
    "lnps"
   ]
  },
  {
   "cell_type": "code",
   "execution_count": null,
   "metadata": {
    "collapsed": true
   },
   "outputs": [],
   "source": []
  }
 ],
 "metadata": {
  "kernelspec": {
   "display_name": "Python 3",
   "language": "python",
   "name": "python3"
  },
  "language_info": {
   "codemirror_mode": {
    "name": "ipython",
    "version": 3
   },
   "file_extension": ".py",
   "mimetype": "text/x-python",
   "name": "python",
   "nbconvert_exporter": "python",
   "pygments_lexer": "ipython3",
   "version": "3.6.7"
  }
 },
 "nbformat": 4,
 "nbformat_minor": 2
}
