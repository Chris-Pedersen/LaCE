{
 "cells": [
  {
   "cell_type": "markdown",
   "metadata": {},
   "source": [
    "# Sample Lya posterior as a function of nuisance parameters"
   ]
  },
  {
   "cell_type": "code",
   "execution_count": 1,
   "metadata": {},
   "outputs": [],
   "source": [
    "%matplotlib inline\n",
    "%load_ext autoreload\n",
    "%autoreload 2\n",
    "import numpy as np\n",
    "import sys\n",
    "import os\n",
    "import json\n",
    "import matplotlib.pyplot as plt\n",
    "import matplotlib as mpl\n",
    "mpl.rcParams['savefig.dpi'] = 120\n",
    "mpl.rcParams['figure.dpi'] = 120\n",
    "import cProfile\n",
    "import emcee\n",
    "import corner\n",
    "# our own modules\n",
    "import mf_emulator\n",
    "import data_MPGADGET\n",
    "import simplest_emulator\n",
    "import linear_emulator\n",
    "import gp_emulator\n",
    "import data_PD2013\n",
    "import mean_flux_model\n",
    "import thermal_model\n",
    "import pressure_model\n",
    "import lya_theory\n",
    "import likelihood\n",
    "import emcee_sampler"
   ]
  },
  {
   "cell_type": "markdown",
   "metadata": {},
   "source": [
    "### Setup Lya likelihood function"
   ]
  },
  {
   "cell_type": "code",
   "execution_count": 2,
   "metadata": {},
   "outputs": [],
   "source": [
    "# read P1D measurement\n",
    "#data=data_PD2013.P1D_PD2013(blind_data=True,zmin=2.1,zmax=4.7)\n",
    "data=data_MPGADGET.P1D_MPGADGET(filename=\"1024_L90_mimic.json\",z_list=[2.0,3.0,4.0])\n",
    "zs=data.z"
   ]
  },
  {
   "cell_type": "code",
   "execution_count": 3,
   "metadata": {},
   "outputs": [
    {
     "name": "stdout",
     "output_type": "stream",
     "text": [
      "0 0.05 0.0 <mf< 0.15000000000000002\n",
      "1 0.15 0.04999999999999999 <mf< 0.25\n",
      "2 0.25 0.15 <mf< 0.35\n",
      "3 0.35 0.24999999999999997 <mf< 0.44999999999999996\n",
      "4 0.44999999999999996 0.35 <mf< 0.5499999999999999\n",
      "5 0.5499999999999999 0.44999999999999996 <mf< 0.6499999999999999\n",
      "6 0.65 0.55 <mf< 0.75\n",
      "7 0.75 0.65 <mf< 0.85\n",
      "8 0.85 0.75 <mf< 0.95\n",
      "9 0.95 0.85 <mf< 1.0\n",
      "latin hyper-cube data {'param_space': {'Delta2_star': {'ip': 0, 'min_val': 0.25, 'max_val': 0.45, 'z_star': 3.0, 'kp_Mpc': 0.7, 'latex': '$\\\\Delta^2_\\\\star$'}, 'n_star': {'ip': 1, 'min_val': -2.35, 'max_val': -2.25, 'z_star': 3.0, 'kp_Mpc': 0.7, 'latex': '$n_\\\\star$'}, 'heat_amp': {'ip': 2, 'min_val': 0.3, 'max_val': 3.0, 'latex': '$H_A$'}, 'heat_slo': {'ip': 3, 'min_val': -1.5, 'max_val': 1.5, 'latex': '$H_S$'}, 'z_rei': {'ip': 4, 'min_val': 5.5, 'max_val': 16.0, 'latex': '$z_r$'}}, 'nsamples': 50, 'samples': {'0': [0.392, -2.319, 2.757, -0.4500000000000002, 11.905000000000001], '1': [0.268, -2.327, 1.0830000000000002, -1.41, 6.025], '2': [0.276, -2.311, 1.191, -0.09000000000000008, 5.605], '3': [0.376, -2.291, 0.813, -1.23, 9.805], '4': [0.3, -2.289, 2.703, -1.35, 15.685], '5': [0.38, -2.297, 2.487, 0.5700000000000003, 13.375], '6': [0.324, -2.303, 1.5150000000000001, -0.20999999999999996, 14.005], '7': [0.364, -2.313, 2.649, 1.3499999999999996, 11.275], '8': [0.29200000000000004, -2.333, 0.489, 0.9900000000000002, 5.815], '9': [0.396, -2.295, 1.893, 0.030000000000000027, 6.865], '10': [0.42400000000000004, -2.307, 2.325, -0.75, 7.495], '11': [0.41200000000000003, -2.271, 0.7050000000000001, 1.0499999999999998, 10.855], '12': [0.284, -2.265, 2.811, -0.69, 12.955], '13': [0.404, -2.263, 2.5949999999999998, -0.030000000000000027, 7.285], '14': [0.4, -2.255, 2.109, 0.5100000000000002, 10.225000000000001], '15': [0.264, -2.269, 0.9750000000000001, -1.17, 10.645], '16': [0.28, -2.343, 1.947, -0.51, 9.385], '17': [0.44, -2.347, 2.001, -1.29, 7.705], '18': [0.26, -2.287, 2.055, 0.69, 8.545], '19': [0.32, -2.283, 2.5410000000000004, -0.5700000000000001, 10.015], '20': [0.344, -2.329, 1.6770000000000003, -0.6299999999999999, 11.485], '21': [0.304, -2.341, 0.7589999999999999, -1.1099999999999999, 12.325], '22': [0.28800000000000003, -2.337, 2.379, 1.1099999999999999, 15.265], '23': [0.448, -2.331, 0.327, -0.81, 15.895], '24': [0.34, -2.259, 2.271, -0.99, 8.335], '25': [0.43600000000000005, -2.305, 1.137, 0.8700000000000001, 12.745000000000001], '26': [0.308, -2.285, 1.2449999999999999, 0.15000000000000013, 11.695], '27': [0.372, -2.301, 1.4070000000000003, 0.09000000000000008, 14.215], '28': [0.388, -2.325, 1.3530000000000002, 0.3900000000000001, 13.165], '29': [0.296, -2.257, 1.8390000000000004, 0.81, 8.125], '30': [0.368, -2.299, 0.921, 0.33000000000000007, 8.754999999999999], '31': [0.312, -2.267, 2.919, -0.8699999999999999, 6.655], '32': [0.42800000000000005, -2.251, 2.217, -0.3900000000000001, 6.235], '33': [0.356, -2.277, 2.1630000000000003, 1.4100000000000001, 12.535], '34': [0.332, -2.323, 0.651, -0.9299999999999999, 12.115], '35': [0.328, -2.349, 0.867, -0.27, 9.175], '36': [0.41600000000000004, -2.315, 1.0290000000000001, 0.27, 15.475], '37': [0.316, -2.261, 0.597, 1.17, 14.424999999999999], '38': [0.252, -2.321, 0.5429999999999999, -0.1499999999999999, 14.845], '39': [0.40800000000000003, -2.273, 1.7850000000000004, -0.33000000000000007, 10.434999999999999], '40': [0.42000000000000004, -2.317, 1.461, 0.6299999999999999, 7.915], '41': [0.336, -2.339, 2.4330000000000003, 0.9300000000000002, 8.965], '42': [0.348, -2.275, 1.569, 1.4699999999999998, 11.065000000000001], '43': [0.444, -2.309, 1.299, -1.0499999999999998, 13.795], '44': [0.43200000000000005, -2.253, 1.7310000000000003, 0.2100000000000002, 14.635], '45': [0.256, -2.293, 2.8649999999999998, 0.4500000000000002, 13.585], '46': [0.272, -2.281, 0.435, 1.29, 7.075], '47': [0.352, -2.335, 0.381, 1.23, 15.055], '48': [0.36, -2.279, 1.623, -1.47, 9.594999999999999], '49': [0.384, -2.345, 2.973, 0.75, 6.445]}}\n",
      "simulation suite has 50 samples\n",
      "0 sample has sim params = [0.392, -2.319, 2.757, -0.4500000000000002, 11.905000000000001]\n",
      "simulation has 3 redshifts\n",
      "undersample_z = 1\n",
      "1 sample has sim params = [0.268, -2.327, 1.0830000000000002, -1.41, 6.025]\n",
      "simulation has 3 redshifts\n",
      "undersample_z = 1\n",
      "2 sample has sim params = [0.276, -2.311, 1.191, -0.09000000000000008, 5.605]\n",
      "simulation has 3 redshifts\n",
      "undersample_z = 1\n",
      "3 sample has sim params = [0.376, -2.291, 0.813, -1.23, 9.805]\n",
      "simulation has 3 redshifts\n",
      "undersample_z = 1\n",
      "4 sample has sim params = [0.3, -2.289, 2.703, -1.35, 15.685]\n",
      "simulation has 3 redshifts\n",
      "undersample_z = 1\n",
      "5 sample has sim params = [0.38, -2.297, 2.487, 0.5700000000000003, 13.375]\n",
      "simulation has 3 redshifts\n",
      "undersample_z = 1\n",
      "6 sample has sim params = [0.324, -2.303, 1.5150000000000001, -0.20999999999999996, 14.005]\n",
      "simulation has 3 redshifts\n",
      "undersample_z = 1\n",
      "7 sample has sim params = [0.364, -2.313, 2.649, 1.3499999999999996, 11.275]\n",
      "simulation has 3 redshifts\n",
      "undersample_z = 1\n",
      "8 sample has sim params = [0.29200000000000004, -2.333, 0.489, 0.9900000000000002, 5.815]\n",
      "simulation has 3 redshifts\n",
      "undersample_z = 1\n",
      "9 sample has sim params = [0.396, -2.295, 1.893, 0.030000000000000027, 6.865]\n",
      "simulation has 3 redshifts\n",
      "undersample_z = 1\n",
      "10 sample has sim params = [0.42400000000000004, -2.307, 2.325, -0.75, 7.495]\n",
      "simulation has 3 redshifts\n",
      "undersample_z = 1\n",
      "11 sample has sim params = [0.41200000000000003, -2.271, 0.7050000000000001, 1.0499999999999998, 10.855]\n",
      "simulation has 3 redshifts\n",
      "undersample_z = 1\n",
      "12 sample has sim params = [0.284, -2.265, 2.811, -0.69, 12.955]\n",
      "simulation has 3 redshifts\n",
      "undersample_z = 1\n",
      "13 sample has sim params = [0.404, -2.263, 2.5949999999999998, -0.030000000000000027, 7.285]\n",
      "simulation has 3 redshifts\n",
      "undersample_z = 1\n",
      "14 sample has sim params = [0.4, -2.255, 2.109, 0.5100000000000002, 10.225000000000001]\n",
      "simulation has 3 redshifts\n",
      "undersample_z = 1\n",
      "15 sample has sim params = [0.264, -2.269, 0.9750000000000001, -1.17, 10.645]\n",
      "simulation has 3 redshifts\n",
      "undersample_z = 1\n",
      "16 sample has sim params = [0.28, -2.343, 1.947, -0.51, 9.385]\n",
      "simulation has 3 redshifts\n",
      "undersample_z = 1\n",
      "17 sample has sim params = [0.44, -2.347, 2.001, -1.29, 7.705]\n",
      "simulation has 3 redshifts\n",
      "undersample_z = 1\n",
      "18 sample has sim params = [0.26, -2.287, 2.055, 0.69, 8.545]\n",
      "simulation has 3 redshifts\n",
      "undersample_z = 1\n",
      "19 sample has sim params = [0.32, -2.283, 2.5410000000000004, -0.5700000000000001, 10.015]\n",
      "simulation has 3 redshifts\n",
      "undersample_z = 1\n",
      "20 sample has sim params = [0.344, -2.329, 1.6770000000000003, -0.6299999999999999, 11.485]\n",
      "simulation has 3 redshifts\n",
      "undersample_z = 1\n",
      "21 sample has sim params = [0.304, -2.341, 0.7589999999999999, -1.1099999999999999, 12.325]\n",
      "simulation has 3 redshifts\n",
      "undersample_z = 1\n",
      "22 sample has sim params = [0.28800000000000003, -2.337, 2.379, 1.1099999999999999, 15.265]\n",
      "simulation has 3 redshifts\n",
      "undersample_z = 1\n",
      "23 sample has sim params = [0.448, -2.331, 0.327, -0.81, 15.895]\n",
      "simulation has 3 redshifts\n",
      "undersample_z = 1\n",
      "24 sample has sim params = [0.34, -2.259, 2.271, -0.99, 8.335]\n",
      "simulation has 3 redshifts\n",
      "undersample_z = 1\n",
      "25 sample has sim params = [0.43600000000000005, -2.305, 1.137, 0.8700000000000001, 12.745000000000001]\n",
      "simulation has 3 redshifts\n",
      "undersample_z = 1\n",
      "26 sample has sim params = [0.308, -2.285, 1.2449999999999999, 0.15000000000000013, 11.695]\n",
      "simulation has 3 redshifts\n",
      "undersample_z = 1\n",
      "27 sample has sim params = [0.372, -2.301, 1.4070000000000003, 0.09000000000000008, 14.215]\n",
      "simulation has 3 redshifts\n",
      "undersample_z = 1\n",
      "28 sample has sim params = [0.388, -2.325, 1.3530000000000002, 0.3900000000000001, 13.165]\n",
      "simulation has 3 redshifts\n",
      "undersample_z = 1\n",
      "29 sample has sim params = [0.296, -2.257, 1.8390000000000004, 0.81, 8.125]\n",
      "simulation has 3 redshifts\n",
      "undersample_z = 1\n",
      "30 sample has sim params = [0.368, -2.299, 0.921, 0.33000000000000007, 8.754999999999999]\n",
      "simulation has 3 redshifts\n",
      "undersample_z = 1\n",
      "31 sample has sim params = [0.312, -2.267, 2.919, -0.8699999999999999, 6.655]\n",
      "simulation has 3 redshifts\n",
      "undersample_z = 1\n",
      "32 sample has sim params = [0.42800000000000005, -2.251, 2.217, -0.3900000000000001, 6.235]\n",
      "simulation has 3 redshifts\n",
      "undersample_z = 1\n",
      "33 sample has sim params = [0.356, -2.277, 2.1630000000000003, 1.4100000000000001, 12.535]\n",
      "simulation has 3 redshifts\n",
      "undersample_z = 1\n",
      "34 sample has sim params = [0.332, -2.323, 0.651, -0.9299999999999999, 12.115]\n",
      "simulation has 3 redshifts\n",
      "undersample_z = 1\n",
      "35 sample has sim params = [0.328, -2.349, 0.867, -0.27, 9.175]\n",
      "simulation has 3 redshifts\n",
      "undersample_z = 1\n",
      "36 sample has sim params = [0.41600000000000004, -2.315, 1.0290000000000001, 0.27, 15.475]\n",
      "simulation has 3 redshifts\n",
      "undersample_z = 1\n"
     ]
    },
    {
     "name": "stdout",
     "output_type": "stream",
     "text": [
      "37 sample has sim params = [0.316, -2.261, 0.597, 1.17, 14.424999999999999]\n",
      "simulation has 3 redshifts\n",
      "undersample_z = 1\n",
      "38 sample has sim params = [0.252, -2.321, 0.5429999999999999, -0.1499999999999999, 14.845]\n",
      "simulation has 3 redshifts\n",
      "undersample_z = 1\n",
      "39 sample has sim params = [0.40800000000000003, -2.273, 1.7850000000000004, -0.33000000000000007, 10.434999999999999]\n",
      "simulation has 3 redshifts\n",
      "undersample_z = 1\n",
      "40 sample has sim params = [0.42000000000000004, -2.317, 1.461, 0.6299999999999999, 7.915]\n",
      "simulation has 3 redshifts\n",
      "undersample_z = 1\n",
      "41 sample has sim params = [0.336, -2.339, 2.4330000000000003, 0.9300000000000002, 8.965]\n",
      "simulation has 3 redshifts\n",
      "undersample_z = 1\n",
      "42 sample has sim params = [0.348, -2.275, 1.569, 1.4699999999999998, 11.065000000000001]\n",
      "simulation has 3 redshifts\n",
      "undersample_z = 1\n",
      "43 sample has sim params = [0.444, -2.309, 1.299, -1.0499999999999998, 13.795]\n",
      "simulation has 3 redshifts\n",
      "undersample_z = 1\n",
      "44 sample has sim params = [0.43200000000000005, -2.253, 1.7310000000000003, 0.2100000000000002, 14.635]\n",
      "simulation has 3 redshifts\n",
      "undersample_z = 1\n",
      "45 sample has sim params = [0.256, -2.293, 2.8649999999999998, 0.4500000000000002, 13.585]\n",
      "simulation has 3 redshifts\n",
      "undersample_z = 1\n",
      "46 sample has sim params = [0.272, -2.281, 0.435, 1.29, 7.075]\n",
      "simulation has 3 redshifts\n",
      "undersample_z = 1\n",
      "47 sample has sim params = [0.352, -2.335, 0.381, 1.23, 15.055]\n",
      "simulation has 3 redshifts\n",
      "undersample_z = 1\n",
      "48 sample has sim params = [0.36, -2.279, 1.623, -1.47, 9.594999999999999]\n",
      "simulation has 3 redshifts\n",
      "undersample_z = 1\n",
      "49 sample has sim params = [0.384, -2.345, 2.973, 0.75, 6.445]\n",
      "simulation has 3 redshifts\n",
      "undersample_z = 1\n",
      "Arxiv setup, containing 6750 entries\n",
      "6750 initial entries\n",
      "use 50/6750 entries\n",
      "build emulator 0/10, <F>=0.050\n",
      "Loading emulator using a specific arxiv, not the one set in basedir\n",
      "Rescaled params to unity volume\n",
      "Cannot load emulators with non-standard training data\n",
      "will train GP emulator\n",
      "Training GP on 50 points\n",
      "Optimised\n"
     ]
    },
    {
     "name": "stderr",
     "output_type": "stream",
     "text": [
      " /home/font/anaconda3/lib/python3.6/site-packages/paramz/parameterized.py:61: RuntimeWarning:Don't forget to initialize by self.initialize_parameter()!\n"
     ]
    },
    {
     "name": "stdout",
     "output_type": "stream",
     "text": [
      "6750 initial entries\n",
      "use 353/6750 entries\n",
      "build emulator 1/10, <F>=0.150\n",
      "Loading emulator using a specific arxiv, not the one set in basedir\n",
      "Rescaled params to unity volume\n",
      "Cannot load emulators with non-standard training data\n",
      "will train GP emulator\n",
      "Training GP on 353 points\n",
      "Optimised\n",
      "6750 initial entries\n",
      "use 859/6750 entries\n",
      "build emulator 2/10, <F>=0.250\n",
      "Loading emulator using a specific arxiv, not the one set in basedir\n",
      "Rescaled params to unity volume\n",
      "Cannot load emulators with non-standard training data\n",
      "will train GP emulator\n",
      "Training GP on 859 points\n",
      "Optimised\n",
      "6750 initial entries\n",
      "use 1221/6750 entries\n",
      "build emulator 3/10, <F>=0.350\n",
      "Loading emulator using a specific arxiv, not the one set in basedir\n",
      "Rescaled params to unity volume\n",
      "Cannot load emulators with non-standard training data\n",
      "will train GP emulator\n",
      "Training GP on 1221 points\n",
      "Optimised\n",
      "6750 initial entries\n",
      "use 1409/6750 entries\n",
      "build emulator 4/10, <F>=0.450\n",
      "Loading emulator using a specific arxiv, not the one set in basedir\n",
      "Rescaled params to unity volume\n",
      "Cannot load emulators with non-standard training data\n",
      "will train GP emulator\n",
      "Training GP on 1409 points\n",
      "Optimised\n",
      "6750 initial entries\n",
      "use 1546/6750 entries\n",
      "build emulator 5/10, <F>=0.550\n",
      "Loading emulator using a specific arxiv, not the one set in basedir\n",
      "Rescaled params to unity volume\n",
      "Cannot load emulators with non-standard training data\n",
      "will train GP emulator\n",
      "Training GP on 1546 points\n",
      "Optimised\n",
      "6750 initial entries\n",
      "use 1716/6750 entries\n",
      "build emulator 6/10, <F>=0.650\n",
      "Loading emulator using a specific arxiv, not the one set in basedir\n",
      "Rescaled params to unity volume\n",
      "Cannot load emulators with non-standard training data\n",
      "will train GP emulator\n",
      "Training GP on 1716 points\n",
      "Optimised\n",
      "6750 initial entries\n",
      "use 2315/6750 entries\n",
      "build emulator 7/10, <F>=0.750\n",
      "Loading emulator using a specific arxiv, not the one set in basedir\n",
      "Rescaled params to unity volume\n",
      "Cannot load emulators with non-standard training data\n",
      "will train GP emulator\n",
      "Training GP on 2315 points\n",
      "Optimised\n",
      "6750 initial entries\n",
      "use 2716/6750 entries\n",
      "build emulator 8/10, <F>=0.850\n",
      "Loading emulator using a specific arxiv, not the one set in basedir\n",
      "Rescaled params to unity volume\n",
      "Cannot load emulators with non-standard training data\n",
      "will train GP emulator\n",
      "Training GP on 2716 points\n",
      "Optimised\n",
      "6750 initial entries\n",
      "use 1315/6750 entries\n",
      "build emulator 9/10, <F>=0.950\n",
      "Loading emulator using a specific arxiv, not the one set in basedir\n",
      "Rescaled params to unity volume\n",
      "Cannot load emulators with non-standard training data\n",
      "will train GP emulator\n",
      "Training GP on 1315 points\n",
      "Optimised\n"
     ]
    }
   ],
   "source": [
    "#basedir='../../p1d_emulator/sim_suites/emulator_512_18062019/'\n",
    "#basedir='../../p1d_emulator/sim_suites/emulator_512_17052019/'\n",
    "basedir='../../p1d_emulator/sim_suites/emulator_256_15072019/'\n",
    "kmax_Mpc=4.0\n",
    "p1d_label=None\n",
    "skewers_label='Ns256_wM0.05'\n",
    "undersample_z=1\n",
    "max_arxiv_size=2000\n",
    "paramList=[\"Delta2_p\",\"n_p\",\"mF\",\"sigT_Mpc\",\"gamma\",\"kF_Mpc\"]\n",
    "emu_type='mf'\n",
    "if emu_type=='polyfit':\n",
    "    emu=gp_emulator.GPEmulator(basedir,p1d_label,skewers_label,\n",
    "                                undersample_z=undersample_z,max_arxiv_size=max_arxiv_size,emu_type=emu_type,\n",
    "                                kmax_Mpc=kmax_Mpc,verbose=False,paramList=paramList,train=True)\n",
    "elif emu_type=='k_bin':\n",
    "    emu=gp_emulator.GPEmulator(basedir,p1d_label,skewers_label,\n",
    "                               undersample_z=undersample_z,max_arxiv_size=max_arxiv_size,\n",
    "                               verbose=False,paramList=paramList,train=True,emu_type=emu_type)\n",
    "elif emu_type=='linear':\n",
    "    # specify parameters to emulate\n",
    "    emulate_slope=False\n",
    "    emulate_growth=False\n",
    "    emulate_running=False\n",
    "    emulate_pressure=True\n",
    "    emu=linear_emulator.LinearEmulator(basedir,p1d_label,skewers_label,kmax_Mpc=kmax_Mpc,\n",
    "                                undersample_z=undersample_z,max_arxiv_size=max_arxiv_size,\n",
    "                                emulate_slope=emulate_slope,emulate_running=emulate_running,\n",
    "                                emulate_pressure=emulate_pressure,emulate_growth=emulate_growth,verbose=False)\n",
    "elif emu_type=='NGP':\n",
    "    emu=simplest_emulator.SimplestEmulator(basedir,p1d_label,skewers_label,\n",
    "                                undersample_z=undersample_z,max_arxiv_size=max_arxiv_size,\n",
    "                                verbose=False)\n",
    "elif emu_type=='mf':\n",
    "    emu=mf_emulator.MeanFluxEmulator(basedir,p1d_label,skewers_label,\n",
    "                                kmax_Mpc=kmax_Mpc,emu_type='k_bin',\n",
    "                                max_arxiv_size=None,\n",
    "                                verbose=True,paramList=paramList,train=True)\n",
    "else:\n",
    "    raise ValueError('wrong emulator type '+emu_type)"
   ]
  },
  {
   "cell_type": "code",
   "execution_count": 4,
   "metadata": {},
   "outputs": [
    {
     "name": "stdout",
     "output_type": "stream",
     "text": [
      "Note: redshifts have been re-sorted (earliest first)\n"
     ]
    }
   ],
   "source": [
    "#theory=lya_theory.LyaTheory(zs,emulator=emu)\n",
    "theory=lya_theory.get_mock_theory(zs,emulator=emu)"
   ]
  },
  {
   "cell_type": "code",
   "execution_count": 9,
   "metadata": {},
   "outputs": [],
   "source": [
    "# specify free parameters in likelihood\n",
    "#free_parameters=['ln_kF_0']\n",
    "#free_parameters=['ln_tau_0','ln_tau_1']\n",
    "free_parameters=['ln_tau_0','ln_tau_1','ln_gamma_0','ln_kF_0','T0_1','T0_2','T0_3']\n",
    "min_kp_kms=0.003\n",
    "# ignore emulator covariance for now\n",
    "ignore_emu_cov=True\n",
    "like=likelihood.Likelihood(data=data,theory=theory,free_parameters=free_parameters,min_kp_kms=min_kp_kms,\n",
    "                           verbose=False,ignore_emu_cov=ignore_emu_cov)"
   ]
  },
  {
   "cell_type": "code",
   "execution_count": 10,
   "metadata": {},
   "outputs": [
    {
     "name": "stdout",
     "output_type": "stream",
     "text": [
      "use input likelihood\n",
      "setup with 70 walkers\n",
      "set 70 walkers with 7 dimensions\n",
      "done setting up sampler\n"
     ]
    }
   ],
   "source": [
    "sampler = emcee_sampler.EmceeSampler(like=like,verbose=True)"
   ]
  },
  {
   "cell_type": "code",
   "execution_count": 11,
   "metadata": {},
   "outputs": [
    {
     "name": "stdout",
     "output_type": "stream",
     "text": [
      "ln_tau_0 -0.7945801724139945 -1.5 -0.5\n",
      "ln_tau_1 3.18 2.5 3.8\n",
      "T0_1 0.44 0 1\n",
      "T0_2 9.37 7 11\n",
      "T0_3 -1.33 -2 -0.5\n",
      "ln_gamma_0 0.3364722366212129 0.09531017980432493 0.6931471805599453\n",
      "ln_kF_0 -1.7719568419318752 -2.995732273553991 -0.6931471805599453\n"
     ]
    }
   ],
   "source": [
    "for p in sampler.like.free_params:\n",
    "    print(p.name,p.value,p.min_value,p.max_value)"
   ]
  },
  {
   "cell_type": "markdown",
   "metadata": {},
   "source": [
    "### Run burn-in chains"
   ]
  },
  {
   "cell_type": "code",
   "execution_count": 12,
   "metadata": {},
   "outputs": [],
   "source": [
    "sampler.like.go_silent()"
   ]
  },
  {
   "cell_type": "code",
   "execution_count": 13,
   "metadata": {},
   "outputs": [
    {
     "name": "stdout",
     "output_type": "stream",
     "text": [
      "start burn-in, will do 500 steps\n",
      "0 [0.52023417 0.49215279 0.53294901 0.49405646 0.51485171 0.49047791\n",
      " 0.51025356]\n",
      "20 [0.54513604 0.53062789 0.5351577  0.52735841 0.50670552 0.43345678\n",
      " 0.50571021]\n",
      "40 [0.53680841 0.54122643 0.55314668 0.55306843 0.52904248 0.40412821\n",
      " 0.49971177]\n",
      "60 [0.53931608 0.54021831 0.58011567 0.57603115 0.55039811 0.35963758\n",
      " 0.48407426]\n",
      "80 [0.53849579 0.53712541 0.57795931 0.58802607 0.54938313 0.32958824\n",
      " 0.47416674]\n",
      "100 [0.54389385 0.52799845 0.58376926 0.599287   0.57357202 0.29589983\n",
      " 0.45720759]\n",
      "120 [0.54494768 0.51378941 0.57233925 0.60789028 0.58419948 0.27635126\n",
      " 0.43745021]\n",
      "140 [0.54641564 0.50932805 0.57089329 0.60658996 0.57556998 0.27342946\n",
      " 0.43157888]\n",
      "160 [0.54909705 0.5157382  0.5859034  0.60341151 0.56018145 0.26443181\n",
      " 0.42635477]\n",
      "180 [0.54773507 0.50681722 0.57604298 0.61441826 0.56756827 0.26870719\n",
      " 0.42272681]\n",
      "200 [0.55191171 0.50811118 0.57461514 0.61558285 0.56340642 0.27034002\n",
      " 0.41338031]\n",
      "220 [0.54910192 0.51140907 0.56554155 0.61908671 0.57006563 0.26867714\n",
      " 0.41820244]\n",
      "240 [0.55302518 0.50707709 0.55583767 0.61693662 0.55870731 0.27428463\n",
      " 0.41337697]\n",
      "260 [0.55127394 0.51093989 0.54158171 0.61849974 0.55340617 0.27173675\n",
      " 0.41432969]\n",
      "280 [0.55256227 0.50995217 0.53656205 0.61988103 0.5473301  0.28010389\n",
      " 0.40986761]\n",
      "300 [0.55113125 0.51156837 0.53179921 0.61949929 0.51980839 0.28409486\n",
      " 0.41016044]\n",
      "320 [0.552381   0.50454552 0.52870275 0.62296211 0.5145341  0.2764954\n",
      " 0.40672106]\n",
      "340 [0.55193466 0.511059   0.52783808 0.62536246 0.480836   0.27812408\n",
      " 0.40359992]\n",
      "360 [0.55214796 0.50511281 0.52172287 0.62799405 0.47388425 0.27881881\n",
      " 0.3986962 ]\n",
      "380 [0.54438424 0.50612706 0.5297772  0.63607448 0.50383959 0.27653829\n",
      " 0.40952678]\n",
      "400 [0.54638128 0.49844619 0.52559729 0.63846349 0.51446389 0.27827554\n",
      " 0.41007375]\n",
      "420 [0.5474855  0.50161135 0.52987219 0.63733726 0.49369569 0.29366295\n",
      " 0.40877296]\n",
      "440 [0.55024851 0.49655137 0.53416158 0.6371245  0.47602764 0.30053838\n",
      " 0.40846161]\n",
      "460 [0.54914181 0.50365191 0.54197293 0.63816991 0.47134149 0.31556805\n",
      " 0.41182259]\n",
      "480 [0.55093074 0.50282939 0.53953202 0.63554193 0.45866286 0.31422701\n",
      " 0.40791063]\n",
      "finished burn-in\n"
     ]
    }
   ],
   "source": [
    "sampler.run_burn_in(nsteps=500)"
   ]
  },
  {
   "cell_type": "markdown",
   "metadata": {},
   "source": [
    "### Run main chains"
   ]
  },
  {
   "cell_type": "code",
   "execution_count": null,
   "metadata": {},
   "outputs": [],
   "source": [
    "sampler.run_chains(nsteps=2000)"
   ]
  },
  {
   "cell_type": "code",
   "execution_count": null,
   "metadata": {},
   "outputs": [],
   "source": [
    "print(\"Mean acceptance fraction: {0:.3f}\".format(np.mean(sampler.sampler.acceptance_fraction)))"
   ]
  },
  {
   "cell_type": "markdown",
   "metadata": {},
   "source": [
    "### Plot results in cube units (0 < x < 1)"
   ]
  },
  {
   "cell_type": "code",
   "execution_count": null,
   "metadata": {},
   "outputs": [],
   "source": [
    "sampler.plot_histograms(cube=True)"
   ]
  },
  {
   "cell_type": "code",
   "execution_count": null,
   "metadata": {},
   "outputs": [],
   "source": [
    "sampler.plot_corner(cube=True)"
   ]
  },
  {
   "cell_type": "markdown",
   "metadata": {},
   "source": [
    "### Plot results for dimensional parameters"
   ]
  },
  {
   "cell_type": "code",
   "execution_count": null,
   "metadata": {},
   "outputs": [],
   "source": [
    "sampler.plot_histograms(cube=False)"
   ]
  },
  {
   "cell_type": "code",
   "execution_count": null,
   "metadata": {},
   "outputs": [],
   "source": [
    "sampler.plot_corner(cube=False)"
   ]
  },
  {
   "cell_type": "markdown",
   "metadata": {},
   "source": [
    "### Use likelihood object to make other useful plots"
   ]
  },
  {
   "cell_type": "code",
   "execution_count": null,
   "metadata": {},
   "outputs": [],
   "source": [
    "# get best fit model\n",
    "ind = np.unravel_index(np.argmax(sampler.sampler.lnprobability, axis=None), sampler.sampler.lnprobability.shape)\n",
    "best_fit=sampler.sampler.chain[ind]"
   ]
  },
  {
   "cell_type": "code",
   "execution_count": null,
   "metadata": {},
   "outputs": [],
   "source": [
    "sampler.like.plot_p1d(values=best_fit,plot_every_iz=1)"
   ]
  },
  {
   "cell_type": "code",
   "execution_count": null,
   "metadata": {},
   "outputs": [],
   "source": [
    "sampler.like.overplot_emulator_calls('gamma','sigT_Mpc',values=best_fit)"
   ]
  },
  {
   "cell_type": "code",
   "execution_count": null,
   "metadata": {},
   "outputs": [],
   "source": [
    "sampler.like.overplot_emulator_calls('mF','gamma',values=best_fit)"
   ]
  },
  {
   "cell_type": "code",
   "execution_count": null,
   "metadata": {},
   "outputs": [],
   "source": [
    "sampler.like.overplot_emulator_calls('Delta2_p','mF',values=best_fit)"
   ]
  },
  {
   "cell_type": "code",
   "execution_count": null,
   "metadata": {},
   "outputs": [],
   "source": [
    "sampler.like.overplot_emulator_calls('alpha_p','n_p',values=best_fit)"
   ]
  },
  {
   "cell_type": "code",
   "execution_count": null,
   "metadata": {},
   "outputs": [],
   "source": [
    "sampler.like.overplot_emulator_calls('sigT_Mpc','mF',values=best_fit)"
   ]
  },
  {
   "cell_type": "code",
   "execution_count": null,
   "metadata": {},
   "outputs": [],
   "source": [
    "sampler.like.overplot_emulator_calls('mF','sigT_Mpc',values=best_fit)"
   ]
  },
  {
   "cell_type": "code",
   "execution_count": null,
   "metadata": {},
   "outputs": [],
   "source": [
    "sampler.like.overplot_emulator_calls('kF_Mpc','sigT_Mpc',values=best_fit)"
   ]
  },
  {
   "cell_type": "code",
   "execution_count": null,
   "metadata": {},
   "outputs": [],
   "source": [
    "sampler.like.overplot_emulator_calls('kF_Mpc','mF',values=best_fit)"
   ]
  },
  {
   "cell_type": "markdown",
   "metadata": {},
   "source": [
    "### Write chain to file for later use"
   ]
  },
  {
   "cell_type": "code",
   "execution_count": null,
   "metadata": {},
   "outputs": [],
   "source": [
    "chain_filename='test'\n",
    "sampler.write_chain_to_file(chain_filename)"
   ]
  },
  {
   "cell_type": "markdown",
   "metadata": {},
   "source": [
    "### Read pre-computed chain"
   ]
  },
  {
   "cell_type": "code",
   "execution_count": null,
   "metadata": {},
   "outputs": [],
   "source": [
    "new_sampler = emcee_sampler.EmceeSampler(emulator=emu,free_parameters=free_parameters,\n",
    "                                         read_chain_file=chain_filename,verbose=True)"
   ]
  },
  {
   "cell_type": "code",
   "execution_count": null,
   "metadata": {},
   "outputs": [],
   "source": [
    "new_sampler.plot_corner(cube=False)"
   ]
  },
  {
   "cell_type": "code",
   "execution_count": null,
   "metadata": {},
   "outputs": [],
   "source": [
    "new_sampler.plot_corner(cube=True)"
   ]
  },
  {
   "cell_type": "code",
   "execution_count": null,
   "metadata": {},
   "outputs": [],
   "source": [
    "new_sampler.plot_histograms(cube=False)"
   ]
  },
  {
   "cell_type": "code",
   "execution_count": null,
   "metadata": {},
   "outputs": [],
   "source": []
  },
  {
   "cell_type": "code",
   "execution_count": null,
   "metadata": {},
   "outputs": [],
   "source": []
  },
  {
   "cell_type": "code",
   "execution_count": null,
   "metadata": {},
   "outputs": [],
   "source": []
  },
  {
   "cell_type": "code",
   "execution_count": null,
   "metadata": {},
   "outputs": [],
   "source": []
  }
 ],
 "metadata": {
  "kernelspec": {
   "display_name": "Python 3",
   "language": "python",
   "name": "python3"
  },
  "language_info": {
   "codemirror_mode": {
    "name": "ipython",
    "version": 3
   },
   "file_extension": ".py",
   "mimetype": "text/x-python",
   "name": "python",
   "nbconvert_exporter": "python",
   "pygments_lexer": "ipython3",
   "version": "3.6.5"
  }
 },
 "nbformat": 4,
 "nbformat_minor": 2
}
