{
 "cells": [
  {
   "cell_type": "markdown",
   "metadata": {},
   "source": [
    "# Use emcee to run MCMC using Lya likelihood from BOSS P1D"
   ]
  },
  {
   "cell_type": "code",
   "execution_count": 1,
   "metadata": {
    "collapsed": false
   },
   "outputs": [],
   "source": [
    "%matplotlib inline\n",
    "%load_ext autoreload\n",
    "%autoreload 2\n",
    "import numpy as np\n",
    "import sys\n",
    "import os\n",
    "import json\n",
    "import matplotlib.pyplot as plt\n",
    "import matplotlib as mpl\n",
    "mpl.rcParams['savefig.dpi'] = 120\n",
    "mpl.rcParams['figure.dpi'] = 120\n",
    "# temporal\n",
    "import camb\n",
    "# our own modules\n",
    "import simplest_emulator\n",
    "import data_PD2013\n",
    "import mean_flux_model\n",
    "import thermal_model\n",
    "import camb_cosmo\n",
    "import fit_linP\n",
    "import recons_cosmo\n",
    "import compute_likelihood\n",
    "import emcee"
   ]
  },
  {
   "cell_type": "markdown",
   "metadata": {},
   "source": [
    "## Setup Lya likelihood function"
   ]
  },
  {
   "cell_type": "code",
   "execution_count": 2,
   "metadata": {
    "collapsed": false
   },
   "outputs": [],
   "source": [
    "# read P1D measurement\n",
    "basedir='../../p1d_data/data_files/PD2013/'\n",
    "data=data_PD2013.P1D_PD2013(basedir=basedir,blind_data=False)\n",
    "zs=data.z\n",
    "Nz=len(zs)"
   ]
  },
  {
   "cell_type": "code",
   "execution_count": 50,
   "metadata": {
    "collapsed": false
   },
   "outputs": [
    {
     "name": "stdout",
     "output_type": "stream",
     "text": [
      "latin hyper-cube data {'param_space': {'Om_star': {'ip': 0, 'min_val': 0.955, 'max_val': 0.975, 'z_star': 3.0, 'latex': '$\\\\Omega_\\\\star$'}, 'Delta2_star': {'ip': 1, 'min_val': 0.25, 'max_val': 0.45, 'z_star': 3.0, 'kp_Mpc': 0.7, 'latex': '$\\\\Delta^2_\\\\star$'}, 'n_star': {'ip': 2, 'min_val': -2.35, 'max_val': -2.25, 'z_star': 3.0, 'kp_Mpc': 0.7, 'latex': '$n_\\\\star$'}, 'alpha_star': {'ip': 3, 'min_val': -0.265, 'max_val': -0.165, 'z_star': 3.0, 'kp_Mpc': 0.7, 'latex': '$\\\\alpha_\\\\star$'}, 'mu_He': {'ip': 4, 'min_val': 0.5, 'max_val': 2.0, 'latex': '$\\\\mu_{\\\\rm He}$'}, 'mu_H': {'ip': 5, 'min_val': 0.5, 'max_val': 2.0, '   latex': '$\\\\mu_{\\\\rm H}$'}}, 'nsamples': 10, 'samples': {'0': [0.96, 0.32, -2.325, -0.22, 0.875, 1.7750000000000001], '1': [0.966, 0.4, -2.295, -0.23, 1.175, 0.575], '2': [0.968, 0.36, -2.285, -0.26, 1.7750000000000001, 1.625], '3': [0.97, 0.3, -2.315, -0.18, 1.3250000000000002, 1.3250000000000002], '4': [0.974, 0.34, -2.305, -0.21000000000000002, 1.475, 1.175], '5': [0.956, 0.42000000000000004, -2.275, -0.24000000000000002, 0.7250000000000001, 1.475], '6': [0.958, 0.26, -2.265, -0.19, 1.025, 1.025], '7': [0.964, 0.44, -2.335, -0.17, 1.625, 1.9249999999999998], '8': [0.962, 0.38, -2.255, -0.25, 1.9249999999999998, 0.875], '9': [0.972, 0.28, -2.345, -0.2, 0.575, 0.7250000000000001]}}\n",
      "simulation suite has 10 samples\n",
      "0 sample has sim params = [0.96, 0.32, -2.325, -0.22, 0.875, 1.7750000000000001]\n",
      "simulation has 10 redshifts\n",
      "/Users/font/CosmoData/test_sim_emulator/test_medium//sim_pair_0/sim_plus/test_p1d_0_Ns100_wM0.05.json snapshot does not have p1d\n",
      "1 sample has sim params = [0.966, 0.4, -2.295, -0.23, 1.175, 0.575]\n",
      "simulation has 10 redshifts\n",
      "/Users/font/CosmoData/test_sim_emulator/test_medium//sim_pair_1/sim_plus/test_p1d_0_Ns100_wM0.05.json snapshot does not have p1d\n",
      "2 sample has sim params = [0.968, 0.36, -2.285, -0.26, 1.7750000000000001, 1.625]\n",
      "simulation has 10 redshifts\n",
      "/Users/font/CosmoData/test_sim_emulator/test_medium//sim_pair_2/sim_plus/test_p1d_0_Ns100_wM0.05.json snapshot does not have p1d\n",
      "3 sample has sim params = [0.97, 0.3, -2.315, -0.18, 1.3250000000000002, 1.3250000000000002]\n",
      "simulation has 10 redshifts\n",
      "/Users/font/CosmoData/test_sim_emulator/test_medium//sim_pair_3/sim_plus/test_p1d_0_Ns100_wM0.05.json snapshot does not have p1d\n",
      "4 sample has sim params = [0.974, 0.34, -2.305, -0.21000000000000002, 1.475, 1.175]\n",
      "simulation has 10 redshifts\n",
      "/Users/font/CosmoData/test_sim_emulator/test_medium//sim_pair_4/sim_plus/test_p1d_0_Ns100_wM0.05.json snapshot does not have p1d\n",
      "5 sample has sim params = [0.956, 0.42000000000000004, -2.275, -0.24000000000000002, 0.7250000000000001, 1.475]\n",
      "simulation has 10 redshifts\n",
      "/Users/font/CosmoData/test_sim_emulator/test_medium//sim_pair_5/sim_plus/test_p1d_0_Ns100_wM0.05.json snapshot does not have p1d\n",
      "6 sample has sim params = [0.958, 0.26, -2.265, -0.19, 1.025, 1.025]\n",
      "simulation has 10 redshifts\n",
      "/Users/font/CosmoData/test_sim_emulator/test_medium//sim_pair_6/sim_plus/test_p1d_0_Ns100_wM0.05.json snapshot does not have p1d\n",
      "7 sample has sim params = [0.964, 0.44, -2.335, -0.17, 1.625, 1.9249999999999998]\n",
      "simulation has 10 redshifts\n",
      "/Users/font/CosmoData/test_sim_emulator/test_medium//sim_pair_7/sim_plus/test_p1d_0_Ns100_wM0.05.json snapshot does not have p1d\n",
      "8 sample has sim params = [0.962, 0.38, -2.255, -0.25, 1.9249999999999998, 0.875]\n",
      "simulation has 10 redshifts\n",
      "/Users/font/CosmoData/test_sim_emulator/test_medium//sim_pair_8/sim_plus/test_p1d_0_Ns100_wM0.05.json snapshot does not have p1d\n",
      "9 sample has sim params = [0.972, 0.28, -2.345, -0.2, 0.575, 0.7250000000000001]\n",
      "simulation has 10 redshifts\n",
      "/Users/font/CosmoData/test_sim_emulator/test_medium//sim_pair_9/sim_plus/test_p1d_0_Ns100_wM0.05.json snapshot does not have p1d\n",
      "Arxiv setup, containing 24750 entries\n",
      "will use metric {'mF': 0.01, 'kF_Mpc': 0.1, 'sigT_Mpc': 0.02, 'gamma': 0.02, 'Delta2_p': 0.01, 'n_p': 0.01, 'alpha_p': 0.01, 'f_p': 0.005}\n"
     ]
    }
   ],
   "source": [
    "# load P1D emulator\n",
    "basedir='/Users/font/CosmoData/test_sim_emulator/test_medium/'\n",
    "#basedir='../mini_sim_suite/'\n",
    "p1d_label='test_p1d'\n",
    "skewers_label='Ns100_wM0.05'\n",
    "emu=simplest_emulator.SimplestEmulator(basedir,p1d_label,skewers_label,verbose=True)"
   ]
  },
  {
   "cell_type": "code",
   "execution_count": 40,
   "metadata": {
    "collapsed": true
   },
   "outputs": [],
   "source": [
    "# setup nuisance models\n",
    "mf_model=mean_flux_model.MeanFluxModel()\n",
    "T_model=thermal_model.ThermalModel()"
   ]
  },
  {
   "cell_type": "code",
   "execution_count": 41,
   "metadata": {
    "collapsed": false
   },
   "outputs": [
    {
     "name": "stdout",
     "output_type": "stream",
     "text": [
      "H0 = 6.7000E+01, Omega_b h^2 = 2.2000E-02, Omega_c h^2 = 1.2000E-01, Omega_k = 0.0000E+00, Omega_nu h^2 = 1.6128E-03, T_CMB = 2.7255E+00, A_s = 2.1000E-09, n_s = 9.6500E-01, alpha_s = 0.0000E+00\n"
     ]
    },
    {
     "data": {
      "text/plain": [
       "{'Delta2_star': 0.34359089153174016,\n",
       " 'alpha_star': -0.21586983258446132,\n",
       " 'f_star': 0.97514327990258953,\n",
       " 'g_star': 0.968209492732573,\n",
       " 'n_star': -2.300572652881717}"
      ]
     },
     "execution_count": 41,
     "metadata": {},
     "output_type": "execute_result"
    }
   ],
   "source": [
    "# specify cosmology\n",
    "cosmo = camb_cosmo.get_cosmology(mnu=0.15, ns=0.965, omch2=0.12)\n",
    "# print relevant information about the cosmology object\n",
    "camb_cosmo.print_info(cosmo)\n",
    "# compute linear power parameters, around z_star and kp_kms\n",
    "z_star=3.0\n",
    "kp_kms=0.009\n",
    "linP_model=fit_linP.LinearPowerModel(cosmo,z_star=z_star,k_units='kms',kp=kp_kms)\n",
    "linP_model.get_params()"
   ]
  },
  {
   "cell_type": "code",
   "execution_count": 6,
   "metadata": {
    "collapsed": false
   },
   "outputs": [
    {
     "name": "stdout",
     "output_type": "stream",
     "text": [
      "Note: redshifts have been re-sorted (earliest first)\n"
     ]
    }
   ],
   "source": [
    "# setup fiducial cosmology\n",
    "cosmo_fid = camb_cosmo.get_cosmology()\n",
    "# reconstruct cosmology using linear parameter model (at z_star, kp_kms)\n",
    "rec_cosmo=recons_cosmo.ReconstructedCosmology(linP_model,cosmo_fid)\n",
    "# compute linear power parameters at each redshift (in Mpc)\n",
    "linP_Mpc_params=rec_cosmo.get_linP_Mpc_params(zs)"
   ]
  },
  {
   "cell_type": "code",
   "execution_count": 55,
   "metadata": {
    "collapsed": false
   },
   "outputs": [
    {
     "name": "stdout",
     "output_type": "stream",
     "text": [
      "asked to emulate model {'Delta2_p': 0.52940508668690001, 'n_p': -2.3007135087498813, 'alpha_p': -0.21576273788697528, 'f_p': 0.95899824656437238, 'mF': 0.80075859414516326, 'gamma': 1.5523173420452847, 'sigT_Mpc': 0.13071399425598651}\n",
      "entry = 2342, z = 2.0000, Delta2_p = 0.5576, n_p = -2.3250, alpha_p = -0.2200, f_p = 0.9494, mF = 0.8128, sigT_Mpc = 0.1433, gamma = 1.5286\n",
      "asked to emulate model {'Delta2_p': 0.49084504946668728, 'n_p': -2.3007135087498813, 'alpha_p': -0.21576273788698067, 'f_p': 0.96442738525451488, 'mF': 0.76380723990664612, 'gamma': 1.5336092579325602, 'sigT_Mpc': 0.12746008021889133}\n",
      "entry = 4208, z = 2.6000, Delta2_p = 0.4915, n_p = -2.2950, alpha_p = -0.2300, f_p = 0.9740, mF = 0.7596, sigT_Mpc = 0.1338, gamma = 1.4931\n",
      "asked to emulate model {'Delta2_p': 0.45603102701476073, 'n_p': -2.3007135087498813, 'alpha_p': -0.21576273788697409, 'f_p': 0.96877063491350479, 'mF': 0.72386708455399551, 'gamma': 1.5161773512573462, 'sigT_Mpc': 0.12437244717799824}\n",
      "entry = 4157, z = 2.6000, Delta2_p = 0.4915, n_p = -2.2950, alpha_p = -0.2300, f_p = 0.9740, mF = 0.7260, sigT_Mpc = 0.1159, gamma = 1.4931\n",
      "asked to emulate model {'Delta2_p': 0.42463796726199332, 'n_p': -2.3007135087498813, 'alpha_p': -0.2157627378869619, 'f_p': 0.97227822727415136, 'mF': 0.68128831772300569, 'gamma': 1.4998705770834098, 'sigT_Mpc': 0.12145041127572205}\n",
      "entry = 3878, z = 3.0000, Delta2_p = 0.4000, n_p = -2.2950, alpha_p = -0.2300, f_p = 0.9806, mF = 0.6794, sigT_Mpc = 0.1148, gamma = 1.4645\n",
      "asked to emulate model {'Delta2_p': 0.3963222761532938, 'n_p': -2.3007135087498813, 'alpha_p': -0.21576273788697364, 'f_p': 0.97514327324728511, 'mF': 0.63650570143405727, 'gamma': 1.4845625705324339, 'sigT_Mpc': 0.1186885644151414}\n",
      "entry = 3881, z = 3.0000, Delta2_p = 0.4000, n_p = -2.2950, alpha_p = -0.2300, f_p = 0.9806, mF = 0.6401, sigT_Mpc = 0.1148, gamma = 1.4645\n",
      "asked to emulate model {'Delta2_p': 0.3707514234608501, 'n_p': -2.3007135087498813, 'alpha_p': -0.21576273788697739, 'f_p': 0.97749755431559493, 'mF': 0.59002878758457866, 'gamma': 1.4701466103212635, 'sigT_Mpc': 0.11607900001346579}\n",
      "entry = 3992, z = 3.0000, Delta2_p = 0.4000, n_p = -2.2950, alpha_p = -0.2300, f_p = 0.9806, mF = 0.6112, sigT_Mpc = 0.1483, gamma = 1.4645\n",
      "asked to emulate model {'Delta2_p': 0.34761780307480111, 'n_p': -2.3007135087498805, 'alpha_p': -0.21576273788696995, 'f_p': 0.97944520219171294, 'mF': 0.54242806197447857, 'gamma': 1.4565317960122977, 'sigT_Mpc': 0.11361265770091636}\n",
      "entry = 13611, z = 3.5000, Delta2_p = 0.3335, n_p = -2.2750, alpha_p = -0.2400, f_p = 0.9820, mF = 0.5450, sigT_Mpc = 0.1194, gamma = 1.4296\n",
      "asked to emulate model {'Delta2_p': 0.32664399893257223, 'n_p': -2.3007135087498813, 'alpha_p': -0.21576273788697467, 'f_p': 0.98107318967205248, 'mF': 0.49431740593191842, 'gamma': 1.4436401056449923, 'sigT_Mpc': 0.11128012641489779}\n",
      "entry = 3605, z = 3.5000, Delta2_p = 0.3173, n_p = -2.2950, alpha_p = -0.2300, f_p = 0.9860, mF = 0.4937, sigT_Mpc = 0.0992, gamma = 1.4023\n",
      "asked to emulate model {'Delta2_p': 0.30758350505290799, 'n_p': -2.3007135087498805, 'alpha_p': -0.21576273788697653, 'f_p': 0.98244156956366979, 'mF': 0.44633357154790776, 'gamma': 1.4314041022302444, 'sigT_Mpc': 0.10907211376093627}\n",
      "entry = 3662, z = 3.5000, Delta2_p = 0.3173, n_p = -2.2950, alpha_p = -0.2300, f_p = 0.9860, mF = 0.4552, sigT_Mpc = 0.1145, gamma = 1.4023\n",
      "asked to emulate model {'Delta2_p': 0.29021917083794507, 'n_p': -2.3007135087498805, 'alpha_p': -0.21576273788697711, 'f_p': 0.98359699813521018, 'mF': 0.39911365088156847, 'gamma': 1.4197651254234163, 'sigT_Mpc': 0.106979709622334}\n",
      "entry = 13281, z = 4.0000, Delta2_p = 0.2711, n_p = -2.2750, alpha_p = -0.2400, f_p = 0.9865, mF = 0.3956, sigT_Mpc = 0.0955, gamma = 1.4131\n",
      "asked to emulate model {'Delta2_p': 0.27436062941269912, 'n_p': -2.3007135087498822, 'alpha_p': -0.2157627378869697, 'f_p': 0.98457651207130714, 'mF': 0.35327175198505489, 'gamma': 1.4086718507731002, 'sigT_Mpc': 0.10499452325771577}\n",
      "entry = 3383, z = 4.0000, Delta2_p = 0.2577, n_p = -2.2950, alpha_p = -0.2300, f_p = 0.9894, mF = 0.3476, sigT_Mpc = 0.0973, gamma = 1.3694\n",
      "asked to emulate model {'Delta2_p': 0.25984139094962927, 'n_p': -2.3007135087498813, 'alpha_p': -0.21576273788696404, 'f_p': 0.9854157902553724, 'mF': 0.30937624518734685, 'gamma': 1.3980791308038094, 'sigT_Mpc': 0.10310874319194681}\n",
      "entry = 3440, z = 4.0000, Delta2_p = 0.2577, n_p = -2.2950, alpha_p = -0.2300, f_p = 0.9894, mF = 0.3068, sigT_Mpc = 0.1087, gamma = 1.3694\n"
     ]
    }
   ],
   "source": [
    "chi2=compute_likelihood.get_chi2(data,cosmo_fid,emu,rec_cosmo,mf_model,T_model,linP_Mpc_params,extra_info=False)"
   ]
  },
  {
   "cell_type": "markdown",
   "metadata": {
    "collapsed": false
   },
   "source": [
    "### Setup MCMC to call this function"
   ]
  },
  {
   "cell_type": "code",
   "execution_count": 56,
   "metadata": {
    "collapsed": true
   },
   "outputs": [],
   "source": [
    "def get_ln_tau_0(x):\n",
    "    ln_tau_min=-2.0\n",
    "    ln_tau_max=-0.2\n",
    "    return ln_tau_min+x*(ln_tau_max-ln_tau_min)"
   ]
  },
  {
   "cell_type": "code",
   "execution_count": 57,
   "metadata": {
    "collapsed": true
   },
   "outputs": [],
   "source": [
    "def get_ln_T_0(x):\n",
    "    ln_T_min=np.log(2000)\n",
    "    ln_T_max=np.log(40000)\n",
    "    return ln_T_min+x*(ln_T_max-ln_T_min)"
   ]
  },
  {
   "cell_type": "code",
   "execution_count": 58,
   "metadata": {
    "collapsed": true
   },
   "outputs": [],
   "source": [
    "def get_ln_gamma(x):\n",
    "    ln_gamma_min=np.log(0.5)\n",
    "    ln_gamma_max=np.log(2.5)\n",
    "    return ln_gamma_min+x*(ln_gamma_max-ln_gamma_min)"
   ]
  },
  {
   "cell_type": "code",
   "execution_count": 160,
   "metadata": {
    "collapsed": true
   },
   "outputs": [],
   "source": [
    "def lnprob(x,data,cosmo_fid,emu,rec_cosmo,linP_Mpc_params):\n",
    "    # for now priors are top hats in 0 < x < 1\n",
    "    if max(x) > 1.0: \n",
    "        return -np.inf\n",
    "    if min(x) < 0.0:\n",
    "        return -np.inf\n",
    "    # setup nuisance models\n",
    "    Nx=len(x)\n",
    "    ln_tau_0 = get_ln_tau_0(x[0])\n",
    "    mf_model=mean_flux_model.MeanFluxModel(z_tau=3.0,ln_tau_coeff=[3.18,ln_tau_0])\n",
    "    if Nx>1:\n",
    "        ln_T_0 = get_ln_T_0(x[1])\n",
    "        if Nx>2:\n",
    "            ln_gamma = get_ln_gamma(x[2])\n",
    "            T_model=thermal_model.ThermalModel(z_T=3.5,ln_T0_coeff=[0.0,ln_T_0],ln_gamma_coeff=[0.0,ln_gamma])\n",
    "        else:\n",
    "            T_model=thermal_model.ThermalModel(z_T=3.5,ln_T0_coeff=[0.0,ln_T_0])\n",
    "    else:\n",
    "        T_model=thermal_model.ThermalModel()\n",
    "    # compute chi2        \n",
    "    chi2=compute_likelihood.get_chi2(data,cosmo_fid,emu,rec_cosmo,mf_model,T_model,linP_Mpc_params,extra_info=False)\n",
    "    loglike=-0.5*chi2\n",
    "    # add smooth, weak prior to alleviate NGP in likelihood\n",
    "    loglike -= (x[0]-0.55)**2/0.01\n",
    "    print(x,'log like =',loglike)\n",
    "    return -0.5*chi2"
   ]
  },
  {
   "cell_type": "code",
   "execution_count": 186,
   "metadata": {
    "collapsed": false
   },
   "outputs": [],
   "source": [
    "# for now we'll have only three dimensions (mean flux, temperature, gamma)\n",
    "ndim=1\n",
    "# setup initial walkers\n",
    "nwalkers = 20\n",
    "p0 = np.random.rand(ndim * nwalkers).reshape((nwalkers, ndim))"
   ]
  },
  {
   "cell_type": "code",
   "execution_count": 189,
   "metadata": {
    "collapsed": false
   },
   "outputs": [
    {
     "data": {
      "text/plain": [
       "array([ 0.92028785,  0.43174328,  0.99152975,  0.85849316,  0.39651189,\n",
       "        0.99764454,  0.33255004,  0.40377375,  0.58052761,  0.40876655,\n",
       "        0.68159263,  0.42487656,  0.27184097,  0.12837793,  0.00205863,\n",
       "        0.26865597,  0.88690304,  0.83023637,  0.63610166,  0.11766678])"
      ]
     },
     "execution_count": 189,
     "metadata": {},
     "output_type": "execute_result"
    }
   ],
   "source": [
    "p0.flatten()"
   ]
  },
  {
   "cell_type": "code",
   "execution_count": 190,
   "metadata": {
    "collapsed": false
   },
   "outputs": [
    {
     "name": "stdout",
     "output_type": "stream",
     "text": [
      "[ 0.92028785] log like = -26315.3979422\n"
     ]
    },
    {
     "data": {
      "text/plain": [
       "-26301.686633107649"
      ]
     },
     "execution_count": 190,
     "metadata": {},
     "output_type": "execute_result"
    }
   ],
   "source": [
    "# test function\n",
    "lnprob(p0[0],data,cosmo_fid,emu,rec_cosmo,linP_Mpc_params)"
   ]
  },
  {
   "cell_type": "code",
   "execution_count": 196,
   "metadata": {
    "collapsed": false
   },
   "outputs": [],
   "source": [
    "# setup sampler\n",
    "emu.arxiv.verbose=False\n",
    "emu.verbose=False\n",
    "sampler = emcee.EnsembleSampler(nwalkers, ndim, lnprob, args=[data,cosmo_fid,emu,rec_cosmo,linP_Mpc_params])"
   ]
  },
  {
   "cell_type": "code",
   "execution_count": 197,
   "metadata": {
    "collapsed": false
   },
   "outputs": [
    {
     "name": "stdout",
     "output_type": "stream",
     "text": [
      "[ 0.92028785] log like = -26315.3979422\n",
      "[ 0.43174328] log like = -8829.63255156\n",
      "[ 0.99152975] log like = -33363.8087688\n",
      "[ 0.85849316] log like = -20099.3865088\n",
      "[ 0.39651189] log like = -10137.7431453\n",
      "[ 0.99764454] log like = -33274.4777655\n",
      "[ 0.33255004] log like = -12303.482252\n",
      "[ 0.40377375] log like = -9446.08204295\n",
      "[ 0.58052761] log like = -6526.70363673\n",
      "[ 0.40876655] log like = -9374.33231325\n",
      "[ 0.68159263] log like = -8383.60859982\n",
      "[ 0.42487656] log like = -8829.79967393\n",
      "[ 0.27184097] log like = -14551.622984\n",
      "[ 0.12837793] log like = -19946.8065192\n",
      "[ 0.00205863] log like = -21885.669416\n",
      "[ 0.26865597] log like = -14573.374124\n",
      "[ 0.88690304] log like = -23824.9236382\n",
      "[ 0.83023637] log like = -17013.9582781\n",
      "[ 0.63610166] log like = -7335.68856057\n",
      "[ 0.11766678] log like = -19947.7212035\n",
      "[ 0.9068121] log like = -24892.2430103\n",
      "[ 0.5406229] log like = -6565.19632022\n",
      "[ 0.36971086] log like = -10563.0155875\n",
      "[ 0.63344476] log like = -7120.05649664\n",
      "[ 0.33228301] log like = -12303.4938723\n",
      "[ 0.38274902] log like = -10367.5559276\n",
      "[ 0.58437899] log like = -6559.64122576\n",
      "[ 0.29195969] log like = -14048.5295318\n",
      "[ 0.65288862] log like = -7822.49161877\n",
      "[ 0.38245797] log like = -10367.5656716\n",
      "[ 0.2581953] log like = -15470.1108281\n",
      "[ 0.17246458] log like = -18555.0575016\n",
      "[ 0.45786733] log like = -7782.20613299\n",
      "[ 0.90538613] log like = -24892.1414527\n",
      "[ 0.85665254] log like = -19753.9480342\n",
      "[ 0.65356745] log like = -7822.50563358\n",
      "[ 0.34481135] log like = -11903.1656389\n",
      "[ 0.71599718] log like = -9967.6868655\n",
      "[ 0.54715197] log like = -6630.27928651\n",
      "[ 0.94344649] log like = -29442.6183644\n",
      "[ 0.37301371] log like = -10520.7518236\n",
      "[ 0.63265711] log like = -7120.0434135\n",
      "[ 0.33161776] log like = -12303.5228835\n",
      "[ 0.44264145] log like = -8485.95070928\n",
      "[ 0.56583245] log like = -6641.1974846\n",
      "[ 0.81487785] log like = -16353.3515344\n",
      "[ 0.33283804] log like = -12303.4697352\n",
      "[ 0.23615738] log like = -15904.7476516\n",
      "[ 0.03269486] log like = -21487.0299896\n",
      "[ 0.42134299] log like = -8939.73109167\n",
      "[ 0.79941367] log like = -14686.7735118\n",
      "[ 0.65158177] log like = -7849.19384124\n",
      "[ 0.36584784] log like = -10551.5674011\n",
      "[ 0.70989332] log like = -9597.12063879\n",
      "[ 0.51954758] log like = -6783.46417219\n",
      "[ 0.9500081] log like = -29479.0699677\n",
      "[ 0.80021591] log like = -14686.8135938\n",
      "[ 0.57775601] log like = -6517.01415796\n",
      "[ 0.30299928] log like = -13762.8723225\n",
      "[ 0.40855808] log like = -9374.33820637\n",
      "[ 0.46273509] log like = -7769.64048818\n",
      "[ 0.8859538] log like = -23824.8597678\n",
      "[ 0.71124908] log like = -9624.91900958\n",
      "[ 0.29639076] log like = -13803.5584092\n",
      "[ 0.19331279] log like = -18288.539405\n",
      "[ 0.32083771] log like = -12525.13489\n",
      "[ 0.49842513] log like = -7085.44446112\n",
      "[ 0.8685308] log like = -22527.3415536\n",
      "[ 0.70564985] log like = -9580.66341507\n",
      "[ 0.46232362] log like = -7769.64768646\n",
      "[ 0.72295976] log like = -9754.09224201\n",
      "[ 0.46202007] log like = -7769.65301855\n",
      "[ 0.83958095] log like = -17956.9538266\n",
      "[ 0.60441874] log like = -6888.82310344\n",
      "[ 0.79037682] log like = -15009.4644475\n",
      "[ 0.31492822] log like = -13366.0929768\n",
      "[ 0.41160412] log like = -9019.20267429\n",
      "[ 0.58713987] log like = -6695.77272514\n",
      "[ 0.74003592] log like = -11084.7601962\n",
      "[ 0.77873582] log like = -13618.7060354\n",
      "[ 0.48435815] log like = -7310.33080967\n",
      "[ 0.38905219] log like = -10367.3490582\n",
      "[ 0.44370913] log like = -8446.58140843\n",
      "[ 0.84005243] log like = -17956.9811552\n",
      "[ 0.72324686] log like = -9754.10218142\n",
      "[ 0.63192631] log like = -7120.0313859\n",
      "[ 0.35082464] log like = -11674.1175185\n",
      "[ 0.48211549] log like = -7339.06894692\n",
      "[ 0.93970141] log like = -28716.2100554\n",
      "[ 0.78556324] log like = -14442.7861112\n",
      "[ 0.59851965] log like = -6684.91391868\n",
      "[ 0.77595055] log like = -13605.7156164\n",
      "[ 0.05544157] log like = -21439.3008918\n",
      "[ 0.41516013] log like = -8939.89400833\n",
      "[ 0.55179416] log like = -6546.10925378\n",
      "[ 0.54406919] log like = -6544.46898891\n",
      "[ 0.632497] log like = -7120.04076928\n",
      "[ 0.42519568] log like = -8829.79169813\n",
      "[ 0.39845681] log like = -9789.51045555\n",
      "[ 0.39424433] log like = -10137.813268\n",
      "[ 0.26871576] log like = -14573.3707603\n",
      "[ 0.49313764] log like = -7124.14749806\n",
      "[ 0.87734568] log like = -22072.6711432\n",
      "[ 0.72620787] log like = -9909.17063561\n",
      "[ 0.69928705] log like = -9373.44773505\n",
      "[ 0.35144665] log like = -11674.0927795\n",
      "0 finished at [ 0.70989332  0.5406229   0.93970141  0.78556324  0.57775601  0.63265711\n",
      "  0.33161776  0.41516013  0.58052761  0.54406919  0.632497    0.48435815\n",
      "  0.39845681  0.39424433  0.32083771  0.49842513  0.84005243  0.72324686\n",
      "  0.63192631  0.46232362] [ -9594.56405156  -6565.18752722 -28701.0233369  -14437.2371071\n",
      "  -6516.93711834  -7119.3601938  -12298.75380336  -8938.07582917\n",
      "  -6526.61044324  -6544.46547145  -7119.3601938   -7309.8999244\n",
      "  -9787.21392178 -10135.3872852  -12519.8833546   -7085.17846444\n",
      " -17948.56811402  -9751.10073406  -7119.3601938   -7768.87897177]\n"
     ]
    }
   ],
   "source": [
    "# burn-in phase\n",
    "for i in range(1):\n",
    "    pos, prob, state = sampler.run_mcmc(p0, 5)\n",
    "    print(i,'finished at',pos.flatten(),prob)\n",
    "    p0=pos"
   ]
  },
  {
   "cell_type": "code",
   "execution_count": 205,
   "metadata": {
    "collapsed": false
   },
   "outputs": [
    {
     "name": "stdout",
     "output_type": "stream",
     "text": [
      "[ 0.70989332] log like = -9597.12063879\n",
      "[ 0.5406229] log like = -6565.19632022\n",
      "[ 0.93970141] log like = -28716.2100554\n",
      "[ 0.78556324] log like = -14442.7861112\n",
      "[ 0.57775601] log like = -6517.01415796\n",
      "[ 0.63265711] log like = -7120.0434135\n",
      "[ 0.33161776] log like = -12303.5228835\n",
      "[ 0.41516013] log like = -8939.89400833\n",
      "[ 0.58052761] log like = -6526.70363673\n",
      "[ 0.54406919] log like = -6544.46898891\n",
      "[ 0.632497] log like = -7120.04076928\n",
      "[ 0.48435815] log like = -7310.33080967\n",
      "[ 0.39845681] log like = -9789.51045555\n",
      "[ 0.39424433] log like = -10137.813268\n",
      "[ 0.32083771] log like = -12525.13489\n",
      "[ 0.49842513] log like = -7085.44446112\n",
      "[ 0.84005243] log like = -17956.9811552\n",
      "[ 0.72324686] log like = -9754.10218142\n",
      "[ 0.63192631] log like = -7120.0313859\n",
      "[ 0.46232362] log like = -7769.64768646\n",
      "[ 0.67327949] log like = -7956.44757362\n",
      "[ 0.52781764] log like = -6758.66081394\n",
      "[ 0.96673195] log like = -30316.4803513\n",
      "[ 0.64680135] log like = -7989.996514\n",
      "[ 0.52696353] log like = -6749.33933709\n",
      "[ 0.28778734] log like = -14048.7465997\n",
      "[ 0.46943658] log like = -7679.34061179\n",
      "[ 0.55330447] log like = -6546.11002383\n",
      "[ 0.63342773] log like = -7120.0562124\n",
      "[ 0.62057554] log like = -7179.12700113\n",
      "[ 0.48177554] log like = -7339.07357399\n",
      "[ 0.35244281] log like = -11674.0533204\n",
      "[ 0.46962409] log like = -7679.33759401\n",
      "[ 0.31471511] log like = -13754.7192372\n",
      "[ 0.40816239] log like = -9374.34941523\n",
      "[ 0.85077647] log like = -20318.0059651\n",
      "[ 0.66020963] log like = -7835.71121799\n",
      "[ 0.61166761] log like = -7078.89145449\n",
      "[ 0.37848786] log like = -10367.7002799\n",
      "0 [ 0.67327949  0.5406229   0.93970141  0.78556324  0.57775601  0.52696353\n",
      "  0.33161776  0.46943658  0.58052761  0.54406919  0.632497    0.48435815\n",
      "  0.39845681  0.46962409  0.32083771  0.49842513  0.84005243  0.66020963\n",
      "  0.61166761  0.46232362]\n",
      "[ 0.66883369] log like = -7910.37015188\n",
      "[ 0.5927994] log like = -6783.32180778\n",
      "[ 0.79966122] log like = -14686.7858661\n",
      "[ 0.52499245] log like = -6783.43397495\n",
      "[ 0.4537972] log like = -7761.19644729\n",
      "[ 0.38832461] log like = -10367.3725315\n",
      "[ 0.31182872] log like = -13782.8485235\n",
      "[ 0.70425907] log like = -9580.62031336\n",
      "[ 0.49588352] log like = -7124.11702457\n",
      "[ 0.67697447] log like = -8421.84695613\n",
      "[ 0.50190337] log like = -6966.42010654\n",
      "[ 0.31205022] log like = -13754.8453494\n",
      "[ 0.49253678] log like = -7124.15436745\n",
      "[ 0.29671128] log like = -13803.542162\n",
      "[ 0.50380857] log like = -6975.46823874\n",
      "[ 0.86088278] log like = -20234.9152447\n",
      "[ 0.68306893] log like = -8358.17929803\n",
      "[ 0.61673942] log like = -7218.3693753\n",
      "[ 0.52344347] log like = -6783.44196214\n",
      "1 [ 0.66883369  0.5406229   0.93970141  0.78556324  0.57775601  0.52696353\n",
      "  0.38832461  0.46943658  0.58052761  0.54406919  0.632497    0.50190337\n",
      "  0.39845681  0.49253678  0.32083771  0.50380857  0.84005243  0.66020963\n",
      "  0.61166761  0.52344347]\n",
      "[ 0.616482] log like = -7161.81627547\n",
      "[ 0.60759721] log like = -6996.40159546\n",
      "[ 0.97599654] log like = -31123.4482412\n",
      "[ 0.83993673] log like = -17956.9744449\n",
      "[ 0.64936455] log like = -7843.97708061\n",
      "[ 0.55659321] log like = -6546.58193473\n",
      "[ 0.37725491] log like = -10367.7427249\n",
      "[ 0.51831033] log like = -6783.47186071\n",
      "[ 0.53272318] log like = -6623.87351895\n",
      "[ 0.54216789] log like = -6544.47160564\n",
      "[ 0.68575332] log like = -8760.20027576\n",
      "[ 0.40531502] log like = -9374.43099902\n",
      "[ 0.43176034] log like = -8829.63214804\n",
      "[ 0.49952619] log like = -6972.69128141\n",
      "[ 0.51902539] log like = -6783.46737983\n",
      "[ 0.46043293] log like = -7769.68119785\n",
      "[ 0.76949431] log like = -12598.4475328\n",
      "[ 0.64565838] log like = -7748.71213832\n",
      "[ 0.60835326] log like = -6996.41036192\n",
      "[ 0.52150861] log like = -6783.45261314\n",
      "2 [ 0.616482    0.5406229   0.93970141  0.78556324  0.57775601  0.55659321\n",
      "  0.37725491  0.51831033  0.58052761  0.54216789  0.632497    0.50190337\n",
      "  0.43176034  0.49952619  0.51902539  0.50380857  0.76949431  0.64565838\n",
      "  0.60835326  0.52150861]\n",
      "[ 0.51681479] log like = -6834.59179674\n",
      "[ 0.58597179] log like = -6641.86816322\n",
      "[ 0.80305332] log like = -14494.9030489\n",
      "[ 0.57101166] log like = -6527.5992121\n",
      "[ 0.53064022] log like = -6758.64908831\n",
      "[ 0.38956921] log like = -10367.3324424\n",
      "[ 0.53656874] log like = -6689.59746794\n",
      "[ 0.61722056] log like = -7218.37582064\n",
      "[ 0.56727689] log like = -6545.5093433\n",
      "[ 0.65194504] log like = -7849.2012347\n",
      "[ 0.47530191] log like = -7647.79616999\n",
      "[ 0.43800219] log like = -8509.94331557\n",
      "[ 0.50523049] log like = -6975.45530481\n",
      "[ 0.59838556] log like = -6684.91261924\n",
      "[ 0.26309721] log like = -15275.0894539\n",
      "[ 0.76430568] log like = -12505.1155876\n",
      "[ 0.74879576] log like = -11231.1417421\n",
      "[ 0.5781987] log like = -6517.01663502\n",
      "[ 0.50210688] log like = -6966.41815302\n",
      "3 [ 0.51681479  0.5406229   0.80305332  0.78556324  0.57775601  0.55659321\n",
      "  0.38956921  0.53656874  0.58052761  0.54216789  0.632497    0.50190337\n",
      "  0.43800219  0.49952619  0.59838556  0.50380857  0.76430568  0.64565838\n",
      "  0.5781987   0.52150861]\n",
      "[ 0.51252105] log like = -6829.71498894\n",
      "[ 0.56834018] log like = -6545.51313044\n",
      "[ 0.83925946] log like = -17956.9352177\n",
      "[ 0.7166649] log like = -9967.70907816\n",
      "[ 0.57457638] log like = -6527.615463\n",
      "[ 0.53824593] log like = -6689.59324389\n",
      "[ 0.45446798] log like = -7761.18358598\n",
      "[ 0.5434157] log like = -6544.46980675\n",
      "[ 0.58039988] log like = -6526.7028585\n",
      "[ 0.51570907] log like = -6789.090269\n",
      "[ 0.60209243] log like = -6633.5381322\n",
      "[ 0.47296615] log like = -7606.80887384\n",
      "[ 0.44052985] log like = -8509.88733586\n",
      "[ 0.50554992] log like = -6975.45245481\n",
      "[ 0.67014437] log like = -7937.68634727\n",
      "[ 0.49809452] log like = -7085.44788238\n",
      "[ 0.91352133] log like = -25635.0045702\n",
      "[ 0.60453985] log like = -6888.82442299\n",
      "[ 0.56405216] log like = -6685.33650395\n",
      "[ 0.52325318] log like = -6783.44297644\n",
      "4 [ 0.51252105  0.56834018  0.80305332  0.7166649   0.57775601  0.55659321\n",
      "  0.45446798  0.5434157   0.58039988  0.54216789  0.60209243  0.50190337\n",
      "  0.44052985  0.49952619  0.59838556  0.50380857  0.76430568  0.60453985\n",
      "  0.5781987   0.52325318]\n",
      "[ 0.54451882] log like = -6544.46847578\n",
      "[ 0.59610547] log like = -6738.92641558\n",
      "[ 0.80658373] log like = -15160.3481833\n",
      "[ 0.61435507] log like = -7198.74505087\n",
      "[ 0.54777468] log like = -6613.87906953\n",
      "[ 0.56720651] log like = -6545.50910062\n",
      "[ 0.43130905] log like = -8829.64284047\n",
      "[ 0.44281588] log like = -8485.94696685\n",
      "[ 0.60022541] log like = -6661.10254566\n",
      "[ 0.54376938] log like = -6544.46935351\n",
      "[ 0.62216114] log like = -7165.61906547\n",
      "[ 0.46248632] log like = -7769.64483628\n",
      "[ 0.43999446] log like = -8509.89908649\n",
      "[ 0.45712831] log like = -7797.90366497\n",
      "[ 0.63040789] log like = -7120.00673667\n",
      "[ 0.51652472] log like = -6789.08474166\n",
      "[ 0.75115363] log like = -11849.3649736\n",
      "[ 0.60781431] log like = -6996.40410109\n",
      "[ 0.63995596] log like = -7673.47283724\n",
      "[ 0.49316596] log like = -7124.14717602\n",
      "5 [ 0.54451882  0.56834018  0.80305332  0.61435507  0.57775601  0.56720651\n",
      "  0.45446798  0.5434157   0.58039988  0.54376938  0.60209243  0.50190337\n",
      "  0.43999446  0.49952619  0.59838556  0.51652472  0.75115363  0.60453985\n",
      "  0.5781987   0.52325318]\n",
      "[ 0.54106395] log like = -6565.19551251\n",
      "[ 0.57731044] log like = -6517.01170434\n",
      "[ 0.83735259] log like = -17969.3644873\n",
      "[ 0.57106302] log like = -6527.59942819\n",
      "[ 0.54847943] log like = -6613.87880554\n",
      "[ 0.56866761] log like = -6545.51434218\n",
      "[ 0.41310204] log like = -9019.16143763\n",
      "[ 0.56647024] log like = -6545.5066211\n",
      "emcee: Exception while calling your likelihood function:\n",
      "  params: [ 0.58160515]\n",
      "  args: [<data_PD2013.P1D_PD2013 object at 0x1121c0400>, class: <CAMBparams>\n",
      " WantCls = True\n",
      " WantTransfer = True\n",
      " WantScalars = True\n",
      " WantTensors = False\n",
      " WantVectors = False\n",
      " WantDerivedParameters = True\n",
      " Want_cl_2D_array = True\n",
      " Want_CMB = True\n",
      " Want_CMB_lensing = True\n",
      " DoLensing = True\n",
      " NonLinear = NonLinear_none\n",
      " Transfer: <TransferParams>\n",
      "   high_precision = True\n",
      "   accurate_massive_neutrinos = False\n",
      "   kmax = 60.0\n",
      "   k_per_logint = 0\n",
      "   PK_num_redshifts = 3\n",
      "   PK_redshifts = [4.444, 4.4, 4.356000000000001]\n",
      " want_zstar = False\n",
      " want_zdrag = False\n",
      " min_l = 2\n",
      " max_l = 2500\n",
      " max_l_tensor = 600\n",
      " max_eta_k = 5000.0\n",
      " max_eta_k_tensor = 1200.0\n",
      " ombh2 = 0.022\n",
      " omch2 = 0.12\n",
      " omk = 0.0\n",
      " omnuh2 = 0.0\n",
      " H0 = 67.0\n",
      " TCMB = 2.7255\n",
      " YHe = 0.24524332588411976\n",
      " num_nu_massless = 3.046\n",
      " num_nu_massive = 0\n",
      " nu_mass_eigenstates = 0\n",
      " share_delta_neff = False\n",
      " nu_mass_degeneracies = []\n",
      " nu_mass_fractions = []\n",
      " nu_mass_numbers = []\n",
      " InitPower: <InitialPowerLaw>\n",
      "   tensor_parameterization = tensor_param_rpivot\n",
      "   ns = 0.965\n",
      "   nrun = 0.0\n",
      "   nrunrun = 0.0\n",
      "   nt = -0.0\n",
      "   ntrun = -0.0\n",
      "   r = 0.0\n",
      "   pivot_scalar = 0.05\n",
      "   pivot_tensor = 0.05\n",
      "   As = 2.1e-09\n",
      "   At = 1.0\n",
      " Recomb: <Recfast>\n",
      "   min_a_evolve_Tm = 0.0011098779505118728\n",
      "   RECFAST_fudge = 1.125\n",
      "   RECFAST_fudge_He = 0.86\n",
      "   RECFAST_Heswitch = 6\n",
      "   RECFAST_Hswitch = True\n",
      "   AGauss1 = -0.14\n",
      "   AGauss2 = 0.079\n",
      "   zGauss1 = 7.28\n",
      "   zGauss2 = 6.73\n",
      "   wGauss1 = 0.18\n",
      "   wGauss2 = 0.33\n",
      " Reion: <TanhReionization>\n",
      "   Reionization = True\n",
      "   use_optical_depth = False\n",
      "   redshift = 10.0\n",
      "   optical_depth = 0.0\n",
      "   delta_redshift = 0.5\n",
      "   fraction = -1.0\n",
      "   include_helium_fullreion = True\n",
      "   helium_redshift = 3.5\n",
      "   helium_delta_redshift = 0.4\n",
      "   helium_redshiftstart = 5.5\n",
      "   tau_solve_accuracy_boost = 1.0\n",
      "   timestep_boost = 1.0\n",
      "   max_redshift = 50.0\n",
      " DarkEnergy: <DarkEnergyFluid>\n",
      "   w = -1.0\n",
      "   wa = 0.0\n",
      "   cs2 = 1.0\n",
      "   use_tabulated_w = False\n",
      " NonLinearModel: <Halofit>\n",
      "   Min_kh_nonlinear = 0.005\n",
      "   halofit_version = mead\n",
      " Accuracy: <AccuracyParams>\n",
      "   AccuracyBoost = 1.0\n",
      "   lSampleBoost = 1.0\n",
      "   lAccuracyBoost = 1.0\n",
      "   AccuratePolarization = True\n",
      "   AccurateBB = False\n",
      "   AccurateReionization = True\n",
      "   TimeStepBoost = 1.0\n",
      "   BackgroundTimeStepBoost = 1.0\n",
      "   IntTolBoost = 1.0\n",
      "   SourcekAccuracyBoost = 1.0\n",
      "   IntkAccuracyBoost = 1.0\n",
      "   TransferkBoost = 1.0\n",
      "   NonFlatIntAccuracyBoost = 1.0\n",
      "   BessIntBoost = 1.0\n",
      "   LensingBoost = 1.0\n",
      "   NonlinSourceBoost = 1.0\n",
      "   BesselBoost = 1.0\n",
      "   LimberBoost = 1.0\n",
      "   SourceLimberBoost = 1.0\n",
      "   KmaxBoost = 1.0\n",
      "   neutrino_q_boost = 1.0\n",
      " SourceTerms: <SourceTermParams>\n",
      "   limber_windows = True\n",
      "   limber_phi_lmin = 100\n",
      "   counts_density = True\n",
      "   counts_redshift = True\n",
      "   counts_lensing = False\n",
      "   counts_velocity = True\n",
      "   counts_radial = False\n",
      "   counts_timedelay = True\n",
      "   counts_ISW = True\n",
      "   counts_potential = True\n",
      "   counts_evolve = False\n",
      "   line_phot_dipole = False\n",
      "   line_phot_quadrupole = False\n",
      "   line_basic = True\n",
      "   line_distortions = True\n",
      "   line_extra = False\n",
      "   line_reionization = False\n",
      "   use_21cm_mK = True\n",
      " z_outputs = []\n",
      " scalar_initial_condition = initial_adiabatic\n",
      " InitialConditionVector = []\n",
      " OutputNormalization = 1\n",
      " Alens = 1.0\n",
      " MassiveNuMethod = Nu_best\n",
      " DoLateRadTruncation = True\n",
      " Evolve_baryon_cs = False\n",
      " Evolve_delta_xe = False\n",
      " Evolve_delta_Ts = False\n",
      " Do21cm = False\n",
      " transfer_21cm_cl = False\n",
      " Log_lvalues = False\n",
      " use_cl_spline_template = True\n",
      " SourceWindows = []\n",
      " CustomSources: <CustomSources>\n",
      "   num_custom_sources = 0\n",
      "   c_source_func = None\n",
      "   custom_source_ell_scales = []\n",
      " , <simplest_emulator.SimplestEmulator object at 0x11c6c4ba8>, <recons_cosmo.ReconstructedCosmology object at 0x11bfcea90>, [{'Delta2_p': 0.52940508668690001, 'n_p': -2.3007135087498813, 'alpha_p': -0.21576273788697528, 'f_p': 0.95899824656437238, 'mF': 0.82726936033700305, 'gamma': 1.5523173420452847, 'sigT_Mpc': 0.13071399425598651}, {'Delta2_p': 0.49084504946668728, 'n_p': -2.3007135087498813, 'alpha_p': -0.21576273788698067, 'f_p': 0.96442738525451488, 'mF': 0.79457836060450782, 'gamma': 1.5336092579325602, 'sigT_Mpc': 0.12746008021889133}, {'Delta2_p': 0.45603102701476073, 'n_p': -2.3007135087498813, 'alpha_p': -0.21576273788697409, 'f_p': 0.96877063491350479, 'mF': 0.75898100332520968, 'gamma': 1.5161773512573462, 'sigT_Mpc': 0.12437244717799824}, {'Delta2_p': 0.42463796726199332, 'n_p': -2.3007135087498813, 'alpha_p': -0.2157627378869619, 'f_p': 0.97227822727415136, 'mF': 0.72071294650383921, 'gamma': 1.4998705770834098, 'sigT_Mpc': 0.12145041127572205}, {'Delta2_p': 0.3963222761532938, 'n_p': -2.3007135087498813, 'alpha_p': -0.21576273788697364, 'f_p': 0.97514327324728511, 'mF': 0.68008339469280621, 'gamma': 1.4845625705324339, 'sigT_Mpc': 0.1186885644151414}, {'Delta2_p': 0.3707514234608501, 'n_p': -2.3007135087498813, 'alpha_p': -0.21576273788697739, 'f_p': 0.97749755431559493, 'mF': 0.6374704018087245, 'gamma': 1.4701466103212635, 'sigT_Mpc': 0.11607900001346579}, {'Delta2_p': 0.34761780307480111, 'n_p': -2.3007135087498805, 'alpha_p': -0.21576273788696995, 'f_p': 0.97944520219171294, 'mF': 0.59331307674662803, 'gamma': 1.4565317960122977, 'sigT_Mpc': 0.11361265770091636}, {'Delta2_p': 0.32664399893257223, 'n_p': -2.3007135087498813, 'alpha_p': -0.21576273788697467, 'f_p': 0.98107318967205248, 'mF': 0.54810076819719022, 'gamma': 1.4436401056449923, 'sigT_Mpc': 0.11128012641489779}, {'Delta2_p': 0.30758350505290799, 'n_p': -2.3007135087498805, 'alpha_p': -0.21576273788697653, 'f_p': 0.98244156956366979, 'mF': 0.50235950506240812, 'gamma': 1.4314041022302444, 'sigT_Mpc': 0.10907211376093627}, {'Delta2_p': 0.29021917083794507, 'n_p': -2.3007135087498805, 'alpha_p': -0.21576273788697711, 'f_p': 0.98359699813521018, 'mF': 0.45663617421646152, 'gamma': 1.4197651254234163, 'sigT_Mpc': 0.106979709622334}, {'Delta2_p': 0.27436062941269912, 'n_p': -2.3007135087498822, 'alpha_p': -0.2157627378869697, 'f_p': 0.98457651207130714, 'mF': 0.41148111051090303, 'gamma': 1.4086718507731002, 'sigT_Mpc': 0.10499452325771577}, {'Delta2_p': 0.25984139094962927, 'n_p': -2.3007135087498813, 'alpha_p': -0.21576273788696404, 'f_p': 0.9854157902553724, 'mF': 0.37745094440042476, 'gamma': 1.3980791308038094, 'sigT_Mpc': 0.10310874319194681}]]\n",
      "  kwargs: {}\n",
      "  exception:\n"
     ]
    },
    {
     "name": "stderr",
     "output_type": "stream",
     "text": [
      "Traceback (most recent call last):\n",
      "  File \"/Users/font/Programs/Others/anaconda3/lib/python3.6/site-packages/emcee/ensemble.py\", line 519, in __call__\n",
      "    return self.f(x, *self.args, **self.kwargs)\n",
      "  File \"<ipython-input-160-2d91a65a800e>\", line 21, in lnprob\n",
      "    chi2=compute_likelihood.get_chi2(data,cosmo_fid,emu,rec_cosmo,mf_model,T_model,linP_Mpc_params,extra_info=False)\n",
      "  File \"/Users/font/Programs/Others/anaconda3/lib/python3.6/site-packages/compute_likelihood.py\", line 60, in get_chi2\n",
      "    mf_model,T_model,linP_Mpc_params[iz],extra_info)\n",
      "  File \"/Users/font/Programs/Others/anaconda3/lib/python3.6/site-packages/compute_likelihood.py\", line 17, in emulate_p1d\n",
      "    emu_p1d=emu.emulate_p1d(model)\n",
      "  File \"/Users/font/Programs/Others/anaconda3/lib/python3.6/site-packages/simplest_emulator.py\", line 87, in emulate_p1d\n",
      "    nearest_model = self.get_nearest_model(model)\n",
      "  File \"/Users/font/Programs/Others/anaconda3/lib/python3.6/site-packages/simplest_emulator.py\", line 75, in get_nearest_model\n",
      "    nearest = self.find_nearest_model(model)\n",
      "  File \"/Users/font/Programs/Others/anaconda3/lib/python3.6/site-packages/simplest_emulator.py\", line 65, in find_nearest_model\n",
      "    distances = self.get_distances(model)\n",
      "  File \"/Users/font/Programs/Others/anaconda3/lib/python3.6/site-packages/simplest_emulator.py\", line 56, in get_distances\n",
      "    distances[i]=self.get_distance(model,self.arxiv.data[i])\n",
      "  File \"/Users/font/Programs/Others/anaconda3/lib/python3.6/site-packages/simplest_emulator.py\", line 44, in get_distance\n",
      "    distance += (dx/sigma)**2\n",
      "KeyboardInterrupt\n"
     ]
    },
    {
     "ename": "KeyboardInterrupt",
     "evalue": "",
     "output_type": "error",
     "traceback": [
      "\u001b[0;31m---------------------------------------------------------------------------\u001b[0m",
      "\u001b[0;31mKeyboardInterrupt\u001b[0m                         Traceback (most recent call last)",
      "\u001b[0;32m<ipython-input-205-b562665504cd>\u001b[0m in \u001b[0;36m<module>\u001b[0;34m()\u001b[0m\n\u001b[1;32m      2\u001b[0m \u001b[0msampler\u001b[0m\u001b[0;34m.\u001b[0m\u001b[0mreset\u001b[0m\u001b[0;34m(\u001b[0m\u001b[0;34m)\u001b[0m\u001b[0;34m\u001b[0m\u001b[0;34m\u001b[0m\u001b[0m\n\u001b[1;32m      3\u001b[0m \u001b[0mnsteps\u001b[0m\u001b[0;34m=\u001b[0m\u001b[0;36m100\u001b[0m\u001b[0;34m\u001b[0m\u001b[0;34m\u001b[0m\u001b[0m\n\u001b[0;32m----> 4\u001b[0;31m \u001b[0;32mfor\u001b[0m \u001b[0mi\u001b[0m\u001b[0;34m,\u001b[0m \u001b[0mresult\u001b[0m \u001b[0;32min\u001b[0m \u001b[0menumerate\u001b[0m\u001b[0;34m(\u001b[0m\u001b[0msampler\u001b[0m\u001b[0;34m.\u001b[0m\u001b[0msample\u001b[0m\u001b[0;34m(\u001b[0m\u001b[0mpos\u001b[0m\u001b[0;34m,\u001b[0m \u001b[0miterations\u001b[0m\u001b[0;34m=\u001b[0m\u001b[0mnsteps\u001b[0m\u001b[0;34m)\u001b[0m\u001b[0;34m)\u001b[0m\u001b[0;34m:\u001b[0m\u001b[0;34m\u001b[0m\u001b[0;34m\u001b[0m\u001b[0m\n\u001b[0m\u001b[1;32m      5\u001b[0m     \u001b[0;31m#if (i+1) % 2 == 0:\u001b[0m\u001b[0;34m\u001b[0m\u001b[0;34m\u001b[0m\u001b[0;34m\u001b[0m\u001b[0m\n\u001b[1;32m      6\u001b[0m     \u001b[0mprint\u001b[0m\u001b[0;34m(\u001b[0m\u001b[0mi\u001b[0m\u001b[0;34m,\u001b[0m\u001b[0mresult\u001b[0m\u001b[0;34m[\u001b[0m\u001b[0;36m0\u001b[0m\u001b[0;34m]\u001b[0m\u001b[0;34m.\u001b[0m\u001b[0mflatten\u001b[0m\u001b[0;34m(\u001b[0m\u001b[0;34m)\u001b[0m\u001b[0;34m)\u001b[0m\u001b[0;34m\u001b[0m\u001b[0;34m\u001b[0m\u001b[0m\n",
      "\u001b[0;32m/Users/font/Programs/Others/anaconda3/lib/python3.6/site-packages/emcee/ensemble.py\u001b[0m in \u001b[0;36msample\u001b[0;34m(self, p0, lnprob0, rstate0, blobs0, iterations, thin, storechain, mh_proposal)\u001b[0m\n\u001b[1;32m    257\u001b[0m                 \u001b[0;32mfor\u001b[0m \u001b[0mS0\u001b[0m\u001b[0;34m,\u001b[0m \u001b[0mS1\u001b[0m \u001b[0;32min\u001b[0m \u001b[0;34m[\u001b[0m\u001b[0;34m(\u001b[0m\u001b[0mfirst\u001b[0m\u001b[0;34m,\u001b[0m \u001b[0msecond\u001b[0m\u001b[0;34m)\u001b[0m\u001b[0;34m,\u001b[0m \u001b[0;34m(\u001b[0m\u001b[0msecond\u001b[0m\u001b[0;34m,\u001b[0m \u001b[0mfirst\u001b[0m\u001b[0;34m)\u001b[0m\u001b[0;34m]\u001b[0m\u001b[0;34m:\u001b[0m\u001b[0;34m\u001b[0m\u001b[0;34m\u001b[0m\u001b[0m\n\u001b[1;32m    258\u001b[0m                     q, newlnp, acc, blob = self._propose_stretch(p[S0], p[S1],\n\u001b[0;32m--> 259\u001b[0;31m                                                                  lnprob[S0])\n\u001b[0m\u001b[1;32m    260\u001b[0m                     \u001b[0;32mif\u001b[0m \u001b[0mnp\u001b[0m\u001b[0;34m.\u001b[0m\u001b[0many\u001b[0m\u001b[0;34m(\u001b[0m\u001b[0macc\u001b[0m\u001b[0;34m)\u001b[0m\u001b[0;34m:\u001b[0m\u001b[0;34m\u001b[0m\u001b[0;34m\u001b[0m\u001b[0m\n\u001b[1;32m    261\u001b[0m                         \u001b[0;31m# Update the positions, log probabilities and\u001b[0m\u001b[0;34m\u001b[0m\u001b[0;34m\u001b[0m\u001b[0;34m\u001b[0m\u001b[0m\n",
      "\u001b[0;32m/Users/font/Programs/Others/anaconda3/lib/python3.6/site-packages/emcee/ensemble.py\u001b[0m in \u001b[0;36m_propose_stretch\u001b[0;34m(self, p0, p1, lnprob0)\u001b[0m\n\u001b[1;32m    330\u001b[0m         \u001b[0;31m# Calculate the proposed positions and the log-probability there.\u001b[0m\u001b[0;34m\u001b[0m\u001b[0;34m\u001b[0m\u001b[0;34m\u001b[0m\u001b[0m\n\u001b[1;32m    331\u001b[0m         \u001b[0mq\u001b[0m \u001b[0;34m=\u001b[0m \u001b[0mc\u001b[0m\u001b[0;34m[\u001b[0m\u001b[0mrint\u001b[0m\u001b[0;34m]\u001b[0m \u001b[0;34m-\u001b[0m \u001b[0mzz\u001b[0m\u001b[0;34m[\u001b[0m\u001b[0;34m:\u001b[0m\u001b[0;34m,\u001b[0m \u001b[0mnp\u001b[0m\u001b[0;34m.\u001b[0m\u001b[0mnewaxis\u001b[0m\u001b[0;34m]\u001b[0m \u001b[0;34m*\u001b[0m \u001b[0;34m(\u001b[0m\u001b[0mc\u001b[0m\u001b[0;34m[\u001b[0m\u001b[0mrint\u001b[0m\u001b[0;34m]\u001b[0m \u001b[0;34m-\u001b[0m \u001b[0ms\u001b[0m\u001b[0;34m)\u001b[0m\u001b[0;34m\u001b[0m\u001b[0;34m\u001b[0m\u001b[0m\n\u001b[0;32m--> 332\u001b[0;31m         \u001b[0mnewlnprob\u001b[0m\u001b[0;34m,\u001b[0m \u001b[0mblob\u001b[0m \u001b[0;34m=\u001b[0m \u001b[0mself\u001b[0m\u001b[0;34m.\u001b[0m\u001b[0m_get_lnprob\u001b[0m\u001b[0;34m(\u001b[0m\u001b[0mq\u001b[0m\u001b[0;34m)\u001b[0m\u001b[0;34m\u001b[0m\u001b[0;34m\u001b[0m\u001b[0m\n\u001b[0m\u001b[1;32m    333\u001b[0m \u001b[0;34m\u001b[0m\u001b[0m\n\u001b[1;32m    334\u001b[0m         \u001b[0;31m# Decide whether or not the proposals should be accepted.\u001b[0m\u001b[0;34m\u001b[0m\u001b[0;34m\u001b[0m\u001b[0;34m\u001b[0m\u001b[0m\n",
      "\u001b[0;32m/Users/font/Programs/Others/anaconda3/lib/python3.6/site-packages/emcee/ensemble.py\u001b[0m in \u001b[0;36m_get_lnprob\u001b[0;34m(self, pos)\u001b[0m\n\u001b[1;32m    380\u001b[0m \u001b[0;34m\u001b[0m\u001b[0m\n\u001b[1;32m    381\u001b[0m         \u001b[0;31m# Run the log-probability calculations (optionally in parallel).\u001b[0m\u001b[0;34m\u001b[0m\u001b[0;34m\u001b[0m\u001b[0;34m\u001b[0m\u001b[0m\n\u001b[0;32m--> 382\u001b[0;31m         \u001b[0mresults\u001b[0m \u001b[0;34m=\u001b[0m \u001b[0mlist\u001b[0m\u001b[0;34m(\u001b[0m\u001b[0mM\u001b[0m\u001b[0;34m(\u001b[0m\u001b[0mself\u001b[0m\u001b[0;34m.\u001b[0m\u001b[0mlnprobfn\u001b[0m\u001b[0;34m,\u001b[0m \u001b[0;34m[\u001b[0m\u001b[0mp\u001b[0m\u001b[0;34m[\u001b[0m\u001b[0mi\u001b[0m\u001b[0;34m]\u001b[0m \u001b[0;32mfor\u001b[0m \u001b[0mi\u001b[0m \u001b[0;32min\u001b[0m \u001b[0mrange\u001b[0m\u001b[0;34m(\u001b[0m\u001b[0mlen\u001b[0m\u001b[0;34m(\u001b[0m\u001b[0mp\u001b[0m\u001b[0;34m)\u001b[0m\u001b[0;34m)\u001b[0m\u001b[0;34m]\u001b[0m\u001b[0;34m)\u001b[0m\u001b[0;34m)\u001b[0m\u001b[0;34m\u001b[0m\u001b[0;34m\u001b[0m\u001b[0m\n\u001b[0m\u001b[1;32m    383\u001b[0m \u001b[0;34m\u001b[0m\u001b[0m\n\u001b[1;32m    384\u001b[0m         \u001b[0;32mtry\u001b[0m\u001b[0;34m:\u001b[0m\u001b[0;34m\u001b[0m\u001b[0;34m\u001b[0m\u001b[0m\n",
      "\u001b[0;32m/Users/font/Programs/Others/anaconda3/lib/python3.6/site-packages/emcee/ensemble.py\u001b[0m in \u001b[0;36m__call__\u001b[0;34m(self, x)\u001b[0m\n\u001b[1;32m    517\u001b[0m     \u001b[0;32mdef\u001b[0m \u001b[0m__call__\u001b[0m\u001b[0;34m(\u001b[0m\u001b[0mself\u001b[0m\u001b[0;34m,\u001b[0m \u001b[0mx\u001b[0m\u001b[0;34m)\u001b[0m\u001b[0;34m:\u001b[0m\u001b[0;34m\u001b[0m\u001b[0;34m\u001b[0m\u001b[0m\n\u001b[1;32m    518\u001b[0m         \u001b[0;32mtry\u001b[0m\u001b[0;34m:\u001b[0m\u001b[0;34m\u001b[0m\u001b[0;34m\u001b[0m\u001b[0m\n\u001b[0;32m--> 519\u001b[0;31m             \u001b[0;32mreturn\u001b[0m \u001b[0mself\u001b[0m\u001b[0;34m.\u001b[0m\u001b[0mf\u001b[0m\u001b[0;34m(\u001b[0m\u001b[0mx\u001b[0m\u001b[0;34m,\u001b[0m \u001b[0;34m*\u001b[0m\u001b[0mself\u001b[0m\u001b[0;34m.\u001b[0m\u001b[0margs\u001b[0m\u001b[0;34m,\u001b[0m \u001b[0;34m**\u001b[0m\u001b[0mself\u001b[0m\u001b[0;34m.\u001b[0m\u001b[0mkwargs\u001b[0m\u001b[0;34m)\u001b[0m\u001b[0;34m\u001b[0m\u001b[0;34m\u001b[0m\u001b[0m\n\u001b[0m\u001b[1;32m    520\u001b[0m         \u001b[0;32mexcept\u001b[0m\u001b[0;34m:\u001b[0m\u001b[0;34m\u001b[0m\u001b[0;34m\u001b[0m\u001b[0m\n\u001b[1;32m    521\u001b[0m             \u001b[0;32mimport\u001b[0m \u001b[0mtraceback\u001b[0m\u001b[0;34m\u001b[0m\u001b[0;34m\u001b[0m\u001b[0m\n",
      "\u001b[0;32m<ipython-input-160-2d91a65a800e>\u001b[0m in \u001b[0;36mlnprob\u001b[0;34m(x, data, cosmo_fid, emu, rec_cosmo, linP_Mpc_params)\u001b[0m\n\u001b[1;32m     19\u001b[0m         \u001b[0mT_model\u001b[0m\u001b[0;34m=\u001b[0m\u001b[0mthermal_model\u001b[0m\u001b[0;34m.\u001b[0m\u001b[0mThermalModel\u001b[0m\u001b[0;34m(\u001b[0m\u001b[0;34m)\u001b[0m\u001b[0;34m\u001b[0m\u001b[0;34m\u001b[0m\u001b[0m\n\u001b[1;32m     20\u001b[0m     \u001b[0;31m# compute chi2\u001b[0m\u001b[0;34m\u001b[0m\u001b[0;34m\u001b[0m\u001b[0;34m\u001b[0m\u001b[0m\n\u001b[0;32m---> 21\u001b[0;31m     \u001b[0mchi2\u001b[0m\u001b[0;34m=\u001b[0m\u001b[0mcompute_likelihood\u001b[0m\u001b[0;34m.\u001b[0m\u001b[0mget_chi2\u001b[0m\u001b[0;34m(\u001b[0m\u001b[0mdata\u001b[0m\u001b[0;34m,\u001b[0m\u001b[0mcosmo_fid\u001b[0m\u001b[0;34m,\u001b[0m\u001b[0memu\u001b[0m\u001b[0;34m,\u001b[0m\u001b[0mrec_cosmo\u001b[0m\u001b[0;34m,\u001b[0m\u001b[0mmf_model\u001b[0m\u001b[0;34m,\u001b[0m\u001b[0mT_model\u001b[0m\u001b[0;34m,\u001b[0m\u001b[0mlinP_Mpc_params\u001b[0m\u001b[0;34m,\u001b[0m\u001b[0mextra_info\u001b[0m\u001b[0;34m=\u001b[0m\u001b[0;32mFalse\u001b[0m\u001b[0;34m)\u001b[0m\u001b[0;34m\u001b[0m\u001b[0;34m\u001b[0m\u001b[0m\n\u001b[0m\u001b[1;32m     22\u001b[0m     \u001b[0mloglike\u001b[0m\u001b[0;34m=\u001b[0m\u001b[0;34m-\u001b[0m\u001b[0;36m0.5\u001b[0m\u001b[0;34m*\u001b[0m\u001b[0mchi2\u001b[0m\u001b[0;34m\u001b[0m\u001b[0;34m\u001b[0m\u001b[0m\n\u001b[1;32m     23\u001b[0m     \u001b[0;31m# add smooth, weak prior to alleviate NGP in likelihood\u001b[0m\u001b[0;34m\u001b[0m\u001b[0;34m\u001b[0m\u001b[0;34m\u001b[0m\u001b[0m\n",
      "\u001b[0;32m/Users/font/Programs/Others/anaconda3/lib/python3.6/site-packages/compute_likelihood.py\u001b[0m in \u001b[0;36mget_chi2\u001b[0;34m(data, cosmo_fid, emu, rec_cosmo, mf_model, T_model, linP_Mpc_params, extra_info, verbose)\u001b[0m\n\u001b[1;32m     58\u001b[0m         \u001b[0;32melse\u001b[0m\u001b[0;34m:\u001b[0m\u001b[0;34m\u001b[0m\u001b[0;34m\u001b[0m\u001b[0m\n\u001b[1;32m     59\u001b[0m             emu_k_Mpc, emu_p1d_Mpc = emulate_p1d(z,emu,dkms_dMpc,\n\u001b[0;32m---> 60\u001b[0;31m                     mf_model,T_model,linP_Mpc_params[iz],extra_info)\n\u001b[0m\u001b[1;32m     61\u001b[0m         \u001b[0;32mif\u001b[0m \u001b[0mverbose\u001b[0m\u001b[0;34m:\u001b[0m \u001b[0mprint\u001b[0m\u001b[0;34m(\u001b[0m\u001b[0;34m'emulated power'\u001b[0m\u001b[0;34m)\u001b[0m\u001b[0;34m\u001b[0m\u001b[0;34m\u001b[0m\u001b[0m\n\u001b[1;32m     62\u001b[0m         \u001b[0;31m# translate to km/s\u001b[0m\u001b[0;34m\u001b[0m\u001b[0;34m\u001b[0m\u001b[0;34m\u001b[0m\u001b[0m\n",
      "\u001b[0;32m/Users/font/Programs/Others/anaconda3/lib/python3.6/site-packages/compute_likelihood.py\u001b[0m in \u001b[0;36memulate_p1d\u001b[0;34m(z, emu, dkms_dMpc, mf_model, T_model, linP_Mpc_params, extra_info)\u001b[0m\n\u001b[1;32m     15\u001b[0m     \u001b[0msigT_kms\u001b[0m\u001b[0;34m=\u001b[0m\u001b[0mthermal_model\u001b[0m\u001b[0;34m.\u001b[0m\u001b[0mthermal_broadening_kms\u001b[0m\u001b[0;34m(\u001b[0m\u001b[0mT0\u001b[0m\u001b[0;34m)\u001b[0m\u001b[0;34m\u001b[0m\u001b[0;34m\u001b[0m\u001b[0m\n\u001b[1;32m     16\u001b[0m     \u001b[0mmodel\u001b[0m\u001b[0;34m[\u001b[0m\u001b[0;34m'sigT_Mpc'\u001b[0m\u001b[0;34m]\u001b[0m\u001b[0;34m=\u001b[0m\u001b[0msigT_kms\u001b[0m\u001b[0;34m/\u001b[0m\u001b[0mdkms_dMpc\u001b[0m\u001b[0;34m\u001b[0m\u001b[0;34m\u001b[0m\u001b[0m\n\u001b[0;32m---> 17\u001b[0;31m     \u001b[0memu_p1d\u001b[0m\u001b[0;34m=\u001b[0m\u001b[0memu\u001b[0m\u001b[0;34m.\u001b[0m\u001b[0memulate_p1d\u001b[0m\u001b[0;34m(\u001b[0m\u001b[0mmodel\u001b[0m\u001b[0;34m)\u001b[0m\u001b[0;34m\u001b[0m\u001b[0;34m\u001b[0m\u001b[0m\n\u001b[0m\u001b[1;32m     18\u001b[0m     \u001b[0;32mif\u001b[0m \u001b[0mextra_info\u001b[0m\u001b[0;34m:\u001b[0m\u001b[0;34m\u001b[0m\u001b[0;34m\u001b[0m\u001b[0m\n\u001b[1;32m     19\u001b[0m         \u001b[0mnearest\u001b[0m\u001b[0;34m=\u001b[0m\u001b[0memu\u001b[0m\u001b[0;34m.\u001b[0m\u001b[0mfind_nearest_model\u001b[0m\u001b[0;34m(\u001b[0m\u001b[0mmodel\u001b[0m\u001b[0;34m)\u001b[0m\u001b[0;34m\u001b[0m\u001b[0;34m\u001b[0m\u001b[0m\n",
      "\u001b[0;32m/Users/font/Programs/Others/anaconda3/lib/python3.6/site-packages/simplest_emulator.py\u001b[0m in \u001b[0;36memulate_p1d\u001b[0;34m(self, model)\u001b[0m\n\u001b[1;32m     85\u001b[0m         \u001b[0;32mif\u001b[0m \u001b[0mself\u001b[0m\u001b[0;34m.\u001b[0m\u001b[0mverbose\u001b[0m\u001b[0;34m:\u001b[0m \u001b[0mprint\u001b[0m\u001b[0;34m(\u001b[0m\u001b[0;34m'asked to emulate model'\u001b[0m\u001b[0;34m,\u001b[0m\u001b[0mmodel\u001b[0m\u001b[0;34m)\u001b[0m\u001b[0;34m\u001b[0m\u001b[0;34m\u001b[0m\u001b[0m\n\u001b[1;32m     86\u001b[0m \u001b[0;34m\u001b[0m\u001b[0m\n\u001b[0;32m---> 87\u001b[0;31m         \u001b[0mnearest_model\u001b[0m \u001b[0;34m=\u001b[0m \u001b[0mself\u001b[0m\u001b[0;34m.\u001b[0m\u001b[0mget_nearest_model\u001b[0m\u001b[0;34m(\u001b[0m\u001b[0mmodel\u001b[0m\u001b[0;34m)\u001b[0m\u001b[0;34m\u001b[0m\u001b[0;34m\u001b[0m\u001b[0m\n\u001b[0m\u001b[1;32m     88\u001b[0m \u001b[0;34m\u001b[0m\u001b[0m\n\u001b[1;32m     89\u001b[0m         \u001b[0;32mreturn\u001b[0m \u001b[0mnearest_model\u001b[0m\u001b[0;34m[\u001b[0m\u001b[0;34m'k_Mpc'\u001b[0m\u001b[0;34m]\u001b[0m\u001b[0;34m,\u001b[0m \u001b[0mnearest_model\u001b[0m\u001b[0;34m[\u001b[0m\u001b[0;34m'p1d_Mpc'\u001b[0m\u001b[0;34m]\u001b[0m\u001b[0;34m\u001b[0m\u001b[0;34m\u001b[0m\u001b[0m\n",
      "\u001b[0;32m/Users/font/Programs/Others/anaconda3/lib/python3.6/site-packages/simplest_emulator.py\u001b[0m in \u001b[0;36mget_nearest_model\u001b[0;34m(self, model)\u001b[0m\n\u001b[1;32m     73\u001b[0m         \u001b[0;34m\"\"\"Given input model, return earest model in arxiv\"\"\"\u001b[0m\u001b[0;34m\u001b[0m\u001b[0;34m\u001b[0m\u001b[0m\n\u001b[1;32m     74\u001b[0m \u001b[0;34m\u001b[0m\u001b[0m\n\u001b[0;32m---> 75\u001b[0;31m         \u001b[0mnearest\u001b[0m \u001b[0;34m=\u001b[0m \u001b[0mself\u001b[0m\u001b[0;34m.\u001b[0m\u001b[0mfind_nearest_model\u001b[0m\u001b[0;34m(\u001b[0m\u001b[0mmodel\u001b[0m\u001b[0;34m)\u001b[0m\u001b[0;34m\u001b[0m\u001b[0;34m\u001b[0m\u001b[0m\n\u001b[0m\u001b[1;32m     76\u001b[0m \u001b[0;34m\u001b[0m\u001b[0m\n\u001b[1;32m     77\u001b[0m         \u001b[0;32mif\u001b[0m \u001b[0mself\u001b[0m\u001b[0;34m.\u001b[0m\u001b[0mverbose\u001b[0m\u001b[0;34m:\u001b[0m \u001b[0mself\u001b[0m\u001b[0;34m.\u001b[0m\u001b[0marxiv\u001b[0m\u001b[0;34m.\u001b[0m\u001b[0mprint_entry\u001b[0m\u001b[0;34m(\u001b[0m\u001b[0mnearest\u001b[0m\u001b[0;34m)\u001b[0m\u001b[0;34m\u001b[0m\u001b[0;34m\u001b[0m\u001b[0m\n",
      "\u001b[0;32m/Users/font/Programs/Others/anaconda3/lib/python3.6/site-packages/simplest_emulator.py\u001b[0m in \u001b[0;36mfind_nearest_model\u001b[0;34m(self, model)\u001b[0m\n\u001b[1;32m     63\u001b[0m \u001b[0;34m\u001b[0m\u001b[0m\n\u001b[1;32m     64\u001b[0m         \u001b[0;31m# compute distance to all models in arxiv\u001b[0m\u001b[0;34m\u001b[0m\u001b[0;34m\u001b[0m\u001b[0;34m\u001b[0m\u001b[0m\n\u001b[0;32m---> 65\u001b[0;31m         \u001b[0mdistances\u001b[0m \u001b[0;34m=\u001b[0m \u001b[0mself\u001b[0m\u001b[0;34m.\u001b[0m\u001b[0mget_distances\u001b[0m\u001b[0;34m(\u001b[0m\u001b[0mmodel\u001b[0m\u001b[0;34m)\u001b[0m\u001b[0;34m\u001b[0m\u001b[0;34m\u001b[0m\u001b[0m\n\u001b[0m\u001b[1;32m     66\u001b[0m         \u001b[0;31m# identify nearest model\u001b[0m\u001b[0;34m\u001b[0m\u001b[0;34m\u001b[0m\u001b[0;34m\u001b[0m\u001b[0m\n\u001b[1;32m     67\u001b[0m         \u001b[0mnearest\u001b[0m \u001b[0;34m=\u001b[0m \u001b[0mnp\u001b[0m\u001b[0;34m.\u001b[0m\u001b[0margmin\u001b[0m\u001b[0;34m(\u001b[0m\u001b[0mdistances\u001b[0m\u001b[0;34m)\u001b[0m\u001b[0;34m\u001b[0m\u001b[0;34m\u001b[0m\u001b[0m\n",
      "\u001b[0;32m/Users/font/Programs/Others/anaconda3/lib/python3.6/site-packages/simplest_emulator.py\u001b[0m in \u001b[0;36mget_distances\u001b[0;34m(self, model)\u001b[0m\n\u001b[1;32m     54\u001b[0m         \u001b[0mdistances\u001b[0m\u001b[0;34m=\u001b[0m\u001b[0mnp\u001b[0m\u001b[0;34m.\u001b[0m\u001b[0mempty\u001b[0m\u001b[0;34m(\u001b[0m\u001b[0mNm\u001b[0m\u001b[0;34m)\u001b[0m\u001b[0;34m\u001b[0m\u001b[0;34m\u001b[0m\u001b[0m\n\u001b[1;32m     55\u001b[0m         \u001b[0;32mfor\u001b[0m \u001b[0mi\u001b[0m \u001b[0;32min\u001b[0m \u001b[0mrange\u001b[0m\u001b[0;34m(\u001b[0m\u001b[0mNm\u001b[0m\u001b[0;34m)\u001b[0m\u001b[0;34m:\u001b[0m\u001b[0;34m\u001b[0m\u001b[0;34m\u001b[0m\u001b[0m\n\u001b[0;32m---> 56\u001b[0;31m             \u001b[0mdistances\u001b[0m\u001b[0;34m[\u001b[0m\u001b[0mi\u001b[0m\u001b[0;34m]\u001b[0m\u001b[0;34m=\u001b[0m\u001b[0mself\u001b[0m\u001b[0;34m.\u001b[0m\u001b[0mget_distance\u001b[0m\u001b[0;34m(\u001b[0m\u001b[0mmodel\u001b[0m\u001b[0;34m,\u001b[0m\u001b[0mself\u001b[0m\u001b[0;34m.\u001b[0m\u001b[0marxiv\u001b[0m\u001b[0;34m.\u001b[0m\u001b[0mdata\u001b[0m\u001b[0;34m[\u001b[0m\u001b[0mi\u001b[0m\u001b[0;34m]\u001b[0m\u001b[0;34m)\u001b[0m\u001b[0;34m\u001b[0m\u001b[0;34m\u001b[0m\u001b[0m\n\u001b[0m\u001b[1;32m     57\u001b[0m \u001b[0;34m\u001b[0m\u001b[0m\n\u001b[1;32m     58\u001b[0m         \u001b[0;32mreturn\u001b[0m \u001b[0mdistances\u001b[0m\u001b[0;34m\u001b[0m\u001b[0;34m\u001b[0m\u001b[0m\n",
      "\u001b[0;32m/Users/font/Programs/Others/anaconda3/lib/python3.6/site-packages/simplest_emulator.py\u001b[0m in \u001b[0;36mget_distance\u001b[0;34m(self, model1, model2)\u001b[0m\n\u001b[1;32m     42\u001b[0m             \u001b[0mdx\u001b[0m\u001b[0;34m=\u001b[0m\u001b[0mmodel1\u001b[0m\u001b[0;34m[\u001b[0m\u001b[0mkey\u001b[0m\u001b[0;34m]\u001b[0m\u001b[0;34m-\u001b[0m\u001b[0mmodel2\u001b[0m\u001b[0;34m[\u001b[0m\u001b[0mkey\u001b[0m\u001b[0;34m]\u001b[0m\u001b[0;34m\u001b[0m\u001b[0;34m\u001b[0m\u001b[0m\n\u001b[1;32m     43\u001b[0m             \u001b[0msigma\u001b[0m\u001b[0;34m=\u001b[0m\u001b[0mself\u001b[0m\u001b[0;34m.\u001b[0m\u001b[0mmetric\u001b[0m\u001b[0;34m[\u001b[0m\u001b[0mkey\u001b[0m\u001b[0;34m]\u001b[0m\u001b[0;34m\u001b[0m\u001b[0;34m\u001b[0m\u001b[0m\n\u001b[0;32m---> 44\u001b[0;31m             \u001b[0mdistance\u001b[0m \u001b[0;34m+=\u001b[0m \u001b[0;34m(\u001b[0m\u001b[0mdx\u001b[0m\u001b[0;34m/\u001b[0m\u001b[0msigma\u001b[0m\u001b[0;34m)\u001b[0m\u001b[0;34m**\u001b[0m\u001b[0;36m2\u001b[0m\u001b[0;34m\u001b[0m\u001b[0;34m\u001b[0m\u001b[0m\n\u001b[0m\u001b[1;32m     45\u001b[0m \u001b[0;34m\u001b[0m\u001b[0m\n\u001b[1;32m     46\u001b[0m         \u001b[0;32mreturn\u001b[0m \u001b[0mdistance\u001b[0m\u001b[0;34m\u001b[0m\u001b[0;34m\u001b[0m\u001b[0m\n",
      "\u001b[0;31mKeyboardInterrupt\u001b[0m: "
     ]
    }
   ],
   "source": [
    "# reset and run actual chains\n",
    "sampler.reset()\n",
    "nsteps=100\n",
    "for i, result in enumerate(sampler.sample(pos, iterations=nsteps)):\n",
    "    #if (i+1) % 2 == 0:\n",
    "    print(i,result[0].flatten())"
   ]
  },
  {
   "cell_type": "code",
   "execution_count": 202,
   "metadata": {
    "collapsed": false
   },
   "outputs": [
    {
     "data": {
      "image/png": "[encoded data removed]",
      "text/plain": [
       "<matplotlib.figure.Figure at 0x12a39c518>"
      ]
     },
     "metadata": {},
     "output_type": "display_data"
    }
   ],
   "source": [
    "for i in range(ndim):\n",
    "    plt.figure()\n",
    "    plt.hist(np.exp(-np.exp(get_ln_tau_0(sampler.flatchain[:,i]))), 100, color=\"k\", histtype=\"step\")\n",
    "    plt.title(\"Dimension {0:d}\".format(i))"
   ]
  },
  {
   "cell_type": "code",
   "execution_count": 203,
   "metadata": {
    "collapsed": false
   },
   "outputs": [
    {
     "name": "stdout",
     "output_type": "stream",
     "text": [
      "Mean acceptance fraction: 0.345\n"
     ]
    }
   ],
   "source": [
    "print(\"Mean acceptance fraction: {0:.3f}\".format(np.mean(sampler.acceptance_fraction)))"
   ]
  },
  {
   "cell_type": "code",
   "execution_count": 204,
   "metadata": {
    "collapsed": false
   },
   "outputs": [
    {
     "data": {
      "image/png": "[encoded data removed]",
      "text/plain": [
       "<matplotlib.figure.Figure at 0x128fa0080>"
      ]
     },
     "metadata": {},
     "output_type": "display_data"
    }
   ],
   "source": [
    "for i in range(ndim):\n",
    "    plt.figure()\n",
    "    plt.hist(sampler.flatchain[:,i], 100, color=\"k\", histtype=\"step\")\n",
    "    plt.title(\"Dimension {0:d}\".format(i))"
   ]
  },
  {
   "cell_type": "code",
   "execution_count": 214,
   "metadata": {
    "collapsed": false
   },
   "outputs": [],
   "source": [
    "xs=np.linspace(0.0,1.0,100)"
   ]
  },
  {
   "cell_type": "code",
   "execution_count": 215,
   "metadata": {
    "collapsed": false
   },
   "outputs": [
    {
     "name": "stdout",
     "output_type": "stream",
     "text": [
      "[0.0] log like = -21885.8954417\n",
      "[0.010101010101010102] log like = -21529.5159071\n",
      "[0.020202020202020204] log like = -21488.3381192\n",
      "[0.030303030303030304] log like = -21487.2780233\n",
      "[0.040404040404040407] log like = -21440.8108923\n",
      "[0.050505050505050511] log like = -21439.7916085\n",
      "[0.060606060606060608] log like = -21438.7927309\n",
      "[0.070707070707070718] log like = -21437.8142593\n",
      "[0.080808080808080815] log like = -21314.3395277\n",
      "[0.090909090909090912] log like = -20811.1105639\n",
      "[0.10101010101010102] log like = -20539.9546009\n",
      "[0.11111111111111112] log like = -20539.0577537\n",
      "[0.12121212121212122] log like = -19947.4159067\n",
      "[0.13131313131313133] log like = -19946.5598716\n",
      "[0.14141414141414144] log like = -19876.3531436\n",
      "[0.15151515151515152] log like = -18873.4729372\n",
      "[0.16161616161616163] log like = -18555.8884025\n",
      "[0.17171717171717174] log like = -18555.1139917\n",
      "[0.18181818181818182] log like = -18049.192612\n",
      "[0.19191919191919193] log like = -18282.2845185\n",
      "[0.20202020202020204] log like = -18054.8648744\n",
      "[0.21212121212121213] log like = -17151.6815704\n",
      "[0.22222222222222224] log like = -16641.5024234\n",
      "[0.23232323232323235] log like = -15892.1740518\n",
      "[0.24242424242424243] log like = -15865.159044\n",
      "[0.25252525252525254] log like = -15864.5478819\n",
      "[0.26262626262626265] log like = -15275.1164991\n",
      "[0.27272727272727276] log like = -14330.947726\n",
      "[0.28282828282828287] log like = -14101.1779464\n",
      "[0.29292929292929293] log like = -13803.7351794\n",
      "[0.30303030303030304] log like = -13762.87079\n",
      "[0.31313131313131315] log like = -13754.7940169\n",
      "[0.32323232323232326] log like = -12484.9021768\n",
      "[0.33333333333333337] log like = -12303.4482478\n",
      "[0.34343434343434348] log like = -11903.2223379\n",
      "[0.35353535353535359] log like = -11524.6245528\n",
      "[0.36363636363636365] log like = -10898.5362816\n",
      "[0.37373737373737376] log like = -10520.7262601\n",
      "[0.38383838383838387] log like = -10367.5196067\n",
      "[0.39393939393939398] log like = -10137.8227765\n",
      "[0.40404040404040409] log like = -9446.07425157\n",
      "[0.4141414141414142] log like = -8915.52835422\n",
      "[0.42424242424242425] log like = -8822.27602588\n",
      "[0.43434343434343436] log like = -8730.72424104\n",
      "[0.44444444444444448] log like = -8446.56583106\n",
      "[0.45454545454545459] log like = -7761.18210638\n",
      "[0.4646464646464647] log like = -7818.54929171\n",
      "[0.47474747474747481] log like = -7647.80448374\n",
      "[0.48484848484848486] log like = -7310.32439639\n",
      "[0.49494949494949497] log like = -7124.12722106\n",
      "[0.50505050505050508] log like = -6975.4569196\n",
      "[0.51515151515151525] log like = -6789.09412392\n",
      "[0.5252525252525253] log like = -6783.43268094\n",
      "[0.53535353535353536] log like = -6718.02131096\n",
      "[0.54545454545454553] log like = -6544.46753757\n",
      "[0.55555555555555558] log like = -6596.3841848\n",
      "[0.56565656565656575] log like = -6641.19693075\n",
      "[0.5757575757575758] log like = -6527.6214084\n",
      "[0.58585858585858586] log like = -6641.86735007\n",
      "[0.59595959595959602] log like = -6738.92507258\n",
      "[0.60606060606060608] log like = -6996.38413081\n",
      "[0.61616161616161624] log like = -7161.81202578\n",
      "[0.6262626262626263] log like = -7148.74401715\n",
      "[0.63636363636363646] log like = -7313.88334784\n",
      "[0.64646464646464652] log like = -7989.9900067\n",
      "[0.65656565656565657] log like = -8064.4862459\n",
      "[0.66666666666666674] log like = -7696.04176037\n",
      "[0.6767676767676768] log like = -8398.5273471\n",
      "[0.68686868686868696] log like = -8760.23068301\n",
      "[0.69696969696969702] log like = -9079.56774529\n",
      "[0.70707070707070718] log like = -9580.7078481\n",
      "[0.71717171717171724] log like = -9967.72599749\n",
      "[0.72727272727272729] log like = -9945.50365141\n",
      "[0.73737373737373746] log like = -10726.3912385\n",
      "[0.74747474747474751] log like = -11206.3955069\n",
      "[0.75757575757575768] log like = -11897.3049223\n",
      "[0.76767676767676774] log like = -12573.1844193\n",
      "[0.77777777777777779] log like = -13618.6622997\n",
      "[0.78787878787878796] log like = -14442.8957389\n",
      "[0.79797979797979801] log like = -14686.7021918\n",
      "[0.80808080808080818] log like = -15160.4252327\n",
      "[0.81818181818181823] log like = -16388.7531334\n",
      "[0.8282828282828284] log like = -17013.8491693\n",
      "[0.83838383838383845] log like = -17956.8846378\n",
      "[0.84848484848484851] log like = -20502.755994\n",
      "[0.85858585858585867] log like = -20099.3922292\n",
      "[0.86868686868686873] log like = -22527.3514985\n",
      "[0.8787878787878789] log like = -23674.6585515\n",
      "[0.88888888888888895] log like = -24395.7813559\n",
      "[0.89898989898989912] log like = -24417.2770546\n",
      "[0.90909090909090917] log like = -25987.4864223\n",
      "[0.91919191919191923] log like = -26315.3169004\n",
      "[0.92929292929292939] log like = -26860.9331951\n",
      "[0.93939393939393945] log like = -28716.1861009\n",
      "[0.94949494949494961] log like = -29479.0289412\n",
      "[0.95959595959595967] log like = -29495.5126361\n",
      "[0.96969696969696972] log like = -31372.9511543\n",
      "[0.97979797979797989] log like = -31237.7894123\n",
      "[0.98989898989898994] log like = -33363.6650294\n",
      "[1.0] log like = -33274.6892019\n"
     ]
    }
   ],
   "source": [
    "lnps=[lnprob([x],data,cosmo_fid,emu,rec_cosmo,linP_Mpc_params) for x in xs]"
   ]
  },
  {
   "cell_type": "code",
   "execution_count": 227,
   "metadata": {
    "collapsed": false
   },
   "outputs": [
    {
     "data": {
      "text/plain": [
       "<matplotlib.text.Text at 0x11b74afd0>"
      ]
     },
     "execution_count": 227,
     "metadata": {},
     "output_type": "execute_result"
    },
    {
     "data": {
      "image/png": "[encoded data removed]",
      "text/plain": [
       "<matplotlib.figure.Figure at 0x11d2a1f28>"
      ]
     },
     "metadata": {},
     "output_type": "display_data"
    }
   ],
   "source": [
    "plt.plot(np.exp(-np.exp(get_ln_tau_0(xs))),-2.0*np.array(lnps))\n",
    "plt.xlabel(r'$\\bar F(z=3)$')\n",
    "plt.ylabel(r'$\\chi^2$')"
   ]
  },
  {
   "cell_type": "code",
   "execution_count": null,
   "metadata": {
    "collapsed": true
   },
   "outputs": [],
   "source": []
  }
 ],
 "metadata": {
  "kernelspec": {
   "display_name": "Python 3",
   "language": "python",
   "name": "python3"
  },
  "language_info": {
   "codemirror_mode": {
    "name": "ipython",
    "version": 3
   },
   "file_extension": ".py",
   "mimetype": "text/x-python",
   "name": "python",
   "nbconvert_exporter": "python",
   "pygments_lexer": "ipython3",
   "version": "3.6.7"
  }
 },
 "nbformat": 4,
 "nbformat_minor": 2
}
