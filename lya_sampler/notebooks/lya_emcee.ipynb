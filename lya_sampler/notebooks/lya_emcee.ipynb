{
 "cells": [
  {
   "cell_type": "markdown",
   "metadata": {},
   "source": [
    "# Use emcee to run MCMC using Lya likelihood from BOSS P1D"
   ]
  },
  {
   "cell_type": "code",
   "execution_count": 1,
   "metadata": {
    "collapsed": false
   },
   "outputs": [],
   "source": [
    "%matplotlib inline\n",
    "%load_ext autoreload\n",
    "%autoreload 2\n",
    "import numpy as np\n",
    "import sys\n",
    "import os\n",
    "import json\n",
    "import matplotlib.pyplot as plt\n",
    "import matplotlib as mpl\n",
    "mpl.rcParams['savefig.dpi'] = 120\n",
    "mpl.rcParams['figure.dpi'] = 120\n",
    "import cProfile\n",
    "import emcee\n",
    "# temporal\n",
    "import camb\n",
    "# our own modules\n",
    "import simplest_emulator\n",
    "import linear_emulator\n",
    "import data_PD2013\n",
    "import mean_flux_model\n",
    "import thermal_model\n",
    "import camb_cosmo\n",
    "import fit_linP\n",
    "import recons_cosmo\n",
    "import compute_likelihood"
   ]
  },
  {
   "cell_type": "markdown",
   "metadata": {},
   "source": [
    "## Setup Lya likelihood function"
   ]
  },
  {
   "cell_type": "code",
   "execution_count": 2,
   "metadata": {
    "collapsed": false
   },
   "outputs": [],
   "source": [
    "# read P1D measurement\n",
    "basedir='../../p1d_data/data_files/PD2013/'\n",
    "data=data_PD2013.P1D_PD2013(basedir=basedir,blind_data=True)\n",
    "zs=data.z\n",
    "Nz=len(zs)"
   ]
  },
  {
   "cell_type": "code",
   "execution_count": 3,
   "metadata": {
    "collapsed": false
   },
   "outputs": [
    {
     "name": "stdout",
     "output_type": "stream",
     "text": [
      "setup interpolator for coefficient 0\n",
      "[ 0.26472953 -2.30500005 -0.21999954  0.98599613  0.4370181   0.12944179\n",
      "  1.49569519] test [-0.86698733]\n",
      "setup interpolator for coefficient 1\n",
      "[ 0.26472953 -2.30500005 -0.21999954  0.98599613  0.4370181   0.12944179\n",
      "  1.49569519] test [-0.64956931]\n",
      "setup interpolator for coefficient 2\n",
      "[ 0.26472953 -2.30500005 -0.21999954  0.98599613  0.4370181   0.12944179\n",
      "  1.49569519] test [-0.22486063]\n",
      "setup interpolator for coefficient 3\n",
      "[ 0.26472953 -2.30500005 -0.21999954  0.98599613  0.4370181   0.12944179\n",
      "  1.49569519] test [-0.10114601]\n",
      "setup interpolator for coefficient 4\n",
      "[ 0.26472953 -2.30500005 -0.21999954  0.98599613  0.4370181   0.12944179\n",
      "  1.49569519] test [-0.02172819]\n"
     ]
    }
   ],
   "source": [
    "# load P1D emulator\n",
    "basedir='/Users/font/CosmoData/test_sim_emulator/test_medium/'\n",
    "#basedir='../mini_sim_suite/'\n",
    "p1d_label='mf_p1d'\n",
    "skewers_label='Ns100_wM0.05'\n",
    "#emu=simplest_emulator.SimplestEmulator(basedir,p1d_label,skewers_label,max_arxiv_size=10000,verbose=False)\n",
    "emu=linear_emulator.LinearEmulator(basedir,p1d_label,skewers_label,max_arxiv_size=400,verbose=False)"
   ]
  },
  {
   "cell_type": "code",
   "execution_count": 4,
   "metadata": {
    "collapsed": false
   },
   "outputs": [],
   "source": [
    "#cProfile.run(\"emu=linear_emulator.LinearEmulator(basedir,p1d_label,skewers_label,max_arxiv_size=400,verbose=False)\",sort='cumtime')"
   ]
  },
  {
   "cell_type": "code",
   "execution_count": 5,
   "metadata": {
    "collapsed": true
   },
   "outputs": [],
   "source": [
    "# setup nuisance models\n",
    "mf_model=mean_flux_model.MeanFluxModel()\n",
    "T_model=thermal_model.ThermalModel()"
   ]
  },
  {
   "cell_type": "code",
   "execution_count": 6,
   "metadata": {
    "collapsed": false
   },
   "outputs": [
    {
     "name": "stdout",
     "output_type": "stream",
     "text": [
      "H0 = 6.7000E+01, Omega_b h^2 = 2.2000E-02, Omega_c h^2 = 1.2000E-01, Omega_k = 0.0000E+00, Omega_nu h^2 = 1.6128E-03, T_CMB = 2.7255E+00, A_s = 2.1000E-09, n_s = 9.6500E-01, alpha_s = 0.0000E+00\n"
     ]
    },
    {
     "data": {
      "text/plain": [
       "{'Delta2_star': 0.34359089153174016,\n",
       " 'alpha_star': -0.21586983258446132,\n",
       " 'f_star': 0.97514327990258953,\n",
       " 'g_star': 0.968209492732573,\n",
       " 'n_star': -2.300572652881717}"
      ]
     },
     "execution_count": 6,
     "metadata": {},
     "output_type": "execute_result"
    }
   ],
   "source": [
    "# specify cosmology\n",
    "cosmo = camb_cosmo.get_cosmology(mnu=0.15, ns=0.965, omch2=0.12)\n",
    "# print relevant information about the cosmology object\n",
    "camb_cosmo.print_info(cosmo)\n",
    "# compute linear power parameters, around z_star and kp_kms\n",
    "z_star=3.0\n",
    "kp_kms=0.009\n",
    "linP_model=fit_linP.LinearPowerModel(cosmo,z_star=z_star,k_units='kms',kp=kp_kms)\n",
    "linP_model.get_params()"
   ]
  },
  {
   "cell_type": "code",
   "execution_count": 7,
   "metadata": {
    "collapsed": false
   },
   "outputs": [
    {
     "name": "stdout",
     "output_type": "stream",
     "text": [
      "Note: redshifts have been re-sorted (earliest first)\n"
     ]
    }
   ],
   "source": [
    "# setup fiducial cosmology\n",
    "cosmo_fid = camb_cosmo.get_cosmology()\n",
    "# reconstruct cosmology using linear parameter model (at z_star, kp_kms)\n",
    "rec_cosmo=recons_cosmo.ReconstructedCosmology(linP_model,cosmo_fid)\n",
    "# compute linear power parameters at each redshift (in Mpc)\n",
    "linP_Mpc_params=rec_cosmo.get_linP_Mpc_params(zs)"
   ]
  },
  {
   "cell_type": "code",
   "execution_count": 8,
   "metadata": {
    "collapsed": false
   },
   "outputs": [],
   "source": [
    "chi2=compute_likelihood.get_chi2(data,cosmo_fid,emu,rec_cosmo,mf_model,T_model,linP_Mpc_params)"
   ]
  },
  {
   "cell_type": "code",
   "execution_count": 9,
   "metadata": {
    "collapsed": false
   },
   "outputs": [
    {
     "data": {
      "text/plain": [
       "9865.140876589765"
      ]
     },
     "execution_count": 9,
     "metadata": {},
     "output_type": "execute_result"
    }
   ],
   "source": [
    "chi2"
   ]
  },
  {
   "cell_type": "code",
   "execution_count": 10,
   "metadata": {
    "collapsed": false
   },
   "outputs": [],
   "source": [
    "#cProfile.run(\"compute_likelihood.get_chi2(data,cosmo_fid,emu,rec_cosmo,mf_model,T_model,linP_Mpc_params)\",sort='cumtime')"
   ]
  },
  {
   "cell_type": "markdown",
   "metadata": {
    "collapsed": false
   },
   "source": [
    "### Setup MCMC to call this function"
   ]
  },
  {
   "cell_type": "code",
   "execution_count": 11,
   "metadata": {
    "collapsed": true
   },
   "outputs": [],
   "source": [
    "def get_ln_tau_0(x):\n",
    "    ln_tau_min=-1.1\n",
    "    ln_tau_max=-0.7\n",
    "    return ln_tau_min+x*(ln_tau_max-ln_tau_min)"
   ]
  },
  {
   "cell_type": "code",
   "execution_count": 12,
   "metadata": {
    "collapsed": true
   },
   "outputs": [],
   "source": [
    "def lnprob(x,data,cosmo_fid,emu,rec_cosmo,linP_Mpc_params):\n",
    "    # for now priors are top hats in 0 < x < 1\n",
    "    if max(x) > 1.0: \n",
    "        return -np.inf\n",
    "    if min(x) < 0.0:\n",
    "        return -np.inf\n",
    "    ln_tau_0 = get_ln_tau_0(x[0])\n",
    "    mf_model=mean_flux_model.MeanFluxModel(z_tau=3.0,ln_tau_coeff=[3.18,ln_tau_0])\n",
    "    T_model=thermal_model.ThermalModel()\n",
    "    # compute chi2        \n",
    "    chi2=compute_likelihood.get_chi2(data,cosmo_fid,emu,rec_cosmo,mf_model,T_model,linP_Mpc_params)\n",
    "    loglike=-0.5*chi2\n",
    "    # add smooth, weak prior to alleviate NGP in likelihood\n",
    "    loglike -= (x[0]-0.55)**2/0.01\n",
    "    #print(x,'log like =',loglike)\n",
    "    return -0.5*chi2"
   ]
  },
  {
   "cell_type": "code",
   "execution_count": 13,
   "metadata": {
    "collapsed": false
   },
   "outputs": [],
   "source": [
    "# for now we'll have only three dimensions (mean flux, temperature, gamma)\n",
    "ndim=1\n",
    "# setup initial walkers\n",
    "nwalkers = 20\n",
    "p0 = np.random.rand(ndim * nwalkers).reshape((nwalkers, ndim))"
   ]
  },
  {
   "cell_type": "code",
   "execution_count": 14,
   "metadata": {
    "collapsed": false
   },
   "outputs": [
    {
     "data": {
      "text/plain": [
       "array([ 0.34011989,  0.37864528,  0.22142154,  0.98291785,  0.03245154,\n",
       "        0.62382046,  0.03475444,  0.62002545,  0.38965638,  0.20215872,\n",
       "        0.274529  ,  0.30321004,  0.36844938,  0.52563183,  0.79881369,\n",
       "        0.03217789,  0.16194664,  0.55424512,  0.35682525,  0.62432167])"
      ]
     },
     "execution_count": 14,
     "metadata": {},
     "output_type": "execute_result"
    }
   ],
   "source": [
    "p0.flatten()"
   ]
  },
  {
   "cell_type": "code",
   "execution_count": 15,
   "metadata": {
    "collapsed": false
   },
   "outputs": [
    {
     "data": {
      "text/plain": [
       "-4544.8892197267432"
      ]
     },
     "execution_count": 15,
     "metadata": {},
     "output_type": "execute_result"
    }
   ],
   "source": [
    "# test function\n",
    "lnprob(p0[0],data,cosmo_fid,emu,rec_cosmo,linP_Mpc_params)"
   ]
  },
  {
   "cell_type": "code",
   "execution_count": 16,
   "metadata": {
    "collapsed": false
   },
   "outputs": [],
   "source": [
    "# setup sampler\n",
    "emu.arxiv.verbose=False\n",
    "emu.verbose=False\n",
    "sampler = emcee.EnsembleSampler(nwalkers, ndim, lnprob, args=[data,cosmo_fid,emu,rec_cosmo,linP_Mpc_params])"
   ]
  },
  {
   "cell_type": "code",
   "execution_count": 17,
   "metadata": {
    "collapsed": false
   },
   "outputs": [
    {
     "name": "stdout",
     "output_type": "stream",
     "text": [
      "0 finished at [ 0.51694935  0.53377774  0.35614832  0.68672502  0.42475964  0.49868776\n",
      "  0.35314747  0.49881567  0.46468777  0.20995735  0.274529    0.45630889\n",
      "  0.55312155  0.52549017  0.79881369  0.2284988   0.25693211  0.52107651\n",
      "  0.47757827  0.52781294] [-4337.96937745 -4338.54623336 -4505.91727356 -4618.06260634 -4367.09113284\n",
      " -4343.75563244 -4512.98480603 -4343.69972102 -4348.56708724 -4974.04579226\n",
      " -4726.16815607 -4349.93820669 -4347.46208397 -4338.09104141 -5135.42423281\n",
      " -4896.09408329 -4786.8359488  -4337.80063707 -4345.74334452 -4338.40050723]\n"
     ]
    }
   ],
   "source": [
    "# burn-in phase\n",
    "for i in range(1):\n",
    "    pos, prob, state = sampler.run_mcmc(p0, 5)\n",
    "    print(i,'finished at',pos.flatten(),prob)\n",
    "    p0=pos"
   ]
  },
  {
   "cell_type": "code",
   "execution_count": 18,
   "metadata": {
    "collapsed": false
   },
   "outputs": [
    {
     "name": "stdout",
     "output_type": "stream",
     "text": [
      "0 [ 0.5174327   0.53893908  0.35614832  0.68672502  0.42475964  0.50075264\n",
      "  0.4144069   0.49881567  0.47651267  0.20995735  0.274529    0.48369672\n",
      "  0.53468658  0.52135422  0.79881369  0.2284988   0.25693211  0.52113377\n",
      "  0.52590267  0.52781294]\n",
      "100 [ 0.50975083  0.51659587  0.52117869  0.5202649   0.51793418  0.51850742\n",
      "  0.53129512  0.52170621  0.5299429   0.52080969  0.51997026  0.51829168\n",
      "  0.51800495  0.51734149  0.52419333  0.51353824  0.53016649  0.53155383\n",
      "  0.51594574  0.51846379]\n",
      "200 [ 0.52099424  0.52851501  0.53564684  0.53054196  0.53427754  0.53748589\n",
      "  0.51409004  0.50991869  0.51960424  0.53788725  0.51840065  0.52294175\n",
      "  0.512067    0.52407059  0.53165712  0.51737149  0.53946501  0.53665987\n",
      "  0.52406828  0.51815296]\n",
      "300 [ 0.51636999  0.51286319  0.52034685  0.51887232  0.52077537  0.51973181\n",
      "  0.52415085  0.52204835  0.52340038  0.51606387  0.53839425  0.51759931\n",
      "  0.52151594  0.5221149   0.51471992  0.51687133  0.50346822  0.51551394\n",
      "  0.51871466  0.52894714]\n",
      "400 [ 0.51870816  0.52988329  0.51680439  0.52206227  0.52412741  0.51666363\n",
      "  0.51209732  0.52297906  0.52701701  0.51833554  0.51878007  0.52380666\n",
      "  0.52012321  0.52373432  0.51402178  0.5247217   0.51901326  0.53250686\n",
      "  0.52523513  0.52448008]\n",
      "500 [ 0.52200261  0.51901785  0.52202002  0.51484789  0.52540496  0.51762875\n",
      "  0.52579019  0.53146465  0.52104781  0.53420526  0.5312102   0.52036933\n",
      "  0.52018795  0.51792413  0.51661264  0.52447169  0.52101368  0.51979329\n",
      "  0.52653743  0.5203979 ]\n",
      "600 [ 0.51644746  0.51367185  0.53357809  0.51500025  0.53707803  0.51870057\n",
      "  0.52193028  0.53205066  0.52404427  0.51609606  0.52398196  0.52094969\n",
      "  0.51897336  0.51655311  0.52833551  0.51600169  0.51125389  0.52122429\n",
      "  0.52089462  0.52014955]\n",
      "700 [ 0.52797089  0.51927335  0.53350948  0.51379846  0.51487774  0.51503312\n",
      "  0.5158948   0.51565993  0.51967989  0.52244943  0.53013174  0.53165944\n",
      "  0.52407361  0.5156213   0.51526578  0.51909554  0.50887084  0.53210861\n",
      "  0.52531166  0.52386502]\n",
      "800 [ 0.53270999  0.5359341   0.52481115  0.53329183  0.51352505  0.51806715\n",
      "  0.5166636   0.51716381  0.52498484  0.52094602  0.5249686   0.51350735\n",
      "  0.51662239  0.51644352  0.51385456  0.53016038  0.529393    0.51965033\n",
      "  0.53298827  0.52041516]\n",
      "900 [ 0.52024632  0.52245385  0.53559024  0.53559385  0.51669044  0.52187885\n",
      "  0.53430973  0.52469673  0.51672524  0.51908367  0.52329499  0.52969629\n",
      "  0.537143    0.51470871  0.53542571  0.53482319  0.52316171  0.53537971\n",
      "  0.52941711  0.51159518]\n"
     ]
    }
   ],
   "source": [
    "# reset and run actual chains\n",
    "sampler.reset()\n",
    "nsteps=1000\n",
    "for i, result in enumerate(sampler.sample(pos, iterations=nsteps)):\n",
    "    if i % 100 == 0:\n",
    "        print(i,result[0].flatten())"
   ]
  },
  {
   "cell_type": "code",
   "execution_count": 19,
   "metadata": {
    "collapsed": false
   },
   "outputs": [
    {
     "data": {
      "image/png": "[encoded data removed]",
      "text/plain": [
       "<matplotlib.figure.Figure at 0x110ed9588>"
      ]
     },
     "metadata": {},
     "output_type": "display_data"
    }
   ],
   "source": [
    "for i in range(ndim):\n",
    "    plt.figure()\n",
    "    plt.hist(np.exp(-np.exp(get_ln_tau_0(sampler.flatchain[:,i]))), 100, color=\"k\", histtype=\"step\")\n",
    "    plt.title(\"Dimension {0:d}\".format(i))"
   ]
  },
  {
   "cell_type": "code",
   "execution_count": 20,
   "metadata": {
    "collapsed": false
   },
   "outputs": [
    {
     "name": "stdout",
     "output_type": "stream",
     "text": [
      "Mean acceptance fraction: 0.792\n"
     ]
    }
   ],
   "source": [
    "print(\"Mean acceptance fraction: {0:.3f}\".format(np.mean(sampler.acceptance_fraction)))"
   ]
  },
  {
   "cell_type": "code",
   "execution_count": 21,
   "metadata": {
    "collapsed": false
   },
   "outputs": [
    {
     "data": {
      "image/png": "[encoded data removed]",
      "text/plain": [
       "<matplotlib.figure.Figure at 0x1108675f8>"
      ]
     },
     "metadata": {},
     "output_type": "display_data"
    }
   ],
   "source": [
    "for i in range(ndim):\n",
    "    plt.figure()\n",
    "    plt.hist(sampler.flatchain[:,i], 100, color=\"k\", histtype=\"step\")\n",
    "    plt.title(\"Dimension {0:d}\".format(i))"
   ]
  },
  {
   "cell_type": "code",
   "execution_count": 22,
   "metadata": {
    "collapsed": false
   },
   "outputs": [],
   "source": [
    "xs=np.linspace(0.0,1.0,100)"
   ]
  },
  {
   "cell_type": "code",
   "execution_count": 23,
   "metadata": {
    "collapsed": false
   },
   "outputs": [],
   "source": [
    "lnps=[lnprob([x],data,cosmo_fid,emu,rec_cosmo,linP_Mpc_params) for x in xs]"
   ]
  },
  {
   "cell_type": "code",
   "execution_count": 24,
   "metadata": {
    "collapsed": false
   },
   "outputs": [
    {
     "data": {
      "text/plain": [
       "<matplotlib.text.Text at 0x10ff5a198>"
      ]
     },
     "execution_count": 24,
     "metadata": {},
     "output_type": "execute_result"
    },
    {
     "data": {
      "image/png": "[encoded data removed]",
      "text/plain": [
       "<matplotlib.figure.Figure at 0x111268d68>"
      ]
     },
     "metadata": {},
     "output_type": "display_data"
    }
   ],
   "source": [
    "plt.plot(np.exp(-np.exp(get_ln_tau_0(xs))),-2.0*np.array(lnps))\n",
    "plt.xlabel(r'$\\bar F(z=3)$')\n",
    "plt.ylabel(r'$\\chi^2$')"
   ]
  },
  {
   "cell_type": "code",
   "execution_count": null,
   "metadata": {
    "collapsed": true
   },
   "outputs": [],
   "source": []
  }
 ],
 "metadata": {
  "kernelspec": {
   "display_name": "Python 3",
   "language": "python",
   "name": "python3"
  },
  "language_info": {
   "codemirror_mode": {
    "name": "ipython",
    "version": 3
   },
   "file_extension": ".py",
   "mimetype": "text/x-python",
   "name": "python",
   "nbconvert_exporter": "python",
   "pygments_lexer": "ipython3",
   "version": "3.6.7"
  }
 },
 "nbformat": 4,
 "nbformat_minor": 2
}
