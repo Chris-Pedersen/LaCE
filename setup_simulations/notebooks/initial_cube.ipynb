{
 "cells": [
  {
   "cell_type": "markdown",
   "metadata": {},
   "source": [
    "# Setting up the initial simulation grid\n"
   ]
  },
  {
   "cell_type": "markdown",
   "metadata": {},
   "source": [
    "### Simulation parameters $H$\n",
    "\n",
    "From each simulation we run, we will output a number of snapshots, of order 10. \n",
    "\n",
    "Moreover, for each snapshot we extract different sets of simulated Lyman-$\\alpha$ skewers (normalized quasar spectra), after applying different rescalings of the temperatures in the snapshot. \n",
    "These skewers are written to disk.\n",
    "\n",
    "Finally, from each set of skewers we measure different 1D power spectra, after rescaling the mean optical depth in the spectra. \n",
    "This optical depth rescaling is trivial, and it is done on the fly. \n",
    "Each of these measured power spectra is fed to the emulator. "
   ]
  },
  {
   "cell_type": "markdown",
   "metadata": {},
   "source": [
    "\n",
    "Let's discuss the parameterization of each of the simulation packages:\n",
    "\n",
    "- As we discuss above, the emulator labels the measured power with the set of parameters $ M = \\{ M_P, f, \\lambda_F, \\bar F, \\sigma_T, \\gamma \\} $.\n",
    "\n",
    "- Each set of simulated skewers, written to disk, is described by a subset of these $ \\{ M_P, f, \\lambda_F, \\sigma_T, \\gamma \\} $, since we will have different values of $\\bar F$ from the skewers.\n",
    "\n",
    "- Each snapshot is described by an even smaller subset of parameters, $ \\{ M_P, f, \\lambda_F \\} $, since we will reprocess the snapshot for different temperature-density relations.\n",
    "\n",
    "If we assumed that we can do as much rescaling of mean flux and temperature as we wanted, then this last set of parameters $ \\{ M_P, f, \\lambda_F \\} $ would be the only relevant ones. If we can not rescale as much as we would like to (because the rescaling breaks down at some point?), then we would need to label the snapshots with a \"central temperature\" and \"central mean flux\", around which we would perturb. \n",
    "\n",
    "Now, since we are describing the linear power in comoving units, the shape of the linear power will be the same in all snapshots. The only parameters that will vary are the amplitude of the linear power, the logarithmic growth rate $f$ and the filtering length $\\lambda_F$. So each simulation will be described by two shape parameters, and $N_z \\times \\{ A_p, f, \\lambda_F \\}$, where $N_z$ is the number of snapshots. \n",
    "\n",
    "$$ H = \\{ n_p, \\alpha_p, N_z \\times \\{ A_p, f, \\lambda_F \\} \\} $$\n",
    "\n",
    "\n",
    "The question is: how do we decide what simulation to run, i.e., what configuration files to use, if we are handed a set of parameters $H$? We will not aim at having a perfect match between the two, we just want to get on the right ball park."
   ]
  },
  {
   "cell_type": "markdown",
   "metadata": {},
   "source": [
    "From the point of view of cosmological parameters:\n",
    " - We start by defining a fiducial cosmology, somewhere around Planck, but WITHOUT NEUTRINOS. This is important, since our simulations will not have neutrinos. All quantities with $^0$ will refer to that fiducial cosmology. \n",
    " - In flat $\\Lambda$CDM models, we can translate the requirement of a given $f_\\star$ into a requirement of a given $\\Omega_\\star = \\Omega_{cb}(z_\\star)$, using $f_\\star = \\Omega_\\star^{0.55}$.\n",
    " - We can then translate the requirement on $\\Omega_\\star$ to a requirement on $\\Omega_{cb} = \\Omega_{cb}(z=0)$, using $\\Omega_\\star = \\Omega_{cb} (1+z_\\star)^3 / ( \\Omega_{cb} (1+z_\\star)^3 + 1 - \\Omega_{cb} ) $. \n",
    " - We will keep fixed the values of $\\Omega_c h^2$ and $\\Omega_b h^2$, so the requirement on $\\Omega_{cb}$ can be related to a requirement on $h$, using $h^2 = (\\Omega_b h^2 + \\Omega_c h^2)/\\Omega_{cb} $.\n",
    " - We will also measure the shape of the linear power at $z_\\star$ around $k_p$, and modify the slope and running of the primordial power to match the required shape.\n",
    " - So the cosmology in the simulation will be specified by $\\{ \\Omega_\\star, A_p, n_p, \\alpha_p \\}$, where $A_p$ will be computed at $z_\\star$."
   ]
  },
  {
   "cell_type": "markdown",
   "metadata": {},
   "source": [
    "From the point of view of the pressure smoothing:\n",
    " - We will look at the value of the filtering length at a pre-HeII and at a post-HeII redshift, say z=2 and z=4. \n",
    " - We will use the Oñorbe models to translate the required values for $\\lambda_F$ pre- and post-HeII reionization to a required thermal history. It will probably be enough to specify a scaling of the heating rates before ($\\mu_H$) and after ($\\mu_{He}$) He_II reionizaion. "
   ]
  },
  {
   "cell_type": "markdown",
   "metadata": {},
   "source": [
    "### Initial simulation grid\n",
    "\n",
    "We have 6 simulation parameters: \n",
    "\n",
    "$$ H = \\{ \\mu_H, \\mu_{He}, \\Omega_\\star, \\Delta_p^2, n_p, \\alpha_p \\} $$\n",
    "\n",
    "We will choose the a parameter volume for the simulation similar to the one below:\n",
    " - $ 0.5 < \\mu_H < 2.0 $\n",
    " - $ 0.5 < \\mu_{He} < 2.0 $\n",
    " - $ 0.950 < \\Omega_\\star < 0.975 $\n",
    " - $ 0.25 < \\Delta_p^2 < 0.45 $\n",
    " - $ -2.35 < n_p < -2.25 $\n",
    " - $ -0.265 < \\alpha_p < -0.165 $"
   ]
  },
  {
   "cell_type": "code",
   "execution_count": 1,
   "metadata": {
    "collapsed": false
   },
   "outputs": [],
   "source": [
    "%matplotlib inline\n",
    "%load_ext autoreload\n",
    "%autoreload 2\n",
    "import numpy as np\n",
    "import os\n",
    "import copy\n",
    "## Set default plot size, as normally its a bit too small\n",
    "import matplotlib.pyplot as plt\n",
    "import matplotlib as mpl\n",
    "mpl.rcParams['savefig.dpi'] = 120\n",
    "mpl.rcParams['figure.dpi'] = 120\n",
    "import camb_cosmo\n",
    "import fit_linP\n",
    "import sim_params_cosmo\n",
    "import sim_params_space\n",
    "import read_genic\n",
    "import write_config\n",
    "import latin_hypercube\n",
    "import corner"
   ]
  },
  {
   "cell_type": "markdown",
   "metadata": {},
   "source": [
    "### Plot initial Latin hypercube"
   ]
  },
  {
   "cell_type": "code",
   "execution_count": 2,
   "metadata": {
    "collapsed": false
   },
   "outputs": [
    {
     "name": "stdout",
     "output_type": "stream",
     "text": [
      "heat_amp {'ip': 0, 'min_val': 0.5, 'max_val': 2.0, 'latex': '$H_A$'}\n",
      "heat_slo {'ip': 1, 'min_val': -0.5, 'max_val': 0.5, 'latex': '$H_S$'}\n",
      "z_rei {'ip': 2, 'min_val': 6.0, 'max_val': 12.0, 'latex': '$z_r$'}\n"
     ]
    }
   ],
   "source": [
    "# get list of simulation parameters\n",
    "add_growth=False\n",
    "add_amplitude=False\n",
    "add_slope=False\n",
    "add_running=False\n",
    "add_heat_amp=True\n",
    "add_heat_slo=True\n",
    "add_z_rei=True\n",
    "param_space=sim_params_space.SimulationParameterSpace(add_growth=add_growth,add_amplitude=add_amplitude,\n",
    "                                    add_slope=add_slope,add_running=add_running,\n",
    "                                    add_heat_amp=add_heat_amp,add_heat_slo=add_heat_slo,add_z_rei=add_z_rei)\n",
    "params=param_space.params\n",
    "for key,param in params.items():\n",
    "    print(key,param)"
   ]
  },
  {
   "cell_type": "code",
   "execution_count": 3,
   "metadata": {
    "collapsed": false
   },
   "outputs": [
    {
     "name": "stdout",
     "output_type": "stream",
     "text": [
      "z_star = 3.0\n",
      "kp_Mpc = 0.7\n"
     ]
    }
   ],
   "source": [
    "# get pivot point\n",
    "z_star=param_space.z_star\n",
    "kp_Mpc=param_space.kp_Mpc\n",
    "print('z_star =',z_star)\n",
    "print('kp_Mpc =',kp_Mpc)\n",
    "Npar=len(params)\n",
    "param_limits=np.empty([Npar,2])\n",
    "for key,param in params.items():\n",
    "    ip=param['ip']\n",
    "    param_limits[ip][0]=param['min_val']\n",
    "    param_limits[ip][1]=param['max_val']"
   ]
  },
  {
   "cell_type": "code",
   "execution_count": 4,
   "metadata": {
    "collapsed": false
   },
   "outputs": [],
   "source": [
    "# generate Latin hypercube \n",
    "nsamples=4\n",
    "seed=101\n",
    "cube=latin_hypercube.get_hypercube_samples(param_limits, nsamples, prior_points = None, seed=seed)"
   ]
  },
  {
   "cell_type": "code",
   "execution_count": 5,
   "metadata": {
    "collapsed": false
   },
   "outputs": [
    {
     "name": "stderr",
     "output_type": "stream",
     "text": [
      "WARNING:root:Too few points to create valid contours\n",
      "WARNING:root:Too few points to create valid contours\n",
      "WARNING:root:Too few points to create valid contours\n"
     ]
    },
    {
     "data": {
      "image/png": "[encoded data removed]",
      "text/plain": [
       "<Figure size 912x912 with 9 Axes>"
      ]
     },
     "execution_count": 5,
     "metadata": {},
     "output_type": "execute_result"
    },
    {
     "data": {
      "image/png": "[encoded data removed]",
      "text/plain": [
       "<Figure size 912x912 with 9 Axes>"
      ]
     },
     "metadata": {},
     "output_type": "display_data"
    }
   ],
   "source": [
    "labels=['']*Npar\n",
    "for key,param in params.items():\n",
    "    ip=param['ip']\n",
    "    labels[ip]=param['latex']\n",
    "corner.corner(cube,labels=labels)"
   ]
  },
  {
   "cell_type": "markdown",
   "metadata": {},
   "source": [
    "###  Plot cosmological parameters in initial setup"
   ]
  },
  {
   "cell_type": "code",
   "execution_count": 6,
   "metadata": {
    "collapsed": false
   },
   "outputs": [
    {
     "name": "stdout",
     "output_type": "stream",
     "text": [
      "H0 = 6.7000E+01, Omega_b h^2 = 2.2000E-02, Omega_c h^2 = 1.2000E-01, Omega_k = 0.0000E+00, Omega_nu h^2 = 0.0000E+00, T_CMB = 2.7255E+00, A_s = 2.1000E-09, n_s = 9.6500E-01, alpha_s = 0.0000E+00\n",
      "fiducial linear power parameters {'f_star': 0.98136951686066309, 'g_star': 0.9677508579459803, 'Delta2_star': 0.36391885574433314, 'n_star': -2.3025651886411502, 'alpha_star': -0.21497062246191764}\n"
     ]
    }
   ],
   "source": [
    "# get fiducial cosmology\n",
    "cosmo_fid = camb_cosmo.get_cosmology()\n",
    "camb_cosmo.print_info(cosmo_fid)\n",
    "# setup fiducial linear power model\n",
    "linP_model_fid=fit_linP.LinearPowerModel(cosmo=cosmo_fid,z_star=z_star,k_units='Mpc',kp=kp_Mpc)\n",
    "print('fiducial linear power parameters',linP_model_fid.get_params())"
   ]
  },
  {
   "cell_type": "markdown",
   "metadata": {},
   "source": [
    " - For each point in cube, write configuration files to run simulation"
   ]
  },
  {
   "cell_type": "code",
   "execution_count": 7,
   "metadata": {
    "collapsed": false
   },
   "outputs": [
    {
     "name": "stdout",
     "output_type": "stream",
     "text": [
      "0 [ 1.0625  0.125   9.75  ]\n",
      "h = 0.67\n",
      "delta_lnA_star = 0.0\n",
      "delta_n_star = 0.0\n",
      "delta_alpha_star = 0.0\n",
      "delta_lnAs = 0.0\n",
      "delta_ns = 0.0\n",
      "delta_nrun = 0.0\n",
      "As = 2.1e-09\n",
      "ns = 0.965\n",
      "nrun = 0.0\n",
      "H0 = 6.7000E+01, Omega_bc = 3.1633E-01, A_s = 2.1000E-09, n_s = 9.6500E-01, alpha_s = 0.0000E+00\n",
      "0 2 9.75\n",
      "z_end for HI reionisation model (Q_HII = 1) = 8.68\n",
      "z_end for HI reionisation model (Q_HII = 1) = 8.68\n",
      "0 0 1.0625\n",
      "0 1 0.125\n",
      "1 [ 1.4375 -0.125   8.25  ]\n",
      "h = 0.67\n",
      "delta_lnA_star = 0.0\n",
      "delta_n_star = 0.0\n",
      "delta_alpha_star = 0.0\n",
      "delta_lnAs = 0.0\n",
      "delta_ns = 0.0\n",
      "delta_nrun = 0.0\n",
      "As = 2.1e-09\n",
      "ns = 0.965\n",
      "nrun = 0.0\n",
      "H0 = 6.7000E+01, Omega_bc = 3.1633E-01, A_s = 2.1000E-09, n_s = 9.6500E-01, alpha_s = 0.0000E+00\n",
      "1 2 8.25\n",
      "z_end for HI reionisation model (Q_HII = 1) = 7.18\n",
      "z_end for HI reionisation model (Q_HII = 1) = 7.18\n",
      "1 0 1.4375\n",
      "1 1 -0.125\n",
      "2 [ 0.6875 -0.375   6.75  ]\n",
      "h = 0.67\n",
      "delta_lnA_star = 0.0\n",
      "delta_n_star = 0.0\n",
      "delta_alpha_star = 0.0\n",
      "delta_lnAs = 0.0\n",
      "delta_ns = 0.0\n",
      "delta_nrun = 0.0\n",
      "As = 2.1e-09\n",
      "ns = 0.965\n",
      "nrun = 0.0\n",
      "H0 = 6.7000E+01, Omega_bc = 3.1633E-01, A_s = 2.1000E-09, n_s = 9.6500E-01, alpha_s = 0.0000E+00\n",
      "2 2 6.75\n",
      "z_end for HI reionisation model (Q_HII = 1) = 5.68\n",
      "z_end for HI reionisation model (Q_HII = 1) = 5.68\n",
      "2 0 0.6875\n",
      "2 1 -0.375\n",
      "3 [  1.8125   0.375   11.25  ]\n",
      "h = 0.67\n",
      "delta_lnA_star = 0.0\n",
      "delta_n_star = 0.0\n",
      "delta_alpha_star = 0.0\n",
      "delta_lnAs = 0.0\n",
      "delta_ns = 0.0\n",
      "delta_nrun = 0.0\n",
      "As = 2.1e-09\n",
      "ns = 0.965\n",
      "nrun = 0.0\n",
      "H0 = 6.7000E+01, Omega_bc = 3.1633E-01, A_s = 2.1000E-09, n_s = 9.6500E-01, alpha_s = 0.0000E+00\n",
      "3 2 11.25\n",
      "z_end for HI reionisation model (Q_HII = 1) = 10.18\n",
      "z_end for HI reionisation model (Q_HII = 1) = 10.18\n",
      "3 0 1.8125\n",
      "3 1 0.375\n"
     ]
    }
   ],
   "source": [
    "sims_dir='test_cube/'\n",
    "os.makedirs(sims_dir,exist_ok=True)\n",
    "write_config.write_cube_json_file(sims_dir,params,cube)\n",
    "info_cosmologies=[]\n",
    "for sample in range(nsamples):\n",
    "    sim_params=cube[sample]\n",
    "    print(sample,sim_params)\n",
    "    cosmo_sim=sim_params_cosmo.cosmo_from_sim_params(params,sim_params,linP_model_fid,verbose=True)\n",
    "    sim_dir=sims_dir+'/sim_pair_'+str(sample)+'/'\n",
    "    os.makedirs(sim_dir,exist_ok=True)\n",
    "    # make a different folder for each simulation in the pair\n",
    "    plus_dir=sim_dir+'/sim_plus/'\n",
    "    os.makedirs(plus_dir,exist_ok=True)\n",
    "    minus_dir=sim_dir+'/sim_minus/'\n",
    "    os.makedirs(minus_dir,exist_ok=True)\n",
    "    # write TREECOOL file\n",
    "    if 'z_rei' in params:\n",
    "        ip=params['z_rei']['ip']\n",
    "        z_mid_HI_reion=cube[sample][ip]\n",
    "        print(sample,ip,z_mid_HI_reion)\n",
    "    else:\n",
    "        z_mid_HI_reion=9.0\n",
    "    write_config.write_treecool_file(plus_dir,z_mid_HI_reion)\n",
    "    write_config.write_treecool_file(minus_dir,z_mid_HI_reion)\n",
    "    # write GenIC parameter file, for both simulations in pair\n",
    "    write_config.write_genic_file(plus_dir,cosmo_sim,paired=False)\n",
    "    write_config.write_genic_file(minus_dir,cosmo_sim,paired=True)\n",
    "    # write MP-Gadget parameter file, for both simulations in pair    \n",
    "    if 'heat_amp' in params:\n",
    "        ip=params['heat_amp']['ip']\n",
    "        heat_amp=cube[sample][ip]\n",
    "        print(sample,ip,heat_amp)\n",
    "    else:\n",
    "        heat_amp=1.0\n",
    "    if 'heat_slo' in params:\n",
    "        ip=params['heat_slo']['ip']\n",
    "        heat_slo=cube[sample][ip]\n",
    "        print(sample,ip,heat_slo)\n",
    "    else:\n",
    "        heat_slo=0.0        \n",
    "    zs=write_config.write_gadget_file(plus_dir,cosmo_sim,heat_amp=heat_amp,heat_slo=heat_slo)\n",
    "    write_config.write_gadget_file(minus_dir,cosmo_sim,heat_amp=heat_amp,heat_slo=heat_slo)    \n",
    "    # construct linear power model and store in JSON format\n",
    "    linP_model_sim=fit_linP.LinearPowerModel(cosmo=cosmo_sim,z_star=z_star,k_units='Mpc',kp=kp_Mpc)\n",
    "    write_config.write_sim_json_file(sim_dir,params,sim_params,linP_model_sim,zs=zs)\n",
    "    # store information for plots\n",
    "    info_cosmo={'cosmo':cosmo_sim,'sim_params':sim_params,'linP_params':linP_model_sim.get_params()}\n",
    "    info_cosmologies.append(info_cosmo)"
   ]
  },
  {
   "cell_type": "code",
   "execution_count": 9,
   "metadata": {
    "collapsed": false
   },
   "outputs": [
    {
     "name": "stdout",
     "output_type": "stream",
     "text": [
      "linP_params {'f_star': 0.98136951686066287, 'g_star': 0.9677508579459803, 'Delta2_star': 0.36391885574433297, 'n_star': -2.3025651886411493, 'alpha_star': -0.21497062246192081}\n",
      "sim_params [ 1.0625  0.125   9.75  ]\n"
     ]
    }
   ],
   "source": [
    "print('linP_params',info_cosmologies[0]['linP_params'])\n",
    "print('sim_params',info_cosmologies[0]['sim_params'])"
   ]
  },
  {
   "cell_type": "code",
   "execution_count": null,
   "metadata": {
    "collapsed": true
   },
   "outputs": [],
   "source": []
  }
 ],
 "metadata": {
  "kernelspec": {
   "display_name": "Python 3",
   "language": "python",
   "name": "python3"
  },
  "language_info": {
   "codemirror_mode": {
    "name": "ipython",
    "version": 3
   },
   "file_extension": ".py",
   "mimetype": "text/x-python",
   "name": "python",
   "nbconvert_exporter": "python",
   "pygments_lexer": "ipython3",
   "version": "3.6.7"
  }
 },
 "nbformat": 4,
 "nbformat_minor": 2
}
