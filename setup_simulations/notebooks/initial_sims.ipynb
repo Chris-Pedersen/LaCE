{
 "cells": [
  {
   "cell_type": "markdown",
   "metadata": {},
   "source": [
    "# Setting up the initial simulation grid\n"
   ]
  },
  {
   "cell_type": "markdown",
   "metadata": {},
   "source": [
    "### Simulation parameters $H$\n",
    "\n",
    "From each simulation we run, we will output a number of snapshots, of order 10. \n",
    "\n",
    "Moreover, for each snapshot we extract different sets of simulated Lyman-$\\alpha$ skewers (normalized quasar spectra), after applying different rescalings of the temperatures in the snapshot. \n",
    "These skewers are written to disk.\n",
    "\n",
    "Finally, from each set of skewers we measure different 1D power spectra, after rescaling the mean optical depth in the spectra. \n",
    "This optical depth rescaling is trivial, and it is done on the fly. \n",
    "Each of these measured power spectra is fed to the emulator. "
   ]
  },
  {
   "cell_type": "markdown",
   "metadata": {},
   "source": [
    "\n",
    "Let's discuss the parameterization of each of the simulation packages:\n",
    "\n",
    "- As we discuss above, the emulator labels the measured power with the set of parameters $ M = \\{ M_P, f, \\lambda_F, \\bar F, \\sigma_T, \\gamma \\} $.\n",
    "\n",
    "- Each set of simulated skewers, written to disk, is described by a subset of these $ \\{ M_P, f, \\lambda_F, \\sigma_T, \\gamma \\} $, since we will have different values of $\\bar F$ from the skewers.\n",
    "\n",
    "- Each snapshot is described by an even smaller subset of parameters, $ \\{ M_P, f, \\lambda_F \\} $, since we will reprocess the snapshot for different temperature-density relations.\n",
    "\n",
    "If we assumed that we can do as much rescaling of mean flux and temperature as we wanted, then this last set of parameters $ \\{ M_P, f, \\lambda_F \\} $ would be the only relevant ones. If we can not rescale as much as we would like to (because the rescaling breaks down at some point?), then we would need to label the snapshots with a \"central temperature\" and \"central mean flux\", around which we would perturb. \n",
    "\n",
    "Now, since we are describing the linear power in comoving units, the shape of the linear power will be the same in all snapshots. The only parameters that will vary are the amplitude of the linear power, the logarithmic growth rate $f$ and the filtering length $\\lambda_F$. So each simulation will be described by two shape parameters, and $N_z \\times \\{ A_p, f, \\lambda_F \\}$, where $N_z$ is the number of snapshots. \n",
    "\n",
    "$$ H = \\{ n_p, \\alpha_p, N_z \\times \\{ A_p, f, \\lambda_F \\} \\} $$\n",
    "\n",
    "\n",
    "The question is: how do we decide what simulation to run, i.e., what configuration files to use, if we are handed a set of parameters $H$? We will not aim at having a perfect match between the two, we just want to get on the right ball park."
   ]
  },
  {
   "cell_type": "markdown",
   "metadata": {},
   "source": [
    "From the point of view of cosmological parameters:\n",
    " - We start by defining a fiducial cosmology, somewhere around Planck, but WITHOUT NEUTRINOS. This is important, since our simulations will not have neutrinos. All quantities with $^0$ will refer to that fiducial cosmology. \n",
    " - In flat $\\Lambda$CDM models, we can translate the requirement of a given $f_\\star$ into a requirement of a given $\\Omega_\\star = \\Omega_{cb}(z_\\star)$, using $f_\\star = \\Omega_\\star^{0.55}$.\n",
    " - We can then translate the requirement on $\\Omega_\\star$ to a requirement on $\\Omega_{cb} = \\Omega_{cb}(z=0)$, using $\\Omega_\\star = \\Omega_{cb} (1+z_\\star)^3 / ( \\Omega_{cb} (1+z_\\star)^3 + 1 - \\Omega_{cb} ) $. \n",
    " - We will keep fixed the values of $\\Omega_c h^2$ and $\\Omega_b h^2$, so the requirement on $\\Omega_{cb}$ can be related to a requirement on $h$, using $h^2 = (\\Omega_b h^2 + \\Omega_c h^2)/\\Omega_{cb} $.\n",
    " - We will also measure the shape of the linear power at $z_\\star$ around $k_p$, and modify the slope and running of the primordial power to match the required shape.\n",
    " - So the cosmology in the simulation will be specified by $\\{ \\Omega_\\star, A_p, n_p, \\alpha_p \\}$, where $A_p$ will be computed at $z_\\star$."
   ]
  },
  {
   "cell_type": "markdown",
   "metadata": {},
   "source": [
    "From the point of view of the pressure smoothing:\n",
    " - We will look at the value of the filtering length at a pre-HeII and at a post-HeII redshift, say z=2 and z=4. \n",
    " - We will use the Oñorbe models to translate the required values for $\\lambda_F$ pre- and post-HeII reionization to a required thermal history. It will probably be enough to specify a scaling of the heating rates before ($\\mu_H$) and after ($\\mu_{He}$) He_II reionizaion. "
   ]
  },
  {
   "cell_type": "markdown",
   "metadata": {},
   "source": [
    "### Initial simulation grid\n",
    "\n",
    "We have 6 simulation parameters: \n",
    "\n",
    "$$ H = \\{ \\mu_H, \\mu_{He}, \\Omega_\\star, \\Delta_p^2, n_p, \\alpha_p \\} $$\n",
    "\n",
    "We will choose the following parameter volume for the simulations:\n",
    " - $ 0.5 < \\mu_H < 2.0 $\n",
    " - $ 0.5 < \\mu_{He} < 2.0 $\n",
    " - $ 0.950 < \\Omega_\\star < 0.975 $\n",
    " - $ 0.25 < \\Delta_p^2 < 0.45 $\n",
    " - $ -2.35 < n_p < -2.25 $\n",
    " - $ -0.265 < \\alpha_p < -0.165 $"
   ]
  },
  {
   "cell_type": "code",
   "execution_count": 1,
   "metadata": {
    "collapsed": false
   },
   "outputs": [],
   "source": [
    "%matplotlib inline\n",
    "%load_ext autoreload\n",
    "%autoreload 2\n",
    "import numpy as np\n",
    "import os\n",
    "import copy\n",
    "## Set default plot size, as normally its a bit too small\n",
    "import matplotlib.pyplot as plt\n",
    "import matplotlib as mpl\n",
    "mpl.rcParams['savefig.dpi'] = 120\n",
    "mpl.rcParams['figure.dpi'] = 120\n",
    "import fit_pk\n",
    "import read_genic\n",
    "import write_config\n",
    "import camb_cosmo\n",
    "import latin_hypercube"
   ]
  },
  {
   "cell_type": "code",
   "execution_count": 2,
   "metadata": {
    "collapsed": false
   },
   "outputs": [],
   "source": [
    "def get_sim_params(z_star=3.0,kp_Mpc=0.7,add_running=False,add_mu_H=False):\n",
    "    \"\"\"Return list of simulation parameters, with name and allowed range\"\"\"\n",
    "    params={}\n",
    "    params['Om_star']={'ip':len(params), 'min_val':0.950, 'max_val':0.975, 'z_star':z_star, 'latex':r'$\\Omega_\\star$'}\n",
    "    params['Delta2_star']={'ip':len(params), 'min_val':0.25, 'max_val':0.45, 'z_star':z_star, 'kp_Mpc':kp_Mpc, 'latex':r'$\\Delta^2_\\star$'}\n",
    "    params['n_star']={'ip':len(params), 'min_val':-2.35, 'max_val':-2.25, 'z_star':z_star, 'kp_Mpc':kp_Mpc, 'latex':r'$n_\\star$'}\n",
    "    if add_running:\n",
    "        params['alpha_star']={'ip':len(params), 'min_val':-0.265, 'max_val':-0.165, 'z_star':z_star, 'kp_Mpc':kp_Mpc, 'latex':r'$\\alpha_\\star$'}\n",
    "    params['mu_He']={'ip':len(params), 'min_val':0.5, 'max_val':2.0, 'latex':r'$\\mu_{\\rm He}$'}\n",
    "    if add_mu_H:\n",
    "        params['mu_H']={'ip':len(params), 'min_val':0.5, 'max_val':2.0, 'latex':r'$\\mu_{\\rm H}$'}\n",
    "    return params"
   ]
  },
  {
   "cell_type": "markdown",
   "metadata": {},
   "source": [
    "- Setup Latin hypercube"
   ]
  },
  {
   "cell_type": "code",
   "execution_count": 3,
   "metadata": {
    "collapsed": false
   },
   "outputs": [],
   "source": [
    "# get list of simulation parameters\n",
    "z_star=3.0\n",
    "kp_Mpc=0.7\n",
    "add_running=True\n",
    "param_space = get_sim_params(z_star=z_star,kp_Mpc=kp_Mpc,add_running=add_running)\n",
    "Npar=len(param_space)\n",
    "param_limits=np.empty([Npar,2])\n",
    "for key,param in param_space.items():\n",
    "    ip=param['ip']\n",
    "    #print(\"{} = {}\".format(key, ip))\n",
    "    param_limits[ip][0]=param['min_val']\n",
    "    param_limits[ip][1]=param['max_val']"
   ]
  },
  {
   "cell_type": "code",
   "execution_count": 4,
   "metadata": {
    "collapsed": false
   },
   "outputs": [],
   "source": [
    "# generate Latin hypercube \n",
    "nsamples=10\n",
    "seed=101\n",
    "cube=latin_hypercube.get_hypercube_samples(param_limits, nsamples, prior_points = None, seed=seed)"
   ]
  },
  {
   "cell_type": "markdown",
   "metadata": {},
   "source": [
    " - Setup fiducial cosmology"
   ]
  },
  {
   "cell_type": "code",
   "execution_count": null,
   "metadata": {
    "collapsed": false
   },
   "outputs": [
    {
     "name": "stdout",
     "output_type": "stream",
     "text": [
      "H0 = 6.7000E+01, Omega_b h^2 = 2.2000E-02, Omega_b h^2 = 1.2000E-01, Omega_k = 0.0000E+00, Omega_nu h^2 = 0.0000E+00, T_CMB = 2.7255E+00, A_s = 2.1000E-09, n_s = 9.6500E-01, alpha_s = 0.0000E+00\n",
      "fiducial linear power parameters {'f_star': 0.98136945578065649, 'g_star': 0.9677508579459803, 'Delta2_star': 0.36391885574433314, 'n_star': -2.3025651886411493, 'alpha_star': -0.21497062246192555, 'linP_Mpc': poly1d([-0.10748531, -2.30256519,  3.04180742])}\n"
     ]
    }
   ],
   "source": [
    "cosmo_fid = camb_cosmo.get_cosmology()\n",
    "camb_cosmo.print_info(cosmo_fid)\n",
    "# get linear power parameters, in comoving units\n",
    "linP_params_fid=fit_pk.parameterize_cosmology_Mpc(cosmo_fid,z_star=z_star,kp_Mpc=kp_Mpc)\n",
    "print('fiducial linear power parameters',linP_params_fid)"
   ]
  },
  {
   "cell_type": "markdown",
   "metadata": {},
   "source": [
    " - For each point in cube, write configuration files to run simulation"
   ]
  },
  {
   "cell_type": "code",
   "execution_count": null,
   "metadata": {
    "collapsed": false
   },
   "outputs": [
    {
     "name": "stdout",
     "output_type": "stream",
     "text": [
      "0 [ 0.95625  0.4     -2.335   -0.21     1.325  ]\n",
      "1 [ 0.95375  0.42    -2.315   -0.23     1.775  ]\n",
      "2 [ 0.96375  0.26    -2.285   -0.19     1.175  ]\n",
      "3 [ 0.96625  0.36    -2.325   -0.24     1.625  ]\n",
      "4 [ 0.97125  0.34    -2.305   -0.18     1.475  ]\n",
      "5 [ 0.96875  0.32    -2.275   -0.22     0.725  ]\n",
      "6 [ 0.95875  0.3     -2.295   -0.25     1.025  ]\n"
     ]
    }
   ],
   "source": [
    "sim_dirs='test_cube/'\n",
    "write_config.mkdir_if_not_exists(sim_dirs)\n",
    "write_config.write_cube_json_file(sim_dirs+'latin_hypercube',param_space)\n",
    "info_cosmologies=[]\n",
    "for sample in range(nsamples):\n",
    "    sim_params=cube[sample]\n",
    "    print(sample,sim_params)\n",
    "    cosmo_sim=fit_pk.cosmo_from_sim_params(param_space,sim_params,cosmo_fid,linP_params_fid,z_star,kp_Mpc,verbose=False)\n",
    "    sim_dir=sim_dirs+'sim_'+str(sample)+'/'\n",
    "    write_config.mkdir_if_not_exists(sim_dir)\n",
    "    file_name=sim_dir+'paramfile'\n",
    "    # write GenIC and MP-Gadget parameters, for both simulations in pair\n",
    "    for paired in [False,True]:\n",
    "        write_config.write_genic_file(file_name,cosmo_sim,paired=paired)\n",
    "        write_config.write_gadget_file(file_name,cosmo_sim,paired=paired)\n",
    "    # compute fit parameters and store in JSON format\n",
    "    linP_params_sim=fit_pk.parameterize_cosmology_Mpc(cosmo_sim,z_star=z_star,kp_Mpc=kp_Mpc)  \n",
    "    write_config.write_sim_json_file(file_name,param_space,sim_params,linP_params_sim)\n",
    "    # store information for plots\n",
    "    info_cosmo={'cosmo':cosmo_sim,'sim_params':sim_params,'linP_params':linP_params_sim}\n",
    "    info_cosmologies.append(info_cosmo)"
   ]
  },
  {
   "cell_type": "code",
   "execution_count": null,
   "metadata": {
    "collapsed": false
   },
   "outputs": [],
   "source": [
    "print(info_cosmologies[0]['linP_params'])\n",
    "print('sim_params',info_cosmologies[0]['sim_params'])"
   ]
  },
  {
   "cell_type": "code",
   "execution_count": null,
   "metadata": {
    "collapsed": false
   },
   "outputs": [],
   "source": [
    "labels=['']*Npar\n",
    "for key,param in param_space.items():\n",
    "    ip=param['ip']\n",
    "    labels[ip]=param['latex']"
   ]
  },
  {
   "cell_type": "code",
   "execution_count": null,
   "metadata": {
    "collapsed": false
   },
   "outputs": [],
   "source": [
    "import corner\n",
    "corner.corner(cube,labels=labels)"
   ]
  },
  {
   "cell_type": "code",
   "execution_count": null,
   "metadata": {
    "collapsed": false
   },
   "outputs": [],
   "source": [
    "# plot corner plot for derived parameters\n",
    "if add_running:\n",
    "    derived_labels=[r'$H_0$',r'$\\Omega_m$',r'$A_s$',r'$n_s$',r'$\\alpha_s$']\n",
    "else:\n",
    "    derived_labels=[r'$H_0$',r'$\\Omega_m$',r'$A_s$',r'$n_s$']\n",
    "Npar=len(derived_labels)\n",
    "Ncos=len(info_cosmologies)\n",
    "print(derived_labels)\n",
    "derived_params=np.ndarray([Ncos,Npar])\n",
    "print(derived_params.shape)\n",
    "for icosmo in range(Ncos):\n",
    "    cosmo = info_cosmologies[icosmo]['cosmo']\n",
    "    H0=cosmo.H0\n",
    "    h=H0/100.0\n",
    "    omh2=cosmo.omch2+cosmo.ombh2\n",
    "    derived_params[icosmo][0]=H0\n",
    "    derived_params[icosmo][1]=(omh2/h**2)\n",
    "    derived_params[icosmo][2]=cosmo.InitPower.As\n",
    "    derived_params[icosmo][3]=cosmo.InitPower.ns\n",
    "    if add_running:\n",
    "        derived_params[icosmo][4]=cosmo.InitPower.nrun\n",
    "corner.corner(derived_params,labels=derived_labels)"
   ]
  }
 ],
 "metadata": {
  "kernelspec": {
   "display_name": "Python 3",
   "language": "python",
   "name": "python3"
  },
  "language_info": {
   "codemirror_mode": {
    "name": "ipython",
    "version": 3
   },
   "file_extension": ".py",
   "mimetype": "text/x-python",
   "name": "python",
   "nbconvert_exporter": "python",
   "pygments_lexer": "ipython3",
   "version": "3.6.0"
  }
 },
 "nbformat": 4,
 "nbformat_minor": 2
}
