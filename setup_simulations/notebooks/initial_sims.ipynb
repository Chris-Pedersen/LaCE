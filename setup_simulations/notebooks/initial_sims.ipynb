{
 "cells": [
  {
   "cell_type": "markdown",
   "metadata": {},
   "source": [
    "# Setting up the initial simulation grid\n"
   ]
  },
  {
   "cell_type": "markdown",
   "metadata": {},
   "source": [
    "### Simulation parameters $H$\n",
    "\n",
    "From each simulation we run, we will output a number of snapshots, of order 10. \n",
    "\n",
    "Moreover, for each snapshot we extract different sets of simulated Lyman-$\\alpha$ skewers (normalized quasar spectra), after applying different rescalings of the temperatures in the snapshot. \n",
    "These skewers are written to disk.\n",
    "\n",
    "Finally, from each set of skewers we measure different 1D power spectra, after rescaling the mean optical depth in the spectra. \n",
    "This optical depth rescaling is trivial, and it is done on the fly. \n",
    "Each of these measured power spectra is fed to the emulator. "
   ]
  },
  {
   "cell_type": "markdown",
   "metadata": {},
   "source": [
    "\n",
    "Let's discuss the parameterization of each of the simulation packages:\n",
    "\n",
    "- As we discuss above, the emulator labels the measured power with the set of parameters $ M = \\{ M_P, f, \\lambda_F, \\bar F, \\sigma_T, \\gamma \\} $.\n",
    "\n",
    "- Each set of simulated skewers, written to disk, is described by a subset of these $ \\{ M_P, f, \\lambda_F, \\sigma_T, \\gamma \\} $, since we will have different values of $\\bar F$ from the skewers.\n",
    "\n",
    "- Each snapshot is described by an even smaller subset of parameters, $ \\{ M_P, f, \\lambda_F \\} $, since we will reprocess the snapshot for different temperature-density relations.\n",
    "\n",
    "If we assumed that we can do as much rescaling of mean flux and temperature as we wanted, then this last set of parameters $ \\{ M_P, f, \\lambda_F \\} $ would be the only relevant ones. If we can not rescale as much as we would like to (because the rescaling breaks down at some point?), then we would need to label the snapshots with a \"central temperature\" and \"central mean flux\", around which we would perturb. \n",
    "\n",
    "Now, since we are describing the linear power in comoving units, the shape of the linear power will be the same in all snapshots. The only parameters that will vary are the amplitude of the linear power, the logarithmic growth rate $f$ and the filtering length $\\lambda_F$. So each simulation will be described by two shape parameters, and $N_z \\times \\{ A_p, f, \\lambda_F \\}$, where $N_z$ is the number of snapshots. \n",
    "\n",
    "$$ H = \\{ n_p, \\alpha_p, N_z \\times \\{ A_p, f, \\lambda_F \\} \\} $$\n",
    "\n",
    "\n",
    "The question is: how do we decide what simulation to run, i.e., what configuration files to use, if we are handed a set of parameters $H$? We will not aim at having a perfect match between the two, we just want to get on the right ball park."
   ]
  },
  {
   "cell_type": "markdown",
   "metadata": {},
   "source": [
    "From the point of view of cosmological parameters:\n",
    " - We start by defining a fiducial cosmology, somewhere around Planck, but WITHOUT NEUTRINOS. This is important, since our simulations will not have neutrinos. All quantities with $^0$ will refer to that fiducial cosmology. \n",
    " - In flat $\\Lambda$CDM models, we can translate the requirement of a given $f_\\star$ into a requirement of a given $\\Omega_\\star = \\Omega_{cb}(z_\\star)$, using $f_\\star = \\Omega_\\star^{0.55}$.\n",
    " - We can then translate the requirement on $\\Omega_\\star$ to a requirement on $\\Omega_{cb} = \\Omega_{cb}(z=0)$, using $\\Omega_\\star = \\Omega_{cb} (1+z_\\star)^3 / ( \\Omega_{cb} (1+z_\\star)^3 + 1 - \\Omega_{cb} ) $. \n",
    " - We will keep fixed the values of $\\Omega_c h^2$ and $\\Omega_b h^2$, so the requirement on $\\Omega_{cb}$ can be related to a requirement on $h$, using $h^2 = (\\Omega_b h^2 + \\Omega_c h^2)/\\Omega_{cb} $.\n",
    " - We will also measure the shape of the linear power at $z_\\star$ around $k_p$, and modify the slope and running of the primordial power to match the required shape.\n",
    " - So the cosmology in the simulation will be specified by $\\{ \\Omega_\\star, A_p, n_p, \\alpha_p \\}$, where $A_p$ will be computed at $z_\\star$."
   ]
  },
  {
   "cell_type": "markdown",
   "metadata": {},
   "source": [
    "From the point of view of the pressure smoothing:\n",
    " - We will look at the value of the filtering length at a pre-HeII and at a post-HeII redshift, say z=2 and z=4. \n",
    " - We will use the Oñorbe models to translate the required values for $\\lambda_F$ pre- and post-HeII reionization to a required thermal history. It will probably be enough to specify a scaling of the heating rates before ($\\mu_H$) and after ($\\mu_{He}$) He_II reionizaion. "
   ]
  },
  {
   "cell_type": "markdown",
   "metadata": {},
   "source": [
    "### Initial simulation grid\n",
    "\n",
    "We have 6 simulation parameters: \n",
    "\n",
    "$$ H = \\{ \\mu_H, \\mu_{He}, \\Omega_\\star, \\Delta_p^2, n_p, \\alpha_p \\} $$\n",
    "\n",
    "We will choose the following parameter volume for the simulations:\n",
    " - $ 0.5 < \\mu_H < 2.0 $\n",
    " - $ 0.5 < \\mu_{He} < 2.0 $\n",
    " - $ 0.950 < \\Omega_\\star < 0.975 $\n",
    " - $ 0.25 < \\Delta_p^2 < 0.45 $\n",
    " - $ -2.4 < n_p < -2.3 $\n",
    " - $ -0.12 < \\alpha_p < -0.08 $"
   ]
  },
  {
   "cell_type": "code",
   "execution_count": 1,
   "metadata": {
    "collapsed": false
   },
   "outputs": [],
   "source": [
    "%matplotlib inline\n",
    "#%load_ext autoreload\n",
    "#%autoreload 2\n",
    "import numpy as np\n",
    "import os\n",
    "import copy\n",
    "## Set default plot size, as normally its a bit too small\n",
    "import matplotlib.pyplot as plt\n",
    "import matplotlib as mpl\n",
    "mpl.rcParams['savefig.dpi'] = 120\n",
    "mpl.rcParams['figure.dpi'] = 120\n",
    "import fit_pk\n",
    "import read_genic\n",
    "import write_genic\n",
    "import camb_cosmo\n",
    "import latin_hypercube"
   ]
  },
  {
   "cell_type": "code",
   "execution_count": 2,
   "metadata": {
    "collapsed": false
   },
   "outputs": [],
   "source": [
    "def get_sim_params(z_star=3.0,kp_Mpc=0.7):\n",
    "    \"\"\"Return list of simulation parameters, with name and allowed range\"\"\"\n",
    "    params={}\n",
    "    params['mu_H']={'ip':0, 'min_val':0.5, 'max_val':2.0}\n",
    "    params['mu_He']={'ip':1, 'min_val':0.5, 'max_val':2.0}\n",
    "    params['Om_star']={'ip':2, 'min_val':0.950, 'max_val':0.975, 'z_star':z_star}\n",
    "    params['Delta2_star']={'ip':3, 'min_val':0.25, 'max_val':0.45, 'z_star':z_star, 'kp_Mpc':kp_Mpc}\n",
    "    params['n_star']={'ip':4, 'min_val':-2.4, 'max_val':-2.3, 'z_star':z_star, 'kp_Mpc':kp_Mpc}\n",
    "    params['alpha_star']={'ip':5, 'min_val':-0.12, 'max_val':-0.08, 'z_star':z_star, 'kp_Mpc':kp_Mpc}\n",
    "    return params"
   ]
  },
  {
   "cell_type": "code",
   "execution_count": 3,
   "metadata": {
    "collapsed": true
   },
   "outputs": [],
   "source": [
    "def Om_from_Om_star(Om_star,z_star=3):\n",
    "    z3=(1+z_star)**3\n",
    "    Om=Om_star/(z3+Om_star-Om_star*z3)\n",
    "    return Om"
   ]
  },
  {
   "cell_type": "code",
   "execution_count": 4,
   "metadata": {
    "collapsed": false
   },
   "outputs": [],
   "source": [
    "def cosmo_from_sim_params(param_values,cosmo_fid,z_star,kp_Mpc):\n",
    "    \"\"\"Given list of simulation parameters, and fiducial cosmology, return target cosmology\"\"\"\n",
    "    # get linear power parameters, in comoving units\n",
    "    linP_params_fid=fit_pk.parameterize_cosmology_Mpc(cosmo_fid,z_star=z_star,kp_Mpc=kp_Mpc)\n",
    "    print('fiducial cosmology parameters',linP_params_fid)\n",
    "    # translate Omega_star to Omega_0\n",
    "    Om_star=params_values[2]\n",
    "    Om=Om_from_Om_star(params[2],z_star=z_star)\n",
    "    print('Omega_m',Om)"
   ]
  },
  {
   "cell_type": "markdown",
   "metadata": {},
   "source": [
    "- Setup Latin hypercube"
   ]
  },
  {
   "cell_type": "code",
   "execution_count": 5,
   "metadata": {
    "collapsed": false
   },
   "outputs": [
    {
     "name": "stdout",
     "output_type": "stream",
     "text": [
      "mu_H = 0\n",
      "mu_He = 1\n",
      "Om_star = 2\n",
      "Delta2_star = 3\n",
      "n_star = 4\n",
      "alpha_star = 5\n"
     ]
    }
   ],
   "source": [
    "# get list of simulation parameters\n",
    "z_star=3.0\n",
    "kp_Mpc=0.7\n",
    "params = get_sim_params(z_star=z_star,kp_Mpc=kp_Mpc)\n",
    "Npar=len(params)\n",
    "param_limits=np.empty([Npar,2])\n",
    "for key,param in params.items():\n",
    "    ip=param['ip']\n",
    "    print(\"{} = {}\".format(key, ip))\n",
    "    param_limits[ip][0]=param['min_val']\n",
    "    param_limits[ip][1]=param['max_val']"
   ]
  },
  {
   "cell_type": "code",
   "execution_count": 6,
   "metadata": {
    "collapsed": false
   },
   "outputs": [
    {
     "name": "stdout",
     "output_type": "stream",
     "text": [
      "first point in cube [ 0.95    0.95    0.9575  0.39   -2.35   -0.084 ]\n"
     ]
    }
   ],
   "source": [
    "# generate Latin hypercube \n",
    "nsamples=5\n",
    "seed=123\n",
    "cube=latin_hypercube.get_hypercube_samples(param_limits, nsamples, prior_points = None, seed=seed)\n",
    "print('first point in cube',cube[0])"
   ]
  },
  {
   "cell_type": "markdown",
   "metadata": {},
   "source": [
    " - Setup fiducial cosmology"
   ]
  },
  {
   "cell_type": "code",
   "execution_count": 7,
   "metadata": {
    "collapsed": false
   },
   "outputs": [
    {
     "name": "stdout",
     "output_type": "stream",
     "text": [
      "H0 = 67.0 ; Omega_b h^2 = 0.022 ; Omega_c h^2 = 0.12 ; Omega_k = 0.0 ; ommnuh2 = 0.0 ; T_CMB = 2.7255 ; A_s = 2.1e-09 ; n_s = 0.96 ; alpha_s = 0.0\n",
      "fiducial cosmology parameters {'f_star': 0.98136698840516934, 'g_star': 0.9677508579459803, 'linP_Mpc': poly1d([-0.10748482, -2.30758676,  3.02860938])}\n"
     ]
    }
   ],
   "source": [
    "cosmo_fid = camb_cosmo.get_cosmology()\n",
    "camb_cosmo.print_info(cosmo_fid)\n",
    "# get linear power parameters, in comoving units\n",
    "linP_params_fid=fit_pk.parameterize_cosmology_Mpc(cosmo_fid,z_star=z_star,kp_Mpc=kp_Mpc)\n",
    "print('fiducial cosmology parameters',linP_params_fid)"
   ]
  },
  {
   "cell_type": "code",
   "execution_count": 8,
   "metadata": {
    "collapsed": false
   },
   "outputs": [
    {
     "name": "stdout",
     "output_type": "stream",
     "text": [
      "first point in cube [ 0.95    0.95    0.9575  0.39   -2.35   -0.084 ]\n",
      "2 0.9575\n",
      "Omega_m 0.260367097213\n"
     ]
    }
   ],
   "source": [
    "point=cube[0]\n",
    "print('first point in cube',point)\n",
    "# extract relevant information from point\n",
    "ip_Om_star=params['Om_star']['ip']\n",
    "Om_star=point[ip_Om_star]\n",
    "print(ip_Om_star,Om_star)\n",
    "# translate Omega_star to Omega_0\n",
    "Om=Om_from_Om_star(Om_star,z_star)\n",
    "print('Omega_m',Om)"
   ]
  },
  {
   "cell_type": "code",
   "execution_count": 9,
   "metadata": {
    "collapsed": false
   },
   "outputs": [
    {
     "name": "stdout",
     "output_type": "stream",
     "text": [
      "h= 0.738501057555\n",
      "temporary cosmology parameters {'f_star': 0.97591366253738121, 'g_star': 0.9579239654271418, 'linP_Mpc': poly1d([-0.10744778, -2.30756118,  3.02486379])}\n"
     ]
    }
   ],
   "source": [
    "# get parameters from fiducial cosmology\n",
    "Obh2=cosmo_fid.ombh2\n",
    "Och2=cosmo_fid.omch2\n",
    "Omh2=Obh2+Och2\n",
    "h=np.sqrt(Omh2/Om)\n",
    "print('h=',h)\n",
    "# get temporary cosmology to tune primordial power spectrum\n",
    "cosmo_temp=camb_cosmo.get_cosmology(H0=100.0*h)\n",
    "# get linear power parameters, in comoving units\n",
    "linP_params_temp=fit_pk.parameterize_cosmology_Mpc(cosmo_temp,z_star=z_star,kp_Mpc=kp_Mpc)\n",
    "print('temporary cosmology parameters',linP_params_temp)"
   ]
  },
  {
   "cell_type": "code",
   "execution_count": 10,
   "metadata": {
    "collapsed": false
   },
   "outputs": [
    {
     "name": "stdout",
     "output_type": "stream",
     "text": [
      "delta_lnA_star 0.086159459143\n",
      "delta_n_star -0.0424388199641\n",
      "delta_alpha_star 0.0234477821373\n"
     ]
    }
   ],
   "source": [
    "# difference in linear power at kp between target and fiducial cosmology, once they have the same transfer function\n",
    "ip_Delta2_star=params['Delta2_star']['ip']\n",
    "Delta2_star=point[ip_Delta2_star]\n",
    "A_star=Delta2_star*(2*np.pi**2)/kp_Mpc**3\n",
    "lnA_star=np.log(A_star)\n",
    "delta_lnA_star=lnA_star-linP_params_temp['linP_Mpc'][0]\n",
    "print('delta_lnA_star',delta_lnA_star)\n",
    "# slope\n",
    "ip_n_star=params['n_star']['ip']\n",
    "n_star=point[ip_n_star]\n",
    "delta_n_star=n_star-linP_params_temp['linP_Mpc'][1]\n",
    "print('delta_n_star',delta_n_star)\n",
    "# running\n",
    "ip_alpha_star=params['alpha_star']['ip']\n",
    "alpha_star=point[ip_alpha_star]\n",
    "delta_alpha_star=alpha_star-linP_params_temp['linP_Mpc'][2]\n",
    "print('delta_alpha_star',delta_alpha_star)"
   ]
  },
  {
   "cell_type": "code",
   "execution_count": 11,
   "metadata": {
    "collapsed": false
   },
   "outputs": [
    {
     "name": "stdout",
     "output_type": "stream",
     "text": [
      "ln_kCMB_p -2.63905732962\n",
      "delta_lnAs 0.279810426321\n",
      "delta_ns -0.104318861277\n",
      "delta_nrun 0.0234477821373\n"
     ]
    }
   ],
   "source": [
    "# transform differences into differences at kp_CMB\n",
    "kCMB=cosmo_fid.InitPower.pivot_scalar\n",
    "# ratio of pivot points\n",
    "ln_kCMB_p=np.log(kCMB/kp_Mpc)\n",
    "print('ln_kCMB_p',ln_kCMB_p)\n",
    "delta_nrun=delta_alpha_star\n",
    "delta_ns=delta_n_star+delta_alpha_star*ln_kCMB_p\n",
    "delta_lnAs=delta_lnA_star+delta_n_star*ln_kCMB_p+0.5*delta_alpha_star*ln_kCMB_p**2\n",
    "print('delta_lnAs',delta_lnAs)\n",
    "print('delta_ns',delta_ns)\n",
    "print('delta_nrun',delta_nrun)"
   ]
  },
  {
   "cell_type": "code",
   "execution_count": 12,
   "metadata": {
    "collapsed": false
   },
   "outputs": [
    {
     "name": "stdout",
     "output_type": "stream",
     "text": [
      "As 2.7780459116e-09\n",
      "ns 0.855681138723\n",
      "nrun 0.0234477821373\n"
     ]
    }
   ],
   "source": [
    "# compute primordial power for target cosmology\n",
    "lnAs=np.log(cosmo_temp.InitPower.As)+delta_lnAs\n",
    "As=np.exp(lnAs)\n",
    "ns=cosmo_temp.InitPower.ns+delta_ns\n",
    "nrun=cosmo_temp.InitPower.nrun+delta_nrun\n",
    "print('As',np.exp(lnAs))\n",
    "print('ns',ns)\n",
    "print('nrun',nrun)"
   ]
  },
  {
   "cell_type": "code",
   "execution_count": 13,
   "metadata": {
    "collapsed": false
   },
   "outputs": [
    {
     "name": "stdout",
     "output_type": "stream",
     "text": [
      "H0 = 73.85010575553991 ; Omega_b h^2 = 0.022 ; Omega_c h^2 = 0.12 ; Omega_k = 0.0 ; ommnuh2 = 0.0 ; T_CMB = 2.7255 ; A_s = 2.7780459116026874e-09 ; n_s = 0.8556811387232228 ; alpha_s = 0.0234477821373157\n",
      "simulation cosmology parameters {'f_star': 0.97591366253738121, 'g_star': 0.9579239654271418, 'linP_Mpc': poly1d([-0.09572389, -2.35      ,  3.11102324])}\n",
      "sim Delta2 = 0.39\n",
      "target point was [ 0.95    0.95    0.9575  0.39   -2.35   -0.084 ]\n"
     ]
    }
   ],
   "source": [
    "# setup simulation cosmology object\n",
    "cosmo_sim=camb_cosmo.get_cosmology(H0=100.0*h,As=As,ns=ns,nrun=nrun)\n",
    "camb_cosmo.print_info(cosmo_sim)\n",
    "# get linear power parameters, in comoving units\n",
    "linP_params_sim=fit_pk.parameterize_cosmology_Mpc(cosmo_sim,z_star=z_star,kp_Mpc=kp_Mpc)\n",
    "print('simulation cosmology parameters',linP_params_sim)\n",
    "print('sim Delta2 =',np.exp(linP_params_sim['linP_Mpc'][0])*kp_Mpc**3/(2*np.pi**2))\n",
    "print('target point was',point)"
   ]
  },
  {
   "cell_type": "markdown",
   "metadata": {
    "collapsed": false
   },
   "source": [
    " - Write simulation config files"
   ]
  },
  {
   "cell_type": "code",
   "execution_count": 14,
   "metadata": {
    "collapsed": false
   },
   "outputs": [
    {
     "name": "stdout",
     "output_type": "stream",
     "text": [
      "Modify GenIC to allow for running 0.0234477821373157\n",
      "filename  test_simjson\n",
      "H0\n"
     ]
    }
   ],
   "source": [
    "root_file_name='test_sim'\n",
    "write_genic.write_genic_file(root_file_name,cosmo_sim)\n",
    "write_genic.write_gadget_file(root_file_name,cosmo_sim)\n",
    "write_genic.write_json_file(root_file_name,cosmo_sim,point)"
   ]
  },
  {
   "cell_type": "code",
   "execution_count": null,
   "metadata": {
    "collapsed": true
   },
   "outputs": [],
   "source": []
  }
 ],
 "metadata": {
  "kernelspec": {
   "display_name": "Python 3",
   "language": "python",
   "name": "python3"
  },
  "language_info": {
   "codemirror_mode": {
    "name": "ipython",
    "version": 3
   },
   "file_extension": ".py",
   "mimetype": "text/x-python",
   "name": "python",
   "nbconvert_exporter": "python",
   "pygments_lexer": "ipython3",
   "version": "3.6.0"
  }
 },
 "nbformat": 4,
 "nbformat_minor": 2
}
