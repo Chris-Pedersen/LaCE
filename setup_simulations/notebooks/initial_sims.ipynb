{
 "cells": [
  {
   "cell_type": "markdown",
   "metadata": {},
   "source": [
    "# Setting up the initial simulation grid\n"
   ]
  },
  {
   "cell_type": "markdown",
   "metadata": {},
   "source": [
    "### Simulation parameters $H$\n",
    "\n",
    "From each simulation we run, we will output a number of snapshots, of order 10. \n",
    "\n",
    "Moreover, for each snapshot we extract different sets of simulated Lyman-$\\alpha$ skewers (normalized quasar spectra), after applying different rescalings of the temperatures in the snapshot. \n",
    "These skewers are written to disk.\n",
    "\n",
    "Finally, from each set of skewers we measure different 1D power spectra, after rescaling the mean optical depth in the spectra. \n",
    "This optical depth rescaling is trivial, and it is done on the fly. \n",
    "Each of these measured power spectra is fed to the emulator. "
   ]
  },
  {
   "cell_type": "markdown",
   "metadata": {},
   "source": [
    "\n",
    "Let's discuss the parameterization of each of the simulation packages:\n",
    "\n",
    "- As we discuss above, the emulator labels the measured power with the set of parameters $ M = \\{ M_P, f, \\lambda_F, \\bar F, \\sigma_T, \\gamma \\} $.\n",
    "\n",
    "- Each set of simulated skewers, written to disk, is described by a subset of these $ \\{ M_P, f, \\lambda_F, \\sigma_T, \\gamma \\} $, since we will have different values of $\\bar F$ from the skewers.\n",
    "\n",
    "- Each snapshot is described by an even smaller subset of parameters, $ \\{ M_P, f, \\lambda_F \\} $, since we will reprocess the snapshot for different temperature-density relations.\n",
    "\n",
    "If we assumed that we can do as much rescaling of mean flux and temperature as we wanted, then this last set of parameters $ \\{ M_P, f, \\lambda_F \\} $ would be the only relevant ones. If we can not rescale as much as we would like to (because the rescaling breaks down at some point?), then we would need to label the snapshots with a \"central temperature\" and \"central mean flux\", around which we would perturb. \n",
    "\n",
    "Now, since we are describing the linear power in comoving units, the shape of the linear power will be the same in all snapshots. The only parameters that will vary are the amplitude of the linear power, the logarithmic growth rate $f$ and the filtering length $\\lambda_F$. So each simulation will be described by two shape parameters, and $N_z \\times \\{ A_p, f, \\lambda_F \\}$, where $N_z$ is the number of snapshots. \n",
    "\n",
    "$$ H = \\{ n_p, \\alpha_p, N_z \\times \\{ A_p, f, \\lambda_F \\} \\} $$\n",
    "\n",
    "\n",
    "The question is: how do we decide what simulation to run, i.e., what configuration files to use, if we are handed a set of parameters $H$? We will not aim at having a perfect match between the two, we just want to get on the right ball park."
   ]
  },
  {
   "cell_type": "markdown",
   "metadata": {},
   "source": [
    "From the point of view of cosmological parameters:\n",
    " - We start by defining a fiducial cosmology, somewhere around Planck, but WITHOUT NEUTRINOS. This is important, since our simulations will not have neutrinos. All quantities with $^0$ will refer to that fiducial cosmology. \n",
    " - In flat $\\Lambda$CDM models, we can translate the requirement of a given $f_\\star$ into a requirement of a given $\\Omega_\\star = \\Omega_{cb}(z_\\star)$, using $f_\\star = \\Omega_\\star^{0.55}$.\n",
    " - We can then translate the requirement on $\\Omega_\\star$ to a requirement on $\\Omega_{cb} = \\Omega_{cb}(z=0)$, using $\\Omega_\\star = \\Omega_{cb} (1+z_\\star)^3 / ( \\Omega_{cb} (1+z_\\star)^3 + 1 - \\Omega_{cb} ) $. \n",
    " - We will keep fixed the values of $\\Omega_c h^2$ and $\\Omega_b h^2$, so the requirement on $\\Omega_{cb}$ can be related to a requirement on $h$, using $h^2 = (\\Omega_b h^2 + \\Omega_c h^2)/\\Omega_{cb} $.\n",
    " - We will also measure the shape of the linear power at $z_\\star$ around $k_p$, and modify the slope and running of the primordial power to match the required shape.\n",
    " - So the cosmology in the simulation will be specified by $\\{ \\Omega_\\star, A_p, n_p, \\alpha_p \\}$, where $A_p$ will be computed at $z_\\star$."
   ]
  },
  {
   "cell_type": "markdown",
   "metadata": {},
   "source": [
    "From the point of view of the pressure smoothing:\n",
    " - We will look at the value of the filtering length at a pre-HeII and at a post-HeII redshift, say z=2 and z=4. \n",
    " - We will use the Oñorbe models to translate the required values for $\\lambda_F$ pre- and post-HeII reionization to a required thermal history. It will probably be enough to specify a scaling of the heating rates before ($\\mu_H$) and after ($\\mu_{He}$) He_II reionizaion. "
   ]
  },
  {
   "cell_type": "markdown",
   "metadata": {},
   "source": [
    "### Initial simulation grid\n",
    "\n",
    "We have 6 simulation parameters: \n",
    "\n",
    "$$ H = \\{ \\mu_H, \\mu_{He}, \\Omega_\\star, \\Delta_p^2, n_p, \\alpha_p \\} $$\n",
    "\n",
    "We will choose the following parameter volume for the simulations:\n",
    " - $ 0.5 < \\mu_H < 2.0 $\n",
    " - $ 0.5 < \\mu_{He} < 2.0 $\n",
    " - $ 0.950 < \\Omega_\\star < 0.975 $\n",
    " - $ 0.25 < \\Delta_p^2 < 0.45 $\n",
    " - $ -2.4 < n_p < -2.3 $\n",
    " - $ -0.12 < \\alpha_p < -0.08 $"
   ]
  },
  {
   "cell_type": "code",
   "execution_count": 1,
   "metadata": {
    "collapsed": false
   },
   "outputs": [],
   "source": [
    "%matplotlib inline\n",
    "%load_ext autoreload\n",
    "%autoreload 2\n",
    "import numpy as np\n",
    "import os\n",
    "import copy\n",
    "## Set default plot size, as normally its a bit too small\n",
    "import matplotlib.pyplot as plt\n",
    "import matplotlib as mpl\n",
    "mpl.rcParams['savefig.dpi'] = 120\n",
    "mpl.rcParams['figure.dpi'] = 120\n",
    "import fit_pk\n",
    "import read_genic\n",
    "import write_config\n",
    "import camb_cosmo\n",
    "import latin_hypercube"
   ]
  },
  {
   "cell_type": "code",
   "execution_count": 2,
   "metadata": {
    "collapsed": false
   },
   "outputs": [],
   "source": [
    "def get_sim_params(z_star=3.0,kp_Mpc=0.7,add_running=False,add_mu_H=False):\n",
    "    \"\"\"Return list of simulation parameters, with name and allowed range\"\"\"\n",
    "    params={}\n",
    "    params['Om_star']={'ip':len(params), 'min_val':0.950, 'max_val':0.975, 'z_star':z_star}\n",
    "    params['Delta2_star']={'ip':len(params), 'min_val':0.25, 'max_val':0.45, 'z_star':z_star, 'kp_Mpc':kp_Mpc}\n",
    "    params['n_star']={'ip':len(params), 'min_val':-2.4, 'max_val':-2.3, 'z_star':z_star, 'kp_Mpc':kp_Mpc}\n",
    "    if add_running:\n",
    "        params['alpha_star']={'ip':len(params), 'min_val':-0.12, 'max_val':-0.08, 'z_star':z_star, 'kp_Mpc':kp_Mpc}\n",
    "    params['mu_He']={'ip':len(params), 'min_val':0.5, 'max_val':2.0}\n",
    "    if add_mu_H:\n",
    "        params['mu_H']={'ip':len(params), 'min_val':0.5, 'max_val':2.0}\n",
    " \n",
    "    return params"
   ]
  },
  {
   "cell_type": "markdown",
   "metadata": {},
   "source": [
    "- Setup Latin hypercube"
   ]
  },
  {
   "cell_type": "code",
   "execution_count": 3,
   "metadata": {
    "collapsed": false
   },
   "outputs": [],
   "source": [
    "# get list of simulation parameters\n",
    "z_star=3.0\n",
    "kp_Mpc=0.7\n",
    "param_space = get_sim_params(z_star=z_star,kp_Mpc=kp_Mpc,add_running=True)\n",
    "Npar=len(param_space)\n",
    "param_limits=np.empty([Npar,2])\n",
    "for key,param in param_space.items():\n",
    "    ip=param['ip']\n",
    "    #print(\"{} = {}\".format(key, ip))\n",
    "    param_limits[ip][0]=param['min_val']\n",
    "    param_limits[ip][1]=param['max_val']"
   ]
  },
  {
   "cell_type": "code",
   "execution_count": 4,
   "metadata": {
    "collapsed": false
   },
   "outputs": [],
   "source": [
    "# generate Latin hypercube \n",
    "nsamples=5\n",
    "seed=123\n",
    "cube=latin_hypercube.get_hypercube_samples(param_limits, nsamples, prior_points = None, seed=seed)"
   ]
  },
  {
   "cell_type": "markdown",
   "metadata": {},
   "source": [
    " - Setup fiducial cosmology"
   ]
  },
  {
   "cell_type": "code",
   "execution_count": 5,
   "metadata": {
    "collapsed": false
   },
   "outputs": [
    {
     "name": "stdout",
     "output_type": "stream",
     "text": [
      "H0 = 67.0 ; Omega_b h^2 = 0.022 ; Omega_c h^2 = 0.12 ; Omega_k = 0.0 ; ommnuh2 = 0.0 ; T_CMB = 2.7255 ; A_s = 2.1e-09 ; n_s = 0.96 ; alpha_s = 0.0\n",
      "fiducial cosmology parameters {'f_star': 0.98136698840516934, 'g_star': 0.9677508579459803, 'linP_Mpc': poly1d([-0.10748482, -2.30758676,  3.02860938])}\n"
     ]
    }
   ],
   "source": [
    "cosmo_fid = camb_cosmo.get_cosmology()\n",
    "camb_cosmo.print_info(cosmo_fid)\n",
    "# get linear power parameters, in comoving units\n",
    "linP_params_fid=fit_pk.parameterize_cosmology_Mpc(cosmo_fid,z_star=z_star,kp_Mpc=kp_Mpc)\n",
    "print('fiducial cosmology parameters',linP_params_fid)"
   ]
  },
  {
   "cell_type": "markdown",
   "metadata": {},
   "source": [
    " - For each point in cube, write configuration files to run simulation"
   ]
  },
  {
   "cell_type": "code",
   "execution_count": 9,
   "metadata": {
    "collapsed": false
   },
   "outputs": [
    {
     "name": "stdout",
     "output_type": "stream",
     "text": [
      "0 [ 0.9625  0.39   -2.37   -0.1     1.85  ]\n",
      "Modify GenIC to allow for running 0.007490847585157112\n",
      "Modify GenIC to allow for running 0.007490847585157112\n",
      "1 [ 0.9575  0.31   -2.35   -0.092   0.65  ]\n",
      "Modify GenIC to allow for running 0.015447782137315694\n",
      "Modify GenIC to allow for running 0.015447782137315694\n",
      "2 [ 0.9675  0.35   -2.33   -0.116   0.95  ]\n",
      "Modify GenIC to allow for running -0.008487302913790226\n",
      "Modify GenIC to allow for running -0.008487302913790226\n",
      "3 [ 0.9525  0.27   -2.39   -0.108   1.25  ]\n",
      "Modify GenIC to allow for running -0.0005401485549182267\n",
      "Modify GenIC to allow for running -0.0005401485549182267\n",
      "4 [ 0.9725  0.43   -2.31   -0.084   1.55  ]\n",
      "Modify GenIC to allow for running 0.023440500423058286\n",
      "Modify GenIC to allow for running 0.023440500423058286\n"
     ]
    }
   ],
   "source": [
    "sim_dirs='test_cube'\n",
    "write_config.mkdir_if_not_exists(sim_dirs)\n",
    "for sample in range(nsamples):\n",
    "    sim_params=cube[sample]\n",
    "    print(sample,sim_params)\n",
    "    cosmo_sim=fit_pk.cosmo_from_sim_params(param_space,sim_params,cosmo_fid,linP_params_fid,z_star,kp_Mpc,verbose=False)\n",
    "    sim_dir=sim_dirs+'/sim_'+str(sample)+'/'\n",
    "    write_config.mkdir_if_not_exists(sim_dir)\n",
    "    file_name=sim_dir+'paramfile'\n",
    "    # write GenIC and MP-Gadget parameters, for both simulations in pair\n",
    "    for paired in [False,True]:\n",
    "        write_config.write_genic_file(file_name,cosmo_sim,paired=paired)\n",
    "        write_config.write_gadget_file(file_name,cosmo_sim,paired=paired)\n",
    "    # compute fit parameters and store in JSON format\n",
    "    linP_params_sim=fit_pk.parameterize_cosmology_Mpc(cosmo_sim,z_star=z_star,kp_Mpc=kp_Mpc)  \n",
    "    write_config.write_json_file(file_name,param_space,sim_params,linP_params_sim)"
   ]
  },
  {
   "cell_type": "code",
   "execution_count": null,
   "metadata": {
    "collapsed": true
   },
   "outputs": [],
   "source": []
  }
 ],
 "metadata": {
  "kernelspec": {
   "display_name": "Python 3",
   "language": "python",
   "name": "python3"
  },
  "language_info": {
   "codemirror_mode": {
    "name": "ipython",
    "version": 3
   },
   "file_extension": ".py",
   "mimetype": "text/x-python",
   "name": "python",
   "nbconvert_exporter": "python",
   "pygments_lexer": "ipython3",
   "version": "3.6.0"
  }
 },
 "nbformat": 4,
 "nbformat_minor": 2
}
