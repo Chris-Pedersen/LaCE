{
 "cells": [
  {
   "cell_type": "markdown",
   "metadata": {},
   "source": [
    "# Setting up a single simulation pair\n"
   ]
  },
  {
   "cell_type": "markdown",
   "metadata": {},
   "source": [
    "### Initial simulation grid\n",
    "\n",
    "We have 6 simulation parameters: \n",
    "\n",
    "$$ H = \\{ \\mu_H, \\mu_{He}, \\Omega_\\star, \\Delta_p^2, n_p, \\alpha_p \\} $$\n",
    "\n",
    "We will choose the a parameter volume for the simulation similar to the one below:\n",
    " - $ 0.5 < \\mu_H < 2.0 $\n",
    " - $ 0.5 < \\mu_{He} < 2.0 $\n",
    " - $ 0.950 < \\Omega_\\star < 0.975 $\n",
    " - $ 0.25 < \\Delta_p^2 < 0.45 $\n",
    " - $ -2.35 < n_p < -2.25 $\n",
    " - $ -0.265 < \\alpha_p < -0.165 $"
   ]
  },
  {
   "cell_type": "code",
   "execution_count": 1,
   "metadata": {
    "collapsed": false
   },
   "outputs": [],
   "source": [
    "%matplotlib inline\n",
    "%load_ext autoreload\n",
    "%autoreload 2\n",
    "import numpy as np\n",
    "import os\n",
    "import copy\n",
    "## Set default plot size, as normally its a bit too small\n",
    "import matplotlib.pyplot as plt\n",
    "import matplotlib as mpl\n",
    "mpl.rcParams['savefig.dpi'] = 120\n",
    "mpl.rcParams['figure.dpi'] = 120\n",
    "import camb_cosmo\n",
    "import fit_linP\n",
    "import sim_params_cosmo\n",
    "import sim_params_space\n",
    "import read_genic\n",
    "import write_config\n",
    "import latin_hypercube\n",
    "import corner"
   ]
  },
  {
   "cell_type": "markdown",
   "metadata": {},
   "source": [
    "### Define parameter space, and choose one simulation"
   ]
  },
  {
   "cell_type": "code",
   "execution_count": 2,
   "metadata": {
    "collapsed": false
   },
   "outputs": [
    {
     "name": "stdout",
     "output_type": "stream",
     "text": [
      "Om_star {'ip': 0, 'min_val': 0.95, 'max_val': 0.975, 'z_star': 3.0, 'latex': '$\\\\Omega_\\\\star$'}\n",
      "Delta2_star {'ip': 1, 'min_val': 0.25, 'max_val': 0.45, 'z_star': 3.0, 'kp_Mpc': 0.7, 'latex': '$\\\\Delta^2_\\\\star$'}\n",
      "mu_He {'ip': 2, 'min_val': 0.5, 'max_val': 2.0, 'latex': '$\\\\mu_{\\\\rm He}$'}\n"
     ]
    }
   ],
   "source": [
    "# get list of simulation parameters\n",
    "add_slope=False\n",
    "add_running=False\n",
    "add_mu_H=False\n",
    "param_space=sim_params_space.SimulationParameterSpace(add_slope=add_slope,add_running=add_running,add_mu_H=add_mu_H)\n",
    "params=param_space.params\n",
    "for key,param in params.items():\n",
    "    print(key,param)"
   ]
  },
  {
   "cell_type": "code",
   "execution_count": 3,
   "metadata": {
    "collapsed": false
   },
   "outputs": [
    {
     "name": "stdout",
     "output_type": "stream",
     "text": [
      "z_star = 3.0\n",
      "kp_Mpc = 0.7\n"
     ]
    }
   ],
   "source": [
    "# get pivot point\n",
    "z_star=params['Om_star']['z_star']\n",
    "kp_Mpc=params['Delta2_star']['kp_Mpc']\n",
    "print('z_star =',z_star)\n",
    "print('kp_Mpc =',kp_Mpc)\n",
    "Npar=len(params)\n",
    "param_limits=np.empty([Npar,2])\n",
    "for key,param in params.items():\n",
    "    ip=param['ip']\n",
    "    param_limits[ip][0]=param['min_val']\n",
    "    param_limits[ip][1]=param['max_val']"
   ]
  },
  {
   "cell_type": "code",
   "execution_count": 4,
   "metadata": {
    "collapsed": false
   },
   "outputs": [
    {
     "name": "stdout",
     "output_type": "stream",
     "text": [
      "[ 0.9625  0.35    1.25  ]\n"
     ]
    }
   ],
   "source": [
    "# generate Latin hypercube \n",
    "nsamples=1\n",
    "seed=101\n",
    "cube=latin_hypercube.get_hypercube_samples(param_limits, nsamples, prior_points = None, seed=seed)\n",
    "sim_params=cube[0]\n",
    "print(sim_params)"
   ]
  },
  {
   "cell_type": "markdown",
   "metadata": {},
   "source": [
    "###  Setup fiducial cosmology, use it to find simulation cosmology, write all relevant files"
   ]
  },
  {
   "cell_type": "code",
   "execution_count": 5,
   "metadata": {
    "collapsed": false
   },
   "outputs": [
    {
     "name": "stdout",
     "output_type": "stream",
     "text": [
      "H0 = 6.7000E+01, Omega_b h^2 = 2.2000E-02, Omega_c h^2 = 1.2000E-01, Omega_k = 0.0000E+00, Omega_nu h^2 = 0.0000E+00, T_CMB = 2.7255E+00, A_s = 2.1000E-09, n_s = 9.6500E-01, alpha_s = 0.0000E+00\n",
      "fiducial linear power parameters {'f_star': 0.98136945578065649, 'g_star': 0.9677508579459803, 'Delta2_star': 0.36391885574433314, 'n_star': -2.3025651886411502, 'alpha_star': -0.21497062246191764}\n"
     ]
    }
   ],
   "source": [
    "# get fiducial cosmology\n",
    "cosmo_fid = camb_cosmo.get_cosmology()\n",
    "camb_cosmo.print_info(cosmo_fid)\n",
    "# setup fiducial linear power model\n",
    "linP_model_fid=fit_linP.LinearPowerModel(cosmo_fid,z_star=z_star,k_units='Mpc',kp=kp_Mpc)\n",
    "print('fiducial linear power parameters',linP_model_fid.get_params())"
   ]
  },
  {
   "cell_type": "code",
   "execution_count": 6,
   "metadata": {
    "collapsed": false
   },
   "outputs": [],
   "source": [
    "# make sure simulation folder exists\n",
    "sim_dir='test_single_pair'+'/'\n",
    "write_config.mkdir_if_not_exists(sim_dir)\n",
    "# setup cosmology model\n",
    "cosmo_sim=sim_params_cosmo.cosmo_from_sim_params(params,sim_params,linP_model_fid,verbose=False)\n",
    "# make a different folder for each simulation in the pair\n",
    "plus_dir=sim_dir+'/sim_plus/'\n",
    "write_config.mkdir_if_not_exists(plus_dir)\n",
    "minus_dir=sim_dir+'/sim_minus/'\n",
    "write_config.mkdir_if_not_exists(minus_dir)\n",
    "# write GenIC and MP-Gadget parameters, for both simulations in pair\n",
    "write_config.write_genic_file(plus_dir,cosmo_sim,paired=False)\n",
    "zs=write_config.write_gadget_file(plus_dir,cosmo_sim)\n",
    "write_config.write_genic_file(minus_dir,cosmo_sim,paired=True)\n",
    "_=write_config.write_gadget_file(minus_dir,cosmo_sim)    \n",
    "# construct linear power model and store in JSON format\n",
    "linP_model_sim=fit_linP.LinearPowerModel(cosmo_sim,z_star=z_star,k_units='Mpc',kp=kp_Mpc)\n",
    "linP_zs=write_config.write_sim_json_file(sim_dir,params,sim_params,linP_model_sim,zs)\n",
    "# store information for plots\n",
    "info_cosmo={'cosmo':cosmo_sim,'sim_params':sim_params,'linP_params':linP_model_sim.get_params()}"
   ]
  },
  {
   "cell_type": "code",
   "execution_count": 7,
   "metadata": {
    "collapsed": false
   },
   "outputs": [
    {
     "name": "stdout",
     "output_type": "stream",
     "text": [
      "[ 0.9625  0.35    1.25  ]\n",
      "{'f_star': 0.97868839087671933, 'g_star': 0.9629207127737258, 'Delta2_star': 0.34999999999999876, 'n_star': -2.3025673560744395, 'alpha_star': -0.21497519531101889}\n"
     ]
    }
   ],
   "source": [
    "print(info_cosmo['sim_params'])\n",
    "print(info_cosmo['linP_params'])"
   ]
  },
  {
   "cell_type": "code",
   "execution_count": null,
   "metadata": {
    "collapsed": true
   },
   "outputs": [],
   "source": []
  }
 ],
 "metadata": {
  "kernelspec": {
   "display_name": "Python 3",
   "language": "python",
   "name": "python3"
  },
  "language_info": {
   "codemirror_mode": {
    "name": "ipython",
    "version": 3
   },
   "file_extension": ".py",
   "mimetype": "text/x-python",
   "name": "python",
   "nbconvert_exporter": "python",
   "pygments_lexer": "ipython3",
   "version": "3.6.7"
  }
 },
 "nbformat": 4,
 "nbformat_minor": 2
}
