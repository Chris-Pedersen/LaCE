{
 "cells": [
  {
   "cell_type": "markdown",
   "metadata": {},
   "source": [
    "# Setting up a single simulation pair\n"
   ]
  },
  {
   "cell_type": "code",
   "execution_count": 1,
   "metadata": {
    "collapsed": false
   },
   "outputs": [],
   "source": [
    "%matplotlib inline\n",
    "%load_ext autoreload\n",
    "%autoreload 2\n",
    "import numpy as np\n",
    "import os\n",
    "import copy\n",
    "## Set default plot size, as normally its a bit too small\n",
    "import matplotlib.pyplot as plt\n",
    "import matplotlib as mpl\n",
    "mpl.rcParams['savefig.dpi'] = 120\n",
    "mpl.rcParams['figure.dpi'] = 120\n",
    "import sim_params_cosmo\n",
    "import sim_params_space\n",
    "import write_config\n",
    "import latin_hypercube\n",
    "import corner"
   ]
  },
  {
   "cell_type": "markdown",
   "metadata": {},
   "source": [
    "### Define parameter space, and choose one simulation"
   ]
  },
  {
   "cell_type": "code",
   "execution_count": 2,
   "metadata": {
    "collapsed": false
   },
   "outputs": [
    {
     "name": "stdout",
     "output_type": "stream",
     "text": [
      "Om_star {'ip': 0, 'min_val': 0.955, 'max_val': 0.975, 'z_star': 3.0, 'latex': '$\\\\Omega_\\\\star$'}\n",
      "Delta2_star {'ip': 1, 'min_val': 0.25, 'max_val': 0.45, 'z_star': 3.0, 'kp_Mpc': 0.7, 'latex': '$\\\\Delta^2_\\\\star$'}\n",
      "heat_amp {'ip': 2, 'min_val': 0.5, 'max_val': 1.5, 'latex': '$H_A$'}\n",
      "z_rei {'ip': 3, 'min_val': 5.5, 'max_val': 15.0, 'latex': '$z_r$'}\n"
     ]
    }
   ],
   "source": [
    "# get list of simulation parameters\n",
    "add_slope=False\n",
    "add_running=False\n",
    "add_heat_amp=True\n",
    "add_heat_slo=False\n",
    "param_space=sim_params_space.SimulationParameterSpace(add_slope=add_slope,add_running=add_running,\n",
    "                                                      add_heat_amp=add_heat_amp,add_heat_slo=add_heat_slo)\n",
    "\n",
    "params=param_space.params\n",
    "for key,param in params.items():\n",
    "    print(key,param)"
   ]
  },
  {
   "cell_type": "code",
   "execution_count": 3,
   "metadata": {
    "collapsed": false
   },
   "outputs": [],
   "source": [
    "Npar=len(params)\n",
    "param_limits=np.empty([Npar,2])\n",
    "for key,param in params.items():\n",
    "    ip=param['ip']\n",
    "    param_limits[ip][0]=param['min_val']\n",
    "    param_limits[ip][1]=param['max_val']"
   ]
  },
  {
   "cell_type": "code",
   "execution_count": 4,
   "metadata": {
    "collapsed": false
   },
   "outputs": [
    {
     "name": "stdout",
     "output_type": "stream",
     "text": [
      "[ 0.965  0.35   1.    10.25 ]\n"
     ]
    }
   ],
   "source": [
    "# generate Latin hypercube \n",
    "nsamples=1\n",
    "seed=101\n",
    "cube=latin_hypercube.get_hypercube_samples(param_limits, nsamples, prior_points = None, seed=seed)\n",
    "sim_params=cube[0]\n",
    "print(sim_params)"
   ]
  },
  {
   "cell_type": "markdown",
   "metadata": {},
   "source": [
    "###  Find simulation cosmology, write all relevant files"
   ]
  },
  {
   "cell_type": "code",
   "execution_count": 5,
   "metadata": {
    "collapsed": false
   },
   "outputs": [],
   "source": [
    "# make sure simulation folder exists\n",
    "sim_dir='test_single_pair'+'/'\n",
    "os.makedirs(sim_dir,exist_ok=True)\n",
    "# setup cosmology model\n",
    "cosmo_sim=sim_params_cosmo.cosmo_from_sim_params(param_space,sim_params,verbose=False)\n",
    "# make a different folder for each simulation in the pair\n",
    "plus_dir=sim_dir+'/sim_plus/'\n",
    "os.makedirs(plus_dir,exist_ok=True)\n",
    "minus_dir=sim_dir+'/sim_minus/'\n",
    "os.makedirs(minus_dir,exist_ok=True)\n",
    "# write GenIC and MP-Gadget parameters, for both simulations in pair\n",
    "write_config.write_genic_file(plus_dir,cosmo_sim,paired=False)\n",
    "zs=write_config.write_gadget_file(plus_dir,cosmo_sim)\n",
    "write_config.write_genic_file(minus_dir,cosmo_sim,paired=True)\n",
    "_=write_config.write_gadget_file(minus_dir,cosmo_sim)  "
   ]
  },
  {
   "cell_type": "code",
   "execution_count": 6,
   "metadata": {
    "collapsed": false
   },
   "outputs": [],
   "source": [
    "# construct linear power model and store in JSON format\n",
    "linP_zs=write_config.write_sim_json_file(sim_dir,param_space,cosmo_sim,zs=zs)"
   ]
  },
  {
   "cell_type": "code",
   "execution_count": null,
   "metadata": {
    "collapsed": true
   },
   "outputs": [],
   "source": []
  }
 ],
 "metadata": {
  "kernelspec": {
   "display_name": "Python 3",
   "language": "python",
   "name": "python3"
  },
  "language_info": {
   "codemirror_mode": {
    "name": "ipython",
    "version": 3
   },
   "file_extension": ".py",
   "mimetype": "text/x-python",
   "name": "python",
   "nbconvert_exporter": "python",
   "pygments_lexer": "ipython3",
   "version": "3.6.7"
  }
 },
 "nbformat": 4,
 "nbformat_minor": 2
}
