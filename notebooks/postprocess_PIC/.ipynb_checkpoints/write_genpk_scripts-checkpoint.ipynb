{
 "cells": [
  {
   "cell_type": "markdown",
   "metadata": {},
   "source": [
    "# Write scripts to run GenPK"
   ]
  },
  {
   "cell_type": "code",
   "execution_count": 1,
   "metadata": {
    "collapsed": false,
    "jupyter": {
     "outputs_hidden": false
    }
   },
   "outputs": [],
   "source": [
    "%matplotlib inline\n",
    "%load_ext autoreload\n",
    "%autoreload 2"
   ]
  },
  {
   "cell_type": "code",
   "execution_count": 2,
   "metadata": {},
   "outputs": [],
   "source": [
    "import numpy as np\n",
    "import matplotlib.pyplot as plt\n",
    "import matplotlib as mpl\n",
    "mpl.rcParams['savefig.dpi'] = 120\n",
    "mpl.rcParams['figure.dpi'] = 120\n",
    "import os\n",
    "import json\n",
    "# our modules below\n",
    "from lace.postprocess import write_genpk_script"
   ]
  },
  {
   "cell_type": "code",
   "execution_count": 3,
   "metadata": {},
   "outputs": [],
   "source": [
    "# directory with raw simulation outputs\n",
    "raw_dir='/data/desi/common/HydroData/Emulator/sims_256/'\n",
    "# directory with simulation post-procesings\n",
    "post_dir='/data/desi/common/HydroData/Emulator/test_256/'\n",
    "# label identifying simulation\n",
    "sim_tag='/sim_pair_1/sim_minus/'\n",
    "# snapshot number\n",
    "snap_num=8"
   ]
  },
  {
   "cell_type": "code",
   "execution_count": 4,
   "metadata": {},
   "outputs": [
    {
     "name": "stdout",
     "output_type": "stream",
     "text": [
      "in write_genpk_scripts_in_sim /data/desi/common/HydroData/Emulator/sims_256//sim_pair_1/sim_minus/ /data/desi/common/HydroData/Emulator/test_256//sim_pair_1/sim_minus/\n",
      "genpk filename = /data/desi/common/HydroData/Emulator/test_256//sim_pair_1/sim_minus//genpk//PK-by-PART_000\n",
      "GenPk file existing /data/desi/common/HydroData/Emulator/test_256//sim_pair_1/sim_minus//genpk//PK-by-PART_000\n",
      "genpk filename = /data/desi/common/HydroData/Emulator/test_256//sim_pair_1/sim_minus//genpk//PK-by-PART_001\n",
      "GenPk file existing /data/desi/common/HydroData/Emulator/test_256//sim_pair_1/sim_minus//genpk//PK-by-PART_001\n",
      "genpk filename = /data/desi/common/HydroData/Emulator/test_256//sim_pair_1/sim_minus//genpk//PK-by-PART_002\n",
      "GenPk file existing /data/desi/common/HydroData/Emulator/test_256//sim_pair_1/sim_minus//genpk//PK-by-PART_002\n",
      "genpk filename = /data/desi/common/HydroData/Emulator/test_256//sim_pair_1/sim_minus//genpk//PK-by-PART_003\n",
      "GenPk file existing /data/desi/common/HydroData/Emulator/test_256//sim_pair_1/sim_minus//genpk//PK-by-PART_003\n",
      "genpk filename = /data/desi/common/HydroData/Emulator/test_256//sim_pair_1/sim_minus//genpk//PK-by-PART_004\n",
      "GenPk file existing /data/desi/common/HydroData/Emulator/test_256//sim_pair_1/sim_minus//genpk//PK-by-PART_004\n",
      "genpk filename = /data/desi/common/HydroData/Emulator/test_256//sim_pair_1/sim_minus//genpk//PK-by-PART_005\n",
      "GenPk file existing /data/desi/common/HydroData/Emulator/test_256//sim_pair_1/sim_minus//genpk//PK-by-PART_005\n",
      "genpk filename = /data/desi/common/HydroData/Emulator/test_256//sim_pair_1/sim_minus//genpk//PK-by-PART_006\n",
      "GenPk file existing /data/desi/common/HydroData/Emulator/test_256//sim_pair_1/sim_minus//genpk//PK-by-PART_006\n",
      "genpk filename = /data/desi/common/HydroData/Emulator/test_256//sim_pair_1/sim_minus//genpk//PK-by-PART_007\n",
      "GenPk file existing /data/desi/common/HydroData/Emulator/test_256//sim_pair_1/sim_minus//genpk//PK-by-PART_007\n",
      "genpk filename = /data/desi/common/HydroData/Emulator/test_256//sim_pair_1/sim_minus//genpk//PK-by-PART_008\n",
      "GenPk file existing /data/desi/common/HydroData/Emulator/test_256//sim_pair_1/sim_minus//genpk//PK-by-PART_008\n",
      "genpk filename = /data/desi/common/HydroData/Emulator/test_256//sim_pair_1/sim_minus//genpk//PK-by-PART_009\n",
      "GenPk file existing /data/desi/common/HydroData/Emulator/test_256//sim_pair_1/sim_minus//genpk//PK-by-PART_009\n",
      "genpk filename = /data/desi/common/HydroData/Emulator/test_256//sim_pair_1/sim_minus//genpk//PK-by-PART_010\n",
      "GenPk file existing /data/desi/common/HydroData/Emulator/test_256//sim_pair_1/sim_minus//genpk//PK-by-PART_010\n",
      "genpk filename = /data/desi/common/HydroData/Emulator/test_256//sim_pair_1/sim_minus//genpk//PK-by-PART_011\n",
      "GenPk file existing /data/desi/common/HydroData/Emulator/test_256//sim_pair_1/sim_minus//genpk//PK-by-PART_011\n"
     ]
    }
   ],
   "source": [
    "write_genpk_script.write_genpk_scripts_in_sim(raw_dir+sim_tag,post_dir+sim_tag,\n",
    "                        time='hola',verbose=True)"
   ]
  },
  {
   "cell_type": "code",
   "execution_count": 5,
   "metadata": {},
   "outputs": [
    {
     "name": "stdout",
     "output_type": "stream",
     "text": [
      "print options: --raw_dir /data/desi/common/HydroData/Emulator/sims_256//sim_pair_1/sim_minus/ --post_dir /data/desi/common/HydroData/Emulator/test_256//sim_pair_1/sim_minus/ --snap_num 8 --verbose\n"
     ]
    }
   ],
   "source": [
    "# GenPK scripts\n",
    "write_genpk_script.write_genpk_script('test',raw_dir+sim_tag,post_dir+sim_tag,\n",
    "                                      snap_num,time='hola',verbose=True)"
   ]
  },
  {
   "cell_type": "code",
   "execution_count": null,
   "metadata": {},
   "outputs": [],
   "source": []
  }
 ],
 "metadata": {
  "kernelspec": {
   "display_name": "desi_hydro_kernel",
   "language": "python",
   "name": "desi_hydro_kernel"
  },
  "language_info": {
   "codemirror_mode": {
    "name": "ipython",
    "version": 3
   },
   "file_extension": ".py",
   "mimetype": "text/x-python",
   "name": "python",
   "nbconvert_exporter": "python",
   "pygments_lexer": "ipython3",
   "version": "3.8.0"
  }
 },
 "nbformat": 4,
 "nbformat_minor": 4
}
