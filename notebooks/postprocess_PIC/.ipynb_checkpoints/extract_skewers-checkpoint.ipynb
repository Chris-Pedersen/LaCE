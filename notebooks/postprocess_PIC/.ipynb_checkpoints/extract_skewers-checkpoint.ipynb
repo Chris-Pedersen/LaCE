{
 "cells": [
  {
   "cell_type": "markdown",
   "metadata": {},
   "source": [
    "# Extract skewers from snapshot after rescaling the temperature"
   ]
  },
  {
   "cell_type": "code",
   "execution_count": 1,
   "metadata": {
    "collapsed": false,
    "jupyter": {
     "outputs_hidden": false
    }
   },
   "outputs": [],
   "source": [
    "%matplotlib inline\n",
    "%load_ext autoreload\n",
    "%autoreload 2"
   ]
  },
  {
   "cell_type": "code",
   "execution_count": 2,
   "metadata": {},
   "outputs": [],
   "source": [
    "import numpy as np\n",
    "import matplotlib.pyplot as plt\n",
    "import matplotlib as mpl\n",
    "mpl.rcParams['savefig.dpi'] = 120\n",
    "mpl.rcParams['figure.dpi'] = 120\n",
    "import os\n",
    "import json\n",
    "import fake_spectra.griddedspectra as grid_spec\n",
    "# our modules below\n",
    "from lace.postprocess import extract_skewers\n",
    "from lace.postprocess import snapshot_admin"
   ]
  },
  {
   "cell_type": "code",
   "execution_count": 3,
   "metadata": {},
   "outputs": [],
   "source": [
    "#basedir='/data/desi/scratch/HydroData/Emulator/untar_hydro_sims/Australia20'\n",
    "basedir='/data/desi/common/HydroData/Emulator/DiRAC_sims/emulator_256_28082019'\n",
    "simdir=basedir+'/sim_pair_1/sim_plus/'\n",
    "snap_num=9\n",
    "skewers_dir='test_dir'\n",
    "n_skewers=20\n",
    "width_Mpc=0.1\n",
    "scales_T0=[1.0]\n",
    "scales_gamma=[1.0]\n",
    "verbose=True"
   ]
  },
  {
   "cell_type": "code",
   "execution_count": null,
   "metadata": {},
   "outputs": [],
   "source": [
    "# should also read scales_T0 and scales_gamma\n",
    "info=extract_skewers.rescale_write_skewers_z(simdir,num=snap_num,\n",
    "            skewers_dir=skewers_dir,n_skewers=n_skewers,\n",
    "            width_Mpc=width_Mpc,\n",
    "            scales_T0=scales_T0,scales_gamma=scales_gamma)"
   ]
  },
  {
   "cell_type": "code",
   "execution_count": 2,
   "metadata": {},
   "outputs": [
    {
     "ename": "NameError",
     "evalue": "name 'info' is not defined",
     "output_type": "error",
     "traceback": [
      "\u001b[0;31m---------------------------------------------------------------------------\u001b[0m",
      "\u001b[0;31mNameError\u001b[0m                                 Traceback (most recent call last)",
      "\u001b[0;32m<ipython-input-2-886ead46232a>\u001b[0m in \u001b[0;36m<module>\u001b[0;34m\u001b[0m\n\u001b[0;32m----> 1\u001b[0;31m \u001b[0minfo\u001b[0m\u001b[0;34m\u001b[0m\u001b[0;34m\u001b[0m\u001b[0m\n\u001b[0m",
      "\u001b[0;31mNameError\u001b[0m: name 'info' is not defined"
     ]
    }
   ],
   "source": [
    "info"
   ]
  },
  {
   "cell_type": "code",
   "execution_count": 1,
   "metadata": {},
   "outputs": [
    {
     "ename": "NameError",
     "evalue": "name 'info' is not defined",
     "output_type": "error",
     "traceback": [
      "\u001b[0;31m---------------------------------------------------------------------------\u001b[0m",
      "\u001b[0;31mNameError\u001b[0m                                 Traceback (most recent call last)",
      "\u001b[0;32m<ipython-input-1-07efaed5b9fb>\u001b[0m in \u001b[0;36m<module>\u001b[0;34m\u001b[0m\n\u001b[0;32m----> 1\u001b[0;31m \u001b[0msnap_fname\u001b[0m\u001b[0;34m=\u001b[0m\u001b[0minfo\u001b[0m\u001b[0;34m[\u001b[0m\u001b[0;34m'skewers_dir'\u001b[0m\u001b[0;34m]\u001b[0m\u001b[0;34m+\u001b[0m\u001b[0;34m'/'\u001b[0m\u001b[0;34m+\u001b[0m\u001b[0minfo\u001b[0m\u001b[0;34m[\u001b[0m\u001b[0;34m'snapshot_filename'\u001b[0m\u001b[0;34m]\u001b[0m\u001b[0;34m\u001b[0m\u001b[0;34m\u001b[0m\u001b[0m\n\u001b[0m\u001b[1;32m      2\u001b[0m \u001b[0mscales_tau\u001b[0m\u001b[0;34m=\u001b[0m\u001b[0;34m[\u001b[0m\u001b[0;36m1.0\u001b[0m\u001b[0;34m]\u001b[0m\u001b[0;34m\u001b[0m\u001b[0;34m\u001b[0m\u001b[0m\n\u001b[1;32m      3\u001b[0m \u001b[0msnapshot\u001b[0m\u001b[0;34m=\u001b[0m\u001b[0msnapshot_admin\u001b[0m\u001b[0;34m.\u001b[0m\u001b[0mSnapshotAdmin\u001b[0m\u001b[0;34m(\u001b[0m\u001b[0msnap_fname\u001b[0m\u001b[0;34m,\u001b[0m\u001b[0mscales_tau\u001b[0m\u001b[0;34m)\u001b[0m\u001b[0;34m\u001b[0m\u001b[0;34m\u001b[0m\u001b[0m\n",
      "\u001b[0;31mNameError\u001b[0m: name 'info' is not defined"
     ]
    }
   ],
   "source": [
    "snap_fname=info['skewers_dir']+'/'+info['snapshot_filename']\n",
    "scales_tau=[1.0]\n",
    "snapshot=snapshot_admin.SnapshotAdmin(snap_fname,scales_tau)"
   ]
  },
  {
   "cell_type": "code",
   "execution_count": 6,
   "metadata": {},
   "outputs": [
    {
     "name": "stdout",
     "output_type": "stream",
     "text": [
      "100  sightlines. resolution:  7.257581949670417  z= 2.5\n"
     ]
    }
   ],
   "source": [
    "sk_file=info['sk_files'][0]\n",
    "skewers=grid_spec.GriddedSpectra(snap_num,simdir+'/output/',\n",
    "                savedir=skewers_dir, savefile=sk_file, reload_file=False)"
   ]
  },
  {
   "cell_type": "code",
   "execution_count": 7,
   "metadata": {},
   "outputs": [
    {
     "name": "stdout",
     "output_type": "stream",
     "text": [
      "<F> = 0.8461579705460054\n"
     ]
    }
   ],
   "source": [
    "tau = skewers.get_tau(elem='H', ion=1, line=1215)\n",
    "mF=np.mean(np.exp(-tau))\n",
    "print('<F> = {}'.format(mF))"
   ]
  },
  {
   "cell_type": "code",
   "execution_count": 8,
   "metadata": {},
   "outputs": [
    {
     "data": {
      "text/plain": [
       "{'simdir': '/data/desi/common/HydroData/Emulator/DiRAC_sims/emulator_256_28082019//sim_pair_1/sim_plus/',\n",
       " 'skewers_dir': 'test_dir',\n",
       " 'z': 2.5,\n",
       " 'snap_num': 9,\n",
       " 'n_skewers': 10,\n",
       " 'width_Mpc': 0.1,\n",
       " 'width_kms': 7.2288478680606545,\n",
       " 'T0_ini': 29552.58541251507,\n",
       " 'gamma_ini': 2.1138195370559734,\n",
       " 'scales_T0': [1.0],\n",
       " 'scales_gamma': [1.0],\n",
       " 'sim_T0': [29552.58541251507],\n",
       " 'sim_gamma': [2.1138195370559734],\n",
       " 'sim_mf': [0.8461579705460054],\n",
       " 'sim_sigT_Mpc': [0.21640637379548366],\n",
       " 'sim_scale_T0': [1.0],\n",
       " 'sim_scale_gamma': [1.0],\n",
       " 'sk_files': ['skewers_9_Ns10_wM0.1_sT1.0_sg1.0.hdf5'],\n",
       " 'snapshot_filename': 'snap_skewers_9_Ns10_wM0.1.json'}"
      ]
     },
     "execution_count": 8,
     "metadata": {},
     "output_type": "execute_result"
    }
   ],
   "source": [
    "info"
   ]
  },
  {
   "cell_type": "code",
   "execution_count": null,
   "metadata": {},
   "outputs": [],
   "source": []
  }
 ],
 "metadata": {
  "kernelspec": {
   "display_name": "desi_hydro_kernel",
   "language": "python",
   "name": "desi_hydro_kernel"
  },
  "language_info": {
   "codemirror_mode": {
    "name": "ipython",
    "version": 3
   },
   "file_extension": ".py",
   "mimetype": "text/x-python",
   "name": "python",
   "nbconvert_exporter": "python",
   "pygments_lexer": "ipython3",
   "version": "3.8.0"
  }
 },
 "nbformat": 4,
 "nbformat_minor": 4
}
