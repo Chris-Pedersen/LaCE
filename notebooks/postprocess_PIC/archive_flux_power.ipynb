{
 "cells": [
  {
   "cell_type": "markdown",
   "metadata": {},
   "source": [
    "# Read skewers and measured P1D for a given snapshot"
   ]
  },
  {
   "cell_type": "code",
   "execution_count": null,
   "metadata": {
    "collapsed": false,
    "jupyter": {
     "outputs_hidden": false
    }
   },
   "outputs": [],
   "source": [
    "%matplotlib inline\n",
    "%load_ext autoreload\n",
    "%autoreload 2"
   ]
  },
  {
   "cell_type": "code",
   "execution_count": 2,
   "metadata": {},
   "outputs": [],
   "source": [
    "import numpy as np\n",
    "import matplotlib.pyplot as plt\n",
    "import matplotlib as mpl\n",
    "mpl.rcParams['savefig.dpi'] = 120\n",
    "mpl.rcParams['figure.dpi'] = 120\n",
    "import os\n",
    "import json\n",
    "import fake_spectra.griddedspectra as grid_spec\n",
    "# our modules below\n",
    "from lace.postprocess import extract_skewers\n",
    "from lace.postprocess import snapshot_admin"
   ]
  },
  {
   "cell_type": "code",
   "execution_count": 3,
   "metadata": {},
   "outputs": [],
   "source": [
    "# directory with simulation post-procesings\n",
    "post_dir='/data/desi/common/HydroData/Emulator/test_256/sim_pair_1/sim_minus/'"
   ]
  },
  {
   "cell_type": "code",
   "execution_count": 4,
   "metadata": {},
   "outputs": [],
   "source": [
    "snap_num=9\n",
    "n_skewers=10\n",
    "width_Mpc=0.1\n",
    "scales_tau=[1.0]\n",
    "p1d_label='andreu'\n",
    "verbose=True"
   ]
  },
  {
   "cell_type": "code",
   "execution_count": 5,
   "metadata": {},
   "outputs": [
    {
     "name": "stdout",
     "output_type": "stream",
     "text": [
      "read kF_Mpc = 9.358687129525098\n"
     ]
    }
   ],
   "source": [
    "# try to read information about filtering length in simulation\n",
    "kF_json=post_dir+'/filtering_length.json'\n",
    "if os.path.isfile(kF_json):\n",
    "    # read json file with filtering data\n",
    "    with open(kF_json) as json_data:\n",
    "        kF_data = json.load(json_data)\n",
    "    kF_Mpc=kF_data['kF_Mpc'][snap_num]\n",
    "    print('read kF_Mpc =',kF_Mpc)\n",
    "else:\n",
    "    kF_Mpc=None"
   ]
  },
  {
   "cell_type": "code",
   "execution_count": 6,
   "metadata": {},
   "outputs": [
    {
     "name": "stdout",
     "output_type": "stream",
     "text": [
      "setup snapshot admin from file /data/desi/common/HydroData/Emulator/test_256/sim_pair_1/sim_minus//skewers/snap_skewers_9_Ns10_wM0.1.json\n",
      "received kF_Mpc = 9.358687129525098\n",
      "snapshot has 1 temperature rescalings\n"
     ]
    }
   ],
   "source": [
    "# read file containing information of all temperature rescalings in snapshot\n",
    "snap_filename=post_dir+'/skewers/'+extract_skewers.get_snapshot_json_filename(\n",
    "                num=snap_num,n_skewers=n_skewers,width_Mpc=width_Mpc)\n",
    "if verbose:\n",
    "    print('setup snapshot admin from file',snap_filename)\n",
    "# create an object that will deal with all skewers in the snapshot\n",
    "snapshot=snapshot_admin.SnapshotAdmin(snap_filename,scales_tau=scales_tau,kF_Mpc=kF_Mpc)\n",
    "Nsk=len(snapshot.data['sk_files'])\n",
    "if verbose:\n",
    "    print('snapshot has {} temperature rescalings'.format(Nsk))"
   ]
  },
  {
   "cell_type": "code",
   "execution_count": 7,
   "metadata": {},
   "outputs": [
    {
     "name": "stdout",
     "output_type": "stream",
     "text": [
      "successfully read healthy configuration file\n",
      "in L_Mpc, 15075.0 0.67 22.499999999999996\n",
      "100  sightlines. resolution:  7.257581949670417  z= 2.5\n"
     ]
    }
   ],
   "source": [
    "# measure flux power for all tau scalings, for all temperature scalings\n",
    "archive_p1d=snapshot.get_all_flux_power()"
   ]
  },
  {
   "cell_type": "code",
   "execution_count": 8,
   "metadata": {},
   "outputs": [
    {
     "name": "stdout",
     "output_type": "stream",
     "text": [
      "will print P1D to file /data/desi/common/HydroData/Emulator/test_256/sim_pair_1/sim_minus//andreu_9_Ns10_wM0.1.json\n"
     ]
    }
   ],
   "source": [
    "# write all measured power in a JSON file\n",
    "snapshot.write_p1d_json(p1d_label=p1d_label)"
   ]
  },
  {
   "cell_type": "code",
   "execution_count": null,
   "metadata": {},
   "outputs": [],
   "source": []
  }
 ],
 "metadata": {
  "kernelspec": {
   "display_name": "desi_hydro_kernel",
   "language": "python",
   "name": "desi_hydro_kernel"
  },
  "language_info": {
   "codemirror_mode": {
    "name": "ipython",
    "version": 3
   },
   "file_extension": ".py",
   "mimetype": "text/x-python",
   "name": "python",
   "nbconvert_exporter": "python",
   "pygments_lexer": "ipython3",
   "version": "3.8.0"
  }
 },
 "nbformat": 4,
 "nbformat_minor": 4
}
