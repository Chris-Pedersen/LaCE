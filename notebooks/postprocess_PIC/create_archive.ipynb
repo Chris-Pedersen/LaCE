{
 "cells": [
  {
   "cell_type": "markdown",
   "metadata": {},
   "source": [
    "# Collect P1D files and create light-weight archive"
   ]
  },
  {
   "cell_type": "code",
   "execution_count": 1,
   "metadata": {
    "collapsed": false,
    "jupyter": {
     "outputs_hidden": false
    }
   },
   "outputs": [],
   "source": [
    "%matplotlib inline\n",
    "%load_ext autoreload\n",
    "%autoreload 2"
   ]
  },
  {
   "cell_type": "code",
   "execution_count": 15,
   "metadata": {},
   "outputs": [],
   "source": [
    "import numpy as np\n",
    "import shutil\n",
    "import os\n",
    "import json"
   ]
  },
  {
   "cell_type": "code",
   "execution_count": 7,
   "metadata": {},
   "outputs": [],
   "source": [
    "def copy_file_if_needed(in_dir,out_dir,fname):\n",
    "    in_fname = os.path.join(in_dir,fname)\n",
    "    out_fname = os.path.join(out_dir,fname)\n",
    "    if os.path.exists(out_fname):\n",
    "        print('file {} already exists'.format(out_fname))\n",
    "        return\n",
    "    else:\n",
    "        print('copy file {} to {}'.format(in_fname,out_fname))\n",
    "        shutil.copyfile(in_fname,out_fname)\n",
    "        return"
   ]
  },
  {
   "cell_type": "code",
   "execution_count": 8,
   "metadata": {},
   "outputs": [],
   "source": [
    "def copy_dir_if_needed(in_dir,out_dir,dirname):\n",
    "    in_dirname = os.path.join(in_dir,dirname)\n",
    "    out_dirname = os.path.join(out_dir,dirname)\n",
    "    \n",
    "    if os.path.exists(out_dirname):\n",
    "        if not os.path.isdir(out_dirname):\n",
    "            raise ValueError(out_dirname+' exists but is not a folder!')\n",
    "        print('folder {} already exists'.format(out_dirname))\n",
    "        return\n",
    "    else:\n",
    "        print('copy folder {} to {}'.format(in_dirname,out_dirname))\n",
    "        shutil.copytree(in_dirname,out_dirname)\n",
    "        return"
   ]
  },
  {
   "cell_type": "code",
   "execution_count": 9,
   "metadata": {},
   "outputs": [],
   "source": [
    "def mkdir_if_needed(dirname):\n",
    "    if os.path.exists(dirname):\n",
    "        print('folder {} already exists'.format(dirname))\n",
    "        if not os.path.isdir(dirname):\n",
    "            raise ValueError(dirname+' exists but is not a folder!')\n",
    "    else:\n",
    "        print('create directory',dirname)\n",
    "        os.mkdir(dirname)"
   ]
  },
  {
   "cell_type": "code",
   "execution_count": 10,
   "metadata": {},
   "outputs": [],
   "source": [
    "def assert_dir_exists(dirname):\n",
    "    if not os.path.isdir(dirname):\n",
    "        raise ValueError(dirname+' folder does not exist!')"
   ]
  },
  {
   "cell_type": "code",
   "execution_count": 4,
   "metadata": {},
   "outputs": [],
   "source": [
    "pos_base_dir='/data/desi/common/HydroData/Emulator/postprocess/Australia20'"
   ]
  },
  {
   "cell_type": "code",
   "execution_count": 26,
   "metadata": {},
   "outputs": [
    {
     "name": "stdout",
     "output_type": "stream",
     "text": [
      "folder /nfs/pic.es/user/a/afontrib/Projects/LaCE//lace/emulator/sim_suites/test_archive already exists\n"
     ]
    }
   ],
   "source": [
    "arc_base_dir=os.environ['LYA_EMU_REPO']+'/lace/emulator/sim_suites/test_archive'\n",
    "mkdir_if_needed(arc_base_dir)"
   ]
  },
  {
   "cell_type": "code",
   "execution_count": 27,
   "metadata": {},
   "outputs": [
    {
     "name": "stdout",
     "output_type": "stream",
     "text": [
      "file /nfs/pic.es/user/a/afontrib/Projects/LaCE//lace/emulator/sim_suites/test_archive/latin_hypercube.json already exists\n",
      "nsamples = 2\n"
     ]
    }
   ],
   "source": [
    "copy_file_if_needed(pos_base_dir,arc_base_dir,'latin_hypercube.json')\n",
    "with open(archive_dir+'/latin_hypercube.json') as json_file:\n",
    "    LH_data = json.load(json_file)\n",
    "nsamples=LH_data['nsamples']\n",
    "print('nsamples =',nsamples)"
   ]
  },
  {
   "cell_type": "code",
   "execution_count": 30,
   "metadata": {},
   "outputs": [
    {
     "name": "stdout",
     "output_type": "stream",
     "text": [
      "folder /nfs/pic.es/user/a/afontrib/Projects/LaCE//lace/emulator/sim_suites/test_archive/sim_pair_0 already exists\n",
      "file /nfs/pic.es/user/a/afontrib/Projects/LaCE//lace/emulator/sim_suites/test_archive/sim_pair_0/parameter.json already exists\n",
      "folder /nfs/pic.es/user/a/afontrib/Projects/LaCE//lace/emulator/sim_suites/test_archive/sim_pair_0/sim_minus already exists\n",
      "file /nfs/pic.es/user/a/afontrib/Projects/LaCE//lace/emulator/sim_suites/test_archive/sim_pair_0/sim_minus/paramfile.gadget already exists\n",
      "file /nfs/pic.es/user/a/afontrib/Projects/LaCE//lace/emulator/sim_suites/test_archive/sim_pair_0/sim_minus/paramfile.genic already exists\n",
      "file /nfs/pic.es/user/a/afontrib/Projects/LaCE//lace/emulator/sim_suites/test_archive/sim_pair_0/sim_minus/p1d_0_Ns500_wM0.05.json already exists\n",
      "file /nfs/pic.es/user/a/afontrib/Projects/LaCE//lace/emulator/sim_suites/test_archive/sim_pair_0/sim_minus/p1d_1_Ns500_wM0.05.json already exists\n",
      "file /nfs/pic.es/user/a/afontrib/Projects/LaCE//lace/emulator/sim_suites/test_archive/sim_pair_0/sim_minus/p1d_2_Ns500_wM0.05.json already exists\n",
      "file /nfs/pic.es/user/a/afontrib/Projects/LaCE//lace/emulator/sim_suites/test_archive/sim_pair_0/sim_minus/p1d_3_Ns500_wM0.05.json already exists\n",
      "file /nfs/pic.es/user/a/afontrib/Projects/LaCE//lace/emulator/sim_suites/test_archive/sim_pair_0/sim_minus/p1d_4_Ns500_wM0.05.json already exists\n",
      "file /nfs/pic.es/user/a/afontrib/Projects/LaCE//lace/emulator/sim_suites/test_archive/sim_pair_0/sim_minus/p1d_5_Ns500_wM0.05.json already exists\n",
      "file /nfs/pic.es/user/a/afontrib/Projects/LaCE//lace/emulator/sim_suites/test_archive/sim_pair_0/sim_minus/p1d_6_Ns500_wM0.05.json already exists\n",
      "file /nfs/pic.es/user/a/afontrib/Projects/LaCE//lace/emulator/sim_suites/test_archive/sim_pair_0/sim_minus/p1d_7_Ns500_wM0.05.json already exists\n",
      "file /nfs/pic.es/user/a/afontrib/Projects/LaCE//lace/emulator/sim_suites/test_archive/sim_pair_0/sim_minus/p1d_8_Ns500_wM0.05.json already exists\n",
      "file /nfs/pic.es/user/a/afontrib/Projects/LaCE//lace/emulator/sim_suites/test_archive/sim_pair_0/sim_minus/p1d_9_Ns500_wM0.05.json already exists\n",
      "file /nfs/pic.es/user/a/afontrib/Projects/LaCE//lace/emulator/sim_suites/test_archive/sim_pair_0/sim_minus/p1d_10_Ns500_wM0.05.json already exists\n",
      "folder /nfs/pic.es/user/a/afontrib/Projects/LaCE//lace/emulator/sim_suites/test_archive/sim_pair_0/sim_plus already exists\n",
      "file /nfs/pic.es/user/a/afontrib/Projects/LaCE//lace/emulator/sim_suites/test_archive/sim_pair_0/sim_plus/paramfile.gadget already exists\n",
      "file /nfs/pic.es/user/a/afontrib/Projects/LaCE//lace/emulator/sim_suites/test_archive/sim_pair_0/sim_plus/paramfile.genic already exists\n",
      "file /nfs/pic.es/user/a/afontrib/Projects/LaCE//lace/emulator/sim_suites/test_archive/sim_pair_0/sim_plus/p1d_0_Ns500_wM0.05.json already exists\n",
      "file /nfs/pic.es/user/a/afontrib/Projects/LaCE//lace/emulator/sim_suites/test_archive/sim_pair_0/sim_plus/p1d_1_Ns500_wM0.05.json already exists\n",
      "file /nfs/pic.es/user/a/afontrib/Projects/LaCE//lace/emulator/sim_suites/test_archive/sim_pair_0/sim_plus/p1d_2_Ns500_wM0.05.json already exists\n",
      "file /nfs/pic.es/user/a/afontrib/Projects/LaCE//lace/emulator/sim_suites/test_archive/sim_pair_0/sim_plus/p1d_3_Ns500_wM0.05.json already exists\n",
      "file /nfs/pic.es/user/a/afontrib/Projects/LaCE//lace/emulator/sim_suites/test_archive/sim_pair_0/sim_plus/p1d_4_Ns500_wM0.05.json already exists\n",
      "file /nfs/pic.es/user/a/afontrib/Projects/LaCE//lace/emulator/sim_suites/test_archive/sim_pair_0/sim_plus/p1d_5_Ns500_wM0.05.json already exists\n",
      "file /nfs/pic.es/user/a/afontrib/Projects/LaCE//lace/emulator/sim_suites/test_archive/sim_pair_0/sim_plus/p1d_6_Ns500_wM0.05.json already exists\n",
      "file /nfs/pic.es/user/a/afontrib/Projects/LaCE//lace/emulator/sim_suites/test_archive/sim_pair_0/sim_plus/p1d_7_Ns500_wM0.05.json already exists\n",
      "file /nfs/pic.es/user/a/afontrib/Projects/LaCE//lace/emulator/sim_suites/test_archive/sim_pair_0/sim_plus/p1d_8_Ns500_wM0.05.json already exists\n",
      "file /nfs/pic.es/user/a/afontrib/Projects/LaCE//lace/emulator/sim_suites/test_archive/sim_pair_0/sim_plus/p1d_9_Ns500_wM0.05.json already exists\n",
      "file /nfs/pic.es/user/a/afontrib/Projects/LaCE//lace/emulator/sim_suites/test_archive/sim_pair_0/sim_plus/p1d_10_Ns500_wM0.05.json already exists\n",
      "folder /nfs/pic.es/user/a/afontrib/Projects/LaCE//lace/emulator/sim_suites/test_archive/sim_pair_1 already exists\n",
      "file /nfs/pic.es/user/a/afontrib/Projects/LaCE//lace/emulator/sim_suites/test_archive/sim_pair_1/parameter.json already exists\n",
      "folder /nfs/pic.es/user/a/afontrib/Projects/LaCE//lace/emulator/sim_suites/test_archive/sim_pair_1/sim_minus already exists\n",
      "file /nfs/pic.es/user/a/afontrib/Projects/LaCE//lace/emulator/sim_suites/test_archive/sim_pair_1/sim_minus/paramfile.gadget already exists\n",
      "file /nfs/pic.es/user/a/afontrib/Projects/LaCE//lace/emulator/sim_suites/test_archive/sim_pair_1/sim_minus/paramfile.genic already exists\n",
      "file /nfs/pic.es/user/a/afontrib/Projects/LaCE//lace/emulator/sim_suites/test_archive/sim_pair_1/sim_minus/p1d_0_Ns500_wM0.05.json already exists\n",
      "file /nfs/pic.es/user/a/afontrib/Projects/LaCE//lace/emulator/sim_suites/test_archive/sim_pair_1/sim_minus/p1d_1_Ns500_wM0.05.json already exists\n",
      "file /nfs/pic.es/user/a/afontrib/Projects/LaCE//lace/emulator/sim_suites/test_archive/sim_pair_1/sim_minus/p1d_2_Ns500_wM0.05.json already exists\n",
      "file /nfs/pic.es/user/a/afontrib/Projects/LaCE//lace/emulator/sim_suites/test_archive/sim_pair_1/sim_minus/p1d_3_Ns500_wM0.05.json already exists\n",
      "file /nfs/pic.es/user/a/afontrib/Projects/LaCE//lace/emulator/sim_suites/test_archive/sim_pair_1/sim_minus/p1d_4_Ns500_wM0.05.json already exists\n",
      "file /nfs/pic.es/user/a/afontrib/Projects/LaCE//lace/emulator/sim_suites/test_archive/sim_pair_1/sim_minus/p1d_5_Ns500_wM0.05.json already exists\n",
      "file /nfs/pic.es/user/a/afontrib/Projects/LaCE//lace/emulator/sim_suites/test_archive/sim_pair_1/sim_minus/p1d_6_Ns500_wM0.05.json already exists\n",
      "file /nfs/pic.es/user/a/afontrib/Projects/LaCE//lace/emulator/sim_suites/test_archive/sim_pair_1/sim_minus/p1d_7_Ns500_wM0.05.json already exists\n",
      "file /nfs/pic.es/user/a/afontrib/Projects/LaCE//lace/emulator/sim_suites/test_archive/sim_pair_1/sim_minus/p1d_8_Ns500_wM0.05.json already exists\n",
      "file /nfs/pic.es/user/a/afontrib/Projects/LaCE//lace/emulator/sim_suites/test_archive/sim_pair_1/sim_minus/p1d_9_Ns500_wM0.05.json already exists\n",
      "file /nfs/pic.es/user/a/afontrib/Projects/LaCE//lace/emulator/sim_suites/test_archive/sim_pair_1/sim_minus/p1d_10_Ns500_wM0.05.json already exists\n",
      "folder /nfs/pic.es/user/a/afontrib/Projects/LaCE//lace/emulator/sim_suites/test_archive/sim_pair_1/sim_plus already exists\n",
      "file /nfs/pic.es/user/a/afontrib/Projects/LaCE//lace/emulator/sim_suites/test_archive/sim_pair_1/sim_plus/paramfile.gadget already exists\n",
      "file /nfs/pic.es/user/a/afontrib/Projects/LaCE//lace/emulator/sim_suites/test_archive/sim_pair_1/sim_plus/paramfile.genic already exists\n",
      "file /nfs/pic.es/user/a/afontrib/Projects/LaCE//lace/emulator/sim_suites/test_archive/sim_pair_1/sim_plus/p1d_0_Ns500_wM0.05.json already exists\n",
      "file /nfs/pic.es/user/a/afontrib/Projects/LaCE//lace/emulator/sim_suites/test_archive/sim_pair_1/sim_plus/p1d_1_Ns500_wM0.05.json already exists\n",
      "file /nfs/pic.es/user/a/afontrib/Projects/LaCE//lace/emulator/sim_suites/test_archive/sim_pair_1/sim_plus/p1d_2_Ns500_wM0.05.json already exists\n",
      "file /nfs/pic.es/user/a/afontrib/Projects/LaCE//lace/emulator/sim_suites/test_archive/sim_pair_1/sim_plus/p1d_3_Ns500_wM0.05.json already exists\n",
      "file /nfs/pic.es/user/a/afontrib/Projects/LaCE//lace/emulator/sim_suites/test_archive/sim_pair_1/sim_plus/p1d_4_Ns500_wM0.05.json already exists\n",
      "file /nfs/pic.es/user/a/afontrib/Projects/LaCE//lace/emulator/sim_suites/test_archive/sim_pair_1/sim_plus/p1d_5_Ns500_wM0.05.json already exists\n",
      "file /nfs/pic.es/user/a/afontrib/Projects/LaCE//lace/emulator/sim_suites/test_archive/sim_pair_1/sim_plus/p1d_6_Ns500_wM0.05.json already exists\n",
      "file /nfs/pic.es/user/a/afontrib/Projects/LaCE//lace/emulator/sim_suites/test_archive/sim_pair_1/sim_plus/p1d_7_Ns500_wM0.05.json already exists\n",
      "file /nfs/pic.es/user/a/afontrib/Projects/LaCE//lace/emulator/sim_suites/test_archive/sim_pair_1/sim_plus/p1d_8_Ns500_wM0.05.json already exists\n",
      "file /nfs/pic.es/user/a/afontrib/Projects/LaCE//lace/emulator/sim_suites/test_archive/sim_pair_1/sim_plus/p1d_9_Ns500_wM0.05.json already exists\n",
      "file /nfs/pic.es/user/a/afontrib/Projects/LaCE//lace/emulator/sim_suites/test_archive/sim_pair_1/sim_plus/p1d_10_Ns500_wM0.05.json already exists\n"
     ]
    }
   ],
   "source": [
    "for sample in range(nsamples):\n",
    "    sim_pair='sim_pair_{}'.format(sample)\n",
    "    pos_pair_dir = os.path.join(pos_base_dir,sim_pair)\n",
    "    arc_pair_dir = os.path.join(arc_base_dir,sim_pair)\n",
    "\n",
    "    assert_dir_exists(pos_pair_dir)\n",
    "    mkdir_if_needed(arc_pair_dir)\n",
    "    copy_file_if_needed(pos_pair_dir,arc_pair_dir,'parameter.json')\n",
    "    for sim in ['sim_minus','sim_plus']:\n",
    "        pos_dir = os.path.join(pos_pair_dir, sim)        \n",
    "        arc_dir = os.path.join(arc_pair_dir, sim)\n",
    "        assert_dir_exists(pos_dir)\n",
    "        mkdir_if_needed(arc_dir)\n",
    "        for fname in ['paramfile.gadget','paramfile.genic']:\n",
    "            copy_file_if_needed(pos_dir,arc_dir,fname)\n",
    "        for snap in range(11):\n",
    "            p1d_fname='p1d_{}_Ns500_wM0.05.json'.format(snap)\n",
    "            copy_file_if_needed(pos_dir,arc_dir,p1d_fname)      "
   ]
  },
  {
   "cell_type": "code",
   "execution_count": null,
   "metadata": {},
   "outputs": [],
   "source": []
  },
  {
   "cell_type": "code",
   "execution_count": null,
   "metadata": {},
   "outputs": [],
   "source": []
  },
  {
   "cell_type": "code",
   "execution_count": null,
   "metadata": {},
   "outputs": [],
   "source": []
  },
  {
   "cell_type": "code",
   "execution_count": null,
   "metadata": {},
   "outputs": [],
   "source": []
  }
 ],
 "metadata": {
  "kernelspec": {
   "display_name": "desi_hydro_kernel",
   "language": "python",
   "name": "desi_hydro_kernel"
  },
  "language_info": {
   "codemirror_mode": {
    "name": "ipython",
    "version": 3
   },
   "file_extension": ".py",
   "mimetype": "text/x-python",
   "name": "python",
   "nbconvert_exporter": "python",
   "pygments_lexer": "ipython3",
   "version": "3.8.0"
  }
 },
 "nbformat": 4,
 "nbformat_minor": 4
}
