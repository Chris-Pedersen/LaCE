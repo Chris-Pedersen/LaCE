{
 "cells": [
  {
   "cell_type": "markdown",
   "metadata": {},
   "source": [
    "# Write scripts to measure P1D"
   ]
  },
  {
   "cell_type": "code",
   "execution_count": 1,
   "metadata": {
    "collapsed": false,
    "jupyter": {
     "outputs_hidden": false
    }
   },
   "outputs": [],
   "source": [
    "%matplotlib inline\n",
    "%load_ext autoreload\n",
    "%autoreload 2"
   ]
  },
  {
   "cell_type": "code",
   "execution_count": 2,
   "metadata": {},
   "outputs": [],
   "source": [
    "import numpy as np\n",
    "import matplotlib.pyplot as plt\n",
    "import matplotlib as mpl\n",
    "mpl.rcParams['savefig.dpi'] = 120\n",
    "mpl.rcParams['figure.dpi'] = 120\n",
    "import os\n",
    "import json\n",
    "# our modules below\n",
    "from lace.postprocess import write_p1d_script "
   ]
  },
  {
   "cell_type": "code",
   "execution_count": 3,
   "metadata": {},
   "outputs": [],
   "source": [
    "# directory with raw simulation outputs\n",
    "raw_dir='/data/desi/common/HydroData/Emulator/sims_256/sim_pair_1/sim_minus/'\n",
    "# directory with simulation post-procesings\n",
    "post_dir='/data/desi/common/HydroData/Emulator/test_256/sim_pair_1/sim_minus/'"
   ]
  },
  {
   "cell_type": "code",
   "execution_count": 4,
   "metadata": {},
   "outputs": [],
   "source": [
    "n_skewers = 500\n",
    "width_Mpc = 0.05\n",
    "zmax = 6.0\n",
    "scales_tau = '1.0'\n",
    "time = '10:00:00'\n",
    "run = False\n",
    "p1d_label=\"p1d\"\n",
    "verbose=True"
   ]
  },
  {
   "cell_type": "code",
   "execution_count": 5,
   "metadata": {},
   "outputs": [
    {
     "name": "stdout",
     "output_type": "stream",
     "text": [
      "in write_p1d_scripts_in_sim /data/desi/common/HydroData/Emulator/sims_256/sim_pair_1/sim_minus/ /data/desi/common/HydroData/Emulator/test_256/sim_pair_1/sim_minus/\n",
      "will measure p1d for snapshot 0\n",
      "print options: --post_dir /data/desi/common/HydroData/Emulator/test_256/sim_pair_1/sim_minus/ --snap_num 0 --n_skewers 500 --width_Mpc 0.05 --scales_tau 1.0 --p1d_label p1d --verbose\n",
      "will measure p1d for snapshot 1\n",
      "print options: --post_dir /data/desi/common/HydroData/Emulator/test_256/sim_pair_1/sim_minus/ --snap_num 1 --n_skewers 500 --width_Mpc 0.05 --scales_tau 1.0 --p1d_label p1d --verbose\n",
      "will measure p1d for snapshot 2\n",
      "print options: --post_dir /data/desi/common/HydroData/Emulator/test_256/sim_pair_1/sim_minus/ --snap_num 2 --n_skewers 500 --width_Mpc 0.05 --scales_tau 1.0 --p1d_label p1d --verbose\n",
      "will measure p1d for snapshot 3\n",
      "print options: --post_dir /data/desi/common/HydroData/Emulator/test_256/sim_pair_1/sim_minus/ --snap_num 3 --n_skewers 500 --width_Mpc 0.05 --scales_tau 1.0 --p1d_label p1d --verbose\n",
      "will measure p1d for snapshot 4\n",
      "print options: --post_dir /data/desi/common/HydroData/Emulator/test_256/sim_pair_1/sim_minus/ --snap_num 4 --n_skewers 500 --width_Mpc 0.05 --scales_tau 1.0 --p1d_label p1d --verbose\n",
      "will measure p1d for snapshot 5\n",
      "print options: --post_dir /data/desi/common/HydroData/Emulator/test_256/sim_pair_1/sim_minus/ --snap_num 5 --n_skewers 500 --width_Mpc 0.05 --scales_tau 1.0 --p1d_label p1d --verbose\n",
      "will measure p1d for snapshot 6\n",
      "print options: --post_dir /data/desi/common/HydroData/Emulator/test_256/sim_pair_1/sim_minus/ --snap_num 6 --n_skewers 500 --width_Mpc 0.05 --scales_tau 1.0 --p1d_label p1d --verbose\n",
      "will measure p1d for snapshot 7\n",
      "print options: --post_dir /data/desi/common/HydroData/Emulator/test_256/sim_pair_1/sim_minus/ --snap_num 7 --n_skewers 500 --width_Mpc 0.05 --scales_tau 1.0 --p1d_label p1d --verbose\n",
      "will measure p1d for snapshot 8\n",
      "print options: --post_dir /data/desi/common/HydroData/Emulator/test_256/sim_pair_1/sim_minus/ --snap_num 8 --n_skewers 500 --width_Mpc 0.05 --scales_tau 1.0 --p1d_label p1d --verbose\n",
      "will measure p1d for snapshot 9\n",
      "print options: --post_dir /data/desi/common/HydroData/Emulator/test_256/sim_pair_1/sim_minus/ --snap_num 9 --n_skewers 500 --width_Mpc 0.05 --scales_tau 1.0 --p1d_label p1d --verbose\n",
      "will measure p1d for snapshot 10\n",
      "print options: --post_dir /data/desi/common/HydroData/Emulator/test_256/sim_pair_1/sim_minus/ --snap_num 10 --n_skewers 500 --width_Mpc 0.05 --scales_tau 1.0 --p1d_label p1d --verbose\n",
      "will measure p1d for snapshot 11\n",
      "print options: --post_dir /data/desi/common/HydroData/Emulator/test_256/sim_pair_1/sim_minus/ --snap_num 11 --n_skewers 500 --width_Mpc 0.05 --scales_tau 1.0 --p1d_label p1d --verbose\n"
     ]
    }
   ],
   "source": [
    "write_p1d_script.write_p1d_scripts_in_sim(raw_dir,post_dir,\n",
    "            n_skewers=n_skewers,width_Mpc=width_Mpc,\n",
    "            scales_tau=scales_tau,\n",
    "            time=time,zmax=zmax,\n",
    "            verbose=verbose,p1d_label=p1d_label,run=run)"
   ]
  },
  {
   "cell_type": "code",
   "execution_count": null,
   "metadata": {},
   "outputs": [],
   "source": []
  }
 ],
 "metadata": {
  "kernelspec": {
   "display_name": "desi_hydro_kernel",
   "language": "python",
   "name": "desi_hydro_kernel"
  },
  "language_info": {
   "codemirror_mode": {
    "name": "ipython",
    "version": 3
   },
   "file_extension": ".py",
   "mimetype": "text/x-python",
   "name": "python",
   "nbconvert_exporter": "python",
   "pygments_lexer": "ipython3",
   "version": "3.8.0"
  }
 },
 "nbformat": 4,
 "nbformat_minor": 4
}
