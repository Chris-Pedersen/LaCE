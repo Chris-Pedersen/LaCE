{
 "cells": [
  {
   "cell_type": "markdown",
   "metadata": {},
   "source": [
    "# Copy post-processing files from original folder"
   ]
  },
  {
   "cell_type": "code",
   "execution_count": 1,
   "metadata": {
    "collapsed": false,
    "jupyter": {
     "outputs_hidden": false
    }
   },
   "outputs": [],
   "source": [
    "%matplotlib inline\n",
    "%load_ext autoreload\n",
    "%autoreload 2"
   ]
  },
  {
   "cell_type": "code",
   "execution_count": 8,
   "metadata": {},
   "outputs": [],
   "source": [
    "import numpy as np\n",
    "import shutil\n",
    "import os"
   ]
  },
  {
   "cell_type": "code",
   "execution_count": 3,
   "metadata": {},
   "outputs": [],
   "source": [
    "raw_base_dir='/data/desi/scratch/HydroData/Emulator/untar_hydro_sims/Australia20'\n",
    "pos_base_dir='/data/desi/common/HydroData/Emulator/postprocess/Australia20'"
   ]
  },
  {
   "cell_type": "code",
   "execution_count": 32,
   "metadata": {},
   "outputs": [],
   "source": [
    "def copy_file_if_needed(in_dir,out_dir,fname):\n",
    "    in_fname = os.path.join(in_dir,fname)\n",
    "    out_fname = os.path.join(out_dir,fname)\n",
    "    if os.path.exists(out_fname):\n",
    "        print('file {} already exists'.format(out_fname))\n",
    "        return\n",
    "    else:\n",
    "        print('copy file {} to {}'.format(in_fname,out_fname))\n",
    "        shutil.copyfile(in_fname,out_fname)\n",
    "        return"
   ]
  },
  {
   "cell_type": "code",
   "execution_count": 50,
   "metadata": {},
   "outputs": [],
   "source": [
    "def copy_dir_if_needed(in_dir,out_dir,dirname):\n",
    "    in_dirname = os.path.join(in_dir,dirname)\n",
    "    out_dirname = os.path.join(out_dir,dirname)\n",
    "    \n",
    "    if os.path.exists(out_dirname):\n",
    "        if not os.path.isdir(out_dirname):\n",
    "            raise ValueError(out_dirname+' exists but is not a folder!')\n",
    "        print('folder {} already exists'.format(out_dirname))\n",
    "        return\n",
    "    else:\n",
    "        print('copy folder {} to {}'.format(in_dirname,out_dirname))\n",
    "        shutil.copytree(in_dirname,out_dirname)\n",
    "        return"
   ]
  },
  {
   "cell_type": "code",
   "execution_count": 51,
   "metadata": {},
   "outputs": [],
   "source": [
    "def mkdir_if_needed(dirname):\n",
    "    if os.path.exists(dirname):\n",
    "        print('folder {} already exists'.format(dirname))\n",
    "        if not os.path.isdir(dirname):\n",
    "            raise ValueError(dirname+' exists but is not a folder!')\n",
    "    else:\n",
    "        print('create directory',dirname)\n",
    "        os.mkdir(dirname)"
   ]
  },
  {
   "cell_type": "code",
   "execution_count": 40,
   "metadata": {},
   "outputs": [],
   "source": [
    "def assert_dir_exists(dirname):\n",
    "    if not os.path.isdir(dirname):\n",
    "        raise ValueError(dirname+' folder does not exist!')"
   ]
  },
  {
   "cell_type": "code",
   "execution_count": 62,
   "metadata": {},
   "outputs": [],
   "source": [
    "def copy_post(sim_pair='sim_pair_0'):\n",
    "\n",
    "    raw_pair_dir = os.path.join(raw_base_dir,sim_pair)\n",
    "    pos_pair_dir = os.path.join(pos_base_dir,sim_pair)\n",
    "   \n",
    "    assert_dir_exists(raw_pair_dir)\n",
    "    mkdir_if_needed(pos_pair_dir)\n",
    "    copy_file_if_needed(raw_pair_dir,pos_pair_dir,'parameter.json')\n",
    "    \n",
    "    for sim in ['sim_minus','sim_plus']:\n",
    "        raw_dir = os.path.join(raw_pair_dir, sim)\n",
    "        pos_dir = os.path.join(pos_pair_dir, sim)\n",
    "        \n",
    "        assert_dir_exists(raw_dir)\n",
    "        mkdir_if_needed(pos_dir)\n",
    "                  \n",
    "        copy_dir_if_needed(raw_dir,pos_dir,'genpk')\n",
    "        copy_dir_if_needed(raw_dir+'/output',pos_dir,'skewers')\n",
    "\n",
    "        for fname in ['filtering_length.json','paramfile.gadget','paramfile.genic']:\n",
    "            copy_file_if_needed(raw_dir,pos_dir,fname)\n",
    "\n",
    "        for snap in range(11):\n",
    "            p1d_fname='p1d_{}_Ns500_wM0.05.json'.format(snap)\n",
    "            copy_file_if_needed(raw_dir,pos_dir,p1d_fname)"
   ]
  },
  {
   "cell_type": "code",
   "execution_count": 65,
   "metadata": {},
   "outputs": [
    {
     "name": "stdout",
     "output_type": "stream",
     "text": [
      "folder /data/desi/common/HydroData/Emulator/postprocess/Australia20/sim_pair_1 already exists\n",
      "file /data/desi/common/HydroData/Emulator/postprocess/Australia20/sim_pair_1/parameter.json already exists\n",
      "create directory /data/desi/common/HydroData/Emulator/postprocess/Australia20/sim_pair_1/sim_minus\n",
      "copy folder /data/desi/scratch/HydroData/Emulator/untar_hydro_sims/Australia20/sim_pair_1/sim_minus/genpk to /data/desi/common/HydroData/Emulator/postprocess/Australia20/sim_pair_1/sim_minus/genpk\n",
      "copy folder /data/desi/scratch/HydroData/Emulator/untar_hydro_sims/Australia20/sim_pair_1/sim_minus/output/skewers to /data/desi/common/HydroData/Emulator/postprocess/Australia20/sim_pair_1/sim_minus/skewers\n",
      "copy file /data/desi/scratch/HydroData/Emulator/untar_hydro_sims/Australia20/sim_pair_1/sim_minus/filtering_length.json to /data/desi/common/HydroData/Emulator/postprocess/Australia20/sim_pair_1/sim_minus/filtering_length.json\n",
      "copy file /data/desi/scratch/HydroData/Emulator/untar_hydro_sims/Australia20/sim_pair_1/sim_minus/paramfile.gadget to /data/desi/common/HydroData/Emulator/postprocess/Australia20/sim_pair_1/sim_minus/paramfile.gadget\n",
      "copy file /data/desi/scratch/HydroData/Emulator/untar_hydro_sims/Australia20/sim_pair_1/sim_minus/paramfile.genic to /data/desi/common/HydroData/Emulator/postprocess/Australia20/sim_pair_1/sim_minus/paramfile.genic\n",
      "copy file /data/desi/scratch/HydroData/Emulator/untar_hydro_sims/Australia20/sim_pair_1/sim_minus/p1d_0_Ns500_wM0.05.json to /data/desi/common/HydroData/Emulator/postprocess/Australia20/sim_pair_1/sim_minus/p1d_0_Ns500_wM0.05.json\n",
      "copy file /data/desi/scratch/HydroData/Emulator/untar_hydro_sims/Australia20/sim_pair_1/sim_minus/p1d_1_Ns500_wM0.05.json to /data/desi/common/HydroData/Emulator/postprocess/Australia20/sim_pair_1/sim_minus/p1d_1_Ns500_wM0.05.json\n",
      "copy file /data/desi/scratch/HydroData/Emulator/untar_hydro_sims/Australia20/sim_pair_1/sim_minus/p1d_2_Ns500_wM0.05.json to /data/desi/common/HydroData/Emulator/postprocess/Australia20/sim_pair_1/sim_minus/p1d_2_Ns500_wM0.05.json\n",
      "copy file /data/desi/scratch/HydroData/Emulator/untar_hydro_sims/Australia20/sim_pair_1/sim_minus/p1d_3_Ns500_wM0.05.json to /data/desi/common/HydroData/Emulator/postprocess/Australia20/sim_pair_1/sim_minus/p1d_3_Ns500_wM0.05.json\n",
      "copy file /data/desi/scratch/HydroData/Emulator/untar_hydro_sims/Australia20/sim_pair_1/sim_minus/p1d_4_Ns500_wM0.05.json to /data/desi/common/HydroData/Emulator/postprocess/Australia20/sim_pair_1/sim_minus/p1d_4_Ns500_wM0.05.json\n",
      "copy file /data/desi/scratch/HydroData/Emulator/untar_hydro_sims/Australia20/sim_pair_1/sim_minus/p1d_5_Ns500_wM0.05.json to /data/desi/common/HydroData/Emulator/postprocess/Australia20/sim_pair_1/sim_minus/p1d_5_Ns500_wM0.05.json\n",
      "copy file /data/desi/scratch/HydroData/Emulator/untar_hydro_sims/Australia20/sim_pair_1/sim_minus/p1d_6_Ns500_wM0.05.json to /data/desi/common/HydroData/Emulator/postprocess/Australia20/sim_pair_1/sim_minus/p1d_6_Ns500_wM0.05.json\n",
      "copy file /data/desi/scratch/HydroData/Emulator/untar_hydro_sims/Australia20/sim_pair_1/sim_minus/p1d_7_Ns500_wM0.05.json to /data/desi/common/HydroData/Emulator/postprocess/Australia20/sim_pair_1/sim_minus/p1d_7_Ns500_wM0.05.json\n",
      "copy file /data/desi/scratch/HydroData/Emulator/untar_hydro_sims/Australia20/sim_pair_1/sim_minus/p1d_8_Ns500_wM0.05.json to /data/desi/common/HydroData/Emulator/postprocess/Australia20/sim_pair_1/sim_minus/p1d_8_Ns500_wM0.05.json\n",
      "copy file /data/desi/scratch/HydroData/Emulator/untar_hydro_sims/Australia20/sim_pair_1/sim_minus/p1d_9_Ns500_wM0.05.json to /data/desi/common/HydroData/Emulator/postprocess/Australia20/sim_pair_1/sim_minus/p1d_9_Ns500_wM0.05.json\n",
      "copy file /data/desi/scratch/HydroData/Emulator/untar_hydro_sims/Australia20/sim_pair_1/sim_minus/p1d_10_Ns500_wM0.05.json to /data/desi/common/HydroData/Emulator/postprocess/Australia20/sim_pair_1/sim_minus/p1d_10_Ns500_wM0.05.json\n",
      "create directory /data/desi/common/HydroData/Emulator/postprocess/Australia20/sim_pair_1/sim_plus\n",
      "copy folder /data/desi/scratch/HydroData/Emulator/untar_hydro_sims/Australia20/sim_pair_1/sim_plus/genpk to /data/desi/common/HydroData/Emulator/postprocess/Australia20/sim_pair_1/sim_plus/genpk\n",
      "copy folder /data/desi/scratch/HydroData/Emulator/untar_hydro_sims/Australia20/sim_pair_1/sim_plus/output/skewers to /data/desi/common/HydroData/Emulator/postprocess/Australia20/sim_pair_1/sim_plus/skewers\n",
      "copy file /data/desi/scratch/HydroData/Emulator/untar_hydro_sims/Australia20/sim_pair_1/sim_plus/filtering_length.json to /data/desi/common/HydroData/Emulator/postprocess/Australia20/sim_pair_1/sim_plus/filtering_length.json\n",
      "copy file /data/desi/scratch/HydroData/Emulator/untar_hydro_sims/Australia20/sim_pair_1/sim_plus/paramfile.gadget to /data/desi/common/HydroData/Emulator/postprocess/Australia20/sim_pair_1/sim_plus/paramfile.gadget\n",
      "copy file /data/desi/scratch/HydroData/Emulator/untar_hydro_sims/Australia20/sim_pair_1/sim_plus/paramfile.genic to /data/desi/common/HydroData/Emulator/postprocess/Australia20/sim_pair_1/sim_plus/paramfile.genic\n",
      "copy file /data/desi/scratch/HydroData/Emulator/untar_hydro_sims/Australia20/sim_pair_1/sim_plus/p1d_0_Ns500_wM0.05.json to /data/desi/common/HydroData/Emulator/postprocess/Australia20/sim_pair_1/sim_plus/p1d_0_Ns500_wM0.05.json\n",
      "copy file /data/desi/scratch/HydroData/Emulator/untar_hydro_sims/Australia20/sim_pair_1/sim_plus/p1d_1_Ns500_wM0.05.json to /data/desi/common/HydroData/Emulator/postprocess/Australia20/sim_pair_1/sim_plus/p1d_1_Ns500_wM0.05.json\n",
      "copy file /data/desi/scratch/HydroData/Emulator/untar_hydro_sims/Australia20/sim_pair_1/sim_plus/p1d_2_Ns500_wM0.05.json to /data/desi/common/HydroData/Emulator/postprocess/Australia20/sim_pair_1/sim_plus/p1d_2_Ns500_wM0.05.json\n",
      "copy file /data/desi/scratch/HydroData/Emulator/untar_hydro_sims/Australia20/sim_pair_1/sim_plus/p1d_3_Ns500_wM0.05.json to /data/desi/common/HydroData/Emulator/postprocess/Australia20/sim_pair_1/sim_plus/p1d_3_Ns500_wM0.05.json\n",
      "copy file /data/desi/scratch/HydroData/Emulator/untar_hydro_sims/Australia20/sim_pair_1/sim_plus/p1d_4_Ns500_wM0.05.json to /data/desi/common/HydroData/Emulator/postprocess/Australia20/sim_pair_1/sim_plus/p1d_4_Ns500_wM0.05.json\n",
      "copy file /data/desi/scratch/HydroData/Emulator/untar_hydro_sims/Australia20/sim_pair_1/sim_plus/p1d_5_Ns500_wM0.05.json to /data/desi/common/HydroData/Emulator/postprocess/Australia20/sim_pair_1/sim_plus/p1d_5_Ns500_wM0.05.json\n",
      "copy file /data/desi/scratch/HydroData/Emulator/untar_hydro_sims/Australia20/sim_pair_1/sim_plus/p1d_6_Ns500_wM0.05.json to /data/desi/common/HydroData/Emulator/postprocess/Australia20/sim_pair_1/sim_plus/p1d_6_Ns500_wM0.05.json\n",
      "copy file /data/desi/scratch/HydroData/Emulator/untar_hydro_sims/Australia20/sim_pair_1/sim_plus/p1d_7_Ns500_wM0.05.json to /data/desi/common/HydroData/Emulator/postprocess/Australia20/sim_pair_1/sim_plus/p1d_7_Ns500_wM0.05.json\n",
      "copy file /data/desi/scratch/HydroData/Emulator/untar_hydro_sims/Australia20/sim_pair_1/sim_plus/p1d_8_Ns500_wM0.05.json to /data/desi/common/HydroData/Emulator/postprocess/Australia20/sim_pair_1/sim_plus/p1d_8_Ns500_wM0.05.json\n",
      "copy file /data/desi/scratch/HydroData/Emulator/untar_hydro_sims/Australia20/sim_pair_1/sim_plus/p1d_9_Ns500_wM0.05.json to /data/desi/common/HydroData/Emulator/postprocess/Australia20/sim_pair_1/sim_plus/p1d_9_Ns500_wM0.05.json\n",
      "copy file /data/desi/scratch/HydroData/Emulator/untar_hydro_sims/Australia20/sim_pair_1/sim_plus/p1d_10_Ns500_wM0.05.json to /data/desi/common/HydroData/Emulator/postprocess/Australia20/sim_pair_1/sim_plus/p1d_10_Ns500_wM0.05.json\n"
     ]
    }
   ],
   "source": [
    "copy_post(sim_pair='sim_pair_1')"
   ]
  },
  {
   "cell_type": "code",
   "execution_count": null,
   "metadata": {},
   "outputs": [],
   "source": []
  },
  {
   "cell_type": "code",
   "execution_count": null,
   "metadata": {},
   "outputs": [],
   "source": []
  },
  {
   "cell_type": "code",
   "execution_count": null,
   "metadata": {},
   "outputs": [],
   "source": []
  },
  {
   "cell_type": "code",
   "execution_count": null,
   "metadata": {},
   "outputs": [],
   "source": []
  }
 ],
 "metadata": {
  "kernelspec": {
   "display_name": "desi_hydro_kernel",
   "language": "python",
   "name": "desi_hydro_kernel"
  },
  "language_info": {
   "codemirror_mode": {
    "name": "ipython",
    "version": 3
   },
   "file_extension": ".py",
   "mimetype": "text/x-python",
   "name": "python",
   "nbconvert_exporter": "python",
   "pygments_lexer": "ipython3",
   "version": "3.8.0"
  }
 },
 "nbformat": 4,
 "nbformat_minor": 4
}
