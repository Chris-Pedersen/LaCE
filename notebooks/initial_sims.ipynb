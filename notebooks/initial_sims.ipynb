{
 "cells": [
  {
   "cell_type": "markdown",
   "metadata": {},
   "source": [
    "# Setting up the initial simulation grid\n"
   ]
  },
  {
   "cell_type": "markdown",
   "metadata": {},
   "source": [
    "### Emulator parameters $M$\n",
    "\n",
    "The relation between the likelihood parameters ($\\Theta$,$\\Phi$) and the emulator parameters $M$ is discussed in the notebook full_likelihood. The emulator will have training set containing a large number of simulated spectra, identified by a list of parameters $M$:\n",
    "$$ M = \\{ M_P, f, \\lambda_F, \\bar F, \\sigma_T, \\gamma \\} $$\n",
    "where $M_P$ is a set of (3) parameters describing the linear power in the snapshot, in units of Mpc, $f$ allows us to translate that to the velocity power spectrum, and $\\sigma_T$ is the thermal broadening corresponding to $T_0$:\n",
    "\n",
    "$$ \\sigma_T (T_0) = 9.1  \\sqrt{ \\frac{T_0}{10000K} } \\, \\mathrm{km/s} $$\n",
    "\n",
    "Note that in the emulator $\\sigma_T$ will be converted to comoving units in the same way that we have converted the linear power from velocity to comoving units."
   ]
  },
  {
   "cell_type": "markdown",
   "metadata": {},
   "source": [
    "### Simulation parameters $H$\n",
    "\n",
    "From each simulation we run, we will output a number of snapshots, of order 10. \n",
    "\n",
    "Moreover, for each snapshot we extract different sets of simulated Lyman-$\\alpha$ skewers (normalized quasar spectra), after applying different rescalings of the temperatures in the snapshot. \n",
    "These skewers are written to disk.\n",
    "\n",
    "Finally, from each set of skewers we measure different 1D power spectra, after rescaling the mean optical depth in the spectra. \n",
    "This optical depth rescaling is trivial, and it is done on the fly. \n",
    "Each of these measured power spectra is fed to the emulator. "
   ]
  },
  {
   "cell_type": "markdown",
   "metadata": {},
   "source": [
    "\n",
    "Let's discuss the parameterization of each of the simulation packages:\n",
    "\n",
    "- As we discuss above, the emulator labels the measured power with the set of parameters $ M = \\{ M_P, f, \\lambda_F, \\bar F, \\sigma_T, \\gamma \\} $.\n",
    "\n",
    "- Each set of simulated skewers, written to disk, is described by a subset of these $ \\{ M_P, f, \\lambda_F, \\sigma_T, \\gamma \\} $, since we will have different values of $\\bar F$ from the skewers.\n",
    "\n",
    "- Each snapshot is described by an even smaller subset of parameters, $ \\{ M_P, f, \\lambda_F \\} $, since we will reprocess the snapshot for different temperature-density relations.\n",
    "\n",
    "If we assumed that we can do as much rescaling of mean flux and temperature as we wanted, then this last set of parameters $ \\{ M_P, f, \\lambda_F \\} $ would be the only relevant ones. If we can not rescale as much as we would like to (because the rescaling breaks down at some point?), then we would need to label the snapshots with a \"central temperature\" and \"central mean flux\", around which we would perturb. \n",
    "\n",
    "Now, since we are describing the linear power in comoving units, the shape of the linear power will be the same in all snapshots. The only parameters that will vary are the amplitude of the linear power, the logarithmic growth rate $f$ and the filtering length $\\lambda_F$. So each simulation will be described by two shape parameters, and $N_z \\times \\{ A_p, f, \\lambda_F \\}$, where $N_z$ is the number of snapshots. \n",
    "\n",
    "$$ H = \\{ n_p, \\alpha_p, N_z \\times \\{ A_p, f, \\lambda_F \\} \\} $$\n",
    "\n",
    "\n",
    "The question is: how do we decide what simulation to run, i.e., what configuration files to use, if we are handed a set of parameters $H$? We will not aim at having a perfect match between the two, we just want to get on the right ball park."
   ]
  },
  {
   "cell_type": "markdown",
   "metadata": {},
   "source": [
    "From the point of view of cosmological parameters:\n",
    " - We start by defining a fiducial cosmology, somewhere around Planck, but WITHOUT NEUTRINOS. This is important, since our simulations will not have neutrinos. All quantities with $^0$ will refer to that fiducial cosmology. \n",
    " - In flat $\\Lambda$CDM models, we can translate the requirement of a given $f_\\star$ into a requirement of a given $\\Omega_\\star = \\Omega_{cb}(z_\\star)$, using $f_\\star = \\Omega_\\star^{0.55}$.\n",
    " - We can then translate the requirement on $\\Omega_\\star$ to a requirement on $\\Omega_{cb} = \\Omega_{cb}(z=0)$, using $\\Omega_\\star = \\Omega_{cb} (1+z_\\star)^3 / ( \\Omega_{cb} (1+z_\\star)^3 + 1 - \\Omega_{cb} ) $. \n",
    " - We will keep fixed the values of $\\Omega_c h^2$ and $\\Omega_b h^2$, so the requirement on $\\Omega_{cb}$ will translate into a requirement on $h$, using $h^2 = (\\Omega_b h^2 + \\Omega_c h^2)/\\Omega_{cb} $.\n",
    " - We will also measure the shape of the linear power at $z_\\star$ around $k_p$, and modify the slope and running of the primordial power to match the required shape.\n",
    " - So the cosmology in the simulation will be specified by $\\{ h, A_p, n_p, \\alpha_p \\}$, where $A_p$ will be computed at $z_\\star$."
   ]
  },
  {
   "cell_type": "markdown",
   "metadata": {},
   "source": [
    "From the point of view of the pressure smoothing:\n",
    " - We will look at the value of the filtering length at a pre-HeII and at a post-HeII redshift, say z=2 and z=4. \n",
    " - We will use the Oñorbe models to translate the required values for $\\lambda_F$ pre- and post-HeII reionization to a required thermal history. It will probably be enough to specify a scaling of the heating rates before ($\\mu_H$) and after ($\\mu_{He}$) He_II reionizaion. "
   ]
  },
  {
   "cell_type": "markdown",
   "metadata": {},
   "source": [
    "### Initial simulation grid\n",
    "\n",
    "We have 6 simulation parameters: \n",
    "\n",
    "$$ H = \\{ \\mu_H, \\mu_{He}, h, \\Delta_p^2, n_p, \\alpha_p \\} $$\n",
    "\n",
    "We will choose the following parameter volume for the simulations:\n",
    " - $ 0.5 < \\mu_H < 2.0 $\n",
    " - $ 0.5 < \\mu_{He} < 2.0 $\n",
    " - $ 0.6 < h < 0.8 $\n",
    " - $ 0.25 < \\Delta_p^2 < 0.45 $\n",
    " - $ -2.3 < n_p < -2.4 $\n",
    " - $ -0.12 < \\alpha_p < -0.08 $"
   ]
  },
  {
   "cell_type": "code",
   "execution_count": 1,
   "metadata": {
    "collapsed": true
   },
   "outputs": [],
   "source": [
    "%matplotlib inline\n",
    "import numpy as np\n",
    "import os\n",
    "import copy\n",
    "## Set default plot size, as normally its a bit too small\n",
    "import matplotlib.pyplot as plt\n",
    "import matplotlib as mpl\n",
    "mpl.rcParams['savefig.dpi'] = 120\n",
    "mpl.rcParams['figure.dpi'] = 120\n",
    "import camb\n",
    "from camb import model, initialpower\n",
    "import fit_pk\n",
    "import read_genic"
   ]
  },
  {
   "cell_type": "code",
   "execution_count": 6,
   "metadata": {
    "collapsed": false
   },
   "outputs": [
    {
     "name": "stdout",
     "output_type": "stream",
     "text": [
      "H0 = 75.0 ; Omega_b h^2 = 0.022 ; Omega_c h^2 = 0.12 ; Omega_k = 0.0 ; ommnuh2 = 0.0 ; T_CMB = 2.7255 ; A_s = 2.1e-09 ; n_s = 0.96\n",
      "fiducial cosmology parameters {'f_star': 0.98136698840516934, 'g_star': 0.9677508579459803, 'linP_Mpc': poly1d([-0.10748482, -2.30758676,  3.02860938])}\n"
     ]
    }
   ],
   "source": [
    "# setup fiducial cosmology\n",
    "cosmo_fid = fit_pk.get_cosmology(mnu=0.0)\n",
    "fit_pk.print_info(cosmo)\n",
    "# fit power around this\n",
    "z_star=3.0\n",
    "kp_Mpc=0.7\n",
    "# get linear power parameters, in comoving units\n",
    "linP_params_fid=fit_pk.parameterize_cosmology_Mpc(cosmo_fid,z_star=z_star,kp_Mpc=kp_Mpc)\n",
    "print('fiducial cosmology parameters',linP_params_fid)"
   ]
  },
  {
   "cell_type": "code",
   "execution_count": 7,
   "metadata": {
    "collapsed": true
   },
   "outputs": [],
   "source": [
    "# define target cosmology\n",
    "target_f_star=0.98\n",
    "target_lnA_p = 2.5\n",
    "target_n_p = -2.25\n",
    "target_alpha_p = - 0.12"
   ]
  }
 ],
 "metadata": {
  "kernelspec": {
   "display_name": "Python 3",
   "language": "python",
   "name": "python3"
  },
  "language_info": {
   "codemirror_mode": {
    "name": "ipython",
    "version": 3
   },
   "file_extension": ".py",
   "mimetype": "text/x-python",
   "name": "python",
   "nbconvert_exporter": "python",
   "pygments_lexer": "ipython3",
   "version": "3.6.0"
  }
 },
 "nbformat": 4,
 "nbformat_minor": 2
}
