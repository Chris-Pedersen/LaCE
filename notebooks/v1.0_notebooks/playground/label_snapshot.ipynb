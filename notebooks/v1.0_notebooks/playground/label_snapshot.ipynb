{
 "cells": [
  {
   "cell_type": "markdown",
   "metadata": {},
   "source": [
    "# Label simulation snapshots\n",
    "\n",
    "Every time we run a simulation, we will output several snapshots. Probably a number around 10.\n",
    "\n",
    "Initially the snapshots will be labeled by the output redshift and the cosmology in the box, but in this notebook we show how to relabel the snapshot using the variables that will be used by the emulator.\n",
    "\n",
    "Note that the emulator does not need to use the same parameters than the likelihood. While the likelihood parameterizes the linear power in velocity units, for better comparison with the data, from the point of view of the emulator is more convenient to use the linear power in comoving separations. This means that the emulator will return the flux 1D power spectrum in comoving units as well, and it means that we need to use comoving separations for the other relevant scales: temperature and pressure smoothing. \n",
    "\n",
    "We discuss these issues in this notebook."
   ]
  },
  {
   "cell_type": "code",
   "execution_count": 1,
   "metadata": {
    "collapsed": true
   },
   "outputs": [],
   "source": [
    "%matplotlib inline\n",
    "import numpy as np\n",
    "## Set default plot size, as normally its a bit too small\n",
    "import matplotlib.pyplot as plt\n",
    "import matplotlib as mpl\n",
    "mpl.rcParams['savefig.dpi'] = 120\n",
    "mpl.rcParams['figure.dpi'] = 120\n",
    "import camb\n",
    "from camb import model, initialpower\n",
    "import fit_pk\n",
    "import read_genic"
   ]
  },
  {
   "cell_type": "markdown",
   "metadata": {
    "collapsed": true
   },
   "source": [
    "### Setup cosmological model in the box"
   ]
  },
  {
   "cell_type": "code",
   "execution_count": 2,
   "metadata": {
    "collapsed": false
   },
   "outputs": [
    {
     "name": "stdout",
     "output_type": "stream",
     "text": [
      "{'H0': 74.33999999999999, 'omch2': 0.10600731605200002, 'ombh2': 0.026692683947999996, 'mnu': 0.0, 'omk': 5.551115123125783e-17, 'TCMB': 2.7255, 'As': 2.86213e-09, 'ns': 0.906429}\n"
     ]
    }
   ],
   "source": [
    "# read cosmology from GenIC file\n",
    "cosmo_genic = 'param_keir.genic'\n",
    "cosmo_dict = read_genic.camb_from_genic(cosmo_genic)\n",
    "print(cosmo_dict)\n",
    "# obtain CAMB object \n",
    "pars = fit_pk.get_cosmology(cosmo_dict)"
   ]
  },
  {
   "cell_type": "markdown",
   "metadata": {},
   "source": [
    "### Read list of relevant snapshots"
   ]
  },
  {
   "cell_type": "code",
   "execution_count": 3,
   "metadata": {
    "collapsed": true
   },
   "outputs": [],
   "source": [
    "# should read these from Gadget parameter file\n",
    "snap_zs=[2.0,3.0,4.0]\n",
    "Nsnap=len(snap_zs)"
   ]
  },
  {
   "cell_type": "markdown",
   "metadata": {},
   "source": [
    "### Compute linear power at each snapshot"
   ]
  },
  {
   "cell_type": "code",
   "execution_count": 4,
   "metadata": {
    "collapsed": false
   },
   "outputs": [
    {
     "name": "stdout",
     "output_type": "stream",
     "text": [
      "Note: redshifts have been re-sorted (earliest first)\n",
      "7.434e-05 < k_Mpc < 14.868\n"
     ]
    }
   ],
   "source": [
    "k_Mpc, zs_out, linP_Mpc=fit_pk.get_linP_Mpc(pars,snap_zs)\n",
    "# make sure that the order did not change (in spite of warning)\n",
    "np.testing.assert_allclose(snap_zs,zs_out)\n",
    "print(min(k_Mpc),'< k_Mpc <',max(k_Mpc))"
   ]
  },
  {
   "cell_type": "markdown",
   "metadata": {},
   "source": [
    "### Relabel each snapshot in simulation"
   ]
  },
  {
   "cell_type": "code",
   "execution_count": 5,
   "metadata": {
    "collapsed": true
   },
   "outputs": [],
   "source": [
    "def fit_P_Mpc(k_Mpc,P_Mpc,kp_Mpc=0.7,deg=2):\n",
    "    kmin_Mpc=kp_Mpc*0.8\n",
    "    kmax_Mpc=kp_Mpc/0.8\n",
    "    P_fit=fit_pk.fit_polynomial(kmin_Mpc/kp_Mpc,kmax_Mpc/kp_Mpc,k_Mpc/kp_Mpc,P_Mpc,deg=deg)\n",
    "    return P_fit"
   ]
  },
  {
   "cell_type": "code",
   "execution_count": 6,
   "metadata": {
    "collapsed": false
   },
   "outputs": [],
   "source": [
    "def fit_astro_params(snap,z,pars):\n",
    "    # get mean flux from box (for now just compute toy model)\n",
    "    mf=np.exp((np.log(0.8))*(((1+z)/3.25)**3.2))\n",
    "    # measure pressure smoothing length from box (in Mpc)\n",
    "    kF_Mpc=10.0\n",
    "    # measure TDR from box\n",
    "    T_0=1.5e4\n",
    "    gamma=1.6\n",
    "    # compute thermal broadening length, in km/s\n",
    "    sigma_T0_kms=9.1*np.sqrt(T_0/1.e4)\n",
    "    # translate length to Mpc\n",
    "    dkms_dhMpc=fit_pk.dkms_dhMpc(pars,z)\n",
    "    h=pars.H0/100.0\n",
    "    sigma_T0_Mpc=sigma_T0_kms/dkms_dhMpc/h\n",
    "    astro_params={'mf':mf, 'kF_Mpc':kF_Mpc, 'gamma':gamma, 'sigma_T0_Mpc':sigma_T0_Mpc}\n",
    "    return astro_params"
   ]
  },
  {
   "cell_type": "code",
   "execution_count": 7,
   "metadata": {
    "collapsed": true
   },
   "outputs": [],
   "source": [
    "def measure_P1D_snapshot(snap):\n",
    "    k1D_Mpc=np.linspace(0.1,10.0,100)\n",
    "    P1D_Mpc=100.0*np.ones_like(k1D_Mpc)\n",
    "    return k1D_Mpc,P1D_Mpc"
   ]
  },
  {
   "cell_type": "code",
   "execution_count": 8,
   "metadata": {
    "collapsed": false
   },
   "outputs": [
    {
     "name": "stdout",
     "output_type": "stream",
     "text": [
      "2.0 [-0.09996443 -2.39232305  3.4395078 ]\n",
      "2.0 {'mf': 0.84137217213506155, 'kF_Mpc': 10.0, 'gamma': 1.6, 'sigma_T0_Mpc': 0.16711828413965304}\n",
      "3.0 [-0.09995883 -2.39232365  2.88772469]\n",
      "3.0 {'mf': 0.64813245871103942, 'kF_Mpc': 10.0, 'gamma': 1.6, 'sigma_T0_Mpc': 0.14932802034277648}\n",
      "4.0 [-0.09996496 -2.39232347  2.45038825]\n",
      "4.0 {'mf': 0.41244644004470926, 'kF_Mpc': 10.0, 'gamma': 1.6, 'sigma_T0_Mpc': 0.13512556005345677}\n"
     ]
    }
   ],
   "source": [
    "# will store information about snapshots\n",
    "snapshots=[]\n",
    "for snap in range(Nsnap):\n",
    "    z=snap_zs[snap]\n",
    "    # fit linear power around kp_Mpc=0.7\n",
    "    P_Mpc=linP_Mpc[snap]\n",
    "    P_fit=fit_P_Mpc(k_Mpc,P_Mpc)\n",
    "    print(z,np.array(P_fit))\n",
    "    # measure astro parameters from snapshot\n",
    "    astro_params = fit_astro_params(snap,z,pars)\n",
    "    print(z,astro_params)\n",
    "    # measure 1D power spectrum from snapshot\n",
    "    k1D_Mpc, P1D_Mpc= measure_P1D_snapshot(snap)\n",
    "    snapshot={'astro_params':astro_params,'linP_Mpc':P_fit,'k1D_Mpc':k1D_Mpc,'P1D_Mpc':P1D_Mpc}\n",
    "    snapshots.append(snapshot)"
   ]
  },
  {
   "cell_type": "markdown",
   "metadata": {
    "collapsed": false
   },
   "source": [
    "### Feeding snapshots to the emulator\n",
    "\n",
    "The emulator will have a list of snapshots, identified by a list of parameters $\\mu$:\n",
    "$$ \\mu = \\{ \\mu_P, k_F, \\bar F, \\sigma_T, \\gamma \\} $$\n",
    "\n",
    "where $\\mu_P$ is a set of (3) parameters describing the linear power in the snapshot, in units of Mpc.\n",
    "\n",
    "Note that while each snapshot will correspond to a set of parameters $\\{ \\mu_P, k_F \\}$, we will be able to use the same snapshot to generate spectra with different values of $ \\{ \\bar F, \\sigma_T, \\gamma \\}$, since these can be changed in post-process."
   ]
  },
  {
   "cell_type": "code",
   "execution_count": 9,
   "metadata": {
    "collapsed": false
   },
   "outputs": [
    {
     "name": "stdout",
     "output_type": "stream",
     "text": [
      "{'mf': 0.84137217213506155, 'kF_Mpc': 10.0, 'gamma': 1.6, 'sigma_T0_Mpc': 0.16711828413965304} [-0.09996443 -2.39232305  3.4395078 ]\n",
      "{'mf': 0.64813245871103942, 'kF_Mpc': 10.0, 'gamma': 1.6, 'sigma_T0_Mpc': 0.14932802034277648} [-0.09995883 -2.39232365  2.88772469]\n",
      "{'mf': 0.41244644004470926, 'kF_Mpc': 10.0, 'gamma': 1.6, 'sigma_T0_Mpc': 0.13512556005345677} [-0.09996496 -2.39232347  2.45038825]\n"
     ]
    }
   ],
   "source": [
    "for snapshot in snapshots:\n",
    "    astro_params=snapshot['astro_params']\n",
    "    linP_params=snapshot['linP_Mpc']\n",
    "    print(astro_params,np.array(linP_params))"
   ]
  },
  {
   "cell_type": "code",
   "execution_count": null,
   "metadata": {
    "collapsed": true
   },
   "outputs": [],
   "source": []
  }
 ],
 "metadata": {
  "kernelspec": {
   "display_name": "Python 3",
   "language": "python",
   "name": "python3"
  },
  "language_info": {
   "codemirror_mode": {
    "name": "ipython",
    "version": 3
   },
   "file_extension": ".py",
   "mimetype": "text/x-python",
   "name": "python",
   "nbconvert_exporter": "python",
   "pygments_lexer": "ipython3",
   "version": "3.6.0"
  }
 },
 "nbformat": 4,
 "nbformat_minor": 2
}
