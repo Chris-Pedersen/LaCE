{
 "cells": [
  {
   "cell_type": "markdown",
   "metadata": {},
   "source": [
    "# Compute the _full_ likelihood \n",
    "\n",
    "This notebook focuses on computing the full likelihood, i.e., the one including nuisance parameters, that will be used in the MCMC. \n",
    "\n",
    "Given an input dataset, and a given model, it will compute its likelihood $ L(d | \\theta, \\phi) $.\n",
    "\n",
    "Notation:\n",
    " - $L$ is the likelihood.\n",
    " - $\\mathcal{L}$ is the log-likelihood.\n",
    " - $d$ is the data, the measured 1D power spectrum from BOSS / eBOSS / DESI / HIRES...  band powers $P_{ij}=P_{\\rm 1D}(z_i, k_j)$, where $k_j$ has units of velocity ($s/km$). \n",
    " - $\\theta$ are the parameters describing the linear power spectrum.\n",
    " - $\\phi$ are the nuisance parameters, describing the mean flux, temperature, pressure... "
   ]
  },
  {
   "cell_type": "code",
   "execution_count": 1,
   "metadata": {
    "collapsed": false
   },
   "outputs": [],
   "source": [
    "%matplotlib inline\n",
    "import numpy as np\n",
    "import os\n",
    "## Set default plot size, as normally its a bit too small\n",
    "import matplotlib.pyplot as plt\n",
    "import matplotlib as mpl\n",
    "mpl.rcParams['savefig.dpi'] = 120\n",
    "mpl.rcParams['figure.dpi'] = 120\n",
    "import fit_pk\n",
    "import lya_results\n",
    "import camb"
   ]
  },
  {
   "cell_type": "markdown",
   "metadata": {},
   "source": [
    "### Cosmological parameters $\\theta$\n",
    "\n",
    "We will use a maximum of five parameters to describe the linear power spectrum across the redshift range of interest.\n",
    "\n",
    "Three of them will describe the linear power at $z_\\star$, in velocity units (km/s). We will use a Taylor expansion of the logarithm of the linear power around $k_p = 0.009$ s/km. \n",
    "\n",
    "$$ \\Delta_p^2 = \\frac{k_p^3}{2 \\pi^2} P_L(z_\\star,k_p) $$\n",
    "\n",
    "$$ n_p = \\frac{\\partial \\log P_L(z_\\star, k)}{\\partial \\log(k) } \\Bigr\\rvert_{k_p} $$\n",
    "\n",
    "$$ \\alpha_p = \\frac{\\partial^2 \\log P_L(z_\\star, k)}{\\partial \\log^2(k) } \\Bigr\\rvert_{k_p} $$\n",
    "\n",
    "\n",
    "$$ f_\\star = f(z_\\star) = \\frac{\\partial \\log D(z)}{\\partial \\log a(z)} \\Bigr\\rvert_{z_\\star} $$\n",
    "\n",
    "$$ g_\\star = g(z_\\star) = \\frac{\\partial \\log H(z)}{\\partial \\log (1+z)^{3/2}} \\Bigr\\rvert_{z_\\star} $$\n",
    "\n",
    "\n",
    "$$ \\theta = \\{ \\Delta_p^2, n_p, \\alpha_p, f_\\star, g_\\star \\} $$"
   ]
  },
  {
   "cell_type": "code",
   "execution_count": 2,
   "metadata": {
    "collapsed": false
   },
   "outputs": [
    {
     "name": "stdout",
     "output_type": "stream",
     "text": [
      "H0 = 73.0 ; Omega_b h^2 = 0.022 ; Omega_c h^2 = 0.12 ; Omega_k = 0.0 ; ommnuh2 = 0.00322 ; T_CMB = 2.7255 ; A_s = 2.1e-09 ; n_s = 0.97\n",
      "linP_params {'f_star': 0.96439447908106624, 'g_star': 0.9603164285445334, 'linP_kms': poly1d([ -0.10707297,  -2.29803848,  15.99861713])}\n"
     ]
    }
   ],
   "source": [
    "# specify cosmology\n",
    "cosmo = fit_pk.get_cosmology(mnu=0.3,H0=73.0,ns=0.97) #,omk=0.02)\n",
    "fit_pk.print_info(cosmo)\n",
    "# get parameters describing the linear power spectrum\n",
    "z_star=3.0\n",
    "kp_kms=0.009\n",
    "linP_params=fit_pk.parameterize_cosmology(cosmo,z_star=z_star,kp_kms=kp_kms)\n",
    "print('linP_params',linP_params)\n",
    "# compute CAMB results (for testing)\n",
    "results=camb.get_results(cosmo)"
   ]
  },
  {
   "cell_type": "markdown",
   "metadata": {},
   "source": [
    "### Nuisance parameters $\\phi$\n",
    "\n",
    "For now, let us assume that we only have nuisance parameters associated to the mean flux as a function of redshift. \n",
    "There are several parameterizations possible. If interested, take a look at the notebook mean_flux.ipynb.\n",
    " \n",
    "For this notebook, we will use three parameters to describe the mean flux:\n",
    "$$ \\ln \\tau_{\\rm eff}(z) = \\ln \\tau_\\star + n_\\tau \\ln \\left( \\frac{1+z}{1+z_\\star} \\right) + \\alpha_\\tau \\ln^2 \\left( \\frac{1+z}{1+z_\\star} \\right) $$\n",
    "\n",
    "The nuisance parameters, therefore, will be \n",
    "$$ \\phi = \\{ \\tau_\\star , n_\\tau , \\alpha_\\tau \\} $$"
   ]
  },
  {
   "cell_type": "code",
   "execution_count": 3,
   "metadata": {
    "collapsed": true
   },
   "outputs": [],
   "source": [
    "# specify values for mean flux model\n",
    "nuisance_params={'z_star':3.0,'tau_star':0.42,'n_tau':3.5,'alpha_tau':-1.0}"
   ]
  },
  {
   "cell_type": "markdown",
   "metadata": {
    "collapsed": false
   },
   "source": [
    "### Dataset\n",
    "\n",
    "We will work with 1D power spectrum, measured at independent redshift bins, and at several wavenumbers. \n",
    "\n",
    "In this notebook, we will have only three redshift bins, and we will have ten wavenumbers."
   ]
  },
  {
   "cell_type": "code",
   "execution_count": 4,
   "metadata": {
    "collapsed": false
   },
   "outputs": [],
   "source": [
    "def get_data(verbose=False):\n",
    "    # specify redshift bins\n",
    "    zmin=2.0\n",
    "    zmax=4.0\n",
    "    dz=1.0\n",
    "    Nz=int((zmax-zmin)/dz)+1\n",
    "    z_bins = np.linspace(zmin,zmax,num=Nz,endpoint=True)\n",
    "    if verbose:\n",
    "        print('z_bins =',z_bins)\n",
    "    # specify wavenumbers (in units of km/s)\n",
    "    kmin_kms=0.001\n",
    "    kmax_kms=0.02\n",
    "    Nk=10\n",
    "    k_bins=np.logspace(np.log10(kmin_kms),np.log10(kmax_kms),num=Nk)\n",
    "    if verbose:\n",
    "        print('k_bins =',k_bins)\n",
    "    # fake power measured\n",
    "    P1D = 100*np.ones([Nz,Nk])\n",
    "    # fake, diagonal covariance \n",
    "    P1D_cov = np.ones([Nz,Nk])\n",
    "    # store everything in dictionary\n",
    "    data = {'z_bins':z_bins, 'k_bins':k_bins, 'P1D':P1D, 'P1D_cov':P1D_cov}\n",
    "    return data"
   ]
  },
  {
   "cell_type": "code",
   "execution_count": 5,
   "metadata": {
    "collapsed": false
   },
   "outputs": [],
   "source": [
    "data = get_data()"
   ]
  },
  {
   "cell_type": "markdown",
   "metadata": {},
   "source": [
    "### Redshift sub-likelihoods\n",
    "\n",
    "The 1D power measured in different redshift bins are, to first order, uncorrelated. \n",
    "This allows us to describe the total likelihood as a product of the sub-likelihood for each redshift:\n",
    "    \n",
    "$$ \\mathcal{L} (d | \\theta, \\phi) = \\sum_{i=0}^{N_z} \\mathcal{L_i} (d_i | \\theta, \\phi) $$"
   ]
  },
  {
   "cell_type": "code",
   "execution_count": 6,
   "metadata": {
    "collapsed": true
   },
   "outputs": [],
   "source": [
    "def full_loglike(data, linP_params, nuisance_params, cosmo_fid):\n",
    "    # get parameters for the fiducial cosmology\n",
    "    linP_params_fid=fit_pk.parameterize_cosmology(cosmo_fid,z_star=z_star,kp_kms=kp_kms)\n",
    "    # sum contribution from each redshift\n",
    "    loglike=0\n",
    "    # get number of redshift bins\n",
    "    Nz = len(data['z_bins'])\n",
    "    for iz in range(Nz):\n",
    "        loglike += loglike_z(iz,data,linP_params,nuisance_params,cosmo_fid,linP_params_fid)\n",
    "    return loglike"
   ]
  },
  {
   "cell_type": "code",
   "execution_count": 7,
   "metadata": {
    "collapsed": true
   },
   "outputs": [],
   "source": [
    "def loglike_z(iz, data, linP_params, nuisance_params, cosmo_fid, linP_params_fid):\n",
    "    z = data['z_bins'][iz]\n",
    "    k_kms = data['k_bins']\n",
    "    P1D_data = data['P1D'][iz]\n",
    "    P1D_cov = data['P1D_cov'][iz]\n",
    "    # get theoretical prediction for this redshift bin\n",
    "    P1D_model=model_P1D_kms(z,k_kms,linP_params,nuisance_params,cosmo_fid,linP_params_fid)\n",
    "    # for now assume diagonal covariance\n",
    "    chi2 = np.sum((P1D_data-P1D_model)**2/P1D_cov)\n",
    "    loglike=-0.5*chi2\n",
    "    return loglike"
   ]
  },
  {
   "cell_type": "markdown",
   "metadata": {},
   "source": [
    "### The role of the fiducial cosmology\n",
    "\n",
    "Our claim is that all the cosmological dependence can be compressed into the set of 5 parameters discussed above:\n",
    "\n",
    "$$ \\theta = \\{ \\Delta_p^2, n_p, \\alpha_p, f_\\star, g_\\star \\} $$\n",
    "\n",
    "A set of values $\\theta$ uniquely describe the linear power spectrum over all redshifts and scales of interest, in velocity units. For technical reasons that will be aparent later on, it is convenient sometimes to compute the Hubble parameter in the input cosmology, $H_\\star=H(z_\\star)$. It is not possible to reconstruct this from the $\\theta$ parameters, and we will use therefore an arbitrary value, $H_\\star^0$. We will show that the results do not depend on the choice of this value. \n",
    "\n",
    "We will also use a fiducial cosmology to compute the linear power, and we will use the differences $\\theta-\\theta^0$\n",
    "parameters to go from the fiducial to the input cosmology. "
   ]
  },
  {
   "cell_type": "code",
   "execution_count": 8,
   "metadata": {
    "collapsed": false
   },
   "outputs": [
    {
     "name": "stdout",
     "output_type": "stream",
     "text": [
      "H0 = 67.0 ; Omega_b h^2 = 0.022 ; Omega_c h^2 = 0.12 ; Omega_k = 0.0 ; ommnuh2 = 0.00064 ; T_CMB = 2.7255 ; A_s = 2.1e-09 ; n_s = 0.96\n",
      "linP_params_fid {'f_star': 0.97891957965698961, 'g_star': 0.9679033230853668, 'linP_kms': poly1d([ -0.10816234,  -2.30481498,  16.06510418])}\n",
      "kp_Mpc = 0.6914784430888169\n"
     ]
    }
   ],
   "source": [
    "# setup fiducial cosmology\n",
    "cosmo_fid = fit_pk.get_cosmology()\n",
    "fit_pk.print_info(cosmo_fid)\n",
    "# get parameters describing the fiducial linear power spectrum\n",
    "linP_params_fid=fit_pk.parameterize_cosmology(cosmo_fid,z_star=z_star,kp_kms=kp_kms)\n",
    "print('linP_params_fid',linP_params_fid)\n",
    "# compute CAMB results\n",
    "results_fid=camb.get_results(cosmo_fid)\n",
    "# get Hubble at z_star for fiducial cosmology, used to compute kp_Mpc\n",
    "H_star_fid=results_fid.hubble_parameter(z_star)\n",
    "A_star_fid=H_star_fid/(1+z_star)\n",
    "kp_Mpc=kp_kms*A_star_fid\n",
    "print('kp_Mpc =',kp_Mpc)"
   ]
  },
  {
   "cell_type": "markdown",
   "metadata": {},
   "source": [
    "### Reconstructing the linear power, in comoving units\n",
    "\n",
    "The simulations have a constant box size in comoving coordinates, and if we measure power spectra there in comoving units we can have the same random seed in all boxes and share the cosmic variance in all boxes. \n",
    "\n",
    "For this reason we decide to use comoving coordinates in the emulator, and we need therefore to reconstruct the linear power in comoving units for each input cosmology. \n",
    "\n",
    "$$ P(z,k) = \\frac{1}{A^3(z)} Q(z,q=k/A(z)) $$\n",
    "\n",
    "where $A(z)=H(z)/(1+z)$.\n",
    "\n",
    "In the notebook compress_linPk_kms we discuss how to compute $Q(z,q)$ from the set of parameters $\\theta$ and a fiducial cosmology, so all we need to do now is compute $A(z)$ for the input cosmology. We will use the following relation:\n",
    "\n",
    "$$ \\frac{A(z)}{A_\\star} \\frac{A_\\star^0}{A^0(z)} = 1 + \\frac{3}{2} (g_\\star-g_\\star^0) \\frac{\\Delta z}{1+z_\\star}$$\n",
    "\n",
    "and as discussed above, we will make the arbitrary choice of $A_\\star = A_\\star^0$, to get the final expression:\n",
    "\n",
    "$$ A(z) = A^0(z) \\left( 1 + \\frac{3}{2} (g_\\star-g_\\star^0) \\frac{\\Delta z}{1+z_\\star} \\right) $$\n",
    "\n",
    "We can use this expression to go back and forth between comoving and velocity coordinates in our input cosmology"
   ]
  },
  {
   "cell_type": "code",
   "execution_count": 9,
   "metadata": {
    "collapsed": true
   },
   "outputs": [],
   "source": [
    "def reconstruct_Hubble(z,results_fid,linP_params_fid,linP_params,z_star):\n",
    "    # compute difference in acceleration\n",
    "    g_star=linP_params['g_star']\n",
    "    g_star_fid=linP_params_fid['g_star']\n",
    "    # compute Hubble parameter in fiducial cosmology\n",
    "    Hz_fid = results_fid.hubble_parameter(z)\n",
    "    # compute Hubble parameter in input cosmology\n",
    "    Hz = Hz_fid * (1+3/2*(g_star-g_star_fid)*(z-z_star)/(1+z_star))\n",
    "    return Hz"
   ]
  },
  {
   "cell_type": "code",
   "execution_count": 10,
   "metadata": {
    "collapsed": false
   },
   "outputs": [
    {
     "data": {
      "text/plain": [
       "<matplotlib.text.Text at 0x11834f828>"
      ]
     },
     "execution_count": 10,
     "metadata": {},
     "output_type": "execute_result"
    },
    {
     "data": {
      "image/png": "[encoded data removed]",
      "text/plain": [
       "<matplotlib.figure.Figure at 0x117cdc7b8>"
      ]
     },
     "metadata": {},
     "output_type": "display_data"
    }
   ],
   "source": [
    "# plot reconstructed Hubble parameter\n",
    "z=np.linspace(2.0,5.0,100)\n",
    "Hz_rec=reconstruct_Hubble(z,results_fid,linP_params_fid,linP_params,z_star)\n",
    "# compute true value, normalized properly to H_star\n",
    "Hz_true=results.hubble_parameter(z)\n",
    "H_star=results.hubble_parameter(z_star)\n",
    "# make plot\n",
    "plt.figure()\n",
    "plt.plot(z,Hz_rec/H_star_fid/Hz_true*H_star)\n",
    "plt.plot(z,np.ones_like(z),':',color='gray')\n",
    "plt.title('Reconstructed Hubble parameter')\n",
    "plt.xlabel('z')\n",
    "plt.ylabel(r'$H_{\\rm rec}/H_{\\rm true}(z)$')"
   ]
  },
  {
   "cell_type": "code",
   "execution_count": 11,
   "metadata": {
    "collapsed": false
   },
   "outputs": [],
   "source": [
    "def reconstruct_linP_Mpc(z,k_Mpc,cosmo_fid,linP_params_fid,linP_params,z_star,kp_kms):\n",
    "    # compute CAMB results for fiducial cosmology\n",
    "    results_fid=camb.get_results(cosmo_fid)\n",
    "    # reconstruct Hubble parameter at the redshfit, to convert wavenumbers to velocity units\n",
    "    Hz=reconstruct_Hubble(z,results_fid,linP_params_fid,linP_params,z_star)\n",
    "    Az=Hz/(1+z)\n",
    "    k_kms=k_Mpc/Az\n",
    "    # reconstruct linear power in velocity units\n",
    "    rec_linP_kms=fit_pk.reconstruct_linP_kms([z],k_kms,cosmo_fid,linP_params,z_star,kp_kms)\n",
    "    # note that we expect z to be a float, not a list\n",
    "    rec_linP_Mpc=rec_linP_kms[0]/Az**3\n",
    "    return rec_linP_Mpc"
   ]
  },
  {
   "cell_type": "code",
   "execution_count": 12,
   "metadata": {
    "collapsed": false
   },
   "outputs": [
    {
     "name": "stdout",
     "output_type": "stream",
     "text": [
      "Note: redshifts have been re-sorted (earliest first)\n",
      "H_factor 1.0129680693508651\n"
     ]
    }
   ],
   "source": [
    "# test reconstructed linear power\n",
    "zs=np.array([2.0,3.0,5.0])\n",
    "# compute true linear power (will interpolate later)\n",
    "k_Mpc,zs_out,linP_Mpc=fit_pk.get_linP_Mpc(cosmo,zs=zs)\n",
    "# compute ratio of H_star in both cosmologies (arbitrary choice discussed above)\n",
    "H_factor=H_star/H_star_fid\n",
    "print('H_factor',H_factor)"
   ]
  },
  {
   "cell_type": "code",
   "execution_count": 13,
   "metadata": {
    "collapsed": false
   },
   "outputs": [
    {
     "data": {
      "image/png": "[encoded data removed]",
      "text/plain": [
       "<matplotlib.figure.Figure at 0x1183e1470>"
      ]
     },
     "metadata": {},
     "output_type": "display_data"
    }
   ],
   "source": [
    "# plot ratio of reconstructed power\n",
    "plt.figure()\n",
    "for iz in range(len(zs)):\n",
    "    z=zs_out[iz]\n",
    "    # reconstruct linear power (with an arbitrary choice of H_star)\n",
    "    linP_Mpc_rec=reconstruct_linP_Mpc(z,k_Mpc,cosmo_fid,linP_params_fid,linP_params,z_star,kp_kms)\n",
    "    linP_Mpc_true=np.interp(k_Mpc*H_factor,k_Mpc,linP_Mpc[iz])*H_factor**3\n",
    "    # make plot\n",
    "    plt.semilogx(k_Mpc,linP_Mpc_rec/linP_Mpc_true,label='z='+str(z))\n",
    "plt.legend()\n",
    "plt.title('Reconstructed linear power (comoving coordinates)')\n",
    "plt.xlabel('k [1/Mpc]')\n",
    "plt.ylabel(r'$P_{\\rm rec}/P_{\\rm true}(z,k)$')\n",
    "plt.axhspan(0.97,1.03,alpha=0.1, color='gray')\n",
    "plt.axhspan(0.99,1.01,alpha=0.3, color='gray')\n",
    "plt.axvspan(0.7*0.1,0.7*5.0,alpha=0.1, color='gray')\n",
    "plt.xlim(1.e-3,1e1)\n",
    "plt.ylim(0.92,1.08);"
   ]
  },
  {
   "cell_type": "code",
   "execution_count": 14,
   "metadata": {
    "collapsed": true
   },
   "outputs": [],
   "source": [
    "def fit_linP_Mpc(z,cosmo_fid,linP_params_fid,linP_params,z_star,kp_kms,kp_Mpc):\n",
    "    # will reconstruct the linear power in the range (0.5 kp_Mpc < k_Mpc < 2.0 kp_Mpc) to later do the fit\n",
    "    kmin_Mpc=0.5*kp_Mpc\n",
    "    kmax_Mpc=2.0*kp_Mpc\n",
    "    k_Mpc = np.logspace(np.log10(kmin_Mpc),np.log10(kmax_Mpc),100)\n",
    "    # reconstruct linear power spectrum for input cosmology\n",
    "    linP_Mpc_rec=reconstruct_linP_Mpc(z,k_Mpc,cosmo_fid,linP_params_fid,linP_params,z_star,kp_kms)\n",
    "    linP_Mpc_params=fit_pk.fit_polynomial(kmin_Mpc/kp_Mpc,kmax_Mpc/kp_Mpc,k_Mpc/kp_Mpc,linP_Mpc_rec,deg=2)\n",
    "    return linP_Mpc_params"
   ]
  },
  {
   "cell_type": "code",
   "execution_count": 15,
   "metadata": {
    "collapsed": false
   },
   "outputs": [
    {
     "name": "stdout",
     "output_type": "stream",
     "text": [
      "[-0.10700416 -2.29811629  2.54203868]\n"
     ]
    }
   ],
   "source": [
    "# test \n",
    "z=4.0\n",
    "linP_Mpc_params=fit_linP_Mpc(z,cosmo_fid,linP_params_fid,linP_params,z_star,kp_kms,kp_Mpc)\n",
    "print(np.array(linP_Mpc_params))"
   ]
  },
  {
   "cell_type": "code",
   "execution_count": 16,
   "metadata": {
    "collapsed": false
   },
   "outputs": [],
   "source": [
    "def emulate_P1D_Mpc(mf,linP_Mpc,kp_Mpc):\n",
    "    print('emulate',mf,np.array(linP_Mpc))\n",
    "    # do magic\n",
    "    k1D_Mpc=np.linspace(0.1,10.0,100)\n",
    "    P1D_Mpc=k1D_Mpc\n",
    "    return k1D_Mpc,P1D_Mpc"
   ]
  },
  {
   "cell_type": "code",
   "execution_count": 17,
   "metadata": {
    "collapsed": true
   },
   "outputs": [],
   "source": [
    "def model_P1D_kms(z,k_kms,linP_params,nuisance_params,cosmo_fid,linP_params_fid):\n",
    "    # compute mean flux at this redshift\n",
    "    mf = np.exp(-tau_effective(z,nuisance_params))\n",
    "    # get the parameters describing the linear power, at the redshift, in comoving units\n",
    "    linP_Mpc_params=fit_linP_Mpc(z,cosmo_fid,linP_params_fid,linP_params,z_star,kp_kms,kp_Mpc)\n",
    "    # ask the emulator to predict the 1D flux power spectrum, in Mpc\n",
    "    k_Mpc,P1D_Mpc=emulate_P1D_Mpc(mf,linP_Mpc_params,kp_Mpc)\n",
    "    # reconstruct Hubble parameter at the redshfit, to convert wavenumbers to velocity units\n",
    "    Hz=reconstruct_Hubble(z,results_fid,linP_params_fid,linP_params,z_star)\n",
    "    Az=Hz/(1+z)\n",
    "    k_kms_emu=k_Mpc/Az    \n",
    "    P1D_kms_emu=P1D_Mpc*Az\n",
    "    # interpolate to compute the desired input wavenumbers\n",
    "    P1D_kms=np.interp(k_kms,k_kms_emu,P1D_kms_emu)\n",
    "    return P1D_kms"
   ]
  },
  {
   "cell_type": "code",
   "execution_count": 18,
   "metadata": {
    "collapsed": true
   },
   "outputs": [],
   "source": [
    "def tau_effective(z,nuisance_params):\n",
    "    z_star=nuisance_params['z_star']\n",
    "    tau_star=nuisance_params['tau_star']\n",
    "    n_tau=nuisance_params['n_tau']\n",
    "    alpha_tau=nuisance_params['alpha_tau']\n",
    "    x = np.log((1+z)/(1+z_star))\n",
    "    ln_tau = np.log(tau_star) + n_tau*x + alpha_tau*x**2\n",
    "    return np.exp(ln_tau)"
   ]
  },
  {
   "cell_type": "code",
   "execution_count": 19,
   "metadata": {
    "collapsed": false
   },
   "outputs": [
    {
     "name": "stdout",
     "output_type": "stream",
     "text": [
      "emulate 0.86826300411 [-0.10698824 -2.298178    3.52409815]\n",
      "emulate 0.657046819815 [-0.10699663 -2.29814611  2.9737913 ]\n",
      "emulate 0.417868490118 [-0.10700416 -2.29811629  2.54203868]\n"
     ]
    },
    {
     "data": {
      "text/plain": [
       "-73057.707047699922"
      ]
     },
     "execution_count": 19,
     "metadata": {},
     "output_type": "execute_result"
    }
   ],
   "source": [
    "full_loglike(data,linP_params,nuisance_params,cosmo_fid)"
   ]
  },
  {
   "cell_type": "markdown",
   "metadata": {
    "collapsed": false
   },
   "source": [
    "### Map likelihood parameters to emulator parameters"
   ]
  },
  {
   "cell_type": "code",
   "execution_count": 20,
   "metadata": {
    "collapsed": true
   },
   "outputs": [],
   "source": [
    "def emulator_calls(data, linP_params, nuisance_params, cosmo_fid):\n",
    "    # compute CAMB results for fiducial cosmology\n",
    "    results_fid=camb.get_results(cosmo_fid)\n",
    "    # get Hubble at z_star for fiducial cosmology, used to compute kp_Mpc\n",
    "    H_star_fid=results_fid.hubble_parameter(z_star)\n",
    "    A_star_fid=H_star_fid/(1+z_star)\n",
    "    kp_Mpc=kp_kms*A_star_fid\n",
    "    print('kp_Mpc =',kp_Mpc)\n",
    "    # get parameters for the fiducial cosmology\n",
    "    linP_params_fid=fit_pk.parameterize_cosmology(cosmo_fid,z_star=z_star,kp_kms=kp_kms)\n",
    "    # collect emulator calls at each redshift\n",
    "    calls=[]\n",
    "    # get number of redshift bins\n",
    "    Nz = len(data['z_bins'])\n",
    "    for iz in range(Nz):\n",
    "        calls.append(emulator_call_z(iz,data,linP_params,nuisance_params,cosmo_fid,linP_params_fid,kp_Mpc))\n",
    "    return calls"
   ]
  },
  {
   "cell_type": "code",
   "execution_count": 21,
   "metadata": {
    "collapsed": true
   },
   "outputs": [],
   "source": [
    "def emulator_call_z(iz, data, linP_params, nuisance_params, cosmo_fid, linP_params_fid,kp_Mpc):\n",
    "    # get point in emulator parameter space that will be called \n",
    "    z = data['z_bins'][iz]\n",
    "    call = {'z':z}\n",
    "    # compute mean flux at this redshift\n",
    "    mf = np.exp(-tau_effective(z,nuisance_params))\n",
    "    call['mean_flux']=mf\n",
    "    # get the parameters describing the linear power, at the redshift, in comoving units\n",
    "    linP_Mpc_params=fit_linP_Mpc(z,cosmo_fid,linP_params_fid,linP_params,z_star,kp_kms,kp_Mpc)\n",
    "    call['lnA_p_Mpc']=linP_Mpc_params[0]\n",
    "    call['n_p_Mpc']=linP_Mpc_params[1]\n",
    "    call['alpha_p_Mpc']=linP_Mpc_params[2]\n",
    "    print(call)\n",
    "    return call"
   ]
  },
  {
   "cell_type": "code",
   "execution_count": 22,
   "metadata": {
    "collapsed": false
   },
   "outputs": [
    {
     "name": "stdout",
     "output_type": "stream",
     "text": [
      "kp_Mpc = 0.6914784430888169\n",
      "{'z': 2.0, 'mean_flux': 0.86826300411039337, 'lnA_p_Mpc': 3.5240981523541777, 'n_p_Mpc': -2.2981779993989067, 'alpha_p_Mpc': -0.10698824205465272}\n",
      "{'z': 3.0, 'mean_flux': 0.65704681981505675, 'lnA_p_Mpc': 2.9737913035104744, 'n_p_Mpc': -2.2981461078916947, 'alpha_p_Mpc': -0.10699662691467879}\n",
      "{'z': 4.0, 'mean_flux': 0.41786849011783628, 'lnA_p_Mpc': 2.5420386807756445, 'n_p_Mpc': -2.2981162883314239, 'alpha_p_Mpc': -0.10700416216475692}\n"
     ]
    }
   ],
   "source": [
    "calls=emulator_calls(data, linP_params, nuisance_params, cosmo_fid)"
   ]
  },
  {
   "cell_type": "code",
   "execution_count": 23,
   "metadata": {
    "collapsed": false
   },
   "outputs": [
    {
     "data": {
      "text/plain": [
       "[{'alpha_p_Mpc': -0.10698824205465272,\n",
       "  'lnA_p_Mpc': 3.5240981523541777,\n",
       "  'mean_flux': 0.86826300411039337,\n",
       "  'n_p_Mpc': -2.2981779993989067,\n",
       "  'z': 2.0},\n",
       " {'alpha_p_Mpc': -0.10699662691467879,\n",
       "  'lnA_p_Mpc': 2.9737913035104744,\n",
       "  'mean_flux': 0.65704681981505675,\n",
       "  'n_p_Mpc': -2.2981461078916947,\n",
       "  'z': 3.0},\n",
       " {'alpha_p_Mpc': -0.10700416216475692,\n",
       "  'lnA_p_Mpc': 2.5420386807756445,\n",
       "  'mean_flux': 0.41786849011783628,\n",
       "  'n_p_Mpc': -2.2981162883314239,\n",
       "  'z': 4.0}]"
      ]
     },
     "execution_count": 23,
     "metadata": {},
     "output_type": "execute_result"
    }
   ],
   "source": [
    "calls"
   ]
  },
  {
   "cell_type": "code",
   "execution_count": null,
   "metadata": {
    "collapsed": true
   },
   "outputs": [],
   "source": []
  }
 ],
 "metadata": {
  "kernelspec": {
   "display_name": "Python 3",
   "language": "python",
   "name": "python3"
  },
  "language_info": {
   "codemirror_mode": {
    "name": "ipython",
    "version": 3
   },
   "file_extension": ".py",
   "mimetype": "text/x-python",
   "name": "python",
   "nbconvert_exporter": "python",
   "pygments_lexer": "ipython3",
   "version": "3.6.0"
  }
 },
 "nbformat": 4,
 "nbformat_minor": 2
}
