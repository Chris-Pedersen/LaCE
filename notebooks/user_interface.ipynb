{
 "cells": [
  {
   "cell_type": "markdown",
   "metadata": {},
   "source": [
    "# User interface: the compressed likelihood\n",
    "\n",
    "This notebook focuses on the final product, and how we expect most (non-experts) users to use our compressed likelihood. \n",
    "\n",
    "By compressed likelihood we mean a likelihood that has already marginalized over nuisance (astro) parameters, and that uses a reduced set of parameters to describe the cosmological model. \n",
    "\n",
    "The compressed likelihood doesn't know about redshift bins, or band powers, it doesn't know about mean flux, temperature or redshift or reionization."
   ]
  },
  {
   "cell_type": "markdown",
   "metadata": {},
   "source": [
    "Summary:\n",
    "    - Given an input cosmological model, it computes the parameters describing the linear power spectrum (linP).\n",
    "    - given a set of linP parameters, interpolates over a look-up table and returns the value of log-likelihood."
   ]
  },
  {
   "cell_type": "code",
   "execution_count": 1,
   "metadata": {
    "collapsed": false
   },
   "outputs": [],
   "source": [
    "%matplotlib inline\n",
    "import numpy as np\n",
    "import os\n",
    "## Set default plot size, as normally its a bit too small\n",
    "import matplotlib.pyplot as plt\n",
    "import matplotlib as mpl\n",
    "mpl.rcParams['savefig.dpi'] = 120\n",
    "mpl.rcParams['figure.dpi'] = 120\n",
    "import fit_pk\n",
    "import lya_results"
   ]
  },
  {
   "cell_type": "markdown",
   "metadata": {
    "collapsed": true
   },
   "source": [
    "### Specify cosmological models\n",
    "\n",
    "We can specify the cosmological model by hand or from a GenIC parameter file (see other notebooks in this folder)."
   ]
  },
  {
   "cell_type": "code",
   "execution_count": 2,
   "metadata": {
    "collapsed": false
   },
   "outputs": [
    {
     "name": "stdout",
     "output_type": "stream",
     "text": [
      "H0 = 67.0 ; Omega_b h^2 = 0.022 ; Omega_c h^2 = 0.13 ; Omega_k = 0.0 ; ommnuh2 = 0.00322 ; T_CMB = 2.7255 ; A_s = 2.1e-09 ; n_s = 0.95\n"
     ]
    }
   ],
   "source": [
    "# specify cosmology\n",
    "cosmo = fit_pk.get_cosmology(mnu=0.3,ns=0.95, omch2=0.13)\n",
    "# print relevant information about the cosmology object\n",
    "fit_pk.print_info(cosmo)"
   ]
  },
  {
   "cell_type": "markdown",
   "metadata": {
    "collapsed": true
   },
   "source": [
    "### Compute parameters describing the linear power spectrum around $z_\\star=3$, $k_p=0.009$ s/km"
   ]
  },
  {
   "cell_type": "code",
   "execution_count": 3,
   "metadata": {
    "collapsed": false
   },
   "outputs": [],
   "source": [
    "z_star=3.0\n",
    "kp_kms=0.009\n",
    "linP_params=fit_pk.parameterize_cosmology(cosmo,z_star=z_star,kp_kms=kp_kms)"
   ]
  },
  {
   "cell_type": "markdown",
   "metadata": {},
   "source": [
    "### Evaluate compressed likelihood\n",
    "\n",
    "This is the likelihood that has already been marginalized over nuisance parameters, and is of course, experiment specific. At this point it has lost all information about nuisance parameters, or data points. "
   ]
  },
  {
   "cell_type": "code",
   "execution_count": 4,
   "metadata": {
    "collapsed": true
   },
   "outputs": [],
   "source": [
    "def compressed_loglike(linP_params,z_star,kp_kms):\n",
    "    # log(amplitude) of linear power at z_star, kp_kms\n",
    "    lnA_p = linP_params['linP_kms'][0]\n",
    "    # logarithmic slope of linear power at z_star, kp_kms\n",
    "    n_p = linP_params['linP_kms'][1]\n",
    "    # logarighmic curvature (running) of linear power at z_star, kp_kms\n",
    "    alpha_p = linP_params['linP_kms'][2]\n",
    "    # logarithmic growth rate at z_star, around k = 1 h/Mpc\n",
    "    f_star=linP_params['f_star']\n",
    "    # logarithmic derivative of Hubble parameter, with respect to EdS, at z_star \n",
    "    g_star=linP_params['g_star']\n",
    "    \n",
    "    # here we would interpolate a look-up table or similar\n",
    "    \n",
    "    # note that we do not expect to have more than 3 parameters in this look up table\n",
    "    # since (f_star,g_star,alpha_p) will not be well measured\n",
    "    \n",
    "    # for now, we can use a Gaussian approximation on the results of Chabanier et al. (2019, Figure 20)\n",
    "    DL2=np.exp(lnA_p)*kp_kms**3/(2*np.pi**2)\n",
    "    delta_chi2=lya_results.gaussian_chi2_Chabanier2019(n_p,DL2)\n",
    "    \n",
    "    return -0.5*delta_chi2"
   ]
  },
  {
   "cell_type": "code",
   "execution_count": 5,
   "metadata": {
    "collapsed": false
   },
   "outputs": [],
   "source": [
    "loglike = compressed_loglike(linP_params,z_star,kp_kms)"
   ]
  },
  {
   "cell_type": "markdown",
   "metadata": {
    "collapsed": true
   },
   "source": [
    "As an example, we will use an approximate likelihood extracted from the ellipses in Figure 20 of Chabanier et al. (2019)."
   ]
  },
  {
   "cell_type": "code",
   "execution_count": null,
   "metadata": {
    "collapsed": true
   },
   "outputs": [],
   "source": []
  }
 ],
 "metadata": {
  "kernelspec": {
   "display_name": "Python 3",
   "language": "python",
   "name": "python3"
  },
  "language_info": {
   "codemirror_mode": {
    "name": "ipython",
    "version": 3
   },
   "file_extension": ".py",
   "mimetype": "text/x-python",
   "name": "python",
   "nbconvert_exporter": "python",
   "pygments_lexer": "ipython3",
   "version": "3.6.0"
  }
 },
 "nbformat": 4,
 "nbformat_minor": 2
}
