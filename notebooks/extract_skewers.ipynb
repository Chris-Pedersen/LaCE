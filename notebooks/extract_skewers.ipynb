{
 "cells": [
  {
   "cell_type": "markdown",
   "metadata": {},
   "source": [
    "# Extract skewers from snapshot after rescaling the temperature"
   ]
  },
  {
   "cell_type": "code",
   "execution_count": 1,
   "metadata": {
    "collapsed": false,
    "jupyter": {
     "outputs_hidden": false
    }
   },
   "outputs": [],
   "source": [
    "%matplotlib inline\n",
    "%load_ext autoreload\n",
    "%autoreload 2"
   ]
  },
  {
   "cell_type": "code",
   "execution_count": 2,
   "metadata": {},
   "outputs": [],
   "source": [
    "import numpy as np\n",
    "import matplotlib.pyplot as plt\n",
    "import matplotlib as mpl\n",
    "mpl.rcParams['savefig.dpi'] = 120\n",
    "mpl.rcParams['figure.dpi'] = 120\n",
    "import os\n",
    "import json\n",
    "import fake_spectra.griddedspectra as grid_spec\n",
    "# our modules below\n",
    "from lace.postprocess import extract_skewers\n",
    "from lace.postprocess import snapshot_admin"
   ]
  },
  {
   "cell_type": "code",
   "execution_count": 3,
   "metadata": {},
   "outputs": [],
   "source": [
    "simdir=os.environ['EMULATOR_SIMS']+'/sim_pair_1/sim_plus/'\n",
    "snap_num=9\n",
    "skewers_dir='test_dir'\n",
    "n_skewers=10\n",
    "width_Mpc=0.1\n",
    "scales_T0=[1.0]\n",
    "scales_gamma=[1.0]\n",
    "verbose=True"
   ]
  },
  {
   "cell_type": "code",
   "execution_count": null,
   "metadata": {},
   "outputs": [
    {
     "name": "stdout",
     "output_type": "stream",
     "text": [
      "z=2.500000 T0(K) = 29203.707031\n",
      "z=2.500000 [fit] T0(K) = 29552.585413, gamma = 2.11382\n",
      "skewers_9_Ns10_wM0.1_sT1.0_sg1.0.hdf5 already exists in test_dir\n",
      "Reloading from snapshot (will save to:  test_dir/skewers_9_Ns10_wM0.1_sT1.0_sg1.0.hdf5  )\n",
      "100  sightlines. resolution:  7.257581949670417  z= 2.5\n"
     ]
    }
   ],
   "source": [
    "# should also read scales_T0 and scales_gamma\n",
    "info=extract_skewers.rescale_write_skewers_z(simdir,num=snap_num,\n",
    "            skewers_dir=skewers_dir,n_skewers=n_skewers,\n",
    "            width_Mpc=width_Mpc,\n",
    "            scales_T0=scales_T0,scales_gamma=scales_gamma)"
   ]
  },
  {
   "cell_type": "code",
   "execution_count": null,
   "metadata": {},
   "outputs": [],
   "source": [
    "snap_fname=info['skewers_dir']+'/'+info['snapshot_filename']\n",
    "scales_tau=[1.0]\n",
    "snapshot=snapshot_admin.SnapshotAdmin(snap_fname,scales_tau)"
   ]
  },
  {
   "cell_type": "code",
   "execution_count": null,
   "metadata": {},
   "outputs": [],
   "source": [
    "sk_file=info['sk_files'][0]\n",
    "skewers=grid_spec.GriddedSpectra(snap_num,simdir+'/output/',\n",
    "                savedir=skewers_dir, savefile=sk_file, reload_file=False)"
   ]
  },
  {
   "cell_type": "code",
   "execution_count": null,
   "metadata": {},
   "outputs": [],
   "source": [
    "tau = skewers.get_tau(elem='H', ion=1, line=1215)\n",
    "mF=np.mean(np.exp(-tau))\n",
    "print('<F> = {}'.format(mF))"
   ]
  },
  {
   "cell_type": "code",
   "execution_count": null,
   "metadata": {},
   "outputs": [],
   "source": [
    "info"
   ]
  },
  {
   "cell_type": "code",
   "execution_count": null,
   "metadata": {},
   "outputs": [],
   "source": []
  }
 ],
 "metadata": {
  "kernelspec": {
   "display_name": "desi_hydro_kernel",
   "language": "python",
   "name": "desi_hydro_kernel"
  },
  "language_info": {
   "codemirror_mode": {
    "name": "ipython",
    "version": 3
   },
   "file_extension": ".py",
   "mimetype": "text/x-python",
   "name": "python",
   "nbconvert_exporter": "python",
   "pygments_lexer": "ipython3",
   "version": "3.8.0"
  }
 },
 "nbformat": 4,
 "nbformat_minor": 4
}
