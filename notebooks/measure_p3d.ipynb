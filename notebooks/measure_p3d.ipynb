{
 "cells": [
  {
   "cell_type": "code",
   "execution_count": 1,
   "metadata": {},
   "outputs": [],
   "source": [
    "import fake_spectra.griddedspectra as grid_spec\n",
    "from lace.setup_simulations import read_genic\n",
    "from lace.postprocess import measure_flux_power"
   ]
  },
  {
   "cell_type": "code",
   "execution_count": 2,
   "metadata": {},
   "outputs": [],
   "source": [
    "# path to simulation directory\n",
    "basedir='/data/desi/common/HydroData/Emulator/untar_hydro_sims/Australia20'\n",
    "simdir=basedir+'/sim_pair_1/sim_minus'\n",
    "skewers_dir=simdir+'/output/skewers'"
   ]
  },
  {
   "cell_type": "code",
   "execution_count": 3,
   "metadata": {},
   "outputs": [
    {
     "name": "stdout",
     "output_type": "stream",
     "text": [
      "successfully read healthy configuration file\n",
      "in L_Mpc, 45225.0 0.67 67.5\n"
     ]
    }
   ],
   "source": [
    "# open GenIC file to get box size\n",
    "genic_file=simdir+'/paramfile.genic'\n",
    "L_Mpc=read_genic.L_Mpc_from_paramfile(genic_file,verbose=True)"
   ]
  },
  {
   "cell_type": "code",
   "execution_count": 4,
   "metadata": {},
   "outputs": [
    {
     "name": "stdout",
     "output_type": "stream",
     "text": [
      "250000  sightlines. resolution:  3.5045807775826137  z= 2.2500000000000004\n"
     ]
    }
   ],
   "source": [
    "snap_num=9\n",
    "# specify file to read\n",
    "sk_file='skewers_{}_Ns500_wM0.05_sT1.0_sg1.0.hdf5'.format(snap_num)\n",
    "# read file storing pre-computed skewers\n",
    "skewers=grid_spec.GriddedSpectra(snap_num, simdir+'/output/',\n",
    "                savedir=skewers_dir, savefile=sk_file, reload_file=False)"
   ]
  },
  {
   "cell_type": "code",
   "execution_count": null,
   "metadata": {},
   "outputs": [
    {
     "name": "stdout",
     "output_type": "stream",
     "text": [
      "n_xy=500, n_z=1349\n",
      "Tue Apr 27 16:16:15 2021 got box geometry\n",
      "Tue Apr 27 16:16:59 2021 got Fourier modes\n",
      "Tue Apr 27 16:17:57 2021 got binned power\n",
      "Tue Apr 27 16:18:30 2021 got bin counts\n",
      "Tue Apr 27 16:19:05 2021 got binned k\n"
     ]
    }
   ],
   "source": [
    "p3d=measure_flux_power.measure_p3d_Mpc(skewers,L_Mpc,n_k_bins=20,k_Mpc_max=20.0,n_mu_bins=16)"
   ]
  },
  {
   "cell_type": "code",
   "execution_count": null,
   "metadata": {},
   "outputs": [],
   "source": [
    "measure_flux_power.plot_p3d(p3d)"
   ]
  },
  {
   "cell_type": "code",
   "execution_count": null,
   "metadata": {},
   "outputs": [],
   "source": []
  }
 ],
 "metadata": {
  "kernelspec": {
   "display_name": "desi_hydro_kernel",
   "language": "python",
   "name": "desi_hydro_kernel"
  },
  "language_info": {
   "codemirror_mode": {
    "name": "ipython",
    "version": 3
   },
   "file_extension": ".py",
   "mimetype": "text/x-python",
   "name": "python",
   "nbconvert_exporter": "python",
   "pygments_lexer": "ipython3",
   "version": "3.8.0"
  }
 },
 "nbformat": 4,
 "nbformat_minor": 4
}
