{
 "cells": [
  {
   "cell_type": "markdown",
   "metadata": {},
   "source": [
    "# User interface: the compressed likelihood\n",
    "\n",
    "This notebook focuses on the final product, and how we expect most (non-experts) users to use our compressed likelihood. \n",
    "\n",
    "By compressed likelihood we mean a likelihood that has already marginalized over nuisance (astro) parameters, and that uses a reduced set of parameters to describe the cosmological model. \n",
    "\n",
    "The compressed likelihood doesn't know about redshift bins, or band powers, it doesn't know about mean flux, temperature or redshift or reionization."
   ]
  },
  {
   "cell_type": "markdown",
   "metadata": {},
   "source": [
    "Summary:\n",
    "    - Given an input cosmological model, it computes the parameters describing the linear power spectrum (linP).\n",
    "    - Given a set of linP parameters, it calls a precomputed object with the likelihood for these parameters."
   ]
  },
  {
   "cell_type": "code",
   "execution_count": 1,
   "metadata": {
    "collapsed": false
   },
   "outputs": [],
   "source": [
    "%matplotlib inline\n",
    "%load_ext autoreload\n",
    "%autoreload 2\n",
    "import numpy as np\n",
    "import os\n",
    "## Set default plot size, as normally its a bit too small\n",
    "import matplotlib.pyplot as plt\n",
    "import matplotlib as mpl\n",
    "mpl.rcParams['savefig.dpi'] = 120\n",
    "mpl.rcParams['figure.dpi'] = 120\n",
    "import camb_cosmo\n",
    "import fit_linP\n",
    "import lya_results"
   ]
  },
  {
   "cell_type": "markdown",
   "metadata": {
    "collapsed": true
   },
   "source": [
    "### Specify cosmological models\n",
    "\n",
    "We can specify the cosmological model by hand or from a GenIC parameter file (see other notebooks in this folder)."
   ]
  },
  {
   "cell_type": "code",
   "execution_count": 2,
   "metadata": {
    "collapsed": false
   },
   "outputs": [
    {
     "name": "stdout",
     "output_type": "stream",
     "text": [
      "H0 = 6.7000E+01, Omega_b h^2 = 2.2000E-02, Omega_c h^2 = 1.2000E-01, Omega_k = 0.0000E+00, Omega_nu h^2 = 3.2257E-03, T_CMB = 2.7255E+00, A_s = 2.1000E-09, n_s = 9.6000E-01, alpha_s = 0.0000E+00\n"
     ]
    }
   ],
   "source": [
    "# specify cosmology\n",
    "cosmo = camb_cosmo.get_cosmology(mnu=0.3, ns=0.96, omch2=0.12)\n",
    "# print relevant information about the cosmology object\n",
    "camb_cosmo.print_info(cosmo)"
   ]
  },
  {
   "cell_type": "markdown",
   "metadata": {
    "collapsed": true
   },
   "source": [
    "### Compute parameters describing the linear power spectrum around $z_\\star=3$, $k_p=0.009$ s/km"
   ]
  },
  {
   "cell_type": "code",
   "execution_count": 3,
   "metadata": {
    "collapsed": false
   },
   "outputs": [
    {
     "data": {
      "text/plain": [
       "{'Delta2_star': 0.31923954378274538,\n",
       " 'alpha_star': -0.21455144240692489,\n",
       " 'f_star': 0.96901088538702829,\n",
       " 'g_star': 0.9687130850033866,\n",
       " 'n_star': -2.3071240909857753}"
      ]
     },
     "execution_count": 3,
     "metadata": {},
     "output_type": "execute_result"
    }
   ],
   "source": [
    "z_star=3.0\n",
    "kp_kms=0.009\n",
    "linP_model=fit_linP.LinearPowerModel(cosmo,z_star=z_star,k_units='kms',kp=kp_kms)\n",
    "linP_model.get_params()"
   ]
  },
  {
   "cell_type": "markdown",
   "metadata": {},
   "source": [
    "### Evaluate compressed likelihood\n",
    "\n",
    "This is the likelihood that has already been marginalized over nuisance parameters, and is of course, experiment specific. At this point it has lost all information about nuisance parameters, or data points. \n",
    "\n",
    "Here we show the case for the compressed likelihood in Chabanier et al. (2019, Figure 20)"
   ]
  },
  {
   "cell_type": "code",
   "execution_count": 4,
   "metadata": {
    "collapsed": true
   },
   "outputs": [],
   "source": [
    "def loglike_Chabanier2019(cosmo):\n",
    "    z_star=3.0\n",
    "    kp_kms=0.009\n",
    "    linP_model=fit_linP.LinearPowerModel(cosmo,z_star=z_star,k_units='kms',kp=kp_kms)\n",
    "    # dimensionless amplitude of linear power at z_star, kp_kms\n",
    "    Delta2_star = linP_model.get_Delta2_star()\n",
    "    # logarithmic slope of linear power at z_star, kp_kms\n",
    "    n_star = linP_model.get_n_star()\n",
    "\n",
    "    # From Chabanier et al. (2019) we only have a Gaussian likelihood for (Delta2,n_star)\n",
    "    delta_chi2=lya_results.gaussian_chi2_Chabanier2019(n_star,Delta2_star)\n",
    "    \n",
    "    return -0.5*delta_chi2"
   ]
  },
  {
   "cell_type": "code",
   "execution_count": 5,
   "metadata": {
    "collapsed": false
   },
   "outputs": [
    {
     "data": {
      "text/plain": [
       "-14.912881409979789"
      ]
     },
     "execution_count": 5,
     "metadata": {},
     "output_type": "execute_result"
    }
   ],
   "source": [
    "loglike_Chabanier2019(cosmo)"
   ]
  },
  {
   "cell_type": "code",
   "execution_count": null,
   "metadata": {
    "collapsed": true
   },
   "outputs": [],
   "source": []
  }
 ],
 "metadata": {
  "kernelspec": {
   "display_name": "Python 3",
   "language": "python",
   "name": "python3"
  },
  "language_info": {
   "codemirror_mode": {
    "name": "ipython",
    "version": 3
   },
   "file_extension": ".py",
   "mimetype": "text/x-python",
   "name": "python",
   "nbconvert_exporter": "python",
   "pygments_lexer": "ipython3",
   "version": "3.6.0"
  }
 },
 "nbformat": 4,
 "nbformat_minor": 2
}
