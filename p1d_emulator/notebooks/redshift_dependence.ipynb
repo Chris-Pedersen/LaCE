{
 "cells": [
  {
   "cell_type": "markdown",
   "metadata": {},
   "source": [
    "# Plot IGM evolution"
   ]
  },
  {
   "cell_type": "code",
   "execution_count": 2,
   "metadata": {
    "collapsed": false,
    "jupyter": {
     "outputs_hidden": false
    }
   },
   "outputs": [],
   "source": [
    "%matplotlib inline\n",
    "%load_ext autoreload\n",
    "%autoreload 2\n",
    "import numpy as np\n",
    "import sys\n",
    "import os\n",
    "import json\n",
    "import matplotlib.pyplot as plt\n",
    "import matplotlib as mpl\n",
    "mpl.rcParams['savefig.dpi'] = 120\n",
    "mpl.rcParams['figure.dpi'] = 120\n",
    "import p1d_arxiv"
   ]
  },
  {
   "cell_type": "code",
   "execution_count": 69,
   "metadata": {
    "collapsed": false,
    "jupyter": {
     "outputs_hidden": false
    }
   },
   "outputs": [],
   "source": [
    "arxiv=p1d_arxiv.ArxivP1D(basedir='p1d_emulator/sim_suites/Australia20',skewers_label='Ns500_wM0.05',\n",
    "                             drop_tau_rescalings=True,\n",
    "                             drop_temp_rescalings=True)"
   ]
  },
  {
   "cell_type": "code",
   "execution_count": 70,
   "metadata": {},
   "outputs": [
    {
     "data": {
      "text/plain": [
       "[0.36666666666666664, -2.315, 0.6833333333333333, 0.050000000000000044, 7.875]"
      ]
     },
     "execution_count": 70,
     "metadata": {},
     "output_type": "execute_result"
    }
   ],
   "source": [
    "arxiv.cube_data[\"samples\"][\"12\"]"
   ]
  },
  {
   "cell_type": "code",
   "execution_count": 71,
   "metadata": {},
   "outputs": [],
   "source": [
    "sample_list=[\"Delta2_star\",\"n_star\",\"heat_amp\",\"heat_slo\",\"z_rei\"]"
   ]
  },
  {
   "cell_type": "code",
   "execution_count": 72,
   "metadata": {},
   "outputs": [],
   "source": [
    "## Get midpoint value for each param\n",
    "midpoint={}\n",
    "for param in arxiv.cube_data[\"param_space\"].keys():\n",
    "    midpoint[param]=arxiv.cube_data[\"param_space\"][param][\"max_val\"]-0.5*(arxiv.cube_data[\"param_space\"][param][\"max_val\"]-arxiv.cube_data[\"param_space\"][param][\"min_val\"])"
   ]
  },
  {
   "cell_type": "code",
   "execution_count": 73,
   "metadata": {},
   "outputs": [
    {
     "data": {
      "text/plain": [
       "{'Delta2_star': 0.35,\n",
       " 'heat_amp': 1.0,\n",
       " 'heat_slo': 0.0,\n",
       " 'n_star': -2.3,\n",
       " 'z_rei': 10.25}"
      ]
     },
     "execution_count": 73,
     "metadata": {},
     "output_type": "execute_result"
    }
   ],
   "source": [
    "midpoint"
   ]
  },
  {
   "cell_type": "code",
   "execution_count": 74,
   "metadata": {},
   "outputs": [],
   "source": [
    "## Function to convert a dictionary into unit volume\n",
    "def unit_rescale(sample):\n",
    "    coords=np.empty(5)\n",
    "    for aa,param in enumerate(arxiv.cube_data[\"param_space\"].keys()):\n",
    "        coords[aa]=(sample[aa]-arxiv.cube_data[\"param_space\"][sample_list[aa]][\"min_val\"])/(arxiv.cube_data[\"param_space\"][sample_list[aa]][\"max_val\"]-arxiv.cube_data[\"param_space\"][sample_list[aa]][\"min_val\"])\n",
    "    return coords"
   ]
  },
  {
   "cell_type": "code",
   "execution_count": 75,
   "metadata": {},
   "outputs": [],
   "source": [
    "mid=np.array([0.5,0.5,0.5,0.5,0.5])\n",
    "dists=np.empty(arxiv.cube_data[\"nsamples\"])"
   ]
  },
  {
   "cell_type": "code",
   "execution_count": 76,
   "metadata": {},
   "outputs": [],
   "source": [
    "for num in range(arxiv.cube_data[\"nsamples\"]):\n",
    "    dists[num]=np.sqrt(np.sum((mid-unit_rescale(arxiv.cube_data[\"samples\"][str(num)]))**2))"
   ]
  },
  {
   "cell_type": "code",
   "execution_count": 77,
   "metadata": {},
   "outputs": [
    {
     "data": {
      "text/plain": [
       "0.36094013046179574"
      ]
     },
     "execution_count": 77,
     "metadata": {},
     "output_type": "execute_result"
    }
   ],
   "source": [
    "min(dists)"
   ]
  },
  {
   "cell_type": "code",
   "execution_count": 78,
   "metadata": {},
   "outputs": [
    {
     "data": {
      "text/plain": [
       "16"
      ]
     },
     "execution_count": 78,
     "metadata": {},
     "output_type": "execute_result"
    }
   ],
   "source": [
    "np.argmin(dists)"
   ]
  },
  {
   "cell_type": "code",
   "execution_count": null,
   "metadata": {},
   "outputs": [],
   "source": []
  }
 ],
 "metadata": {
  "kernelspec": {
   "display_name": "Python 3",
   "language": "python",
   "name": "python3"
  },
  "language_info": {
   "codemirror_mode": {
    "name": "ipython",
    "version": 3
   },
   "file_extension": ".py",
   "mimetype": "text/x-python",
   "name": "python",
   "nbconvert_exporter": "python",
   "pygments_lexer": "ipython3",
   "version": "3.5.2"
  }
 },
 "nbformat": 4,
 "nbformat_minor": 4
}
