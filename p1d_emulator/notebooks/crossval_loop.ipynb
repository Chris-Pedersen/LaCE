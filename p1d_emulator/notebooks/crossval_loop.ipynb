{
 "cells": [
  {
   "cell_type": "code",
   "execution_count": 1,
   "metadata": {},
   "outputs": [],
   "source": [
    "import numpy as np\n",
    "import sys\n",
    "import os\n",
    "import json\n",
    "import matplotlib.pyplot as plt\n",
    "import matplotlib as mpl\n",
    "import cProfile\n",
    "import emcee\n",
    "import corner\n",
    "import copy\n",
    "# our own modules\n",
    "import simplest_emulator\n",
    "import linear_emulator\n",
    "import gp_emulator\n",
    "import data_PD2013\n",
    "import mean_flux_model\n",
    "import thermal_model\n",
    "import pressure_model\n",
    "import lya_theory\n",
    "import likelihood\n",
    "import emcee_sampler\n",
    "import data_MPGADGET\n",
    "import z_emulator\n",
    "import p1d_arxiv"
   ]
  },
  {
   "cell_type": "code",
   "execution_count": 2,
   "metadata": {},
   "outputs": [],
   "source": [
    "import matplotlib\n",
    "font = {'size'   : 14}\n",
    "\n",
    "matplotlib.rc('font', **font)"
   ]
  },
  {
   "cell_type": "code",
   "execution_count": 3,
   "metadata": {},
   "outputs": [],
   "source": [
    "repo=os.environ['LYA_EMU_REPO']\n",
    "skewers_label='Ns256_wM0.05'\n",
    "#skewers_label=None\n",
    "basedir=\"/p1d_emulator/sim_suites/emulator_256_28082019/\"\n",
    "#basedir=repo+\"/p1d_emulator/sim_suites/emulator_256_15072019/\"\n",
    "p1d_label=None\n",
    "undersample_z=1\n",
    "paramList=[\"mF\",\"sigT_Mpc\",\"gamma\",\"n_p\",\"Delta2_p\"]\n",
    "max_arxiv_size=None\n",
    "kmax_Mpc=8\n",
    "z_list=None"
   ]
  },
  {
   "cell_type": "code",
   "execution_count": 4,
   "metadata": {},
   "outputs": [],
   "source": [
    "set_k=p1d_arxiv.ArxivP1D(basedir=basedir,\n",
    "                            drop_tau_rescalings=True,z_max=4,pick_sim_number=0,\n",
    "                            drop_temp_rescalings=True,skewers_label=skewers_label)\n",
    "## Set up k bins for emulator call\n",
    "k_test=set_k.data[1][\"k_Mpc\"][1:]\n",
    "k_test=k_test[k_test<8]"
   ]
  },
  {
   "cell_type": "code",
   "execution_count": 5,
   "metadata": {},
   "outputs": [],
   "source": [
    "## Now want to train an emulator on all 200 sims, and use those hyperparameters and\n",
    "## param scalings to use 199 points and predict the 1 remaining\n",
    "full_archive=p1d_arxiv.ArxivP1D(basedir=basedir,\n",
    "                            drop_tau_rescalings=True,z_max=4,\n",
    "                            drop_temp_rescalings=True,skewers_label=skewers_label)"
   ]
  },
  {
   "cell_type": "code",
   "execution_count": 6,
   "metadata": {},
   "outputs": [],
   "source": [
    "kfs=full_archive.get_param_values(\"kF_Mpc\")"
   ]
  },
  {
   "cell_type": "code",
   "execution_count": 9,
   "metadata": {},
   "outputs": [
    {
     "name": "stdout",
     "output_type": "stream",
     "text": [
      "1191\n"
     ]
    }
   ],
   "source": [
    "print(np.argmin(kfs))"
   ]
  },
  {
   "cell_type": "code",
   "execution_count": 10,
   "metadata": {},
   "outputs": [
    {
     "name": "stdout",
     "output_type": "stream",
     "text": [
      "2.0\n"
     ]
    }
   ],
   "source": [
    "print(full_archive.data[1191][\"z\"])"
   ]
  },
  {
   "cell_type": "code",
   "execution_count": 11,
   "metadata": {},
   "outputs": [
    {
     "name": "stderr",
     "output_type": "stream",
     "text": [
      " /home/chris/.local/lib/python3.5/site-packages/paramz/parameterized.py:61: RuntimeWarning:Don't forget to initialize by self.initialize_parameter()!\n"
     ]
    },
    {
     "name": "stdout",
     "output_type": "stream",
     "text": [
      "Training GP on 1600 points\n",
      "Optimised\n"
     ]
    }
   ],
   "source": [
    "emu=gp_emulator.GPEmulator(basedir,p1d_label,skewers_label,\n",
    "                                max_arxiv_size=max_arxiv_size,z_max=4,\n",
    "                                verbose=False,paramList=paramList,train=True,set_noise_var=1e-3,\n",
    "                                emu_type=\"k_bin\",z_list=z_list,passArxiv=full_archive,\n",
    "                                drop_tau_rescalings=True,\n",
    "                                drop_temp_rescalings=True)"
   ]
  },
  {
   "cell_type": "code",
   "execution_count": 12,
   "metadata": {},
   "outputs": [
    {
     "name": "stdout",
     "output_type": "stream",
     "text": [
      "Training GP on 1600 points\n",
      "Optimised\n"
     ]
    }
   ],
   "source": [
    "emu_lowk=gp_emulator.GPEmulator(basedir,p1d_label,skewers_label,\n",
    "                                max_arxiv_size=max_arxiv_size,z_max=4,kmax_Mpc=1,\n",
    "                                verbose=False,paramList=paramList,train=True,set_noise_var=1e-3,\n",
    "                                emu_type=\"k_bin\",z_list=z_list,passArxiv=full_archive,\n",
    "                                drop_tau_rescalings=True,\n",
    "                                drop_temp_rescalings=True)"
   ]
  },
  {
   "cell_type": "code",
   "execution_count": 18,
   "metadata": {},
   "outputs": [],
   "source": [
    "def return_crossvals(hyperparams):\n",
    "    \"\"\" Pass a GP emulator, this will return arrays of the fractional\n",
    "    true and theoretical error. This function will include values\n",
    "    on or outside the convex hull \"\"\"\n",
    "    \n",
    "    if len(hyperparams)==3:\n",
    "        rbf_only=True\n",
    "    elif len(hyperparams)==4:\n",
    "        rbf_only=False\n",
    "    else:\n",
    "        print(\"Wrong number of hyperparams:\" , len(hyperparams))\n",
    "    \n",
    "    ## Data arrays\n",
    "    fractional_error=np.empty((200,8,len(k_test)))\n",
    "    theory_error=np.empty((200,8,len(k_test)))\n",
    "    \n",
    "    iterable_archive=p1d_arxiv.ArxivP1D(basedir=basedir,\n",
    "                            drop_tau_rescalings=True,z_max=4,\n",
    "                            drop_temp_rescalings=True,skewers_label=skewers_label)\n",
    "\n",
    "\n",
    "    for simnum in range(0,200):\n",
    "        truth=p1d_arxiv.ArxivP1D(basedir=basedir,\n",
    "                                drop_tau_rescalings=True,z_max=4,pick_sim_number=simnum,\n",
    "                                drop_temp_rescalings=True,skewers_label=skewers_label)\n",
    "        \n",
    "        ## Temporarily remove the first 8 items, corresponding to this sim\n",
    "        temp_list=[]\n",
    "        for aa in range(0,8):\n",
    "            temp_list.append(iterable_archive.data.pop(0))\n",
    "                            \n",
    "        \n",
    "        emu_test=gp_emulator.GPEmulator(basedir,p1d_label,skewers_label,\n",
    "                                max_arxiv_size=max_arxiv_size,z_max=4,\n",
    "                                verbose=False,paramList=paramList,train=False,\n",
    "                                emu_type=\"k_bin\",z_list=z_list,passArxiv=iterable_archive,\n",
    "                                drop_tau_rescalings=True,checkHulls=True,\n",
    "                                drop_temp_rescalings=True,rbf_only=rbf_only)\n",
    "        emu_test.load_hyperparams(hyperparams)\n",
    "        emu_test.crossval=True\n",
    "        \n",
    "        \n",
    "        for aa,item in enumerate(truth.data):\n",
    "            emu_call={}\n",
    "            for bb,param in enumerate(paramList):\n",
    "                emu_call[param]=item[param]\n",
    "\n",
    "            print(\"Making emu call\")\n",
    "            pred,err=emu_test.emulate_p1d_Mpc(emu_call,k_test,True,item[\"z\"])\n",
    "\n",
    "            fractional_error[simnum,aa,:]=pred/item[\"p1d_Mpc\"][1:(len(k_test)+1)]\n",
    "            #theory_error[simnum,aa,:]=(pred+np.sqrt(np.diag(err)))/item[\"p1d_Mpc\"][1:(len(k_test)+1)]\n",
    "            theory_error[simnum,aa,:]=(np.sqrt(np.diag(err)))/pred\n",
    "                             \n",
    "        ## Now rebuild the archive, put the old sim at the end\n",
    "        for item in temp_list:\n",
    "            iterable_archive.data.append(item)\n",
    "            \n",
    "    return np.mean(fractional_error,axis=0),np.std(fractional_error,axis=0),np.mean(theory_error,axis=0),np.std(theory_error,axis=0)"
   ]
  },
  {
   "cell_type": "code",
   "execution_count": 21,
   "metadata": {},
   "outputs": [],
   "source": [
    "def return_crossvals_nohull(hyperparams):\n",
    "    \"\"\" Pass a GP emulator, this will return arrays of the fractional\n",
    "    true and theoretical error. This function will only include emulator calls made\n",
    "    within the convex hull \"\"\"\n",
    "    \n",
    "    if len(hyperparams)==3:\n",
    "        rbf_only=True\n",
    "    elif len(hyperparams)==4:\n",
    "        rbf_only=False\n",
    "    else:\n",
    "        print(\"Wrong number of hyperparams:\" , len(hyperparams))\n",
    "    \n",
    "    ## New crossval loop\n",
    "    fractional_error=[]\n",
    "    theory_error=[]\n",
    "    cross_val=[]\n",
    "    distances=[]\n",
    "    for aa in range(0,8):\n",
    "        fractional_error.append([])\n",
    "        theory_error.append([])\n",
    "        cross_val.append([])\n",
    "        for bb in range(len(k_test)):\n",
    "            fractional_error[aa].append([])\n",
    "            theory_error[aa].append([])\n",
    "            cross_val[aa].append([])\n",
    "    \n",
    "    iterable_archive=p1d_arxiv.ArxivP1D(basedir=basedir,\n",
    "                            drop_tau_rescalings=True,z_max=4,\n",
    "                            drop_temp_rescalings=True,skewers_label=skewers_label)\n",
    "\n",
    "\n",
    "    for simnum in range(0,200):\n",
    "        truth=p1d_arxiv.ArxivP1D(basedir=basedir,\n",
    "                                drop_tau_rescalings=True,z_max=4,pick_sim_number=simnum,\n",
    "                                drop_temp_rescalings=True,skewers_label=skewers_label)\n",
    "        \n",
    "        ## Temporarily remove the first 8 items, corresponding to this sim\n",
    "        temp_list=[]\n",
    "        for aa in range(0,8):\n",
    "            temp_list.append(iterable_archive.data.pop(0))\n",
    "                            \n",
    "        \n",
    "        emu_test=gp_emulator.GPEmulator(basedir,p1d_label,skewers_label,\n",
    "                                max_arxiv_size=max_arxiv_size,z_max=4,\n",
    "                                verbose=False,paramList=paramList,train=False,\n",
    "                                emu_type=\"k_bin\",z_list=z_list,passArxiv=iterable_archive,\n",
    "                                drop_tau_rescalings=True,checkHulls=True,\n",
    "                                drop_temp_rescalings=True,rbf_only=rbf_only)\n",
    "        emu_test.load_hyperparams(hyperparams)\n",
    "        emu_test.crossval=True\n",
    "        \n",
    "        \n",
    "        for aa,item in enumerate(truth.data):\n",
    "            emu_call={}\n",
    "            for bb,param in enumerate(paramList):\n",
    "                emu_call[param]=item[param]\n",
    "\n",
    "            #print(\"Making emu call\")\n",
    "            try:\n",
    "                ## Try make emulator call\n",
    "                pred,err=emu_test.emulate_p1d_Mpc(emu_call,k_test,True,item[\"z\"])\n",
    "                true=pred/item[\"p1d_Mpc\"][1:(len(k_test)+1)]\n",
    "                theory=(np.sqrt(np.diag(err)))/pred\n",
    "                cv=(pred-item[\"p1d_Mpc\"][1:(len(k_test)+1)])/np.sqrt(np.diag(err))\n",
    "                distances.append(emu_test.get_nearest_distance(emu_call))\n",
    "                for bb in range(len(pred)):\n",
    "                    fractional_error[aa][bb].append(true[bb])\n",
    "                    theory_error[aa][bb].append(theory[bb])\n",
    "                    cross_val[aa][bb].append(cv[bb])\n",
    "                \n",
    "            except:\n",
    "                ## Skip this redshift as this emulator call is outside\n",
    "                ## convex hull\n",
    "                continue\n",
    "                             \n",
    "        ## Now rebuild the archive, put the old sim at the end\n",
    "        for item in temp_list:\n",
    "            iterable_archive.data.append(item)\n",
    "        \n",
    "    true_mean=np.empty((8,len(k_test)))\n",
    "    true_std=np.empty((8,len(k_test)))\n",
    "    theory_mean=np.empty((8,len(k_test)))\n",
    "    theory_std=np.empty((8,len(k_test)))\n",
    "    for aa in range(8):\n",
    "        for bb in range(len(k_test)):\n",
    "            true_data=np.asarray(fractional_error[aa][bb])\n",
    "            true_mean[aa][bb]=np.mean(true_data)\n",
    "            true_std[aa][bb]=np.std(true_data)\n",
    "            theory_data=np.asarray(theory_error[aa][bb])\n",
    "            theory_mean[aa][bb]=np.mean(theory_data)\n",
    "            theory_std[aa][bb]=np.std(theory_data)\n",
    "    \n",
    "    ## Now get means and std deviations\n",
    "    return true_mean, true_std, theory_mean, theory_std, cross_val, distances"
   ]
  },
  {
   "cell_type": "code",
   "execution_count": 22,
   "metadata": {},
   "outputs": [
    {
     "name": "stderr",
     "output_type": "stream",
     "text": [
      " /home/chris/.local/lib/python3.5/site-packages/paramz/parameterized.py:61: RuntimeWarning:Don't forget to initialize by self.initialize_parameter()!\n"
     ]
    }
   ],
   "source": [
    "mean_fractional,std_fractional,mean_theory,std_theory,cv,dist=return_crossvals_nohull(emu_lowk.gp.param_array)"
   ]
  },
  {
   "cell_type": "code",
   "execution_count": null,
   "metadata": {},
   "outputs": [],
   "source": [
    "mean_fractional_all,std_fractional_all,mean_theory_all,std_theory_all,cv_all,dist_all=return_crossvals_nohull(emu.gp.param_array)"
   ]
  },
  {
   "cell_type": "code",
   "execution_count": 25,
   "metadata": {},
   "outputs": [
    {
     "data": {
      "image/png": "[encoded data removed]",
      "text/plain": [
       "<Figure size 864x864 with 1 Axes>"
      ]
     },
     "metadata": {
      "needs_background": "light"
     },
     "output_type": "display_data"
    }
   ],
   "source": [
    "plt.figure(figsize=(12,12))\n",
    "_=plt.hist(dist,bins=100)\n",
    "plt.title(\"Euclidean distances for leave-one-out test\")\n",
    "plt.savefig(\"distance_leave_one_out.pdf\")"
   ]
  },
  {
   "cell_type": "code",
   "execution_count": 29,
   "metadata": {},
   "outputs": [],
   "source": [
    "theoryerr_flat=[]\n",
    "for sublist in mean_theory:\n",
    "    for item in sublist:\n",
    "        theoryerr_flat.append(item)"
   ]
  },
  {
   "cell_type": "code",
   "execution_count": 32,
   "metadata": {},
   "outputs": [
    {
     "data": {
      "text/plain": [
       "(0, 0.5)"
      ]
     },
     "execution_count": 32,
     "metadata": {},
     "output_type": "execute_result"
    },
    {
     "data": {
      "image/png": "[encoded data removed]",
      "text/plain": [
       "<Figure size 864x864 with 1 Axes>"
      ]
     },
     "metadata": {
      "needs_background": "light"
     },
     "output_type": "display_data"
    }
   ],
   "source": [
    "plt.figure(figsize=(12,12))\n",
    "_=plt.hist(theoryerr_flat,bins=500)\n",
    "plt.xlim(0,0.5)"
   ]
  },
  {
   "cell_type": "code",
   "execution_count": 34,
   "metadata": {},
   "outputs": [
    {
     "name": "stdout",
     "output_type": "stream",
     "text": [
      "[0.007294788645427544, 0.007428750197140146, 0.00709140330592639, 0.007202987107293378, 0.006920828711190764, 0.0063753902036903605, 0.006370658622478884, 0.005993258360051758, 0.006016381454112678, 0.005794700350546331, 0.005803617383929835, 0.0055222895183053506, 0.005473719885187345, 0.005310190873909804, 0.005297498248411342, 0.0052320003741763614, 0.005105434654178552, 0.00503476602379004, 0.004980463422562834, 0.004879080684364292, 0.004947736647540756, 0.004847762920214023, 0.004751949550897133, 0.00469195860812222, 0.004683615316487525, 0.0046042453614699615, 0.004521400400202525, 0.0044707778221342994, 0.009150641806422322, 0.009300302685114182, 0.009033193072577867, 0.009097666379942252, 0.008883746068441648, 0.008369610251453342, 0.00833198655124193, 0.008025763940076484, 0.00811659597418998, 0.007952950694888128, 0.00807105827386089, 0.007875752581070712, 0.007909480595468274, 0.007814231321538074, 0.007916974903377177, 0.007947444433228637, 0.007921574648961838, 0.007880682346969205, 0.007870002017929163, 0.007842044138715977, 0.008005297649428046, 0.007937327453738303, 0.007841067793751646, 0.007800827597941649, 0.00782796198073879, 0.007749238052309924, 0.0076483928569354934, 0.007581589692810004, 0.011705964021188377, 0.011864252791294095, 0.011680442858477497, 0.011664349468096429, 0.011550742989862505, 0.011144265460074984, 0.011098633952510416, 0.010934438231982434, 0.011155410019980185, 0.011143664387671589, 0.011394996455653054, 0.011435363679390718, 0.011641856662180589, 0.011694811354538042, 0.012020651361760787, 0.012299512803001037, 0.012476894605926724, 0.012555653319759302, 0.012651040007574908, 0.01278027789347532, 0.013122411967754193, 0.01315435427082106, 0.013064178976538977, 0.013068053781916602, 0.013183490205360452, 0.013101740971911526, 0.013024142180399373, 0.012928060415671778, 0.015165029756435059, 0.015334309963371559, 0.015216167661471991, 0.015092465008810329, 0.015088680570338006, 0.014864000572813299, 0.014878221260913703, 0.014917769098910665, 0.015317938249447965, 0.015581637730967225, 0.015956080348972074, 0.016352270455141458, 0.01686306481355778, 0.01710906169836011, 0.017746191932765245, 0.018482599325233093, 0.019008407098366882, 0.0193669401628641, 0.019710355610502103, 0.0201441638171348, 0.020799134253623328, 0.021096069730381584, 0.02104266628895778, 0.021158897934628395, 0.02151868826725963, 0.02141871400454923, 0.021484886444967384, 0.021360897677666323, 0.025890812544698882, 0.026115420389548283, 0.026103360024766282, 0.026038413296856147, 0.026381987727952805, 0.02682456731869408, 0.027764817843938038, 0.02880662108660574, 0.030142693545058535, 0.031941333513148096, 0.03382221240420383, 0.035170882917064904, 0.038146437317554766, 0.03963106442549996, 0.04183072837694125, 0.044793844720438236, 0.048189565301802274, 0.050191065094582675, 0.05255135496774094, 0.055549319475493845, 0.0585534206131511, 0.06113593799495349, 0.062285339045959426, 0.06401595222611872, 0.0662697263961341, 0.0672579865975422, 0.06872121658300011, 0.06953868532335758, 0.0345799906170104, 0.03490735127831829, 0.03510533834275256, 0.03544128474105401, 0.03611700194019998, 0.03716982276852059, 0.039450297866252294, 0.04163606098707167, 0.04416423082958839, 0.04743135585794384, 0.05194356034850869, 0.05397687205483838, 0.05989456819680726, 0.06361481461566804, 0.0671537888697875, 0.07248476653719127, 0.0795573223966742, 0.08327205774970925, 0.0874726580001952, 0.09383677647306926, 0.10079388453081443, 0.10505108536507327, 0.1086675280383676, 0.1133894825095339, 0.11457405591783267, 0.11870572348464987, 0.12111154878254353, 0.12306484631823543, 0.0465769789033387, 0.04717151914172446, 0.04797920154452582, 0.04910225664986618, 0.05029551137941676, 0.052201138438859894, 0.05660426622216581, 0.06059610078576396, 0.06521124877558664, 0.07021923078310209, 0.07800496257939844, 0.08207187357494984, 0.09061346785112362, 0.09792068677950153, 0.10257685912434332, 0.11158875131865648, 0.12079900030579473, 0.12845266492983592, 0.13324785643056541, 0.14355662953760212, 0.1568005282547527, 0.1619013548339606, 0.16875378090044763, 0.18134943092306605, 0.17617642778634227, 0.18442018067566107, 0.19525672412836517, 0.20484156022287758, 0.06131486853425918, 0.06245981367324128, 0.06382321982079228, 0.06589086678484309, 0.06761037390342307, 0.0702915842297367, 0.07695971202189744, 0.08305012878844183, 0.09017059228996788, 0.09847594403099806, 0.10868402428797773, 0.11476695284539877, 0.12978674759545852, 0.13780455783527626, 0.1561181062694776, 0.16541315221517883, 0.19881837207169514, 0.6042685990526089, 0.14730507035906443, 0.1557915659824807, 0.19337275598252357, 0.23802909928187524, 0.30478175511506583, 0.6287729992808303, 3.196639587162649, 0.4967890665115005, -0.022765561574179544, 0.06628496289600297]\n"
     ]
    }
   ],
   "source": [
    "print(theoryerr_flat)"
   ]
  },
  {
   "cell_type": "code",
   "execution_count": null,
   "metadata": {},
   "outputs": [],
   "source": [
    "def return_crossvals_z():\n",
    "    \"\"\" Cross validation for z and k for a redshift-split\n",
    "    emulator \"\"\"\n",
    "    \n",
    "    ## Data arrays\n",
    "    fractional_error=np.empty((200,8,len(k_test)))\n",
    "    theory_error=np.empty((200,8,len(k_test)))\n",
    "    \n",
    "    iterable_archive=p1d_arxiv.ArxivP1D(basedir=basedir,\n",
    "                            drop_tau_rescalings=True,z_max=4,\n",
    "                            drop_temp_rescalings=True,skewers_label=skewers_label)\n",
    "\n",
    "\n",
    "    for simnum in range(0,200):\n",
    "        truth=p1d_arxiv.ArxivP1D(basedir=basedir,\n",
    "                                drop_tau_rescalings=True,z_max=4,pick_sim_number=simnum,\n",
    "                                drop_temp_rescalings=True,skewers_label=skewers_label)\n",
    "        \n",
    "        ## Temporarily remove the first 8 items, corresponding to this sim\n",
    "        temp_list=[]\n",
    "        for aa in range(0,8):\n",
    "            temp_list.append(iterable_archive.data.pop(0))\n",
    "                            \n",
    "        \n",
    "        emu_test=z_emulator.ZEmulator(basedir,p1d_label,skewers_label,\n",
    "                                max_arxiv_size=max_arxiv_size,z_max=4,\n",
    "                                verbose=False,paramList=paramList,train=True,\n",
    "                                emu_type=\"k_bin\",z_list=z_list,passArxiv=iterable_archive,\n",
    "                                drop_tau_rescalings=True,\n",
    "                                drop_temp_rescalings=True)\n",
    "        \n",
    "        \n",
    "        for aa,item in enumerate(truth.data):\n",
    "            emu_call={}\n",
    "            for bb,param in enumerate(paramList):\n",
    "                emu_call[param]=item[param]\n",
    "\n",
    "            pred,err=emu_test.emulate_p1d_Mpc(emu_call,k_test,True,item[\"z\"])\n",
    "\n",
    "            fractional_error[simnum,aa,:]=pred/item[\"p1d_Mpc\"][1:(len(k_test)+1)]\n",
    "            theory_error[simnum,aa,:]=(pred+np.sqrt(np.diag(err)))/pred\n",
    "                             \n",
    "        ## Now rebuild the archive, put the old sim at the end\n",
    "        for item in temp_list:\n",
    "            iterable_archive.data.append(item)\n",
    "            \n",
    "    return np.mean(fractional_error,axis=0),np.std(fractional_error,axis=0),np.mean(theory_error,axis=0),np.std(theory_error,axis=0)"
   ]
  },
  {
   "cell_type": "code",
   "execution_count": null,
   "metadata": {},
   "outputs": [],
   "source": [
    "mean_fractional,std_fractional,mean_theory,std_theory=return_crossvals(emu.gp.param_array)"
   ]
  },
  {
   "cell_type": "code",
   "execution_count": null,
   "metadata": {},
   "outputs": [],
   "source": [
    "plt.figure(figsize=[12,14])\n",
    "dex=0\n",
    "for aa in range(0,8):\n",
    "    plt.subplot(8,1,aa+1)\n",
    "    if aa==0:\n",
    "        plt.title(\"Mean and std for (predicted/truth). Optimised on low k only in solid\")\n",
    "    col = plt.cm.jet(dex/(len(set_k.data)-1))\n",
    "    dex+=1\n",
    "    plt.plot(k_test,mean_fractional[aa,:],color=col,label=\"z=%.2f\" % set_k.data[aa][\"z\"])\n",
    "    plt.fill_between(k_test,mean_fractional[aa,:]+std_fractional[aa,:],\n",
    "            mean_fractional[aa,:]-std_fractional[aa,:],alpha=0.5,color=col)\n",
    "    plt.plot(k_test,mean_fractional_all[aa,:],color=col,linestyle=\"dashed\")\n",
    "    plt.fill_between(k_test,mean_fractional_all[aa,:]+std_fractional_all[aa,:],\n",
    "            mean_fractional_all[aa,:]-std_fractional_all[aa,:],alpha=0.5,color=col)\n",
    "    plt.axhspan(0.99,1.01,color=\"gray\",alpha=0.3)\n",
    "    plt.axhline(1,linestyle=\"dashed\",color=\"gray\")\n",
    "    plt.ylim(0.9,1.1)\n",
    "    plt.legend(loc=\"upper left\")\n",
    "    plt.xscale(\"log\")\n",
    "    if aa != 7:\n",
    "        plt.xticks([])\n",
    "plt.xlabel(\"k [1/Mpc]\")\n",
    "plt.tight_layout()\n",
    "#plt.savefig(\"/home/chris/Testbed/EmuScripts/CrossvalPlots/single_emu_true_error_comparison.pdf\")"
   ]
  },
  {
   "cell_type": "code",
   "execution_count": null,
   "metadata": {},
   "outputs": [],
   "source": [
    "plt.figure(figsize=[12,14])\n",
    "dex=0\n",
    "for aa in range(0,8):\n",
    "    plt.subplot(8,1,aa+1)\n",
    "    if aa==0:\n",
    "        plt.title(\"Mean and std of fractional emulator error. Optimised on low k only in solid\")\n",
    "    col = plt.cm.jet(dex/(len(set_k.data)-1))\n",
    "    dex+=1\n",
    "    plt.axhline(0,linestyle=\"dashed\",color=\"gray\",alpha=0.5)\n",
    "    plt.plot(k_test,mean_theory[aa,:]-1,color=col,label=\"z=%.2f\" % set_k.data[aa][\"z\"])\n",
    "    plt.fill_between(k_test,mean_theory[aa,:]+std_theory[aa,:]-1,\n",
    "            mean_theory[aa,:]-std_theory[aa,:]-1,alpha=0.5,color=col)\n",
    "    plt.plot(k_test,mean_theory_all[aa,:]-1,color=col,linestyle=\"dashed\")\n",
    "    plt.fill_between(k_test,mean_theory_all[aa,:]+std_theory_all[aa,:]-1,\n",
    "            mean_theory_all[aa,:]-std_theory_all[aa,:]-1,alpha=0.5,color=col)\n",
    "    plt.ylim(-0.05,0.1)\n",
    "    plt.legend(loc=\"upper left\")\n",
    "    #plt.ylim(-0.05,0.1)\n",
    "    plt.xscale(\"log\")\n",
    "    #plt.yscale(\"log\")\n",
    "    if aa != 7:\n",
    "        plt.xticks([])\n",
    "plt.xlabel(\"k [1/Mpc]\")\n",
    "plt.tight_layout()\n",
    "plt.savefig(\"/home/chris/Testbed/EmuScripts/CrossvalPlots/single_emu_theory_error_lowk.pdf\")\n"
   ]
  },
  {
   "cell_type": "code",
   "execution_count": null,
   "metadata": {},
   "outputs": [],
   "source": [
    "## Cross validation plots - do this for alll results, then binned by z, then binned by k\n",
    "\n",
    "cv_flat = []\n",
    "for sublist in cv:\n",
    "    for item in sublist:\n",
    "        for subitem in item:\n",
    "            cv_flat.append(subitem)\n",
    "\n",
    "cv_all_flat=[]\n",
    "for sublist in cv_all:\n",
    "    for item in sublist:\n",
    "        for subitem in item:\n",
    "            cv_all_flat.append(subitem)"
   ]
  },
  {
   "cell_type": "code",
   "execution_count": null,
   "metadata": {},
   "outputs": [],
   "source": [
    "## Take only low k bins\n",
    "cv_flat_lowk = []\n",
    "\n",
    "## Loop over all zs\n",
    "for sublist in cv:\n",
    "    ## Loop over ks\n",
    "    for aa in range(8):\n",
    "        item=sublist[aa]\n",
    "        for subitem in item:\n",
    "            cv_flat_lowk.append(subitem)\n",
    "\n",
    "cv_all_flat_lowk=[]\n",
    "## Loop over zs\n",
    "for sublist in cv_all:\n",
    "    ## Loop over ks\n",
    "    for aa in range(8):\n",
    "        item=sublist[aa]\n",
    "        for subitem in item:\n",
    "            cv_all_flat_lowk.append(subitem)"
   ]
  },
  {
   "cell_type": "code",
   "execution_count": null,
   "metadata": {},
   "outputs": [],
   "source": [
    "## Generate data for 1 sigma ditribution\n",
    "x=np.linspace(-5,5,200)\n",
    "y=1/(np.sqrt(2*np.pi))*np.exp(-0.5*(x**2))"
   ]
  },
  {
   "cell_type": "code",
   "execution_count": null,
   "metadata": {},
   "outputs": [],
   "source": [
    "plt.figure(figsize=[12,12])\n",
    "plt.title(\"Cross validation, training hyperparams on all k and low k only\")\n",
    "_=plt.hist(cv_flat,bins=1000,density=True,alpha=0.8,label=\"low k only\")\n",
    "_=plt.hist(cv_all_flat,bins=1000,density=True,alpha=0.8,label=\"all k\")\n",
    "plt.plot(x,y,color=\"black\")\n",
    "plt.legend()\n",
    "plt.xlim(-2.5,2.5)\n",
    "plt.savefig(\"/home/chris/Testbed/EmuScripts/CrossvalPlots/cross_val.pdf\")"
   ]
  },
  {
   "cell_type": "code",
   "execution_count": null,
   "metadata": {},
   "outputs": [],
   "source": [
    "plt.figure(figsize=[12,12])\n",
    "_=plt.hist(cv_flat_lowk,bins=100,density=True,alpha=0.8,label=\"low k only\")\n",
    "_=plt.hist(cv_all_flat_lowk,bins=100,density=True,alpha=0.8,label=\"all k\")\n",
    "plt.plot(x,y,color=\"black\")\n",
    "plt.legend()\n",
    "plt.xlim(-2.5,2.5)"
   ]
  },
  {
   "cell_type": "code",
   "execution_count": null,
   "metadata": {},
   "outputs": [],
   "source": []
  },
  {
   "cell_type": "code",
   "execution_count": null,
   "metadata": {},
   "outputs": [],
   "source": []
  },
  {
   "cell_type": "code",
   "execution_count": null,
   "metadata": {},
   "outputs": [],
   "source": []
  },
  {
   "cell_type": "code",
   "execution_count": null,
   "metadata": {},
   "outputs": [],
   "source": []
  },
  {
   "cell_type": "code",
   "execution_count": null,
   "metadata": {},
   "outputs": [],
   "source": []
  },
  {
   "cell_type": "code",
   "execution_count": null,
   "metadata": {},
   "outputs": [],
   "source": [
    "## Change noise_var\n",
    "emu_noisy=gp_emulator.GPEmulator(basedir,p1d_label,skewers_label,\n",
    "                                max_arxiv_size=max_arxiv_size,z_max=4,\n",
    "                                verbose=False,paramList=paramList,train=True,\n",
    "                                emu_type=\"k_bin\",z_list=z_list,passArxiv=full_archive,\n",
    "                                drop_tau_rescalings=True,set_noise_var=1e-10,\n",
    "                                drop_temp_rescalings=True)\n",
    "## Add postprocessing rescalings\n",
    "\n",
    "## Undersample z\n",
    "\n",
    "## Change hyperparams as you move through paramspace"
   ]
  },
  {
   "cell_type": "code",
   "execution_count": null,
   "metadata": {},
   "outputs": [],
   "source": [
    "mean_fractional_noisy,std_fractional_noisy,mean_theory_noisy,std_theory_noisy=return_crossvals(emu_noisy.gp.param_array)"
   ]
  },
  {
   "cell_type": "code",
   "execution_count": null,
   "metadata": {},
   "outputs": [],
   "source": [
    "plt.figure(figsize=[12,14])\n",
    "dex=0\n",
    "for aa in range(0,8):\n",
    "    plt.subplot(8,1,aa+1)\n",
    "    if aa==0:\n",
    "        plt.title(\"Mean and std for (predicted-truth)/truth, 1e-10 noise var\")\n",
    "    col = plt.cm.jet(dex/(len(set_k.data)-1))\n",
    "    dex+=1\n",
    "    plt.plot(k_test,mean_fractional_noisy[aa,:],color=col,label=\"z=%.2f\" % set_k.data[aa][\"z\"])\n",
    "    plt.axhspan(0.99,1.01,color=\"gray\",alpha=0.3)\n",
    "    plt.axhline(1,linestyle=\"dashed\",color=\"gray\")\n",
    "    plt.fill_between(k_test,mean_fractional_noisy[aa,:]+std_fractional_noisy[aa,:],\n",
    "            mean_fractional_noisy[aa,:]-std_fractional_noisy[aa,:],alpha=0.5,color=col)\n",
    "    plt.ylim(0.9,1.1)\n",
    "    plt.legend(loc=\"upper left\")\n",
    "    plt.xscale(\"log\")\n",
    "    if aa != 7:\n",
    "        plt.xticks([])\n",
    "plt.xlabel(\"k [1/Mpc]\")\n",
    "plt.tight_layout()\n",
    "plt.savefig(\"/home/chris/Testbed/EmuScripts/CrossvalPlots/single_emu_lownoise_true_error.pdf\")"
   ]
  },
  {
   "cell_type": "code",
   "execution_count": null,
   "metadata": {},
   "outputs": [],
   "source": [
    "plt.figure(figsize=[12,14])\n",
    "dex=0\n",
    "for aa in range(0,8):\n",
    "    plt.subplot(8,1,aa+1)\n",
    "    if aa==0:\n",
    "        plt.title(\"Mean and std of fractional emulator error, 1e-10 noise var\")\n",
    "    col = plt.cm.jet(dex/(len(set_k.data)-1))\n",
    "    dex+=1\n",
    "    plt.axhline(0,linestyle=\"dashed\",color=\"gray\",alpha=0.5)\n",
    "    plt.plot(k_test,mean_theory_noisy[aa,:]-1,color=col,label=\"z=%.2f\" % set_k.data[aa][\"z\"])\n",
    "    plt.fill_between(k_test,mean_theory_noisy[aa,:]+std_theory_noisy[aa,:]-1,\n",
    "            mean_theory_noisy[aa,:]-std_theory_noisy[aa,:]-1,alpha=0.5,color=col)\n",
    "    #plt.ylim(0.95,1.05)\n",
    "    plt.legend(loc=\"upper left\")\n",
    "    #plt.ylim(-0.05,2)\n",
    "    plt.xscale(\"log\")\n",
    "    #plt.yscale(\"log\")\n",
    "    if aa != 7:\n",
    "        plt.xticks([])\n",
    "plt.xlabel(\"k [1/Mpc]\")\n",
    "plt.tight_layout()\n",
    "plt.savefig(\"/home/chris/Testbed/EmuScripts/CrossvalPlots/single_emu_lownoise_theory_error.pdf\")"
   ]
  },
  {
   "cell_type": "code",
   "execution_count": null,
   "metadata": {},
   "outputs": [],
   "source": [
    "mean_fractional_z,std_fractional_z,mean_theory_z,std_theory_z=return_crossvals_z()\n",
    "%%capture"
   ]
  },
  {
   "cell_type": "code",
   "execution_count": null,
   "metadata": {},
   "outputs": [],
   "source": [
    "plt.figure(figsize=[12,14])\n",
    "dex=0\n",
    "for aa in range(0,8):\n",
    "    plt.subplot(8,1,aa+1)\n",
    "    if aa==0:\n",
    "        plt.title(\"Mean and std for (predicted-truth)/truth, z emulator\")\n",
    "    col = plt.cm.jet(dex/(len(set_k.data)-1))\n",
    "    dex+=1\n",
    "    plt.plot(k_test,mean_fractional_z[aa,:],color=col,label=\"z=%.2f\" % set_k.data[aa][\"z\"])\n",
    "    plt.axhspan(0.99,1.01,color=\"gray\",alpha=0.3)\n",
    "    plt.axhline(1,linestyle=\"dashed\",color=\"gray\")\n",
    "    plt.fill_between(k_test,mean_fractional_z[aa,:]+std_fractional_noisy[aa,:],\n",
    "            mean_fractional_z[aa,:]-std_fractional_z[aa,:],alpha=0.5,color=col)\n",
    "    plt.ylim(0.9,1.1)\n",
    "    plt.legend(loc=\"upper left\")\n",
    "    plt.xscale(\"log\")\n",
    "    if aa != 7:\n",
    "        plt.xticks([])\n",
    "plt.xlabel(\"k [1/Mpc]\")\n",
    "plt.tight_layout()\n",
    "plt.savefig(\"/home/chris/Testbed/EmuScripts/CrossvalPlots/z_emu_true_error.pdf\")"
   ]
  },
  {
   "cell_type": "code",
   "execution_count": null,
   "metadata": {},
   "outputs": [],
   "source": [
    "plt.figure(figsize=[12,14])\n",
    "dex=0\n",
    "for aa in range(0,8):\n",
    "    plt.subplot(8,1,aa+1)\n",
    "    if aa==0:\n",
    "        plt.title(\"Mean and std of fractional emulator error, z emulator\")\n",
    "    col = plt.cm.jet(dex/(len(set_k.data)-1))\n",
    "    dex+=1\n",
    "    plt.axhline(0,linestyle=\"dashed\",color=\"gray\",alpha=0.5)\n",
    "    plt.plot(k_test,mean_theory_noisy[aa,:]-1,color=col,label=\"z=%.2f\" % set_k.data[aa][\"z\"])\n",
    "    plt.fill_between(k_test,mean_theory_noisy[aa,:]+std_theory_noisy[aa,:]-1,\n",
    "            mean_theory_noisy[aa,:]-std_theory_noisy[aa,:]-1,alpha=0.5,color=col)\n",
    "    #plt.ylim(0.95,1.05)\n",
    "    plt.legend(loc=\"upper left\")\n",
    "    #plt.ylim(-0.05,2)\n",
    "    plt.xscale(\"log\")\n",
    "    #plt.yscale(\"log\")\n",
    "    if aa != 7:\n",
    "        plt.xticks([])\n",
    "plt.xlabel(\"k [1/Mpc]\")\n",
    "plt.tight_layout()\n",
    "plt.savefig(\"/home/chris/Testbed/EmuScripts/CrossvalPlots/z_emu_theory_error.pdf\")"
   ]
  },
  {
   "cell_type": "code",
   "execution_count": null,
   "metadata": {},
   "outputs": [],
   "source": [
    "## Now check with only the RBF kernel\n",
    "emu_rbf=gp_emulator.GPEmulator(basedir,p1d_label,skewers_label,\n",
    "                                max_arxiv_size=max_arxiv_size,z_max=4,\n",
    "                                verbose=False,paramList=paramList,train=True,set_noise_var=1e-3,\n",
    "                                emu_type=\"k_bin\",z_list=z_list,passArxiv=full_archive,rbf_only=True,\n",
    "                                drop_tau_rescalings=True,\n",
    "                                drop_temp_rescalings=True)"
   ]
  },
  {
   "cell_type": "code",
   "execution_count": null,
   "metadata": {},
   "outputs": [],
   "source": [
    "mean_fractional_rbf,std_fractional_rbf,mean_theory_rbf,std_theory_rbf=return_crossvals(emu_rbf.gp.param_array)"
   ]
  },
  {
   "cell_type": "code",
   "execution_count": null,
   "metadata": {},
   "outputs": [],
   "source": [
    "plt.figure(figsize=[12,14])\n",
    "dex=0\n",
    "for aa in range(0,8):\n",
    "    plt.subplot(8,1,aa+1)\n",
    "    if aa==0:\n",
    "        plt.title(\"Mean and std for predicted/truth, rbf kernel only\")\n",
    "    col = plt.cm.jet(dex/(len(set_k.data)-1))\n",
    "    dex+=1\n",
    "    plt.plot(k_test,mean_fractional_rbf[aa,:],color=col,label=\"z=%.2f\" % set_k.data[aa][\"z\"])\n",
    "    plt.axhspan(0.99,1.01,color=\"gray\",alpha=0.3)\n",
    "    plt.axhline(1,linestyle=\"dashed\",color=\"gray\")\n",
    "    plt.fill_between(k_test,mean_fractional_rbf[aa,:]+std_fractional_rbf[aa,:],\n",
    "            mean_fractional_rbf[aa,:]-std_fractional_rbf[aa,:],alpha=0.5,color=col)\n",
    "    plt.ylim(0.9,1.1)\n",
    "    plt.legend(loc=\"upper left\")\n",
    "    plt.xscale(\"log\")\n",
    "    if aa != 7:\n",
    "        plt.xticks([])\n",
    "plt.xlabel(\"k [1/Mpc]\")\n",
    "plt.tight_layout()\n",
    "plt.savefig(\"/home/chris/Testbed/EmuScripts/CrossvalPlots/single_emu_true_error_rbf.pdf\")"
   ]
  },
  {
   "cell_type": "code",
   "execution_count": null,
   "metadata": {},
   "outputs": [],
   "source": [
    "plt.figure(figsize=[12,14])\n",
    "dex=0\n",
    "for aa in range(0,8):\n",
    "    plt.subplot(8,1,aa+1)\n",
    "    if aa==0:\n",
    "        plt.title(\"Mean and std of fractional emulator error, rbf only\")\n",
    "    col = plt.cm.jet(dex/(len(set_k.data)-1))\n",
    "    dex+=1\n",
    "    plt.axhline(0,linestyle=\"dashed\",color=\"gray\",alpha=0.5)\n",
    "    plt.plot(k_test,mean_theory_rbf[aa,:]-1,color=col,label=\"z=%.2f\" % set_k.data[aa][\"z\"])\n",
    "    plt.fill_between(k_test,mean_theory_rbf[aa,:]+std_theory_rbf[aa,:]-1,\n",
    "            mean_theory_rbf[aa,:]-std_theory_rbf[aa,:]-1,alpha=0.5,color=col)\n",
    "    #plt.ylim(0.95,1.05)\n",
    "    plt.legend(loc=\"upper left\")\n",
    "    #plt.ylim(-0.05,2)\n",
    "    plt.xscale(\"log\")\n",
    "    #plt.yscale(\"log\")\n",
    "    if aa != 7:\n",
    "        plt.xticks([])\n",
    "plt.xlabel(\"k [1/Mpc]\")\n",
    "plt.tight_layout()\n",
    "plt.savefig(\"/home/chris/Testbed/EmuScripts/CrossvalPlots/single_emu_theory_error_rbf.pdf\")"
   ]
  },
  {
   "cell_type": "code",
   "execution_count": null,
   "metadata": {},
   "outputs": [],
   "source": []
  },
  {
   "cell_type": "code",
   "execution_count": null,
   "metadata": {},
   "outputs": [],
   "source": []
  },
  {
   "cell_type": "code",
   "execution_count": null,
   "metadata": {},
   "outputs": [],
   "source": []
  },
  {
   "cell_type": "code",
   "execution_count": null,
   "metadata": {},
   "outputs": [],
   "source": []
  },
  {
   "cell_type": "code",
   "execution_count": null,
   "metadata": {},
   "outputs": [],
   "source": [
    "test_sim_num=np.random.randint(199)\n",
    "print(test_sim_num)\n",
    "test_sim_archive=p1d_arxiv.ArxivP1D(basedir=basedir,\n",
    "                            drop_tau_rescalings=True,z_max=4,pick_sim_number=test_sim_num,\n",
    "                            drop_temp_rescalings=True,skewers_label=skewers_label)\n",
    "\n",
    "for item in test_sim_archive.data:\n",
    "    test_model={}\n",
    "    for param in paramList:\n",
    "        test_model[param]=item[param]\n",
    "    pred,err=emu_noisy.emulate_p1d_Mpc(test_model,k_test,True,item[\"z\"])"
   ]
  },
  {
   "cell_type": "code",
   "execution_count": null,
   "metadata": {},
   "outputs": [],
   "source": [
    "reduced_arxiv=p1d_arxiv.ArxivP1D(basedir=basedir,\n",
    "                            drop_tau_rescalings=True,z_max=4,drop_sim_number=test_sim_num,\n",
    "                            drop_temp_rescalings=True,skewers_label=skewers_label)\n",
    "## Change noise_var\n",
    "emu_no_noise_reduced=gp_emulator.GPEmulator(basedir,p1d_label,skewers_label,\n",
    "                                max_arxiv_size=max_arxiv_size,z_max=4,\n",
    "                                verbose=False,paramList=paramList,train=True,\n",
    "                                emu_type=\"k_bin\",z_list=z_list,passArxiv=reduced_arxiv,\n",
    "                                drop_tau_rescalings=True,set_noise_var=1e-10,\n",
    "                                drop_temp_rescalings=True)\n",
    "emu_no_noise_reduced.crossval=True\n",
    "for item in test_sim_archive.data:\n",
    "    test_model={}\n",
    "    for param in paramList:\n",
    "        test_model[param]=item[param]\n",
    "    pred,err=emu_no_noise_reduced.emulate_p1d_Mpc(test_model,k_test,True,item[\"z\"])"
   ]
  },
  {
   "cell_type": "code",
   "execution_count": null,
   "metadata": {},
   "outputs": [],
   "source": []
  },
  {
   "cell_type": "code",
   "execution_count": null,
   "metadata": {},
   "outputs": [],
   "source": []
  },
  {
   "cell_type": "code",
   "execution_count": null,
   "metadata": {},
   "outputs": [],
   "source": [
    "u2_archive=p1d_arxiv.ArxivP1D(basedir=basedir,\n",
    "                            drop_tau_rescalings=True,z_max=4,undersample_cube=2,\n",
    "                            drop_temp_rescalings=True,skewers_label=skewers_label)"
   ]
  },
  {
   "cell_type": "code",
   "execution_count": null,
   "metadata": {},
   "outputs": [],
   "source": [
    "emu_u2=gp_emulator.GPEmulator(basedir,p1d_label,skewers_label,\n",
    "                                max_arxiv_size=max_arxiv_size,z_max=4,\n",
    "                                verbose=False,paramList=paramList,train=True,\n",
    "                                emu_type=\"k_bin\",z_list=z_list,passArxiv=u2_archive,\n",
    "                                drop_tau_rescalings=True,\n",
    "                                drop_temp_rescalings=True)"
   ]
  },
  {
   "cell_type": "code",
   "execution_count": null,
   "metadata": {},
   "outputs": [],
   "source": [
    "mean_fractional_u2,std_fractional_u2,mean_theory_u2,std_theory_u2=return_crossvals(emu_u2)"
   ]
  },
  {
   "cell_type": "code",
   "execution_count": null,
   "metadata": {},
   "outputs": [],
   "source": [
    "plt.figure(figsize=[12,14])\n",
    "dex=0\n",
    "for aa in range(0,8):\n",
    "    plt.subplot(8,1,aa+1)\n",
    "    if aa==0:\n",
    "        plt.title(\"Mean and std for (predicted-truth)/truth, 1e-10 noise var, 100 sims\")\n",
    "    col = plt.cm.jet(dex/(len(truth.data)-1))\n",
    "    dex+=1\n",
    "    plt.plot(k_test,mean_fractional_noisy[aa,:],color=col,label=\"z=%.2f\" % truth.data[aa][\"z\"])\n",
    "    #plt.axhspan(0.99,1.01,color=\"gray\",alpha=0.3)\n",
    "    plt.axhline(1,linestyle=\"dashed\",color=\"gray\")\n",
    "    plt.fill_between(k_test,mean_fractional_noisy[aa,:]+std_fractional_noisy[aa,:],\n",
    "            mean_fractional_noisy[aa,:]-std_fractional_noisy[aa,:],alpha=0.5,color=col)\n",
    "    #plt.ylim(0.95,1.05)\n",
    "    plt.legend(loc=\"upper left\")\n",
    "    plt.xscale(\"log\")\n",
    "    if aa != 7:\n",
    "        plt.xticks([])\n",
    "plt.xlabel(\"k [1/Mpc]\")\n",
    "plt.tight_layout()"
   ]
  },
  {
   "cell_type": "code",
   "execution_count": null,
   "metadata": {},
   "outputs": [],
   "source": [
    "## New crossval loop\n",
    "fractional_error=[]\n",
    "theory_error=[]\n",
    "for aa in range(0,8):\n",
    "    fractional_error.append([])\n",
    "    theory_error.append([])\n",
    "    for bb in range(len(k_test)):\n",
    "        fractional_error[aa].append([])\n",
    "        theory_error[aa].append([])"
   ]
  },
  {
   "cell_type": "code",
   "execution_count": null,
   "metadata": {},
   "outputs": [],
   "source": [
    "fractional_error"
   ]
  },
  {
   "cell_type": "code",
   "execution_count": null,
   "metadata": {},
   "outputs": [],
   "source": [
    "def return_crossvals(hyperparams):\n",
    "    \"\"\" Pass a GP emulator, this will return arrays of the fractional\n",
    "    true and theoretical error \"\"\"\n",
    "    \n",
    "    if len(hyperparams)==3:\n",
    "        rbf_only=True\n",
    "    elif len(hyperparams)==4:\n",
    "        rbf_only=False\n",
    "    else:\n",
    "        print(\"Wrong number of hyperparams:\" , len(hyperparams))\n",
    "    \n",
    "    ## New crossval loop\n",
    "    fractional_error=[]\n",
    "    theory_error=[]\n",
    "    for aa in range(0,8):\n",
    "        fractional_error.append([])\n",
    "        theory_error.append([])\n",
    "        for bb in range(len(k_test)):\n",
    "            fractional_error[aa].append([])\n",
    "            theory_error[aa].append([])\n",
    "    \n",
    "    iterable_archive=p1d_arxiv.ArxivP1D(basedir=basedir,\n",
    "                            drop_tau_rescalings=True,z_max=4,\n",
    "                            drop_temp_rescalings=True,skewers_label=skewers_label)\n",
    "\n",
    "\n",
    "    for simnum in range(0,200):\n",
    "        truth=p1d_arxiv.ArxivP1D(basedir=basedir,\n",
    "                                drop_tau_rescalings=True,z_max=4,pick_sim_number=simnum,\n",
    "                                drop_temp_rescalings=True,skewers_label=skewers_label)\n",
    "        \n",
    "        ## Temporarily remove the first 8 items, corresponding to this sim\n",
    "        temp_list=[]\n",
    "        for aa in range(0,8):\n",
    "            temp_list.append(iterable_archive.data.pop(0))\n",
    "                            \n",
    "        \n",
    "        emu_test=gp_emulator.GPEmulator(basedir,p1d_label,skewers_label,\n",
    "                                max_arxiv_size=max_arxiv_size,z_max=4,\n",
    "                                verbose=False,paramList=paramList,train=False,\n",
    "                                emu_type=\"k_bin\",z_list=z_list,passArxiv=iterable_archive,\n",
    "                                drop_tau_rescalings=True,checkHulls=True,\n",
    "                                drop_temp_rescalings=True,rbf_only=rbf_only)\n",
    "        emu_test.load_hyperparams(hyperparams)\n",
    "        emu_test.crossval=True\n",
    "        \n",
    "        \n",
    "        for aa,item in enumerate(truth.data):\n",
    "            emu_call={}\n",
    "            for bb,param in enumerate(paramList):\n",
    "                emu_call[param]=item[param]\n",
    "\n",
    "            #print(\"Making emu call\")\n",
    "            try:\n",
    "                ## Try make emulator call\n",
    "                pred,err=emu_test.emulate_p1d_Mpc(emu_call,k_test,True,item[\"z\"])\n",
    "                true=pred/item[\"p1d_Mpc\"][1:(len(k_test)+1)]\n",
    "                theory=(pred+np.sqrt(np.diag(err)))/item[\"p1d_Mpc\"][1:(len(k_test)+1)]\n",
    "                for bb in range(len(pred)):\n",
    "                    fractional_error[aa][bb].append(true[bb])\n",
    "                    theory_error[aa][bb].append(theory[bb])\n",
    "                \n",
    "            except:\n",
    "                ## Skip this redshift as this emulator call is outside\n",
    "                ## convex hull\n",
    "                continue\n",
    "                             \n",
    "        ## Now rebuild the archive, put the old sim at the end\n",
    "        for item in temp_list:\n",
    "            iterable_archive.data.append(item)\n",
    "        \n",
    "    true_mean=np.empty((8,len(k_test)))\n",
    "    true_std=np.empty((8,len(k_test)))\n",
    "    theory_mean=np.empty((8,len(k_test)))\n",
    "    theory_std=np.empty((8,len(k_test)))\n",
    "    for aa in range(8):\n",
    "        for bb in range(len(k_test)):\n",
    "            true_data=np.asarray(frac[aa][bb])\n",
    "            true_mean[aa][bb]=np.mean(true_data)\n",
    "            true_std[aa][bb]=np.std(true_data)\n",
    "            theory_data=np.asarray(theory[aa][bb])\n",
    "            theory_mean[aa][bb]=np.mean(theory_data)\n",
    "            theory_std[aa][bb]=np.std(theory_data)\n",
    "    \n",
    "    ## Now get means and std deviations\n",
    "    return true_mean, true_std, theory_mean, theory_std"
   ]
  },
  {
   "cell_type": "code",
   "execution_count": null,
   "metadata": {},
   "outputs": [],
   "source": [
    "true_mean, true_std, theory_mean, theory_std=return_crossvals(emu.gp.param_array)"
   ]
  },
  {
   "cell_type": "code",
   "execution_count": null,
   "metadata": {},
   "outputs": [],
   "source": [
    "len(theory[0][0])"
   ]
  },
  {
   "cell_type": "code",
   "execution_count": null,
   "metadata": {},
   "outputs": [],
   "source": [
    "true_mean=np.empty((8,len(k_test)))\n",
    "true_std=np.empty((8,len(k_test)))\n",
    "theory_mean=np.empty((8,len(k_test)))\n",
    "theory_std=np.empty((8,len(k_test)))\n",
    "for aa in range(8):\n",
    "    for bb in range(len(k_test)):\n",
    "        true_data=np.asarray(frac[aa][bb])\n",
    "        true_mean[aa][bb]=np.mean(true_data)\n",
    "        true_std[aa][bb]=np.std(true_data)\n",
    "        theory_data=np.asarray(theory[aa][bb])\n",
    "        theory_mean[aa][bb]=np.mean(theory_data)\n",
    "        theory_std[aa][bb]=np.std(theory_data)"
   ]
  },
  {
   "cell_type": "code",
   "execution_count": null,
   "metadata": {},
   "outputs": [],
   "source": [
    "theory"
   ]
  },
  {
   "cell_type": "code",
   "execution_count": null,
   "metadata": {},
   "outputs": [],
   "source": [
    "true_mean[0]"
   ]
  },
  {
   "cell_type": "code",
   "execution_count": null,
   "metadata": {},
   "outputs": [],
   "source": [
    "plt.figure(figsize=[12,14])\n",
    "dex=0\n",
    "for aa in range(0,8):\n",
    "    plt.subplot(8,1,aa+1)\n",
    "    if aa==0:\n",
    "        plt.title(\"Mean and std for (predicted-truth)/truth\")\n",
    "    col = plt.cm.jet(dex/(len(set_k.data)-1))\n",
    "    dex+=1\n",
    "    plt.plot(k_test,true_mean[aa],color=col,label=\"z=%.2f\" % set_k.data[aa][\"z\"])\n",
    "    plt.axhspan(0.99,1.01,color=\"gray\",alpha=0.3)\n",
    "    plt.axhline(1,linestyle=\"dashed\",color=\"gray\")\n",
    "    plt.fill_between(k_test,true_mean[aa]+true_std[aa],\n",
    "            true_mean[aa]-true_std[aa],alpha=0.5,color=col)\n",
    "    plt.ylim(0.9,1.1)\n",
    "    plt.legend(loc=\"upper left\")\n",
    "    plt.xscale(\"log\")\n",
    "    if aa != 7:\n",
    "        plt.xticks([])\n",
    "plt.xlabel(\"k [1/Mpc]\")\n",
    "plt.tight_layout()\n",
    "#plt.savefig(\"/home/chris/Testbed/EmuScripts/CrossvalPlots/single_emu_true_error.pdf\")"
   ]
  },
  {
   "cell_type": "code",
   "execution_count": null,
   "metadata": {},
   "outputs": [],
   "source": [
    "plt.figure(figsize=[12,14])\n",
    "dex=0\n",
    "for aa in range(0,8):\n",
    "    plt.subplot(8,1,aa+1)\n",
    "    if aa==0:\n",
    "        plt.title(\"Mean and std of fractional emulator error\")\n",
    "    col = plt.cm.jet(dex/(len(set_k.data)-1))\n",
    "    dex+=1\n",
    "    plt.axhline(0,linestyle=\"dashed\",color=\"gray\",alpha=0.5)\n",
    "    plt.plot(k_test,theory_mean[aa]-1,color=col,label=\"z=%.2f\" % set_k.data[aa][\"z\"])\n",
    "    plt.fill_between(k_test,theory_mean[aa]+theory_std[aa]-1,\n",
    "            theory_mean[aa]-theory_std[aa]-1,alpha=0.5,color=col)\n",
    "    #plt.ylim(0.95,1.05)\n",
    "    plt.legend(loc=\"upper left\")\n",
    "    #plt.ylim(-0.05,2)\n",
    "    plt.xscale(\"log\")\n",
    "    #plt.yscale(\"log\")\n",
    "    if aa != 7:\n",
    "        plt.xticks([])\n",
    "plt.xlabel(\"k [1/Mpc]\")\n",
    "plt.tight_layout()\n",
    "#plt.savefig(\"/home/chris/Testbed/EmuScripts/CrossvalPlots/single_emu_theory_error.pdf\")"
   ]
  },
  {
   "cell_type": "code",
   "execution_count": null,
   "metadata": {},
   "outputs": [],
   "source": []
  }
 ],
 "metadata": {
  "kernelspec": {
   "display_name": "Python 3",
   "language": "python",
   "name": "python3"
  },
  "language_info": {
   "codemirror_mode": {
    "name": "ipython",
    "version": 3
   },
   "file_extension": ".py",
   "mimetype": "text/x-python",
   "name": "python",
   "nbconvert_exporter": "python",
   "pygments_lexer": "ipython3",
   "version": "3.5.2"
  }
 },
 "nbformat": 4,
 "nbformat_minor": 4
}
