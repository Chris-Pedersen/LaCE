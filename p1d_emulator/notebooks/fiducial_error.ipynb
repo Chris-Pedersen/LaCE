{
 "cells": [
  {
   "cell_type": "markdown",
   "metadata": {},
   "source": [
    "# Mock fit  error\n",
    "\n",
    "Notebook to look at the error returned on emulator predictions. For each emulator we train the emulator on all but one training point, then use that training point to test the prediction accuracy and precision. We test this on the redshift emulator for each redshift bin, and the complete set. We start off using no postprocessing rescalings."
   ]
  },
  {
   "cell_type": "code",
   "execution_count": null,
   "metadata": {},
   "outputs": [],
   "source": [
    "import numpy as np\n",
    "import sys\n",
    "import os\n",
    "import json\n",
    "import matplotlib.pyplot as plt\n",
    "import matplotlib as mpl\n",
    "import cProfile\n",
    "import emcee\n",
    "import corner\n",
    "# our own modules\n",
    "import simplest_emulator\n",
    "import linear_emulator\n",
    "import gp_emulator\n",
    "import data_PD2013\n",
    "import mean_flux_model\n",
    "import thermal_model\n",
    "import pressure_model\n",
    "import lya_theory\n",
    "import likelihood\n",
    "import emcee_sampler\n",
    "import data_MPGADGET\n",
    "import z_emulator\n",
    "import p1d_arxiv\n"
   ]
  },
  {
   "cell_type": "code",
   "execution_count": null,
   "metadata": {},
   "outputs": [],
   "source": [
    "# read P1D measurement\n",
    "z_list=np.array([2.0,2.25,2.5,2.75,3.25,3.5,4.0])\n",
    "data=data_MPGADGET.P1D_MPGADGET(z_list=z_list,filename=\"256_mock_199.json\")\n",
    "zs=data.z\n",
    "\n",
    "tau_values=[data.like_params[\"ln_tau_1\"],data.like_params[\"ln_tau_0\"]]\n",
    "gamma_values=[data.like_params[\"ln_gamma_1\"],data.like_params[\"ln_gamma_0\"]]\n",
    "T0_values=[data.like_params[\"T0_1\"],data.like_params[\"T0_2\"],data.like_params[\"T0_3\"]]\n",
    "kF_values=[data.like_params[\"ln_kF_1\"],data.like_params[\"ln_kF_0\"]]\n",
    "\n",
    "\n",
    "mf_model=mean_flux_model.MeanFluxModel(ln_tau_coeff=tau_values)\n",
    "thermal_model=thermal_model.ThermalModel(ln_gamma_coeff=gamma_values,\n",
    "                                ln_T0_coeff=T0_values)\n",
    "kF_model=pressure_model.PressureModel(ln_kF_coeff=kF_values)\n",
    "\n",
    "repo=os.environ['LYA_EMU_REPO']\n",
    "skewers_label='Ns256_wM0.05'\n",
    "#skewers_label=None\n",
    "basedir=repo+\"/p1d_emulator/sim_suites/emulator_256_28082019/\"\n",
    "#basedir=repo+\"/p1d_emulator/sim_suites/emulator_256_15072019/\"\n",
    "p1d_label=None\n",
    "undersample_z=1\n",
    "paramList=[\"mF\",\"sigT_Mpc\",\"gamma\",\"kF_Mpc\",\"Delta2_p\"]\n",
    "max_arxiv_size=None\n",
    "kmax_Mpc=8\n",
    "\n",
    "archive=p1d_arxiv.ArxivP1D(basedir=basedir,nsamples=199,\n",
    "                            drop_tau_rescalings=True,z_max=4,\n",
    "                            drop_temp_rescalings=True,skewers_label=skewers_label)\n",
    "\n",
    "emu=gp_emulator.GPEmulator(basedir,p1d_label,skewers_label,\n",
    "                                max_arxiv_size=max_arxiv_size,z_max=4,\n",
    "                                verbose=False,paramList=paramList,train=True,\n",
    "                                emu_type=\"k_bin\",z_list=z_list,passArxiv=archive,\n",
    "                                drop_tau_rescalings=True,\n",
    "                                drop_temp_rescalings=True)\n",
    "\n",
    "theory=lya_theory.LyaTheory(zs,emulator=emu,T_model_fid=thermal_model,\n",
    "                                            kF_model_fid=kF_model,\n",
    "                                            mf_model_fid=mf_model)\n",
    "\n",
    "\n",
    "free_parameters=['ln_tau_0','ln_tau_1']#,'ln_gamma_0','T0_1','T0_2','T0_3']\n",
    "\n",
    "like=likelihood.Likelihood(data=data,theory=theory,\n",
    "                            free_parameters=free_parameters,verbose=False,\n",
    "                            prior_Gauss_rms=0.15,min_kp_kms=0.0041)\n",
    "\n",
    "sampler = emcee_sampler.EmceeSampler(like=like,emulator=emu,\n",
    "                        free_parameters=free_parameters,verbose=True,\n",
    "                        nwalkers=100)\n",
    "\n",
    "like.plot_p1d()"
   ]
  }
 ],
 "metadata": {
  "kernelspec": {
   "display_name": "Python 3",
   "language": "python",
   "name": "python3"
  },
  "language_info": {
   "codemirror_mode": {
    "name": "ipython",
    "version": 3
   },
   "file_extension": ".py",
   "mimetype": "text/x-python",
   "name": "python",
   "nbconvert_exporter": "python",
   "pygments_lexer": "ipython3",
   "version": "3.5.2"
  }
 },
 "nbformat": 4,
 "nbformat_minor": 4
}
