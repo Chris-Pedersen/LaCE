{
 "cells": [
  {
   "cell_type": "markdown",
   "metadata": {},
   "source": [
    "# Extract skewers from snapshot"
   ]
  },
  {
   "cell_type": "code",
   "execution_count": 1,
   "metadata": {
    "collapsed": false
   },
   "outputs": [],
   "source": [
    "%matplotlib inline\n",
    "%load_ext autoreload\n",
    "%autoreload 2\n",
    "import numpy as np\n",
    "import sys\n",
    "import matplotlib.pyplot as plt\n",
    "import matplotlib as mpl\n",
    "mpl.rcParams['savefig.dpi'] = 120\n",
    "mpl.rcParams['figure.dpi'] = 120\n",
    "import extract_skewers\n",
    "import read_gadget\n",
    "import fake_spectra.griddedspectra as grid_spec"
   ]
  },
  {
   "cell_type": "markdown",
   "metadata": {},
   "source": [
    "### Start with a single snapshot, get skewers and compute mean flux"
   ]
  },
  {
   "cell_type": "code",
   "execution_count": 2,
   "metadata": {
    "collapsed": false
   },
   "outputs": [
    {
     "name": "stdout",
     "output_type": "stream",
     "text": [
      "Reloading from snapshot (will save to:  /Users/font/CosmoData/test_sim_emulator/test_march_2019//output/skewers/skewers_8_10_10.hdf5  )\n",
      "100  sightlines. resolution:  10  z= 3.500000045\n",
      "<F> = 0.454321588564\n",
      "No temperature data to save\n"
     ]
    }
   ],
   "source": [
    "basedir='/Users/font/CosmoData/test_sim_emulator/test_march_2019/'\n",
    "outdir=basedir+'/output/skewers/'\n",
    "test_snap_num=8\n",
    "n_skewers=10\n",
    "width_kms=10\n",
    "skewers=extract_skewers.get_skewers_snapshot(basedir,outdir,test_snap_num,n_skewers=n_skewers,width_kms=width_kms)\n",
    "print('<F> =',skewers.get_mean_flux())\n",
    "skewers.save_file()"
   ]
  },
  {
   "cell_type": "markdown",
   "metadata": {},
   "source": [
    "### Read skewers from file and compute mean flux"
   ]
  },
  {
   "cell_type": "code",
   "execution_count": 3,
   "metadata": {
    "collapsed": false
   },
   "outputs": [
    {
     "name": "stdout",
     "output_type": "stream",
     "text": [
      "Save file has no temperature data saved!\n",
      "100  sightlines. resolution:  10.0221065884  z= 3.500000045\n",
      "<F> = 0.454321588564\n"
     ]
    }
   ],
   "source": [
    "sim_directory=basedir+'output/'\n",
    "spectra_name=\"skewers_\"+str(test_snap_num)+\"_\"+str(n_skewers)+\"_\"+str(width_kms)+'.hdf5'\n",
    "skewers_from_file = grid_spec.GriddedSpectra(test_snap_num,sim_directory,\n",
    "                savefile=spectra_name,savedir=outdir,reload_file=False)\n",
    "print('<F> =',skewers.get_mean_flux())"
   ]
  },
  {
   "cell_type": "markdown",
   "metadata": {},
   "source": [
    "### Loop over all snapshots and plot $<F>(z)$\n"
   ]
  },
  {
   "cell_type": "code",
   "execution_count": 4,
   "metadata": {
    "collapsed": false
   },
   "outputs": [],
   "source": [
    "paramfile=basedir+'paramfile.gadget'\n",
    "zs=read_gadget.redshifts_from_paramfile(paramfile)\n",
    "Nsnap=len(zs)"
   ]
  },
  {
   "cell_type": "code",
   "execution_count": 5,
   "metadata": {
    "collapsed": false
   },
   "outputs": [
    {
     "name": "stdout",
     "output_type": "stream",
     "text": [
      "Reloading from snapshot (will save to:  /Users/font/CosmoData/test_sim_emulator/test_march_2019//output/skewers/skewers_2_10_10.hdf5  )\n",
      "100  sightlines. resolution:  10  z= 4.99999988\n",
      "No temperature data to save\n",
      "Reloading from snapshot (will save to:  /Users/font/CosmoData/test_sim_emulator/test_march_2019//output/skewers/skewers_3_10_10.hdf5  )\n",
      "100  sightlines. resolution:  10  z= 4.750000115\n",
      "No temperature data to save\n",
      "Reloading from snapshot (will save to:  /Users/font/CosmoData/test_sim_emulator/test_march_2019//output/skewers/skewers_4_10_10.hdf5  )\n",
      "100  sightlines. resolution:  10  z= 4.500000055\n",
      "No temperature data to save\n",
      "Reloading from snapshot (will save to:  /Users/font/CosmoData/test_sim_emulator/test_march_2019//output/skewers/skewers_5_10_10.hdf5  )\n",
      "100  sightlines. resolution:  10  z= 4.25000001313\n",
      "No temperature data to save\n",
      "Reloading from snapshot (will save to:  /Users/font/CosmoData/test_sim_emulator/test_march_2019//output/skewers/skewers_6_10_10.hdf5  )\n",
      "100  sightlines. resolution:  10  z= 4.0\n",
      "No temperature data to save\n",
      "Reloading from snapshot (will save to:  /Users/font/CosmoData/test_sim_emulator/test_march_2019//output/skewers/skewers_7_10_10.hdf5  )\n",
      "100  sightlines. resolution:  10  z= 3.749999905\n",
      "No temperature data to save\n",
      "Reloading from snapshot (will save to:  /Users/font/CosmoData/test_sim_emulator/test_march_2019//output/skewers/skewers_8_10_10.hdf5  )\n",
      "100  sightlines. resolution:  10  z= 3.500000045\n",
      "No temperature data to save\n",
      "Reloading from snapshot (will save to:  /Users/font/CosmoData/test_sim_emulator/test_march_2019//output/skewers/skewers_9_10_10.hdf5  )\n",
      "100  sightlines. resolution:  10  z= 3.2499999575\n",
      "No temperature data to save\n",
      "Reloading from snapshot (will save to:  /Users/font/CosmoData/test_sim_emulator/test_march_2019//output/skewers/skewers_10_10_10.hdf5  )\n",
      "100  sightlines. resolution:  10  z= 3.0\n",
      "No temperature data to save\n",
      "Reloading from snapshot (will save to:  /Users/font/CosmoData/test_sim_emulator/test_march_2019//output/skewers/skewers_11_10_10.hdf5  )\n",
      "100  sightlines. resolution:  10  z= 2.74999995313\n",
      "No temperature data to save\n",
      "Reloading from snapshot (will save to:  /Users/font/CosmoData/test_sim_emulator/test_march_2019//output/skewers/skewers_12_10_10.hdf5  )\n",
      "100  sightlines. resolution:  10  z= 2.4999999475\n",
      "No temperature data to save\n",
      "Reloading from snapshot (will save to:  /Users/font/CosmoData/test_sim_emulator/test_march_2019//output/skewers/skewers_13_10_10.hdf5  )\n",
      "100  sightlines. resolution:  10  z= 2.24999997562\n",
      "No temperature data to save\n",
      "Reloading from snapshot (will save to:  /Users/font/CosmoData/test_sim_emulator/test_march_2019//output/skewers/skewers_14_10_10.hdf5  )\n",
      "100  sightlines. resolution:  10  z= 2.000000003\n",
      "No temperature data to save\n"
     ]
    }
   ],
   "source": [
    "zmax=6.0\n",
    "mf_val=[]\n",
    "mf_zs=[]\n",
    "mf_snaps=[]\n",
    "for num in range(Nsnap):\n",
    "    z=zs[num]\n",
    "    if z < zmax:\n",
    "        skewers=extract_skewers.get_skewers_snapshot(basedir,outdir,num,n_skewers=n_skewers,width_kms=width_kms)\n",
    "        mf=skewers.get_mean_flux()\n",
    "        mf_val.append(mf)\n",
    "        mf_zs.append(z)\n",
    "        mf_snaps.append(num)\n",
    "        skewers.save_file()       "
   ]
  },
  {
   "cell_type": "code",
   "execution_count": 6,
   "metadata": {
    "collapsed": false
   },
   "outputs": [
    {
     "data": {
      "text/plain": [
       "<matplotlib.text.Text at 0x111115128>"
      ]
     },
     "execution_count": 6,
     "metadata": {},
     "output_type": "execute_result"
    },
    {
     "data": {
      "image/png": "[encoded data removed]",
      "text/plain": [
       "<matplotlib.figure.Figure at 0x110452eb8>"
      ]
     },
     "metadata": {},
     "output_type": "display_data"
    }
   ],
   "source": [
    "plt.plot(np.array(mf_zs),np.array(mf_val),'o')\n",
    "plt.xlabel('z')\n",
    "plt.ylabel(r'$\\bar F(z)$')\n",
    "plt.title('Mean flux evolution')"
   ]
  },
  {
   "cell_type": "code",
   "execution_count": null,
   "metadata": {
    "collapsed": true
   },
   "outputs": [],
   "source": []
  }
 ],
 "metadata": {
  "kernelspec": {
   "display_name": "Python 3",
   "language": "python",
   "name": "python3"
  },
  "language_info": {
   "codemirror_mode": {
    "name": "ipython",
    "version": 3
   },
   "file_extension": ".py",
   "mimetype": "text/x-python",
   "name": "python",
   "nbconvert_exporter": "python",
   "pygments_lexer": "ipython3",
   "version": "3.6.7"
  }
 },
 "nbformat": 4,
 "nbformat_minor": 2
}
