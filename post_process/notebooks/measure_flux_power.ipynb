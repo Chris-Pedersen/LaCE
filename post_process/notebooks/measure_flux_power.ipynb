{
 "cells": [
  {
   "cell_type": "markdown",
   "metadata": {},
   "source": [
    "# Rescale optical depth and compute 1D power spectrum"
   ]
  },
  {
   "cell_type": "code",
   "execution_count": 1,
   "metadata": {
    "collapsed": false
   },
   "outputs": [],
   "source": [
    "%matplotlib inline\n",
    "%load_ext autoreload\n",
    "%autoreload 2\n",
    "import numpy as np\n",
    "import sys\n",
    "import matplotlib.pyplot as plt\n",
    "import matplotlib as mpl\n",
    "mpl.rcParams['savefig.dpi'] = 120\n",
    "mpl.rcParams['figure.dpi'] = 120\n",
    "import extract_skewers\n",
    "import read_gadget\n",
    "import fake_spectra.tempdens as tdr\n",
    "import fake_spectra.griddedspectra as grid_spec"
   ]
  },
  {
   "cell_type": "markdown",
   "metadata": {},
   "source": [
    "### Read a single snapshot, look at different temperatures "
   ]
  },
  {
   "cell_type": "code",
   "execution_count": 2,
   "metadata": {
    "collapsed": false
   },
   "outputs": [],
   "source": [
    "basedir='/Users/font/CosmoData/test_sim_emulator/test_march_2019/'\n",
    "skewers_dir=basedir+'/output/skewers/'\n",
    "test_snap_num=8\n",
    "n_skewers=10\n",
    "width_Mpc=0.1"
   ]
  },
  {
   "cell_type": "code",
   "execution_count": 3,
   "metadata": {
    "collapsed": true
   },
   "outputs": [],
   "source": [
    "# list of temperature scalings\n",
    "scales_T0=[0.8,1.0,1.2]\n",
    "#scales_gamma=[0.8,1.0,1.2]\n",
    "scales_gamma=[1.0]"
   ]
  },
  {
   "cell_type": "code",
   "execution_count": 5,
   "metadata": {
    "collapsed": false
   },
   "outputs": [
    {
     "name": "stdout",
     "output_type": "stream",
     "text": [
      "skewers_8_Ns10_wM0.1_sT0.8_sg1.0.hdf5\n",
      "skewers_8_Ns10_wM0.1_sT1.0_sg1.0.hdf5\n",
      "skewers_8_Ns10_wM0.1_sT1.2_sg1.0.hdf5\n"
     ]
    }
   ],
   "source": [
    "for scale_T0 in scales_T0:\n",
    "    for scale_gamma in scales_gamma:\n",
    "        sk_filename=extract_skewers.get_skewers_filename(test_snap_num,n_skewers,width_Mpc,scale_T0,scale_gamma)\n",
    "        print(sk_filename)"
   ]
  },
  {
   "cell_type": "code",
   "execution_count": null,
   "metadata": {
    "collapsed": true
   },
   "outputs": [],
   "source": []
  }
 ],
 "metadata": {
  "kernelspec": {
   "display_name": "Python 3",
   "language": "python",
   "name": "python3"
  },
  "language_info": {
   "codemirror_mode": {
    "name": "ipython",
    "version": 3
   },
   "file_extension": ".py",
   "mimetype": "text/x-python",
   "name": "python",
   "nbconvert_exporter": "python",
   "pygments_lexer": "ipython3",
   "version": "3.6.7"
  }
 },
 "nbformat": 4,
 "nbformat_minor": 2
}
